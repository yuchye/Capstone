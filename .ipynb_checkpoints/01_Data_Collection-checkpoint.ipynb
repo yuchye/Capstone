{
 "cells": [
  {
   "cell_type": "markdown",
   "metadata": {},
   "source": [
    "# Capstone Project: Classifying clinically actionable genetic mutations"
   ]
  },
  {
   "cell_type": "markdown",
   "metadata": {},
   "source": [
    "## Problem Statement"
   ]
  },
  {
   "cell_type": "markdown",
   "metadata": {},
   "source": [
    "I will build and train a classifier to propose the correct classification of genetic variations based on an expert-annotated knowledge base of cancer mutation annotations and related biomedical terms, so that clinical pathologists can spend less effort manually reviewing medical literature to make the classification. The model performance will be guided by the best accuracy and AUC scores, and the model should improve upon the baseline by at least 10% - the baseline being defined as the proportion of each variant class in the given training set."
   ]
  },
  {
   "cell_type": "markdown",
   "metadata": {},
   "source": [
    "- Identifies which of the three proposals you outlined in your lightning talk you have chosen\n",
    "- Articulates the main goal of your project (your problem statement)\n",
    "- Outlines your proposed methods and models\n",
    "- Defines the risks & assumptions of your data \n",
    "- Revises initial goals & success criteria, as needed\n",
    "- Documents your data source\n",
    "- Performs & summarizes preliminary EDA of your data"
   ]
  },
  {
   "cell_type": "markdown",
   "metadata": {},
   "source": [
    "Related topics that I've touched on:\n",
    "- [Increasing weights of words in CountVectorizer](https://stackoverflow.com/questions/49687009/how-to-increase-weight-of-a-word-for-countvectorizer)\n",
    "    - [Cosine Similarity](https://en.wikipedia.org/wiki/Cosine_similarity)"
   ]
  },
  {
   "cell_type": "markdown",
   "metadata": {},
   "source": [
    "Topics to explore further:\n",
    "- Pre-trained POS tagger (NLTK maxent_treebank_pos_tagger)\n",
    "- Dependency Parse Trees (takes POS tags as inputs)\n",
    "- Named Entity Detection (either use NLTK pre-trained model, or consider using BEST or ClinVar)\n",
    "- Multi-layer Perceptron (basic neural network)\n",
    "- [Dealing with imbalanced classes](https://towardsdatascience.com/methods-for-dealing-with-imbalanced-data-5b761be45a18)\n",
    "- Word Embeddings: a representation of text where words that have the same meaning have a similar representation. In other words it represents words in a coordinate system where related words, based on a corpus of relationships, are placed closer together.\n",
    "- [Word Embedding & Sentiment Classification using Keras](https://towardsdatascience.com/machine-learning-word-embedding-sentiment-classification-using-keras-b83c28087456)"
   ]
  },
  {
   "cell_type": "markdown",
   "metadata": {},
   "source": [
    "## Step 1: Data Collection"
   ]
  },
  {
   "cell_type": "markdown",
   "metadata": {},
   "source": [
    "### Data Sources"
   ]
  },
  {
   "cell_type": "markdown",
   "metadata": {},
   "source": [
    "1. [Kaggle training datasets](https://www.kaggle.com/c/msk-redefining-cancer-treatment/data):\n",
    "    - \"training_text\": a double pipe (||) delimited file that contains 3,322 rows of clinical evidence (text) used to classify genetic mutations.\n",
    "    - \"training_variants\": a comma separated file containing 3,322 rows of descriptions of the genetic mutations used for training.\n",
    "\n",
    "\n",
    "2. [Kaggle testing datasets](https://www.kaggle.com/c/msk-redefining-cancer-treatment/data):\n",
    "    - \"test_test\": a double pipe (||) delimited file that contains 3,322 rows of clinical evidence (text) used to classify genetic mutations.\n",
    "    - \"test_variants\": a comma separated file containing 2,954 rows of descriptions of the genetic mutations used for testing.\n",
    "\n",
    "\n",
    "3. US National Centre for Biotechnology Information (NCBI) [Entrez API](https://www.ncbi.nlm.nih.gov/clinvar/docs/maintenance_use/#web):\n",
    "    - used to retrieve disease and severity information based on a given variant\n",
    "\n",
    "\n",
    "4. [Biomedical Entity Search Tool (BEST)](http://best.korea.ac.kr/)\n",
    "    - used to find related biomedical terms (i.e. diseases, drugs, drug targets, transcription factors and miRNAs) related to specific genes and variants"
   ]
  },
  {
   "cell_type": "code",
   "execution_count": null,
   "metadata": {},
   "outputs": [],
   "source": []
  },
  {
   "cell_type": "code",
   "execution_count": null,
   "metadata": {},
   "outputs": [],
   "source": []
  },
  {
   "cell_type": "code",
   "execution_count": null,
   "metadata": {},
   "outputs": [],
   "source": []
  },
  {
   "cell_type": "code",
   "execution_count": null,
   "metadata": {},
   "outputs": [],
   "source": []
  },
  {
   "cell_type": "code",
   "execution_count": null,
   "metadata": {},
   "outputs": [],
   "source": []
  }
 ],
 "metadata": {
  "kernelspec": {
   "display_name": "Python 3",
   "language": "python",
   "name": "python3"
  },
  "language_info": {
   "codemirror_mode": {
    "name": "ipython",
    "version": 3
   },
   "file_extension": ".py",
   "mimetype": "text/x-python",
   "name": "python",
   "nbconvert_exporter": "python",
   "pygments_lexer": "ipython3",
   "version": "3.7.4"
  }
 },
 "nbformat": 4,
 "nbformat_minor": 2
}
