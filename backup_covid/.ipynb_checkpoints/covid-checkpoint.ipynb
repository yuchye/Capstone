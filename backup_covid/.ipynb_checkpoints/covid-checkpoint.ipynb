{
 "cells": [
  {
   "cell_type": "markdown",
   "metadata": {},
   "source": [
    "# Capstone Project Backup: Analysis of Confirmed COVID-19 Cases in Singapore"
   ]
  },
  {
   "cell_type": "markdown",
   "metadata": {},
   "source": [
    "## Importing of Libraries"
   ]
  },
  {
   "cell_type": "code",
   "execution_count": 1,
   "metadata": {},
   "outputs": [
    {
     "name": "stderr",
     "output_type": "stream",
     "text": [
      "C:\\Users\\yuchy\\Anaconda3\\lib\\site-packages\\statsmodels\\tools\\_testing.py:19: FutureWarning: pandas.util.testing is deprecated. Use the functions in the public API at pandas.testing instead.\n",
      "  import pandas.util.testing as tm\n"
     ]
    }
   ],
   "source": [
    "import pandas as pd\n",
    "import numpy as np\n",
    "import matplotlib\n",
    "import matplotlib.pyplot as plt\n",
    "import seaborn as sns\n",
    "\n",
    "import re\n",
    "import requests\n",
    "import urllib.request\n",
    "import time\n",
    "from bs4 import BeautifulSoup\n",
    "from urllib.request import urlopen\n",
    "\n",
    "plt.style.use('fivethirtyeight')\n",
    "\n",
    "%config InlineBackend.figure_format = 'retina'\n",
    "%matplotlib inline"
   ]
  },
  {
   "cell_type": "markdown",
   "metadata": {},
   "source": [
    "## Data Collection"
   ]
  },
  {
   "cell_type": "code",
   "execution_count": 2,
   "metadata": {},
   "outputs": [],
   "source": [
    "url = 'https://en.wikipedia.org/wiki/2020_coronavirus_pandemic_in_Singapore'\n",
    "html = urlopen(url) \n",
    "soup = BeautifulSoup(html, 'html.parser')"
   ]
  },
  {
   "cell_type": "code",
   "execution_count": 3,
   "metadata": {},
   "outputs": [],
   "source": [
    "soup = soup.find(\"table\", {\"class\":\"wikitable sortable mw-collapsible mw-collapsed\"})"
   ]
  },
  {
   "cell_type": "code",
   "execution_count": 4,
   "metadata": {},
   "outputs": [],
   "source": [
    "soup = soup.find(\"tbody\")"
   ]
  },
  {
   "cell_type": "code",
   "execution_count": 5,
   "metadata": {},
   "outputs": [],
   "source": [
    "data = [tag.text.strip() for tag in soup.find_all('td')]\n",
    "data = data[:-1]"
   ]
  },
  {
   "cell_type": "code",
   "execution_count": 6,
   "metadata": {},
   "outputs": [
    {
     "data": {
      "text/plain": [
       "['1',\n",
       " '23 January 2020',\n",
       " 'Discharged on 19 February 2020',\n",
       " '66',\n",
       " 'Male',\n",
       " 'China',\n",
       " 'Imported',\n",
       " \"Shangri-La's Rasa Sentosa Resort & Spa, South West\",\n",
       " 'Singapore General Hospital',\n",
       " 'Yes',\n",
       " '[24][25]']"
      ]
     },
     "execution_count": 6,
     "metadata": {},
     "output_type": "execute_result"
    }
   ],
   "source": [
    "# Show first row of the wikipedia table\n",
    "data[0:11]"
   ]
  },
  {
   "cell_type": "code",
   "execution_count": 7,
   "metadata": {},
   "outputs": [],
   "source": [
    "confirmed_cases = []\n",
    "for item in range(0,int(len(data)/11)):\n",
    "    confirmed_case = {}\n",
    "    confirmed_case['case_num'] = data[item*11]\n",
    "    confirmed_case['date_announced'] = data[item*11+1]\n",
    "    confirmed_case['date_discharged'] = data[item*11+2]\n",
    "    confirmed_case['age'] = data[item*11+3]\n",
    "    confirmed_case['gender'] = data[item*11+4]\n",
    "    confirmed_case['nationality'] = data[item*11+5]\n",
    "    confirmed_case['case_relation'] = data[item*11+6]\n",
    "    confirmed_case['place_of_stay'] = data[item*11+7]\n",
    "    confirmed_case['hospitals_visited'] = data[item*11+8]\n",
    "    confirmed_case['visited_affected_areas'] = data[item*11+9]\n",
    "    confirmed_case['source'] = data[item*11+10]\n",
    "    confirmed_cases.append(confirmed_case)\n",
    "covid = pd.DataFrame(confirmed_cases)"
   ]
  },
  {
   "cell_type": "code",
   "execution_count": 8,
   "metadata": {},
   "outputs": [
    {
     "data": {
      "text/html": [
       "<div>\n",
       "<style scoped>\n",
       "    .dataframe tbody tr th:only-of-type {\n",
       "        vertical-align: middle;\n",
       "    }\n",
       "\n",
       "    .dataframe tbody tr th {\n",
       "        vertical-align: top;\n",
       "    }\n",
       "\n",
       "    .dataframe thead th {\n",
       "        text-align: right;\n",
       "    }\n",
       "</style>\n",
       "<table border=\"1\" class=\"dataframe\">\n",
       "  <thead>\n",
       "    <tr style=\"text-align: right;\">\n",
       "      <th></th>\n",
       "      <th>case_num</th>\n",
       "      <th>date_announced</th>\n",
       "      <th>date_discharged</th>\n",
       "      <th>age</th>\n",
       "      <th>gender</th>\n",
       "      <th>nationality</th>\n",
       "      <th>case_relation</th>\n",
       "      <th>place_of_stay</th>\n",
       "      <th>hospitals_visited</th>\n",
       "      <th>visited_affected_areas</th>\n",
       "      <th>source</th>\n",
       "    </tr>\n",
       "  </thead>\n",
       "  <tbody>\n",
       "    <tr>\n",
       "      <th>0</th>\n",
       "      <td>1</td>\n",
       "      <td>23 January 2020</td>\n",
       "      <td>Discharged on 19 February 2020</td>\n",
       "      <td>66</td>\n",
       "      <td>Male</td>\n",
       "      <td>China</td>\n",
       "      <td>Imported</td>\n",
       "      <td>Shangri-La's Rasa Sentosa Resort &amp; Spa, South ...</td>\n",
       "      <td>Singapore General Hospital</td>\n",
       "      <td>Yes</td>\n",
       "      <td>[24][25]</td>\n",
       "    </tr>\n",
       "    <tr>\n",
       "      <th>1</th>\n",
       "      <td>2</td>\n",
       "      <td>24 January 2020</td>\n",
       "      <td>Discharged on 7 February 2020</td>\n",
       "      <td>53</td>\n",
       "      <td>Female</td>\n",
       "      <td>China</td>\n",
       "      <td>Imported</td>\n",
       "      <td>J8 Hotel, Central</td>\n",
       "      <td>National Centre for Infectious Diseases</td>\n",
       "      <td>Yes</td>\n",
       "      <td>[26][27]</td>\n",
       "    </tr>\n",
       "    <tr>\n",
       "      <th>2</th>\n",
       "      <td>3</td>\n",
       "      <td>24 January 2020</td>\n",
       "      <td>Discharged on 21 February 2020</td>\n",
       "      <td>37</td>\n",
       "      <td>Male</td>\n",
       "      <td>China</td>\n",
       "      <td>ImportedSon of case 1[28]</td>\n",
       "      <td>Shangri-La's Rasa Sentosa Resort &amp; Spa, South ...</td>\n",
       "      <td>Singapore General Hospital</td>\n",
       "      <td>Yes</td>\n",
       "      <td>[26][29]</td>\n",
       "    </tr>\n",
       "    <tr>\n",
       "      <th>3</th>\n",
       "      <td>4</td>\n",
       "      <td>26 January 2020</td>\n",
       "      <td>Discharged on 12 February 2020</td>\n",
       "      <td>36</td>\n",
       "      <td>Male</td>\n",
       "      <td>China</td>\n",
       "      <td>Imported</td>\n",
       "      <td>Village Hotel Sentosa, South West</td>\n",
       "      <td>Sengkang General Hospital</td>\n",
       "      <td>Yes</td>\n",
       "      <td>[30][31]</td>\n",
       "    </tr>\n",
       "    <tr>\n",
       "      <th>4</th>\n",
       "      <td>5</td>\n",
       "      <td>27 January 2020</td>\n",
       "      <td>Discharged on 18 February 2020</td>\n",
       "      <td>56</td>\n",
       "      <td>Female</td>\n",
       "      <td>China</td>\n",
       "      <td>Imported</td>\n",
       "      <td>Home at Ceylon Road, South East</td>\n",
       "      <td>National Centre for Infectious Diseases</td>\n",
       "      <td>Yes</td>\n",
       "      <td>[32][33]</td>\n",
       "    </tr>\n",
       "  </tbody>\n",
       "</table>\n",
       "</div>"
      ],
      "text/plain": [
       "  case_num   date_announced                 date_discharged age  gender  \\\n",
       "0        1  23 January 2020  Discharged on 19 February 2020  66    Male   \n",
       "1        2  24 January 2020   Discharged on 7 February 2020  53  Female   \n",
       "2        3  24 January 2020  Discharged on 21 February 2020  37    Male   \n",
       "3        4  26 January 2020  Discharged on 12 February 2020  36    Male   \n",
       "4        5  27 January 2020  Discharged on 18 February 2020  56  Female   \n",
       "\n",
       "  nationality              case_relation  \\\n",
       "0       China                   Imported   \n",
       "1       China                   Imported   \n",
       "2       China  ImportedSon of case 1[28]   \n",
       "3       China                   Imported   \n",
       "4       China                   Imported   \n",
       "\n",
       "                                       place_of_stay  \\\n",
       "0  Shangri-La's Rasa Sentosa Resort & Spa, South ...   \n",
       "1                                  J8 Hotel, Central   \n",
       "2  Shangri-La's Rasa Sentosa Resort & Spa, South ...   \n",
       "3                  Village Hotel Sentosa, South West   \n",
       "4                    Home at Ceylon Road, South East   \n",
       "\n",
       "                         hospitals_visited visited_affected_areas    source  \n",
       "0               Singapore General Hospital                    Yes  [24][25]  \n",
       "1  National Centre for Infectious Diseases                    Yes  [26][27]  \n",
       "2               Singapore General Hospital                    Yes  [26][29]  \n",
       "3                Sengkang General Hospital                    Yes  [30][31]  \n",
       "4  National Centre for Infectious Diseases                    Yes  [32][33]  "
      ]
     },
     "execution_count": 8,
     "metadata": {},
     "output_type": "execute_result"
    }
   ],
   "source": [
    "covid.head()"
   ]
  },
  {
   "cell_type": "code",
   "execution_count": 9,
   "metadata": {},
   "outputs": [
    {
     "data": {
      "text/html": [
       "<div>\n",
       "<style scoped>\n",
       "    .dataframe tbody tr th:only-of-type {\n",
       "        vertical-align: middle;\n",
       "    }\n",
       "\n",
       "    .dataframe tbody tr th {\n",
       "        vertical-align: top;\n",
       "    }\n",
       "\n",
       "    .dataframe thead th {\n",
       "        text-align: right;\n",
       "    }\n",
       "</style>\n",
       "<table border=\"1\" class=\"dataframe\">\n",
       "  <thead>\n",
       "    <tr style=\"text-align: right;\">\n",
       "      <th></th>\n",
       "      <th>case_num</th>\n",
       "      <th>date_announced</th>\n",
       "      <th>date_discharged</th>\n",
       "      <th>age</th>\n",
       "      <th>gender</th>\n",
       "      <th>nationality</th>\n",
       "      <th>case_relation</th>\n",
       "      <th>place_of_stay</th>\n",
       "      <th>hospitals_visited</th>\n",
       "      <th>visited_affected_areas</th>\n",
       "      <th>source</th>\n",
       "    </tr>\n",
       "  </thead>\n",
       "  <tbody>\n",
       "    <tr>\n",
       "      <th>508</th>\n",
       "      <td>509</td>\n",
       "      <td>23 March 2020</td>\n",
       "      <td></td>\n",
       "      <td>53</td>\n",
       "      <td>Male</td>\n",
       "      <td>Singapore</td>\n",
       "      <td>ImportedContact of case 212</td>\n",
       "      <td>Visited Indonesia</td>\n",
       "      <td>National Centre for Infectious Diseases</td>\n",
       "      <td>Yes</td>\n",
       "      <td>[82][94]</td>\n",
       "    </tr>\n",
       "  </tbody>\n",
       "</table>\n",
       "</div>"
      ],
      "text/plain": [
       "    case_num date_announced date_discharged age gender nationality  \\\n",
       "508      509  23 March 2020                  53   Male   Singapore   \n",
       "\n",
       "                   case_relation      place_of_stay  \\\n",
       "508  ImportedContact of case 212  Visited Indonesia   \n",
       "\n",
       "                           hospitals_visited visited_affected_areas    source  \n",
       "508  National Centre for Infectious Diseases                    Yes  [82][94]  "
      ]
     },
     "execution_count": 9,
     "metadata": {},
     "output_type": "execute_result"
    }
   ],
   "source": [
    "covid.tail(1)"
   ]
  },
  {
   "cell_type": "markdown",
   "metadata": {},
   "source": [
    "## Data Cleaning & Munging"
   ]
  },
  {
   "cell_type": "code",
   "execution_count": 10,
   "metadata": {},
   "outputs": [
    {
     "name": "stdout",
     "output_type": "stream",
     "text": [
      "<class 'pandas.core.frame.DataFrame'>\n",
      "RangeIndex: 509 entries, 0 to 508\n",
      "Data columns (total 11 columns):\n",
      " #   Column                  Non-Null Count  Dtype \n",
      "---  ------                  --------------  ----- \n",
      " 0   case_num                509 non-null    object\n",
      " 1   date_announced          509 non-null    object\n",
      " 2   date_discharged         509 non-null    object\n",
      " 3   age                     509 non-null    object\n",
      " 4   gender                  509 non-null    object\n",
      " 5   nationality             509 non-null    object\n",
      " 6   case_relation           509 non-null    object\n",
      " 7   place_of_stay           509 non-null    object\n",
      " 8   hospitals_visited       509 non-null    object\n",
      " 9   visited_affected_areas  509 non-null    object\n",
      " 10  source                  509 non-null    object\n",
      "dtypes: object(11)\n",
      "memory usage: 43.9+ KB\n"
     ]
    }
   ],
   "source": [
    "covid.info()"
   ]
  },
  {
   "cell_type": "code",
   "execution_count": 11,
   "metadata": {},
   "outputs": [],
   "source": [
    "covid['case_num'] = covid['case_num'].astype(int)"
   ]
  },
  {
   "cell_type": "code",
   "execution_count": 12,
   "metadata": {},
   "outputs": [],
   "source": [
    "covid['date_announced'] = pd.to_datetime(covid['date_announced'])"
   ]
  },
  {
   "cell_type": "code",
   "execution_count": 13,
   "metadata": {},
   "outputs": [],
   "source": [
    "def extract_date(string):\n",
    "    try:\n",
    "        date_string = re.search(\"(\\d+)[ ](\\w+)[ ](\\d+)\", string).group(0)\n",
    "    except AttributeError:\n",
    "        date_string = \"\"\n",
    "    return date_string"
   ]
  },
  {
   "cell_type": "code",
   "execution_count": 14,
   "metadata": {},
   "outputs": [],
   "source": [
    "covid['date_discharged'] = covid['date_discharged'].map(lambda x: extract_date(x))\n",
    "covid['date_discharged'] = pd.to_datetime(covid['date_discharged'])"
   ]
  },
  {
   "cell_type": "code",
   "execution_count": 15,
   "metadata": {},
   "outputs": [],
   "source": [
    "covid['age'] = covid['age'].astype(float) # note that we convert to float as there is a case of age = '0.5'"
   ]
  },
  {
   "cell_type": "code",
   "execution_count": 16,
   "metadata": {},
   "outputs": [],
   "source": [
    "covid['is_male'] = covid['gender'].map(lambda value:True if value==\"Male\" else False)\n",
    "covid.drop(columns='gender', inplace=True)"
   ]
  },
  {
   "cell_type": "code",
   "execution_count": 17,
   "metadata": {},
   "outputs": [
    {
     "data": {
      "text/plain": [
       "Visited United Kingdom                                                                     94\n",
       "                                                                                           48\n",
       "Visited United States                                                                      22\n",
       "Visited Indonesia                                                                          18\n",
       "Visited Malaysia                                                                           10\n",
       "                                                                                           ..\n",
       "Worked at 56 Senang Crescent, South EastHome at Jurong West Street 64, South West           1\n",
       "Visited MalaysiaWorked at Masjid Al-MuttaqinHome at Bukit Panjang Ring Road, North West     1\n",
       "Home at Upper Bukit Timah Road, North West                                                  1\n",
       "Home at Sembawang Drive, North West                                                         1\n",
       "Visited France and SpainHome at Jalan Haji Salam, South East                                1\n",
       "Name: place_of_stay, Length: 257, dtype: int64"
      ]
     },
     "execution_count": 17,
     "metadata": {},
     "output_type": "execute_result"
    }
   ],
   "source": [
    "covid['place_of_stay'].value_counts()"
   ]
  },
  {
   "cell_type": "code",
   "execution_count": 18,
   "metadata": {},
   "outputs": [],
   "source": [
    "covid['place_of_stay'] = covid['place_of_stay'].replace(\"\", \"Unspecified\")"
   ]
  },
  {
   "cell_type": "code",
   "execution_count": 19,
   "metadata": {},
   "outputs": [
    {
     "data": {
      "text/plain": [
       "Visited United Kingdom                                                                     94\n",
       "Unspecified                                                                                48\n",
       "Visited United States                                                                      22\n",
       "Visited Indonesia                                                                          18\n",
       "Visited Malaysia                                                                           10\n",
       "                                                                                           ..\n",
       "Visited Germany, United States, France, Monaco                                              1\n",
       "Worked at 56 Senang Crescent, South EastHome at Jurong West Street 64, South West           1\n",
       "Visited MalaysiaWorked at Masjid Al-MuttaqinHome at Bukit Panjang Ring Road, North West     1\n",
       "Home at Upper Bukit Timah Road, North West                                                  1\n",
       "Visited PhilippinesWorked at dnata CargoHome at Flora Drive, North East                     1\n",
       "Name: place_of_stay, Length: 257, dtype: int64"
      ]
     },
     "execution_count": 19,
     "metadata": {},
     "output_type": "execute_result"
    }
   ],
   "source": [
    "covid['place_of_stay'].value_counts()"
   ]
  },
  {
   "cell_type": "code",
   "execution_count": 20,
   "metadata": {},
   "outputs": [
    {
     "data": {
      "text/plain": [
       "No     284\n",
       "Yes    201\n",
       "        24\n",
       "Name: visited_affected_areas, dtype: int64"
      ]
     },
     "execution_count": 20,
     "metadata": {},
     "output_type": "execute_result"
    }
   ],
   "source": [
    "covid['visited_affected_areas'].value_counts()"
   ]
  },
  {
   "cell_type": "code",
   "execution_count": 21,
   "metadata": {},
   "outputs": [],
   "source": [
    "covid['visited_affected_areas'] = covid['visited_affected_areas'].replace(\"\", \"Unspecified\")"
   ]
  },
  {
   "cell_type": "code",
   "execution_count": 22,
   "metadata": {},
   "outputs": [
    {
     "data": {
      "text/plain": [
       "No             284\n",
       "Yes            201\n",
       "Unspecified     24\n",
       "Name: visited_affected_areas, dtype: int64"
      ]
     },
     "execution_count": 22,
     "metadata": {},
     "output_type": "execute_result"
    }
   ],
   "source": [
    "covid['visited_affected_areas'].value_counts()"
   ]
  },
  {
   "cell_type": "code",
   "execution_count": 23,
   "metadata": {},
   "outputs": [],
   "source": [
    "# Reorder columns to mirror the wikipedia table\n",
    "covid = covid [['case_num',\\\n",
    "                'date_announced',\\\n",
    "                'date_discharged',\\\n",
    "                'age',\\\n",
    "                'is_male',\\\n",
    "                'nationality',\\\n",
    "                'case_relation',\\\n",
    "                'place_of_stay',\\\n",
    "                'hospitals_visited',\\\n",
    "                'visited_affected_areas',\\\n",
    "                'source']]"
   ]
  },
  {
   "cell_type": "code",
   "execution_count": 24,
   "metadata": {},
   "outputs": [
    {
     "name": "stdout",
     "output_type": "stream",
     "text": [
      "<class 'pandas.core.frame.DataFrame'>\n",
      "RangeIndex: 509 entries, 0 to 508\n",
      "Data columns (total 11 columns):\n",
      " #   Column                  Non-Null Count  Dtype         \n",
      "---  ------                  --------------  -----         \n",
      " 0   case_num                509 non-null    int32         \n",
      " 1   date_announced          509 non-null    datetime64[ns]\n",
      " 2   date_discharged         154 non-null    datetime64[ns]\n",
      " 3   age                     509 non-null    float64       \n",
      " 4   is_male                 509 non-null    bool          \n",
      " 5   nationality             509 non-null    object        \n",
      " 6   case_relation           509 non-null    object        \n",
      " 7   place_of_stay           509 non-null    object        \n",
      " 8   hospitals_visited       509 non-null    object        \n",
      " 9   visited_affected_areas  509 non-null    object        \n",
      " 10  source                  509 non-null    object        \n",
      "dtypes: bool(1), datetime64[ns](2), float64(1), int32(1), object(6)\n",
      "memory usage: 38.4+ KB\n"
     ]
    }
   ],
   "source": [
    "covid.info()"
   ]
  },
  {
   "cell_type": "code",
   "execution_count": null,
   "metadata": {},
   "outputs": [],
   "source": []
  },
  {
   "cell_type": "markdown",
   "metadata": {},
   "source": [
    "## Exploratory Data Analysis"
   ]
  },
  {
   "cell_type": "code",
   "execution_count": 25,
   "metadata": {},
   "outputs": [
    {
     "data": {
      "text/html": [
       "<div>\n",
       "<style scoped>\n",
       "    .dataframe tbody tr th:only-of-type {\n",
       "        vertical-align: middle;\n",
       "    }\n",
       "\n",
       "    .dataframe tbody tr th {\n",
       "        vertical-align: top;\n",
       "    }\n",
       "\n",
       "    .dataframe thead th {\n",
       "        text-align: right;\n",
       "    }\n",
       "</style>\n",
       "<table border=\"1\" class=\"dataframe\">\n",
       "  <thead>\n",
       "    <tr style=\"text-align: right;\">\n",
       "      <th></th>\n",
       "      <th>case_num</th>\n",
       "      <th>date_announced</th>\n",
       "      <th>date_discharged</th>\n",
       "      <th>age</th>\n",
       "      <th>is_male</th>\n",
       "      <th>nationality</th>\n",
       "      <th>case_relation</th>\n",
       "      <th>place_of_stay</th>\n",
       "      <th>hospitals_visited</th>\n",
       "      <th>visited_affected_areas</th>\n",
       "      <th>source</th>\n",
       "    </tr>\n",
       "  </thead>\n",
       "  <tbody>\n",
       "    <tr>\n",
       "      <th>count</th>\n",
       "      <td>509.00000</td>\n",
       "      <td>509</td>\n",
       "      <td>154</td>\n",
       "      <td>509.000000</td>\n",
       "      <td>509</td>\n",
       "      <td>509</td>\n",
       "      <td>509</td>\n",
       "      <td>509</td>\n",
       "      <td>509</td>\n",
       "      <td>509</td>\n",
       "      <td>509</td>\n",
       "    </tr>\n",
       "    <tr>\n",
       "      <th>unique</th>\n",
       "      <td>NaN</td>\n",
       "      <td>57</td>\n",
       "      <td>40</td>\n",
       "      <td>NaN</td>\n",
       "      <td>2</td>\n",
       "      <td>29</td>\n",
       "      <td>171</td>\n",
       "      <td>257</td>\n",
       "      <td>32</td>\n",
       "      <td>3</td>\n",
       "      <td>183</td>\n",
       "    </tr>\n",
       "    <tr>\n",
       "      <th>top</th>\n",
       "      <td>NaN</td>\n",
       "      <td>2020-03-23 00:00:00</td>\n",
       "      <td>2020-03-21 00:00:00</td>\n",
       "      <td>NaN</td>\n",
       "      <td>True</td>\n",
       "      <td>Singapore</td>\n",
       "      <td>Imported</td>\n",
       "      <td>Visited United Kingdom</td>\n",
       "      <td>National Centre for Infectious Diseases</td>\n",
       "      <td>No</td>\n",
       "      <td>[82][94]</td>\n",
       "    </tr>\n",
       "    <tr>\n",
       "      <th>freq</th>\n",
       "      <td>NaN</td>\n",
       "      <td>54</td>\n",
       "      <td>11</td>\n",
       "      <td>NaN</td>\n",
       "      <td>306</td>\n",
       "      <td>335</td>\n",
       "      <td>234</td>\n",
       "      <td>94</td>\n",
       "      <td>329</td>\n",
       "      <td>284</td>\n",
       "      <td>54</td>\n",
       "    </tr>\n",
       "    <tr>\n",
       "      <th>first</th>\n",
       "      <td>NaN</td>\n",
       "      <td>2020-01-23 00:00:00</td>\n",
       "      <td>2020-02-04 00:00:00</td>\n",
       "      <td>NaN</td>\n",
       "      <td>NaN</td>\n",
       "      <td>NaN</td>\n",
       "      <td>NaN</td>\n",
       "      <td>NaN</td>\n",
       "      <td>NaN</td>\n",
       "      <td>NaN</td>\n",
       "      <td>NaN</td>\n",
       "    </tr>\n",
       "    <tr>\n",
       "      <th>last</th>\n",
       "      <td>NaN</td>\n",
       "      <td>2020-03-23 00:00:00</td>\n",
       "      <td>2020-03-23 00:00:00</td>\n",
       "      <td>NaN</td>\n",
       "      <td>NaN</td>\n",
       "      <td>NaN</td>\n",
       "      <td>NaN</td>\n",
       "      <td>NaN</td>\n",
       "      <td>NaN</td>\n",
       "      <td>NaN</td>\n",
       "      <td>NaN</td>\n",
       "    </tr>\n",
       "    <tr>\n",
       "      <th>mean</th>\n",
       "      <td>255.00000</td>\n",
       "      <td>NaN</td>\n",
       "      <td>NaN</td>\n",
       "      <td>43.111002</td>\n",
       "      <td>NaN</td>\n",
       "      <td>NaN</td>\n",
       "      <td>NaN</td>\n",
       "      <td>NaN</td>\n",
       "      <td>NaN</td>\n",
       "      <td>NaN</td>\n",
       "      <td>NaN</td>\n",
       "    </tr>\n",
       "    <tr>\n",
       "      <th>std</th>\n",
       "      <td>147.07991</td>\n",
       "      <td>NaN</td>\n",
       "      <td>NaN</td>\n",
       "      <td>16.601690</td>\n",
       "      <td>NaN</td>\n",
       "      <td>NaN</td>\n",
       "      <td>NaN</td>\n",
       "      <td>NaN</td>\n",
       "      <td>NaN</td>\n",
       "      <td>NaN</td>\n",
       "      <td>NaN</td>\n",
       "    </tr>\n",
       "    <tr>\n",
       "      <th>min</th>\n",
       "      <td>1.00000</td>\n",
       "      <td>NaN</td>\n",
       "      <td>NaN</td>\n",
       "      <td>0.500000</td>\n",
       "      <td>NaN</td>\n",
       "      <td>NaN</td>\n",
       "      <td>NaN</td>\n",
       "      <td>NaN</td>\n",
       "      <td>NaN</td>\n",
       "      <td>NaN</td>\n",
       "      <td>NaN</td>\n",
       "    </tr>\n",
       "    <tr>\n",
       "      <th>25%</th>\n",
       "      <td>128.00000</td>\n",
       "      <td>NaN</td>\n",
       "      <td>NaN</td>\n",
       "      <td>29.000000</td>\n",
       "      <td>NaN</td>\n",
       "      <td>NaN</td>\n",
       "      <td>NaN</td>\n",
       "      <td>NaN</td>\n",
       "      <td>NaN</td>\n",
       "      <td>NaN</td>\n",
       "      <td>NaN</td>\n",
       "    </tr>\n",
       "    <tr>\n",
       "      <th>50%</th>\n",
       "      <td>255.00000</td>\n",
       "      <td>NaN</td>\n",
       "      <td>NaN</td>\n",
       "      <td>41.000000</td>\n",
       "      <td>NaN</td>\n",
       "      <td>NaN</td>\n",
       "      <td>NaN</td>\n",
       "      <td>NaN</td>\n",
       "      <td>NaN</td>\n",
       "      <td>NaN</td>\n",
       "      <td>NaN</td>\n",
       "    </tr>\n",
       "    <tr>\n",
       "      <th>75%</th>\n",
       "      <td>382.00000</td>\n",
       "      <td>NaN</td>\n",
       "      <td>NaN</td>\n",
       "      <td>56.000000</td>\n",
       "      <td>NaN</td>\n",
       "      <td>NaN</td>\n",
       "      <td>NaN</td>\n",
       "      <td>NaN</td>\n",
       "      <td>NaN</td>\n",
       "      <td>NaN</td>\n",
       "      <td>NaN</td>\n",
       "    </tr>\n",
       "    <tr>\n",
       "      <th>max</th>\n",
       "      <td>509.00000</td>\n",
       "      <td>NaN</td>\n",
       "      <td>NaN</td>\n",
       "      <td>86.000000</td>\n",
       "      <td>NaN</td>\n",
       "      <td>NaN</td>\n",
       "      <td>NaN</td>\n",
       "      <td>NaN</td>\n",
       "      <td>NaN</td>\n",
       "      <td>NaN</td>\n",
       "      <td>NaN</td>\n",
       "    </tr>\n",
       "  </tbody>\n",
       "</table>\n",
       "</div>"
      ],
      "text/plain": [
       "         case_num       date_announced      date_discharged         age  \\\n",
       "count   509.00000                  509                  154  509.000000   \n",
       "unique        NaN                   57                   40         NaN   \n",
       "top           NaN  2020-03-23 00:00:00  2020-03-21 00:00:00         NaN   \n",
       "freq          NaN                   54                   11         NaN   \n",
       "first         NaN  2020-01-23 00:00:00  2020-02-04 00:00:00         NaN   \n",
       "last          NaN  2020-03-23 00:00:00  2020-03-23 00:00:00         NaN   \n",
       "mean    255.00000                  NaN                  NaN   43.111002   \n",
       "std     147.07991                  NaN                  NaN   16.601690   \n",
       "min       1.00000                  NaN                  NaN    0.500000   \n",
       "25%     128.00000                  NaN                  NaN   29.000000   \n",
       "50%     255.00000                  NaN                  NaN   41.000000   \n",
       "75%     382.00000                  NaN                  NaN   56.000000   \n",
       "max     509.00000                  NaN                  NaN   86.000000   \n",
       "\n",
       "       is_male nationality case_relation           place_of_stay  \\\n",
       "count      509         509           509                     509   \n",
       "unique       2          29           171                     257   \n",
       "top       True   Singapore      Imported  Visited United Kingdom   \n",
       "freq       306         335           234                      94   \n",
       "first      NaN         NaN           NaN                     NaN   \n",
       "last       NaN         NaN           NaN                     NaN   \n",
       "mean       NaN         NaN           NaN                     NaN   \n",
       "std        NaN         NaN           NaN                     NaN   \n",
       "min        NaN         NaN           NaN                     NaN   \n",
       "25%        NaN         NaN           NaN                     NaN   \n",
       "50%        NaN         NaN           NaN                     NaN   \n",
       "75%        NaN         NaN           NaN                     NaN   \n",
       "max        NaN         NaN           NaN                     NaN   \n",
       "\n",
       "                              hospitals_visited visited_affected_areas  \\\n",
       "count                                       509                    509   \n",
       "unique                                       32                      3   \n",
       "top     National Centre for Infectious Diseases                     No   \n",
       "freq                                        329                    284   \n",
       "first                                       NaN                    NaN   \n",
       "last                                        NaN                    NaN   \n",
       "mean                                        NaN                    NaN   \n",
       "std                                         NaN                    NaN   \n",
       "min                                         NaN                    NaN   \n",
       "25%                                         NaN                    NaN   \n",
       "50%                                         NaN                    NaN   \n",
       "75%                                         NaN                    NaN   \n",
       "max                                         NaN                    NaN   \n",
       "\n",
       "          source  \n",
       "count        509  \n",
       "unique       183  \n",
       "top     [82][94]  \n",
       "freq          54  \n",
       "first        NaN  \n",
       "last         NaN  \n",
       "mean         NaN  \n",
       "std          NaN  \n",
       "min          NaN  \n",
       "25%          NaN  \n",
       "50%          NaN  \n",
       "75%          NaN  \n",
       "max          NaN  "
      ]
     },
     "execution_count": 25,
     "metadata": {},
     "output_type": "execute_result"
    }
   ],
   "source": [
    "covid.describe(include=\"all\")"
   ]
  },
  {
   "cell_type": "code",
   "execution_count": 26,
   "metadata": {},
   "outputs": [
    {
     "data": {
      "text/plain": [
       "Singapore         335\n",
       "Singapore PR       34\n",
       "China              21\n",
       "Indonesia          19\n",
       "Philippines        14\n",
       "United Kingdom     13\n",
       "Malaysia           10\n",
       "Australia           9\n",
       "United States       7\n",
       "India               6\n",
       "Germany             6\n",
       "Bangladesh          5\n",
       "France              5\n",
       "Switzerland         3\n",
       "Netherlands         3\n",
       "Sweden              2\n",
       "Spain               2\n",
       "New Zealand         2\n",
       "Ireland             2\n",
       "Myanmar             2\n",
       "Russia              1\n",
       "Canada              1\n",
       "Thailand            1\n",
       "Japan               1\n",
       "Belgium             1\n",
       "Colombia            1\n",
       "Denmark             1\n",
       "Brazil              1\n",
       "Italy               1\n",
       "Name: nationality, dtype: int64"
      ]
     },
     "execution_count": 26,
     "metadata": {},
     "output_type": "execute_result"
    }
   ],
   "source": [
    "covid['nationality'].value_counts()"
   ]
  },
  {
   "cell_type": "code",
   "execution_count": 27,
   "metadata": {},
   "outputs": [
    {
     "data": {
      "text/plain": [
       "Visited United Kingdom                                                                     94\n",
       "Unspecified                                                                                48\n",
       "Visited United States                                                                      22\n",
       "Visited Indonesia                                                                          18\n",
       "Visited Malaysia                                                                           10\n",
       "                                                                                           ..\n",
       "Visited Germany, United States, France, Monaco                                              1\n",
       "Worked at 56 Senang Crescent, South EastHome at Jurong West Street 64, South West           1\n",
       "Visited MalaysiaWorked at Masjid Al-MuttaqinHome at Bukit Panjang Ring Road, North West     1\n",
       "Home at Upper Bukit Timah Road, North West                                                  1\n",
       "Visited PhilippinesWorked at dnata CargoHome at Flora Drive, North East                     1\n",
       "Name: place_of_stay, Length: 257, dtype: int64"
      ]
     },
     "execution_count": 27,
     "metadata": {},
     "output_type": "execute_result"
    }
   ],
   "source": [
    "covid['place_of_stay'].value_counts()"
   ]
  },
  {
   "cell_type": "code",
   "execution_count": 28,
   "metadata": {
    "scrolled": true
   },
   "outputs": [
    {
     "data": {
      "text/plain": [
       "National Centre for Infectious Diseases                                                329\n",
       "Singapore General Hospital                                                              29\n",
       "Ng Teng Fong General Hospital                                                           27\n",
       "National University Hospital                                                            26\n",
       "Sengkang General Hospital                                                               17\n",
       "Changi General Hospital                                                                 15\n",
       "Khoo Teck Puat Hospital                                                                 13\n",
       "KK Women's and Children's Hospital                                                       7\n",
       "Tan Tock Seng HospitalNational Centre for Infectious Diseases                            7\n",
       "Alexandra Hospital                                                                       5\n",
       "Gleneagles HospitalNational Centre for Infectious Diseases                               4\n",
       "Raffles HospitalNational Centre for Infectious Diseases                                  3\n",
       "National University HospitalNational Centre for Infectious Diseases                      2\n",
       "Gleneagles Hospital                                                                      2\n",
       "Khoo Teck Puat HospitalNational Centre for Infectious Diseases                           2\n",
       "Mount Elizabeth HospitalNational Centre for Infectious Diseases                          2\n",
       "Sengkang General HospitalNational Centre for Infectious Diseases                         2\n",
       "Mount Elizabeth Hospital                                                                 2\n",
       "Farrer Park HospitalNg Teng Fong General Hospital                                        2\n",
       "Ng Teng Fong General HospitalNational University Hospital                                1\n",
       "Camden Medical CentreNational University Hospital                                        1\n",
       "Parkway East Hospital                                                                    1\n",
       "Ng Teng Fong General HospitalNational Centre for Infectious Diseases                     1\n",
       "KK Women's and Children's HospitalNational Centre for Infectious Diseases                1\n",
       "Farrer Park HospitalMount Elizabeth HospitalNational Centre for Infectious Diseases      1\n",
       "Farrer Park Hospital                                                                     1\n",
       "National Centre for Infectious DiseasesChangi General Hospital                           1\n",
       "Mount Elizabeth Novena HospitalNational Centre for Infectious Diseases                   1\n",
       "Health Promotion Board facilityKhoo Teck Puat Hospital                                   1\n",
       "Parkway East HospitalNational Centre for Infectious Diseases                             1\n",
       "Sengkang General HospitalNational University Hospital                                    1\n",
       "Mount Elizabeth Novena Hospital                                                          1\n",
       "Name: hospitals_visited, dtype: int64"
      ]
     },
     "execution_count": 28,
     "metadata": {},
     "output_type": "execute_result"
    }
   ],
   "source": [
    "covid['hospitals_visited'].value_counts()"
   ]
  },
  {
   "cell_type": "markdown",
   "metadata": {},
   "source": [
    "## Data Export"
   ]
  },
  {
   "cell_type": "code",
   "execution_count": 29,
   "metadata": {},
   "outputs": [],
   "source": [
    "covid.to_csv(\"covid.csv\")"
   ]
  }
 ],
 "metadata": {
  "kernelspec": {
   "display_name": "Python 3",
   "language": "python",
   "name": "python3"
  },
  "language_info": {
   "codemirror_mode": {
    "name": "ipython",
    "version": 3
   },
   "file_extension": ".py",
   "mimetype": "text/x-python",
   "name": "python",
   "nbconvert_exporter": "python",
   "pygments_lexer": "ipython3",
   "version": "3.7.4"
  }
 },
 "nbformat": 4,
 "nbformat_minor": 2
}
