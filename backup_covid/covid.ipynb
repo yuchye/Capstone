{
 "cells": [
  {
   "cell_type": "markdown",
   "metadata": {},
   "source": [
    "# Capstone Project Backup: Analysis of Confirmed COVID-19 Cases in Singapore"
   ]
  },
  {
   "cell_type": "markdown",
   "metadata": {},
   "source": [
    "## Importing of Libraries"
   ]
  },
  {
   "cell_type": "code",
   "execution_count": 501,
   "metadata": {},
   "outputs": [],
   "source": [
    "import pandas as pd\n",
    "import numpy as np\n",
    "import matplotlib\n",
    "import matplotlib.pyplot as plt\n",
    "import seaborn as sns\n",
    "\n",
    "import re\n",
    "import requests\n",
    "import urllib.request\n",
    "import time\n",
    "from bs4 import BeautifulSoup\n",
    "from urllib.request import urlopen\n",
    "\n",
    "plt.style.use('fivethirtyeight')\n",
    "\n",
    "%config InlineBackend.figure_format = 'retina'\n",
    "%matplotlib inline"
   ]
  },
  {
   "cell_type": "markdown",
   "metadata": {},
   "source": [
    "## Data Collection"
   ]
  },
  {
   "cell_type": "code",
   "execution_count": 502,
   "metadata": {},
   "outputs": [],
   "source": [
    "url = 'https://en.wikipedia.org/wiki/2020_coronavirus_pandemic_in_Singapore'\n",
    "html = urlopen(url) \n",
    "soup = BeautifulSoup(html, 'html.parser')"
   ]
  },
  {
   "cell_type": "code",
   "execution_count": 503,
   "metadata": {},
   "outputs": [],
   "source": [
    "soup = soup.find(\"table\", {\"class\":\"wikitable sortable mw-collapsible mw-collapsed\"})"
   ]
  },
  {
   "cell_type": "code",
   "execution_count": 504,
   "metadata": {},
   "outputs": [],
   "source": [
    "soup = soup.find(\"tbody\")"
   ]
  },
  {
   "cell_type": "code",
   "execution_count": 505,
   "metadata": {},
   "outputs": [],
   "source": [
    "data = [tag.text.strip() for tag in soup.find_all('td')]\n",
    "data = data[:-1]"
   ]
  },
  {
   "cell_type": "code",
   "execution_count": 506,
   "metadata": {},
   "outputs": [
    {
     "data": {
      "text/plain": [
       "['1',\n",
       " '23 January 2020',\n",
       " 'Discharged on 19 February 2020',\n",
       " '66',\n",
       " 'Male',\n",
       " 'China',\n",
       " 'Imported',\n",
       " \"Shangri-La's Rasa Sentosa Resort & Spa, South West\",\n",
       " 'Singapore General Hospital',\n",
       " 'Yes',\n",
       " '[26][27]']"
      ]
     },
     "execution_count": 506,
     "metadata": {},
     "output_type": "execute_result"
    }
   ],
   "source": [
    "# Show first row of the wikipedia table\n",
    "data[0:11]"
   ]
  },
  {
   "cell_type": "code",
   "execution_count": 507,
   "metadata": {},
   "outputs": [],
   "source": [
    "confirmed_cases = []\n",
    "for item in range(0,int(len(data)/11)):\n",
    "    confirmed_case = {}\n",
    "    confirmed_case['case_num'] = data[item*11]\n",
    "    confirmed_case['date_announced'] = data[item*11+1]\n",
    "    confirmed_case['date_discharged'] = data[item*11+2]\n",
    "    confirmed_case['age'] = data[item*11+3]\n",
    "    confirmed_case['gender'] = data[item*11+4]\n",
    "    confirmed_case['nationality'] = data[item*11+5]\n",
    "    confirmed_case['case_relation'] = data[item*11+6]\n",
    "    confirmed_case['place_of_stay'] = data[item*11+7]\n",
    "    confirmed_case['hospitals_visited'] = data[item*11+8]\n",
    "    confirmed_case['visited_affected_areas'] = data[item*11+9]\n",
    "    confirmed_case['source'] = data[item*11+10]\n",
    "    confirmed_cases.append(confirmed_case)\n",
    "covid = pd.DataFrame(confirmed_cases)"
   ]
  },
  {
   "cell_type": "code",
   "execution_count": 508,
   "metadata": {},
   "outputs": [
    {
     "data": {
      "text/html": [
       "<div>\n",
       "<style scoped>\n",
       "    .dataframe tbody tr th:only-of-type {\n",
       "        vertical-align: middle;\n",
       "    }\n",
       "\n",
       "    .dataframe tbody tr th {\n",
       "        vertical-align: top;\n",
       "    }\n",
       "\n",
       "    .dataframe thead th {\n",
       "        text-align: right;\n",
       "    }\n",
       "</style>\n",
       "<table border=\"1\" class=\"dataframe\">\n",
       "  <thead>\n",
       "    <tr style=\"text-align: right;\">\n",
       "      <th></th>\n",
       "      <th>case_num</th>\n",
       "      <th>date_announced</th>\n",
       "      <th>date_discharged</th>\n",
       "      <th>age</th>\n",
       "      <th>gender</th>\n",
       "      <th>nationality</th>\n",
       "      <th>case_relation</th>\n",
       "      <th>place_of_stay</th>\n",
       "      <th>hospitals_visited</th>\n",
       "      <th>visited_affected_areas</th>\n",
       "      <th>source</th>\n",
       "    </tr>\n",
       "  </thead>\n",
       "  <tbody>\n",
       "    <tr>\n",
       "      <th>0</th>\n",
       "      <td>1</td>\n",
       "      <td>23 January 2020</td>\n",
       "      <td>Discharged on 19 February 2020</td>\n",
       "      <td>66</td>\n",
       "      <td>Male</td>\n",
       "      <td>China</td>\n",
       "      <td>Imported</td>\n",
       "      <td>Shangri-La's Rasa Sentosa Resort &amp; Spa, South ...</td>\n",
       "      <td>Singapore General Hospital</td>\n",
       "      <td>Yes</td>\n",
       "      <td>[26][27]</td>\n",
       "    </tr>\n",
       "    <tr>\n",
       "      <th>1</th>\n",
       "      <td>2</td>\n",
       "      <td>24 January 2020</td>\n",
       "      <td>Discharged on 7 February 2020</td>\n",
       "      <td>53</td>\n",
       "      <td>Female</td>\n",
       "      <td>China</td>\n",
       "      <td>Imported</td>\n",
       "      <td>J8 Hotel, Central</td>\n",
       "      <td>National Centre for Infectious Diseases</td>\n",
       "      <td>Yes</td>\n",
       "      <td>[28][29]</td>\n",
       "    </tr>\n",
       "    <tr>\n",
       "      <th>2</th>\n",
       "      <td>3</td>\n",
       "      <td>24 January 2020</td>\n",
       "      <td>Discharged on 21 February 2020</td>\n",
       "      <td>37</td>\n",
       "      <td>Male</td>\n",
       "      <td>China</td>\n",
       "      <td>ImportedSon of case 1[30]</td>\n",
       "      <td>Shangri-La's Rasa Sentosa Resort &amp; Spa, South ...</td>\n",
       "      <td>Singapore General Hospital</td>\n",
       "      <td>Yes</td>\n",
       "      <td>[28][31]</td>\n",
       "    </tr>\n",
       "    <tr>\n",
       "      <th>3</th>\n",
       "      <td>4</td>\n",
       "      <td>26 January 2020</td>\n",
       "      <td>Discharged on 12 February 2020</td>\n",
       "      <td>36</td>\n",
       "      <td>Male</td>\n",
       "      <td>China</td>\n",
       "      <td>Imported</td>\n",
       "      <td>Village Hotel Sentosa, South West</td>\n",
       "      <td>Sengkang General Hospital</td>\n",
       "      <td>Yes</td>\n",
       "      <td>[32][33]</td>\n",
       "    </tr>\n",
       "    <tr>\n",
       "      <th>4</th>\n",
       "      <td>5</td>\n",
       "      <td>27 January 2020</td>\n",
       "      <td>Discharged on 18 February 2020</td>\n",
       "      <td>56</td>\n",
       "      <td>Female</td>\n",
       "      <td>China</td>\n",
       "      <td>Imported</td>\n",
       "      <td>Home at Ceylon Road, South East</td>\n",
       "      <td>National Centre for Infectious Diseases</td>\n",
       "      <td>Yes</td>\n",
       "      <td>[34][35]</td>\n",
       "    </tr>\n",
       "  </tbody>\n",
       "</table>\n",
       "</div>"
      ],
      "text/plain": [
       "  case_num   date_announced                 date_discharged age  gender  \\\n",
       "0        1  23 January 2020  Discharged on 19 February 2020  66    Male   \n",
       "1        2  24 January 2020   Discharged on 7 February 2020  53  Female   \n",
       "2        3  24 January 2020  Discharged on 21 February 2020  37    Male   \n",
       "3        4  26 January 2020  Discharged on 12 February 2020  36    Male   \n",
       "4        5  27 January 2020  Discharged on 18 February 2020  56  Female   \n",
       "\n",
       "  nationality              case_relation  \\\n",
       "0       China                   Imported   \n",
       "1       China                   Imported   \n",
       "2       China  ImportedSon of case 1[30]   \n",
       "3       China                   Imported   \n",
       "4       China                   Imported   \n",
       "\n",
       "                                       place_of_stay  \\\n",
       "0  Shangri-La's Rasa Sentosa Resort & Spa, South ...   \n",
       "1                                  J8 Hotel, Central   \n",
       "2  Shangri-La's Rasa Sentosa Resort & Spa, South ...   \n",
       "3                  Village Hotel Sentosa, South West   \n",
       "4                    Home at Ceylon Road, South East   \n",
       "\n",
       "                         hospitals_visited visited_affected_areas    source  \n",
       "0               Singapore General Hospital                    Yes  [26][27]  \n",
       "1  National Centre for Infectious Diseases                    Yes  [28][29]  \n",
       "2               Singapore General Hospital                    Yes  [28][31]  \n",
       "3                Sengkang General Hospital                    Yes  [32][33]  \n",
       "4  National Centre for Infectious Diseases                    Yes  [34][35]  "
      ]
     },
     "execution_count": 508,
     "metadata": {},
     "output_type": "execute_result"
    }
   ],
   "source": [
    "covid.head()"
   ]
  },
  {
   "cell_type": "code",
   "execution_count": 509,
   "metadata": {},
   "outputs": [
    {
     "data": {
      "text/html": [
       "<div>\n",
       "<style scoped>\n",
       "    .dataframe tbody tr th:only-of-type {\n",
       "        vertical-align: middle;\n",
       "    }\n",
       "\n",
       "    .dataframe tbody tr th {\n",
       "        vertical-align: top;\n",
       "    }\n",
       "\n",
       "    .dataframe thead th {\n",
       "        text-align: right;\n",
       "    }\n",
       "</style>\n",
       "<table border=\"1\" class=\"dataframe\">\n",
       "  <thead>\n",
       "    <tr style=\"text-align: right;\">\n",
       "      <th></th>\n",
       "      <th>case_num</th>\n",
       "      <th>date_announced</th>\n",
       "      <th>date_discharged</th>\n",
       "      <th>age</th>\n",
       "      <th>gender</th>\n",
       "      <th>nationality</th>\n",
       "      <th>case_relation</th>\n",
       "      <th>place_of_stay</th>\n",
       "      <th>hospitals_visited</th>\n",
       "      <th>visited_affected_areas</th>\n",
       "      <th>source</th>\n",
       "    </tr>\n",
       "  </thead>\n",
       "  <tbody>\n",
       "    <tr>\n",
       "      <th>431</th>\n",
       "      <td>432</td>\n",
       "      <td>21 March 2020</td>\n",
       "      <td></td>\n",
       "      <td>53</td>\n",
       "      <td>Female</td>\n",
       "      <td>United Kingdom</td>\n",
       "      <td>Imported</td>\n",
       "      <td>Visited Indonesia</td>\n",
       "      <td>National Centre for Infectious Diseases</td>\n",
       "      <td>Yes</td>\n",
       "      <td>[83][92]</td>\n",
       "    </tr>\n",
       "  </tbody>\n",
       "</table>\n",
       "</div>"
      ],
      "text/plain": [
       "    case_num date_announced date_discharged age  gender     nationality  \\\n",
       "431      432  21 March 2020                  53  Female  United Kingdom   \n",
       "\n",
       "    case_relation      place_of_stay                        hospitals_visited  \\\n",
       "431      Imported  Visited Indonesia  National Centre for Infectious Diseases   \n",
       "\n",
       "    visited_affected_areas    source  \n",
       "431                    Yes  [83][92]  "
      ]
     },
     "execution_count": 509,
     "metadata": {},
     "output_type": "execute_result"
    }
   ],
   "source": [
    "covid.tail(1)"
   ]
  },
  {
   "cell_type": "markdown",
   "metadata": {},
   "source": [
    "## Data Cleaning & Munging"
   ]
  },
  {
   "cell_type": "code",
   "execution_count": 510,
   "metadata": {},
   "outputs": [
    {
     "name": "stdout",
     "output_type": "stream",
     "text": [
      "<class 'pandas.core.frame.DataFrame'>\n",
      "RangeIndex: 432 entries, 0 to 431\n",
      "Data columns (total 11 columns):\n",
      " #   Column                  Non-Null Count  Dtype \n",
      "---  ------                  --------------  ----- \n",
      " 0   case_num                432 non-null    object\n",
      " 1   date_announced          432 non-null    object\n",
      " 2   date_discharged         432 non-null    object\n",
      " 3   age                     432 non-null    object\n",
      " 4   gender                  432 non-null    object\n",
      " 5   nationality             432 non-null    object\n",
      " 6   case_relation           432 non-null    object\n",
      " 7   place_of_stay           432 non-null    object\n",
      " 8   hospitals_visited       432 non-null    object\n",
      " 9   visited_affected_areas  432 non-null    object\n",
      " 10  source                  432 non-null    object\n",
      "dtypes: object(11)\n",
      "memory usage: 37.2+ KB\n"
     ]
    }
   ],
   "source": [
    "covid.info()"
   ]
  },
  {
   "cell_type": "code",
   "execution_count": 511,
   "metadata": {},
   "outputs": [],
   "source": [
    "covid['case_num'] = covid['case_num'].astype(int)"
   ]
  },
  {
   "cell_type": "code",
   "execution_count": 512,
   "metadata": {},
   "outputs": [],
   "source": [
    "covid['date_announced'] = pd.to_datetime(covid['date_announced'])"
   ]
  },
  {
   "cell_type": "code",
   "execution_count": 513,
   "metadata": {},
   "outputs": [],
   "source": [
    "def extract_date(string):\n",
    "    try:\n",
    "        date_string = re.search(\"(\\d+)[ ](\\w+)[ ](\\d+)\", string).group(0)\n",
    "    except AttributeError:\n",
    "        date_string = \"\"\n",
    "    return date_string"
   ]
  },
  {
   "cell_type": "code",
   "execution_count": 514,
   "metadata": {},
   "outputs": [],
   "source": [
    "covid['date_discharged'] = covid['date_discharged'].map(lambda x: extract_date(x))\n",
    "covid['date_discharged'] = pd.to_datetime(covid['date_discharged'])"
   ]
  },
  {
   "cell_type": "code",
   "execution_count": 515,
   "metadata": {},
   "outputs": [],
   "source": [
    "covid['age'] = covid['age'].astype(float) # note that we convert to float as there is a case of age = '0.5'"
   ]
  },
  {
   "cell_type": "code",
   "execution_count": 516,
   "metadata": {},
   "outputs": [],
   "source": [
    "covid['is_male'] = covid['gender'].map(lambda value:True if value==\"Male\" else False)\n",
    "covid.drop(columns='gender', inplace=True)"
   ]
  },
  {
   "cell_type": "code",
   "execution_count": 517,
   "metadata": {},
   "outputs": [
    {
     "data": {
      "text/plain": [
       "Visited United Kingdom                                          54\n",
       "                                                                38\n",
       "Visited United States                                           17\n",
       "Visited Indonesia                                               13\n",
       "Visited Philippines                                              8\n",
       "                                                                ..\n",
       "Home at Tampines Street 24, North East                           1\n",
       "Visited France and SpainHome at Jalan Haji Salam, South East     1\n",
       "Worked at SingtelHome at Stirling Road, Central                  1\n",
       "Visited IndonesiaHome at Kim Tian Road, Central                  1\n",
       "Home at Crawford Lane, Central                                   1\n",
       "Name: place_of_stay, Length: 247, dtype: int64"
      ]
     },
     "execution_count": 517,
     "metadata": {},
     "output_type": "execute_result"
    }
   ],
   "source": [
    "covid['place_of_stay'].value_counts()"
   ]
  },
  {
   "cell_type": "code",
   "execution_count": 518,
   "metadata": {},
   "outputs": [],
   "source": [
    "covid['place_of_stay'] = covid['place_of_stay'].replace(\"\", \"Unspecified\")"
   ]
  },
  {
   "cell_type": "code",
   "execution_count": 519,
   "metadata": {},
   "outputs": [
    {
     "data": {
      "text/plain": [
       "Visited United Kingdom                                                                    54\n",
       "Unspecified                                                                               38\n",
       "Visited United States                                                                     17\n",
       "Visited Indonesia                                                                         13\n",
       "Visited Philippines                                                                        8\n",
       "                                                                                          ..\n",
       "Home at Senja Road, North West                                                             1\n",
       "Visited Croatia, Austria                                                                   1\n",
       "Visited FranceWorked at INSEAD Asia CampusHome at Dover Rise, South West                   1\n",
       "Student at The Orange Tree Preschool @ Choa Chu KangHome at Teck Whye Lane, South West     1\n",
       "Home at Wilkinson Road, South East                                                         1\n",
       "Name: place_of_stay, Length: 247, dtype: int64"
      ]
     },
     "execution_count": 519,
     "metadata": {},
     "output_type": "execute_result"
    }
   ],
   "source": [
    "covid['place_of_stay'].value_counts()"
   ]
  },
  {
   "cell_type": "code",
   "execution_count": 520,
   "metadata": {},
   "outputs": [
    {
     "data": {
      "text/plain": [
       "No     257\n",
       "Yes    145\n",
       "        30\n",
       "Name: visited_affected_areas, dtype: int64"
      ]
     },
     "execution_count": 520,
     "metadata": {},
     "output_type": "execute_result"
    }
   ],
   "source": [
    "covid['visited_affected_areas'].value_counts()"
   ]
  },
  {
   "cell_type": "code",
   "execution_count": 521,
   "metadata": {},
   "outputs": [],
   "source": [
    "covid['visited_affected_areas'] = covid['visited_affected_areas'].replace(\"\", \"Unspecified\")"
   ]
  },
  {
   "cell_type": "code",
   "execution_count": 522,
   "metadata": {},
   "outputs": [
    {
     "data": {
      "text/plain": [
       "No             257\n",
       "Yes            145\n",
       "Unspecified     30\n",
       "Name: visited_affected_areas, dtype: int64"
      ]
     },
     "execution_count": 522,
     "metadata": {},
     "output_type": "execute_result"
    }
   ],
   "source": [
    "covid['visited_affected_areas'].value_counts()"
   ]
  },
  {
   "cell_type": "code",
   "execution_count": 523,
   "metadata": {},
   "outputs": [],
   "source": [
    "# Reorder columns to mirror the wikipedia table\n",
    "covid = covid [['case_num',\\\n",
    "                'date_announced',\\\n",
    "                'date_discharged',\\\n",
    "                'age',\\\n",
    "                'is_male',\\\n",
    "                'nationality',\\\n",
    "                'case_relation',\\\n",
    "                'place_of_stay',\\\n",
    "                'hospitals_visited',\\\n",
    "                'visited_affected_areas',\\\n",
    "                'source']]"
   ]
  },
  {
   "cell_type": "code",
   "execution_count": 524,
   "metadata": {},
   "outputs": [
    {
     "name": "stdout",
     "output_type": "stream",
     "text": [
      "<class 'pandas.core.frame.DataFrame'>\n",
      "RangeIndex: 432 entries, 0 to 431\n",
      "Data columns (total 11 columns):\n",
      " #   Column                  Non-Null Count  Dtype         \n",
      "---  ------                  --------------  -----         \n",
      " 0   case_num                432 non-null    int32         \n",
      " 1   date_announced          432 non-null    datetime64[ns]\n",
      " 2   date_discharged         142 non-null    datetime64[ns]\n",
      " 3   age                     432 non-null    float64       \n",
      " 4   is_male                 432 non-null    bool          \n",
      " 5   nationality             432 non-null    object        \n",
      " 6   case_relation           432 non-null    object        \n",
      " 7   place_of_stay           432 non-null    object        \n",
      " 8   hospitals_visited       432 non-null    object        \n",
      " 9   visited_affected_areas  432 non-null    object        \n",
      " 10  source                  432 non-null    object        \n",
      "dtypes: bool(1), datetime64[ns](2), float64(1), int32(1), object(6)\n",
      "memory usage: 32.6+ KB\n"
     ]
    }
   ],
   "source": [
    "covid.info()"
   ]
  },
  {
   "cell_type": "code",
   "execution_count": null,
   "metadata": {},
   "outputs": [],
   "source": []
  },
  {
   "cell_type": "markdown",
   "metadata": {},
   "source": [
    "## Exploratory Data Analysis"
   ]
  },
  {
   "cell_type": "code",
   "execution_count": 525,
   "metadata": {},
   "outputs": [
    {
     "data": {
      "text/html": [
       "<div>\n",
       "<style scoped>\n",
       "    .dataframe tbody tr th:only-of-type {\n",
       "        vertical-align: middle;\n",
       "    }\n",
       "\n",
       "    .dataframe tbody tr th {\n",
       "        vertical-align: top;\n",
       "    }\n",
       "\n",
       "    .dataframe thead th {\n",
       "        text-align: right;\n",
       "    }\n",
       "</style>\n",
       "<table border=\"1\" class=\"dataframe\">\n",
       "  <thead>\n",
       "    <tr style=\"text-align: right;\">\n",
       "      <th></th>\n",
       "      <th>case_num</th>\n",
       "      <th>date_announced</th>\n",
       "      <th>date_discharged</th>\n",
       "      <th>age</th>\n",
       "      <th>is_male</th>\n",
       "      <th>nationality</th>\n",
       "      <th>case_relation</th>\n",
       "      <th>place_of_stay</th>\n",
       "      <th>hospitals_visited</th>\n",
       "      <th>visited_affected_areas</th>\n",
       "      <th>source</th>\n",
       "    </tr>\n",
       "  </thead>\n",
       "  <tbody>\n",
       "    <tr>\n",
       "      <th>count</th>\n",
       "      <td>432.000000</td>\n",
       "      <td>432</td>\n",
       "      <td>142</td>\n",
       "      <td>432.000000</td>\n",
       "      <td>432</td>\n",
       "      <td>432</td>\n",
       "      <td>432</td>\n",
       "      <td>432</td>\n",
       "      <td>432</td>\n",
       "      <td>432</td>\n",
       "      <td>432</td>\n",
       "    </tr>\n",
       "    <tr>\n",
       "      <th>unique</th>\n",
       "      <td>NaN</td>\n",
       "      <td>55</td>\n",
       "      <td>38</td>\n",
       "      <td>NaN</td>\n",
       "      <td>2</td>\n",
       "      <td>28</td>\n",
       "      <td>161</td>\n",
       "      <td>247</td>\n",
       "      <td>32</td>\n",
       "      <td>3</td>\n",
       "      <td>169</td>\n",
       "    </tr>\n",
       "    <tr>\n",
       "      <th>top</th>\n",
       "      <td>NaN</td>\n",
       "      <td>2020-03-21 00:00:00</td>\n",
       "      <td>2020-03-21 00:00:00</td>\n",
       "      <td>NaN</td>\n",
       "      <td>True</td>\n",
       "      <td>Singapore</td>\n",
       "      <td>Imported</td>\n",
       "      <td>Visited United Kingdom</td>\n",
       "      <td>National Centre for Infectious Diseases</td>\n",
       "      <td>No</td>\n",
       "      <td>[83][92]</td>\n",
       "    </tr>\n",
       "    <tr>\n",
       "      <th>freq</th>\n",
       "      <td>NaN</td>\n",
       "      <td>47</td>\n",
       "      <td>11</td>\n",
       "      <td>NaN</td>\n",
       "      <td>261</td>\n",
       "      <td>276</td>\n",
       "      <td>175</td>\n",
       "      <td>54</td>\n",
       "      <td>268</td>\n",
       "      <td>257</td>\n",
       "      <td>47</td>\n",
       "    </tr>\n",
       "    <tr>\n",
       "      <th>first</th>\n",
       "      <td>NaN</td>\n",
       "      <td>2020-01-23 00:00:00</td>\n",
       "      <td>2020-02-04 00:00:00</td>\n",
       "      <td>NaN</td>\n",
       "      <td>NaN</td>\n",
       "      <td>NaN</td>\n",
       "      <td>NaN</td>\n",
       "      <td>NaN</td>\n",
       "      <td>NaN</td>\n",
       "      <td>NaN</td>\n",
       "      <td>NaN</td>\n",
       "    </tr>\n",
       "    <tr>\n",
       "      <th>last</th>\n",
       "      <td>NaN</td>\n",
       "      <td>2020-03-21 00:00:00</td>\n",
       "      <td>2020-03-21 00:00:00</td>\n",
       "      <td>NaN</td>\n",
       "      <td>NaN</td>\n",
       "      <td>NaN</td>\n",
       "      <td>NaN</td>\n",
       "      <td>NaN</td>\n",
       "      <td>NaN</td>\n",
       "      <td>NaN</td>\n",
       "      <td>NaN</td>\n",
       "    </tr>\n",
       "    <tr>\n",
       "      <th>mean</th>\n",
       "      <td>216.500000</td>\n",
       "      <td>NaN</td>\n",
       "      <td>NaN</td>\n",
       "      <td>44.327546</td>\n",
       "      <td>NaN</td>\n",
       "      <td>NaN</td>\n",
       "      <td>NaN</td>\n",
       "      <td>NaN</td>\n",
       "      <td>NaN</td>\n",
       "      <td>NaN</td>\n",
       "      <td>NaN</td>\n",
       "    </tr>\n",
       "    <tr>\n",
       "      <th>std</th>\n",
       "      <td>124.851912</td>\n",
       "      <td>NaN</td>\n",
       "      <td>NaN</td>\n",
       "      <td>16.422560</td>\n",
       "      <td>NaN</td>\n",
       "      <td>NaN</td>\n",
       "      <td>NaN</td>\n",
       "      <td>NaN</td>\n",
       "      <td>NaN</td>\n",
       "      <td>NaN</td>\n",
       "      <td>NaN</td>\n",
       "    </tr>\n",
       "    <tr>\n",
       "      <th>min</th>\n",
       "      <td>1.000000</td>\n",
       "      <td>NaN</td>\n",
       "      <td>NaN</td>\n",
       "      <td>0.500000</td>\n",
       "      <td>NaN</td>\n",
       "      <td>NaN</td>\n",
       "      <td>NaN</td>\n",
       "      <td>NaN</td>\n",
       "      <td>NaN</td>\n",
       "      <td>NaN</td>\n",
       "      <td>NaN</td>\n",
       "    </tr>\n",
       "    <tr>\n",
       "      <th>25%</th>\n",
       "      <td>108.750000</td>\n",
       "      <td>NaN</td>\n",
       "      <td>NaN</td>\n",
       "      <td>30.000000</td>\n",
       "      <td>NaN</td>\n",
       "      <td>NaN</td>\n",
       "      <td>NaN</td>\n",
       "      <td>NaN</td>\n",
       "      <td>NaN</td>\n",
       "      <td>NaN</td>\n",
       "      <td>NaN</td>\n",
       "    </tr>\n",
       "    <tr>\n",
       "      <th>50%</th>\n",
       "      <td>216.500000</td>\n",
       "      <td>NaN</td>\n",
       "      <td>NaN</td>\n",
       "      <td>43.000000</td>\n",
       "      <td>NaN</td>\n",
       "      <td>NaN</td>\n",
       "      <td>NaN</td>\n",
       "      <td>NaN</td>\n",
       "      <td>NaN</td>\n",
       "      <td>NaN</td>\n",
       "      <td>NaN</td>\n",
       "    </tr>\n",
       "    <tr>\n",
       "      <th>75%</th>\n",
       "      <td>324.250000</td>\n",
       "      <td>NaN</td>\n",
       "      <td>NaN</td>\n",
       "      <td>57.000000</td>\n",
       "      <td>NaN</td>\n",
       "      <td>NaN</td>\n",
       "      <td>NaN</td>\n",
       "      <td>NaN</td>\n",
       "      <td>NaN</td>\n",
       "      <td>NaN</td>\n",
       "      <td>NaN</td>\n",
       "    </tr>\n",
       "    <tr>\n",
       "      <th>max</th>\n",
       "      <td>432.000000</td>\n",
       "      <td>NaN</td>\n",
       "      <td>NaN</td>\n",
       "      <td>86.000000</td>\n",
       "      <td>NaN</td>\n",
       "      <td>NaN</td>\n",
       "      <td>NaN</td>\n",
       "      <td>NaN</td>\n",
       "      <td>NaN</td>\n",
       "      <td>NaN</td>\n",
       "      <td>NaN</td>\n",
       "    </tr>\n",
       "  </tbody>\n",
       "</table>\n",
       "</div>"
      ],
      "text/plain": [
       "          case_num       date_announced      date_discharged         age  \\\n",
       "count   432.000000                  432                  142  432.000000   \n",
       "unique         NaN                   55                   38         NaN   \n",
       "top            NaN  2020-03-21 00:00:00  2020-03-21 00:00:00         NaN   \n",
       "freq           NaN                   47                   11         NaN   \n",
       "first          NaN  2020-01-23 00:00:00  2020-02-04 00:00:00         NaN   \n",
       "last           NaN  2020-03-21 00:00:00  2020-03-21 00:00:00         NaN   \n",
       "mean    216.500000                  NaN                  NaN   44.327546   \n",
       "std     124.851912                  NaN                  NaN   16.422560   \n",
       "min       1.000000                  NaN                  NaN    0.500000   \n",
       "25%     108.750000                  NaN                  NaN   30.000000   \n",
       "50%     216.500000                  NaN                  NaN   43.000000   \n",
       "75%     324.250000                  NaN                  NaN   57.000000   \n",
       "max     432.000000                  NaN                  NaN   86.000000   \n",
       "\n",
       "       is_male nationality case_relation           place_of_stay  \\\n",
       "count      432         432           432                     432   \n",
       "unique       2          28           161                     247   \n",
       "top       True   Singapore      Imported  Visited United Kingdom   \n",
       "freq       261         276           175                      54   \n",
       "first      NaN         NaN           NaN                     NaN   \n",
       "last       NaN         NaN           NaN                     NaN   \n",
       "mean       NaN         NaN           NaN                     NaN   \n",
       "std        NaN         NaN           NaN                     NaN   \n",
       "min        NaN         NaN           NaN                     NaN   \n",
       "25%        NaN         NaN           NaN                     NaN   \n",
       "50%        NaN         NaN           NaN                     NaN   \n",
       "75%        NaN         NaN           NaN                     NaN   \n",
       "max        NaN         NaN           NaN                     NaN   \n",
       "\n",
       "                              hospitals_visited visited_affected_areas  \\\n",
       "count                                       432                    432   \n",
       "unique                                       32                      3   \n",
       "top     National Centre for Infectious Diseases                     No   \n",
       "freq                                        268                    257   \n",
       "first                                       NaN                    NaN   \n",
       "last                                        NaN                    NaN   \n",
       "mean                                        NaN                    NaN   \n",
       "std                                         NaN                    NaN   \n",
       "min                                         NaN                    NaN   \n",
       "25%                                         NaN                    NaN   \n",
       "50%                                         NaN                    NaN   \n",
       "75%                                         NaN                    NaN   \n",
       "max                                         NaN                    NaN   \n",
       "\n",
       "          source  \n",
       "count        432  \n",
       "unique       169  \n",
       "top     [83][92]  \n",
       "freq          47  \n",
       "first        NaN  \n",
       "last         NaN  \n",
       "mean         NaN  \n",
       "std          NaN  \n",
       "min          NaN  \n",
       "25%          NaN  \n",
       "50%          NaN  \n",
       "75%          NaN  \n",
       "max          NaN  "
      ]
     },
     "execution_count": 525,
     "metadata": {},
     "output_type": "execute_result"
    }
   ],
   "source": [
    "covid.describe(include=\"all\")"
   ]
  },
  {
   "cell_type": "code",
   "execution_count": 526,
   "metadata": {},
   "outputs": [
    {
     "data": {
      "text/plain": [
       "Singapore         276\n",
       "Singapore PR       29\n",
       "China              21\n",
       "Indonesia          16\n",
       "Philippines        14\n",
       "United Kingdom     12\n",
       "Malaysia           10\n",
       "Australia           8\n",
       "United States       6\n",
       "Germany             6\n",
       "France              5\n",
       "Bangladesh          5\n",
       "Netherlands         3\n",
       "India               3\n",
       "Switzerland         3\n",
       "Sweden              2\n",
       "Spain               2\n",
       "Colombia            1\n",
       "Ireland             1\n",
       "Brazil              1\n",
       "Canada              1\n",
       "Italy               1\n",
       "Myanmar             1\n",
       "Japan               1\n",
       "New Zealand         1\n",
       "Thailand            1\n",
       "Belgium             1\n",
       "Russia              1\n",
       "Name: nationality, dtype: int64"
      ]
     },
     "execution_count": 526,
     "metadata": {},
     "output_type": "execute_result"
    }
   ],
   "source": [
    "covid['nationality'].value_counts()"
   ]
  },
  {
   "cell_type": "code",
   "execution_count": 527,
   "metadata": {},
   "outputs": [
    {
     "data": {
      "text/plain": [
       "Visited United Kingdom                                                                    54\n",
       "Unspecified                                                                               38\n",
       "Visited United States                                                                     17\n",
       "Visited Indonesia                                                                         13\n",
       "Visited Philippines                                                                        8\n",
       "                                                                                          ..\n",
       "Home at Senja Road, North West                                                             1\n",
       "Visited Croatia, Austria                                                                   1\n",
       "Visited FranceWorked at INSEAD Asia CampusHome at Dover Rise, South West                   1\n",
       "Student at The Orange Tree Preschool @ Choa Chu KangHome at Teck Whye Lane, South West     1\n",
       "Home at Wilkinson Road, South East                                                         1\n",
       "Name: place_of_stay, Length: 247, dtype: int64"
      ]
     },
     "execution_count": 527,
     "metadata": {},
     "output_type": "execute_result"
    }
   ],
   "source": [
    "covid['place_of_stay'].value_counts()"
   ]
  },
  {
   "cell_type": "code",
   "execution_count": 528,
   "metadata": {},
   "outputs": [
    {
     "data": {
      "text/plain": [
       "National Centre for Infectious Diseases                                                268\n",
       "Singapore General Hospital                                                              27\n",
       "Ng Teng Fong General Hospital                                                           25\n",
       "National University Hospital                                                            22\n",
       "Sengkang General Hospital                                                               16\n",
       "Changi General Hospital                                                                 12\n",
       "Khoo Teck Puat Hospital                                                                 11\n",
       "KK Women's and Children's Hospital                                                       7\n",
       "Tan Tock Seng HospitalNational Centre for Infectious Diseases                            7\n",
       "Gleneagles HospitalNational Centre for Infectious Diseases                               4\n",
       "Alexandra Hospital                                                                       3\n",
       "Raffles HospitalNational Centre for Infectious Diseases                                  3\n",
       "National University HospitalNational Centre for Infectious Diseases                      2\n",
       "Mount Elizabeth Hospital                                                                 2\n",
       "Mount Elizabeth HospitalNational Centre for Infectious Diseases                          2\n",
       "Khoo Teck Puat HospitalNational Centre for Infectious Diseases                           2\n",
       "Sengkang General HospitalNational Centre for Infectious Diseases                         2\n",
       "Gleneagles Hospital                                                                      2\n",
       "Farrer Park HospitalNg Teng Fong General Hospital                                        2\n",
       "KK Women's and Children's HospitalNational Centre for Infectious Diseases                1\n",
       "Ng Teng Fong General HospitalNational Centre for Infectious Diseases                     1\n",
       "Sengkang General HospitalNational University Hospital                                    1\n",
       "Mount Elizabeth Novena Hospital                                                          1\n",
       "Parkway East Hospital                                                                    1\n",
       "Parkway East HospitalNational Centre for Infectious Diseases                             1\n",
       "Ng Teng Fong General HospitalNational University Hospital                                1\n",
       "Camden Medical CentreNational University Hospital                                        1\n",
       "Mount Elizabeth Novena HospitalNational Centre for Infectious Diseases                   1\n",
       "Health Promotion Board facilityKhoo Teck Puat Hospital                                   1\n",
       "Farrer Park HospitalMount Elizabeth HospitalNational Centre for Infectious Diseases      1\n",
       "Farrer Park Hospital                                                                     1\n",
       "National Centre for Infectious DiseasesChangi General Hospital                           1\n",
       "Name: hospitals_visited, dtype: int64"
      ]
     },
     "execution_count": 528,
     "metadata": {},
     "output_type": "execute_result"
    }
   ],
   "source": [
    "covid['hospitals_visited'].value_counts()"
   ]
  },
  {
   "cell_type": "code",
   "execution_count": null,
   "metadata": {},
   "outputs": [],
   "source": []
  }
 ],
 "metadata": {
  "kernelspec": {
   "display_name": "Python 3",
   "language": "python",
   "name": "python3"
  },
  "language_info": {
   "codemirror_mode": {
    "name": "ipython",
    "version": 3
   },
   "file_extension": ".py",
   "mimetype": "text/x-python",
   "name": "python",
   "nbconvert_exporter": "python",
   "pygments_lexer": "ipython3",
   "version": "3.7.4"
  }
 },
 "nbformat": 4,
 "nbformat_minor": 2
}
