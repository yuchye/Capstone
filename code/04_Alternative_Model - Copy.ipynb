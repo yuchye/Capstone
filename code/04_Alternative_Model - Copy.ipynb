{
 "cells": [
  {
   "cell_type": "markdown",
   "metadata": {},
   "source": [
    "# Capstone Project: Classifying clinically actionable genetic mutations\n",
    "\n",
    "***"
   ]
  },
  {
   "cell_type": "markdown",
   "metadata": {},
   "source": [
    "## Notebook 4: Alternative Model"
   ]
  },
  {
   "cell_type": "markdown",
   "metadata": {},
   "source": [
    "This notebook contains code to find a suitable alternative model to address the classification problem, by exploring static word embeddings."
   ]
  },
  {
   "cell_type": "markdown",
   "metadata": {},
   "source": [
    "### Contents\n",
    "\n",
    "- [Importing of Libraries](#Importing-of-Libraries)\n",
    "- [Data Import](#Data-Import)\n",
    "- [Preparation for Modelling](#Preparation-for-Modelling)\n",
    "- [Exploring static word embeddings](#Exploring-static-word-embeddings)\n",
    "    - [Loading of pre-trained word embeddings based on GloVe](#Loading-of-pre-trained-word-embeddings-based-on-GloVe)\n",
    "    - [Creation of Word2Vec word embeddings based on training dataset vocabulary](#Creation-of-Word2Vec-word-embeddings-based-on-training-dataset-vocabulary)\n",
    "    - [Finding the best combination of word embeddings and vectorizer](#Finding-the-best-combination-of-word-embeddings-and-vectorizer)\n",
    "- [Creation of (Inner) Training and Validation Datasets](#Creation-of-(Inner)-Training-and-Validation-Datasets)\n",
    "- [Combining word embeddings with dummy columns](#Combining-word-embeddings-with-dummy-columns)\n",
    "- [Handling of imbalanced classes](#Handling-of-imbalanced-classes)\n",
    "- [Scaling the data for PCA](#Scaling-the-data-for-PCA)\n",
    "- [Dimensionality reduction using PCA](#Dimensionality-reduction-using-PCA)\n",
    "- [Randomised search for optimal classifier parameters](#Randomised-search-for-optimal-classifier-parameters)\n",
    "- [Selection of Alternative Model](#Selection-of-Alternative-Model)\n",
    "- [Further Exploration of Alternative Model](#Further-Exploration-of-Alternative-Model)\n",
    "    - [Logistic Regression Coefficients](#Logistic-Regression-Coefficients)\n",
    "    - [ROC curves and metrics for Validation Dataset](#ROC-curves-and-metrics-for-Validation-Dataset)\n",
    "    - [Confusion Matrix](#Confusion-Matrix)\n",
    "    - [Comparison of Frequency Distributions](#Comparison-of-Frequency-Distributions)\n",
    "- [Selection of Final Model](#Selection-of-Final-Model)\n",
    "- [Data Export (for Kaggle Submission)](#Data-Export-(for-Kaggle-Submission))"
   ]
  },
  {
   "cell_type": "markdown",
   "metadata": {},
   "source": [
    "## Importing of Libraries"
   ]
  },
  {
   "cell_type": "code",
   "execution_count": 1,
   "metadata": {},
   "outputs": [
    {
     "name": "stderr",
     "output_type": "stream",
     "text": [
      "Using TensorFlow backend.\n"
     ]
    }
   ],
   "source": [
    "# Standard libraries\n",
    "import pandas as pd\n",
    "import numpy as np\n",
    "import matplotlib.pyplot as plt\n",
    "plt.style.use('fivethirtyeight')\n",
    "import seaborn as sns\n",
    "from itertools import cycle\n",
    "%config InlineBackend.figure_format = 'retina'\n",
    "%matplotlib inline\n",
    "\n",
    "# Additional general purpose libraries\n",
    "import time\n",
    "import datetime\n",
    "import pickle\n",
    "from tabulate import tabulate\n",
    "from gensim.models.word2vec import Word2Vec\n",
    "from collections import Counter, defaultdict\n",
    "\n",
    "# Used for GloVe word embeddings\n",
    "import struct\n",
    "GLOVE_6B_50D_PATH = \"../assets/glove.6B.50d.txt\"\n",
    "GLOVE_6B_300D_PATH = \"../assets/glove.6B.300d.txt\"\n",
    "encoding=\"utf-8\"\n",
    "\n",
    "# scikit-learn machine learning libraries\n",
    "from sklearn import linear_model, metrics, svm\n",
    "from sklearn.decomposition import PCA\n",
    "from sklearn.pipeline import Pipeline\n",
    "from sklearn.model_selection import train_test_split, cross_val_score, RandomizedSearchCV\n",
    "from sklearn.linear_model import LogisticRegression\n",
    "from sklearn.feature_extraction.text import CountVectorizer, TfidfVectorizer\n",
    "from sklearn.ensemble import RandomForestClassifier, ExtraTreesClassifier, AdaBoostClassifier\n",
    "from sklearn.neighbors import KNeighborsClassifier\n",
    "from sklearn.tree import DecisionTreeClassifier\n",
    "from sklearn.naive_bayes import GaussianNB\n",
    "from sklearn.svm import SVC\n",
    "from sklearn.preprocessing import label_binarize, StandardScaler\n",
    "from sklearn.metrics import roc_curve, auc, f1_score, balanced_accuracy_score,\\\n",
    "    plot_confusion_matrix\n",
    "from sklearn.multiclass import OneVsRestClassifier\n",
    "\n",
    "# Used for visualising specific trees\n",
    "from sklearn.tree import export_graphviz\n",
    "from subprocess import call \n",
    "from IPython.display import Image\n",
    "\n",
    "# Used for oversampling\n",
    "from imblearn.over_sampling import ADASYN\n",
    "\n",
    "# Used for forward neural network classifier\n",
    "from keras.models import Sequential\n",
    "from keras.layers import Dense, Dropout\n",
    "from keras.wrappers.scikit_learn import KerasClassifier\n",
    "from keras import optimizers\n",
    "\n",
    "# Initialise random seeed for more consistent results\n",
    "from numpy.random import seed\n",
    "seed(42)"
   ]
  },
  {
   "cell_type": "markdown",
   "metadata": {},
   "source": [
    "## Data Import"
   ]
  },
  {
   "cell_type": "code",
   "execution_count": 2,
   "metadata": {},
   "outputs": [],
   "source": [
    "# Import 'train_prep' and 'test_prep' datasets\n",
    "# We use the 'keep_default_na' option to False to ensure that pandas does not re-introduce missing values\n",
    "train = pd.read_csv(\"../assets/train_prep.csv\", keep_default_na=False)\n",
    "test = pd.read_csv(\"../assets/test_prep.csv\", keep_default_na=False)"
   ]
  },
  {
   "cell_type": "code",
   "execution_count": 3,
   "metadata": {},
   "outputs": [
    {
     "data": {
      "text/plain": [
       "((3321, 4325), (986, 4324))"
      ]
     },
     "execution_count": 3,
     "metadata": {},
     "output_type": "execute_result"
    }
   ],
   "source": [
    "train.shape, test.shape"
   ]
  },
  {
   "cell_type": "code",
   "execution_count": 4,
   "metadata": {},
   "outputs": [
    {
     "data": {
      "text/html": [
       "<div>\n",
       "<style scoped>\n",
       "    .dataframe tbody tr th:only-of-type {\n",
       "        vertical-align: middle;\n",
       "    }\n",
       "\n",
       "    .dataframe tbody tr th {\n",
       "        vertical-align: top;\n",
       "    }\n",
       "\n",
       "    .dataframe thead th {\n",
       "        text-align: right;\n",
       "    }\n",
       "</style>\n",
       "<table border=\"1\" class=\"dataframe\">\n",
       "  <thead>\n",
       "    <tr style=\"text-align: right;\">\n",
       "      <th></th>\n",
       "      <th>id</th>\n",
       "      <th>class</th>\n",
       "      <th>text</th>\n",
       "      <th>gene_ABCB11</th>\n",
       "      <th>gene_ABCC6</th>\n",
       "      <th>gene_ABL1</th>\n",
       "      <th>gene_ACVR1</th>\n",
       "      <th>gene_ADAMTS13</th>\n",
       "      <th>gene_ADGRG1</th>\n",
       "      <th>gene_AGO2</th>\n",
       "      <th>...</th>\n",
       "      <th>variation_YAP1-TFE3 Fusion</th>\n",
       "      <th>variation_YWHAE-ROS1 Fusion</th>\n",
       "      <th>variation_ZC3H7B-BCOR Fusion</th>\n",
       "      <th>variation_ZNF198-FGFR1 Fusion</th>\n",
       "      <th>variation_null1313Y</th>\n",
       "      <th>variation_null189Y</th>\n",
       "      <th>variation_null262Q</th>\n",
       "      <th>variation_null267R</th>\n",
       "      <th>variation_null399R</th>\n",
       "      <th>variation_p61BRAF</th>\n",
       "    </tr>\n",
       "  </thead>\n",
       "  <tbody>\n",
       "    <tr>\n",
       "      <th>0</th>\n",
       "      <td>0</td>\n",
       "      <td>1</td>\n",
       "      <td>cyclin dependent kinase cdks regulate variety ...</td>\n",
       "      <td>0</td>\n",
       "      <td>0</td>\n",
       "      <td>0</td>\n",
       "      <td>0</td>\n",
       "      <td>0</td>\n",
       "      <td>0</td>\n",
       "      <td>0</td>\n",
       "      <td>...</td>\n",
       "      <td>0</td>\n",
       "      <td>0</td>\n",
       "      <td>0</td>\n",
       "      <td>0</td>\n",
       "      <td>0</td>\n",
       "      <td>0</td>\n",
       "      <td>0</td>\n",
       "      <td>0</td>\n",
       "      <td>0</td>\n",
       "      <td>0</td>\n",
       "    </tr>\n",
       "    <tr>\n",
       "      <th>1</th>\n",
       "      <td>1</td>\n",
       "      <td>2</td>\n",
       "      <td>abstract background non small lung nsclc heter...</td>\n",
       "      <td>0</td>\n",
       "      <td>0</td>\n",
       "      <td>0</td>\n",
       "      <td>0</td>\n",
       "      <td>0</td>\n",
       "      <td>0</td>\n",
       "      <td>0</td>\n",
       "      <td>...</td>\n",
       "      <td>0</td>\n",
       "      <td>0</td>\n",
       "      <td>0</td>\n",
       "      <td>0</td>\n",
       "      <td>0</td>\n",
       "      <td>0</td>\n",
       "      <td>0</td>\n",
       "      <td>0</td>\n",
       "      <td>0</td>\n",
       "      <td>0</td>\n",
       "    </tr>\n",
       "  </tbody>\n",
       "</table>\n",
       "<p>2 rows × 4325 columns</p>\n",
       "</div>"
      ],
      "text/plain": [
       "   id  class                                               text  gene_ABCB11  \\\n",
       "0   0      1  cyclin dependent kinase cdks regulate variety ...            0   \n",
       "1   1      2  abstract background non small lung nsclc heter...            0   \n",
       "\n",
       "   gene_ABCC6  gene_ABL1  gene_ACVR1  gene_ADAMTS13  gene_ADGRG1  gene_AGO2  \\\n",
       "0           0          0           0              0            0          0   \n",
       "1           0          0           0              0            0          0   \n",
       "\n",
       "   ...  variation_YAP1-TFE3 Fusion  variation_YWHAE-ROS1 Fusion  \\\n",
       "0  ...                           0                            0   \n",
       "1  ...                           0                            0   \n",
       "\n",
       "   variation_ZC3H7B-BCOR Fusion  variation_ZNF198-FGFR1 Fusion  \\\n",
       "0                             0                              0   \n",
       "1                             0                              0   \n",
       "\n",
       "   variation_null1313Y  variation_null189Y  variation_null262Q  \\\n",
       "0                    0                   0                   0   \n",
       "1                    0                   0                   0   \n",
       "\n",
       "   variation_null267R  variation_null399R  variation_p61BRAF  \n",
       "0                   0                   0                  0  \n",
       "1                   0                   0                  0  \n",
       "\n",
       "[2 rows x 4325 columns]"
      ]
     },
     "execution_count": 4,
     "metadata": {},
     "output_type": "execute_result"
    }
   ],
   "source": [
    "train.head(2)"
   ]
  },
  {
   "cell_type": "code",
   "execution_count": 5,
   "metadata": {},
   "outputs": [
    {
     "data": {
      "text/html": [
       "<div>\n",
       "<style scoped>\n",
       "    .dataframe tbody tr th:only-of-type {\n",
       "        vertical-align: middle;\n",
       "    }\n",
       "\n",
       "    .dataframe tbody tr th {\n",
       "        vertical-align: top;\n",
       "    }\n",
       "\n",
       "    .dataframe thead th {\n",
       "        text-align: right;\n",
       "    }\n",
       "</style>\n",
       "<table border=\"1\" class=\"dataframe\">\n",
       "  <thead>\n",
       "    <tr style=\"text-align: right;\">\n",
       "      <th></th>\n",
       "      <th>id</th>\n",
       "      <th>text</th>\n",
       "      <th>gene_ABCB11</th>\n",
       "      <th>gene_ABCC6</th>\n",
       "      <th>gene_ABL1</th>\n",
       "      <th>gene_ACVR1</th>\n",
       "      <th>gene_ADAMTS13</th>\n",
       "      <th>gene_ADGRG1</th>\n",
       "      <th>gene_AGO2</th>\n",
       "      <th>gene_AGXT</th>\n",
       "      <th>...</th>\n",
       "      <th>variation_YAP1-TFE3 Fusion</th>\n",
       "      <th>variation_YWHAE-ROS1 Fusion</th>\n",
       "      <th>variation_ZC3H7B-BCOR Fusion</th>\n",
       "      <th>variation_ZNF198-FGFR1 Fusion</th>\n",
       "      <th>variation_null1313Y</th>\n",
       "      <th>variation_null189Y</th>\n",
       "      <th>variation_null262Q</th>\n",
       "      <th>variation_null267R</th>\n",
       "      <th>variation_null399R</th>\n",
       "      <th>variation_p61BRAF</th>\n",
       "    </tr>\n",
       "  </thead>\n",
       "  <tbody>\n",
       "    <tr>\n",
       "      <th>0</th>\n",
       "      <td>1</td>\n",
       "      <td>incidence breast increase china recent decade ...</td>\n",
       "      <td>0</td>\n",
       "      <td>0</td>\n",
       "      <td>0</td>\n",
       "      <td>0</td>\n",
       "      <td>0</td>\n",
       "      <td>0</td>\n",
       "      <td>0</td>\n",
       "      <td>0</td>\n",
       "      <td>...</td>\n",
       "      <td>0</td>\n",
       "      <td>0</td>\n",
       "      <td>0</td>\n",
       "      <td>0</td>\n",
       "      <td>0</td>\n",
       "      <td>0</td>\n",
       "      <td>0</td>\n",
       "      <td>0</td>\n",
       "      <td>0</td>\n",
       "      <td>0</td>\n",
       "    </tr>\n",
       "    <tr>\n",
       "      <th>1</th>\n",
       "      <td>2</td>\n",
       "      <td>unselected series colorectal carcinoma stratif...</td>\n",
       "      <td>0</td>\n",
       "      <td>0</td>\n",
       "      <td>0</td>\n",
       "      <td>0</td>\n",
       "      <td>0</td>\n",
       "      <td>0</td>\n",
       "      <td>0</td>\n",
       "      <td>0</td>\n",
       "      <td>...</td>\n",
       "      <td>0</td>\n",
       "      <td>0</td>\n",
       "      <td>0</td>\n",
       "      <td>0</td>\n",
       "      <td>0</td>\n",
       "      <td>0</td>\n",
       "      <td>0</td>\n",
       "      <td>0</td>\n",
       "      <td>0</td>\n",
       "      <td>0</td>\n",
       "    </tr>\n",
       "  </tbody>\n",
       "</table>\n",
       "<p>2 rows × 4324 columns</p>\n",
       "</div>"
      ],
      "text/plain": [
       "   id                                               text  gene_ABCB11  \\\n",
       "0   1  incidence breast increase china recent decade ...            0   \n",
       "1   2  unselected series colorectal carcinoma stratif...            0   \n",
       "\n",
       "   gene_ABCC6  gene_ABL1  gene_ACVR1  gene_ADAMTS13  gene_ADGRG1  gene_AGO2  \\\n",
       "0           0          0           0              0            0          0   \n",
       "1           0          0           0              0            0          0   \n",
       "\n",
       "   gene_AGXT  ...  variation_YAP1-TFE3 Fusion  variation_YWHAE-ROS1 Fusion  \\\n",
       "0          0  ...                           0                            0   \n",
       "1          0  ...                           0                            0   \n",
       "\n",
       "   variation_ZC3H7B-BCOR Fusion  variation_ZNF198-FGFR1 Fusion  \\\n",
       "0                             0                              0   \n",
       "1                             0                              0   \n",
       "\n",
       "   variation_null1313Y  variation_null189Y  variation_null262Q  \\\n",
       "0                    0                   0                   0   \n",
       "1                    0                   0                   0   \n",
       "\n",
       "   variation_null267R  variation_null399R  variation_p61BRAF  \n",
       "0                   0                   0                  0  \n",
       "1                   0                   0                  0  \n",
       "\n",
       "[2 rows x 4324 columns]"
      ]
     },
     "execution_count": 5,
     "metadata": {},
     "output_type": "execute_result"
    }
   ],
   "source": [
    "test.head(2)"
   ]
  },
  {
   "cell_type": "markdown",
   "metadata": {},
   "source": [
    "## Preparation for Modelling"
   ]
  },
  {
   "cell_type": "code",
   "execution_count": 6,
   "metadata": {},
   "outputs": [],
   "source": [
    "# Splitting of data into Predictor (X) and Target (y) Dataframes\n",
    "X = train[[i for i in train.columns if i not in ['id', 'class']]]\n",
    "y = train['class']"
   ]
  },
  {
   "cell_type": "code",
   "execution_count": 7,
   "metadata": {
    "scrolled": false
   },
   "outputs": [
    {
     "data": {
      "text/plain": [
       "((3321, 4323), (3321,))"
      ]
     },
     "execution_count": 7,
     "metadata": {},
     "output_type": "execute_result"
    }
   ],
   "source": [
    "X.shape, y.shape"
   ]
  },
  {
   "cell_type": "code",
   "execution_count": 8,
   "metadata": {},
   "outputs": [],
   "source": [
    "# Save copies of the original X and y dataframes so that we can try different word embeddings as needed\n",
    "X_original = X.copy()\n",
    "y_original = y.copy()"
   ]
  },
  {
   "cell_type": "code",
   "execution_count": 9,
   "metadata": {},
   "outputs": [],
   "source": [
    "X_test = test.drop(['id'], axis=1)"
   ]
  },
  {
   "cell_type": "code",
   "execution_count": 10,
   "metadata": {},
   "outputs": [
    {
     "data": {
      "text/plain": [
       "(986, 4323)"
      ]
     },
     "execution_count": 10,
     "metadata": {},
     "output_type": "execute_result"
    }
   ],
   "source": [
    "X_test.shape"
   ]
  },
  {
   "cell_type": "code",
   "execution_count": 11,
   "metadata": {},
   "outputs": [
    {
     "name": "stdout",
     "output_type": "stream",
     "text": [
      "Wall time: 2.21 s\n"
     ]
    }
   ],
   "source": [
    "%%time\n",
    "# For convenience, we create an array called 'X_all_text that contains\n",
    "# all the text from our training set, across all samples\n",
    "X_all_text = []\n",
    "for text in X['text']:\n",
    "    X_all_text.append(text.split())\n",
    "X_all_text = np.array(X_all_text)"
   ]
  },
  {
   "cell_type": "code",
   "execution_count": 12,
   "metadata": {},
   "outputs": [
    {
     "data": {
      "text/plain": [
       "(3321,)"
      ]
     },
     "execution_count": 12,
     "metadata": {},
     "output_type": "execute_result"
    }
   ],
   "source": [
    "X_all_text.shape"
   ]
  },
  {
   "cell_type": "code",
   "execution_count": 13,
   "metadata": {},
   "outputs": [],
   "source": [
    "# Create a set of all the unique words from our taining set, across all samples\n",
    "X_unique_words = set()\n",
    "for row in range(len(X_all_text)):\n",
    "    X_unique_words.update(X_all_text[row])"
   ]
  },
  {
   "cell_type": "code",
   "execution_count": 14,
   "metadata": {},
   "outputs": [
    {
     "data": {
      "text/plain": [
       "81312"
      ]
     },
     "execution_count": 14,
     "metadata": {},
     "output_type": "execute_result"
    }
   ],
   "source": [
    "len(X_unique_words)"
   ]
  },
  {
   "cell_type": "code",
   "execution_count": 15,
   "metadata": {},
   "outputs": [],
   "source": [
    "max_phrase_len = 0\n",
    "for row in range(len(X_all_text)):\n",
    "    if len(X_all_text[row]) > max_phrase_len:\n",
    "        max_phrase_len = len(X_all_text[row])"
   ]
  },
  {
   "cell_type": "code",
   "execution_count": 16,
   "metadata": {
    "scrolled": true
   },
   "outputs": [
    {
     "data": {
      "text/plain": [
       "44019"
      ]
     },
     "execution_count": 16,
     "metadata": {},
     "output_type": "execute_result"
    }
   ],
   "source": [
    "max_phrase_len"
   ]
  },
  {
   "cell_type": "markdown",
   "metadata": {},
   "source": [
    "## Exploring static word embeddings"
   ]
  },
  {
   "cell_type": "markdown",
   "metadata": {},
   "source": [
    "In this notebook, we evaluate two static word embeddings as an alternative representation of the words in the clinical text, instead of the weighted word counts created using TfidfVectorizer in the baseline model.\n",
    "\n",
    "As explained by Jason Brownless at https://machinelearningmastery.com/develop-word-embeddings-python-gensim/:\n",
    "\n",
    "A word embedding is a dense vector representation of words that capture their meaning in some way. Word embeddings are an improvement over simpler word encoding schemes (like TfidfVectorizer) that result in large and sparse vectors that describe documents but not the meaning of the words. Word embeddings work by using an algorithm to train a set of fixed-length dense and continuous-valued vectors based on a large corpus of text. Each word is represented by a point in the embedding space and these points are learned and moved around based on the words that surround the target word.\n",
    "\n",
    "It is defining a word by the company that it keeps that allows the word embedding to learn something about the meaning of words. The vector space representation of the words provides a projection where words with similar meanings are locally clustered within the space.\n",
    "\n",
    "The use of word embeddings over other text representations is one of the key methods that has led to breakthrough performance with deep neural networks on problems like machine translation."
   ]
  },
  {
   "cell_type": "markdown",
   "metadata": {},
   "source": [
    "We explore three static word embeddings to see if we can get better classification results:\n",
    "1. A smaller set of GloVe embeddings (which we call **'glove_small'**) that are based on based on Wikipedia 2015 and Gigaword 5th Edition (https://catalog.ldc.upenn.edu/LDC2011T07). Global Vectors for Word Representation (GloVe) are pre-trained word embeddings created by the [Stanford Natural Language Processing Group](https://nlp.stanford.edu/) and available at https://nlp.stanford.edu/projects/glove/.\n",
    "2. A larger set of GloVe embeddings (which we call **'glove_big'**) that are based on Common Crawl (https://commoncrawl.org/)\n",
    "3. Our own word embeddings created by training Word2Vec (from nltk) on all the given text in the training dataset, which we call **'w2v'**.\n",
    "\n",
    "The embeddings are 'static' in the sense that they do not take the context of the whole document that each word is found in, i.e. the other words in the same document."
   ]
  },
  {
   "cell_type": "markdown",
   "metadata": {},
   "source": [
    "### Loading of pre-trained word embeddings based on GloVe"
   ]
  },
  {
   "cell_type": "markdown",
   "metadata": {},
   "source": [
    "We now load the two pre-trained word embeddings (based on GloVe) and store them as dictionary objects 'glove_small' and 'glove_big'."
   ]
  },
  {
   "cell_type": "code",
   "execution_count": 17,
   "metadata": {},
   "outputs": [
    {
     "name": "stdout",
     "output_type": "stream",
     "text": [
      "Wall time: 10.4 s\n"
     ]
    }
   ],
   "source": [
    "%%time\n",
    "\n",
    "# glove_small keys are bounded by what is common to both the X_all_text and the glove file\n",
    "glove_small = {}\n",
    "all_words = set(w for words in X_all_text for w in words)\n",
    "with open(GLOVE_6B_50D_PATH, \"rb\") as infile:\n",
    "    for line in infile:\n",
    "        parts = line.split()\n",
    "        word = parts[0].decode(encoding)\n",
    "        if (word in all_words):\n",
    "            nums=np.array(parts[1:], dtype=np.float32)\n",
    "            glove_small[word] = nums\n",
    "\n",
    "# glove_big keys are bounded by what is common to both the X_all_text and the glove file\n",
    "glove_big = {}\n",
    "with open(GLOVE_6B_300D_PATH, \"rb\") as infile:\n",
    "    for line in infile:\n",
    "        parts = line.split()\n",
    "        word = parts[0].decode(encoding)\n",
    "        if word in all_words:\n",
    "            nums=np.array(parts[1:], dtype=np.float32)\n",
    "            glove_big[word] = nums"
   ]
  },
  {
   "cell_type": "markdown",
   "metadata": {},
   "source": [
    "### Creation of Word2Vec word embeddings based on training dataset vocabulary"
   ]
  },
  {
   "cell_type": "markdown",
   "metadata": {},
   "source": [
    "We now create our own word embeddings using Word2Vec from nltk, trained using all the text in the training dataset."
   ]
  },
  {
   "cell_type": "code",
   "execution_count": 18,
   "metadata": {},
   "outputs": [
    {
     "name": "stdout",
     "output_type": "stream",
     "text": [
      "Wall time: 58.5 s\n"
     ]
    },
    {
     "name": "stderr",
     "output_type": "stream",
     "text": [
      "C:\\Users\\yuchy\\Anaconda3\\lib\\site-packages\\ipykernel_launcher.py:2: DeprecationWarning: Call to deprecated `syn0` (Attribute will be removed in 4.0.0, use self.vectors instead).\n",
      "  \n"
     ]
    }
   ],
   "source": [
    "%%time\n",
    "model = Word2Vec(X_all_text, size=100, window=5, min_count=5, workers=8)\n",
    "w2v = {w: vec for w, vec in zip(model.wv.index2word, model.wv.syn0)}"
   ]
  },
  {
   "cell_type": "markdown",
   "metadata": {},
   "source": [
    "### Defining new Vectorizers"
   ]
  },
  {
   "cell_type": "markdown",
   "metadata": {
    "collapsed": true
   },
   "source": [
    "We define two word embedding vectorizers:\n",
    "- **MeanEmbeddingVectorizer**: takes the mean of all the 'glove_small' vectors corresponding to individual words\n",
    "- **TfidfEmbeddingVectorizer** takes the mean of all the 'glove_small' vectors corresponding to individual words **weighted** based on each word's inverse document frequency. "
   ]
  },
  {
   "cell_type": "code",
   "execution_count": 19,
   "metadata": {},
   "outputs": [],
   "source": [
    "class MeanEmbeddingVectorizer(object):\n",
    "    \n",
    "    # Creating a new MeanEmbeddingVectorizer object with input parameter of 'word2vec'\n",
    "    # will create a new array of size equal to the number of words contained in word2vec\n",
    "    # that are also present in the glove_small dictionary\n",
    "    def __init__(self, word2vec):\n",
    "        self.word2vec = word2vec\n",
    "        if len(word2vec)>0:\n",
    "            self.dim=len(word2vec[next(iter(glove_small))])\n",
    "        else:\n",
    "            self.dim=0\n",
    "            \n",
    "    # The 'fit' method simply returns the input parameter 'word2vec' itself\n",
    "    def fit(self, X, y):\n",
    "        return self \n",
    "\n",
    "    # The 'transform' method returns an array consisting of the mean of all\n",
    "    # 'glove_small\" vectors that correspond to individual words in the input parameter 'X'\n",
    "    def transform(self, X):\n",
    "        return np.array([\n",
    "            np.mean([self.word2vec[w] for w in words if w in self.word2vec] \n",
    "                    or [np.zeros(self.dim)], axis=0)\n",
    "            for words in X\n",
    "        ])\n",
    "\n",
    "# TfidfVectorizer is a variation of the Term Frequency - Inverse Document Frequency (Tfidf) Vectorizer\n",
    "class TfidfEmbeddingVectorizer(object):\n",
    "    \n",
    "    # Creating a new TfidfEmbeddingVectorizer object with input parameter of 'word2vec'\n",
    "    # will create an array of size equal to the number of words contained in word2vec\n",
    "    # that are also present in the glove_small dictionary\n",
    "    def __init__(self, word2vec):\n",
    "        self.word2vec = word2vec\n",
    "        self.word2weight = None\n",
    "        if len(word2vec)>0:\n",
    "            self.dim=len(word2vec[next(iter(glove_small))])\n",
    "        else:\n",
    "            self.dim=0\n",
    "        \n",
    "    # The 'fit' method updates the word weights attribute based on the\n",
    "    # output of the standard TfidfVectorizer\n",
    "    def fit(self, X, y):\n",
    "        tfidf = TfidfVectorizer(analyzer=lambda x: x)\n",
    "        tfidf.fit(X)\n",
    "        # if a word was never seen - it must be at least as infrequent\n",
    "        # as any of the known words - so the default idf is the max of \n",
    "        # known idf's\n",
    "        max_idf = max(tfidf.idf_)\n",
    "        self.word2weight = defaultdict(\n",
    "            lambda: max_idf, \n",
    "            [(w, tfidf.idf_[i]) for w, i in tfidf.vocabulary_.items()])\n",
    "    \n",
    "        return self\n",
    "    \n",
    "    # The 'transform' method returns an array consisting of the mean of all 'glove_small'\n",
    "    # vectors (adjusted by the Tfidf weights) that correspond to individual words\n",
    "    # in the input parameter 'X'\n",
    "    def transform(self, X):\n",
    "        return np.array([\n",
    "                np.mean([self.word2vec[w] * self.word2weight[w]\n",
    "                         for w in words if w in self.word2vec] or\n",
    "                        [np.zeros(self.dim)], axis=0)\n",
    "                for words in X\n",
    "            ])"
   ]
  },
  {
   "cell_type": "markdown",
   "metadata": {},
   "source": [
    "### Finding the best combination of word embeddings and vectorizer"
   ]
  },
  {
   "cell_type": "markdown",
   "metadata": {},
   "source": [
    "To identify the best combination of the alternative word embeddings above and the vectorizers defined above, we calculate cross-validated accuracy scores for different pipelines (i.e. combinations) of the word embeddings and vectorizers, coupled with the Extra Trees classifier. The Extra Trees Classifier is chosen based on its generally good performance; it produces less variance but may cause an increase in bias, compared to a Random Forest classifier.\n",
    "\n",
    "Our goal is to pin down our chosen word embeddings and vectorizer for subsequent training of the classifier.\n",
    "\n",
    "The different pipelines are as follows:\n",
    "- mev_w2v: MeanEmbeddingVectorizer based on our own 'w2v' word vectors created using Word2Vec on the words in the training dataset\n",
    "- tev_w2v: TfidfEmbeddingVectorizer based on our own 'w2v word vectors\n",
    "- mev_glove_small: MeanEmbeddingVectorizer based on the 'glove_small' word vectors\n",
    "- tev_glove_small: TfidfEmbeddingVectorizer based on the 'glove_small' word vectors\n",
    "- mev_glove_big: MeanEmbeddingVectorizer based on the 'glove_big' word vectors\n",
    "- tev_glove_big: TfidfEmbeddingVectorizer based on the 'glove_big' word vectors"
   ]
  },
  {
   "cell_type": "code",
   "execution_count": 20,
   "metadata": {},
   "outputs": [],
   "source": [
    "# Create the various pipelines for evaluation\n",
    "mev_w2v = Pipeline([(\"word2vec vectorizer\", MeanEmbeddingVectorizer(w2v)), \n",
    "                        (\"extra trees\", ExtraTreesClassifier(n_estimators=200, verbose=1, random_state=42, n_jobs=-1))])\n",
    "tev_w2v = Pipeline([(\"word2vec vectorizer\", TfidfEmbeddingVectorizer(w2v)), \n",
    "                        (\"extra trees\", ExtraTreesClassifier(n_estimators=200, verbose=1, random_state=42, n_jobs=-1))])\n",
    "mev_glove_small = Pipeline([(\"glove vectorizer\", MeanEmbeddingVectorizer(glove_small)), \n",
    "                        (\"extra trees\", ExtraTreesClassifier(n_estimators=200, verbose=1, random_state=42, n_jobs=-1))])\n",
    "tev_glove_small = Pipeline([(\"glove vectorizer\", TfidfEmbeddingVectorizer(glove_small)), \n",
    "                        (\"extra trees\", ExtraTreesClassifier(n_estimators=200, verbose=1, random_state=42, n_jobs=-1))])\n",
    "mev_glove_big = Pipeline([(\"glove vectorizer\", MeanEmbeddingVectorizer(glove_big)), \n",
    "                        (\"extra trees\", ExtraTreesClassifier(n_estimators=200, verbose=1, random_state=42, n_jobs=-1))])\n",
    "tev_glove_big = Pipeline([(\"glove vectorizer\", TfidfEmbeddingVectorizer(glove_big)), \n",
    "                        (\"extra trees\", ExtraTreesClassifier(n_estimators=200, verbose=1, random_state=42, n_jobs=-1))])"
   ]
  },
  {
   "cell_type": "markdown",
   "metadata": {},
   "source": [
    "We now obtain the 3-fold cross-validation accuracy scores for each pipeline based on the labels 'y' (i.e. variation classes), and sort them in descending order of cross-validation accuracy score."
   ]
  },
  {
   "cell_type": "code",
   "execution_count": 21,
   "metadata": {},
   "outputs": [
    {
     "name": "stderr",
     "output_type": "stream",
     "text": [
      "[Parallel(n_jobs=4)]: Using backend LokyBackend with 4 concurrent workers.\n",
      "[Parallel(n_jobs=4)]: Done   3 out of   3 | elapsed:   49.9s finished\n",
      "[Parallel(n_jobs=4)]: Using backend LokyBackend with 4 concurrent workers.\n",
      "[Parallel(n_jobs=4)]: Done   3 out of   3 | elapsed:  2.3min finished\n",
      "[Parallel(n_jobs=4)]: Using backend LokyBackend with 4 concurrent workers.\n",
      "[Parallel(n_jobs=4)]: Done   3 out of   3 | elapsed:   42.4s finished\n",
      "[Parallel(n_jobs=4)]: Using backend LokyBackend with 4 concurrent workers.\n",
      "[Parallel(n_jobs=4)]: Done   3 out of   3 | elapsed:  2.1min finished\n",
      "[Parallel(n_jobs=4)]: Using backend LokyBackend with 4 concurrent workers.\n",
      "[Parallel(n_jobs=4)]: Done   3 out of   3 | elapsed:  1.0min finished\n",
      "[Parallel(n_jobs=4)]: Using backend LokyBackend with 4 concurrent workers.\n"
     ]
    },
    {
     "name": "stdout",
     "output_type": "stream",
     "text": [
      "Model              Cross-Validation Accuracy Score\n",
      "---------------  ---------------------------------\n",
      "mev_w2v                                     0.4312\n",
      "tev_w2v                                     0.4140\n",
      "mev_glove_small                             0.3957\n",
      "mev_glove_big                               0.3773\n",
      "tev_glove_small                             0.3433\n",
      "tev_glove_big                               0.3327\n",
      "Wall time: 9min 28s\n"
     ]
    },
    {
     "name": "stderr",
     "output_type": "stream",
     "text": [
      "[Parallel(n_jobs=4)]: Done   3 out of   3 | elapsed:  2.5min finished\n"
     ]
    }
   ],
   "source": [
    "%%time\n",
    "all_models = [\n",
    "    (\"mev_w2v\", mev_w2v),\n",
    "    (\"tev_w2v\", tev_w2v),\n",
    "    (\"mev_glove_small\", mev_glove_small),\n",
    "    (\"tev_glove_small\", tev_glove_small),\n",
    "    (\"mev_glove_big\", mev_glove_big),\n",
    "    (\"tev_glove_big\", tev_glove_big)\n",
    "]\n",
    "\n",
    "unsorted_scores = [(name, cross_val_score(model, X_all_text, y, cv=3, verbose=1, n_jobs=4).mean())\n",
    "                   for name, model in all_models]\n",
    "scores = sorted(unsorted_scores, key=lambda x: -x[1])\n",
    "print (tabulate(scores, floatfmt=\".4f\", headers=(\"Model\", 'Cross-Validation Accuracy Score')))"
   ]
  },
  {
   "cell_type": "code",
   "execution_count": 22,
   "metadata": {},
   "outputs": [
    {
     "data": {
      "image/png": "[encoded data removed]",
      "text/plain": [
       "<Figure size 720x432 with 1 Axes>"
      ]
     },
     "metadata": {
      "image/png": {
       "height": 387,
       "width": 660
      },
      "needs_background": "light"
     },
     "output_type": "display_data"
    }
   ],
   "source": [
    "plt.figure(figsize=(10, 6))\n",
    "sns.barplot(x=[name for name, _ in scores], y=[score for _, score in scores]);\n",
    "plt.title(\"Cross-validated Accuracy Score on Training Dataset\")\n",
    "plt.xlabel(\"Pipeline\");"
   ]
  },
  {
   "cell_type": "markdown",
   "metadata": {},
   "source": [
    "<div class=\"alert alert-block alert-info\">\n",
    "As shown above, the <b>Mean Embedding Vectorizer</b> (mev) performs best together with the <b>Word2Vec</b> (w2v) word embedding based on the training dataset vocabulary, as it scores the highest in terms of the cross-validated accuracy score.<br>\n",
    "\n",
    "We now evaluate two options for identifying the right classifier - a Forward Neural Network (FNN) and an Extra Trees Classifier.\n",
    "</div>"
   ]
  },
  {
   "cell_type": "markdown",
   "metadata": {},
   "source": [
    "## Creation of (Inner) Training and Validation Datasets"
   ]
  },
  {
   "cell_type": "markdown",
   "metadata": {},
   "source": [
    "From our single training data set (X and y) we will create two separate datasets:\n",
    "- (Inner) Training Dataset: this will be used to train our models (this will take 75% of the original training dataset)\n",
    "- Validation Dataset: this will be used to validate our trained models (e.g. check for overfitting) (this will take 25% of our total 'posts' dataset\n",
    "\n",
    "To create our datasets, we use train_test_split with the stratify option to ensure a consistent mix of values for the target feature within the created datasets."
   ]
  },
  {
   "cell_type": "code",
   "execution_count": 23,
   "metadata": {},
   "outputs": [],
   "source": [
    "# Restore the original predictor and target dataframes\n",
    "X = X_original.copy()\n",
    "y = y_original.copy()"
   ]
  },
  {
   "cell_type": "code",
   "execution_count": 24,
   "metadata": {},
   "outputs": [],
   "source": [
    "X_train, X_val, y_train, y_val = train_test_split(X, y, random_state=42, stratify=y)"
   ]
  },
  {
   "cell_type": "code",
   "execution_count": 25,
   "metadata": {},
   "outputs": [
    {
     "data": {
      "text/plain": [
       "((2490, 4323), (2490,), (831, 4323), (831,))"
      ]
     },
     "execution_count": 25,
     "metadata": {},
     "output_type": "execute_result"
    }
   ],
   "source": [
    "X_train.shape, y_train.shape, X_val.shape, y_val.shape"
   ]
  },
  {
   "cell_type": "code",
   "execution_count": 26,
   "metadata": {},
   "outputs": [],
   "source": [
    "# Reset the indices to prevent spurious rows from appearing later during merging\n",
    "X_train.reset_index(inplace=True, drop=True)\n",
    "X_val.reset_index(inplace=True, drop=True)"
   ]
  },
  {
   "cell_type": "markdown",
   "metadata": {},
   "source": [
    "## Generation of word embeddings"
   ]
  },
  {
   "cell_type": "markdown",
   "metadata": {},
   "source": [
    "We now generate word embeddings for our text using the set of best performing word embeddings identified earlier, i.e. the Word2Vec word embeddings we created using the MeanEmbeddingVectorizer."
   ]
  },
  {
   "cell_type": "code",
   "execution_count": 27,
   "metadata": {},
   "outputs": [],
   "source": [
    "# Instantiate a Mean Embedding Vectorizer object using the Word2Vec word embeddings\n",
    "mev = MeanEmbeddingVectorizer(w2v)"
   ]
  },
  {
   "cell_type": "code",
   "execution_count": 28,
   "metadata": {},
   "outputs": [
    {
     "name": "stdout",
     "output_type": "stream",
     "text": [
      "Wall time: 59.3 s\n"
     ]
    }
   ],
   "source": [
    "%%time\n",
    "X_train_mev = mev.fit(X_train['text'], y_train)\n",
    "X_train_mev = mev.transform(X_train['text'])\n",
    "X_val_mev = mev.transform(X_val['text'])\n",
    "X_test_mev = mev.transform(X_test['text'])"
   ]
  },
  {
   "cell_type": "code",
   "execution_count": 29,
   "metadata": {
    "scrolled": false
   },
   "outputs": [
    {
     "data": {
      "text/plain": [
       "((2490, 100), (831, 100), (986, 100))"
      ]
     },
     "execution_count": 29,
     "metadata": {},
     "output_type": "execute_result"
    }
   ],
   "source": [
    "X_train_mev.shape, X_val_mev.shape, X_test_mev.shape"
   ]
  },
  {
   "cell_type": "code",
   "execution_count": 30,
   "metadata": {},
   "outputs": [],
   "source": [
    "X_train_mev_df = pd.DataFrame(X_train_mev)\n",
    "X_val_mev_df = pd.DataFrame(X_val_mev)\n",
    "X_test_mev_df = pd.DataFrame(X_test_mev)"
   ]
  },
  {
   "cell_type": "code",
   "execution_count": 31,
   "metadata": {},
   "outputs": [
    {
     "data": {
      "text/plain": [
       "((2490, 100), (831, 100), (986, 100))"
      ]
     },
     "execution_count": 31,
     "metadata": {},
     "output_type": "execute_result"
    }
   ],
   "source": [
    "X_train_mev_df.shape, X_val_mev_df.shape, X_test_mev_df.shape"
   ]
  },
  {
   "cell_type": "code",
   "execution_count": 32,
   "metadata": {},
   "outputs": [
    {
     "data": {
      "text/html": [
       "<div>\n",
       "<style scoped>\n",
       "    .dataframe tbody tr th:only-of-type {\n",
       "        vertical-align: middle;\n",
       "    }\n",
       "\n",
       "    .dataframe tbody tr th {\n",
       "        vertical-align: top;\n",
       "    }\n",
       "\n",
       "    .dataframe thead th {\n",
       "        text-align: right;\n",
       "    }\n",
       "</style>\n",
       "<table border=\"1\" class=\"dataframe\">\n",
       "  <thead>\n",
       "    <tr style=\"text-align: right;\">\n",
       "      <th></th>\n",
       "      <th>0</th>\n",
       "      <th>1</th>\n",
       "      <th>2</th>\n",
       "      <th>3</th>\n",
       "      <th>4</th>\n",
       "      <th>5</th>\n",
       "      <th>6</th>\n",
       "      <th>7</th>\n",
       "      <th>8</th>\n",
       "      <th>9</th>\n",
       "      <th>...</th>\n",
       "      <th>90</th>\n",
       "      <th>91</th>\n",
       "      <th>92</th>\n",
       "      <th>93</th>\n",
       "      <th>94</th>\n",
       "      <th>95</th>\n",
       "      <th>96</th>\n",
       "      <th>97</th>\n",
       "      <th>98</th>\n",
       "      <th>99</th>\n",
       "    </tr>\n",
       "  </thead>\n",
       "  <tbody>\n",
       "    <tr>\n",
       "      <th>0</th>\n",
       "      <td>2.187547</td>\n",
       "      <td>-0.728763</td>\n",
       "      <td>0.237446</td>\n",
       "      <td>2.545099</td>\n",
       "      <td>-2.767796</td>\n",
       "      <td>-0.846157</td>\n",
       "      <td>-0.345383</td>\n",
       "      <td>2.083947</td>\n",
       "      <td>1.585878</td>\n",
       "      <td>-0.379076</td>\n",
       "      <td>...</td>\n",
       "      <td>-3.949122</td>\n",
       "      <td>-2.271590</td>\n",
       "      <td>0.737321</td>\n",
       "      <td>-1.025528</td>\n",
       "      <td>1.481053</td>\n",
       "      <td>1.293013</td>\n",
       "      <td>1.724087</td>\n",
       "      <td>2.708411</td>\n",
       "      <td>1.768898</td>\n",
       "      <td>-0.981080</td>\n",
       "    </tr>\n",
       "    <tr>\n",
       "      <th>1</th>\n",
       "      <td>2.271715</td>\n",
       "      <td>-0.732242</td>\n",
       "      <td>0.111455</td>\n",
       "      <td>2.523629</td>\n",
       "      <td>-2.862206</td>\n",
       "      <td>-0.869411</td>\n",
       "      <td>-0.431319</td>\n",
       "      <td>2.108749</td>\n",
       "      <td>1.678582</td>\n",
       "      <td>-0.353904</td>\n",
       "      <td>...</td>\n",
       "      <td>-4.010534</td>\n",
       "      <td>-2.242504</td>\n",
       "      <td>0.706177</td>\n",
       "      <td>-1.009549</td>\n",
       "      <td>1.479006</td>\n",
       "      <td>1.268857</td>\n",
       "      <td>1.780314</td>\n",
       "      <td>2.556909</td>\n",
       "      <td>1.776606</td>\n",
       "      <td>-1.093082</td>\n",
       "    </tr>\n",
       "    <tr>\n",
       "      <th>2</th>\n",
       "      <td>2.255527</td>\n",
       "      <td>-0.698574</td>\n",
       "      <td>0.264950</td>\n",
       "      <td>2.507111</td>\n",
       "      <td>-2.793411</td>\n",
       "      <td>-0.890244</td>\n",
       "      <td>-0.373044</td>\n",
       "      <td>2.081129</td>\n",
       "      <td>1.743507</td>\n",
       "      <td>-0.466863</td>\n",
       "      <td>...</td>\n",
       "      <td>-3.978585</td>\n",
       "      <td>-2.264089</td>\n",
       "      <td>0.770119</td>\n",
       "      <td>-1.030855</td>\n",
       "      <td>1.445574</td>\n",
       "      <td>1.294258</td>\n",
       "      <td>1.799755</td>\n",
       "      <td>2.655034</td>\n",
       "      <td>1.812378</td>\n",
       "      <td>-1.035900</td>\n",
       "    </tr>\n",
       "    <tr>\n",
       "      <th>3</th>\n",
       "      <td>2.255885</td>\n",
       "      <td>-0.705506</td>\n",
       "      <td>0.163638</td>\n",
       "      <td>2.509258</td>\n",
       "      <td>-2.786111</td>\n",
       "      <td>-0.841308</td>\n",
       "      <td>-0.384654</td>\n",
       "      <td>2.009213</td>\n",
       "      <td>1.628515</td>\n",
       "      <td>-0.370519</td>\n",
       "      <td>...</td>\n",
       "      <td>-3.939109</td>\n",
       "      <td>-2.286459</td>\n",
       "      <td>0.729493</td>\n",
       "      <td>-1.035778</td>\n",
       "      <td>1.486097</td>\n",
       "      <td>1.205084</td>\n",
       "      <td>1.677031</td>\n",
       "      <td>2.598013</td>\n",
       "      <td>1.781994</td>\n",
       "      <td>-1.022240</td>\n",
       "    </tr>\n",
       "    <tr>\n",
       "      <th>4</th>\n",
       "      <td>2.216316</td>\n",
       "      <td>-0.724495</td>\n",
       "      <td>0.176719</td>\n",
       "      <td>2.558857</td>\n",
       "      <td>-2.782972</td>\n",
       "      <td>-0.857720</td>\n",
       "      <td>-0.343737</td>\n",
       "      <td>2.067373</td>\n",
       "      <td>1.645102</td>\n",
       "      <td>-0.369530</td>\n",
       "      <td>...</td>\n",
       "      <td>-4.002358</td>\n",
       "      <td>-2.279040</td>\n",
       "      <td>0.730253</td>\n",
       "      <td>-0.975340</td>\n",
       "      <td>1.476457</td>\n",
       "      <td>1.275820</td>\n",
       "      <td>1.722572</td>\n",
       "      <td>2.636914</td>\n",
       "      <td>1.778762</td>\n",
       "      <td>-1.005931</td>\n",
       "    </tr>\n",
       "  </tbody>\n",
       "</table>\n",
       "<p>5 rows × 100 columns</p>\n",
       "</div>"
      ],
      "text/plain": [
       "         0         1         2         3         4         5         6   \\\n",
       "0  2.187547 -0.728763  0.237446  2.545099 -2.767796 -0.846157 -0.345383   \n",
       "1  2.271715 -0.732242  0.111455  2.523629 -2.862206 -0.869411 -0.431319   \n",
       "2  2.255527 -0.698574  0.264950  2.507111 -2.793411 -0.890244 -0.373044   \n",
       "3  2.255885 -0.705506  0.163638  2.509258 -2.786111 -0.841308 -0.384654   \n",
       "4  2.216316 -0.724495  0.176719  2.558857 -2.782972 -0.857720 -0.343737   \n",
       "\n",
       "         7         8         9   ...        90        91        92        93  \\\n",
       "0  2.083947  1.585878 -0.379076  ... -3.949122 -2.271590  0.737321 -1.025528   \n",
       "1  2.108749  1.678582 -0.353904  ... -4.010534 -2.242504  0.706177 -1.009549   \n",
       "2  2.081129  1.743507 -0.466863  ... -3.978585 -2.264089  0.770119 -1.030855   \n",
       "3  2.009213  1.628515 -0.370519  ... -3.939109 -2.286459  0.729493 -1.035778   \n",
       "4  2.067373  1.645102 -0.369530  ... -4.002358 -2.279040  0.730253 -0.975340   \n",
       "\n",
       "         94        95        96        97        98        99  \n",
       "0  1.481053  1.293013  1.724087  2.708411  1.768898 -0.981080  \n",
       "1  1.479006  1.268857  1.780314  2.556909  1.776606 -1.093082  \n",
       "2  1.445574  1.294258  1.799755  2.655034  1.812378 -1.035900  \n",
       "3  1.486097  1.205084  1.677031  2.598013  1.781994 -1.022240  \n",
       "4  1.476457  1.275820  1.722572  2.636914  1.778762 -1.005931  \n",
       "\n",
       "[5 rows x 100 columns]"
      ]
     },
     "execution_count": 32,
     "metadata": {},
     "output_type": "execute_result"
    }
   ],
   "source": [
    "X_train_mev_df.head()"
   ]
  },
  {
   "cell_type": "markdown",
   "metadata": {},
   "source": [
    "## Combining word embeddings with dummy columns"
   ]
  },
  {
   "cell_type": "code",
   "execution_count": 33,
   "metadata": {},
   "outputs": [],
   "source": [
    "# Concatenate the components parts of the dataframe\n",
    "X_train = pd.concat([X_train, X_train_mev_df], axis=1)\n",
    "X_val = pd.concat([X_val, X_val_mev_df], axis=1)\n",
    "X_test = pd.concat([X_test, X_test_mev_df], axis=1)"
   ]
  },
  {
   "cell_type": "code",
   "execution_count": 34,
   "metadata": {},
   "outputs": [],
   "source": [
    "X_train.drop(columns=['text'], inplace=True)\n",
    "X_val.drop(columns=['text'], inplace=True)\n",
    "X_test.drop(columns=['text'], inplace=True)"
   ]
  },
  {
   "cell_type": "code",
   "execution_count": 35,
   "metadata": {},
   "outputs": [
    {
     "data": {
      "text/plain": [
       "((2490, 4422), (831, 4422), (986, 4422))"
      ]
     },
     "execution_count": 35,
     "metadata": {},
     "output_type": "execute_result"
    }
   ],
   "source": [
    "X_train.shape, X_val.shape, X_test.shape"
   ]
  },
  {
   "cell_type": "code",
   "execution_count": 36,
   "metadata": {
    "scrolled": true
   },
   "outputs": [
    {
     "data": {
      "text/html": [
       "<div>\n",
       "<style scoped>\n",
       "    .dataframe tbody tr th:only-of-type {\n",
       "        vertical-align: middle;\n",
       "    }\n",
       "\n",
       "    .dataframe tbody tr th {\n",
       "        vertical-align: top;\n",
       "    }\n",
       "\n",
       "    .dataframe thead th {\n",
       "        text-align: right;\n",
       "    }\n",
       "</style>\n",
       "<table border=\"1\" class=\"dataframe\">\n",
       "  <thead>\n",
       "    <tr style=\"text-align: right;\">\n",
       "      <th></th>\n",
       "      <th>gene_ABCB11</th>\n",
       "      <th>gene_ABCC6</th>\n",
       "      <th>gene_ABL1</th>\n",
       "      <th>gene_ACVR1</th>\n",
       "      <th>gene_ADAMTS13</th>\n",
       "      <th>gene_ADGRG1</th>\n",
       "      <th>gene_AGO2</th>\n",
       "      <th>gene_AGXT</th>\n",
       "      <th>gene_AKAP9</th>\n",
       "      <th>gene_AKT1</th>\n",
       "      <th>...</th>\n",
       "      <th>90</th>\n",
       "      <th>91</th>\n",
       "      <th>92</th>\n",
       "      <th>93</th>\n",
       "      <th>94</th>\n",
       "      <th>95</th>\n",
       "      <th>96</th>\n",
       "      <th>97</th>\n",
       "      <th>98</th>\n",
       "      <th>99</th>\n",
       "    </tr>\n",
       "  </thead>\n",
       "  <tbody>\n",
       "    <tr>\n",
       "      <th>0</th>\n",
       "      <td>0</td>\n",
       "      <td>0</td>\n",
       "      <td>0</td>\n",
       "      <td>0</td>\n",
       "      <td>0</td>\n",
       "      <td>0</td>\n",
       "      <td>0</td>\n",
       "      <td>0</td>\n",
       "      <td>0</td>\n",
       "      <td>0</td>\n",
       "      <td>...</td>\n",
       "      <td>-3.949122</td>\n",
       "      <td>-2.271590</td>\n",
       "      <td>0.737321</td>\n",
       "      <td>-1.025528</td>\n",
       "      <td>1.481053</td>\n",
       "      <td>1.293013</td>\n",
       "      <td>1.724087</td>\n",
       "      <td>2.708411</td>\n",
       "      <td>1.768898</td>\n",
       "      <td>-0.981080</td>\n",
       "    </tr>\n",
       "    <tr>\n",
       "      <th>1</th>\n",
       "      <td>0</td>\n",
       "      <td>0</td>\n",
       "      <td>0</td>\n",
       "      <td>0</td>\n",
       "      <td>0</td>\n",
       "      <td>0</td>\n",
       "      <td>0</td>\n",
       "      <td>0</td>\n",
       "      <td>0</td>\n",
       "      <td>0</td>\n",
       "      <td>...</td>\n",
       "      <td>-4.010534</td>\n",
       "      <td>-2.242504</td>\n",
       "      <td>0.706177</td>\n",
       "      <td>-1.009549</td>\n",
       "      <td>1.479006</td>\n",
       "      <td>1.268857</td>\n",
       "      <td>1.780314</td>\n",
       "      <td>2.556909</td>\n",
       "      <td>1.776606</td>\n",
       "      <td>-1.093082</td>\n",
       "    </tr>\n",
       "    <tr>\n",
       "      <th>2</th>\n",
       "      <td>0</td>\n",
       "      <td>0</td>\n",
       "      <td>0</td>\n",
       "      <td>0</td>\n",
       "      <td>0</td>\n",
       "      <td>0</td>\n",
       "      <td>0</td>\n",
       "      <td>0</td>\n",
       "      <td>0</td>\n",
       "      <td>0</td>\n",
       "      <td>...</td>\n",
       "      <td>-3.978585</td>\n",
       "      <td>-2.264089</td>\n",
       "      <td>0.770119</td>\n",
       "      <td>-1.030855</td>\n",
       "      <td>1.445574</td>\n",
       "      <td>1.294258</td>\n",
       "      <td>1.799755</td>\n",
       "      <td>2.655034</td>\n",
       "      <td>1.812378</td>\n",
       "      <td>-1.035900</td>\n",
       "    </tr>\n",
       "    <tr>\n",
       "      <th>3</th>\n",
       "      <td>0</td>\n",
       "      <td>0</td>\n",
       "      <td>0</td>\n",
       "      <td>0</td>\n",
       "      <td>0</td>\n",
       "      <td>0</td>\n",
       "      <td>0</td>\n",
       "      <td>0</td>\n",
       "      <td>0</td>\n",
       "      <td>0</td>\n",
       "      <td>...</td>\n",
       "      <td>-3.939109</td>\n",
       "      <td>-2.286459</td>\n",
       "      <td>0.729493</td>\n",
       "      <td>-1.035778</td>\n",
       "      <td>1.486097</td>\n",
       "      <td>1.205084</td>\n",
       "      <td>1.677031</td>\n",
       "      <td>2.598013</td>\n",
       "      <td>1.781994</td>\n",
       "      <td>-1.022240</td>\n",
       "    </tr>\n",
       "    <tr>\n",
       "      <th>4</th>\n",
       "      <td>0</td>\n",
       "      <td>0</td>\n",
       "      <td>0</td>\n",
       "      <td>0</td>\n",
       "      <td>0</td>\n",
       "      <td>0</td>\n",
       "      <td>0</td>\n",
       "      <td>0</td>\n",
       "      <td>0</td>\n",
       "      <td>0</td>\n",
       "      <td>...</td>\n",
       "      <td>-4.002358</td>\n",
       "      <td>-2.279040</td>\n",
       "      <td>0.730253</td>\n",
       "      <td>-0.975340</td>\n",
       "      <td>1.476457</td>\n",
       "      <td>1.275820</td>\n",
       "      <td>1.722572</td>\n",
       "      <td>2.636914</td>\n",
       "      <td>1.778762</td>\n",
       "      <td>-1.005931</td>\n",
       "    </tr>\n",
       "  </tbody>\n",
       "</table>\n",
       "<p>5 rows × 4422 columns</p>\n",
       "</div>"
      ],
      "text/plain": [
       "   gene_ABCB11  gene_ABCC6  gene_ABL1  gene_ACVR1  gene_ADAMTS13  gene_ADGRG1  \\\n",
       "0            0           0          0           0              0            0   \n",
       "1            0           0          0           0              0            0   \n",
       "2            0           0          0           0              0            0   \n",
       "3            0           0          0           0              0            0   \n",
       "4            0           0          0           0              0            0   \n",
       "\n",
       "   gene_AGO2  gene_AGXT  gene_AKAP9  gene_AKT1  ...        90        91  \\\n",
       "0          0          0           0          0  ... -3.949122 -2.271590   \n",
       "1          0          0           0          0  ... -4.010534 -2.242504   \n",
       "2          0          0           0          0  ... -3.978585 -2.264089   \n",
       "3          0          0           0          0  ... -3.939109 -2.286459   \n",
       "4          0          0           0          0  ... -4.002358 -2.279040   \n",
       "\n",
       "         92        93        94        95        96        97        98  \\\n",
       "0  0.737321 -1.025528  1.481053  1.293013  1.724087  2.708411  1.768898   \n",
       "1  0.706177 -1.009549  1.479006  1.268857  1.780314  2.556909  1.776606   \n",
       "2  0.770119 -1.030855  1.445574  1.294258  1.799755  2.655034  1.812378   \n",
       "3  0.729493 -1.035778  1.486097  1.205084  1.677031  2.598013  1.781994   \n",
       "4  0.730253 -0.975340  1.476457  1.275820  1.722572  2.636914  1.778762   \n",
       "\n",
       "         99  \n",
       "0 -0.981080  \n",
       "1 -1.093082  \n",
       "2 -1.035900  \n",
       "3 -1.022240  \n",
       "4 -1.005931  \n",
       "\n",
       "[5 rows x 4422 columns]"
      ]
     },
     "execution_count": 36,
     "metadata": {},
     "output_type": "execute_result"
    }
   ],
   "source": [
    "X_train.head()"
   ]
  },
  {
   "cell_type": "code",
   "execution_count": 37,
   "metadata": {},
   "outputs": [],
   "source": [
    "# Save the column names for subsequent visualisation\n",
    "X_train_cols = X_train.columns"
   ]
  },
  {
   "cell_type": "markdown",
   "metadata": {},
   "source": [
    "## Handling of imbalanced classes"
   ]
  },
  {
   "cell_type": "code",
   "execution_count": 38,
   "metadata": {
    "scrolled": true
   },
   "outputs": [
    {
     "data": {
      "text/plain": [
       "7    0.287149\n",
       "4    0.206426\n",
       "1    0.171084\n",
       "2    0.136145\n",
       "6    0.082731\n",
       "5    0.072691\n",
       "3    0.026908\n",
       "9    0.011245\n",
       "8    0.005622\n",
       "Name: class, dtype: float64"
      ]
     },
     "execution_count": 38,
     "metadata": {},
     "output_type": "execute_result"
    }
   ],
   "source": [
    "y_train.value_counts(normalize=True)"
   ]
  },
  {
   "cell_type": "code",
   "execution_count": 39,
   "metadata": {},
   "outputs": [
    {
     "data": {
      "text/plain": [
       "7    715\n",
       "4    514\n",
       "1    426\n",
       "2    339\n",
       "6    206\n",
       "5    181\n",
       "3     67\n",
       "9     28\n",
       "8     14\n",
       "Name: class, dtype: int64"
      ]
     },
     "execution_count": 39,
     "metadata": {},
     "output_type": "execute_result"
    }
   ],
   "source": [
    "y_train.value_counts()"
   ]
  },
  {
   "cell_type": "markdown",
   "metadata": {},
   "source": [
    "We follow the same oversampling strategy as per the baseline model -- i.e. we use ADASYN to oversample the 3 most infrequent classes to be approx. 100 samples each."
   ]
  },
  {
   "cell_type": "code",
   "execution_count": 40,
   "metadata": {},
   "outputs": [],
   "source": [
    "# Instantiate an ADASYN object to oversample minority classes\n",
    "adasyn = ADASYN(random_state=42, sampling_strategy={3:100, 9:100, 8:100}, n_jobs=4)"
   ]
  },
  {
   "cell_type": "code",
   "execution_count": 41,
   "metadata": {},
   "outputs": [
    {
     "name": "stdout",
     "output_type": "stream",
     "text": [
      "Wall time: 9.06 s\n"
     ]
    }
   ],
   "source": [
    "%%time\n",
    "X_train, y_train = adasyn.fit_sample(X_train, y_train)"
   ]
  },
  {
   "cell_type": "code",
   "execution_count": 42,
   "metadata": {},
   "outputs": [
    {
     "data": {
      "text/plain": [
       "((2675, 4422), (2675,))"
      ]
     },
     "execution_count": 42,
     "metadata": {},
     "output_type": "execute_result"
    }
   ],
   "source": [
    "X_train.shape, y_train.shape"
   ]
  },
  {
   "cell_type": "code",
   "execution_count": 43,
   "metadata": {
    "scrolled": true
   },
   "outputs": [
    {
     "data": {
      "text/plain": [
       "7    715\n",
       "4    514\n",
       "1    426\n",
       "2    339\n",
       "6    206\n",
       "5    181\n",
       "8    100\n",
       "3     99\n",
       "9     95\n",
       "Name: class, dtype: int64"
      ]
     },
     "execution_count": 43,
     "metadata": {},
     "output_type": "execute_result"
    }
   ],
   "source": [
    "# Verify that we now have 181 samples for classes '5', '3' and '8'.\n",
    "y_train.value_counts()"
   ]
  },
  {
   "cell_type": "markdown",
   "metadata": {},
   "source": [
    "## Scaling the data for PCA"
   ]
  },
  {
   "cell_type": "code",
   "execution_count": 44,
   "metadata": {},
   "outputs": [],
   "source": [
    "ss = StandardScaler()"
   ]
  },
  {
   "cell_type": "code",
   "execution_count": 45,
   "metadata": {
    "scrolled": true
   },
   "outputs": [],
   "source": [
    "ss.fit(pd.concat([X_train, X_val])) # we fit the StandardScaler based on all our training and validation data\n",
    "X_train = ss.transform(X_train)\n",
    "X_val = ss.transform(X_val)\n",
    "X_test = ss.transform(X_test)"
   ]
  },
  {
   "cell_type": "markdown",
   "metadata": {},
   "source": [
    "## Dimensionality reduction using PCA"
   ]
  },
  {
   "cell_type": "markdown",
   "metadata": {},
   "source": [
    "We use principle component analysis (PCA) to try and reduce the dimensions (i.e. number of features) for our various datasets, to transform the original features into new \"high-performing\" features, reduce the dimensionality of data, and reduce/eliminate multicollinearity. We accept that while this technique may yield better metrics for our models, it makes it difficult to interpret the final set of components (i.e. features) in the model."
   ]
  },
  {
   "cell_type": "code",
   "execution_count": 46,
   "metadata": {},
   "outputs": [],
   "source": [
    "# Initialise a PCA object\n",
    "# We use the default n_components value ('None') which will take the value min(n_samples, n_features) - 1\n",
    "pca = PCA(random_state=42, n_components=None)"
   ]
  },
  {
   "cell_type": "code",
   "execution_count": 47,
   "metadata": {},
   "outputs": [
    {
     "name": "stdout",
     "output_type": "stream",
     "text": [
      "Wall time: 10.2 s\n"
     ]
    }
   ],
   "source": [
    "%%time\n",
    "X_train_pca = pca.fit_transform(X_train)\n",
    "X_val_pca = pca.transform(X_val)\n",
    "X_test_pca = pca.transform(X_test)"
   ]
  },
  {
   "cell_type": "code",
   "execution_count": 48,
   "metadata": {
    "scrolled": true
   },
   "outputs": [
    {
     "data": {
      "text/plain": [
       "((2675, 2675), (831, 2675), (986, 2675))"
      ]
     },
     "execution_count": 48,
     "metadata": {},
     "output_type": "execute_result"
    }
   ],
   "source": [
    "X_train_pca.shape, X_val_pca.shape, X_test_pca.shape"
   ]
  },
  {
   "cell_type": "markdown",
   "metadata": {},
   "source": [
    "We observe above that the number of features have been significantly reduced to the number samples (approx. 39% reduction)."
   ]
  },
  {
   "cell_type": "code",
   "execution_count": 49,
   "metadata": {},
   "outputs": [],
   "source": [
    "features_pca = ['PC'+str(i+1) for i in range(pca.n_components_)]\n",
    "X_train_pca = pd.DataFrame(X_train_pca, columns=features_pca)\n",
    "X_val_pca = pd.DataFrame(X_val_pca, columns=features_pca)\n",
    "X_test_pca = pd.DataFrame(X_test_pca, columns=features_pca)"
   ]
  },
  {
   "cell_type": "code",
   "execution_count": 50,
   "metadata": {},
   "outputs": [
    {
     "data": {
      "text/html": [
       "<div>\n",
       "<style scoped>\n",
       "    .dataframe tbody tr th:only-of-type {\n",
       "        vertical-align: middle;\n",
       "    }\n",
       "\n",
       "    .dataframe tbody tr th {\n",
       "        vertical-align: top;\n",
       "    }\n",
       "\n",
       "    .dataframe thead th {\n",
       "        text-align: right;\n",
       "    }\n",
       "</style>\n",
       "<table border=\"1\" class=\"dataframe\">\n",
       "  <thead>\n",
       "    <tr style=\"text-align: right;\">\n",
       "      <th></th>\n",
       "      <th>PC1</th>\n",
       "      <th>PC2</th>\n",
       "      <th>PC3</th>\n",
       "      <th>PC4</th>\n",
       "      <th>PC5</th>\n",
       "      <th>PC6</th>\n",
       "      <th>PC7</th>\n",
       "      <th>PC8</th>\n",
       "      <th>PC9</th>\n",
       "      <th>PC10</th>\n",
       "      <th>...</th>\n",
       "      <th>PC2666</th>\n",
       "      <th>PC2667</th>\n",
       "      <th>PC2668</th>\n",
       "      <th>PC2669</th>\n",
       "      <th>PC2670</th>\n",
       "      <th>PC2671</th>\n",
       "      <th>PC2672</th>\n",
       "      <th>PC2673</th>\n",
       "      <th>PC2674</th>\n",
       "      <th>PC2675</th>\n",
       "    </tr>\n",
       "  </thead>\n",
       "  <tbody>\n",
       "    <tr>\n",
       "      <th>0</th>\n",
       "      <td>1.610737</td>\n",
       "      <td>0.802422</td>\n",
       "      <td>-2.323893</td>\n",
       "      <td>-4.647453</td>\n",
       "      <td>3.045271</td>\n",
       "      <td>0.275940</td>\n",
       "      <td>1.450149</td>\n",
       "      <td>1.780501</td>\n",
       "      <td>4.211275</td>\n",
       "      <td>-0.879470</td>\n",
       "      <td>...</td>\n",
       "      <td>-5.243152e-19</td>\n",
       "      <td>7.199109e-20</td>\n",
       "      <td>1.087558e-19</td>\n",
       "      <td>-5.239014e-19</td>\n",
       "      <td>-1.279503e-20</td>\n",
       "      <td>6.562313e-20</td>\n",
       "      <td>3.391816e-19</td>\n",
       "      <td>-6.440645e-20</td>\n",
       "      <td>9.265748e-35</td>\n",
       "      <td>-1.641227e-47</td>\n",
       "    </tr>\n",
       "    <tr>\n",
       "      <th>1</th>\n",
       "      <td>-0.950712</td>\n",
       "      <td>-5.169308</td>\n",
       "      <td>2.064302</td>\n",
       "      <td>1.084797</td>\n",
       "      <td>-2.771543</td>\n",
       "      <td>-0.856174</td>\n",
       "      <td>0.532949</td>\n",
       "      <td>-3.452484</td>\n",
       "      <td>-0.936471</td>\n",
       "      <td>-0.334638</td>\n",
       "      <td>...</td>\n",
       "      <td>-5.243152e-19</td>\n",
       "      <td>7.199109e-20</td>\n",
       "      <td>1.087558e-19</td>\n",
       "      <td>-5.239014e-19</td>\n",
       "      <td>-1.279503e-20</td>\n",
       "      <td>6.562313e-20</td>\n",
       "      <td>3.391816e-19</td>\n",
       "      <td>-6.440645e-20</td>\n",
       "      <td>-2.417591e-33</td>\n",
       "      <td>3.980306e-44</td>\n",
       "    </tr>\n",
       "    <tr>\n",
       "      <th>2</th>\n",
       "      <td>-1.299213</td>\n",
       "      <td>3.253840</td>\n",
       "      <td>-1.204450</td>\n",
       "      <td>-3.170042</td>\n",
       "      <td>-5.267832</td>\n",
       "      <td>-0.557913</td>\n",
       "      <td>-1.794644</td>\n",
       "      <td>1.285972</td>\n",
       "      <td>-0.334966</td>\n",
       "      <td>0.906677</td>\n",
       "      <td>...</td>\n",
       "      <td>-5.243152e-19</td>\n",
       "      <td>7.199109e-20</td>\n",
       "      <td>1.087558e-19</td>\n",
       "      <td>-5.239014e-19</td>\n",
       "      <td>-1.279503e-20</td>\n",
       "      <td>6.562313e-20</td>\n",
       "      <td>3.391816e-19</td>\n",
       "      <td>-6.440645e-20</td>\n",
       "      <td>-4.453298e-33</td>\n",
       "      <td>-2.260904e-45</td>\n",
       "    </tr>\n",
       "    <tr>\n",
       "      <th>3</th>\n",
       "      <td>1.233110</td>\n",
       "      <td>-2.710296</td>\n",
       "      <td>1.950632</td>\n",
       "      <td>0.982965</td>\n",
       "      <td>-2.073843</td>\n",
       "      <td>-3.964926</td>\n",
       "      <td>2.186276</td>\n",
       "      <td>0.937018</td>\n",
       "      <td>-0.573514</td>\n",
       "      <td>1.934375</td>\n",
       "      <td>...</td>\n",
       "      <td>-5.243152e-19</td>\n",
       "      <td>7.199109e-20</td>\n",
       "      <td>1.087558e-19</td>\n",
       "      <td>-5.239014e-19</td>\n",
       "      <td>-1.279503e-20</td>\n",
       "      <td>6.562313e-20</td>\n",
       "      <td>3.391816e-19</td>\n",
       "      <td>-6.440645e-20</td>\n",
       "      <td>-6.800489e-34</td>\n",
       "      <td>-4.371707e-45</td>\n",
       "    </tr>\n",
       "    <tr>\n",
       "      <th>4</th>\n",
       "      <td>0.998548</td>\n",
       "      <td>-2.671166</td>\n",
       "      <td>2.870883</td>\n",
       "      <td>-1.137039</td>\n",
       "      <td>-0.818802</td>\n",
       "      <td>0.518586</td>\n",
       "      <td>0.364384</td>\n",
       "      <td>3.456551</td>\n",
       "      <td>2.576165</td>\n",
       "      <td>0.253017</td>\n",
       "      <td>...</td>\n",
       "      <td>-5.243152e-19</td>\n",
       "      <td>7.199109e-20</td>\n",
       "      <td>1.087558e-19</td>\n",
       "      <td>-5.239014e-19</td>\n",
       "      <td>-1.279503e-20</td>\n",
       "      <td>6.562313e-20</td>\n",
       "      <td>3.391816e-19</td>\n",
       "      <td>-6.440645e-20</td>\n",
       "      <td>-3.621771e-33</td>\n",
       "      <td>-1.956040e-44</td>\n",
       "    </tr>\n",
       "  </tbody>\n",
       "</table>\n",
       "<p>5 rows × 2675 columns</p>\n",
       "</div>"
      ],
      "text/plain": [
       "        PC1       PC2       PC3       PC4       PC5       PC6       PC7  \\\n",
       "0  1.610737  0.802422 -2.323893 -4.647453  3.045271  0.275940  1.450149   \n",
       "1 -0.950712 -5.169308  2.064302  1.084797 -2.771543 -0.856174  0.532949   \n",
       "2 -1.299213  3.253840 -1.204450 -3.170042 -5.267832 -0.557913 -1.794644   \n",
       "3  1.233110 -2.710296  1.950632  0.982965 -2.073843 -3.964926  2.186276   \n",
       "4  0.998548 -2.671166  2.870883 -1.137039 -0.818802  0.518586  0.364384   \n",
       "\n",
       "        PC8       PC9      PC10  ...        PC2666        PC2667  \\\n",
       "0  1.780501  4.211275 -0.879470  ... -5.243152e-19  7.199109e-20   \n",
       "1 -3.452484 -0.936471 -0.334638  ... -5.243152e-19  7.199109e-20   \n",
       "2  1.285972 -0.334966  0.906677  ... -5.243152e-19  7.199109e-20   \n",
       "3  0.937018 -0.573514  1.934375  ... -5.243152e-19  7.199109e-20   \n",
       "4  3.456551  2.576165  0.253017  ... -5.243152e-19  7.199109e-20   \n",
       "\n",
       "         PC2668        PC2669        PC2670        PC2671        PC2672  \\\n",
       "0  1.087558e-19 -5.239014e-19 -1.279503e-20  6.562313e-20  3.391816e-19   \n",
       "1  1.087558e-19 -5.239014e-19 -1.279503e-20  6.562313e-20  3.391816e-19   \n",
       "2  1.087558e-19 -5.239014e-19 -1.279503e-20  6.562313e-20  3.391816e-19   \n",
       "3  1.087558e-19 -5.239014e-19 -1.279503e-20  6.562313e-20  3.391816e-19   \n",
       "4  1.087558e-19 -5.239014e-19 -1.279503e-20  6.562313e-20  3.391816e-19   \n",
       "\n",
       "         PC2673        PC2674        PC2675  \n",
       "0 -6.440645e-20  9.265748e-35 -1.641227e-47  \n",
       "1 -6.440645e-20 -2.417591e-33  3.980306e-44  \n",
       "2 -6.440645e-20 -4.453298e-33 -2.260904e-45  \n",
       "3 -6.440645e-20 -6.800489e-34 -4.371707e-45  \n",
       "4 -6.440645e-20 -3.621771e-33 -1.956040e-44  \n",
       "\n",
       "[5 rows x 2675 columns]"
      ]
     },
     "execution_count": 50,
     "metadata": {},
     "output_type": "execute_result"
    }
   ],
   "source": [
    "X_train_pca.head()"
   ]
  },
  {
   "cell_type": "code",
   "execution_count": 51,
   "metadata": {},
   "outputs": [],
   "source": [
    "# Update the datasets for model training\n",
    "X_train = X_train_pca\n",
    "X_val = X_val_pca\n",
    "X_test = X_test_pca"
   ]
  },
  {
   "cell_type": "markdown",
   "metadata": {},
   "source": [
    "We now plot the cumulative explained variance as the number of components increase - this tells us how much information (variance) is captured by each principal component."
   ]
  },
  {
   "cell_type": "code",
   "execution_count": 93,
   "metadata": {},
   "outputs": [
    {
     "data": {
      "text/plain": [
       "<matplotlib.lines.Line2D at 0x18d2eb4fd88>"
      ]
     },
     "execution_count": 93,
     "metadata": {},
     "output_type": "execute_result"
    },
    {
     "data": {
      "image/png": "[encoded data removed]",
      "text/plain": [
       "<Figure size 720x360 with 1 Axes>"
      ]
     },
     "metadata": {
      "image/png": {
       "height": 332,
       "width": 676
      },
      "needs_background": "light"
     },
     "output_type": "display_data"
    }
   ],
   "source": [
    "plt.figure(figsize=(10,5))\n",
    "plt.title(\"Component vs Cumulative Explained Variance\")\n",
    "graph = sns.lineplot(data=np.cumsum(pca.explained_variance_ratio_))\n",
    "plt.xlabel('number of components')\n",
    "plt.ylabel('cumulative explained variance');\n",
    "graph.axhline(y=0.9, lw=1, color='r');"
   ]
  },
  {
   "cell_type": "markdown",
   "metadata": {},
   "source": [
    "We have superimposed a red horizontal line marking the point where the cumulative explained variance hits 90%. We see that about 2,000 principle components are sufficient to explain about 90% of the variance. To help accelerate model fitting further, we reduce the number of features to the first 2,000 principle components."
   ]
  },
  {
   "cell_type": "code",
   "execution_count": 98,
   "metadata": {},
   "outputs": [],
   "source": [
    "# Reduce the number of principle components (i.e features) to 2,000\n",
    "X_train = X_train.iloc[:,:2000]\n",
    "X_val = X_val.iloc[:,:2000]\n",
    "X_test = X_test.iloc[:,:2000]"
   ]
  },
  {
   "cell_type": "code",
   "execution_count": 102,
   "metadata": {},
   "outputs": [
    {
     "data": {
      "text/plain": [
       "((2675, 2000), (831, 2000), (986, 2000))"
      ]
     },
     "execution_count": 102,
     "metadata": {},
     "output_type": "execute_result"
    }
   ],
   "source": [
    "X_train.shape, X_val.shape, X_test.shape"
   ]
  },
  {
   "cell_type": "markdown",
   "metadata": {},
   "source": [
    "## Randomised search for optimal classifier parameters"
   ]
  },
  {
   "cell_type": "markdown",
   "metadata": {},
   "source": [
    "To manage the total time and resources used to tune the classifier parameters, we use the RandomizedSearchCV to randomly select parameters from the specified ranges of parameters to give the best 5-fold cross-validated accuracy score on the training dataset, with a maximum of 10 iterations. We specify the range of parameters for each classifer based on experience and past results of running the RandomizedSearchCV.\n",
    "\n",
    "We select the best classifier as the one with the highest balanced (weighted) accuracy score on the **validation dataset**."
   ]
  },
  {
   "cell_type": "code",
   "execution_count": 103,
   "metadata": {},
   "outputs": [],
   "source": [
    "def model_func(layer_one_neurons=1000, layer_one_dropout=0.2,\n",
    "               layer_two_neurons=500, layer_two_dropout=0.2, opt_learning_rate=0.001):\n",
    "\n",
    "    model = Sequential()\n",
    "\n",
    "    model.add(Dense(layer_one_neurons, activation='relu', input_dim=X_train.shape[1]))\n",
    "    model.add(Dropout(layer_one_dropout))\n",
    "\n",
    "    model.add(Dense(layer_two_neurons, activation='relu'))\n",
    "    model.add(Dropout(layer_two_dropout))\n",
    "\n",
    "    model.add(Dense(9,activation='softmax'))\n",
    "\n",
    "    Ad = optimizers.Adam(learning_rate=opt_learning_rate,\n",
    "                         beta_1=0.9, beta_2=0.999, amsgrad=False)\n",
    "    model.compile(loss='categorical_crossentropy', optimizer=Ad,\n",
    "                  metrics=['accuracy'], weighted_metrics=['accuracy'])\n",
    "    return model"
   ]
  },
  {
   "cell_type": "code",
   "execution_count": 104,
   "metadata": {},
   "outputs": [],
   "source": [
    "# We have selected a range of candidate classifiers\n",
    "estimators = {\n",
    "    'gnb': GaussianNB(), # Gaussian Naive Bayes Classifier\n",
    "    'nn': KerasClassifier(build_fn=model_func, epochs=10), # Forward Neural Network Classifier\n",
    "    'svc': SVC(random_state=42), # Support Vector Classifier\n",
    "    'lr': LogisticRegression(random_state=42), # Logistic Regression Classifier\n",
    "    'etree': ExtraTreesClassifier(random_state=42), # Extra Trees Classifier\n",
    "    'ada': AdaBoostClassifier(random_state=42), # ADABoost Classifier\n",
    "    'knn': KNeighborsClassifier(), # K-nearest Neighbours Classifier\n",
    "    'rf': RandomForestClassifier(random_state=42), # Random Forest Classifier\n",
    "    'dtree': DecisionTreeClassifier(random_state=42) # Decision Tree Classifier\n",
    "}.items()"
   ]
  },
  {
   "cell_type": "code",
   "execution_count": 105,
   "metadata": {},
   "outputs": [],
   "source": [
    "params = {\n",
    "    'gnb': {\n",
    "        'gnb__var_smoothing': np.logspace(-9, -1, num=20)\n",
    "    },\n",
    "    'nn': {\n",
    "        'nn__layer_one_neurons': np.linspace(500, 2500, num=10, dtype='int').tolist(),\n",
    "        'nn__layer_one_dropout': np.linspace(0.1, 0.5, num=5).tolist(),\n",
    "        'nn__layer_two_neurons' : np.linspace(200, 1000, num=10, dtype='int').tolist(),\n",
    "        'nn__layer_two_dropout': np.linspace(0.1, 0.5, num=5).tolist(),\n",
    "        'nn__opt_learning_rate' : np.logspace(-3, -1, num=5).tolist()\n",
    "    },\n",
    "    'svc': {\n",
    "        'svc__C': np.logspace(-3, 3, num=10),\n",
    "        'svc__gamma': ['scale', 'auto'],\n",
    "        'svc__kernel': ['linear','poly', 'rbf', 'sigmoid'],\n",
    "        'svc__class_weight': ['balanced'] # 'balanced' will help to deal with our imbalanced classes\n",
    "    },\n",
    "    'lr': {\n",
    "        # 'liblinear' solver has been excluded as a potential solver as it cannot learn a true multinomial\n",
    "        # (multiclass) model; instead, the optimization problem is decomposed in a “one-vs-rest”\n",
    "        # fashion so separate binary classifiers are trained for all classes.\n",
    "        'lr__penalty': ['l1', 'l2', 'elasticnet'],\n",
    "        'lr__C': np.logspace(-3, 3, num=10),\n",
    "        'lr__class_weight': ['balanced'], # 'balanced' will help to deal with our imbalanced classes\n",
    "        'lr__solver': ['newton-cg', 'lbfgs', 'sag','saga'], \n",
    "        'lr__multi_class': ['multinomial'],\n",
    "        'lr__l1_ratio': np.linspace(0, 1, num=9)\n",
    "    },\n",
    "    'etree': {\n",
    "        'etree__n_estimators': np.linspace(100, 200, num=10, dtype='int'),\n",
    "        'etree__criterion': ['gini', 'entropy'],\n",
    "        'etree__min_samples_split': np.linspace(2, 10, num=5, dtype='int'),\n",
    "        'etree__min_samples_leaf': np.linspace(1, 10, num=5, dtype='int'),\n",
    "        'etree__max_features': ['auto', 'sqrt', 'log2', None],\n",
    "        'etree__class_weight': ['balanced'] # 'balanced' will help to deal with our imbalanced classes\n",
    "    },\n",
    "    'ada': {\n",
    "        'ada__n_estimators': np.linspace(50, 200, num=10, dtype='int'),\n",
    "        'ada__learning_rate': np.linspace(1, 5, num=9),\n",
    "        'ada__algorithm': ['SAMME', 'SAMME.R']\n",
    "    },\n",
    "    'knn': {\n",
    "        'knn__n_neighbors': np.linspace(5, 20, num=10, dtype='int'),\n",
    "        'knn__weights': ['uniform', 'distance'],\n",
    "        'knn__algorithm': ['auto', 'ball_tree', 'kd_tree', 'brute'],\n",
    "        'knn__leaf_size': np.linspace(30, 50, num=10, dtype='int'),\n",
    "        'knn__p': [1, 2],\n",
    "        'knn__metric': ['euclidean', 'manhattan', 'minkowski']\n",
    "    },\n",
    "    'rf': {\n",
    "        'rf__n_estimators': np.linspace(100, 200, num=10, dtype='int'),\n",
    "        'rf__criterion': ['gini', 'entropy'],\n",
    "        'rf__min_samples_split': np.linspace(2, 10, num=5, dtype='int'),\n",
    "        'rf__min_samples_leaf': np.linspace(1, 10, num=5, dtype='int'),\n",
    "        'rf__max_features': ['auto', 'sqrt', 'log2', None],\n",
    "        'rf__class_weight': ['balanced'] # 'balanced' will help to deal with our imbalanced classes\n",
    "    },\n",
    "    'dtree': {\n",
    "        'dtree__criterion': ['gini', 'entropy'],\n",
    "        'dtree__splitter': ['best', 'random'],\n",
    "        'dtree__min_samples_split': np.linspace(2, 10, num=5, dtype='int'),\n",
    "        'dtree__min_samples_leaf': np.linspace(1, 10, num=5, dtype='int'),\n",
    "        'dtree__max_features': ['auto', 'sqrt', 'log2', None],\n",
    "        'dtree__class_weight': ['balanced'] # 'balanced' will help to deal with our imbalanced classes\n",
    "    }\n",
    "}"
   ]
  },
  {
   "cell_type": "markdown",
   "metadata": {},
   "source": [
    "We now use RandomizedSearchCV to select the optimal parameters for each classifier that produces the best 5-fold cross-validation balanced accuracy score based on the training dataset."
   ]
  },
  {
   "cell_type": "code",
   "execution_count": 101,
   "metadata": {
    "scrolled": true
   },
   "outputs": [
    {
     "name": "stdout",
     "output_type": "stream",
     "text": [
      "Model:  gnb\n",
      "Started fitting at: 2020-04-10 18:30:42\n",
      "Fitting 5 folds for each of 10 candidates, totalling 50 fits\n"
     ]
    },
    {
     "name": "stderr",
     "output_type": "stream",
     "text": [
      "[Parallel(n_jobs=1)]: Using backend SequentialBackend with 1 concurrent workers.\n",
      "[Parallel(n_jobs=1)]: Done  50 out of  50 | elapsed:   52.7s finished\n"
     ]
    },
    {
     "name": "stdout",
     "output_type": "stream",
     "text": [
      "Fitting duration (h:m:s): 0:00:54.366432\n",
      "Best parameters: {'gnb__var_smoothing': 1e-09}\n",
      "Best cross-validation balanced accuracy score: 0.29637849807217603\n",
      "Training set balanced F1 score: 0.36792417517817727\n",
      "Validation set balanced F1 score: 0.0722631436560833\n",
      "Training set balanced accuracy: 0.4275279278035152\n",
      "Validation set balanced accuracy: 0.13261432793708872\n",
      "\n",
      "Model:  nn\n",
      "Started fitting at: 2020-04-10 18:31:36\n",
      "Fitting 5 folds for each of 10 candidates, totalling 50 fits\n"
     ]
    },
    {
     "name": "stderr",
     "output_type": "stream",
     "text": [
      "[Parallel(n_jobs=1)]: Using backend SequentialBackend with 1 concurrent workers.\n"
     ]
    },
    {
     "name": "stdout",
     "output_type": "stream",
     "text": [
      "Epoch 1/10\n",
      " - 7s - loss: 1.8877 - accuracy: 0.3844 - accuracy_1: 0.3844\n",
      "Epoch 2/10\n",
      " - 6s - loss: 0.0904 - accuracy: 0.9734 - accuracy_1: 0.9734\n",
      "Epoch 3/10\n",
      " - 7s - loss: 0.0365 - accuracy: 0.9911 - accuracy_1: 0.9911\n",
      "Epoch 4/10\n",
      " - 7s - loss: 0.0284 - accuracy: 0.9953 - accuracy_1: 0.9953\n",
      "Epoch 5/10\n",
      " - 7s - loss: 0.0211 - accuracy: 0.9958 - accuracy_1: 0.9958\n",
      "Epoch 6/10\n",
      " - 7s - loss: 0.0119 - accuracy: 0.9972 - accuracy_1: 0.9972\n",
      "Epoch 7/10\n",
      " - 7s - loss: 0.0067 - accuracy: 0.9981 - accuracy_1: 0.9981\n",
      "Epoch 8/10\n",
      " - 7s - loss: 0.0071 - accuracy: 0.9981 - accuracy_1: 0.9981\n",
      "Epoch 9/10\n",
      " - 7s - loss: 0.0050 - accuracy: 0.9991 - accuracy_1: 0.9991\n",
      "Epoch 10/10\n",
      " - 7s - loss: 0.0021 - accuracy: 0.9991 - accuracy_1: 0.9991\n",
      "Epoch 1/10\n",
      " - 7s - loss: 1.9766 - accuracy: 0.3564 - accuracy_1: 0.3564\n",
      "Epoch 2/10\n",
      " - 7s - loss: 0.1231 - accuracy: 0.9682 - accuracy_1: 0.9682\n",
      "Epoch 3/10\n",
      " - 8s - loss: 0.0404 - accuracy: 0.9888 - accuracy_1: 0.9888\n",
      "Epoch 4/10\n",
      " - 8s - loss: 0.0298 - accuracy: 0.9944 - accuracy_1: 0.9944\n",
      "Epoch 5/10\n",
      " - 9s - loss: 0.0231 - accuracy: 0.9944 - accuracy_1: 0.9944\n",
      "Epoch 6/10\n",
      " - 7s - loss: 0.0140 - accuracy: 0.9963 - accuracy_1: 0.9963\n",
      "Epoch 7/10\n",
      " - 7s - loss: 0.0147 - accuracy: 0.9972 - accuracy_1: 0.9972\n",
      "Epoch 8/10\n",
      " - 7s - loss: 0.0165 - accuracy: 0.9967 - accuracy_1: 0.9967\n",
      "Epoch 9/10\n",
      " - 7s - loss: 0.0138 - accuracy: 0.9981 - accuracy_1: 0.9981\n",
      "Epoch 10/10\n",
      " - 8s - loss: 0.0029 - accuracy: 0.9986 - accuracy_1: 0.9986\n",
      "Epoch 1/10\n",
      " - 7s - loss: 2.0131 - accuracy: 0.3511 - accuracy_1: 0.3511\n",
      "Epoch 2/10\n",
      " - 7s - loss: 0.1266 - accuracy: 0.9748 - accuracy_1: 0.9748\n",
      "Epoch 3/10\n",
      " - 6s - loss: 0.0468 - accuracy: 0.9883 - accuracy_1: 0.9883\n",
      "Epoch 4/10\n",
      " - 7s - loss: 0.0383 - accuracy: 0.9907 - accuracy_1: 0.9907\n",
      "Epoch 5/10\n",
      " - 7s - loss: 0.0159 - accuracy: 0.9953 - accuracy_1: 0.9953\n",
      "Epoch 6/10\n",
      " - 7s - loss: 0.0122 - accuracy: 0.9963 - accuracy_1: 0.9963\n",
      "Epoch 7/10\n",
      " - 7s - loss: 0.0082 - accuracy: 0.9991 - accuracy_1: 0.9991\n",
      "Epoch 8/10\n",
      " - 7s - loss: 0.0091 - accuracy: 0.9981 - accuracy_1: 0.9981\n",
      "Epoch 9/10\n",
      " - 7s - loss: 0.0027 - accuracy: 0.9995 - accuracy_1: 0.9995\n",
      "Epoch 10/10\n",
      " - 7s - loss: 0.0057 - accuracy: 0.9981 - accuracy_1: 0.9981\n",
      "Epoch 1/10\n",
      " - 7s - loss: 2.0219 - accuracy: 0.3417 - accuracy_1: 0.3417\n",
      "Epoch 2/10\n",
      " - 7s - loss: 0.1573 - accuracy: 0.9613 - accuracy_1: 0.9613\n",
      "Epoch 3/10\n",
      " - 7s - loss: 0.0550 - accuracy: 0.9860 - accuracy_1: 0.9860\n",
      "Epoch 4/10\n",
      " - 7s - loss: 0.0355 - accuracy: 0.9916 - accuracy_1: 0.9916\n",
      "Epoch 5/10\n",
      " - 7s - loss: 0.0257 - accuracy: 0.9939 - accuracy_1: 0.9939\n",
      "Epoch 6/10\n",
      " - 7s - loss: 0.0188 - accuracy: 0.9967 - accuracy_1: 0.9967\n",
      "Epoch 7/10\n",
      " - 7s - loss: 0.0096 - accuracy: 0.9981 - accuracy_1: 0.9981\n",
      "Epoch 8/10\n",
      " - 8s - loss: 0.0118 - accuracy: 0.9972 - accuracy_1: 0.9972\n",
      "Epoch 9/10\n",
      " - 7s - loss: 0.0034 - accuracy: 0.9991 - accuracy_1: 0.9991\n",
      "Epoch 10/10\n",
      " - 7s - loss: 0.0021 - accuracy: 0.9995 - accuracy_1: 0.9995\n",
      "Epoch 1/10\n",
      " - 7s - loss: 2.0553 - accuracy: 0.3389 - accuracy_1: 0.3389\n",
      "Epoch 2/10\n",
      " - 7s - loss: 0.1113 - accuracy: 0.9771 - accuracy_1: 0.9771\n",
      "Epoch 3/10\n",
      " - 8s - loss: 0.0157 - accuracy: 0.9972 - accuracy_1: 0.9972\n",
      "Epoch 4/10\n",
      " - 7s - loss: 0.0125 - accuracy: 0.9977 - accuracy_1: 0.9977\n",
      "Epoch 5/10\n",
      " - 7s - loss: 0.0062 - accuracy: 0.9986 - accuracy_1: 0.9986\n",
      "Epoch 6/10\n",
      " - 7s - loss: 0.0024 - accuracy: 0.9995 - accuracy_1: 0.9995\n",
      "Epoch 7/10\n",
      " - 7s - loss: 0.0012 - accuracy: 0.9995 - accuracy_1: 0.9995\n",
      "Epoch 8/10\n",
      " - 7s - loss: 7.2824e-04 - accuracy: 1.0000 - accuracy_1: 1.0000\n",
      "Epoch 9/10\n",
      " - 6s - loss: 5.1689e-04 - accuracy: 1.0000 - accuracy_1: 1.0000\n",
      "Epoch 10/10\n",
      " - 7s - loss: 4.1887e-04 - accuracy: 1.0000 - accuracy_1: 1.0000\n",
      "Epoch 1/10\n",
      " - 3s - loss: 1.9898 - accuracy: 0.3298 - accuracy_1: 0.3298\n",
      "Epoch 2/10\n",
      " - 3s - loss: 0.2110 - accuracy: 0.9598 - accuracy_1: 0.9598\n",
      "Epoch 3/10\n",
      " - 3s - loss: 0.0688 - accuracy: 0.9855 - accuracy_1: 0.9855\n",
      "Epoch 4/10\n",
      " - 3s - loss: 0.0283 - accuracy: 0.9953 - accuracy_1: 0.9953\n",
      "Epoch 5/10\n",
      " - 3s - loss: 0.0190 - accuracy: 0.9972 - accuracy_1: 0.9972\n",
      "Epoch 6/10\n",
      " - 3s - loss: 0.0099 - accuracy: 0.9981 - accuracy_1: 0.9981\n",
      "Epoch 7/10\n",
      " - 3s - loss: 0.0117 - accuracy: 0.9967 - accuracy_1: 0.9967\n",
      "Epoch 8/10\n",
      " - 3s - loss: 0.0087 - accuracy: 0.9981 - accuracy_1: 0.9981\n",
      "Epoch 9/10\n",
      " - 3s - loss: 0.0050 - accuracy: 0.9995 - accuracy_1: 0.9995\n",
      "Epoch 10/10\n",
      " - 3s - loss: 0.0104 - accuracy: 0.9981 - accuracy_1: 0.9981\n",
      "Epoch 1/10\n",
      " - 3s - loss: 2.0510 - accuracy: 0.3246 - accuracy_1: 0.3246\n",
      "Epoch 2/10\n",
      " - 3s - loss: 0.2272 - accuracy: 0.9524 - accuracy_1: 0.9524\n",
      "Epoch 3/10\n",
      " - 3s - loss: 0.0616 - accuracy: 0.9851 - accuracy_1: 0.9851\n",
      "Epoch 4/10\n",
      " - 3s - loss: 0.0308 - accuracy: 0.9953 - accuracy_1: 0.9953\n",
      "Epoch 5/10\n",
      " - 3s - loss: 0.0209 - accuracy: 0.9953 - accuracy_1: 0.9953\n",
      "Epoch 6/10\n",
      " - 3s - loss: 0.0115 - accuracy: 0.9981 - accuracy_1: 0.9981\n",
      "Epoch 7/10\n",
      " - 3s - loss: 0.0116 - accuracy: 0.9958 - accuracy_1: 0.9958\n",
      "Epoch 8/10\n",
      " - 3s - loss: 0.0100 - accuracy: 0.9977 - accuracy_1: 0.9977\n",
      "Epoch 9/10\n",
      " - 3s - loss: 0.0082 - accuracy: 0.9977 - accuracy_1: 0.9977\n",
      "Epoch 10/10\n",
      " - 3s - loss: 0.0070 - accuracy: 0.9981 - accuracy_1: 0.9981\n",
      "Epoch 1/10\n",
      " - 3s - loss: 2.0577 - accuracy: 0.3100 - accuracy_1: 0.3100\n",
      "Epoch 2/10\n",
      " - 3s - loss: 0.2439 - accuracy: 0.9486 - accuracy_1: 0.9486\n",
      "Epoch 3/10\n",
      " - 3s - loss: 0.0688 - accuracy: 0.9813 - accuracy_1: 0.9813\n",
      "Epoch 4/10\n",
      " - 3s - loss: 0.0313 - accuracy: 0.9939 - accuracy_1: 0.9939\n",
      "Epoch 5/10\n",
      " - 4s - loss: 0.0202 - accuracy: 0.9958 - accuracy_1: 0.9958\n",
      "Epoch 6/10\n",
      " - 3s - loss: 0.0131 - accuracy: 0.9963 - accuracy_1: 0.9963\n",
      "Epoch 7/10\n",
      " - 3s - loss: 0.0122 - accuracy: 0.9977 - accuracy_1: 0.9977\n",
      "Epoch 8/10\n",
      " - 3s - loss: 0.0068 - accuracy: 0.9986 - accuracy_1: 0.9986\n",
      "Epoch 9/10\n",
      " - 3s - loss: 0.0068 - accuracy: 0.9986 - accuracy_1: 0.9986\n",
      "Epoch 10/10\n",
      " - 3s - loss: 0.0059 - accuracy: 0.9995 - accuracy_1: 0.9995\n",
      "Epoch 1/10\n",
      " - 3s - loss: 1.9753 - accuracy: 0.3352 - accuracy_1: 0.3352\n",
      "Epoch 2/10\n",
      " - 3s - loss: 0.2158 - accuracy: 0.9542 - accuracy_1: 0.9542\n",
      "Epoch 3/10\n",
      " - 3s - loss: 0.0660 - accuracy: 0.9813 - accuracy_1: 0.9813\n",
      "Epoch 4/10\n",
      " - 3s - loss: 0.0462 - accuracy: 0.9902 - accuracy_1: 0.9902\n",
      "Epoch 5/10\n",
      " - 3s - loss: 0.0270 - accuracy: 0.9935 - accuracy_1: 0.9935\n",
      "Epoch 6/10\n",
      " - 3s - loss: 0.0156 - accuracy: 0.9958 - accuracy_1: 0.9958\n",
      "Epoch 7/10\n",
      " - 3s - loss: 0.0140 - accuracy: 0.9986 - accuracy_1: 0.9986\n",
      "Epoch 8/10\n",
      " - 3s - loss: 0.0077 - accuracy: 0.9986 - accuracy_1: 0.9986\n",
      "Epoch 9/10\n",
      " - 3s - loss: 0.0054 - accuracy: 0.9986 - accuracy_1: 0.9986\n",
      "Epoch 10/10\n",
      " - 3s - loss: 0.0027 - accuracy: 1.0000 - accuracy_1: 1.0000\n",
      "Epoch 1/10\n",
      " - 3s - loss: 2.0409 - accuracy: 0.3175 - accuracy_1: 0.3175\n",
      "Epoch 2/10\n",
      " - 3s - loss: 0.1961 - accuracy: 0.9650 - accuracy_1: 0.9650\n",
      "Epoch 3/10\n",
      " - 3s - loss: 0.0329 - accuracy: 0.9953 - accuracy_1: 0.9953\n",
      "Epoch 4/10\n",
      " - 3s - loss: 0.0155 - accuracy: 0.9967 - accuracy_1: 0.9967\n",
      "Epoch 5/10\n",
      " - 3s - loss: 0.0071 - accuracy: 0.9986 - accuracy_1: 0.9986\n",
      "Epoch 6/10\n",
      " - 3s - loss: 0.0049 - accuracy: 0.9986 - accuracy_1: 0.9986\n",
      "Epoch 7/10\n",
      " - 3s - loss: 0.0050 - accuracy: 0.9991 - accuracy_1: 0.9991\n",
      "Epoch 8/10\n",
      " - 3s - loss: 0.0021 - accuracy: 1.0000 - accuracy_1: 1.0000\n",
      "Epoch 9/10\n",
      " - 3s - loss: 0.0013 - accuracy: 1.0000 - accuracy_1: 1.0000\n",
      "Epoch 10/10\n",
      " - 3s - loss: 8.3763e-04 - accuracy: 1.0000 - accuracy_1: 1.0000\n",
      "Epoch 1/10\n",
      " - 2s - loss: 2.1631 - accuracy: 0.3050 - accuracy_1: 0.3050\n",
      "Epoch 2/10\n",
      " - 2s - loss: 0.3512 - accuracy: 0.9178 - accuracy_1: 0.9178\n",
      "Epoch 3/10\n",
      " - 2s - loss: 0.0860 - accuracy: 0.9809 - accuracy_1: 0.9809\n",
      "Epoch 4/10\n",
      " - 2s - loss: 0.0444 - accuracy: 0.9907 - accuracy_1: 0.9907\n",
      "Epoch 5/10\n",
      " - 2s - loss: 0.0242 - accuracy: 0.9958 - accuracy_1: 0.9958\n",
      "Epoch 6/10\n",
      " - 2s - loss: 0.0183 - accuracy: 0.9958 - accuracy_1: 0.9958\n",
      "Epoch 7/10\n",
      " - 2s - loss: 0.0146 - accuracy: 0.9949 - accuracy_1: 0.9949\n",
      "Epoch 8/10\n",
      " - 2s - loss: 0.0135 - accuracy: 0.9981 - accuracy_1: 0.9981\n",
      "Epoch 9/10\n",
      " - 2s - loss: 0.0076 - accuracy: 0.9991 - accuracy_1: 0.9991\n",
      "Epoch 10/10\n",
      " - 2s - loss: 0.0102 - accuracy: 0.9981 - accuracy_1: 0.9981\n",
      "Epoch 1/10\n",
      " - 2s - loss: 2.1678 - accuracy: 0.2910 - accuracy_1: 0.2910\n",
      "Epoch 2/10\n",
      " - 2s - loss: 0.3814 - accuracy: 0.9108 - accuracy_1: 0.9108\n",
      "Epoch 3/10\n",
      " - 2s - loss: 0.0914 - accuracy: 0.9743 - accuracy_1: 0.9743\n",
      "Epoch 4/10\n",
      " - 2s - loss: 0.0407 - accuracy: 0.9911 - accuracy_1: 0.9911\n"
     ]
    },
    {
     "name": "stdout",
     "output_type": "stream",
     "text": [
      "Epoch 5/10\n",
      " - 2s - loss: 0.0214 - accuracy: 0.9967 - accuracy_1: 0.9967\n",
      "Epoch 6/10\n",
      " - 2s - loss: 0.0146 - accuracy: 0.9972 - accuracy_1: 0.9972\n",
      "Epoch 7/10\n",
      " - 3s - loss: 0.0153 - accuracy: 0.9953 - accuracy_1: 0.9953\n",
      "Epoch 8/10\n",
      " - 2s - loss: 0.0132 - accuracy: 0.9967 - accuracy_1: 0.9967\n",
      "Epoch 9/10\n",
      " - 2s - loss: 0.0196 - accuracy: 0.9967 - accuracy_1: 0.9967\n",
      "Epoch 10/10\n",
      " - 2s - loss: 0.0079 - accuracy: 0.9972 - accuracy_1: 0.9972\n",
      "Epoch 1/10\n",
      " - 2s - loss: 2.1393 - accuracy: 0.2918 - accuracy_1: 0.2918\n",
      "Epoch 2/10\n",
      " - 2s - loss: 0.3212 - accuracy: 0.9272 - accuracy_1: 0.9272\n",
      "Epoch 3/10\n",
      " - 2s - loss: 0.0745 - accuracy: 0.9799 - accuracy_1: 0.9799\n",
      "Epoch 4/10\n",
      " - 2s - loss: 0.0437 - accuracy: 0.9893 - accuracy_1: 0.9893\n",
      "Epoch 5/10\n",
      " - 2s - loss: 0.0362 - accuracy: 0.9916 - accuracy_1: 0.9916\n",
      "Epoch 6/10\n",
      " - 2s - loss: 0.0259 - accuracy: 0.9944 - accuracy_1: 0.9944\n",
      "Epoch 7/10\n",
      " - 2s - loss: 0.0161 - accuracy: 0.9967 - accuracy_1: 0.9967\n",
      "Epoch 8/10\n",
      " - 2s - loss: 0.0251 - accuracy: 0.9944 - accuracy_1: 0.9944\n",
      "Epoch 9/10\n",
      " - 2s - loss: 0.0194 - accuracy: 0.9972 - accuracy_1: 0.9972\n",
      "Epoch 10/10\n",
      " - 2s - loss: 0.0297 - accuracy: 0.9944 - accuracy_1: 0.9944\n",
      "Epoch 1/10\n",
      " - 2s - loss: 2.1368 - accuracy: 0.3086 - accuracy_1: 0.3086\n",
      "Epoch 2/10\n",
      " - 2s - loss: 0.3404 - accuracy: 0.9192 - accuracy_1: 0.9192\n",
      "Epoch 3/10\n",
      " - 2s - loss: 0.0865 - accuracy: 0.9757 - accuracy_1: 0.9757\n",
      "Epoch 4/10\n",
      " - 2s - loss: 0.0422 - accuracy: 0.9874 - accuracy_1: 0.9874\n",
      "Epoch 5/10\n",
      " - 2s - loss: 0.0303 - accuracy: 0.9902 - accuracy_1: 0.9902\n",
      "Epoch 6/10\n",
      " - 2s - loss: 0.0259 - accuracy: 0.9925 - accuracy_1: 0.9925\n",
      "Epoch 7/10\n",
      " - 2s - loss: 0.0337 - accuracy: 0.9949 - accuracy_1: 0.9949\n",
      "Epoch 8/10\n",
      " - 2s - loss: 0.0186 - accuracy: 0.9958 - accuracy_1: 0.9958\n",
      "Epoch 9/10\n",
      " - 2s - loss: 0.0124 - accuracy: 0.9967 - accuracy_1: 0.9967\n",
      "Epoch 10/10\n",
      " - 2s - loss: 0.0076 - accuracy: 0.9981 - accuracy_1: 0.9981\n",
      "Epoch 1/10\n",
      " - 2s - loss: 2.1561 - accuracy: 0.2937 - accuracy_1: 0.2937\n",
      "Epoch 2/10\n",
      " - 2s - loss: 0.3333 - accuracy: 0.9174 - accuracy_1: 0.9174\n",
      "Epoch 3/10\n",
      " - 2s - loss: 0.0444 - accuracy: 0.9921 - accuracy_1: 0.9921\n",
      "Epoch 4/10\n",
      " - 2s - loss: 0.0218 - accuracy: 0.9953 - accuracy_1: 0.9953\n",
      "Epoch 5/10\n",
      " - 2s - loss: 0.0141 - accuracy: 0.9986 - accuracy_1: 0.9986\n",
      "Epoch 6/10\n",
      " - 2s - loss: 0.0086 - accuracy: 0.9986 - accuracy_1: 0.9986\n",
      "Epoch 7/10\n",
      " - 2s - loss: 0.0074 - accuracy: 0.9986 - accuracy_1: 0.9986\n",
      "Epoch 8/10\n",
      " - 2s - loss: 0.0040 - accuracy: 0.9995 - accuracy_1: 0.9995\n",
      "Epoch 9/10\n",
      " - 2s - loss: 0.0050 - accuracy: 0.9986 - accuracy_1: 0.9986\n",
      "Epoch 10/10\n",
      " - 2s - loss: 0.0028 - accuracy: 1.0000 - accuracy_1: 1.0000\n",
      "Epoch 1/10\n",
      " - 2s - loss: 2.1540 - accuracy: 0.3377 - accuracy_1: 0.3377\n",
      "Epoch 2/10\n",
      " - 2s - loss: 0.3214 - accuracy: 0.8996 - accuracy_1: 0.8996\n",
      "Epoch 3/10\n",
      " - 2s - loss: 0.1437 - accuracy: 0.9612 - accuracy_1: 0.9612\n",
      "Epoch 4/10\n",
      " - 2s - loss: 0.0683 - accuracy: 0.9823 - accuracy_1: 0.9823\n",
      "Epoch 5/10\n",
      " - 2s - loss: 0.0912 - accuracy: 0.9809 - accuracy_1: 0.9809\n",
      "Epoch 6/10\n",
      " - 2s - loss: 0.1016 - accuracy: 0.9785 - accuracy_1: 0.9785\n",
      "Epoch 7/10\n",
      " - 2s - loss: 0.1557 - accuracy: 0.9682 - accuracy_1: 0.9682\n",
      "Epoch 8/10\n",
      " - 2s - loss: 0.2122 - accuracy: 0.9729 - accuracy_1: 0.9729\n",
      "Epoch 9/10\n",
      " - 2s - loss: 0.2594 - accuracy: 0.9701 - accuracy_1: 0.9701\n",
      "Epoch 10/10\n",
      " - 2s - loss: 0.4052 - accuracy: 0.9631 - accuracy_1: 0.9631\n",
      "Epoch 1/10\n",
      " - 2s - loss: 2.1393 - accuracy: 0.3279 - accuracy_1: 0.3279\n",
      "Epoch 2/10\n",
      " - 2s - loss: 0.2857 - accuracy: 0.9183 - accuracy_1: 0.9183\n",
      "Epoch 3/10\n",
      " - 2s - loss: 0.1340 - accuracy: 0.9706 - accuracy_1: 0.9706\n",
      "Epoch 4/10\n",
      " - 2s - loss: 0.1405 - accuracy: 0.9668 - accuracy_1: 0.9668\n",
      "Epoch 5/10\n",
      " - 2s - loss: 0.0939 - accuracy: 0.9841 - accuracy_1: 0.9841\n",
      "Epoch 6/10\n",
      " - 2s - loss: 0.0658 - accuracy: 0.9869 - accuracy_1: 0.9869\n",
      "Epoch 7/10\n",
      " - 2s - loss: 0.1089 - accuracy: 0.9823 - accuracy_1: 0.9823\n",
      "Epoch 8/10\n",
      " - 2s - loss: 0.0769 - accuracy: 0.9874 - accuracy_1: 0.9874\n",
      "Epoch 9/10\n",
      " - 2s - loss: 0.2812 - accuracy: 0.9715 - accuracy_1: 0.9715\n",
      "Epoch 10/10\n",
      " - 2s - loss: 0.2772 - accuracy: 0.9692 - accuracy_1: 0.9692\n",
      "Epoch 1/10\n",
      " - 2s - loss: 2.0754 - accuracy: 0.3352 - accuracy_1: 0.3352\n",
      "Epoch 2/10\n",
      " - 2s - loss: 0.2661 - accuracy: 0.9150 - accuracy_1: 0.9150\n",
      "Epoch 3/10\n",
      " - 2s - loss: 0.1436 - accuracy: 0.9599 - accuracy_1: 0.9599\n",
      "Epoch 4/10\n",
      " - 2s - loss: 0.1293 - accuracy: 0.9678 - accuracy_1: 0.9678\n",
      "Epoch 5/10\n",
      " - 2s - loss: 0.0813 - accuracy: 0.9804 - accuracy_1: 0.9804\n",
      "Epoch 6/10\n",
      " - 2s - loss: 0.1306 - accuracy: 0.9823 - accuracy_1: 0.9823\n",
      "Epoch 7/10\n",
      " - 2s - loss: 0.1070 - accuracy: 0.9809 - accuracy_1: 0.9809\n",
      "Epoch 8/10\n",
      " - 2s - loss: 0.0727 - accuracy: 0.9860 - accuracy_1: 0.9860\n",
      "Epoch 9/10\n",
      " - 2s - loss: 0.0498 - accuracy: 0.9851 - accuracy_1: 0.9851\n",
      "Epoch 10/10\n",
      " - 2s - loss: 0.0696 - accuracy: 0.9911 - accuracy_1: 0.9911\n",
      "Epoch 1/10\n",
      " - 2s - loss: 2.1841 - accuracy: 0.3161 - accuracy_1: 0.3161\n",
      "Epoch 2/10\n",
      " - 2s - loss: 0.3310 - accuracy: 0.8959 - accuracy_1: 0.8959\n",
      "Epoch 3/10\n",
      " - 2s - loss: 0.1439 - accuracy: 0.9641 - accuracy_1: 0.9641\n",
      "Epoch 4/10\n",
      " - 2s - loss: 0.0903 - accuracy: 0.9804 - accuracy_1: 0.9804\n",
      "Epoch 5/10\n",
      " - 2s - loss: 0.0951 - accuracy: 0.9813 - accuracy_1: 0.9813\n",
      "Epoch 6/10\n",
      " - 2s - loss: 0.1145 - accuracy: 0.9813 - accuracy_1: 0.9813\n",
      "Epoch 7/10\n",
      " - 2s - loss: 0.1214 - accuracy: 0.9757 - accuracy_1: 0.9757\n",
      "Epoch 8/10\n",
      " - 2s - loss: 0.2635 - accuracy: 0.9613 - accuracy_1: 0.9613\n",
      "Epoch 9/10\n",
      " - 2s - loss: 0.2939 - accuracy: 0.9613 - accuracy_1: 0.9613\n",
      "Epoch 10/10\n",
      " - 2s - loss: 0.3383 - accuracy: 0.9664 - accuracy_1: 0.9664\n",
      "Epoch 1/10\n",
      " - 2s - loss: 2.2227 - accuracy: 0.3021 - accuracy_1: 0.3021\n",
      "Epoch 2/10\n",
      " - 2s - loss: 0.3942 - accuracy: 0.8908 - accuracy_1: 0.8908\n",
      "Epoch 3/10\n",
      " - 2s - loss: 0.0919 - accuracy: 0.9795 - accuracy_1: 0.9795\n",
      "Epoch 4/10\n",
      " - 2s - loss: 0.0744 - accuracy: 0.9855 - accuracy_1: 0.9855\n",
      "Epoch 5/10\n",
      " - 2s - loss: 0.0337 - accuracy: 0.9911 - accuracy_1: 0.9911\n",
      "Epoch 6/10\n",
      " - 2s - loss: 0.0606 - accuracy: 0.9893 - accuracy_1: 0.9893\n",
      "Epoch 7/10\n",
      " - 2s - loss: 0.0667 - accuracy: 0.9837 - accuracy_1: 0.9837\n",
      "Epoch 8/10\n",
      " - 2s - loss: 0.1224 - accuracy: 0.9804 - accuracy_1: 0.9804\n",
      "Epoch 9/10\n",
      " - 2s - loss: 0.2749 - accuracy: 0.9692 - accuracy_1: 0.9692\n",
      "Epoch 10/10\n",
      " - 2s - loss: 0.4848 - accuracy: 0.9528 - accuracy_1: 0.9528\n",
      "Epoch 1/10\n",
      " - 5s - loss: 67.2067 - accuracy: 0.2331 - accuracy_1: 0.2331\n",
      "Epoch 2/10\n",
      " - 5s - loss: 54.0888 - accuracy: 0.2681 - accuracy_1: 0.2681\n",
      "Epoch 3/10\n",
      " - 5s - loss: 14.6470 - accuracy: 0.2695 - accuracy_1: 0.2695\n",
      "Epoch 4/10\n",
      " - 5s - loss: 28.5707 - accuracy: 0.2676 - accuracy_1: 0.2676\n",
      "Epoch 5/10\n",
      " - 5s - loss: 13.0375 - accuracy: 0.2672 - accuracy_1: 0.2672\n",
      "Epoch 6/10\n",
      " - 5s - loss: 2.8944 - accuracy: 0.2676 - accuracy_1: 0.2676\n",
      "Epoch 7/10\n",
      " - 5s - loss: 1.9972 - accuracy: 0.2676 - accuracy_1: 0.2676\n",
      "Epoch 8/10\n",
      " - 5s - loss: 32.8299 - accuracy: 0.2667 - accuracy_1: 0.2667\n",
      "Epoch 9/10\n",
      " - 5s - loss: 42.7640 - accuracy: 0.2550 - accuracy_1: 0.2550\n",
      "Epoch 10/10\n",
      " - 5s - loss: 2.0003 - accuracy: 0.2602 - accuracy_1: 0.2602\n",
      "Epoch 1/10\n",
      " - 5s - loss: 98.9571 - accuracy: 0.2377 - accuracy_1: 0.2377\n",
      "Epoch 2/10\n",
      " - 5s - loss: 133.5177 - accuracy: 0.2695 - accuracy_1: 0.2695\n",
      "Epoch 3/10\n",
      " - 5s - loss: 60.7665 - accuracy: 0.2681 - accuracy_1: 0.2681\n",
      "Epoch 4/10\n",
      " - 5s - loss: 20.0059 - accuracy: 0.2681 - accuracy_1: 0.2681\n",
      "Epoch 5/10\n",
      " - 5s - loss: 91.5864 - accuracy: 0.2681 - accuracy_1: 0.2681\n",
      "Epoch 6/10\n",
      " - 5s - loss: 96.0699 - accuracy: 0.2695 - accuracy_1: 0.2695\n",
      "Epoch 7/10\n",
      " - 5s - loss: 97.5207 - accuracy: 0.2681 - accuracy_1: 0.2681\n",
      "Epoch 8/10\n",
      " - 5s - loss: 1.9919 - accuracy: 0.2681 - accuracy_1: 0.2681\n",
      "Epoch 9/10\n",
      " - 5s - loss: 3.4991 - accuracy: 0.2700 - accuracy_1: 0.2700\n",
      "Epoch 10/10\n",
      " - 6s - loss: 4.4216 - accuracy: 0.2676 - accuracy_1: 0.2676\n",
      "Epoch 1/10\n",
      " - 5s - loss: 81.6677 - accuracy: 0.2339 - accuracy_1: 0.2339\n",
      "Epoch 2/10\n",
      " - 5s - loss: 74.2034 - accuracy: 0.2451 - accuracy_1: 0.2451\n",
      "Epoch 3/10\n",
      " - 5s - loss: 44.3050 - accuracy: 0.2549 - accuracy_1: 0.2549\n",
      "Epoch 4/10\n",
      " - 5s - loss: 28.1449 - accuracy: 0.2554 - accuracy_1: 0.2554\n",
      "Epoch 5/10\n",
      " - 5s - loss: 31.0805 - accuracy: 0.2549 - accuracy_1: 0.2549\n",
      "Epoch 6/10\n",
      " - 5s - loss: 6.9258 - accuracy: 0.2526 - accuracy_1: 0.2526\n",
      "Epoch 7/10\n",
      " - 5s - loss: 4.4635 - accuracy: 0.2521 - accuracy_1: 0.2521\n",
      "Epoch 8/10\n",
      " - 5s - loss: 2.0063 - accuracy: 0.2516 - accuracy_1: 0.2516\n"
     ]
    },
    {
     "name": "stdout",
     "output_type": "stream",
     "text": [
      "Epoch 9/10\n",
      " - 5s - loss: 2.1744 - accuracy: 0.2549 - accuracy_1: 0.2549\n",
      "Epoch 10/10\n",
      " - 5s - loss: 2.0052 - accuracy: 0.2549 - accuracy_1: 0.2549\n",
      "Epoch 1/10\n",
      " - 5s - loss: 110.8771 - accuracy: 0.2465 - accuracy_1: 0.2465\n",
      "Epoch 2/10\n",
      " - 5s - loss: 98.6176 - accuracy: 0.2712 - accuracy_1: 0.2712\n",
      "Epoch 3/10\n",
      " - 5s - loss: 37.8193 - accuracy: 0.2652 - accuracy_1: 0.2652\n",
      "Epoch 4/10\n",
      " - 5s - loss: 199.5681 - accuracy: 0.2656 - accuracy_1: 0.2656\n",
      "Epoch 5/10\n",
      " - 5s - loss: 19.7299 - accuracy: 0.2647 - accuracy_1: 0.2647\n",
      "Epoch 6/10\n",
      " - 5s - loss: 2.1970 - accuracy: 0.2675 - accuracy_1: 0.2675\n",
      "Epoch 7/10\n",
      " - 5s - loss: 14.5393 - accuracy: 0.2652 - accuracy_1: 0.2652\n",
      "Epoch 8/10\n",
      " - 5s - loss: 8.1367 - accuracy: 0.2610 - accuracy_1: 0.2610\n",
      "Epoch 9/10\n",
      " - 5s - loss: 6.7753 - accuracy: 0.2591 - accuracy_1: 0.2591\n",
      "Epoch 10/10\n",
      " - 5s - loss: 9.6677 - accuracy: 0.2656 - accuracy_1: 0.2656\n",
      "Epoch 1/10\n",
      " - 5s - loss: 110.4038 - accuracy: 0.2661 - accuracy_1: 0.2661\n",
      "Epoch 2/10\n",
      " - 6s - loss: 43.4043 - accuracy: 0.2834 - accuracy_1: 0.2834\n",
      "Epoch 3/10\n",
      " - 5s - loss: 20.7772 - accuracy: 0.2838 - accuracy_1: 0.2838\n",
      "Epoch 4/10\n",
      " - 5s - loss: 10.5894 - accuracy: 0.2848 - accuracy_1: 0.2848\n",
      "Epoch 5/10\n",
      " - 5s - loss: 208.8148 - accuracy: 0.2838 - accuracy_1: 0.2838\n",
      "Epoch 6/10\n",
      " - 5s - loss: 15.3691 - accuracy: 0.2764 - accuracy_1: 0.2764\n",
      "Epoch 7/10\n",
      " - 5s - loss: 39.9905 - accuracy: 0.2838 - accuracy_1: 0.2838\n",
      "Epoch 8/10\n",
      " - 5s - loss: 131.0570 - accuracy: 0.2834 - accuracy_1: 0.2834\n",
      "Epoch 9/10\n",
      " - 5s - loss: 1.8444 - accuracy: 0.2838 - accuracy_1: 0.2838\n",
      "Epoch 10/10\n",
      " - 5s - loss: 31.3562 - accuracy: 0.2722 - accuracy_1: 0.2722\n",
      "Epoch 1/10\n",
      " - 4s - loss: 218.9473 - accuracy: 0.2279 - accuracy_1: 0.2279\n",
      "Epoch 2/10\n",
      " - 4s - loss: 96.9659 - accuracy: 0.2658 - accuracy_1: 0.2658\n",
      "Epoch 3/10\n",
      " - 4s - loss: 173.8068 - accuracy: 0.2732 - accuracy_1: 0.2732\n",
      "Epoch 4/10\n",
      " - 5s - loss: 158.9169 - accuracy: 0.2723 - accuracy_1: 0.2723\n",
      "Epoch 5/10\n",
      " - 4s - loss: 21.9507 - accuracy: 0.2746 - accuracy_1: 0.2746\n",
      "Epoch 6/10\n",
      " - 4s - loss: 108.3972 - accuracy: 0.2700 - accuracy_1: 0.2700\n",
      "Epoch 7/10\n",
      " - 4s - loss: 58.2315 - accuracy: 0.2700 - accuracy_1: 0.2700\n",
      "Epoch 8/10\n",
      " - 4s - loss: 9.4127 - accuracy: 0.2709 - accuracy_1: 0.2709\n",
      "Epoch 9/10\n",
      " - 4s - loss: 201.1772 - accuracy: 0.2541 - accuracy_1: 0.2541\n",
      "Epoch 10/10\n",
      " - 5s - loss: 1.9922 - accuracy: 0.2606 - accuracy_1: 0.2606\n",
      "Epoch 1/10\n",
      " - 5s - loss: 144.7305 - accuracy: 0.2382 - accuracy_1: 0.2382\n",
      "Epoch 2/10\n",
      " - 4s - loss: 150.8536 - accuracy: 0.2625 - accuracy_1: 0.2625\n",
      "Epoch 3/10\n",
      " - 4s - loss: 346.5463 - accuracy: 0.2714 - accuracy_1: 0.2714\n",
      "Epoch 4/10\n",
      " - 4s - loss: 232.2542 - accuracy: 0.2616 - accuracy_1: 0.2616\n",
      "Epoch 5/10\n",
      " - 5s - loss: 203.0545 - accuracy: 0.2704 - accuracy_1: 0.2704\n",
      "Epoch 6/10\n",
      " - 4s - loss: 4.5357 - accuracy: 0.2714 - accuracy_1: 0.2714\n",
      "Epoch 7/10\n",
      " - 5s - loss: 2.0955 - accuracy: 0.2732 - accuracy_1: 0.2732\n",
      "Epoch 8/10\n",
      " - 5s - loss: 3.9267 - accuracy: 0.2704 - accuracy_1: 0.2704\n",
      "Epoch 9/10\n",
      " - 5s - loss: 2.3496 - accuracy: 0.2714 - accuracy_1: 0.2714\n",
      "Epoch 10/10\n",
      " - 5s - loss: 2.0087 - accuracy: 0.2709 - accuracy_1: 0.2709\n",
      "Epoch 1/10\n",
      " - 5s - loss: 59.8300 - accuracy: 0.2269 - accuracy_1: 0.2269\n",
      "Epoch 2/10\n",
      " - 5s - loss: 65.6165 - accuracy: 0.2568 - accuracy_1: 0.2568\n",
      "Epoch 3/10\n",
      " - 5s - loss: 223.3203 - accuracy: 0.2605 - accuracy_1: 0.2605\n",
      "Epoch 4/10\n",
      " - 5s - loss: 119.4638 - accuracy: 0.2572 - accuracy_1: 0.2572\n",
      "Epoch 5/10\n",
      " - 5s - loss: 169.2868 - accuracy: 0.2465 - accuracy_1: 0.2465\n",
      "Epoch 6/10\n",
      " - 5s - loss: 10.9029 - accuracy: 0.2558 - accuracy_1: 0.2558\n",
      "Epoch 7/10\n",
      " - 5s - loss: 2.6512 - accuracy: 0.2451 - accuracy_1: 0.2451\n",
      "Epoch 8/10\n",
      " - 4s - loss: 3.3148 - accuracy: 0.2558 - accuracy_1: 0.2558\n",
      "Epoch 9/10\n",
      " - 4s - loss: 3.0541 - accuracy: 0.2526 - accuracy_1: 0.2526\n",
      "Epoch 10/10\n",
      " - 5s - loss: 2.0032 - accuracy: 0.2493 - accuracy_1: 0.2493\n",
      "Epoch 1/10\n",
      " - 4s - loss: 52.8143 - accuracy: 0.2222 - accuracy_1: 0.2222\n",
      "Epoch 2/10\n",
      " - 4s - loss: 63.7833 - accuracy: 0.2717 - accuracy_1: 0.2717\n",
      "Epoch 3/10\n",
      " - 4s - loss: 274.1919 - accuracy: 0.2698 - accuracy_1: 0.2698\n",
      "Epoch 4/10\n",
      " - 4s - loss: 13.2732 - accuracy: 0.2661 - accuracy_1: 0.2661\n",
      "Epoch 5/10\n",
      " - 4s - loss: 21.2054 - accuracy: 0.2675 - accuracy_1: 0.2675\n",
      "Epoch 6/10\n",
      " - 4s - loss: 152.1797 - accuracy: 0.2670 - accuracy_1: 0.2670\n",
      "Epoch 7/10\n",
      " - 4s - loss: 194.7243 - accuracy: 0.2526 - accuracy_1: 0.2526\n",
      "Epoch 8/10\n",
      " - 4s - loss: 3.8497 - accuracy: 0.2666 - accuracy_1: 0.2666\n",
      "Epoch 9/10\n",
      " - 4s - loss: 1.9968 - accuracy: 0.2670 - accuracy_1: 0.2670\n",
      "Epoch 10/10\n",
      " - 4s - loss: 2.4970 - accuracy: 0.2680 - accuracy_1: 0.2680\n",
      "Epoch 1/10\n",
      " - 4s - loss: 122.3771 - accuracy: 0.2306 - accuracy_1: 0.2306\n",
      "Epoch 2/10\n",
      " - 4s - loss: 28.6118 - accuracy: 0.2913 - accuracy_1: 0.2913\n",
      "Epoch 3/10\n",
      " - 5s - loss: 108.1803 - accuracy: 0.2843 - accuracy_1: 0.2843\n",
      "Epoch 4/10\n",
      " - 4s - loss: 57.5154 - accuracy: 0.2880 - accuracy_1: 0.2880\n",
      "Epoch 5/10\n",
      " - 4s - loss: 70.9434 - accuracy: 0.2815 - accuracy_1: 0.2815\n",
      "Epoch 6/10\n",
      " - 4s - loss: 296.4216 - accuracy: 0.2871 - accuracy_1: 0.2871\n",
      "Epoch 7/10\n",
      " - 4s - loss: 2.2297 - accuracy: 0.2759 - accuracy_1: 0.2759\n",
      "Epoch 8/10\n",
      " - 4s - loss: 1.8367 - accuracy: 0.2885 - accuracy_1: 0.2885\n",
      "Epoch 9/10\n",
      " - 4s - loss: 3.5224 - accuracy: 0.2871 - accuracy_1: 0.2871\n",
      "Epoch 10/10\n",
      " - 5s - loss: 3.0783 - accuracy: 0.2862 - accuracy_1: 0.2862\n",
      "Epoch 1/10\n",
      " - 3s - loss: 130.7028 - accuracy: 0.2121 - accuracy_1: 0.2121\n",
      "Epoch 2/10\n",
      " - 3s - loss: 40.1214 - accuracy: 0.2690 - accuracy_1: 0.2690\n",
      "Epoch 3/10\n",
      " - 3s - loss: 138.7418 - accuracy: 0.2690 - accuracy_1: 0.2690\n",
      "Epoch 4/10\n",
      " - 3s - loss: 17.2527 - accuracy: 0.2672 - accuracy_1: 0.2672\n",
      "Epoch 5/10\n",
      " - 3s - loss: 21.8433 - accuracy: 0.2681 - accuracy_1: 0.2681\n",
      "Epoch 6/10\n",
      " - 3s - loss: 2.0752 - accuracy: 0.2662 - accuracy_1: 0.2662\n",
      "Epoch 7/10\n",
      " - 3s - loss: 1.9948 - accuracy: 0.2662 - accuracy_1: 0.2662\n",
      "Epoch 8/10\n",
      " - 3s - loss: 7.4006 - accuracy: 0.2658 - accuracy_1: 0.2658\n",
      "Epoch 9/10\n",
      " - 3s - loss: 2.5331 - accuracy: 0.2672 - accuracy_1: 0.2672\n",
      "Epoch 10/10\n",
      " - 3s - loss: 2.4205 - accuracy: 0.2667 - accuracy_1: 0.2667\n",
      "Epoch 1/10\n",
      " - 3s - loss: 84.7922 - accuracy: 0.2125 - accuracy_1: 0.2125\n",
      "Epoch 2/10\n",
      " - 3s - loss: 22.0573 - accuracy: 0.2723 - accuracy_1: 0.2723\n",
      "Epoch 3/10\n",
      " - 3s - loss: 9.5592 - accuracy: 0.2686 - accuracy_1: 0.2686\n",
      "Epoch 4/10\n",
      " - 3s - loss: 4.8424 - accuracy: 0.2681 - accuracy_1: 0.2681\n",
      "Epoch 5/10\n",
      " - 3s - loss: 3.9030 - accuracy: 0.2597 - accuracy_1: 0.2597\n",
      "Epoch 6/10\n",
      " - 3s - loss: 3.2126 - accuracy: 0.2681 - accuracy_1: 0.2681\n",
      "Epoch 7/10\n",
      " - 3s - loss: 4.9802 - accuracy: 0.2676 - accuracy_1: 0.2676\n",
      "Epoch 8/10\n",
      " - 3s - loss: 2.4707 - accuracy: 0.2681 - accuracy_1: 0.2681\n",
      "Epoch 9/10\n",
      " - 3s - loss: 2.4131 - accuracy: 0.2555 - accuracy_1: 0.2555\n",
      "Epoch 10/10\n",
      " - 3s - loss: 1.9996 - accuracy: 0.2662 - accuracy_1: 0.2662\n",
      "Epoch 1/10\n",
      " - 3s - loss: 96.9126 - accuracy: 0.2250 - accuracy_1: 0.2250\n",
      "Epoch 2/10\n",
      " - 3s - loss: 32.1924 - accuracy: 0.2563 - accuracy_1: 0.2563\n",
      "Epoch 3/10\n",
      " - 3s - loss: 38.2704 - accuracy: 0.2554 - accuracy_1: 0.2554\n",
      "Epoch 4/10\n",
      " - 3s - loss: 44.0731 - accuracy: 0.2516 - accuracy_1: 0.2516\n",
      "Epoch 5/10\n",
      " - 3s - loss: 4.3718 - accuracy: 0.2558 - accuracy_1: 0.2558\n",
      "Epoch 6/10\n",
      " - 3s - loss: 2.3976 - accuracy: 0.2558 - accuracy_1: 0.2558\n",
      "Epoch 7/10\n",
      " - 3s - loss: 60.6220 - accuracy: 0.2507 - accuracy_1: 0.2507\n",
      "Epoch 8/10\n",
      " - 3s - loss: 11.0266 - accuracy: 0.2498 - accuracy_1: 0.2498\n",
      "Epoch 9/10\n",
      " - 3s - loss: 2.0149 - accuracy: 0.2484 - accuracy_1: 0.2484\n",
      "Epoch 10/10\n",
      " - 3s - loss: 2.0096 - accuracy: 0.2488 - accuracy_1: 0.2488\n",
      "Epoch 1/10\n",
      " - 3s - loss: 61.1619 - accuracy: 0.2283 - accuracy_1: 0.2283\n",
      "Epoch 2/10\n",
      " - 3s - loss: 25.1049 - accuracy: 0.2722 - accuracy_1: 0.2722\n",
      "Epoch 3/10\n",
      " - 3s - loss: 59.3159 - accuracy: 0.2656 - accuracy_1: 0.2656\n",
      "Epoch 4/10\n",
      " - 3s - loss: 8.0430 - accuracy: 0.2656 - accuracy_1: 0.2656\n",
      "Epoch 5/10\n",
      " - 3s - loss: 9.8033 - accuracy: 0.2680 - accuracy_1: 0.2680\n",
      "Epoch 6/10\n",
      " - 3s - loss: 4.3754 - accuracy: 0.2619 - accuracy_1: 0.2619\n",
      "Epoch 7/10\n",
      " - 3s - loss: 2.2231 - accuracy: 0.2656 - accuracy_1: 0.2656\n",
      "Epoch 8/10\n",
      " - 3s - loss: 2.1319 - accuracy: 0.2661 - accuracy_1: 0.2661\n",
      "Epoch 9/10\n",
      " - 3s - loss: 2.0918 - accuracy: 0.2554 - accuracy_1: 0.2554\n",
      "Epoch 10/10\n",
      " - 3s - loss: 9.9938 - accuracy: 0.2661 - accuracy_1: 0.2661\n",
      "Epoch 1/10\n",
      " - 3s - loss: 132.8084 - accuracy: 0.2586 - accuracy_1: 0.2586\n"
     ]
    },
    {
     "name": "stdout",
     "output_type": "stream",
     "text": [
      "Epoch 2/10\n",
      " - 3s - loss: 75.2115 - accuracy: 0.2834 - accuracy_1: 0.2834\n",
      "Epoch 3/10\n",
      " - 3s - loss: 35.3635 - accuracy: 0.2838 - accuracy_1: 0.2838\n",
      "Epoch 4/10\n",
      " - 3s - loss: 49.9555 - accuracy: 0.2843 - accuracy_1: 0.2843\n",
      "Epoch 5/10\n",
      " - 3s - loss: 22.2242 - accuracy: 0.2843 - accuracy_1: 0.2843\n",
      "Epoch 6/10\n",
      " - 3s - loss: 6.2115 - accuracy: 0.2852 - accuracy_1: 0.2852\n",
      "Epoch 7/10\n",
      " - 3s - loss: 2.6723 - accuracy: 0.2857 - accuracy_1: 0.2857\n",
      "Epoch 8/10\n",
      " - 3s - loss: 2.1007 - accuracy: 0.2801 - accuracy_1: 0.2801\n",
      "Epoch 9/10\n",
      " - 3s - loss: 1.8444 - accuracy: 0.2768 - accuracy_1: 0.2768\n",
      "Epoch 10/10\n",
      " - 3s - loss: 1.9335 - accuracy: 0.2838 - accuracy_1: 0.2838\n",
      "Epoch 1/10\n",
      " - 4s - loss: 2.0210 - accuracy: 0.3204 - accuracy_1: 0.3204\n",
      "Epoch 2/10\n",
      " - 4s - loss: 0.1670 - accuracy: 0.9664 - accuracy_1: 0.9664\n",
      "Epoch 3/10\n",
      " - 4s - loss: 0.0391 - accuracy: 0.9925 - accuracy_1: 0.9925\n",
      "Epoch 4/10\n",
      " - 4s - loss: 0.0300 - accuracy: 0.9935 - accuracy_1: 0.9935\n",
      "Epoch 5/10\n",
      " - 4s - loss: 0.0307 - accuracy: 0.9939 - accuracy_1: 0.9939\n",
      "Epoch 6/10\n",
      " - 4s - loss: 0.0147 - accuracy: 0.9972 - accuracy_1: 0.9972\n",
      "Epoch 7/10\n",
      " - 4s - loss: 0.0132 - accuracy: 0.9958 - accuracy_1: 0.9958\n",
      "Epoch 8/10\n",
      " - 4s - loss: 0.0217 - accuracy: 0.9944 - accuracy_1: 0.9944\n",
      "Epoch 9/10\n",
      " - 4s - loss: 0.0104 - accuracy: 0.9991 - accuracy_1: 0.9991\n",
      "Epoch 10/10\n",
      " - 4s - loss: 0.0032 - accuracy: 0.9995 - accuracy_1: 0.9995\n",
      "Epoch 1/10\n",
      " - 4s - loss: 2.0404 - accuracy: 0.3438 - accuracy_1: 0.3438\n",
      "Epoch 2/10\n",
      " - 4s - loss: 0.1603 - accuracy: 0.9720 - accuracy_1: 0.9720\n",
      "Epoch 3/10\n",
      " - 4s - loss: 0.0468 - accuracy: 0.9860 - accuracy_1: 0.9860\n",
      "Epoch 4/10\n",
      " - 5s - loss: 0.0304 - accuracy: 0.9944 - accuracy_1: 0.9944\n",
      "Epoch 5/10\n",
      " - 4s - loss: 0.0196 - accuracy: 0.9949 - accuracy_1: 0.9949\n",
      "Epoch 6/10\n",
      " - 4s - loss: 0.0130 - accuracy: 0.9967 - accuracy_1: 0.9967\n",
      "Epoch 7/10\n",
      " - 4s - loss: 0.0125 - accuracy: 0.9977 - accuracy_1: 0.9977\n",
      "Epoch 8/10\n",
      " - 4s - loss: 0.0058 - accuracy: 0.9981 - accuracy_1: 0.9981\n",
      "Epoch 9/10\n",
      " - 4s - loss: 0.0041 - accuracy: 0.9991 - accuracy_1: 0.9991\n",
      "Epoch 10/10\n",
      " - 4s - loss: 0.0044 - accuracy: 0.9986 - accuracy_1: 0.9986\n",
      "Epoch 1/10\n",
      " - 4s - loss: 2.0689 - accuracy: 0.3123 - accuracy_1: 0.3123\n",
      "Epoch 2/10\n",
      " - 4s - loss: 0.1964 - accuracy: 0.9603 - accuracy_1: 0.9603\n",
      "Epoch 3/10\n",
      " - 4s - loss: 0.0494 - accuracy: 0.9883 - accuracy_1: 0.9883\n",
      "Epoch 4/10\n",
      " - 4s - loss: 0.0262 - accuracy: 0.9930 - accuracy_1: 0.9930\n",
      "Epoch 5/10\n",
      " - 4s - loss: 0.0174 - accuracy: 0.9963 - accuracy_1: 0.9963\n",
      "Epoch 6/10\n",
      " - 4s - loss: 0.0172 - accuracy: 0.9949 - accuracy_1: 0.9949\n",
      "Epoch 7/10\n",
      " - 4s - loss: 0.0090 - accuracy: 0.9977 - accuracy_1: 0.9977\n",
      "Epoch 8/10\n",
      " - 5s - loss: 0.0071 - accuracy: 0.9991 - accuracy_1: 0.9991\n",
      "Epoch 9/10\n",
      " - 4s - loss: 0.0087 - accuracy: 0.9977 - accuracy_1: 0.9977\n",
      "Epoch 10/10\n",
      " - 4s - loss: 0.0054 - accuracy: 0.9981 - accuracy_1: 0.9981\n",
      "Epoch 1/10\n",
      " - 4s - loss: 2.0148 - accuracy: 0.3380 - accuracy_1: 0.3380\n",
      "Epoch 2/10\n",
      " - 4s - loss: 0.1541 - accuracy: 0.9678 - accuracy_1: 0.9678\n",
      "Epoch 3/10\n",
      " - 4s - loss: 0.0520 - accuracy: 0.9855 - accuracy_1: 0.9855\n",
      "Epoch 4/10\n",
      " - 4s - loss: 0.0290 - accuracy: 0.9935 - accuracy_1: 0.9935\n",
      "Epoch 5/10\n",
      " - 4s - loss: 0.0283 - accuracy: 0.9949 - accuracy_1: 0.9949\n",
      "Epoch 6/10\n",
      " - 4s - loss: 0.0134 - accuracy: 0.9972 - accuracy_1: 0.9972\n",
      "Epoch 7/10\n",
      " - 4s - loss: 0.0142 - accuracy: 0.9967 - accuracy_1: 0.9967\n",
      "Epoch 8/10\n",
      " - 4s - loss: 0.0157 - accuracy: 0.9977 - accuracy_1: 0.9977\n",
      "Epoch 9/10\n",
      " - 4s - loss: 0.0180 - accuracy: 0.9991 - accuracy_1: 0.9991\n",
      "Epoch 10/10\n",
      " - 4s - loss: 0.0091 - accuracy: 0.9991 - accuracy_1: 0.9991\n",
      "Epoch 1/10\n",
      " - 5s - loss: 2.0105 - accuracy: 0.3352 - accuracy_1: 0.3352\n",
      "Epoch 2/10\n",
      " - 4s - loss: 0.1168 - accuracy: 0.9785 - accuracy_1: 0.9785\n",
      "Epoch 3/10\n",
      " - 4s - loss: 0.0231 - accuracy: 0.9949 - accuracy_1: 0.9949\n",
      "Epoch 4/10\n",
      " - 4s - loss: 0.0082 - accuracy: 0.9977 - accuracy_1: 0.9977\n",
      "Epoch 5/10\n",
      " - 4s - loss: 0.0054 - accuracy: 0.9986 - accuracy_1: 0.9986\n",
      "Epoch 6/10\n",
      " - 4s - loss: 0.0022 - accuracy: 0.9995 - accuracy_1: 0.9995\n",
      "Epoch 7/10\n",
      " - 4s - loss: 0.0012 - accuracy: 1.0000 - accuracy_1: 1.0000\n",
      "Epoch 8/10\n",
      " - 4s - loss: 0.0011 - accuracy: 1.0000 - accuracy_1: 1.0000\n",
      "Epoch 9/10\n",
      " - 4s - loss: 6.5116e-04 - accuracy: 1.0000 - accuracy_1: 1.0000\n",
      "Epoch 10/10\n",
      " - 4s - loss: 5.7969e-04 - accuracy: 1.0000 - accuracy_1: 1.0000\n",
      "Epoch 1/10\n",
      " - 2s - loss: 2.0616 - accuracy: 0.3382 - accuracy_1: 0.3382\n",
      "Epoch 2/10\n",
      " - 2s - loss: 0.3886 - accuracy: 0.8818 - accuracy_1: 0.8818\n",
      "Epoch 3/10\n",
      " - 2s - loss: 0.1353 - accuracy: 0.9664 - accuracy_1: 0.9664\n",
      "Epoch 4/10\n",
      " - 2s - loss: 0.0830 - accuracy: 0.9790 - accuracy_1: 0.9790\n",
      "Epoch 5/10\n",
      " - 2s - loss: 0.0491 - accuracy: 0.9902 - accuracy_1: 0.9902\n",
      "Epoch 6/10\n",
      " - 2s - loss: 0.0163 - accuracy: 0.9949 - accuracy_1: 0.9949\n",
      "Epoch 7/10\n",
      " - 2s - loss: 0.0304 - accuracy: 0.9944 - accuracy_1: 0.9944\n",
      "Epoch 8/10\n",
      " - 2s - loss: 0.0755 - accuracy: 0.9869 - accuracy_1: 0.9869\n",
      "Epoch 9/10\n",
      " - 2s - loss: 0.1259 - accuracy: 0.9827 - accuracy_1: 0.9827\n",
      "Epoch 10/10\n",
      " - 2s - loss: 0.1810 - accuracy: 0.9720 - accuracy_1: 0.9720\n",
      "Epoch 1/10\n",
      " - 2s - loss: 2.1167 - accuracy: 0.3204 - accuracy_1: 0.3204\n",
      "Epoch 2/10\n",
      " - 2s - loss: 0.3779 - accuracy: 0.8762 - accuracy_1: 0.8762\n",
      "Epoch 3/10\n",
      " - 2s - loss: 0.0995 - accuracy: 0.9734 - accuracy_1: 0.9734\n",
      "Epoch 4/10\n",
      " - 2s - loss: 0.1082 - accuracy: 0.9748 - accuracy_1: 0.9748\n",
      "Epoch 5/10\n",
      " - 2s - loss: 0.0705 - accuracy: 0.9818 - accuracy_1: 0.9818\n",
      "Epoch 6/10\n",
      " - 2s - loss: 0.0756 - accuracy: 0.9879 - accuracy_1: 0.9879\n",
      "Epoch 7/10\n",
      " - 2s - loss: 0.0534 - accuracy: 0.9851 - accuracy_1: 0.9851\n",
      "Epoch 8/10\n",
      " - 2s - loss: 0.0557 - accuracy: 0.9911 - accuracy_1: 0.9911\n",
      "Epoch 9/10\n",
      " - 2s - loss: 0.0851 - accuracy: 0.9855 - accuracy_1: 0.9855\n",
      "Epoch 10/10\n",
      " - 2s - loss: 0.0714 - accuracy: 0.9874 - accuracy_1: 0.9874\n",
      "Epoch 1/10\n",
      " - 2s - loss: 2.1617 - accuracy: 0.2918 - accuracy_1: 0.2918\n",
      "Epoch 2/10\n",
      " - 2s - loss: 0.4511 - accuracy: 0.8590 - accuracy_1: 0.8590\n",
      "Epoch 3/10\n",
      " - 2s - loss: 0.1178 - accuracy: 0.9664 - accuracy_1: 0.9664\n",
      "Epoch 4/10\n",
      " - 2s - loss: 0.1146 - accuracy: 0.9799 - accuracy_1: 0.9799\n",
      "Epoch 5/10\n",
      " - 2s - loss: 0.0972 - accuracy: 0.9771 - accuracy_1: 0.9771\n",
      "Epoch 6/10\n",
      " - 2s - loss: 0.0770 - accuracy: 0.9860 - accuracy_1: 0.9860\n",
      "Epoch 7/10\n",
      " - 2s - loss: 0.0781 - accuracy: 0.9837 - accuracy_1: 0.9837\n",
      "Epoch 8/10\n",
      " - 2s - loss: 0.1804 - accuracy: 0.9725 - accuracy_1: 0.9725\n",
      "Epoch 9/10\n",
      " - 2s - loss: 0.3120 - accuracy: 0.9706 - accuracy_1: 0.9706\n",
      "Epoch 10/10\n",
      " - 2s - loss: 0.2136 - accuracy: 0.9697 - accuracy_1: 0.9697\n",
      "Epoch 1/10\n",
      " - 2s - loss: 2.1292 - accuracy: 0.3245 - accuracy_1: 0.3245\n",
      "Epoch 2/10\n",
      " - 2s - loss: 0.4005 - accuracy: 0.8739 - accuracy_1: 0.8739\n",
      "Epoch 3/10\n",
      " - 2s - loss: 0.1660 - accuracy: 0.9585 - accuracy_1: 0.9585\n",
      "Epoch 4/10\n",
      " - 2s - loss: 0.1330 - accuracy: 0.9725 - accuracy_1: 0.9725\n",
      "Epoch 5/10\n",
      " - 2s - loss: 0.0732 - accuracy: 0.9846 - accuracy_1: 0.9846\n",
      "Epoch 6/10\n",
      " - 2s - loss: 0.1044 - accuracy: 0.9832 - accuracy_1: 0.9832\n",
      "Epoch 7/10\n",
      " - 2s - loss: 0.0615 - accuracy: 0.9855 - accuracy_1: 0.9855\n",
      "Epoch 8/10\n",
      " - 2s - loss: 0.1671 - accuracy: 0.9771 - accuracy_1: 0.9771\n",
      "Epoch 9/10\n",
      " - 2s - loss: 0.1350 - accuracy: 0.9795 - accuracy_1: 0.9795\n",
      "Epoch 10/10\n",
      " - 2s - loss: 0.1093 - accuracy: 0.9827 - accuracy_1: 0.9827\n",
      "Epoch 1/10\n",
      " - 2s - loss: 2.1259 - accuracy: 0.3058 - accuracy_1: 0.3058\n",
      "Epoch 2/10\n",
      " - 2s - loss: 0.4303 - accuracy: 0.8669 - accuracy_1: 0.8669\n",
      "Epoch 3/10\n",
      " - 2s - loss: 0.1205 - accuracy: 0.9673 - accuracy_1: 0.9673\n",
      "Epoch 4/10\n",
      " - 2s - loss: 0.0907 - accuracy: 0.9818 - accuracy_1: 0.9818\n",
      "Epoch 5/10\n",
      " - 2s - loss: 0.0661 - accuracy: 0.9832 - accuracy_1: 0.9832\n",
      "Epoch 6/10\n",
      " - 2s - loss: 0.0953 - accuracy: 0.9841 - accuracy_1: 0.9841\n",
      "Epoch 7/10\n",
      " - 2s - loss: 0.0878 - accuracy: 0.9879 - accuracy_1: 0.9879\n",
      "Epoch 8/10\n",
      " - 2s - loss: 0.0226 - accuracy: 0.9921 - accuracy_1: 0.9921\n",
      "Epoch 9/10\n",
      " - 2s - loss: 0.0667 - accuracy: 0.9846 - accuracy_1: 0.9846\n",
      "Epoch 10/10\n",
      " - 2s - loss: 0.0922 - accuracy: 0.9879 - accuracy_1: 0.9879\n",
      "Epoch 1/10\n",
      " - 5s - loss: 2.3078 - accuracy: 0.3741 - accuracy_1: 0.3741\n",
      "Epoch 2/10\n",
      " - 5s - loss: 0.2908 - accuracy: 0.9103 - accuracy_1: 0.9103\n",
      "Epoch 3/10\n",
      " - 5s - loss: 0.1273 - accuracy: 0.9743 - accuracy_1: 0.9743\n",
      "Epoch 4/10\n",
      " - 5s - loss: 0.0780 - accuracy: 0.9851 - accuracy_1: 0.9851\n",
      "Epoch 5/10\n",
      " - 6s - loss: 0.1183 - accuracy: 0.9855 - accuracy_1: 0.9855\n"
     ]
    },
    {
     "name": "stdout",
     "output_type": "stream",
     "text": [
      "Epoch 6/10\n",
      " - 6s - loss: 0.1046 - accuracy: 0.9832 - accuracy_1: 0.9832\n",
      "Epoch 7/10\n",
      " - 6s - loss: 0.2026 - accuracy: 0.9790 - accuracy_1: 0.9790\n",
      "Epoch 8/10\n",
      " - 5s - loss: 0.2930 - accuracy: 0.9654 - accuracy_1: 0.9654\n",
      "Epoch 9/10\n",
      " - 5s - loss: 0.2526 - accuracy: 0.9696 - accuracy_1: 0.9696\n",
      "Epoch 10/10\n",
      " - 6s - loss: 0.1572 - accuracy: 0.9738 - accuracy_1: 0.9738\n",
      "Epoch 1/10\n",
      " - 6s - loss: 2.6525 - accuracy: 0.3512 - accuracy_1: 0.3512\n",
      "Epoch 2/10\n",
      " - 6s - loss: 0.3174 - accuracy: 0.8935 - accuracy_1: 0.8935\n",
      "Epoch 3/10\n",
      " - 6s - loss: 0.1222 - accuracy: 0.9687 - accuracy_1: 0.9687\n",
      "Epoch 4/10\n",
      " - 6s - loss: 0.1030 - accuracy: 0.9794 - accuracy_1: 0.9794\n",
      "Epoch 5/10\n",
      " - 6s - loss: 0.0538 - accuracy: 0.9869 - accuracy_1: 0.9869\n",
      "Epoch 6/10\n",
      " - 6s - loss: 0.0440 - accuracy: 0.9911 - accuracy_1: 0.9911\n",
      "Epoch 7/10\n",
      " - 6s - loss: 0.0562 - accuracy: 0.9893 - accuracy_1: 0.9893\n",
      "Epoch 8/10\n",
      " - 6s - loss: 0.0858 - accuracy: 0.9851 - accuracy_1: 0.9851\n",
      "Epoch 9/10\n",
      " - 6s - loss: 0.1663 - accuracy: 0.9785 - accuracy_1: 0.9785\n",
      "Epoch 10/10\n",
      " - 6s - loss: 0.3658 - accuracy: 0.9570 - accuracy_1: 0.9570\n",
      "Epoch 1/10\n",
      " - 6s - loss: 2.7300 - accuracy: 0.3366 - accuracy_1: 0.3366\n",
      "Epoch 2/10\n",
      " - 6s - loss: 0.4506 - accuracy: 0.8543 - accuracy_1: 0.8543\n",
      "Epoch 3/10\n",
      " - 6s - loss: 0.1320 - accuracy: 0.9669 - accuracy_1: 0.9669\n",
      "Epoch 4/10\n",
      " - 6s - loss: 0.1308 - accuracy: 0.9739 - accuracy_1: 0.9739\n",
      "Epoch 5/10\n",
      " - 6s - loss: 0.0842 - accuracy: 0.9776 - accuracy_1: 0.9776\n",
      "Epoch 6/10\n",
      " - 6s - loss: 0.1045 - accuracy: 0.9790 - accuracy_1: 0.9790\n",
      "Epoch 7/10\n",
      " - 6s - loss: 0.0893 - accuracy: 0.9818 - accuracy_1: 0.9818\n",
      "Epoch 8/10\n",
      " - 6s - loss: 0.0894 - accuracy: 0.9888 - accuracy_1: 0.9888\n",
      "Epoch 9/10\n",
      " - 6s - loss: 0.0834 - accuracy: 0.9837 - accuracy_1: 0.9837\n",
      "Epoch 10/10\n",
      " - 6s - loss: 0.2214 - accuracy: 0.9715 - accuracy_1: 0.9715\n",
      "Epoch 1/10\n",
      " - 6s - loss: 2.3959 - accuracy: 0.3805 - accuracy_1: 0.3805\n",
      "Epoch 2/10\n",
      " - 6s - loss: 0.3690 - accuracy: 0.8936 - accuracy_1: 0.8936\n",
      "Epoch 3/10\n",
      " - 6s - loss: 0.1434 - accuracy: 0.9655 - accuracy_1: 0.9655\n",
      "Epoch 4/10\n",
      " - 6s - loss: 0.1162 - accuracy: 0.9725 - accuracy_1: 0.9725\n",
      "Epoch 5/10\n",
      " - 6s - loss: 0.1039 - accuracy: 0.9785 - accuracy_1: 0.9785\n",
      "Epoch 6/10\n",
      " - 6s - loss: 0.2020 - accuracy: 0.9706 - accuracy_1: 0.9706\n",
      "Epoch 7/10\n",
      " - 6s - loss: 0.2168 - accuracy: 0.9818 - accuracy_1: 0.9818\n",
      "Epoch 8/10\n",
      " - 6s - loss: 0.2417 - accuracy: 0.9753 - accuracy_1: 0.9753\n",
      "Epoch 9/10\n",
      " - 6s - loss: 0.2416 - accuracy: 0.9706 - accuracy_1: 0.9706\n",
      "Epoch 10/10\n",
      " - 6s - loss: 0.3605 - accuracy: 0.9659 - accuracy_1: 0.9659\n",
      "Epoch 1/10\n",
      " - 6s - loss: 2.4737 - accuracy: 0.3581 - accuracy_1: 0.3581\n",
      "Epoch 2/10\n",
      " - 6s - loss: 0.2770 - accuracy: 0.9155 - accuracy_1: 0.9155\n",
      "Epoch 3/10\n",
      " - 6s - loss: 0.0996 - accuracy: 0.9767 - accuracy_1: 0.9767\n",
      "Epoch 4/10\n",
      " - 6s - loss: 0.0772 - accuracy: 0.9841 - accuracy_1: 0.9841\n",
      "Epoch 5/10\n",
      " - 6s - loss: 0.0531 - accuracy: 0.9860 - accuracy_1: 0.9860\n",
      "Epoch 6/10\n",
      " - 6s - loss: 0.0785 - accuracy: 0.9916 - accuracy_1: 0.9916\n",
      "Epoch 7/10\n",
      " - 5s - loss: 0.0418 - accuracy: 0.9944 - accuracy_1: 0.9944\n",
      "Epoch 8/10\n",
      " - 5s - loss: 0.0322 - accuracy: 0.9949 - accuracy_1: 0.9949\n",
      "Epoch 9/10\n",
      " - 5s - loss: 0.1726 - accuracy: 0.9851 - accuracy_1: 0.9851\n",
      "Epoch 10/10\n",
      " - 5s - loss: 0.2151 - accuracy: 0.9767 - accuracy_1: 0.9767\n"
     ]
    },
    {
     "name": "stderr",
     "output_type": "stream",
     "text": [
      "[Parallel(n_jobs=1)]: Done  50 out of  50 | elapsed: 33.9min finished\n"
     ]
    },
    {
     "name": "stdout",
     "output_type": "stream",
     "text": [
      "Epoch 1/10\n",
      " - 8s - loss: 1.9282 - accuracy: 0.3698 - accuracy_1: 0.3698\n",
      "Epoch 2/10\n",
      " - 8s - loss: 0.1330 - accuracy: 0.9686 - accuracy_1: 0.9686\n",
      "Epoch 3/10\n",
      " - 8s - loss: 0.0513 - accuracy: 0.9862 - accuracy_1: 0.9862\n",
      "Epoch 4/10\n",
      " - 9s - loss: 0.0218 - accuracy: 0.9951 - accuracy_1: 0.9951\n",
      "Epoch 5/10\n",
      " - 8s - loss: 0.0179 - accuracy: 0.9940 - accuracy_1: 0.9940\n",
      "Epoch 6/10\n",
      " - 9s - loss: 0.0061 - accuracy: 0.9989 - accuracy_1: 0.9989\n",
      "Epoch 7/10\n",
      " - 8s - loss: 0.0083 - accuracy: 0.9985 - accuracy_1: 0.9985\n",
      "Epoch 8/10\n",
      " - 8s - loss: 0.0091 - accuracy: 0.9989 - accuracy_1: 0.9989\n",
      "Epoch 9/10\n",
      " - 8s - loss: 0.0047 - accuracy: 0.9985 - accuracy_1: 0.9985\n",
      "Epoch 10/10\n",
      " - 8s - loss: 0.0043 - accuracy: 0.9996 - accuracy_1: 0.9996\n",
      "Fitting duration (h:m:s): 0:35:18.366510\n",
      "Best parameters: {'nn__opt_learning_rate': 0.001, 'nn__layer_two_neurons': 555, 'nn__layer_two_dropout': 0.1, 'nn__layer_one_neurons': 2500, 'nn__layer_one_dropout': 0.30000000000000004}\n",
      "Best cross-validation balanced accuracy score: 0.35120937636222693\n",
      "Training set balanced F1 score: 0.9992524885988459\n",
      "Validation set balanced F1 score: 0.4143648078414982\n",
      "Training set balanced accuracy: 0.9975845410628019\n",
      "Validation set balanced accuracy: 0.3973020476310471\n",
      "\n",
      "Model:  svc\n",
      "Started fitting at: 2020-04-10 19:06:55\n",
      "Fitting 5 folds for each of 10 candidates, totalling 50 fits\n"
     ]
    },
    {
     "name": "stderr",
     "output_type": "stream",
     "text": [
      "[Parallel(n_jobs=1)]: Using backend SequentialBackend with 1 concurrent workers.\n",
      "[Parallel(n_jobs=1)]: Done  50 out of  50 | elapsed: 51.7min finished\n"
     ]
    },
    {
     "name": "stdout",
     "output_type": "stream",
     "text": [
      "Fitting duration (h:m:s): 0:53:09.450926\n",
      "Best parameters: {'svc__kernel': 'linear', 'svc__gamma': 'scale', 'svc__class_weight': 'balanced', 'svc__C': 0.001}\n",
      "Best cross-validation balanced accuracy score: 0.3959769602615789\n",
      "Training set balanced F1 score: 0.9693848620914731\n",
      "Validation set balanced F1 score: 0.45023306316225226\n",
      "Training set balanced accuracy: 0.9385924902639415\n",
      "Validation set balanced accuracy: 0.3651058347570982\n",
      "\n",
      "Model:  lr\n",
      "Started fitting at: 2020-04-10 20:00:04\n",
      "Fitting 5 folds for each of 10 candidates, totalling 50 fits\n"
     ]
    },
    {
     "name": "stderr",
     "output_type": "stream",
     "text": [
      "[Parallel(n_jobs=1)]: Using backend SequentialBackend with 1 concurrent workers.\n",
      "C:\\Users\\yuchy\\AppData\\Roaming\\Python\\Python37\\site-packages\\sklearn\\model_selection\\_validation.py:536: FitFailedWarning: Estimator fit failed. The score on this train-test partition for these parameters will be set to nan. Details: \n",
      "ValueError: Solver newton-cg supports only 'l2' or 'none' penalties, got elasticnet penalty.\n",
      "\n",
      "  FitFailedWarning)\n",
      "C:\\Users\\yuchy\\AppData\\Roaming\\Python\\Python37\\site-packages\\sklearn\\model_selection\\_validation.py:536: FitFailedWarning: Estimator fit failed. The score on this train-test partition for these parameters will be set to nan. Details: \n",
      "ValueError: Solver newton-cg supports only 'l2' or 'none' penalties, got l1 penalty.\n",
      "\n",
      "  FitFailedWarning)\n",
      "C:\\Users\\yuchy\\AppData\\Roaming\\Python\\Python37\\site-packages\\sklearn\\model_selection\\_validation.py:536: FitFailedWarning: Estimator fit failed. The score on this train-test partition for these parameters will be set to nan. Details: \n",
      "ValueError: Solver lbfgs supports only 'l2' or 'none' penalties, got l1 penalty.\n",
      "\n",
      "  FitFailedWarning)\n",
      "C:\\Users\\yuchy\\AppData\\Roaming\\Python\\Python37\\site-packages\\sklearn\\model_selection\\_validation.py:536: FitFailedWarning: Estimator fit failed. The score on this train-test partition for these parameters will be set to nan. Details: \n",
      "ValueError: Solver sag supports only 'l2' or 'none' penalties, got elasticnet penalty.\n",
      "\n",
      "  FitFailedWarning)\n",
      "C:\\Users\\yuchy\\AppData\\Roaming\\Python\\Python37\\site-packages\\sklearn\\linear_model\\_logistic.py:1501: UserWarning: l1_ratio parameter is only used when penalty is 'elasticnet'. Got (penalty=l2)\n",
      "  \"(penalty={})\".format(self.penalty))\n",
      "C:\\Users\\yuchy\\AppData\\Roaming\\Python\\Python37\\site-packages\\sklearn\\linear_model\\_sag.py:330: ConvergenceWarning: The max_iter was reached which means the coef_ did not converge\n",
      "  \"the coef_ did not converge\", ConvergenceWarning)\n",
      "C:\\Users\\yuchy\\AppData\\Roaming\\Python\\Python37\\site-packages\\sklearn\\linear_model\\_logistic.py:1501: UserWarning: l1_ratio parameter is only used when penalty is 'elasticnet'. Got (penalty=l2)\n",
      "  \"(penalty={})\".format(self.penalty))\n",
      "C:\\Users\\yuchy\\AppData\\Roaming\\Python\\Python37\\site-packages\\sklearn\\linear_model\\_sag.py:330: ConvergenceWarning: The max_iter was reached which means the coef_ did not converge\n",
      "  \"the coef_ did not converge\", ConvergenceWarning)\n",
      "C:\\Users\\yuchy\\AppData\\Roaming\\Python\\Python37\\site-packages\\sklearn\\linear_model\\_logistic.py:1501: UserWarning: l1_ratio parameter is only used when penalty is 'elasticnet'. Got (penalty=l2)\n",
      "  \"(penalty={})\".format(self.penalty))\n",
      "C:\\Users\\yuchy\\AppData\\Roaming\\Python\\Python37\\site-packages\\sklearn\\linear_model\\_sag.py:330: ConvergenceWarning: The max_iter was reached which means the coef_ did not converge\n",
      "  \"the coef_ did not converge\", ConvergenceWarning)\n",
      "C:\\Users\\yuchy\\AppData\\Roaming\\Python\\Python37\\site-packages\\sklearn\\linear_model\\_logistic.py:1501: UserWarning: l1_ratio parameter is only used when penalty is 'elasticnet'. Got (penalty=l2)\n",
      "  \"(penalty={})\".format(self.penalty))\n",
      "C:\\Users\\yuchy\\AppData\\Roaming\\Python\\Python37\\site-packages\\sklearn\\linear_model\\_sag.py:330: ConvergenceWarning: The max_iter was reached which means the coef_ did not converge\n",
      "  \"the coef_ did not converge\", ConvergenceWarning)\n",
      "C:\\Users\\yuchy\\AppData\\Roaming\\Python\\Python37\\site-packages\\sklearn\\linear_model\\_logistic.py:1501: UserWarning: l1_ratio parameter is only used when penalty is 'elasticnet'. Got (penalty=l2)\n",
      "  \"(penalty={})\".format(self.penalty))\n",
      "C:\\Users\\yuchy\\AppData\\Roaming\\Python\\Python37\\site-packages\\sklearn\\linear_model\\_sag.py:330: ConvergenceWarning: The max_iter was reached which means the coef_ did not converge\n",
      "  \"the coef_ did not converge\", ConvergenceWarning)\n",
      "C:\\Users\\yuchy\\AppData\\Roaming\\Python\\Python37\\site-packages\\sklearn\\linear_model\\_logistic.py:1501: UserWarning: l1_ratio parameter is only used when penalty is 'elasticnet'. Got (penalty=l1)\n",
      "  \"(penalty={})\".format(self.penalty))\n",
      "C:\\Users\\yuchy\\AppData\\Roaming\\Python\\Python37\\site-packages\\sklearn\\linear_model\\_logistic.py:1501: UserWarning: l1_ratio parameter is only used when penalty is 'elasticnet'. Got (penalty=l1)\n",
      "  \"(penalty={})\".format(self.penalty))\n",
      "C:\\Users\\yuchy\\AppData\\Roaming\\Python\\Python37\\site-packages\\sklearn\\linear_model\\_logistic.py:1501: UserWarning: l1_ratio parameter is only used when penalty is 'elasticnet'. Got (penalty=l1)\n",
      "  \"(penalty={})\".format(self.penalty))\n",
      "C:\\Users\\yuchy\\AppData\\Roaming\\Python\\Python37\\site-packages\\sklearn\\linear_model\\_logistic.py:1501: UserWarning: l1_ratio parameter is only used when penalty is 'elasticnet'. Got (penalty=l1)\n",
      "  \"(penalty={})\".format(self.penalty))\n",
      "C:\\Users\\yuchy\\AppData\\Roaming\\Python\\Python37\\site-packages\\sklearn\\linear_model\\_logistic.py:1501: UserWarning: l1_ratio parameter is only used when penalty is 'elasticnet'. Got (penalty=l1)\n",
      "  \"(penalty={})\".format(self.penalty))\n",
      "C:\\Users\\yuchy\\AppData\\Roaming\\Python\\Python37\\site-packages\\sklearn\\linear_model\\_logistic.py:1501: UserWarning: l1_ratio parameter is only used when penalty is 'elasticnet'. Got (penalty=l2)\n",
      "  \"(penalty={})\".format(self.penalty))\n",
      "C:\\Users\\yuchy\\AppData\\Roaming\\Python\\Python37\\site-packages\\sklearn\\linear_model\\_sag.py:330: ConvergenceWarning: The max_iter was reached which means the coef_ did not converge\n",
      "  \"the coef_ did not converge\", ConvergenceWarning)\n",
      "C:\\Users\\yuchy\\AppData\\Roaming\\Python\\Python37\\site-packages\\sklearn\\linear_model\\_logistic.py:1501: UserWarning: l1_ratio parameter is only used when penalty is 'elasticnet'. Got (penalty=l2)\n",
      "  \"(penalty={})\".format(self.penalty))\n",
      "C:\\Users\\yuchy\\AppData\\Roaming\\Python\\Python37\\site-packages\\sklearn\\linear_model\\_sag.py:330: ConvergenceWarning: The max_iter was reached which means the coef_ did not converge\n",
      "  \"the coef_ did not converge\", ConvergenceWarning)\n",
      "C:\\Users\\yuchy\\AppData\\Roaming\\Python\\Python37\\site-packages\\sklearn\\linear_model\\_logistic.py:1501: UserWarning: l1_ratio parameter is only used when penalty is 'elasticnet'. Got (penalty=l2)\n",
      "  \"(penalty={})\".format(self.penalty))\n",
      "C:\\Users\\yuchy\\AppData\\Roaming\\Python\\Python37\\site-packages\\sklearn\\linear_model\\_sag.py:330: ConvergenceWarning: The max_iter was reached which means the coef_ did not converge\n",
      "  \"the coef_ did not converge\", ConvergenceWarning)\n",
      "C:\\Users\\yuchy\\AppData\\Roaming\\Python\\Python37\\site-packages\\sklearn\\linear_model\\_logistic.py:1501: UserWarning: l1_ratio parameter is only used when penalty is 'elasticnet'. Got (penalty=l2)\n",
      "  \"(penalty={})\".format(self.penalty))\n",
      "C:\\Users\\yuchy\\AppData\\Roaming\\Python\\Python37\\site-packages\\sklearn\\linear_model\\_sag.py:330: ConvergenceWarning: The max_iter was reached which means the coef_ did not converge\n",
      "  \"the coef_ did not converge\", ConvergenceWarning)\n",
      "C:\\Users\\yuchy\\AppData\\Roaming\\Python\\Python37\\site-packages\\sklearn\\linear_model\\_logistic.py:1501: UserWarning: l1_ratio parameter is only used when penalty is 'elasticnet'. Got (penalty=l2)\n",
      "  \"(penalty={})\".format(self.penalty))\n",
      "C:\\Users\\yuchy\\AppData\\Roaming\\Python\\Python37\\site-packages\\sklearn\\linear_model\\_sag.py:330: ConvergenceWarning: The max_iter was reached which means the coef_ did not converge\n",
      "  \"the coef_ did not converge\", ConvergenceWarning)\n",
      "C:\\Users\\yuchy\\AppData\\Roaming\\Python\\Python37\\site-packages\\sklearn\\model_selection\\_validation.py:536: FitFailedWarning: Estimator fit failed. The score on this train-test partition for these parameters will be set to nan. Details: \n",
      "ValueError: Solver sag supports only 'l2' or 'none' penalties, got elasticnet penalty.\n",
      "\n",
      "  FitFailedWarning)\n",
      "C:\\Users\\yuchy\\AppData\\Roaming\\Python\\Python37\\site-packages\\sklearn\\model_selection\\_validation.py:536: FitFailedWarning: Estimator fit failed. The score on this train-test partition for these parameters will be set to nan. Details: \n",
      "ValueError: Solver lbfgs supports only 'l2' or 'none' penalties, got l1 penalty.\n",
      "\n",
      "  FitFailedWarning)\n",
      "C:\\Users\\yuchy\\AppData\\Roaming\\Python\\Python37\\site-packages\\sklearn\\linear_model\\_logistic.py:1501: UserWarning: l1_ratio parameter is only used when penalty is 'elasticnet'. Got (penalty=l2)\n",
      "  \"(penalty={})\".format(self.penalty))\n",
      "C:\\Users\\yuchy\\AppData\\Roaming\\Python\\Python37\\site-packages\\sklearn\\linear_model\\_sag.py:330: ConvergenceWarning: The max_iter was reached which means the coef_ did not converge\n",
      "  \"the coef_ did not converge\", ConvergenceWarning)\n",
      "C:\\Users\\yuchy\\AppData\\Roaming\\Python\\Python37\\site-packages\\sklearn\\linear_model\\_logistic.py:1501: UserWarning: l1_ratio parameter is only used when penalty is 'elasticnet'. Got (penalty=l2)\n",
      "  \"(penalty={})\".format(self.penalty))\n"
     ]
    },
    {
     "name": "stderr",
     "output_type": "stream",
     "text": [
      "C:\\Users\\yuchy\\AppData\\Roaming\\Python\\Python37\\site-packages\\sklearn\\linear_model\\_sag.py:330: ConvergenceWarning: The max_iter was reached which means the coef_ did not converge\n",
      "  \"the coef_ did not converge\", ConvergenceWarning)\n",
      "C:\\Users\\yuchy\\AppData\\Roaming\\Python\\Python37\\site-packages\\sklearn\\linear_model\\_logistic.py:1501: UserWarning: l1_ratio parameter is only used when penalty is 'elasticnet'. Got (penalty=l2)\n",
      "  \"(penalty={})\".format(self.penalty))\n",
      "C:\\Users\\yuchy\\AppData\\Roaming\\Python\\Python37\\site-packages\\sklearn\\linear_model\\_sag.py:330: ConvergenceWarning: The max_iter was reached which means the coef_ did not converge\n",
      "  \"the coef_ did not converge\", ConvergenceWarning)\n",
      "C:\\Users\\yuchy\\AppData\\Roaming\\Python\\Python37\\site-packages\\sklearn\\linear_model\\_logistic.py:1501: UserWarning: l1_ratio parameter is only used when penalty is 'elasticnet'. Got (penalty=l2)\n",
      "  \"(penalty={})\".format(self.penalty))\n",
      "C:\\Users\\yuchy\\AppData\\Roaming\\Python\\Python37\\site-packages\\sklearn\\linear_model\\_sag.py:330: ConvergenceWarning: The max_iter was reached which means the coef_ did not converge\n",
      "  \"the coef_ did not converge\", ConvergenceWarning)\n",
      "C:\\Users\\yuchy\\AppData\\Roaming\\Python\\Python37\\site-packages\\sklearn\\linear_model\\_logistic.py:1501: UserWarning: l1_ratio parameter is only used when penalty is 'elasticnet'. Got (penalty=l2)\n",
      "  \"(penalty={})\".format(self.penalty))\n",
      "C:\\Users\\yuchy\\AppData\\Roaming\\Python\\Python37\\site-packages\\sklearn\\linear_model\\_sag.py:330: ConvergenceWarning: The max_iter was reached which means the coef_ did not converge\n",
      "  \"the coef_ did not converge\", ConvergenceWarning)\n",
      "[Parallel(n_jobs=1)]: Done  50 out of  50 | elapsed:  7.1min finished\n",
      "C:\\Users\\yuchy\\AppData\\Roaming\\Python\\Python37\\site-packages\\sklearn\\linear_model\\_logistic.py:1501: UserWarning: l1_ratio parameter is only used when penalty is 'elasticnet'. Got (penalty=l2)\n",
      "  \"(penalty={})\".format(self.penalty))\n",
      "C:\\Users\\yuchy\\AppData\\Roaming\\Python\\Python37\\site-packages\\sklearn\\linear_model\\_sag.py:330: ConvergenceWarning: The max_iter was reached which means the coef_ did not converge\n",
      "  \"the coef_ did not converge\", ConvergenceWarning)\n",
      "[Parallel(n_jobs=1)]: Using backend SequentialBackend with 1 concurrent workers.\n"
     ]
    },
    {
     "name": "stdout",
     "output_type": "stream",
     "text": [
      "Fitting duration (h:m:s): 0:07:43.331743\n",
      "Best parameters: {'lr__solver': 'saga', 'lr__penalty': 'l2', 'lr__multi_class': 'multinomial', 'lr__l1_ratio': 0.0, 'lr__class_weight': 'balanced', 'lr__C': 215.44346900318823}\n",
      "Best cross-validation balanced accuracy score: 0.43934311796591335\n",
      "Training set balanced F1 score: 0.9785412234263128\n",
      "Validation set balanced F1 score: 0.4501568478500982\n",
      "Training set balanced accuracy: 0.9553763958366144\n",
      "Validation set balanced accuracy: 0.40686658478415505\n",
      "\n",
      "Model:  etree\n",
      "Started fitting at: 2020-04-10 20:07:48\n",
      "Fitting 5 folds for each of 10 candidates, totalling 50 fits\n"
     ]
    },
    {
     "name": "stderr",
     "output_type": "stream",
     "text": [
      "[Parallel(n_jobs=1)]: Done  50 out of  50 | elapsed:  8.9min finished\n"
     ]
    },
    {
     "name": "stdout",
     "output_type": "stream",
     "text": [
      "Fitting duration (h:m:s): 0:10:35.824879\n",
      "Best parameters: {'etree__n_estimators': 100, 'etree__min_samples_split': 4, 'etree__min_samples_leaf': 5, 'etree__max_features': None, 'etree__criterion': 'gini', 'etree__class_weight': 'balanced'}\n",
      "Best cross-validation balanced accuracy score: 0.6320349183144263\n",
      "Training set balanced F1 score: 0.9873220285093078\n",
      "Validation set balanced F1 score: 0.0999676034292185\n",
      "Training set balanced accuracy: 0.9910686813202392\n",
      "Validation set balanced accuracy: 0.2294613827327374\n",
      "\n",
      "Model:  ada\n",
      "Started fitting at: 2020-04-10 20:18:23\n",
      "Fitting 5 folds for each of 10 candidates, totalling 50 fits\n"
     ]
    },
    {
     "name": "stderr",
     "output_type": "stream",
     "text": [
      "[Parallel(n_jobs=1)]: Using backend SequentialBackend with 1 concurrent workers.\n",
      "[Parallel(n_jobs=1)]: Done  50 out of  50 | elapsed: 81.2min finished\n"
     ]
    },
    {
     "name": "stdout",
     "output_type": "stream",
     "text": [
      "Fitting duration (h:m:s): 1:23:59.150717\n",
      "Best parameters: {'ada__n_estimators': 200, 'ada__learning_rate': 1.5, 'ada__algorithm': 'SAMME'}\n",
      "Best cross-validation balanced accuracy score: 0.3439759904046739\n",
      "Training set balanced F1 score: 0.43047478180606563\n",
      "Validation set balanced F1 score: 0.27567000493435645\n",
      "Training set balanced accuracy: 0.41760520749407815\n",
      "Validation set balanced accuracy: 0.23302586597827274\n",
      "\n",
      "Model:  knn\n",
      "Started fitting at: 2020-04-10 21:42:23\n",
      "Fitting 5 folds for each of 10 candidates, totalling 50 fits\n"
     ]
    },
    {
     "name": "stderr",
     "output_type": "stream",
     "text": [
      "[Parallel(n_jobs=1)]: Using backend SequentialBackend with 1 concurrent workers.\n",
      "[Parallel(n_jobs=1)]: Done  50 out of  50 | elapsed: 19.3min finished\n"
     ]
    },
    {
     "name": "stdout",
     "output_type": "stream",
     "text": [
      "Fitting duration (h:m:s): 0:19:52.024264\n",
      "Best parameters: {'knn__weights': 'distance', 'knn__p': 1, 'knn__n_neighbors': 6, 'knn__metric': 'euclidean', 'knn__leaf_size': 38, 'knn__algorithm': 'ball_tree'}\n",
      "Best cross-validation balanced accuracy score: 0.2837893239058483\n",
      "Training set balanced F1 score: 1.0\n",
      "Validation set balanced F1 score: 0.06255864323372329\n",
      "Training set balanced accuracy: 1.0\n",
      "Validation set balanced accuracy: 0.22739896249414226\n",
      "\n",
      "Model:  rf\n",
      "Started fitting at: 2020-04-10 22:02:15\n",
      "Fitting 5 folds for each of 10 candidates, totalling 50 fits\n"
     ]
    },
    {
     "name": "stderr",
     "output_type": "stream",
     "text": [
      "[Parallel(n_jobs=1)]: Using backend SequentialBackend with 1 concurrent workers.\n",
      "[Parallel(n_jobs=1)]: Done  50 out of  50 | elapsed: 42.5min finished\n"
     ]
    },
    {
     "name": "stdout",
     "output_type": "stream",
     "text": [
      "Fitting duration (h:m:s): 0:43:00.146749\n",
      "Best parameters: {'rf__n_estimators': 200, 'rf__min_samples_split': 2, 'rf__min_samples_leaf': 10, 'rf__max_features': 'sqrt', 'rf__criterion': 'entropy', 'rf__class_weight': 'balanced'}\n",
      "Best cross-validation balanced accuracy score: 0.628521511906025\n",
      "Training set balanced F1 score: 0.9188201461069293\n",
      "Validation set balanced F1 score: 0.11153794710632604\n",
      "Training set balanced accuracy: 0.935018083164347\n",
      "Validation set balanced accuracy: 0.2360893543070764\n",
      "\n",
      "Model:  dtree\n",
      "Started fitting at: 2020-04-10 22:45:15\n",
      "Fitting 5 folds for each of 10 candidates, totalling 50 fits\n"
     ]
    },
    {
     "name": "stderr",
     "output_type": "stream",
     "text": [
      "[Parallel(n_jobs=1)]: Using backend SequentialBackend with 1 concurrent workers.\n",
      "[Parallel(n_jobs=1)]: Done  50 out of  50 | elapsed:    8.6s finished\n"
     ]
    },
    {
     "name": "stdout",
     "output_type": "stream",
     "text": [
      "Fitting duration (h:m:s): 0:00:09.058858\n",
      "Best parameters: {'dtree__splitter': 'best', 'dtree__min_samples_split': 2, 'dtree__min_samples_leaf': 3, 'dtree__max_features': 'auto', 'dtree__criterion': 'entropy', 'dtree__class_weight': 'balanced'}\n",
      "Best cross-validation balanced accuracy score: 0.4550123842781705\n",
      "Training set balanced F1 score: 0.8611461375338213\n",
      "Validation set balanced F1 score: 0.1956267279347246\n",
      "Training set balanced accuracy: 0.9092512122529348\n",
      "Validation set balanced accuracy: 0.23653887475142696\n",
      "\n",
      "Wall time: 4h 14min 41s\n"
     ]
    }
   ],
   "source": [
    "%%time\n",
    "# initialise empty lists to store information later\n",
    "models = []\n",
    "parameters = []\n",
    "best_score = []\n",
    "train_bal_f1_score = []\n",
    "val_bal_f1_score = []\n",
    "train_bal_accuracy = []\n",
    "val_bal_accuracy = []\n",
    "\n",
    "for k,v in estimators:\n",
    "    start = time.time()\n",
    "    pipe = Pipeline([(k,v)])\n",
    "    param = params[k]\n",
    "    randomsearch = RandomizedSearchCV(\n",
    "        n_iter = 10, # we set a max. of 10 iterations\n",
    "        estimator = pipe,\n",
    "        random_state = 42,\n",
    "        param_distributions = param,\n",
    "        verbose = 1,\n",
    "        cv = 5, # 5-fold cross-validation\n",
    "        n_jobs=None,\n",
    "        return_train_score= True,\n",
    "        scoring = 'balanced_accuracy' # cater for class imbalance\n",
    "    )\n",
    "\n",
    "    now = datetime.datetime.now()\n",
    "    print (\"Model: \", k)\n",
    "    print (\"Started fitting at: {}\".format(now.strftime(\"%Y-%m-%d %H:%M:%S\")))\n",
    "    \n",
    "    randomsearch.fit(X_train, y_train)\n",
    "    \n",
    "    model = randomsearch.best_estimator_\n",
    "    cv_score = randomsearch.cv_results_\n",
    "    best_params = randomsearch.best_params_\n",
    "\n",
    "    # predict y\n",
    "    y_train_pred = model.predict(X_train)\n",
    "    y_val_pred = model.predict(X_val)\n",
    "    \n",
    "    # print results\n",
    "    print (\"Fitting duration (h:m:s): {}\".format(str(datetime.timedelta(seconds=time.time()-start))))\n",
    "    print (\"Best parameters:\", best_params)\n",
    "    print (\"Best cross-validation balanced accuracy score:\", randomsearch.best_score_)\n",
    "    print (\"Training set balanced F1 score:\", f1_score(y_train, y_train_pred, average='weighted'))\n",
    "    print (\"Validation set balanced F1 score:\", f1_score(y_val, y_val_pred, average='weighted'))\n",
    "    print (\"Training set balanced accuracy:\", balanced_accuracy_score(y_train,y_train_pred))\n",
    "    print (\"Validation set balanced accuracy:\", balanced_accuracy_score(y_val,y_val_pred))\n",
    "    print (\"\")\n",
    "    \n",
    "    # append info to list\n",
    "    models.append(k)\n",
    "    best_score.append(randomsearch.best_score_)\n",
    "    parameters.append(best_params)\n",
    "    train_bal_f1_score.append(f1_score(y_train,y_train_pred, average='weighted'))\n",
    "    val_bal_f1_score.append(f1_score(y_val,y_val_pred, average='weighted'))\n",
    "    train_bal_accuracy.append(balanced_accuracy_score(y_train,y_train_pred))\n",
    "    val_bal_accuracy.append(balanced_accuracy_score(y_val,y_val_pred))"
   ]
  },
  {
   "cell_type": "markdown",
   "metadata": {},
   "source": [
    "## Selection of Alternative Model"
   ]
  },
  {
   "cell_type": "code",
   "execution_count": 102,
   "metadata": {
    "scrolled": false
   },
   "outputs": [
    {
     "data": {
      "text/html": [
       "<div>\n",
       "<style scoped>\n",
       "    .dataframe tbody tr th:only-of-type {\n",
       "        vertical-align: middle;\n",
       "    }\n",
       "\n",
       "    .dataframe tbody tr th {\n",
       "        vertical-align: top;\n",
       "    }\n",
       "\n",
       "    .dataframe thead th {\n",
       "        text-align: right;\n",
       "    }\n",
       "</style>\n",
       "<table border=\"1\" class=\"dataframe\">\n",
       "  <thead>\n",
       "    <tr style=\"text-align: right;\">\n",
       "      <th></th>\n",
       "      <th>model</th>\n",
       "      <th>parameters</th>\n",
       "      <th>Best cross-validation balanced accuracy score</th>\n",
       "      <th>Training set balanced F1 score</th>\n",
       "      <th>Validation set balanced F1 score</th>\n",
       "      <th>Training set balanced accuracy</th>\n",
       "      <th>Validation set balanced accuracy</th>\n",
       "    </tr>\n",
       "  </thead>\n",
       "  <tbody>\n",
       "    <tr>\n",
       "      <th>0</th>\n",
       "      <td>lr</td>\n",
       "      <td>{'lr__solver': 'saga', 'lr__penalty': 'l2', 'lr__multi_class': 'multinomial', 'lr__l1_ratio': 0.0, 'lr__class_weight': 'balanced', 'lr__C': 215.44346900318823}</td>\n",
       "      <td>0.439343</td>\n",
       "      <td>0.978541</td>\n",
       "      <td>0.450157</td>\n",
       "      <td>0.955376</td>\n",
       "      <td>0.406867</td>\n",
       "    </tr>\n",
       "    <tr>\n",
       "      <th>1</th>\n",
       "      <td>nn</td>\n",
       "      <td>{'nn__opt_learning_rate': 0.001, 'nn__layer_two_neurons': 555, 'nn__layer_two_dropout': 0.1, 'nn__layer_one_neurons': 2500, 'nn__layer_one_dropout': 0.30000000000000004}</td>\n",
       "      <td>0.351209</td>\n",
       "      <td>0.999252</td>\n",
       "      <td>0.414365</td>\n",
       "      <td>0.997585</td>\n",
       "      <td>0.397302</td>\n",
       "    </tr>\n",
       "    <tr>\n",
       "      <th>2</th>\n",
       "      <td>svc</td>\n",
       "      <td>{'svc__kernel': 'linear', 'svc__gamma': 'scale', 'svc__class_weight': 'balanced', 'svc__C': 0.001}</td>\n",
       "      <td>0.395977</td>\n",
       "      <td>0.969385</td>\n",
       "      <td>0.450233</td>\n",
       "      <td>0.938592</td>\n",
       "      <td>0.365106</td>\n",
       "    </tr>\n",
       "    <tr>\n",
       "      <th>3</th>\n",
       "      <td>dtree</td>\n",
       "      <td>{'dtree__splitter': 'best', 'dtree__min_samples_split': 2, 'dtree__min_samples_leaf': 3, 'dtree__max_features': 'auto', 'dtree__criterion': 'entropy', 'dtree__class_weight': 'balanced'}</td>\n",
       "      <td>0.455012</td>\n",
       "      <td>0.861146</td>\n",
       "      <td>0.195627</td>\n",
       "      <td>0.909251</td>\n",
       "      <td>0.236539</td>\n",
       "    </tr>\n",
       "    <tr>\n",
       "      <th>4</th>\n",
       "      <td>rf</td>\n",
       "      <td>{'rf__n_estimators': 200, 'rf__min_samples_split': 2, 'rf__min_samples_leaf': 10, 'rf__max_features': 'sqrt', 'rf__criterion': 'entropy', 'rf__class_weight': 'balanced'}</td>\n",
       "      <td>0.628522</td>\n",
       "      <td>0.918820</td>\n",
       "      <td>0.111538</td>\n",
       "      <td>0.935018</td>\n",
       "      <td>0.236089</td>\n",
       "    </tr>\n",
       "    <tr>\n",
       "      <th>5</th>\n",
       "      <td>ada</td>\n",
       "      <td>{'ada__n_estimators': 200, 'ada__learning_rate': 1.5, 'ada__algorithm': 'SAMME'}</td>\n",
       "      <td>0.343976</td>\n",
       "      <td>0.430475</td>\n",
       "      <td>0.275670</td>\n",
       "      <td>0.417605</td>\n",
       "      <td>0.233026</td>\n",
       "    </tr>\n",
       "    <tr>\n",
       "      <th>6</th>\n",
       "      <td>etree</td>\n",
       "      <td>{'etree__n_estimators': 100, 'etree__min_samples_split': 4, 'etree__min_samples_leaf': 5, 'etree__max_features': None, 'etree__criterion': 'gini', 'etree__class_weight': 'balanced'}</td>\n",
       "      <td>0.632035</td>\n",
       "      <td>0.987322</td>\n",
       "      <td>0.099968</td>\n",
       "      <td>0.991069</td>\n",
       "      <td>0.229461</td>\n",
       "    </tr>\n",
       "    <tr>\n",
       "      <th>7</th>\n",
       "      <td>knn</td>\n",
       "      <td>{'knn__weights': 'distance', 'knn__p': 1, 'knn__n_neighbors': 6, 'knn__metric': 'euclidean', 'knn__leaf_size': 38, 'knn__algorithm': 'ball_tree'}</td>\n",
       "      <td>0.283789</td>\n",
       "      <td>1.000000</td>\n",
       "      <td>0.062559</td>\n",
       "      <td>1.000000</td>\n",
       "      <td>0.227399</td>\n",
       "    </tr>\n",
       "    <tr>\n",
       "      <th>8</th>\n",
       "      <td>gnb</td>\n",
       "      <td>{'gnb__var_smoothing': 1e-09}</td>\n",
       "      <td>0.296378</td>\n",
       "      <td>0.367924</td>\n",
       "      <td>0.072263</td>\n",
       "      <td>0.427528</td>\n",
       "      <td>0.132614</td>\n",
       "    </tr>\n",
       "  </tbody>\n",
       "</table>\n",
       "</div>"
      ],
      "text/plain": [
       "   model  \\\n",
       "0     lr   \n",
       "1     nn   \n",
       "2    svc   \n",
       "3  dtree   \n",
       "4     rf   \n",
       "5    ada   \n",
       "6  etree   \n",
       "7    knn   \n",
       "8    gnb   \n",
       "\n",
       "                                                                                                                                                                                  parameters  \\\n",
       "0                            {'lr__solver': 'saga', 'lr__penalty': 'l2', 'lr__multi_class': 'multinomial', 'lr__l1_ratio': 0.0, 'lr__class_weight': 'balanced', 'lr__C': 215.44346900318823}   \n",
       "1                  {'nn__opt_learning_rate': 0.001, 'nn__layer_two_neurons': 555, 'nn__layer_two_dropout': 0.1, 'nn__layer_one_neurons': 2500, 'nn__layer_one_dropout': 0.30000000000000004}   \n",
       "2                                                                                         {'svc__kernel': 'linear', 'svc__gamma': 'scale', 'svc__class_weight': 'balanced', 'svc__C': 0.001}   \n",
       "3  {'dtree__splitter': 'best', 'dtree__min_samples_split': 2, 'dtree__min_samples_leaf': 3, 'dtree__max_features': 'auto', 'dtree__criterion': 'entropy', 'dtree__class_weight': 'balanced'}   \n",
       "4                  {'rf__n_estimators': 200, 'rf__min_samples_split': 2, 'rf__min_samples_leaf': 10, 'rf__max_features': 'sqrt', 'rf__criterion': 'entropy', 'rf__class_weight': 'balanced'}   \n",
       "5                                                                                                           {'ada__n_estimators': 200, 'ada__learning_rate': 1.5, 'ada__algorithm': 'SAMME'}   \n",
       "6      {'etree__n_estimators': 100, 'etree__min_samples_split': 4, 'etree__min_samples_leaf': 5, 'etree__max_features': None, 'etree__criterion': 'gini', 'etree__class_weight': 'balanced'}   \n",
       "7                                          {'knn__weights': 'distance', 'knn__p': 1, 'knn__n_neighbors': 6, 'knn__metric': 'euclidean', 'knn__leaf_size': 38, 'knn__algorithm': 'ball_tree'}   \n",
       "8                                                                                                                                                              {'gnb__var_smoothing': 1e-09}   \n",
       "\n",
       "   Best cross-validation balanced accuracy score  \\\n",
       "0                                       0.439343   \n",
       "1                                       0.351209   \n",
       "2                                       0.395977   \n",
       "3                                       0.455012   \n",
       "4                                       0.628522   \n",
       "5                                       0.343976   \n",
       "6                                       0.632035   \n",
       "7                                       0.283789   \n",
       "8                                       0.296378   \n",
       "\n",
       "   Training set balanced F1 score  Validation set balanced F1 score  \\\n",
       "0                        0.978541                          0.450157   \n",
       "1                        0.999252                          0.414365   \n",
       "2                        0.969385                          0.450233   \n",
       "3                        0.861146                          0.195627   \n",
       "4                        0.918820                          0.111538   \n",
       "5                        0.430475                          0.275670   \n",
       "6                        0.987322                          0.099968   \n",
       "7                        1.000000                          0.062559   \n",
       "8                        0.367924                          0.072263   \n",
       "\n",
       "   Training set balanced accuracy  Validation set balanced accuracy  \n",
       "0                        0.955376                          0.406867  \n",
       "1                        0.997585                          0.397302  \n",
       "2                        0.938592                          0.365106  \n",
       "3                        0.909251                          0.236539  \n",
       "4                        0.935018                          0.236089  \n",
       "5                        0.417605                          0.233026  \n",
       "6                        0.991069                          0.229461  \n",
       "7                        1.000000                          0.227399  \n",
       "8                        0.427528                          0.132614  "
      ]
     },
     "execution_count": 102,
     "metadata": {},
     "output_type": "execute_result"
    }
   ],
   "source": [
    "# Produce a summary table of the tuned classifiers\n",
    "summary = pd.DataFrame({\n",
    "    'model': models,\n",
    "    'parameters': parameters,\n",
    "    'Best cross-validation balanced accuracy score': best_score,\n",
    "    'Training set balanced F1 score': train_bal_f1_score,\n",
    "    'Validation set balanced F1 score': val_bal_f1_score,\n",
    "    'Training set balanced accuracy': train_bal_accuracy,\n",
    "    'Validation set balanced accuracy': val_bal_accuracy\n",
    "    })\n",
    "\n",
    "pd.set_option('display.max_colwidth', None)\n",
    "summary.sort_values('Validation set balanced accuracy', ascending=False).reset_index(drop=True)"
   ]
  },
  {
   "cell_type": "markdown",
   "metadata": {},
   "source": [
    "Based on the table above, we observe the following:\n",
    "- The best performing model has a validation dataset balanced accuracy score of `0.406867` which is more than 10% better than our baseline accuracy score of `0.286962`.\n",
    "- For all the models, the balanced F1 and accuracy scores for the validation dataset are lower that the respective scores on the training dataset -- this indicates that all our models tend to be overfitted."
   ]
  },
  {
   "cell_type": "markdown",
   "metadata": {},
   "source": [
    "<div class=\"alert alert-block alert-info\">\n",
    "In conclusion, our best alternative model is therefore the multinomial <b>Logistic Regression Classifier</b> with the parameters shown above, trained on <b>Word2Vec word embeddings</b> using the <b>Mean Embedding Vectorizer</b>.\n",
    "</div>"
   ]
  },
  {
   "cell_type": "markdown",
   "metadata": {},
   "source": [
    "## Further Exploration of Alternative Model"
   ]
  },
  {
   "cell_type": "markdown",
   "metadata": {},
   "source": [
    "As before, to perform further exploration of our alternative model, we first instantiate the logistic regression classifier based on the best parameters found above, and then fit it on the validation dataset."
   ]
  },
  {
   "cell_type": "code",
   "execution_count": 103,
   "metadata": {},
   "outputs": [],
   "source": [
    "# We instantiate the best classifier based on the optimal parameters found above\n",
    "alternative_clf = LogisticRegression(verbose=1, n_jobs=4, random_state=42, solver='saga', penalty='l2',\n",
    "                                     multi_class='multinomial', l1_ratio=0,\n",
    "                                     class_weight='balanced', C=215.44346900318823)"
   ]
  },
  {
   "cell_type": "code",
   "execution_count": 104,
   "metadata": {
    "scrolled": false
   },
   "outputs": [
    {
     "name": "stderr",
     "output_type": "stream",
     "text": [
      "C:\\Users\\yuchy\\AppData\\Roaming\\Python\\Python37\\site-packages\\sklearn\\linear_model\\_logistic.py:1501: UserWarning: l1_ratio parameter is only used when penalty is 'elasticnet'. Got (penalty=l2)\n",
      "  \"(penalty={})\".format(self.penalty))\n",
      "[Parallel(n_jobs=4)]: Using backend ThreadingBackend with 4 concurrent workers.\n"
     ]
    },
    {
     "name": "stdout",
     "output_type": "stream",
     "text": [
      "max_iter reached after 12 seconds\n",
      "Wall time: 12.1 s\n"
     ]
    },
    {
     "name": "stderr",
     "output_type": "stream",
     "text": [
      "C:\\Users\\yuchy\\AppData\\Roaming\\Python\\Python37\\site-packages\\sklearn\\linear_model\\_sag.py:330: ConvergenceWarning: The max_iter was reached which means the coef_ did not converge\n",
      "  \"the coef_ did not converge\", ConvergenceWarning)\n",
      "[Parallel(n_jobs=4)]: Done   1 out of   1 | elapsed:   11.9s finished\n"
     ]
    },
    {
     "data": {
      "text/plain": [
       "LogisticRegression(C=215.44346900318823, class_weight='balanced', dual=False,\n",
       "                   fit_intercept=True, intercept_scaling=1, l1_ratio=0,\n",
       "                   max_iter=100, multi_class='multinomial', n_jobs=4,\n",
       "                   penalty='l2', random_state=42, solver='saga', tol=0.0001,\n",
       "                   verbose=1, warm_start=False)"
      ]
     },
     "execution_count": 104,
     "metadata": {},
     "output_type": "execute_result"
    }
   ],
   "source": [
    "%%time\n",
    "# Fit the best classifier on the validation dataset\n",
    "alternative_clf.fit(X_val, y_val)"
   ]
  },
  {
   "cell_type": "markdown",
   "metadata": {},
   "source": [
    "### Logistic Regression Coefficients"
   ]
  },
  {
   "cell_type": "markdown",
   "metadata": {},
   "source": [
    "As we did before for the baseline model, we now print out the top 5 principle components and their coefficients, for each of the 9 classes. A one-unit change in each principle component means that the prediction for the respective class is $e^{c}$ times as likely, where c is the coefficient value shown."
   ]
  },
  {
   "cell_type": "code",
   "execution_count": 115,
   "metadata": {
    "scrolled": false
   },
   "outputs": [
    {
     "name": "stdout",
     "output_type": "stream",
     "text": [
      "\n",
      "---------------------------------------------------------------------------\n",
      "Top 5 principle components and coefficient values for prediction of class 1\n",
      "---------------------------------------------------------------------------\n",
      "PC7       1.335676\n",
      "PC2278    1.210188\n",
      "PC2272    1.132416\n",
      "PC2449    1.109943\n",
      "PC8       1.103854\n",
      "Name: 0, dtype: float64\n",
      "\n",
      "---------------------------------------------------------------------------\n",
      "Top 5 principle components and coefficient values for prediction of class 2\n",
      "---------------------------------------------------------------------------\n",
      "PC4       1.138418\n",
      "PC2       1.129772\n",
      "PC2442    1.102479\n",
      "PC2283    1.097884\n",
      "PC63      1.093798\n",
      "Name: 1, dtype: float64\n",
      "\n",
      "---------------------------------------------------------------------------\n",
      "Top 5 principle components and coefficient values for prediction of class 3\n",
      "---------------------------------------------------------------------------\n",
      "PC2401    1.178300\n",
      "PC4       1.135836\n",
      "PC186     1.119865\n",
      "PC2398    1.113915\n",
      "PC43      1.103503\n",
      "Name: 2, dtype: float64\n",
      "\n",
      "---------------------------------------------------------------------------\n",
      "Top 5 principle components and coefficient values for prediction of class 4\n",
      "---------------------------------------------------------------------------\n",
      "PC7       1.239543\n",
      "PC2449    1.149780\n",
      "PC8       1.125279\n",
      "PC10      1.118249\n",
      "PC2450    1.107896\n",
      "Name: 3, dtype: float64\n",
      "\n",
      "---------------------------------------------------------------------------\n",
      "Top 5 principle components and coefficient values for prediction of class 5\n",
      "---------------------------------------------------------------------------\n",
      "PC5       1.187432\n",
      "PC3       1.181853\n",
      "PC2608    1.104355\n",
      "PC4       1.089718\n",
      "PC2670    1.089535\n",
      "Name: 4, dtype: float64\n",
      "\n",
      "---------------------------------------------------------------------------\n",
      "Top 5 principle components and coefficient values for prediction of class 6\n",
      "---------------------------------------------------------------------------\n",
      "PC2452    1.173780\n",
      "PC3       1.169243\n",
      "PC52      1.141538\n",
      "PC2451    1.123695\n",
      "PC2430    1.105205\n",
      "Name: 5, dtype: float64\n",
      "\n",
      "---------------------------------------------------------------------------\n",
      "Top 5 principle components and coefficient values for prediction of class 7\n",
      "---------------------------------------------------------------------------\n",
      "PC2       1.141374\n",
      "PC2437    1.128823\n",
      "PC2343    1.122247\n",
      "PC9       1.098954\n",
      "PC4       1.093798\n",
      "Name: 6, dtype: float64\n",
      "\n",
      "---------------------------------------------------------------------------\n",
      "Top 5 principle components and coefficient values for prediction of class 8\n",
      "---------------------------------------------------------------------------\n",
      "PC2441    1.171946\n",
      "PC2356    1.140071\n",
      "PC2443    1.127361\n",
      "PC181     1.115434\n",
      "PC10      1.102154\n",
      "Name: 7, dtype: float64\n",
      "\n",
      "---------------------------------------------------------------------------\n",
      "Top 5 principle components and coefficient values for prediction of class 9\n",
      "---------------------------------------------------------------------------\n",
      "PC2320    1.304098\n",
      "PC202     1.173204\n",
      "PC136     1.146044\n",
      "PC9       1.143370\n",
      "PC2311    1.130885\n",
      "Name: 8, dtype: float64\n"
     ]
    }
   ],
   "source": [
    "for cl in range(0,9):\n",
    "    scores = pd.DataFrame(alternative_clf.coef_, columns=X_train.columns)\n",
    "    print(\"\\n---------------------------------------------------------------------------\")\n",
    "    print(\"Top 5 principle components and coefficient values for prediction of class {}\".format(cl+1))\n",
    "    print(\"---------------------------------------------------------------------------\")\n",
    "    print(np.exp(scores.loc[cl,np.exp(scores.loc[cl,:].sort_values(ascending=False)).head(5).index.tolist()]))"
   ]
  },
  {
   "cell_type": "markdown",
   "metadata": {},
   "source": [
    "### ROC curves and metrics for Validation Dataset"
   ]
  },
  {
   "cell_type": "code",
   "execution_count": 105,
   "metadata": {
    "scrolled": false
   },
   "outputs": [],
   "source": [
    "# Generate predictions for the validation data based on our baseline model\n",
    "y_val_pred = alternative_clf.predict(X_val)"
   ]
  },
  {
   "cell_type": "code",
   "execution_count": 106,
   "metadata": {},
   "outputs": [],
   "source": [
    "# Binarize the output\n",
    "y_train_binarized = label_binarize(y_train, classes=list(np.unique(y)))\n",
    "y_val_pred_binarized = label_binarize(y_val_pred, classes=list(np.unique(y)))\n",
    "n_classes = len(np.unique(y))"
   ]
  },
  {
   "cell_type": "markdown",
   "metadata": {},
   "source": [
    "To come up with actual scores that can be used for ROC calculation, we use the OneVsRestClassifier coupled with a SVC (C-Support Vector) Classifier to fit the training dataset so that we can obtain the distances of each sample from the decision boundary for each class."
   ]
  },
  {
   "cell_type": "code",
   "execution_count": 107,
   "metadata": {},
   "outputs": [
    {
     "name": "stdout",
     "output_type": "stream",
     "text": [
      "Started fitting at: 2020-04-10 23:00:12\n",
      "Wall time: 5min 8s\n"
     ]
    }
   ],
   "source": [
    "%%time\n",
    "now = datetime.datetime.now()\n",
    "print (\"Started fitting at: {}\".format(now.strftime(\"%Y-%m-%d %H:%M:%S\")))\n",
    "# We obtain the distances of each sample from the decision boundary for each class\n",
    "classifier = OneVsRestClassifier(svm.SVC(kernel='linear', probability=True,\n",
    "                                 random_state=42, verbose=1), n_jobs=2)\n",
    "y_score = classifier.fit(X_train, y_train_binarized).decision_function(X_val)"
   ]
  },
  {
   "cell_type": "code",
   "execution_count": 108,
   "metadata": {},
   "outputs": [],
   "source": [
    "# Compute ROC curve and ROC area for each class\n",
    "fpr = dict()\n",
    "tpr = dict()\n",
    "roc_auc = dict()\n",
    "for i in range(n_classes):\n",
    "    # we compare our predicted labels for the validation dataset and the actual validation dataset labels\n",
    "    fpr[i], tpr[i], _ = roc_curve(y_val_pred_binarized[:, i], y_score[:, i])\n",
    "    roc_auc[i] = auc(fpr[i], tpr[i])\n",
    "\n",
    "# Compute micro-average ROC curve and ROC area\n",
    "fpr[\"micro\"], tpr[\"micro\"], _ = roc_curve(y_val_pred_binarized.ravel(), y_score.ravel())\n",
    "roc_auc[\"micro\"] = auc(fpr[\"micro\"], tpr[\"micro\"])"
   ]
  },
  {
   "cell_type": "markdown",
   "metadata": {},
   "source": [
    "We plot ROC curves for all the 9 classes."
   ]
  },
  {
   "cell_type": "code",
   "execution_count": 129,
   "metadata": {},
   "outputs": [
    {
     "data": {
      "image/png": "[encoded data removed]",
      "text/plain": [
       "<Figure size 864x576 with 1 Axes>"
      ]
     },
     "metadata": {
      "image/png": {
       "height": 495,
       "width": 809
      },
      "needs_background": "light"
     },
     "output_type": "display_data"
    }
   ],
   "source": [
    "# First aggregate all false positive rates\n",
    "all_fpr = np.unique(np.concatenate([fpr[i] for i in range(n_classes)]))\n",
    "\n",
    "# Then interpolate all ROC curves at this points\n",
    "mean_tpr = np.zeros_like(all_fpr)\n",
    "for i in range(n_classes):\n",
    "    mean_tpr += np.interp(all_fpr, fpr[i], tpr[i])\n",
    "\n",
    "# Finally average it and compute AUC\n",
    "mean_tpr /= n_classes\n",
    "\n",
    "fpr[\"macro\"] = all_fpr\n",
    "tpr[\"macro\"] = mean_tpr\n",
    "roc_auc[\"macro\"] = auc(fpr[\"macro\"], tpr[\"macro\"])\n",
    "\n",
    "# Plot all ROC curves\n",
    "plt.figure(figsize=(12,8))\n",
    "plt.plot(fpr[\"micro\"], tpr[\"micro\"],\n",
    "         label='micro-average ROC curve (area = {0:0.5f})'\n",
    "               ''.format(roc_auc[\"micro\"]),\n",
    "         color='deeppink', linestyle=':', linewidth=4)\n",
    "\n",
    "plt.plot(fpr[\"macro\"], tpr[\"macro\"],\n",
    "         label='macro-average ROC curve (area = {0:0.5f})'\n",
    "               ''.format(roc_auc[\"macro\"]),\n",
    "         color='navy', linestyle=':', linewidth=4)\n",
    "\n",
    "lw=2\n",
    "colors = cycle(['rosybrown', 'firebrick', 'sienna', 'olivedrab', 'darkgreen',\\\n",
    "                'lightseagreen', 'darkturquoise', 'b', 'darkorange'])\n",
    "for i, color in zip(range(n_classes), colors):\n",
    "    plt.plot(fpr[i], tpr[i], color=color, lw=lw,\n",
    "             label='ROC curve of class {0} (area = {1:0.5f})'\n",
    "             ''.format(i+1, roc_auc[i]))\n",
    "\n",
    "plt.plot([0, 1], [0, 1], 'k--', lw=lw)\n",
    "plt.xlim([0.0, 1.0])\n",
    "plt.ylim([0.0, 1.05])\n",
    "plt.xlabel('False Positive Rate')\n",
    "plt.ylabel('True Positive Rate')\n",
    "plt.title('ROC Curve for Multiple Classes')\n",
    "plt.legend(loc=\"lower right\")\n",
    "plt.show()"
   ]
  },
  {
   "cell_type": "markdown",
   "metadata": {},
   "source": [
    "We note from the ROC curves and AUC scores ('area' metric) in the plot above that the micro-average AUC score is `0.68917` which is lower than the corresponding score of `0.87919` for the baseline model.\n",
    "\n",
    "The individual AUCs for each of the nine classes are all lower than the corresponding scores in the baseline model for each class. The class 8 AUC (`0.52661`) is still the poorest amongst the nine classes."
   ]
  },
  {
   "cell_type": "markdown",
   "metadata": {},
   "source": [
    "### Confusion Matrix"
   ]
  },
  {
   "cell_type": "markdown",
   "metadata": {},
   "source": [
    "We plot a confusion matrix can be used to evaluate the quality of the output of our classifier."
   ]
  },
  {
   "cell_type": "code",
   "execution_count": 116,
   "metadata": {},
   "outputs": [
    {
     "data": {
      "image/png": "[encoded data removed]",
      "text/plain": [
       "<Figure size 1500x500 with 4 Axes>"
      ]
     },
     "metadata": {
      "image/png": {
       "height": 500,
       "width": 1195
      }
     },
     "output_type": "display_data"
    }
   ],
   "source": [
    "plt.style.use('default')\n",
    "fig, (ax1, ax2) = plt.subplots(nrows=1, ncols=2, figsize=(15,5))\n",
    "disp = plot_confusion_matrix(alternative_clf, X_val, y_val,\n",
    "                             display_labels=['Class '+str(i+1) for i in range(0,9)],\n",
    "                             cmap=plt.cm.Blues, values_format='.4g', xticks_rotation=45,\n",
    "                             normalize=None, ax=ax1)\n",
    "disp = plot_confusion_matrix(alternative_clf, X_val, y_val,\n",
    "                             display_labels=['Class '+str(i+1) for i in range(0,9)],\n",
    "                             cmap=plt.cm.Blues, values_format='.1g', xticks_rotation=45,\n",
    "                             normalize='true', ax=ax2)\n",
    "ax1.set_title(\"Confusion Matrix, without normalisation\")\n",
    "ax2.set_title(\"Normalised Confusion Matrix (over the true rows)\")\n",
    "plt.show();  "
   ]
  },
  {
   "cell_type": "markdown",
   "metadata": {},
   "source": [
    "As shown above, the diagonal elements represent the number of points for which the predicted label is equal to the true label, while off-diagonal elements are those that are mislabeled by the classifier. The higher the diagonal values of the confusion matrix thr better, indicating many correct predictions.\n",
    "\n",
    "For the normalised confusion matrix, we note that the values in the diagonal are all equal or poorer (lower) than those found in the normalised confusion matrix for the baseline model."
   ]
  },
  {
   "cell_type": "markdown",
   "metadata": {},
   "source": [
    "### Comparison of Frequency Distributions"
   ]
  },
  {
   "cell_type": "code",
   "execution_count": 117,
   "metadata": {},
   "outputs": [
    {
     "data": {
      "image/png": "[encoded data removed]",
      "text/plain": [
       "<Figure size 1000x300 with 2 Axes>"
      ]
     },
     "metadata": {
      "image/png": {
       "height": 315,
       "width": 850
      }
     },
     "output_type": "display_data"
    }
   ],
   "source": [
    "fig, axes = plt.subplots(1, 2, figsize=(10, 3), sharey=True)\n",
    "sns.countplot(y_val, color=\"dodgerblue\", ax=axes[0])\n",
    "sns.countplot(y_val_pred, color=\"deeppink\", ax=axes[1]);\n",
    "axes[0].set_title(\"Frequency Distribution of Actual Labels\")\n",
    "axes[1].set_title(\"Frequency Distribution of Predicted Labels\")\n",
    "axes[0].set_xlabel(\"Class\")\n",
    "axes[1].set_xlabel(\"Class\");"
   ]
  },
  {
   "cell_type": "markdown",
   "metadata": {},
   "source": [
    "A comparison of the two frequency distributions shows that:\n",
    "- The relative frequencies of the classes have not been well preserved in the predictions, in particular for class 7 -- our alternative model predicts relatively fewer class 7 variations.\n",
    "- The greater number of predictions for class 5 and 8 stand out, when we compare with the frequency of the actual labels."
   ]
  },
  {
   "cell_type": "markdown",
   "metadata": {},
   "source": [
    "## Selection of Final Model"
   ]
  },
  {
   "cell_type": "markdown",
   "metadata": {},
   "source": [
    "The size of the training data has been reduced significantly from over 76,000 features (created using the standard TfidfVectorizer) to around 4,400, which is approx. 20 times smaller. This has led to faster training times for the alternative model.\n",
    "\n",
    "Unfortunately, variance has increased as a result, and the alternative model is more overfitted compared to the baseline model, based on a comparison of the validation dataset balanced accuracy scores. The evidence of this can be seen in the ROC curves, confusion matrix and histogram plots above. The alternative model scores more poorly in terms of the balanced accuracy and F1 scores, as well as the micro-average AUC score, as shown below:\n",
    "\n",
    "|Metric|Baseline Model<br>(Logistic Regression with<br>Tfidf word weights)|Alternative Model<br>(Logistic Regression using<br>mean Word2Vec embeddings)|\n",
    "|:--|---|---|\n",
    "|Balanced Accuracy Score|0.532911|0.406867|\n",
    "|Balanced F1 Score|0.598815|0.450157|\n",
    "|Micro-average AUC score|0.87919|0.68917|\n",
    "\n",
    "We therefore choose the baseline model as our final model -- i.e. the multinomial <b>Logistic Regression Classifier</b> trained on <b>TfidfVectorizer</b> weighted word frequencies. It meets our success criteria of exceeding the baseline accuracy of `0.286962` by at least 10%. The full parameters of the Logistic Regression Classifier are shown below.\n",
    "\n",
    "```\n",
    "LogisticRegression(C=215.44346900318823, class_weight='balanced', dual=False,\n",
    "                   fit_intercept=True, intercept_scaling=1, l1_ratio=0,\n",
    "                   max_iter=100, multi_class='multinomial', n_jobs=None,\n",
    "                   penalty='l2', random_state=42, solver='saga', tol=0.0001,\n",
    "                   verbose=1, warm_start=False)\n",
    "```"
   ]
  },
  {
   "cell_type": "markdown",
   "metadata": {},
   "source": [
    "## Data Export (for Kaggle Submission)"
   ]
  },
  {
   "cell_type": "markdown",
   "metadata": {},
   "source": [
    "For completeness, we export the predictions from the alternative model for Kaggle submission in Notebook 5."
   ]
  },
  {
   "cell_type": "code",
   "execution_count": 118,
   "metadata": {
    "scrolled": false
   },
   "outputs": [],
   "source": [
    "y_test_pred = alternative_clf.predict(X_test)"
   ]
  },
  {
   "cell_type": "code",
   "execution_count": 119,
   "metadata": {},
   "outputs": [
    {
     "data": {
      "text/plain": [
       "(986,)"
      ]
     },
     "execution_count": 119,
     "metadata": {},
     "output_type": "execute_result"
    }
   ],
   "source": [
    "y_test_pred.shape"
   ]
  },
  {
   "cell_type": "code",
   "execution_count": 120,
   "metadata": {},
   "outputs": [],
   "source": [
    "# Restore the 'id' column since we need this for the Kaggle submission\n",
    "test_pred = pd.concat([test['id'], pd.DataFrame(y_test_pred, columns=['class'])], axis=1)"
   ]
  },
  {
   "cell_type": "code",
   "execution_count": 121,
   "metadata": {},
   "outputs": [
    {
     "data": {
      "text/plain": [
       "2    227\n",
       "1    176\n",
       "4    169\n",
       "7    164\n",
       "6     85\n",
       "5     61\n",
       "3     58\n",
       "8     32\n",
       "9     14\n",
       "Name: class, dtype: int64"
      ]
     },
     "execution_count": 121,
     "metadata": {},
     "output_type": "execute_result"
    }
   ],
   "source": [
    "# Verify that we have a mix of predictions for variation classes\n",
    "test_pred['class'].value_counts()"
   ]
  },
  {
   "cell_type": "code",
   "execution_count": 122,
   "metadata": {},
   "outputs": [
    {
     "data": {
      "text/html": [
       "<div>\n",
       "<style scoped>\n",
       "    .dataframe tbody tr th:only-of-type {\n",
       "        vertical-align: middle;\n",
       "    }\n",
       "\n",
       "    .dataframe tbody tr th {\n",
       "        vertical-align: top;\n",
       "    }\n",
       "\n",
       "    .dataframe thead th {\n",
       "        text-align: right;\n",
       "    }\n",
       "</style>\n",
       "<table border=\"1\" class=\"dataframe\">\n",
       "  <thead>\n",
       "    <tr style=\"text-align: right;\">\n",
       "      <th></th>\n",
       "      <th>id</th>\n",
       "      <th>class</th>\n",
       "    </tr>\n",
       "  </thead>\n",
       "  <tbody>\n",
       "    <tr>\n",
       "      <th>0</th>\n",
       "      <td>1</td>\n",
       "      <td>6</td>\n",
       "    </tr>\n",
       "    <tr>\n",
       "      <th>1</th>\n",
       "      <td>2</td>\n",
       "      <td>1</td>\n",
       "    </tr>\n",
       "    <tr>\n",
       "      <th>2</th>\n",
       "      <td>3</td>\n",
       "      <td>7</td>\n",
       "    </tr>\n",
       "    <tr>\n",
       "      <th>3</th>\n",
       "      <td>4</td>\n",
       "      <td>1</td>\n",
       "    </tr>\n",
       "    <tr>\n",
       "      <th>4</th>\n",
       "      <td>5</td>\n",
       "      <td>2</td>\n",
       "    </tr>\n",
       "  </tbody>\n",
       "</table>\n",
       "</div>"
      ],
      "text/plain": [
       "   id  class\n",
       "0   1      6\n",
       "1   2      1\n",
       "2   3      7\n",
       "3   4      1\n",
       "4   5      2"
      ]
     },
     "execution_count": 122,
     "metadata": {},
     "output_type": "execute_result"
    }
   ],
   "source": [
    "test_pred.head()"
   ]
  },
  {
   "cell_type": "code",
   "execution_count": 123,
   "metadata": {},
   "outputs": [],
   "source": [
    "# We export the predictions\n",
    "test_pred.to_csv(\"../assets/test_pred.csv\", index=False)"
   ]
  },
  {
   "cell_type": "code",
   "execution_count": null,
   "metadata": {},
   "outputs": [],
   "source": []
  }
 ],
 "metadata": {
  "kernelspec": {
   "display_name": "Python 3",
   "language": "python",
   "name": "python3"
  },
  "language_info": {
   "codemirror_mode": {
    "name": "ipython",
    "version": 3
   },
   "file_extension": ".py",
   "mimetype": "text/x-python",
   "name": "python",
   "nbconvert_exporter": "python",
   "pygments_lexer": "ipython3",
   "version": "3.7.4"
  }
 },
 "nbformat": 4,
 "nbformat_minor": 2
}
