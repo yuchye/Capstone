{
 "cells": [
  {
   "cell_type": "markdown",
   "metadata": {},
   "source": [
    "# Capstone Project: Classifying clinically actionable genetic mutations\n",
    "\n",
    "***"
   ]
  },
  {
   "cell_type": "markdown",
   "metadata": {},
   "source": [
    "## Notebook 3: Baseline Model"
   ]
  },
  {
   "cell_type": "markdown",
   "metadata": {},
   "source": [
    "This notebook contains the code to identify a baseline classifier and use it to make predictions for the testing dataset."
   ]
  },
  {
   "cell_type": "markdown",
   "metadata": {},
   "source": [
    "### Contents\n",
    "\n",
    "- [Importing of Libraries](#Importing-of-Libraries)\n",
    "- [Data Import](#Data-Import)"
   ]
  },
  {
   "cell_type": "markdown",
   "metadata": {},
   "source": [
    "## Importing of Libraries"
   ]
  },
  {
   "cell_type": "code",
   "execution_count": 41,
   "metadata": {},
   "outputs": [],
   "source": [
    "# pip install imblearn"
   ]
  },
  {
   "cell_type": "code",
   "execution_count": 42,
   "metadata": {},
   "outputs": [],
   "source": [
    "# pip install transformers"
   ]
  },
  {
   "cell_type": "code",
   "execution_count": 43,
   "metadata": {},
   "outputs": [],
   "source": [
    "# pip install tabulate"
   ]
  },
  {
   "cell_type": "code",
   "execution_count": 44,
   "metadata": {},
   "outputs": [],
   "source": [
    "import pandas as pd\n",
    "import numpy as np\n",
    "\n",
    "from tabulate import tabulate\n",
    "from gensim.models.word2vec import Word2Vec\n",
    "from collections import Counter, defaultdict\n",
    "\n",
    "TRAIN_SET_PATH = \"../assets/train_prep.csv\"\n",
    "\n",
    "GLOVE_6B_50D_PATH = \"../assets/glove.6B.50d.txt\"\n",
    "GLOVE_6B_300D_PATH = \"../assets/glove.6B.300d.txt\"\n",
    "encoding=\"utf-8\"\n",
    "\n",
    "from sklearn import linear_model, metrics, svm\n",
    "from sklearn.pipeline import Pipeline\n",
    "from sklearn.model_selection import train_test_split, GridSearchCV,\\\n",
    "    cross_val_score, RandomizedSearchCV, StratifiedShuffleSplit\n",
    "from sklearn.linear_model import LogisticRegression\n",
    "from sklearn.feature_extraction.text import CountVectorizer, TfidfVectorizer, HashingVectorizer\n",
    "from sklearn.ensemble import RandomForestClassifier, ExtraTreesClassifier, AdaBoostClassifier\n",
    "from sklearn.neighbors import KNeighborsClassifier\n",
    "from sklearn.tree import DecisionTreeClassifier\n",
    "from sklearn.naive_bayes import BernoulliNB, MultinomialNB\n",
    "from sklearn.svm import SVC\n",
    "from sklearn.preprocessing import StandardScaler, label_binarize, MinMaxScaler\n",
    "from sklearn.utils import resample\n",
    "from sklearn.metrics import accuracy_score, roc_curve, auc, roc_auc_score\n",
    "from sklearn.multiclass import OneVsRestClassifier\n",
    "\n",
    "from imblearn.over_sampling import SMOTE\n",
    "\n",
    "import matplotlib\n",
    "import matplotlib.pyplot as plt\n",
    "import seaborn as sns\n",
    "from itertools import cycle\n",
    "plt.style.use('fivethirtyeight')\n",
    "\n",
    "import time\n",
    "import datetime\n",
    "\n",
    "import nltk\n",
    "from nltk.tokenize import RegexpTokenizer\n",
    "import regex as re\n",
    "from nltk.stem import WordNetLemmatizer\n",
    "from nltk.stem.porter import PorterStemmer\n",
    "from nltk.corpus import stopwords\n",
    "\n",
    "import torch\n",
    "import transformers as ppb\n",
    "import warnings\n",
    "warnings.filterwarnings('ignore')\n",
    "\n",
    "from wordcloud import WordCloud\n",
    "\n",
    "%config InlineBackend.figure_format = 'retina'\n",
    "%matplotlib inline\n",
    "\n",
    "# Initialise random seeed for more consistent results\n",
    "from numpy.random import seed\n",
    "seed(42)"
   ]
  },
  {
   "cell_type": "markdown",
   "metadata": {},
   "source": [
    "## Data Import"
   ]
  },
  {
   "cell_type": "code",
   "execution_count": 45,
   "metadata": {},
   "outputs": [],
   "source": [
    "# Import 'train_prep' and 'test_prep' datasets\n",
    "# We use the 'keep_default_na' option to False to ensure that pandas does not re-introduce missing values\n",
    "train = pd.read_csv(\"../assets/train_prep.csv\", keep_default_na=False)\n",
    "test = pd.read_csv(\"../assets/test_prep.csv\", keep_default_na=False)"
   ]
  },
  {
   "cell_type": "code",
   "execution_count": 46,
   "metadata": {},
   "outputs": [
    {
     "data": {
      "text/plain": [
       "((3321, 4325), (986, 4324))"
      ]
     },
     "execution_count": 46,
     "metadata": {},
     "output_type": "execute_result"
    }
   ],
   "source": [
    "train.shape, test.shape"
   ]
  },
  {
   "cell_type": "code",
   "execution_count": 47,
   "metadata": {},
   "outputs": [
    {
     "data": {
      "text/html": [
       "<div>\n",
       "<style scoped>\n",
       "    .dataframe tbody tr th:only-of-type {\n",
       "        vertical-align: middle;\n",
       "    }\n",
       "\n",
       "    .dataframe tbody tr th {\n",
       "        vertical-align: top;\n",
       "    }\n",
       "\n",
       "    .dataframe thead th {\n",
       "        text-align: right;\n",
       "    }\n",
       "</style>\n",
       "<table border=\"1\" class=\"dataframe\">\n",
       "  <thead>\n",
       "    <tr style=\"text-align: right;\">\n",
       "      <th></th>\n",
       "      <th>id</th>\n",
       "      <th>class</th>\n",
       "      <th>text</th>\n",
       "      <th>gene_ABCB11</th>\n",
       "      <th>gene_ABCC6</th>\n",
       "      <th>gene_ABL1</th>\n",
       "      <th>gene_ACVR1</th>\n",
       "      <th>gene_ADAMTS13</th>\n",
       "      <th>gene_ADGRG1</th>\n",
       "      <th>gene_AGO2</th>\n",
       "      <th>...</th>\n",
       "      <th>variation_YAP1-TFE3 Fusion</th>\n",
       "      <th>variation_YWHAE-ROS1 Fusion</th>\n",
       "      <th>variation_ZC3H7B-BCOR Fusion</th>\n",
       "      <th>variation_ZNF198-FGFR1 Fusion</th>\n",
       "      <th>variation_null1313Y</th>\n",
       "      <th>variation_null189Y</th>\n",
       "      <th>variation_null262Q</th>\n",
       "      <th>variation_null267R</th>\n",
       "      <th>variation_null399R</th>\n",
       "      <th>variation_p61BRAF</th>\n",
       "    </tr>\n",
       "  </thead>\n",
       "  <tbody>\n",
       "    <tr>\n",
       "      <th>0</th>\n",
       "      <td>0</td>\n",
       "      <td>1</td>\n",
       "      <td>cyclin dependent kinase cdks regulate variety fundamental cellular process cdk stand one last orphan cdks activate cyclin identify kinase activity reveal previous work cdk silence increase ets v ets erythroblastosis virus e oncogene homolog driven activation mapk pathway confers tamoxifen resistance breast precise mechanism cdk modulates ets activity generally function cdk remain elusive demonstrate cdk cyclin dependent kinase identify cyclin activate cyclin cyclin orphan cyclin product fam whose cause star syndrome human developmental anomaly whose feature include toe syndactyly telecanthus anogenital renal malformation star syndrome associate cyclin mutant unable interact cdk cyclin silence phenocopies cdk silence increase c raf confer tamoxifen resistance breast cdk cyclin phosphorylates ets vitro positively control ets degradation proteasome ets protein level increase derive star increase attributable decrease cyclin level altogether result reveal additional regulatory mechanism ets play key role development shed light molecular mechanism underlie star syndrome cyclin dependent kinase cdks play pivotal role control number fundamental cellular process human genome contains gene encode protein consider member cdk family owe sequence similarity bona fide cdks know activate cyclins although discover almost ago cdk remains one two cdks without identify cyclin partner knowledge gap largely impede exploration biological function cdk act positive cycle regulator suppressor others cdk interacts ets v ets erythroblastosis virus e oncogene homolog transcription factor inhibits transcriptional activity unknown mechanism cdk knockdown derepresses ets increase expression c raf protein kinase activates mapk pathway induces resistance mcf tamoxifen deorphanize cdk identify cyclin product fam binding partner gene predict absence truncation cyclin associate star syndrome whose feature include toe syndactyly telecanthus anogenital renal malformation heterozygous female however function cyclin pathogenesis star syndrome remain unknown recombinant cdk cyclin heterodimer active protein kinase phosphorylates ets vitro cyclin silence phenocopies cdk silence increase c raf phospho erk expression level induce tamoxifen resistance estrogen receptor er breast cdk cyclin positively control ets degradation proteasome phosphorylation two neighbor serine finally detect increase ets expression level derive star demonstrate attributable decrease cyclin expression level observe previous sectionnext sectionresultsa yeast two hybrid h screen unveiled interaction signal cdk mouse protein whose c terminal half present strong sequence homology human fam gene product whose propose name cyclin thus perform h mating assay determine whether human cdk interacts human cyclin c long cdk isoform p express bait protein produce strong interaction phenotype full length cyclin express prey protein detectable phenotype cyclin p cip cdi kap know binding partner cdks b cdk cdk produce h signal cyclin albeit notably weaker observe cdk b interaction phenotype observe full length cyclin cdk protein express bait prey respectively test different isoforms cdk cyclin originate alternative gene splice two truncate cyclin protein correspond hypothetical product two mutate fam gene found star syndrome none shorter isoforms produce interaction phenotype c new window download pptfig cdk cyclin form interaction complex schematic representation different protein isoforms analyze h assay amino acid number indicate black box indicate internal deletion red box indicates differ amino acid sequence compare cdk p b h assay set cdk protein express bait fusion lexa dna binding domain cdk interact protein express prey fusion b transcriptional activator peg pjg empty bait prey plasmid express lexa b respectively lacz reporter gene blue yeast indicative h interaction phenotype c h assay different cdk cyclin isoforms amino terminal region ets know interact cdk assayed western blot analysis myc cdk wt kd cycm v expression level transfected hek e western blot analysis myc cdk wt kd immunoprecipitates obtain anti myc antibody input correspond g total lysates obtain hek coexpressing myc cdk wt kd cycm v f western blot analysis immunoprecipitates obtain anti cdk antibody control goat antibody human breast mcf input corresponds g mcf total lysates low band doublet observe upper panel comigrates exogenously express untagged cdk thus corresponds endogenous cdk upper band doublet corresponds nonspecific signal demonstrate insensitivity either overexpression cdk see left lane silence cdk b another experiment longer gel migration next examine ability cdk cyclin interact express human e test wild type cdk wt kinase dead kd mutant bearing amino acid substitution abolishes atp binding express cyclin v myc cdk wt kd human embryonic kidney line hek expression level cyclin v significantly increase upon coexpression myc cdk wt kd lesser extent myc cdk wt kd increase upon coexpression cyclin v immunoprecipitated myc cdk protein detect presence cyclin cdk wt kd immunoprecipitates protein coexpressed pair wise e confirm observation detect presence myc cdk cyclin v immunoprecipitates b experiment confirm lack robust interaction cdk p isoform cyclin c detect interaction endogenous protein perform immunoprecipitations nontransfected mcf derive human breast cdk cyclin antibody detect cognate endogenous protein western blotting readily detect cyclin immunoprecipitates obtain cdk antibody control antibody f result confirm physical interaction cdk cyclin human unveil hypothesize cdk cyclin protein kinase activity produce gst cdk strepii cyclin fusion protein insect either individually combination observe gst cdk strepii cyclin copurified thus confirm interaction yet another cellular model perform vitro kinase assay purify protein histone h generic substrate histone h phosphorylation detect lysates coexpressing gst cdk strepii cyclin phosphorylation detect gst cdk strepii cyclin express alone strepii cyclin coexpressed gst cdk kd next investigate whether ets know interact cdk c phosphorylation substrate cdk cyclin detect strong phosphorylation ets gst cdk strepii cyclin purify heterodimer whereas phosphorylation detect gst cdk alone gst cdk kd strepii cyclin heterodimer b new window download pptfig cdk cyclin dependent protein kinase vitro protein kinase assay histone h lysates insect express different protein purify glutathione sepharose matrix capture gst cdk wt kd fusion protein alone complex str cycm fusion protein purify protein expression level analyze western blot top upper middle kinase activity determine autoradiography histone h whose add amount visualize coomassie stain low middle bottom b purify recombinant ets substrate cdk silence increase ets driven c raf transcription activate mapk pathway investigate whether cyclin involve regulatory pathway aim highly specific silence sirna pool mix four different sirnas low final concentration nm cdk cyclin sirna pool silence expression cognate target c interestingly cyclin sirna pool cause marked decrease cdk protein level b result suggest cyclin binding stabilizes cdk cyclin silence induced increase c raf protein mrna level b c phosphorylated erk erk protein level b similarly cdk silence expect effect cdk cyclin silence decrease sensitivity er mcf tamoxifen similar extent combine silence gene result high resistance drug c altogether observation demonstrate functional interaction cyclin cdk negatively control ets new window download pptfig cyclin silence regulates c raf expression western blot analysis endogenous cdk cyclin expression level mcf response sirna mediate gene silence b western blot analysis endogenous c raf expression level mcf response cdk cyclin silence quantification c quantitative rt pcr analysis cdk cyclin c raf mrna level response cdk upper cyclin low silence p p wish explore mechanism cdk cyclin control ets ets short live protein degrade proteasome straightforward hypothesis cdk cyclin positively control ets degradation thus examine impact cdk cyclin silence ets expression level silence cdk cyclin cause increase expression level exogenously express flag ets protein well endogenous ets protein increase attributable increase ets mrna level marginally fluctuate response cdk cyclin silence b examine expression level flag tag ets protein express alone combination myc cdk cdk kd without cyclin v flag ets readily detect express alone lesser extent coexpressed cdk kd however expression level dramatically decrease coexpressed cdk alone cdk cyclin b observation suggest endogenous cyclin level excess compare cdk mcf major decrease ets level observe upon cdk coexpression involves cdk kinase activity treatment coexpressing flag ets cdk cyclin proteasome inhibitor mg largely rescue flag ets expression level b new window download pptfig cdk cyclin control ets stability human derive western blot analysis endogenous ets expression level mcf response sirna mediate cdk cyclin silence quantification b b western blot analysis exogenously express flag ets protein level mcf cotransfected empty vector coexpressing myc cdk wt kd myc cdk cycm v latter treat h mg proteasome inhibitor proper expression cdk cyclin tag protein verify western blot analysis c western blot analysis expression level exogenously express flag ets wild type mutant protein mcf absence c response myc cdk cycm v expression quantification c mass spectrometry analysis recombinant ets phosphorylated cdk cyclin vitro reveal existence multiple phosphorylated residue among two neighbor phospho serine position may form phosphodegron confirm find compare phosphorylation level recombinant ets wt ets sasa protein mutant bearing alanine substitution two serine expect existence multiple phosphorylation site detect small reproducible significant decrease phosphorylation level ets sasa compare ets wt thus confirm ser ser phosphorylated cdk cyclin establish direct link ets phosphorylation cdk cyclin degradation examine expression level flag ets sasa absence cdk cyclin coexpression differ significantly flag ets contrary flag ets dbm bearing deletion n terminal destruction box previously involve apc cdh mediate degradation ets c however contrary flag ets wild type expression level flag ets sasa remain insensitive cdk cyclin coexpression altogether result suggest cdk cyclin directly control ets degradation phosphorylation two serine finally study lymphoblastoid line derive star syndrome bearing fam c g predict result aberrant splice accordance incomplete skew x chromosome inactivation previously found detect decrease expression level cyclin protein star line compare control lymphoblastoid line line precede observation detect increase expression level ets protein star line compare control examine quantitative rt pcr mrna expression level correspond gene star line decrease expression level cyclin mrna expression level ets mrna similar control line b demonstrate increase ets protein expression indeed result decrease cyclin expression observe star derive line express cyclin v line expression cause decrease ets protein level c new window download pptfig decrease cyclin expression star derive result increase ets protein level western blot analysis cyclin ets protein level star derive lymphoblastoid line control lymphoblastoid line derive healthy individual quantification b quantitative rt pcr analysis cyclin ets mrna level p c western blot analysis ets protein level star derive lymphoblastoid line transfected empty vector vector direct expression cyclin v another western blot reveal endogenously exogenously express cyclin level b quantification ets protein level c previous sectionnext sectiondiscussionin work unveil interaction cdk last orphan cdk discover pregenomic era cyclin cyclin associate human genetic disease far whose function remain unknown closest paralogs cdk within cdk family cdk protein interact l type cyclins interestingly closest paralog cyclins within cyclin family cyclin fact none shorter cdk isoforms interact robustly cyclin suggests alternative splice cdk gene play important role regulate cdk function functional relevance interaction cdk cyclin support different observation protein seem enhance stability judged increase expression level partner exogenously coexpressed much reduce endogenous cdk expression level observe response cyclin silence b cdk subject ubiquitin mediate degradation observation suggest cyclin protects cdk degradation cyclin partner cdk least mcf suggest cyclin stability enhance upon binding cdk independently kinase activity see cyclin c cdk uncover cyclin dependent cdk protein kinase activity vitro thus demonstrate protein name cdk sole basis amino acid sequence indeed genuine cyclin dependent kinase h assay reveal truncate cyclin protein correspond hypothetical product two star syndrome associate fam produce interaction phenotype cdk hence regardless whether mutate mrna undergo nonsense mediate decay suggest decrease cyclin mrna level star b give rise truncate cyclin protein female affected star syndrome must exhibit compromise cdk cyclin kinase activity least tissue specific developmental stage ets know interactor cdk phosphorylation substrate cdk cyclin vitro cdk cyclin kinase activity positively control ets degradation proteasome control seem exert fine mechanism judged sensitivity ets level partially decrease cdk cyclin level achieve mcf observe star respectively finding offer straightforward explanation already report regulation ets driven transcription c raf response cdk silence bring evidence cdk cyclin directly control ets degradation phosphorylation two neighbor serine may form noncanonical trcp phosphodegron dsmcpas none two serine precede proline conform usual cdk phosphorylation site however multiple call transcriptional cdks cdk cdk may belong phosphorylate variety motif non proline direct fashion especially context molecular dock substrate hypothesize high affinity interaction cdk point domain ets c would allow dock mediate phosphorylation atypical site control ets degradation involves number player include apc cdh cullin ring ligase crl formal identification ubiquitin ligase involve cdk cyclin pathway elucidation concert action ubiquitin ligases regulate ets degradation require far study result present number significant biological medical implication first shed light regulation ets play important role development frequently deregulate many second result contribute understand molecular mechanism cause tamoxifen resistance associate reduce cdk expression level suggest like cdk cyclin could predictive clinical marker hormone therapy response er positive breast third finding offer interest hypothesis molecular mechanism underlie star syndrome ets transgenic mouse less twofold overexpression ets present severe cranial abnormality observe star could thus cause least part increase ets protein level another expect consequence enhance ets expression level would decrease risk develop certain type increase risk develop others study various mouse model include model syndrome three copy ets exist reveal ets dosage repress promote growth hence ets exerts noncell autonomous function intringuingly one star identify far diagnose nephroblastoma finally finding facilitate general exploration biological function cdk particular role control division previous study suggest either positive role cycle control suppressive activity severe growth retardation exhibit star strongly suggests cdk cyclin play important role control proliferation previous sectionnext sectionmaterials methodscloning cdk cyclin cdna plasmid construction tamoxifen response analysis quantitative rt pcr mass spectrometry experiment antibody production detailed si material method yeast two hybrid interaction assay perform yeast interaction mating assay previously described mammalian culture transfections grow human hek mcf dmem supplement vol vol fbs invitrogen grow lymphoblastoid rpmi glutamax supplement vol vol fbs transfected hek mcf lipofectamine invitrogen plasmid lipofectamine rnaimax invitrogen sirnas jetprime polyplus plasmid sirnas combination accord manufacturer instruction transfected lymphoblastoid electroporation neon invitrogen ets stability study treat mcf h transfection mg fisher scientific h coimmunoprecipitation western blot experiment collect scrap pb centrifugation lymphoblastoid lysed sonication lysis buffer contain mm glycerophosphate mm p nitrophenylphosphate mm n morpholino propanesulfonic acid mop ph mm egta mm mgcl mm na vanadate mm naf mm phenylphosphate nonidet p protease inhibitor mixture roche spun lysates min g c collect supernatant determine protein content bradford assay perform immunoprecipitation experiment g total protein lysis buffer precleared lysates l protein g agarose bead incubate h c rotate wheel add g antibody supernatant incubate h c rotate wheel add l protein g agarose bead incubate h c rotate wheel collect bead centrifugation g c wash three time bead buffer contain mm tris ph mm naf mm nacl mm edta mm egta nonidet p protease inhibitor coktail roche directly add sample buffer wash pellet heat denature protein ran sample bi tris sd page transfer protein onto hybond nitrocellulose membrane process blot accord standard procedure western blot experiment follow primary antibody anti myc abcam ab anti v invitrogen r anti tubulin santa cruz biotechnology b anti cdk covalab pab p santa cruz biotechnology c anti cycm home make dilution covalab pab p dilution anti raf santa cruz biotechnology c anti ets santa cruz biotechnology c anti flag sigma f anti actin sigma hrp couple anti goat santa cruz biotechnology sc dilution anti mouse bio rad dilution anti rabbit bio rad secondary antibody reveal blot enhance chemiluminescence supersignal west femto thermo scientific production purification recombinant protein gst cdk kd strepii cycm generate recombinant bacmids dh bac escherichia coli baculoviruses sf bac bac system described provider invitrogen infect sf gst cdk gst cdk kd produce virus coinfected strepii cycm produce virus collect h infection purify gst fusion protein spun ml resuspend pellet ml lysis buffer pb mm nacl nonidet p mm naf mm glycerophosphate mm na vanadate contain protease inhibitor mixture roche lysed sonication spun lysate min g collect soluble fraction add ml glutathione sepharose matrix incubate h c wash four time lysis buffer one time kinase buffer see finally resuspend bead l kinase buffer contain vol vol glycerol storage ets transform origami de novagen ets expression vector induced expression mm isopropyl thiogalactopyranoside h c purify ets spun ml resuspend pellet ml lysis buffer pb mm nacl mm imidazole mm dtt nonidet p contain protease inhibitor mixture without edta roche lysed bar disruptor spun lysate min g collect soluble fraction add l cobalt bead thermo scientific h incubation c rotate wheel wash four time lysis buffer elute incubate bead min elution buffer pb mm imidazole ph contain protease inhibitor mixture spun g collect elute protein protein kinase assay mixed glutathione sepharose bead harbor gst cdk wt kd either monomeric complexed strepii cycm bsa mm dtt atp ci atp p histone h ets add kinase buffer mm tris hcl mm mgcl mm egta mm dtt heparin ph total volume l incubate reaction min c add laemli sample buffer heat denature sample ran bi tris sd page cut gel slice detect gst cdk strepii cycm western blotting stain gel slice contain substrate coomassie r bio rad dry detect incorporate radioactivity autoradiography identify four unrelated girl anogenital renal malformation dysmorphic facial feature normal intellect syndactyly toe similar combination feature report previously mother daughter pair table supplementary note online author note clinical overlap townes brocks syndrome suggest phenotype represent separate autosomal dominant entity mim define cardinal feature syndrome characteristic facial appearance apparent telecanthus broad tripartite nasal tip variable syndactyly toe hypoplastic labium anal atresia urogenital malformation h observe variety feature table clinical molecular characterization star syndrome clinical molecular characterization star syndrome f facial appearance case apparent telecanthus dysplastic ear thin upper lip c e toe syndactyly b f case illustrate recognizable feature star syndrome specific parental consent obtain publication photograph anal atresia hypoplastic labium g h x ray film foot case four ray left delta shape th th metatarsal right h compare clinical picture array cgh data log ratio represent copy number loss six probe span kb one probe position within fam deletion remove part functional gene j schematic structure fam position fam five cod exon box cyclin domain green encode exon horizontal arrow indicates deletion extend case include exon whereas horizontal line exon indicates deletion found case remove exon sequence pink horizontal bar box indicate amplicons qpcr sequence one alternative exon amplicon indicate space constraint dupt case result immediate stop codon g g splice case predict deleterious alter conserve splice donor acceptor site intron respectively full size image kb table clinical feature star syndrome case table clinical feature star syndrome case full table basis phenotypic overlap townes brocks okihiro feingold syndrome analyze sall ref sall ref mycn found gene supplementary method online next carry genome wide high resolution oligonucleotide array comparative genomic hybridization cgh analysis supplementary method genomic dna severely affected individual case low lid coloboma epilepsy syringomyelia identify heterozygous deletion kb xq remove exon fam j real time pcr confirm deletion child exclude unaffected parent supplementary online supplementary method supplementary table online cgh customize oligonucleotide array enrich probe xq follow breakpoint clone define exact deletion size bp g del chromosome x ncbi build j supplementary online deletion remove cod region exon well intron bp bp intron bp sequence include utr entire krt p pseudogene ncbi gene id paternity proven routine method find deletion overlap fam available copy number variation cnv database subsequently carry qpcr analysis three affected individual case mother daughter pair literature case case detect de novo heterozygous deletion kb overlap exon supplementary b online xq target array cgh breakpoint clone identify deletion bp g del chromosome x ncbi build j supplementary remove bp intron exon include utr bp sequence found heterozygous fam point remain case j supplementary supplementary method supplementary table case identify g affect splice donor site intron case identify frameshift dupt immediately result premature stop codon n xfsx case detect g alters splice acceptor site intron validate point deletion independent round pcr sequence qpcr confirm paternity de novo status point deletion sporadic case none see dna unaffected female control large deletion involve fam found unrelated array cgh investigation analyze x chromosome inactivation supplementary method supplementary online found complete skew x inactivation case almost complete skew case suggest carry active x chromosome growth disadvantage fetal development rt pcr rna lymphoblastoid case supplementary find aberrant splice product additional evidence mutate allele inactivate furthermore fam subject x inactivation case parental origin deletion could determine result lack informative snp case mother case give birth two boy clinically unaffected sample available cannot exclude condition lethal male fetal loss report family function fam unknown gene consists five cod exon bp cod region encodes protein amino acid genbank list mrna length bp reference sequence nm expression gene est data found adult tissue include kidney colon cervix uterus heart ncbi expression viewer unigene h expression note list tissue well embryo fetus gene homologous fam ncbi homologene found x chromosome chimpanzee dog zebrafish similar gene chromosome however mouse rat true homologs specie similar intronless gene chromosome mouse rat likely arise retrotransposon insertion event murine x chromosome flank gene atp b dusp conserve remnant fam sequence detect fam contains cyclin box fold domain protein binding domain found cyclins role cycle transcription control human phenotype result cyclin gene yet report homozygous knockout mouse ccnd encode cyclin viable small reduce lifespan dystrophic change retina likely result decrease proliferation degeneration photoreceptor embryogenesis cyclin colocalizes sall nucleus protein cooperatively mediate transcriptional repression phenotype case overlap considerably townes brocks syndrome cause sall carry co immunoprecipitation find sall sall would interact fam manner similar observe sall cyclin found fam interacts sall sall supplementary online support hypothesis fam sall participate developmental pathway fam lead star syndrome growth retardation case table retinal abnormality three case reminiscent reduce body size retinal anomaly cyclin knockout mouse therefore proliferation defect might partly responsible star syndrome address question carry knockdown fam mrna follow proliferation assay transfection hek three different fam specific rnai oligonucleotides result significant reduction fam mrna expression proliferation transfected supplementary method supplementary online support link fam proliferation found loss function fam result rather homogeneous clinical phenotype additional anomaly case likely result effect kb deletion expression neighbor gene possibly atp b dusp however cannot exclude homogeneous phenotype result ascertainment bias fam include missense change could result broader spectrum malformation gene cause overlap phenotype star syndrome townes brocks syndrome seem act pathway note mycn gene mutate feingold syndrome direct regulator cyclin ref thus worth explore whether phenotypic similarity feingold star syndrome might explain direct regulation fam mycn fam locate approximately mb centromeric mecp xq duplication overlap mecp fam described associate clinical phenotype female deletion overlap mecp fam observe date although gene fam mecp implicate brain development fam mecp gene region know result x link dominant phenotype thus deletion gene allele might lethal male female</td>\n",
       "      <td>0</td>\n",
       "      <td>0</td>\n",
       "      <td>0</td>\n",
       "      <td>0</td>\n",
       "      <td>0</td>\n",
       "      <td>0</td>\n",
       "      <td>0</td>\n",
       "      <td>...</td>\n",
       "      <td>0</td>\n",
       "      <td>0</td>\n",
       "      <td>0</td>\n",
       "      <td>0</td>\n",
       "      <td>0</td>\n",
       "      <td>0</td>\n",
       "      <td>0</td>\n",
       "      <td>0</td>\n",
       "      <td>0</td>\n",
       "      <td>0</td>\n",
       "    </tr>\n",
       "    <tr>\n",
       "      <th>1</th>\n",
       "      <td>1</td>\n",
       "      <td>2</td>\n",
       "      <td>abstract background non small lung nsclc heterogeneous group disorder number genetic proteomic alteration c cbl e ubiquitin ligase adaptor molecule important normal homeostasis determine genetic variation c cbl relationship receptor tyrosine kinase egfr met functionality nsclc method finding archival formalin fix paraffin embed ffpe extract genomic dna c cbl occur somatic fashion lung c cbl mutually exclusive met egfr however independent p kras normal pairwise analysis significant loss heterozygosity loh c cbl locus n none sample reveal remain copy c cbl c cbl loh positively correlate egfr met observe sample select c cbl somatic n h q e w obtain caucasian taiwanese african american sample respectively transfected nsclc line increase viability motility conclusion take overall rate c cbl combination somatic missense loh clear c cbl highly mutate lung may play essential role lung tumorigenesis metastasis go introduction u alone year approximately people diagnose lung succumb disease number roughly equivalent combine mortality rate breast prostate colon liver kidney melanoma addition prognosis usually poor five year survival rate less significant ethnic difference lung outcome bad black compare white gender difference strike woman significantly well prognosis compare men number genetic alteration occur lung example nsclc kras p egfr met identify many pathway especially receptor tyrosine kinase rtks control c cbl cbl casitas b lineage lymphoma mammalian gene locate human chromosome q involve signal protein ubiquitination cbl protein belong ring finger class ubiquitin ligases e three homologues c cbl cbl b cbl c cbl cbl b gene ubiquitously express high level hematopoietic tissue c cbl consists four region encode functionally distinct protein domain n terminal tyrosine kinase binding tkb domain linker region catalytic ring finger domain proline rich region c terminal ubiquitin associate uba domain overlap leucine zipper lz domain tkb ring finger domain essential ligand induced ubiquitination rtks ring finger domain require recruitment e ubiquitin conjugate enzyme tkb domain include four helix bundle h calcium biding ef hand modify sh domain bind phosphotyrosine residue addition proline rich region c cbl associate sh domain grb indirectly recruit c cbl rtks via grb adaptor protein c cbl bind egfr act e target egfr ubiquitination degradation furthermore cbl desensitizes egf signal opposes cellular proliferation induced egf egf activation appear activate tyrosine kinase src phosphorylates c cbl turn activates ubiquitination degradation egfr recent study defective endocytosis egfr characterize deletion mutant point l r whereby association c cbl subsequent ubiquitination impaired recently first human c cbl report acute myeloid leukemia aml r q inhibits fm like tyrosine kinase flt internalization ubiquitination e activity important oncogenesis c cbl dual separate function signal transduction molecule previously c cbl important binding crkl bcr abl hematopoietic bind modulate function cytoskeleton binding protein like talin paxillin tkb domain important binding number molecule function signal transduction give critical role cbl normal homeostasis hypothesize might mutate lung study report novel c cbl somatic n h q e w caucasian taiwanese african american lung respectively express nsclc line lead increase proliferation motility c cbl occur without met egfr mutually exclusive loh c cbl locus additionally c cbl loh associate either met egfr thus hypothesize c cbl might contribute oncogenic potential met egfr lung go method ethic statement write consent research human subject obtain institutional review board university chicago cover research perform laboratory follow contact information institutional review board university chicago mcgiffert hall woodlawn ave nd floor chicago il write inform consent receive whose tissue sample study tissue sample lung tissue pair adjacent normal lung tissue obtain caucasian african american taiwanese nsclc recruit university chicago hospital chicago usa caucasian african american taipei veteran general hospital taiwan taiwanese obtain appropriate institutional review board permission inform consent sample men woman unknown age diagnosis range year term type adenocarcinoma squamous carcinoma large carcinoma stage stage ii stage iii stage iv table culture human non small lung carcinoma h maintain dmem rpmi respectively human embryonic kidney culture dmem medium supplement fetal bovine serum unit ml penicillin g ml streptomycin invitrogen carlsbad ca culture c humidify incubator contain co c cbl gene mutational analysis exon c cbl gene individually amplify polymerase chain reaction pcr primer list table pcr condition cycle c minute cycle c second c second c minute one cycle c minute pcr product treat exosap usb corporation cleveland oh sequence big dye terminator chemistry apply biosystems foster city ca sequence perform forward cod strand confirmation c cbl alteration perform sequence reverse strand well chromatogram analyze surveyor v softgenetics state college pa plasmid construct site direct mutagenesis wild type c cbl cdna insert subcloned paltermax expression vector xhoi sali restriction enzyme site promega madison wi parental plasmid paltermax c cbl tkb domain double n h point q e c terminal point w c cbl create follow primer gctggcgctaaagaataacccaccttatatcttagac ctaccagatacctaccagtatctccgtactatcttgtc double n h ctttacccgactctttgagccctggtcctctttgc q e cagctcctcctttggctgattgtctctggatggtgatc w along complementary primer quickchange site direct mutagenesis xl kit stratagene la jolla ca accord manufacturer instruction construct confirm point standard dna sequence strand loss heterozygosity loh analysis five microsatellites chromosome q within kb downstream c cbl gene control marker p select analysis table establish microsatellite marker respective primer sequence select geneloc database http genecards weizmann ac il geneloc index shtml weizmann institute science rehovot israel primer custom design forward primer fluorescently label end fam pet ned vic apply biosystems primer anneal temperature duplex score evaluate nist primer tool http yellow nist gov dnaanalysis primertoolspage national institute standard technology gaithersburg md primer verify perform pcr control dna isolated tk resolve product agarose gel band visualize uv transilluminator genomic dna extract sample pair normal lung tissue primer grouped multiplex combination table marker serve internal control check consistency pcrs peak capillary electrophoresis multiplex pcrs carry volume l contain l genomic dna ng primer total primer pair dntps x pcr buffer contain mgcl u taq dna polymerase pcr perform abi geneamp pcr system follow condition min c cycle sec c min c min c min c pcr product separate capillary electrophoresis abi xl dna analyzer chromatogram analyze peak scanner genemapper software apply biosystems allelic alteration area peak produce dna pcr product quantify allele ratio allelic area calculate pair normal dna sample qloh allelic ratio peak divide allelic ratio pair normal sample c cbl least one q marker least two separate experiment sample consider allelic imbalance interpret loh sample evaluate least two separate experiment sample prospective loh c cbl repeat third time include new control marker bax locus data chromosome verify integrity sample dna transfection c cbl construct line transfected fugene hd roche nutley nj reagent accord manufacturer instruction eight g plasmid dna contain either insert empty vector wild type c cbl n h c cbl q e c cbl w cbl transfection well culture plate harvest h transfection analyze expression c cbl knockdown c cbl knockdown perform lentiviral transduction mission lentiviral transduction particle sigma aldrich st louis mo per manufacturer instruction briefly h well seed well plate infect follow day c cbl lentiviral shrna construct generate stable c cbl knockdown line select day g ml puromycin c cbl level determine whole lysates immunoblotting anti cbl antibody santa cruz biotechnology santa cruz ca viability assay transfected described transfection assay forty eight hour transfection viability assess trypan blue exclusion wound heal assay seed well plate culture h confluent medium change transfected described transfection assay twelve hour transfection straight scratch make across layer ml pipette tip gently wash pb remove cellular debris medium replace photograph take wound region every h h western blot analysis forty eight hour transfection collect wash twice x pb lysed ice cold lysis buffer tris hcl ph nacl deoxycholic acid mm edta np mm dtt mm phenylmethylsulfonyl fluoride g ml leupeptin g ml aprotinin minute lysate centrifuge rpm minute c protein content supernatant measure total lysates g well separate sd page electrophoresis gel transfer onto nitrocellulose membrane whatman piscataway nj membrane block non fat dry milk phosphate buffer saline contain tween pbst x pb tween h room temperature incubate appropriate primary antibody c overnight membrane wash three time pbst probed appropriate horseradish peroxidase hrp conjugate secondary antibody h room temperature membrane wash three time pbst band visualize western blot chemiluminescence reagent biorad valencia ca chemidoc gel documentation system biorad valencia ca antibody obtain santa cruz biotechnology follow dilution c cbl c met egfr ubiquitin ha actin flow cytometry cycle analysis carry flow cytometry approximately grown medium contain fbs harvest trypsin edta treatment wash x pb three time fix ice cold ethanol h wash cold pb stain solution contain g ml propidium iodide g ml rnase triton x minute dark cycle analysis perform guava pca flow cytometer guava technology millipore billerica ubiquitin ligase activity maintain culture dmem supplement fbs penicillin unit ml streptomycin g ml transfected g egfr pcdna g ha tag c cbl construct indicate calcium phosphate accord manufacturer protocol profection promega madison wi twenty four hour post transfection starve overnight dmem supplement fbs treat without egf ng ml min collect wash two time ice cold pb contain mm sodium orthovanadate lysed ice cold lysis buffer mm tris hcl ph mm nacl mm edta triton x glycerol mm sodium orthovanadate protease inhibitor lysates clear debris centrifugation g min c egfr immunoprecipitations perform g clear lysate ng rabbit anti egfr protein g plus sepharose overnight c precipitation wash time lysis buffer boil laemmli buffer elution immunoblotted anti ubiquitin egfr twenty microgram clear lysate immunoblotted c cbl construct anti ha statistical analysis rate different group compare fisher exact test continuous variable group comparison perform analysis variance anova follow sidak adjustment multiple comparison experiment involve repeat measurement time analyze repeat measure anova greenhouse geisser adjustment degree freedom analysis conduct stata v software stata corporation college station tx go result c cbl gene lung investigate role c cbl lung analyze genomic dna pair normal sample drawn multiple ethnicity lung sample represent caucasian n african american n taiwanese n lung design pair primer sequence cod region c cbl gene span exon table identify unique somatic c cbl exon among different variation l f know snp r exon detect importantly eight novel non synonymous confirm sequence strand c cbl genomic dna obtain lung sample table moreover none detect correspond normal tissue indicate somatic four synonymous single nucleotide variation snvs identify far study table table c cbl analysis lung tissue three novel non synonymous locate tkb tyrosine kinase binding domain n h q e one ring finger domain v one proline rich region del atg three c terminal region w r k c cbl protein b model chromatogram representative sample c cbl loh non small lung q loh c cbl gene pair lung normal lung tissue sample taiwanese n investigate loh eight loh c cbl locus chromosome sample reveal normal allelic contribution microsatellite marker c c cbl different ethnic group c cbl double mutant n h found overall rate c cbl lung frequency c cbl high large carcinoma follow squamous carcinoma least observe adenocarcinoma ad although rate statistically significant p rate among caucasian ad sq lc african american ad sq lc ad sq lc taiwanese population additionally two taiwanese lung one squamous one adenocarcinoma know snp l f ethnic difference statistically significant however power detect difference low met egfr co associate c cbl alteration since east asian lung high frequency egfr met lung determine egfr met taiwanese cohort sample compare result observe c cbl alteration loh sample test find overlap c cbl c cbl loh three c cbl mutant include know l f snp r one sample met n egfr l r among sample loh c cbl locus additional met n egfr exon deletion twenty six sample neither c cbl c cbl loh c cbl c cbl loh among sample met n l w egfr exon deletion l r met egfr thus rate met egfr among loh c cbl locus similar see without c cbl loh p identifiable c cbl met egfr represent analyze taiwanese cohort conversely taiwanese lung identifiable either c cbl met egfr combination three gene additionally determine p kras taiwanese cohort two p kras detect single kras overlap one p egfr exon deletion c cbl p sample c cbl loh concurrent met n thus taiwanese sample analyze p kras c cbl mutually exclusive data c cbl relationship met egfr lung cellular function c cbl alteration context lung tumorigenesis e activity intact mutant c cbl protein investigate whether different c cbl affect e activity egfr chosen model substrate c cbl e function c cbl mutant test enhance ubiquitination activate egfr similar wild type c cbl protein result demonstrates catalytic activity c cbl mutant impaired egfr substrate ubiquitination viability expression cycle analysis various c cbl mutant b effect lung viability effect representative c cbl mutant three ethnic background lung viability line determine n h double q e w identify lung sample obtain caucasian taiwanese african american respectively described method c cbl wild type wt three mutant express clone paltermax vector express relatively low basal level endogenous c cbl data transfection efficiency comparable different group number transfected c cbl wild type construct compare control transfected empty vector transfected n h q e w c cbl mutant construct result increase number viable high respectively relative empty vector control transfected significantly different wild type construct p p p respectively b relative level c cbl protein whole lysates prepared sample obtain parallel experiment determine c cbl protein level sample represent untransfected empty vector transfected comparable represent c cbl wt three c cbl mutant comparable c c effect cycle investigate increase viability different c cbl mutant due increase cellular proliferation cycle analysis perform transfected c cbl wt three different mutant n h q e w empty vector transfectant control forty eight hour transfection cycle analysis perform described material method significant change subg g phase cycle among different mutant compare wt construct p p p respectively g phase cycle increase number three mutant n h q e w compare wt difference statistically significant p effect motility investigate effect expression three c cbl mutant migration carry wound heal assay described material method closing scratch wound monitor h sample represent transfected mutant wound gap much small see sample represent transfected c cbl wt p determine rate wound closure five group h wild type c cbl transfectants open wound n h q e w mutant open wound respectively p b c cbl affect wound heal e c cbl knockdown increase viability hypothesize loh see sample could lead decrease expression c cbl thus test effect c cbl knockdown lung compare h lung express relatively high level endogenous c cbl data c cbl expression knock lentiviral construct express c cbl specific shrna compare result transduce scramble shrna result identify several clone reveal vary degree c cbl knockdown different set c cbl lentiviral shrna knockdown efficiency clone test clone chosen far experiment equal amount seed well plate proliferation measure various time result depict b expect number increase time dependent fashion relative scramble shrna control span h p b cycle phase h knock c cbl shrna look compare scramble shrna discernable difference two construct different phase cycle data knockdown c cbl shrna increase proliferation go discussion result demonstrate c cbl somatically mutate loh lung significantly contribute enhance viability motility high prevalence loh respect c cbl lung harbor met egfr present study demonstrate occurrence c cbl lung especially different ancestral variation c cbl recently report juvenile myelomonocytic leukemia myeloid malignancy aml study r q locate junction ring finger linker region inhibit fm like tyrosine kinase flt internalization ubiquitination thus contribute gain function rtk addition h c r l p mapped ring finger domain linker region c cbl require e activity additionally homozygous ring finger domain c cbl gene described result acquire uniparental disomy upd important note result indicate loh q locus mutually exclusive missense c cbl somatic heterozygous aml lead abrogation e activity lead prolong rtk activation addition mutant locate linker region surround ring finger domain exhibit enhance akt signal response cytokine stimulation addition nh neither ring finger linker region cause transformation however certain perturbs ubiquitination others affect receptor recycle prolong kinase activity report c cbl mapped ring finger domain tkb domain proline rich domain c terminal region none mapped linker region report aml study described addition mutant detect found different ethnic background example n h q e w detect caucasian taiwanese african american respectively result point difference lung genetic polymorphism among different race interestingly large disparity african american ethnic population lung previously low frequency egfr met african american compare taiwanese caucasian study number african american sample analyze relatively found unique ethnicity would behoove u far study genetic alteration occur determine target therapeutic african american result provide evidence importance c cbl tumorigenesis potential signal prediction base aml data would v ring finger domain would affect e activity important determine binding partner c cbl tkb domain proline rich domain previously tkb domain bind growth factor receptor important determine cross binding mutant met egfr would important future look fluorescence situ hybridization copy number change c cbl lung c cbl play important role regulate rtk mediate signal k poly ubiquitination subsequent downregulation rtks follow lysosomal degredation mono ubiquitination ubiquitinated k link chain substrate c cbl may lead enhancement biological biochemical function review hermann analyze study point fact e activity c cbl egfr intact egfr level various mutant remain multiple kinase rtks non rtks could act upon c cbl include erbs pdgfr fm met c kit vegfr flt ron fgfr ir well syk fyn lck fgr lyn c abl lung relevant substrate c cbl term degradation signal transduction yet identify observation c cbl somatic especially n h q e w increase viability motility agreement physiological role cbl regulation apoptosis differentiation identify drosophila significant previously activate c cbl downregulates egfr signal decrease cellular proliferation migration breast line although role c cbl negative regulation rtks well substantiate thereby suggest natural suppressor study reveal suppressor promote activity depend type c cbl number allele c cbl locus agreement three c cbl mutant described appear growth metastasis promote property although mutant outside ring finger linker region c cbl downstream effect significant cause increase proliferation migration substrate affected know yet raise possibility cellular function c cbl independent ubiquitin ligase activity area currently investigate oncogenic nature rtks addiction growth signal give cluster c cbl egfr met possible transform effect c cbl likely combinatorial effect three loh c cbl found significant number sample harbor met egfr fact lung sample likely c cbl additional likely harbor c cbl related loh make c cbl highly mutate molecule lung since loh alone enough cause transform event associate met egfr locus yet another rtk discuss may play role carcinogenesis predict loh c cbl result haploinsufficiency downplays rtk ubiquitination lead hyperactivity rtks however whether sufficient cause tumorigenesis remains determine consistent hypothesis fact c cbl mouse increase kinase activity lymphocyte sufficient formation c cbl loh could lead increase expression c cbl allele compensate loss allele alternately could form synergy work reduce c cbl level mutate receptor exacerbate phenotype alone previous study lab others east asian lung relatively high frequency gain function rtks egfr met cohort japanese activate met identify splice region deletes juxtamembrane domain involve e activity c cbl study found activation met mutually exclusive egfr kras gene fail detect significant number lung sample obtain african american n caucasian n one met identify group whereas egfr identify african american caucasian cohort respectively egfr earlier identify one key affect lung adenocarcinoma comprehensive study study encompasses different histology nsclc however publish series find c cbl met unlike study encompass different subtypes nsclc important note recently met lung majority germline report earlier c cbl small cohort taiwanese lung sample effort understand ethnic difference lung oncogenome look pax transcription factor pax pax highly express lung however preferential expression gene lung sample african american study relatively high frequency c cbl lung especially large type among caucasian particularly among african american therefore propose c cbl efficacious target lung african american need far substantiate important prognosis african american lung especially men much poorer compare caucasian counterpart conclusion result present study demonstrate c cbl frequently mutate even lose lung result support role c cbl mutant independent ubiquitination activity give relatively high rate c cbl well rtks met egfr likely combine effect could synergistic promote tumorigenesis</td>\n",
       "      <td>0</td>\n",
       "      <td>0</td>\n",
       "      <td>0</td>\n",
       "      <td>0</td>\n",
       "      <td>0</td>\n",
       "      <td>0</td>\n",
       "      <td>0</td>\n",
       "      <td>...</td>\n",
       "      <td>0</td>\n",
       "      <td>0</td>\n",
       "      <td>0</td>\n",
       "      <td>0</td>\n",
       "      <td>0</td>\n",
       "      <td>0</td>\n",
       "      <td>0</td>\n",
       "      <td>0</td>\n",
       "      <td>0</td>\n",
       "      <td>0</td>\n",
       "    </tr>\n",
       "  </tbody>\n",
       "</table>\n",
       "<p>2 rows × 4325 columns</p>\n",
       "</div>"
      ],
      "text/plain": [
       "   id  class  \\\n",
       "0   0      1   \n",
       "1   1      2   \n",
       "\n",
       "                                                                                                                                                                                                                                                                                                                                                                                                                                                                                                                                                                                                                                                                                                                                                                                                                                                                                                                                                                                                                                                                                                                                                                                                                                                                                                                                                                                                                                                                                                                                                                                                                                                                                                                                                                                                                                                                                                                                                                                                                                                                                                                                                                                                                                                                                                                                                                                                                                                                                                                                                                                                                                                                                                                                                                                                                                                                                                                                                                                                                                                                                                                                                                                                                                                                                                                                                                                                                                                                                                                                                                                                                                                                                                                                                                                                                                                                                                                                                                                                                                                                                                                                                                                                                                                                                                                                                                                                                                                                                                                                                                                                                                                                                                                                                                                                                                                                                                                                                                                                                                                                                                                                                                                                                                                                                                                                                                                                                                                                                                                                                                                                                                                                                                                                                                                                                                                                                                                                                                                                                                                                                                                                                                                                                                                                                                                                                                                                                                                                                                                                                                                                                                                                                                                                                                                                                                                                                                                                                                                                                                                                                                                                                                                                                                                                                                                                                                                                                                                                                                                                                                                                                                                                                                                                                                                                                                                                                                                                                                                                                                                                                                                                                                                                                                                                                                                                                                                                                                                                                                                                                                                                                                                                                                                                                                                                                                                                                                                                                                                                                                                                                                                                                                                                                                                                                                                                                                                                                                                                                                                                                                                                                                                                                                                                                                                                                                                                                                                                                                                                                                                                                                                                                                                                                                                                                                                                                                                                                                                                                                                                                                                                                                                                                                                                                                                                                                                                                                                                                                                                                                                                                                                                                                                                                                                                                                                                                                                                                                                                                                                                                                                                                                                                                                                                                                                                                                                                                                                                                                                                                                                                                                                                                                                                                                                                                                                                                                                                                                                                                                                                                                                                                                                                                                                                                                                                                                                                                                                                                                                                                                                                                                                                                                                                                                                                                                                                                                                                                                                                                                                                                                                                                                                                                                                                                                                                                                                                                                                                                                                                                                                                                                                                                                                                                                                                                                                                                                                                                                                                                                                                                                                                                                                                                                                                                                                                                                                                                                                                                                                                                                                                                                                                                                                                                                                                                                                                                                                                                                                                                                                                                                                                                                                                                                                                                                                                                                                                                                                                                                                                                                                                                                                                                                                                                                                                                                                                                                                                                                                                                                                                                                                                                                                                                                                                                                                                                                                                                                                                                                                                                                                                                                                                                                                                                                                                                                                                                                                                                                                                                                                                                                                                                                                                                                                                                                                                                                                                                                                                                                                                                                                                                                                                                                                                                                                                                                                                                                                                                                                                                                                                                                                                                                                                                                                                                                                                                                                                                                                                                                                                                                                                                                                                                                                                                                                                                                                                                                                                                                                                                                                                                                                                                                                                                                                                                                                                                                                                                                                                                                                                                                                                                                                                                                                                                                                                                                                                                                                                                                                                                                                                                                                                                                                                                                                                                                                                                                                                                                                                                                                                                                                                                                                                                                                                                                                                                                                                                                                                                                                                                                                                                                                                                                                                                                                                                                                                                                                                                                                                                                                                                                                                                                                                                                                                                                                                                                                                                                                                                                                                                                                                                                                                                                                                                                                                                                                                                                                                                                                                                                                                                                                                                                                                                                                                                                                                                                                                                                                                                                                                                                                                                                                                                                                                                                                                                                                                                                                                                                                                                                                                                                                                                                                                                                                                                                                                                                                                                                                                                                                                                                                                                                                                                                                                                                                                                                                                                                                                                                                                                                                                                                                                                                                                                                                                                                                                                                                                                                                                                                                                                                                                                                                                                                                                                                                                                                                                                                                                                                                                                                                                                                                                                                                                                                                                                                                                                                                                                                                                                                                                                                                                                                                                                                                                                                                                                                                                                                                                                                                                                                                                                                                                                                                                                                                                                                                                                                                                                                                                                           text  \\\n",
       "0  cyclin dependent kinase cdks regulate variety fundamental cellular process cdk stand one last orphan cdks activate cyclin identify kinase activity reveal previous work cdk silence increase ets v ets erythroblastosis virus e oncogene homolog driven activation mapk pathway confers tamoxifen resistance breast precise mechanism cdk modulates ets activity generally function cdk remain elusive demonstrate cdk cyclin dependent kinase identify cyclin activate cyclin cyclin orphan cyclin product fam whose cause star syndrome human developmental anomaly whose feature include toe syndactyly telecanthus anogenital renal malformation star syndrome associate cyclin mutant unable interact cdk cyclin silence phenocopies cdk silence increase c raf confer tamoxifen resistance breast cdk cyclin phosphorylates ets vitro positively control ets degradation proteasome ets protein level increase derive star increase attributable decrease cyclin level altogether result reveal additional regulatory mechanism ets play key role development shed light molecular mechanism underlie star syndrome cyclin dependent kinase cdks play pivotal role control number fundamental cellular process human genome contains gene encode protein consider member cdk family owe sequence similarity bona fide cdks know activate cyclins although discover almost ago cdk remains one two cdks without identify cyclin partner knowledge gap largely impede exploration biological function cdk act positive cycle regulator suppressor others cdk interacts ets v ets erythroblastosis virus e oncogene homolog transcription factor inhibits transcriptional activity unknown mechanism cdk knockdown derepresses ets increase expression c raf protein kinase activates mapk pathway induces resistance mcf tamoxifen deorphanize cdk identify cyclin product fam binding partner gene predict absence truncation cyclin associate star syndrome whose feature include toe syndactyly telecanthus anogenital renal malformation heterozygous female however function cyclin pathogenesis star syndrome remain unknown recombinant cdk cyclin heterodimer active protein kinase phosphorylates ets vitro cyclin silence phenocopies cdk silence increase c raf phospho erk expression level induce tamoxifen resistance estrogen receptor er breast cdk cyclin positively control ets degradation proteasome phosphorylation two neighbor serine finally detect increase ets expression level derive star demonstrate attributable decrease cyclin expression level observe previous sectionnext sectionresultsa yeast two hybrid h screen unveiled interaction signal cdk mouse protein whose c terminal half present strong sequence homology human fam gene product whose propose name cyclin thus perform h mating assay determine whether human cdk interacts human cyclin c long cdk isoform p express bait protein produce strong interaction phenotype full length cyclin express prey protein detectable phenotype cyclin p cip cdi kap know binding partner cdks b cdk cdk produce h signal cyclin albeit notably weaker observe cdk b interaction phenotype observe full length cyclin cdk protein express bait prey respectively test different isoforms cdk cyclin originate alternative gene splice two truncate cyclin protein correspond hypothetical product two mutate fam gene found star syndrome none shorter isoforms produce interaction phenotype c new window download pptfig cdk cyclin form interaction complex schematic representation different protein isoforms analyze h assay amino acid number indicate black box indicate internal deletion red box indicates differ amino acid sequence compare cdk p b h assay set cdk protein express bait fusion lexa dna binding domain cdk interact protein express prey fusion b transcriptional activator peg pjg empty bait prey plasmid express lexa b respectively lacz reporter gene blue yeast indicative h interaction phenotype c h assay different cdk cyclin isoforms amino terminal region ets know interact cdk assayed western blot analysis myc cdk wt kd cycm v expression level transfected hek e western blot analysis myc cdk wt kd immunoprecipitates obtain anti myc antibody input correspond g total lysates obtain hek coexpressing myc cdk wt kd cycm v f western blot analysis immunoprecipitates obtain anti cdk antibody control goat antibody human breast mcf input corresponds g mcf total lysates low band doublet observe upper panel comigrates exogenously express untagged cdk thus corresponds endogenous cdk upper band doublet corresponds nonspecific signal demonstrate insensitivity either overexpression cdk see left lane silence cdk b another experiment longer gel migration next examine ability cdk cyclin interact express human e test wild type cdk wt kinase dead kd mutant bearing amino acid substitution abolishes atp binding express cyclin v myc cdk wt kd human embryonic kidney line hek expression level cyclin v significantly increase upon coexpression myc cdk wt kd lesser extent myc cdk wt kd increase upon coexpression cyclin v immunoprecipitated myc cdk protein detect presence cyclin cdk wt kd immunoprecipitates protein coexpressed pair wise e confirm observation detect presence myc cdk cyclin v immunoprecipitates b experiment confirm lack robust interaction cdk p isoform cyclin c detect interaction endogenous protein perform immunoprecipitations nontransfected mcf derive human breast cdk cyclin antibody detect cognate endogenous protein western blotting readily detect cyclin immunoprecipitates obtain cdk antibody control antibody f result confirm physical interaction cdk cyclin human unveil hypothesize cdk cyclin protein kinase activity produce gst cdk strepii cyclin fusion protein insect either individually combination observe gst cdk strepii cyclin copurified thus confirm interaction yet another cellular model perform vitro kinase assay purify protein histone h generic substrate histone h phosphorylation detect lysates coexpressing gst cdk strepii cyclin phosphorylation detect gst cdk strepii cyclin express alone strepii cyclin coexpressed gst cdk kd next investigate whether ets know interact cdk c phosphorylation substrate cdk cyclin detect strong phosphorylation ets gst cdk strepii cyclin purify heterodimer whereas phosphorylation detect gst cdk alone gst cdk kd strepii cyclin heterodimer b new window download pptfig cdk cyclin dependent protein kinase vitro protein kinase assay histone h lysates insect express different protein purify glutathione sepharose matrix capture gst cdk wt kd fusion protein alone complex str cycm fusion protein purify protein expression level analyze western blot top upper middle kinase activity determine autoradiography histone h whose add amount visualize coomassie stain low middle bottom b purify recombinant ets substrate cdk silence increase ets driven c raf transcription activate mapk pathway investigate whether cyclin involve regulatory pathway aim highly specific silence sirna pool mix four different sirnas low final concentration nm cdk cyclin sirna pool silence expression cognate target c interestingly cyclin sirna pool cause marked decrease cdk protein level b result suggest cyclin binding stabilizes cdk cyclin silence induced increase c raf protein mrna level b c phosphorylated erk erk protein level b similarly cdk silence expect effect cdk cyclin silence decrease sensitivity er mcf tamoxifen similar extent combine silence gene result high resistance drug c altogether observation demonstrate functional interaction cyclin cdk negatively control ets new window download pptfig cyclin silence regulates c raf expression western blot analysis endogenous cdk cyclin expression level mcf response sirna mediate gene silence b western blot analysis endogenous c raf expression level mcf response cdk cyclin silence quantification c quantitative rt pcr analysis cdk cyclin c raf mrna level response cdk upper cyclin low silence p p wish explore mechanism cdk cyclin control ets ets short live protein degrade proteasome straightforward hypothesis cdk cyclin positively control ets degradation thus examine impact cdk cyclin silence ets expression level silence cdk cyclin cause increase expression level exogenously express flag ets protein well endogenous ets protein increase attributable increase ets mrna level marginally fluctuate response cdk cyclin silence b examine expression level flag tag ets protein express alone combination myc cdk cdk kd without cyclin v flag ets readily detect express alone lesser extent coexpressed cdk kd however expression level dramatically decrease coexpressed cdk alone cdk cyclin b observation suggest endogenous cyclin level excess compare cdk mcf major decrease ets level observe upon cdk coexpression involves cdk kinase activity treatment coexpressing flag ets cdk cyclin proteasome inhibitor mg largely rescue flag ets expression level b new window download pptfig cdk cyclin control ets stability human derive western blot analysis endogenous ets expression level mcf response sirna mediate cdk cyclin silence quantification b b western blot analysis exogenously express flag ets protein level mcf cotransfected empty vector coexpressing myc cdk wt kd myc cdk cycm v latter treat h mg proteasome inhibitor proper expression cdk cyclin tag protein verify western blot analysis c western blot analysis expression level exogenously express flag ets wild type mutant protein mcf absence c response myc cdk cycm v expression quantification c mass spectrometry analysis recombinant ets phosphorylated cdk cyclin vitro reveal existence multiple phosphorylated residue among two neighbor phospho serine position may form phosphodegron confirm find compare phosphorylation level recombinant ets wt ets sasa protein mutant bearing alanine substitution two serine expect existence multiple phosphorylation site detect small reproducible significant decrease phosphorylation level ets sasa compare ets wt thus confirm ser ser phosphorylated cdk cyclin establish direct link ets phosphorylation cdk cyclin degradation examine expression level flag ets sasa absence cdk cyclin coexpression differ significantly flag ets contrary flag ets dbm bearing deletion n terminal destruction box previously involve apc cdh mediate degradation ets c however contrary flag ets wild type expression level flag ets sasa remain insensitive cdk cyclin coexpression altogether result suggest cdk cyclin directly control ets degradation phosphorylation two serine finally study lymphoblastoid line derive star syndrome bearing fam c g predict result aberrant splice accordance incomplete skew x chromosome inactivation previously found detect decrease expression level cyclin protein star line compare control lymphoblastoid line line precede observation detect increase expression level ets protein star line compare control examine quantitative rt pcr mrna expression level correspond gene star line decrease expression level cyclin mrna expression level ets mrna similar control line b demonstrate increase ets protein expression indeed result decrease cyclin expression observe star derive line express cyclin v line expression cause decrease ets protein level c new window download pptfig decrease cyclin expression star derive result increase ets protein level western blot analysis cyclin ets protein level star derive lymphoblastoid line control lymphoblastoid line derive healthy individual quantification b quantitative rt pcr analysis cyclin ets mrna level p c western blot analysis ets protein level star derive lymphoblastoid line transfected empty vector vector direct expression cyclin v another western blot reveal endogenously exogenously express cyclin level b quantification ets protein level c previous sectionnext sectiondiscussionin work unveil interaction cdk last orphan cdk discover pregenomic era cyclin cyclin associate human genetic disease far whose function remain unknown closest paralogs cdk within cdk family cdk protein interact l type cyclins interestingly closest paralog cyclins within cyclin family cyclin fact none shorter cdk isoforms interact robustly cyclin suggests alternative splice cdk gene play important role regulate cdk function functional relevance interaction cdk cyclin support different observation protein seem enhance stability judged increase expression level partner exogenously coexpressed much reduce endogenous cdk expression level observe response cyclin silence b cdk subject ubiquitin mediate degradation observation suggest cyclin protects cdk degradation cyclin partner cdk least mcf suggest cyclin stability enhance upon binding cdk independently kinase activity see cyclin c cdk uncover cyclin dependent cdk protein kinase activity vitro thus demonstrate protein name cdk sole basis amino acid sequence indeed genuine cyclin dependent kinase h assay reveal truncate cyclin protein correspond hypothetical product two star syndrome associate fam produce interaction phenotype cdk hence regardless whether mutate mrna undergo nonsense mediate decay suggest decrease cyclin mrna level star b give rise truncate cyclin protein female affected star syndrome must exhibit compromise cdk cyclin kinase activity least tissue specific developmental stage ets know interactor cdk phosphorylation substrate cdk cyclin vitro cdk cyclin kinase activity positively control ets degradation proteasome control seem exert fine mechanism judged sensitivity ets level partially decrease cdk cyclin level achieve mcf observe star respectively finding offer straightforward explanation already report regulation ets driven transcription c raf response cdk silence bring evidence cdk cyclin directly control ets degradation phosphorylation two neighbor serine may form noncanonical trcp phosphodegron dsmcpas none two serine precede proline conform usual cdk phosphorylation site however multiple call transcriptional cdks cdk cdk may belong phosphorylate variety motif non proline direct fashion especially context molecular dock substrate hypothesize high affinity interaction cdk point domain ets c would allow dock mediate phosphorylation atypical site control ets degradation involves number player include apc cdh cullin ring ligase crl formal identification ubiquitin ligase involve cdk cyclin pathway elucidation concert action ubiquitin ligases regulate ets degradation require far study result present number significant biological medical implication first shed light regulation ets play important role development frequently deregulate many second result contribute understand molecular mechanism cause tamoxifen resistance associate reduce cdk expression level suggest like cdk cyclin could predictive clinical marker hormone therapy response er positive breast third finding offer interest hypothesis molecular mechanism underlie star syndrome ets transgenic mouse less twofold overexpression ets present severe cranial abnormality observe star could thus cause least part increase ets protein level another expect consequence enhance ets expression level would decrease risk develop certain type increase risk develop others study various mouse model include model syndrome three copy ets exist reveal ets dosage repress promote growth hence ets exerts noncell autonomous function intringuingly one star identify far diagnose nephroblastoma finally finding facilitate general exploration biological function cdk particular role control division previous study suggest either positive role cycle control suppressive activity severe growth retardation exhibit star strongly suggests cdk cyclin play important role control proliferation previous sectionnext sectionmaterials methodscloning cdk cyclin cdna plasmid construction tamoxifen response analysis quantitative rt pcr mass spectrometry experiment antibody production detailed si material method yeast two hybrid interaction assay perform yeast interaction mating assay previously described mammalian culture transfections grow human hek mcf dmem supplement vol vol fbs invitrogen grow lymphoblastoid rpmi glutamax supplement vol vol fbs transfected hek mcf lipofectamine invitrogen plasmid lipofectamine rnaimax invitrogen sirnas jetprime polyplus plasmid sirnas combination accord manufacturer instruction transfected lymphoblastoid electroporation neon invitrogen ets stability study treat mcf h transfection mg fisher scientific h coimmunoprecipitation western blot experiment collect scrap pb centrifugation lymphoblastoid lysed sonication lysis buffer contain mm glycerophosphate mm p nitrophenylphosphate mm n morpholino propanesulfonic acid mop ph mm egta mm mgcl mm na vanadate mm naf mm phenylphosphate nonidet p protease inhibitor mixture roche spun lysates min g c collect supernatant determine protein content bradford assay perform immunoprecipitation experiment g total protein lysis buffer precleared lysates l protein g agarose bead incubate h c rotate wheel add g antibody supernatant incubate h c rotate wheel add l protein g agarose bead incubate h c rotate wheel collect bead centrifugation g c wash three time bead buffer contain mm tris ph mm naf mm nacl mm edta mm egta nonidet p protease inhibitor coktail roche directly add sample buffer wash pellet heat denature protein ran sample bi tris sd page transfer protein onto hybond nitrocellulose membrane process blot accord standard procedure western blot experiment follow primary antibody anti myc abcam ab anti v invitrogen r anti tubulin santa cruz biotechnology b anti cdk covalab pab p santa cruz biotechnology c anti cycm home make dilution covalab pab p dilution anti raf santa cruz biotechnology c anti ets santa cruz biotechnology c anti flag sigma f anti actin sigma hrp couple anti goat santa cruz biotechnology sc dilution anti mouse bio rad dilution anti rabbit bio rad secondary antibody reveal blot enhance chemiluminescence supersignal west femto thermo scientific production purification recombinant protein gst cdk kd strepii cycm generate recombinant bacmids dh bac escherichia coli baculoviruses sf bac bac system described provider invitrogen infect sf gst cdk gst cdk kd produce virus coinfected strepii cycm produce virus collect h infection purify gst fusion protein spun ml resuspend pellet ml lysis buffer pb mm nacl nonidet p mm naf mm glycerophosphate mm na vanadate contain protease inhibitor mixture roche lysed sonication spun lysate min g collect soluble fraction add ml glutathione sepharose matrix incubate h c wash four time lysis buffer one time kinase buffer see finally resuspend bead l kinase buffer contain vol vol glycerol storage ets transform origami de novagen ets expression vector induced expression mm isopropyl thiogalactopyranoside h c purify ets spun ml resuspend pellet ml lysis buffer pb mm nacl mm imidazole mm dtt nonidet p contain protease inhibitor mixture without edta roche lysed bar disruptor spun lysate min g collect soluble fraction add l cobalt bead thermo scientific h incubation c rotate wheel wash four time lysis buffer elute incubate bead min elution buffer pb mm imidazole ph contain protease inhibitor mixture spun g collect elute protein protein kinase assay mixed glutathione sepharose bead harbor gst cdk wt kd either monomeric complexed strepii cycm bsa mm dtt atp ci atp p histone h ets add kinase buffer mm tris hcl mm mgcl mm egta mm dtt heparin ph total volume l incubate reaction min c add laemli sample buffer heat denature sample ran bi tris sd page cut gel slice detect gst cdk strepii cycm western blotting stain gel slice contain substrate coomassie r bio rad dry detect incorporate radioactivity autoradiography identify four unrelated girl anogenital renal malformation dysmorphic facial feature normal intellect syndactyly toe similar combination feature report previously mother daughter pair table supplementary note online author note clinical overlap townes brocks syndrome suggest phenotype represent separate autosomal dominant entity mim define cardinal feature syndrome characteristic facial appearance apparent telecanthus broad tripartite nasal tip variable syndactyly toe hypoplastic labium anal atresia urogenital malformation h observe variety feature table clinical molecular characterization star syndrome clinical molecular characterization star syndrome f facial appearance case apparent telecanthus dysplastic ear thin upper lip c e toe syndactyly b f case illustrate recognizable feature star syndrome specific parental consent obtain publication photograph anal atresia hypoplastic labium g h x ray film foot case four ray left delta shape th th metatarsal right h compare clinical picture array cgh data log ratio represent copy number loss six probe span kb one probe position within fam deletion remove part functional gene j schematic structure fam position fam five cod exon box cyclin domain green encode exon horizontal arrow indicates deletion extend case include exon whereas horizontal line exon indicates deletion found case remove exon sequence pink horizontal bar box indicate amplicons qpcr sequence one alternative exon amplicon indicate space constraint dupt case result immediate stop codon g g splice case predict deleterious alter conserve splice donor acceptor site intron respectively full size image kb table clinical feature star syndrome case table clinical feature star syndrome case full table basis phenotypic overlap townes brocks okihiro feingold syndrome analyze sall ref sall ref mycn found gene supplementary method online next carry genome wide high resolution oligonucleotide array comparative genomic hybridization cgh analysis supplementary method genomic dna severely affected individual case low lid coloboma epilepsy syringomyelia identify heterozygous deletion kb xq remove exon fam j real time pcr confirm deletion child exclude unaffected parent supplementary online supplementary method supplementary table online cgh customize oligonucleotide array enrich probe xq follow breakpoint clone define exact deletion size bp g del chromosome x ncbi build j supplementary online deletion remove cod region exon well intron bp bp intron bp sequence include utr entire krt p pseudogene ncbi gene id paternity proven routine method find deletion overlap fam available copy number variation cnv database subsequently carry qpcr analysis three affected individual case mother daughter pair literature case case detect de novo heterozygous deletion kb overlap exon supplementary b online xq target array cgh breakpoint clone identify deletion bp g del chromosome x ncbi build j supplementary remove bp intron exon include utr bp sequence found heterozygous fam point remain case j supplementary supplementary method supplementary table case identify g affect splice donor site intron case identify frameshift dupt immediately result premature stop codon n xfsx case detect g alters splice acceptor site intron validate point deletion independent round pcr sequence qpcr confirm paternity de novo status point deletion sporadic case none see dna unaffected female control large deletion involve fam found unrelated array cgh investigation analyze x chromosome inactivation supplementary method supplementary online found complete skew x inactivation case almost complete skew case suggest carry active x chromosome growth disadvantage fetal development rt pcr rna lymphoblastoid case supplementary find aberrant splice product additional evidence mutate allele inactivate furthermore fam subject x inactivation case parental origin deletion could determine result lack informative snp case mother case give birth two boy clinically unaffected sample available cannot exclude condition lethal male fetal loss report family function fam unknown gene consists five cod exon bp cod region encodes protein amino acid genbank list mrna length bp reference sequence nm expression gene est data found adult tissue include kidney colon cervix uterus heart ncbi expression viewer unigene h expression note list tissue well embryo fetus gene homologous fam ncbi homologene found x chromosome chimpanzee dog zebrafish similar gene chromosome however mouse rat true homologs specie similar intronless gene chromosome mouse rat likely arise retrotransposon insertion event murine x chromosome flank gene atp b dusp conserve remnant fam sequence detect fam contains cyclin box fold domain protein binding domain found cyclins role cycle transcription control human phenotype result cyclin gene yet report homozygous knockout mouse ccnd encode cyclin viable small reduce lifespan dystrophic change retina likely result decrease proliferation degeneration photoreceptor embryogenesis cyclin colocalizes sall nucleus protein cooperatively mediate transcriptional repression phenotype case overlap considerably townes brocks syndrome cause sall carry co immunoprecipitation find sall sall would interact fam manner similar observe sall cyclin found fam interacts sall sall supplementary online support hypothesis fam sall participate developmental pathway fam lead star syndrome growth retardation case table retinal abnormality three case reminiscent reduce body size retinal anomaly cyclin knockout mouse therefore proliferation defect might partly responsible star syndrome address question carry knockdown fam mrna follow proliferation assay transfection hek three different fam specific rnai oligonucleotides result significant reduction fam mrna expression proliferation transfected supplementary method supplementary online support link fam proliferation found loss function fam result rather homogeneous clinical phenotype additional anomaly case likely result effect kb deletion expression neighbor gene possibly atp b dusp however cannot exclude homogeneous phenotype result ascertainment bias fam include missense change could result broader spectrum malformation gene cause overlap phenotype star syndrome townes brocks syndrome seem act pathway note mycn gene mutate feingold syndrome direct regulator cyclin ref thus worth explore whether phenotypic similarity feingold star syndrome might explain direct regulation fam mycn fam locate approximately mb centromeric mecp xq duplication overlap mecp fam described associate clinical phenotype female deletion overlap mecp fam observe date although gene fam mecp implicate brain development fam mecp gene region know result x link dominant phenotype thus deletion gene allele might lethal male female   \n",
       "1                                                                                                                                                                                                                                                                                                                                                                                                                                                                                                                                                                                                                                                                                                                                                                                                                                                                                                                                                                                                                                                                                                                                                                                                                                                                                                                                                                                                                                                                                                                                                                                                                                                                                                                                                                                                                                                                                                                                                                                                                                                                                                                                                                                                                                                                                                                                                                                                                                                                                                                                                                                                                                                                                                                                                                                                                                                                                                                                                                                                                                                                                                                                                                                                                                                                                                                                                                                                                                                                                                                                                                                                                                                                                                                                                                                                                                                                                                                                                                                                                                                                       abstract background non small lung nsclc heterogeneous group disorder number genetic proteomic alteration c cbl e ubiquitin ligase adaptor molecule important normal homeostasis determine genetic variation c cbl relationship receptor tyrosine kinase egfr met functionality nsclc method finding archival formalin fix paraffin embed ffpe extract genomic dna c cbl occur somatic fashion lung c cbl mutually exclusive met egfr however independent p kras normal pairwise analysis significant loss heterozygosity loh c cbl locus n none sample reveal remain copy c cbl c cbl loh positively correlate egfr met observe sample select c cbl somatic n h q e w obtain caucasian taiwanese african american sample respectively transfected nsclc line increase viability motility conclusion take overall rate c cbl combination somatic missense loh clear c cbl highly mutate lung may play essential role lung tumorigenesis metastasis go introduction u alone year approximately people diagnose lung succumb disease number roughly equivalent combine mortality rate breast prostate colon liver kidney melanoma addition prognosis usually poor five year survival rate less significant ethnic difference lung outcome bad black compare white gender difference strike woman significantly well prognosis compare men number genetic alteration occur lung example nsclc kras p egfr met identify many pathway especially receptor tyrosine kinase rtks control c cbl cbl casitas b lineage lymphoma mammalian gene locate human chromosome q involve signal protein ubiquitination cbl protein belong ring finger class ubiquitin ligases e three homologues c cbl cbl b cbl c cbl cbl b gene ubiquitously express high level hematopoietic tissue c cbl consists four region encode functionally distinct protein domain n terminal tyrosine kinase binding tkb domain linker region catalytic ring finger domain proline rich region c terminal ubiquitin associate uba domain overlap leucine zipper lz domain tkb ring finger domain essential ligand induced ubiquitination rtks ring finger domain require recruitment e ubiquitin conjugate enzyme tkb domain include four helix bundle h calcium biding ef hand modify sh domain bind phosphotyrosine residue addition proline rich region c cbl associate sh domain grb indirectly recruit c cbl rtks via grb adaptor protein c cbl bind egfr act e target egfr ubiquitination degradation furthermore cbl desensitizes egf signal opposes cellular proliferation induced egf egf activation appear activate tyrosine kinase src phosphorylates c cbl turn activates ubiquitination degradation egfr recent study defective endocytosis egfr characterize deletion mutant point l r whereby association c cbl subsequent ubiquitination impaired recently first human c cbl report acute myeloid leukemia aml r q inhibits fm like tyrosine kinase flt internalization ubiquitination e activity important oncogenesis c cbl dual separate function signal transduction molecule previously c cbl important binding crkl bcr abl hematopoietic bind modulate function cytoskeleton binding protein like talin paxillin tkb domain important binding number molecule function signal transduction give critical role cbl normal homeostasis hypothesize might mutate lung study report novel c cbl somatic n h q e w caucasian taiwanese african american lung respectively express nsclc line lead increase proliferation motility c cbl occur without met egfr mutually exclusive loh c cbl locus additionally c cbl loh associate either met egfr thus hypothesize c cbl might contribute oncogenic potential met egfr lung go method ethic statement write consent research human subject obtain institutional review board university chicago cover research perform laboratory follow contact information institutional review board university chicago mcgiffert hall woodlawn ave nd floor chicago il write inform consent receive whose tissue sample study tissue sample lung tissue pair adjacent normal lung tissue obtain caucasian african american taiwanese nsclc recruit university chicago hospital chicago usa caucasian african american taipei veteran general hospital taiwan taiwanese obtain appropriate institutional review board permission inform consent sample men woman unknown age diagnosis range year term type adenocarcinoma squamous carcinoma large carcinoma stage stage ii stage iii stage iv table culture human non small lung carcinoma h maintain dmem rpmi respectively human embryonic kidney culture dmem medium supplement fetal bovine serum unit ml penicillin g ml streptomycin invitrogen carlsbad ca culture c humidify incubator contain co c cbl gene mutational analysis exon c cbl gene individually amplify polymerase chain reaction pcr primer list table pcr condition cycle c minute cycle c second c second c minute one cycle c minute pcr product treat exosap usb corporation cleveland oh sequence big dye terminator chemistry apply biosystems foster city ca sequence perform forward cod strand confirmation c cbl alteration perform sequence reverse strand well chromatogram analyze surveyor v softgenetics state college pa plasmid construct site direct mutagenesis wild type c cbl cdna insert subcloned paltermax expression vector xhoi sali restriction enzyme site promega madison wi parental plasmid paltermax c cbl tkb domain double n h point q e c terminal point w c cbl create follow primer gctggcgctaaagaataacccaccttatatcttagac ctaccagatacctaccagtatctccgtactatcttgtc double n h ctttacccgactctttgagccctggtcctctttgc q e cagctcctcctttggctgattgtctctggatggtgatc w along complementary primer quickchange site direct mutagenesis xl kit stratagene la jolla ca accord manufacturer instruction construct confirm point standard dna sequence strand loss heterozygosity loh analysis five microsatellites chromosome q within kb downstream c cbl gene control marker p select analysis table establish microsatellite marker respective primer sequence select geneloc database http genecards weizmann ac il geneloc index shtml weizmann institute science rehovot israel primer custom design forward primer fluorescently label end fam pet ned vic apply biosystems primer anneal temperature duplex score evaluate nist primer tool http yellow nist gov dnaanalysis primertoolspage national institute standard technology gaithersburg md primer verify perform pcr control dna isolated tk resolve product agarose gel band visualize uv transilluminator genomic dna extract sample pair normal lung tissue primer grouped multiplex combination table marker serve internal control check consistency pcrs peak capillary electrophoresis multiplex pcrs carry volume l contain l genomic dna ng primer total primer pair dntps x pcr buffer contain mgcl u taq dna polymerase pcr perform abi geneamp pcr system follow condition min c cycle sec c min c min c min c pcr product separate capillary electrophoresis abi xl dna analyzer chromatogram analyze peak scanner genemapper software apply biosystems allelic alteration area peak produce dna pcr product quantify allele ratio allelic area calculate pair normal dna sample qloh allelic ratio peak divide allelic ratio pair normal sample c cbl least one q marker least two separate experiment sample consider allelic imbalance interpret loh sample evaluate least two separate experiment sample prospective loh c cbl repeat third time include new control marker bax locus data chromosome verify integrity sample dna transfection c cbl construct line transfected fugene hd roche nutley nj reagent accord manufacturer instruction eight g plasmid dna contain either insert empty vector wild type c cbl n h c cbl q e c cbl w cbl transfection well culture plate harvest h transfection analyze expression c cbl knockdown c cbl knockdown perform lentiviral transduction mission lentiviral transduction particle sigma aldrich st louis mo per manufacturer instruction briefly h well seed well plate infect follow day c cbl lentiviral shrna construct generate stable c cbl knockdown line select day g ml puromycin c cbl level determine whole lysates immunoblotting anti cbl antibody santa cruz biotechnology santa cruz ca viability assay transfected described transfection assay forty eight hour transfection viability assess trypan blue exclusion wound heal assay seed well plate culture h confluent medium change transfected described transfection assay twelve hour transfection straight scratch make across layer ml pipette tip gently wash pb remove cellular debris medium replace photograph take wound region every h h western blot analysis forty eight hour transfection collect wash twice x pb lysed ice cold lysis buffer tris hcl ph nacl deoxycholic acid mm edta np mm dtt mm phenylmethylsulfonyl fluoride g ml leupeptin g ml aprotinin minute lysate centrifuge rpm minute c protein content supernatant measure total lysates g well separate sd page electrophoresis gel transfer onto nitrocellulose membrane whatman piscataway nj membrane block non fat dry milk phosphate buffer saline contain tween pbst x pb tween h room temperature incubate appropriate primary antibody c overnight membrane wash three time pbst probed appropriate horseradish peroxidase hrp conjugate secondary antibody h room temperature membrane wash three time pbst band visualize western blot chemiluminescence reagent biorad valencia ca chemidoc gel documentation system biorad valencia ca antibody obtain santa cruz biotechnology follow dilution c cbl c met egfr ubiquitin ha actin flow cytometry cycle analysis carry flow cytometry approximately grown medium contain fbs harvest trypsin edta treatment wash x pb three time fix ice cold ethanol h wash cold pb stain solution contain g ml propidium iodide g ml rnase triton x minute dark cycle analysis perform guava pca flow cytometer guava technology millipore billerica ubiquitin ligase activity maintain culture dmem supplement fbs penicillin unit ml streptomycin g ml transfected g egfr pcdna g ha tag c cbl construct indicate calcium phosphate accord manufacturer protocol profection promega madison wi twenty four hour post transfection starve overnight dmem supplement fbs treat without egf ng ml min collect wash two time ice cold pb contain mm sodium orthovanadate lysed ice cold lysis buffer mm tris hcl ph mm nacl mm edta triton x glycerol mm sodium orthovanadate protease inhibitor lysates clear debris centrifugation g min c egfr immunoprecipitations perform g clear lysate ng rabbit anti egfr protein g plus sepharose overnight c precipitation wash time lysis buffer boil laemmli buffer elution immunoblotted anti ubiquitin egfr twenty microgram clear lysate immunoblotted c cbl construct anti ha statistical analysis rate different group compare fisher exact test continuous variable group comparison perform analysis variance anova follow sidak adjustment multiple comparison experiment involve repeat measurement time analyze repeat measure anova greenhouse geisser adjustment degree freedom analysis conduct stata v software stata corporation college station tx go result c cbl gene lung investigate role c cbl lung analyze genomic dna pair normal sample drawn multiple ethnicity lung sample represent caucasian n african american n taiwanese n lung design pair primer sequence cod region c cbl gene span exon table identify unique somatic c cbl exon among different variation l f know snp r exon detect importantly eight novel non synonymous confirm sequence strand c cbl genomic dna obtain lung sample table moreover none detect correspond normal tissue indicate somatic four synonymous single nucleotide variation snvs identify far study table table c cbl analysis lung tissue three novel non synonymous locate tkb tyrosine kinase binding domain n h q e one ring finger domain v one proline rich region del atg three c terminal region w r k c cbl protein b model chromatogram representative sample c cbl loh non small lung q loh c cbl gene pair lung normal lung tissue sample taiwanese n investigate loh eight loh c cbl locus chromosome sample reveal normal allelic contribution microsatellite marker c c cbl different ethnic group c cbl double mutant n h found overall rate c cbl lung frequency c cbl high large carcinoma follow squamous carcinoma least observe adenocarcinoma ad although rate statistically significant p rate among caucasian ad sq lc african american ad sq lc ad sq lc taiwanese population additionally two taiwanese lung one squamous one adenocarcinoma know snp l f ethnic difference statistically significant however power detect difference low met egfr co associate c cbl alteration since east asian lung high frequency egfr met lung determine egfr met taiwanese cohort sample compare result observe c cbl alteration loh sample test find overlap c cbl c cbl loh three c cbl mutant include know l f snp r one sample met n egfr l r among sample loh c cbl locus additional met n egfr exon deletion twenty six sample neither c cbl c cbl loh c cbl c cbl loh among sample met n l w egfr exon deletion l r met egfr thus rate met egfr among loh c cbl locus similar see without c cbl loh p identifiable c cbl met egfr represent analyze taiwanese cohort conversely taiwanese lung identifiable either c cbl met egfr combination three gene additionally determine p kras taiwanese cohort two p kras detect single kras overlap one p egfr exon deletion c cbl p sample c cbl loh concurrent met n thus taiwanese sample analyze p kras c cbl mutually exclusive data c cbl relationship met egfr lung cellular function c cbl alteration context lung tumorigenesis e activity intact mutant c cbl protein investigate whether different c cbl affect e activity egfr chosen model substrate c cbl e function c cbl mutant test enhance ubiquitination activate egfr similar wild type c cbl protein result demonstrates catalytic activity c cbl mutant impaired egfr substrate ubiquitination viability expression cycle analysis various c cbl mutant b effect lung viability effect representative c cbl mutant three ethnic background lung viability line determine n h double q e w identify lung sample obtain caucasian taiwanese african american respectively described method c cbl wild type wt three mutant express clone paltermax vector express relatively low basal level endogenous c cbl data transfection efficiency comparable different group number transfected c cbl wild type construct compare control transfected empty vector transfected n h q e w c cbl mutant construct result increase number viable high respectively relative empty vector control transfected significantly different wild type construct p p p respectively b relative level c cbl protein whole lysates prepared sample obtain parallel experiment determine c cbl protein level sample represent untransfected empty vector transfected comparable represent c cbl wt three c cbl mutant comparable c c effect cycle investigate increase viability different c cbl mutant due increase cellular proliferation cycle analysis perform transfected c cbl wt three different mutant n h q e w empty vector transfectant control forty eight hour transfection cycle analysis perform described material method significant change subg g phase cycle among different mutant compare wt construct p p p respectively g phase cycle increase number three mutant n h q e w compare wt difference statistically significant p effect motility investigate effect expression three c cbl mutant migration carry wound heal assay described material method closing scratch wound monitor h sample represent transfected mutant wound gap much small see sample represent transfected c cbl wt p determine rate wound closure five group h wild type c cbl transfectants open wound n h q e w mutant open wound respectively p b c cbl affect wound heal e c cbl knockdown increase viability hypothesize loh see sample could lead decrease expression c cbl thus test effect c cbl knockdown lung compare h lung express relatively high level endogenous c cbl data c cbl expression knock lentiviral construct express c cbl specific shrna compare result transduce scramble shrna result identify several clone reveal vary degree c cbl knockdown different set c cbl lentiviral shrna knockdown efficiency clone test clone chosen far experiment equal amount seed well plate proliferation measure various time result depict b expect number increase time dependent fashion relative scramble shrna control span h p b cycle phase h knock c cbl shrna look compare scramble shrna discernable difference two construct different phase cycle data knockdown c cbl shrna increase proliferation go discussion result demonstrate c cbl somatically mutate loh lung significantly contribute enhance viability motility high prevalence loh respect c cbl lung harbor met egfr present study demonstrate occurrence c cbl lung especially different ancestral variation c cbl recently report juvenile myelomonocytic leukemia myeloid malignancy aml study r q locate junction ring finger linker region inhibit fm like tyrosine kinase flt internalization ubiquitination thus contribute gain function rtk addition h c r l p mapped ring finger domain linker region c cbl require e activity additionally homozygous ring finger domain c cbl gene described result acquire uniparental disomy upd important note result indicate loh q locus mutually exclusive missense c cbl somatic heterozygous aml lead abrogation e activity lead prolong rtk activation addition mutant locate linker region surround ring finger domain exhibit enhance akt signal response cytokine stimulation addition nh neither ring finger linker region cause transformation however certain perturbs ubiquitination others affect receptor recycle prolong kinase activity report c cbl mapped ring finger domain tkb domain proline rich domain c terminal region none mapped linker region report aml study described addition mutant detect found different ethnic background example n h q e w detect caucasian taiwanese african american respectively result point difference lung genetic polymorphism among different race interestingly large disparity african american ethnic population lung previously low frequency egfr met african american compare taiwanese caucasian study number african american sample analyze relatively found unique ethnicity would behoove u far study genetic alteration occur determine target therapeutic african american result provide evidence importance c cbl tumorigenesis potential signal prediction base aml data would v ring finger domain would affect e activity important determine binding partner c cbl tkb domain proline rich domain previously tkb domain bind growth factor receptor important determine cross binding mutant met egfr would important future look fluorescence situ hybridization copy number change c cbl lung c cbl play important role regulate rtk mediate signal k poly ubiquitination subsequent downregulation rtks follow lysosomal degredation mono ubiquitination ubiquitinated k link chain substrate c cbl may lead enhancement biological biochemical function review hermann analyze study point fact e activity c cbl egfr intact egfr level various mutant remain multiple kinase rtks non rtks could act upon c cbl include erbs pdgfr fm met c kit vegfr flt ron fgfr ir well syk fyn lck fgr lyn c abl lung relevant substrate c cbl term degradation signal transduction yet identify observation c cbl somatic especially n h q e w increase viability motility agreement physiological role cbl regulation apoptosis differentiation identify drosophila significant previously activate c cbl downregulates egfr signal decrease cellular proliferation migration breast line although role c cbl negative regulation rtks well substantiate thereby suggest natural suppressor study reveal suppressor promote activity depend type c cbl number allele c cbl locus agreement three c cbl mutant described appear growth metastasis promote property although mutant outside ring finger linker region c cbl downstream effect significant cause increase proliferation migration substrate affected know yet raise possibility cellular function c cbl independent ubiquitin ligase activity area currently investigate oncogenic nature rtks addiction growth signal give cluster c cbl egfr met possible transform effect c cbl likely combinatorial effect three loh c cbl found significant number sample harbor met egfr fact lung sample likely c cbl additional likely harbor c cbl related loh make c cbl highly mutate molecule lung since loh alone enough cause transform event associate met egfr locus yet another rtk discuss may play role carcinogenesis predict loh c cbl result haploinsufficiency downplays rtk ubiquitination lead hyperactivity rtks however whether sufficient cause tumorigenesis remains determine consistent hypothesis fact c cbl mouse increase kinase activity lymphocyte sufficient formation c cbl loh could lead increase expression c cbl allele compensate loss allele alternately could form synergy work reduce c cbl level mutate receptor exacerbate phenotype alone previous study lab others east asian lung relatively high frequency gain function rtks egfr met cohort japanese activate met identify splice region deletes juxtamembrane domain involve e activity c cbl study found activation met mutually exclusive egfr kras gene fail detect significant number lung sample obtain african american n caucasian n one met identify group whereas egfr identify african american caucasian cohort respectively egfr earlier identify one key affect lung adenocarcinoma comprehensive study study encompasses different histology nsclc however publish series find c cbl met unlike study encompass different subtypes nsclc important note recently met lung majority germline report earlier c cbl small cohort taiwanese lung sample effort understand ethnic difference lung oncogenome look pax transcription factor pax pax highly express lung however preferential expression gene lung sample african american study relatively high frequency c cbl lung especially large type among caucasian particularly among african american therefore propose c cbl efficacious target lung african american need far substantiate important prognosis african american lung especially men much poorer compare caucasian counterpart conclusion result present study demonstrate c cbl frequently mutate even lose lung result support role c cbl mutant independent ubiquitination activity give relatively high rate c cbl well rtks met egfr likely combine effect could synergistic promote tumorigenesis   \n",
       "\n",
       "   gene_ABCB11  gene_ABCC6  gene_ABL1  gene_ACVR1  gene_ADAMTS13  gene_ADGRG1  \\\n",
       "0            0           0          0           0              0            0   \n",
       "1            0           0          0           0              0            0   \n",
       "\n",
       "   gene_AGO2  ...  variation_YAP1-TFE3 Fusion  variation_YWHAE-ROS1 Fusion  \\\n",
       "0          0  ...                           0                            0   \n",
       "1          0  ...                           0                            0   \n",
       "\n",
       "   variation_ZC3H7B-BCOR Fusion  variation_ZNF198-FGFR1 Fusion  \\\n",
       "0                             0                              0   \n",
       "1                             0                              0   \n",
       "\n",
       "   variation_null1313Y  variation_null189Y  variation_null262Q  \\\n",
       "0                    0                   0                   0   \n",
       "1                    0                   0                   0   \n",
       "\n",
       "   variation_null267R  variation_null399R  variation_p61BRAF  \n",
       "0                   0                   0                  0  \n",
       "1                   0                   0                  0  \n",
       "\n",
       "[2 rows x 4325 columns]"
      ]
     },
     "execution_count": 47,
     "metadata": {},
     "output_type": "execute_result"
    }
   ],
   "source": [
    "train.head(2)"
   ]
  },
  {
   "cell_type": "code",
   "execution_count": 48,
   "metadata": {},
   "outputs": [
    {
     "data": {
      "text/html": [
       "<div>\n",
       "<style scoped>\n",
       "    .dataframe tbody tr th:only-of-type {\n",
       "        vertical-align: middle;\n",
       "    }\n",
       "\n",
       "    .dataframe tbody tr th {\n",
       "        vertical-align: top;\n",
       "    }\n",
       "\n",
       "    .dataframe thead th {\n",
       "        text-align: right;\n",
       "    }\n",
       "</style>\n",
       "<table border=\"1\" class=\"dataframe\">\n",
       "  <thead>\n",
       "    <tr style=\"text-align: right;\">\n",
       "      <th></th>\n",
       "      <th>id</th>\n",
       "      <th>text</th>\n",
       "      <th>gene_ABCB11</th>\n",
       "      <th>gene_ABCC6</th>\n",
       "      <th>gene_ABL1</th>\n",
       "      <th>gene_ACVR1</th>\n",
       "      <th>gene_ADAMTS13</th>\n",
       "      <th>gene_ADGRG1</th>\n",
       "      <th>gene_AGO2</th>\n",
       "      <th>gene_AGXT</th>\n",
       "      <th>...</th>\n",
       "      <th>variation_YAP1-TFE3 Fusion</th>\n",
       "      <th>variation_YWHAE-ROS1 Fusion</th>\n",
       "      <th>variation_ZC3H7B-BCOR Fusion</th>\n",
       "      <th>variation_ZNF198-FGFR1 Fusion</th>\n",
       "      <th>variation_null1313Y</th>\n",
       "      <th>variation_null189Y</th>\n",
       "      <th>variation_null262Q</th>\n",
       "      <th>variation_null267R</th>\n",
       "      <th>variation_null399R</th>\n",
       "      <th>variation_p61BRAF</th>\n",
       "    </tr>\n",
       "  </thead>\n",
       "  <tbody>\n",
       "    <tr>\n",
       "      <th>0</th>\n",
       "      <td>1</td>\n",
       "      <td>incidence breast increase china recent decade familial breast account total chinese woman germline breast susceptibility gene brca mim brca mim responsible approximately chinese breast family liede narod breast susceptibility gene related chinese breast family therefore remain identify chek cycle checkpoint kinase know chk mim nm locate chromosome q encodes multifunctional kinase play important role cycle regulation apoptosis dna repair bartek chek gene contains three distinct functional domain sq tq rich domain residue forkhead associate domain residue serine threonine kinase domain residue bartek chek activate ataxia telangiectasia mutate atm mim protein response dna damage phosphorylation sq tq rich domain chek likely initiate event prerequisite subsequent activation step follow autophosphorylation chek residue activation loop kinase domain bartek previous study demonstrate chek moderate breast susceptibility gene meijers heijboer recurrent c delc abolishes kinase function chek confers twofold increase breast risk european woman meijers heijboer weischer germline chek gene comprehensively investigate chinese woman study small sample size less case screen exon chek chinese woman familial early onset breast chek c delc found study chen song preliminary study suggest account apparent low frequency chek c delc chinese woman little genetic risk breast chinese woman likely attributable chek c delc present study first screen entire cod region exon intron boundary chek chinese woman familial breast carry brca brca northern china recurrent variant c c p h exon chek identify cohort functional analysis suggest p h pathogenic therefore far detect unselected breast case healthy woman aim investigate whether chek p h associate breast risk chinese woman breast breast center peking university hospital october january familial breast define least two breast first second degree relative diagnose prior age year one hundred eighteen familial breast case unrelated family unselected breast case select without consideration history one thousand two hundred twenty eight healthy woman serve control study case control chinese woman han nationality reside north china peripheral blood sample collect control write inform consent obtain study approve research ethical committee peking university hospital genomic dna extract leukocyte pellet proteinase k digestion follow phenol chloroform extraction germline entire cod region exon intron boundary chek familial breast without brca brca detect polymerase chain reaction pcr follow denature high performance liquid chromatography dhplc sequence chek gene amplify set primer described elsewhere baysal dufault exon chek present multiple homologous copy genome nest pcr procedure perform avoid amplification pseudogene sequence sodha p h mutant chek generate mutagenesis kit stratagene la jolla ca accord manufacturer instruction transfection immunoblotting analysis vitro kinase assay perform essentially described previously xu detailed method described supp method total detect six germline sequence alteration chek familial breast case supp table among c g p p p r c g p e e report previously likely neutral polymorphism elevate risk breast bell schutte one case carry novel synonymous c c p variant likely associate disease c c p r c variant exon found one case previous study p r c variant abundant breast case control caucasian population difference reach significance dufault c del aac exon result p n del novel found one case supp table addition recurrent variant c c p h exon found five index case cohort supp b supp table bioinformatic analysis suggest p h likely alter chek function whereas p n del unclassified supp c p h within activation loop kinase domain chek protein enrich chinese familial breast case without brca brca p h therefore highly interest may compromise chek kinase activity open viewer functional analysis chek p h schematic diagram protein predict functional domain site p h b phosphorylation chek p h weaker wild type chek kinase defective mutant p serf negative control c autophosphorylation transphosphorylation impaired p h phosphorylation p h compromise response dna damage u stably transfected ha chek ha chek p h control vector treat adm eto hr investigate whether chek p h influence efficacy chek response dna damage therefore first examine phosphorylation wild type chek p h mutant chek vitro kinase assay gst fusion protein previously described kinase defective mutant chek p serf negative control chek phosphorylation detect phospho specific antibody wild type chek kinase defective mutant chek p whereas p h mutant weak phosphorylation b examine chek autophosphorylation activation vitro kinase assay p atp kinase defective chek p autophosphorylation activity enzymatic activity substrate cdc c mim activity autophosphorylation transphosphorylation activity p h mutant chek decrease approximately compare wild type chek c finally determine phosphorylation status response adriamycin adm etoposide eto induced dna damage u stably transfected wild type chek p h mutant mock vector transfectants expose dna damage agent adm eto hr phosphorylation p h mutant response adm eto treatment obviously reduce compare wild type chek take together p h partially reduces phosphorylation chek site chek kinase activity functional analysis suggest p h likely pathogenic therefore screen exon chek unselected breast healthy control p h found unselected breast case control table frequency p h familial unselected breast control respectively table compare control familial breast case carry p h nearly sixfold relative risk development breast odds ratio confidence interval ci p table furthermore significantly increase risk breast unselected case carry p h observe ci p table table association p h p n del chek breast risk variant total n frequency n ci p odds ratio ci confidence interval p h control ref familial case unselected case p n del control familial case unselected case screen chek p n del unselected breast case healthy individual p n del found subject suggest chek p n del rare chinese woman table median age diagnosis familial breast case carry chek p h year compare year noncarriers cohort case p h carrier tend diagnose earlier age noncarriers difference reach significance p segregation analysis chek p h test two family sufficiently informative draw meaningful conclusion lack dna sample suitable family member supp b remain three family analysis restrict index individual initially displayed p h data test whether loss heterozygosity loh chek deletion wild type allele occur five familial breast case carry heterozygous p h genomic dna extract blood tissue four case analyze existence p h confirm whereas reproducible evidence loh ever observe demonstrate p h recurrent missense chek associate increase breast risk chinese woman p h amino acid change within activation loop chek kinase domain essential activation chek response dna damage cai vitro experimental study indicate p h result decrease kinase activity chek least compare wild type chek may therefore encodes protein attenuate rather complete loss function furthermore loh involve p h associate tumorigenesis present study result suggest chek p h associate tumorigenesis may chek haploinsufficiency support notion missense partial loss function may contribute tumorigenesis via haploinsufficiency sodha study chek p h found familial breast case negative brca compare frequency healthy control indicate confers increase risk breast addition low frequency chek p h unselected case suggest risk breast confer modest increase breast risk confer chek p h similar chek c delc population note unselected case screen p h possible involvement others potentially disease related chek case cannot rule p h never report population previously report chinese woman relatively small sample size chen song p h nearby previous deleterious chek c delc however c delc detect among breast case healthy individual total subject current study indicate chek c delc absent quite infrequent chinese woman surprising variant chek vary among population narod lynch approximately new breast case diagnose china annually cao give huge number new breast case china find chek p h confers moderate risk breast chinese woman interest could identify approximately chinese woman modestly increase risk breast population level may exist ethnic group would great interest study population background previous study suggest recurrent chek h novel pathogenic confers increase risk breast purpose study investigate whether breast chek h likely respond neoadjuvant chemotherapy method screen cohort chinese woman operable primary breast receive neoadjuvant chemotherapy regimen chek h germline pathologic complete response pcr define absence breast completion neoadjuvant chemotherapy result thirty nine chek h germline identify cohort chek h carrier significantly high pcr rate non carrier versus p entire study population chek h positive status remain independent favorable predictor pcr multivariate analysis odds ratio confidence interval ci p chek h carrier slightly bad distant recurrence free survival non carrier adjust hazard ratio hr ci conclusion chek h carrier likely respond neoadjuvant chemotherapy non carrier go background chek cycle checkpoint kinase know chk encodes multifunctional kinase activate mainly ataxia telangiectasia mutate atm protein response dna double strand break activate chek turn phosphorylates several critical cycle protein include p cdc brca trigger cycle arrest apoptosis activation dna repair numerous study demonstrate chek moderate breast susceptibility gene chek delc truncate abrogates kinase activity protein confers approximately fold increase breast risk however prevalence chek delc varies widely among ethnic group mostly found dutch population absent rare population previously screen chinese woman breast case healthy control chek delc fail find population however novel recurrent chek near chek delc chek c h found chinese woman chek h within activation loop chek protein kinase domain essential activation chek response dna damage functional analysis reveals chek h produce dramatic decline chek activity pathogenic chek h confers fold increase breast risk chinese woman disruption chek kinase activity may contribute breast development influence breast survival response adjuvant therapy two study suggest chek delc associate poor recurrence free survival breast indicate chek delc aggressive phenotype previous study investigate association chek germline response neoadjuvant chemotherapy breast therefore current study investigate whether chek h carrier likely respond neoadjuvant chemotherapy term pathologic complete response pcr large cohort breast receive neoadjuvant chemotherapy far explore association chek h status distant recurrence free survival drfs go method study population total operable primary breast stage iii treat neoadjuvant chemotherapy breast center peking university hospital october december mean age subject year range year stage classify accord node metastasis classification union internationale contre le size define maximum diameter measure mammogram ultrasonogram time diagnosis grade accord modify bloom richardson system write consent obtain subject study approve research ethical committee peking university hospital chek h germline peripheral blood sample collect genomic dna extract leukocyte pellet proteinase k digestion follow phenol chloroform extraction chek h detect polymerase chain reaction pcr follow denature high performance liquid chromatography dhplc sequence direct sequence described previously screen germline chek h chek h status readable found carry screen chek h carrier germline brca two carry brca germline exclude study therefore chek h carrier include final analysis current study estrogen receptor er progesterone receptor pr status er pr status determine core needle biopsy breast tissue obtain initiation neoadjuvant chemotherapy described previously neoadjuvant chemotherapy regimen among receive neoadjuvant chemotherapy receive cycle treatment categorize three subgroup follow receive anthracycline base regimen detail regimen described previously receive ctf regimen receive fec regimen receive caf regimen remain receive type anthracycline regimen receive anthracycline taxane contain regimen receive two cycle anthracycline follow cycle paclitaxel alone mg iv per week week paclitaxel plus carboplatin paclitaxel mg iv day paclitaxel mg iv day day day carboplatin auc iv day every three week receive cycle paclitaxel alone docetaxel plus cyclophosphamide docetaxel mg iv day cyclophosphamide mg iv day every three week follow cycle anthracyclines remain receive type anthracycline taxane contain regimen e te regimen docetaxel plus epirubicin tac regimen docetaxel doxorubicin cyclophosphamide receive taxane base regimen without anthracyclines receive cycle paclitaxel mg iv week week receive paclitaxel plus carboplatin paclitaxel mg iv day day day carboplatin auc iv day every three week remain receive docetaxel plus cyclophosphamide docetaxel mg iv day cyclophosphamide mg iv day every three week cohort receive intravenous trastuzumab combination neoadjuvant chemotherapy completion neoadjuvant chemotherapy treat mastectomy n breast conserve surgery n depend size presence multiple lesion preference pcr define absence invasive breast breast completion neoadjuvant chemotherapy sixty two percent receive adjuvant chemotherapy alternative regimen operation axially positive lymph node breast conserve therapy receive radiotherapy er pr positive disease receive endocrine therapy mg tamoxifen year mg anastrozole year statistical analysis difference clinicopathological characteristic chek h carrier non carrier determine pearson chi square test association chek h status clinicopathologic characteristic pathological response neoadjuvant chemotherapy determine pearson chi square test fisher exact test number small logistic regression model apply determine whether factor independent predictor pcr multivariate analysis distant recurrence free survival drfs define time date diagnosis first distant recurrence include second primary malignancy death breast without record relapse survival curve derive kaplan meier estimate compare log rank test statistical test two side p value consider statistically significant statistical analysis perform spss software chicago il usa go result characteristic cohort woman carry chek h since primer study cover chek delc none chek delc found current study clinicopathological characteristic chemotherapy regimen group present table significant difference found chek h carrier non carrier regard size lymph node status er pr status chemotherapy regimen surgery type grade pathological type table however chek carrier likely diagnose age compare non carrier p table chek carrier less likely positive non carrier p table table table association characteristic chek h status response neoadjuvant chemotherapy chek carrier non carrier overall achieve pcr neoadjuvant chemotherapy pcr rate chek h carrier non carrier table indicate chek carrier significantly high pcr rate non carrier p table univariate analysis factor associate improve pcr rate er negativity p</td>\n",
       "      <td>0</td>\n",
       "      <td>0</td>\n",
       "      <td>0</td>\n",
       "      <td>0</td>\n",
       "      <td>0</td>\n",
       "      <td>0</td>\n",
       "      <td>0</td>\n",
       "      <td>0</td>\n",
       "      <td>...</td>\n",
       "      <td>0</td>\n",
       "      <td>0</td>\n",
       "      <td>0</td>\n",
       "      <td>0</td>\n",
       "      <td>0</td>\n",
       "      <td>0</td>\n",
       "      <td>0</td>\n",
       "      <td>0</td>\n",
       "      <td>0</td>\n",
       "      <td>0</td>\n",
       "    </tr>\n",
       "    <tr>\n",
       "      <th>1</th>\n",
       "      <td>2</td>\n",
       "      <td>unselected series colorectal carcinoma stratify accord microsatellite instability msi dna ploidy examine promoter hypermethylation five component wnt signal cascade apc ctnnb encode catenin axin tcf wisp three gene indirectly affect pathway cdh encode e cadherin pten tp apc tp present often microsatellite stable ms msi p confirm aneuploid ms frequently contain tp p whereas apc promoter hypermethylation reveal association ploidy apc upstream codon encode catenin binding site found mutate seem poor clinical outcome p frameshift axin pten tcf wisp found msi respectively half heterozygote axin concurrently mutate apc present study sample alteration one gene investigate add far evidence vital importance activate wnt signal colorectal carcinogenesis keywords wnt signal colorectal genomic instability hypermethylation go introduction wingless type mmtv integration site family wnt signal cascade play vital role embryogenesis deregulation implicate carcinogenesis pathway mainly uncovered study drosophila melanogaster highly conserve among several organism include mammalian catenin key component canonical wnt pathway regulate multiprotein complex consist among protein adenomatous polyposis coli apc axin glycogen synthase kinase gsk absence wnt signal catenin initially prim follow far phosphorylation lead proteasomal degradation presence wnt stimulation proper assembly multiprotein complex inhibit cause accumulation free cytosolic catenin translocates nucleus lead transcription downstream target gene b additionally free cytosolic catenin might form complex e cadherin catenin participate calcium dependent adhesion absence wnt signal multiprotein complex consist catenin apc axin gsk diversin div ck form lead phosphorylation subsequent proteosomal degradation catenin b inactivation suppressor gene apc key regulator wnt signal pathway one early transform event observe colorectal tumorigenesis apc alter dna sequence change promoter hypermethylation colorectal carcinoma well part multiprotein complex target catenin proteolysis apc interacts nuclear catenin reduce transcriptional activity enhance nuclear export furthermore recently apc could bind microtubule associate protein eb suggest potential effect apc chromosome segregation subgroup colorectal wild type apc oncogenic ctnnb gene encode catenin mainly affect specific serine threonine residue within exon ctnnb phosphorylation site kinase casein kinase ck gsk thereby impede degradation mention catenin bind e cadherin thereby influence contact hypermethylation promoter region cdh gene encode e cadherin observe subgroup colorectal carcinoma give rise increase level free cytosolic catenin however change alone enough activate wnt signal pathway two axin gene family member identify human axin axin gene colorectal carcinoma wild type apc ctnnb recently observe activation wnt signal pathway elevate level axin implicate axin negative feedback loop control wnt signal accumulation catenin induces stabilization suppressor protein tp tp enhances degradation catenin negative feedback mechanism process recently require ck gsk indicate tp induces phosphorylation catenin prior degradation thus manner status tp important activity along wnt cascade similarly pten influence wnt pathway hinder activation integrin link kinase ilk inhibits gsk thereby cause accumulation catenin two type genomic instability observe colorectal carcinogenesis microsatellite instability msi know min chromosome instability cin msi see phenotypic trait hereditary nonpolyposis case subgroup sporadic carcinoma defect mismatch repair mmr however colorectal carcinoma loss gain whole part chromosome thus exhibit cin however whether underlie instability process drive development subject ongoing debate distinct pathologic feature characterize two group msi cin msi account colorectal carcinoma associate mucinous histology lymphocytic infiltration diploidy poor differentiation location proximal colon cin typically microsatellite stable ms aneuploid locate distal colon rectum furthermore epigenetic change observe subgroup msi cin colorectal carcinoma defect mmr preferentially accumulate change repetitive sequence wnt pathway gene tcf wisp pten harbor repetitive sequence within cod region report mutate msi colorectal several gene part indirectly affect wnt signal pathway previously analyze colorectal however series small component examine within sample set therefore address issue far methylation analysis eight relevant gene series norwegian colorectal crc individual gene status well combination evaluate msi ms related clinicopathologic data include long term survival data go material method material msi status consecutive series primary crc male female collect seven hospital oslo akershus region include median age diagnosis year range year one clinical data miss surgery give curative treatment except rectal receive postoperative radiation therapy survival time record date surgery death last update july die within day resection censor determination content series previously described range mean msi status determine analyze dinucleotide marker well two mononucleotide marker bat bat thirty eight characterize msi high h msi low l ms four two biopsy analyze discordant msi status present study previously publish study msi l ms comparable come genetic change well clinicopathologic parameter therefore throughout rest paper consider one group ms group majority msi diploid locate proximal colon cecum ascendens right flexure whereas ms aneuploid locate distal colon left flexure descendens sigmoideum rectum two msi one ms clinicopathologic data available screen apc tp ctnnb previously investigate apc exon protein truncation test ptt exon apc present study six additional biopsy analyze method shortly genomic dna amplify polymerase chain reaction pcr promoter sequence mammalian initiation sequence frame unique apc sequence introduce pcr product subject couple transcription translation vitro assay cause premature termination protein product alter mobility gel electrophoresis tp exon previously search constant denaturant gradient electrophoresis cdge protocol found sample present study additional case examine temporal temperature gradient electrophoresis ttge method similar cdge modification procedure primer described aberrant migration band detect ptt cdge ttge submit direct sequence apply biosystems dna sequencer perkin elmer foster city ca ref present study ctnnb exon previously analyze single strand conformation polymorphism sequence include study sequence alteration axin exon axin contain four mononucleotide repeat g c c sequence msi follow primer set forward aac cca gtt tct ttc ctt ct reverse atc cct gcc tca acc ta prof wanguo liu personal communication dna technology aarhus denmark standard pcr condition direct sequence purify pcr product microspin hr column amersham pharmacia biotech thermo sequenase cycle sequence kit amersham pharmacia biotech perform accord manufacturer protocol abi prism genetic analyzer perkin elmer frameshift analysis pten tcf wisp two repeat within cod region pten analyze msi follow primer set apply forward cct gtg aaa taa tac tgg tat g reverse gtt tct tct ccc aat gaa agt aaa gta ca exon forward gtg cag ata atg aca agg aat reverse gtt tct tac aca tca cat aca tac aag tc exon dna technology seven base tail gtt tct add reverse primer avoid plus artifact forward primer end label fluorochrome two repeat amplify multiplex pcr analyze abi prism genetic analyzer condition previously described abnormal pcr product confirm new pcr verify sequence tcf repeat exon wisp repeat exon formerly analyze however five novel case include present study methylation specific pcr msp apc cdh fifty three colorectal sample consist msi ms analyze promoter hypermethylation apc cdh msp shortly msp distinguishes unmethylated methylated allele give gene base sequence alteration produce bisulfite treatment dna convert unmethylated methylated cytosine uracil subsequent pcr primer specific either methylated unmethylated dna perform previously report primer set amplification apc fragment cdh fragment medprobe oslo norway dna treat bisulfite amplify previously described methylation positive sample score visually two author l g e l weakly methylated heavily methylated sample interpret methylated confirm additional pcr association study heavily methylation include positive sample statistical analysis pearson chi square analysis fisher exact test comparison among different group cause specific survival analysis death crc accomplish kaplan meier method long rank test apply determine difference survival p consider statistically significant spss software spss chicago il analysis hierarchical cluster analysis average linkage method pearson correlation similarity measure cluster analysis draw dendogram perform j express pro go result apc ctnnb tp ms msi frequency gene investigate present apc tp present often ms msi p table one msi apc wild type tp whereas ms harbor apc tp p interestingly majority apc msi occur outside cluster region mcr codon contrast ms group within mcr p sixteen msi ms apc two within gene frequency seven gene investigate colorectal carcinoma different msi status wisp axin pten analyze msi msi microsatellite instabile ms microsatellite stable table table apc tp status correlation msi status ctnnb alter one msi one ms msi simultaneously alter tcf wisp whereas ms additionally apc tp neither apc tp associate cin msi group table true methylated apc include p however correlation tp cin observe ms p table table apc tp relation msi status dna content apc reside end codon encode catenin binding site three amino acid repeat see include nine frameshift six nonsense two missense detect two contain frameshift locate downstream codon early truncation apc protein thus observe tendency shorter related survival one apc downstream codon encode catenin binding site n p see wild type n grouped together one downstream codon p contain apc upstream codon encode catenin binding site three amino acid repeat shorter related survival harbor downstream confirm affect l domain tp codon significantly shorter related survival versus wild type tp p upstream codon apc affect l domain tp tendency toward shorter related survival gene p synergistic effect early apc affect zinc binding domain l tp observe however four contain frameshift wnt gene msi axin pten tcf wisp contain mononucleotide repeat within cod region thus prone msi frameshift within axin pten tcf wisp found among msi respectively tcf exclusively change msi p exon axin observe seven msi heterozygous three contain insertion one g g repeat two deletion one g g repeat one harbor deletion one c c repeat finally one deletion one repeat one primary two biopsy analyze different axin status determine therefore exclude interestingly three insertion one g one deletion one g g repeat concurrently mutate apc three apc insertion one gaa gaaa codon whereas last apc could verify sequence axin apc within msi colorectal carcinoma sample direct sequence identify insertion one g g repeat axin ptt sequence recognize insertion one codon apc six msi mutate pten frameshift evenly distribute exon one primary exclude three biopsy analyze discordant pten status found biallelic see one whereas others monoallelic homozygous pten none analyze gene change hypermethylation apc cdh ms msi heavy methylation promoter region apc found msi two concurrently mutate apc contrary ms group hypermethylation apc five simultaneously mutate apc p promoter region cdh hypermethylated msi ms respectively within group alteration apc methylation observe case cluster analysis wnt component msi hierarchical cluster analysis perform msi informative least six nine locus investigate include analysis n apc occur frequently together tcf subset contain axin apc sole wnt component change one msi axin another hypermethylation apc additionally harbor epigenetic change cdh gene directly involve wnt signal pathway apc tcf axin ctnnb wisp cluster together whereas pten different component three primary two biopsy analyze deviate molecular result therefore cluster together observe one two primary include c hierarchical cluster analysis msi average linkage pearson correlation sample give right dendogram analyze gene depict top dendogram column represent alteration one observe difference related survival msi harbor alteration three seven wnt component analyze apc ctnnb axin tcf wisp pten tp n compare msi contain alteration less three component n p many include present study alteration one eight wnt gene investigate go discussion canonical wnt signal pathway activate vast majority colorectal apc one key component pathway dysfunction apc observe familial polyposis coli fap case sporadic colorectal inactivation apc lead accumulation catenin cytoplasm nucleus thereby activation wnt signal although several wnt component report alter crc well malignancy knowledge none study interaction multiple component within series frequency distribution axin comparable two previously publish study insertion one g g repeat predict stop amino acid whereas predict stop amino acid http u expasy org tool dna html although give rise stop different place axin protein lead elimination dix dishevel axin domain amino acid domain necessary homo oligomerization thus essential inhibitory effect axin wnt pathway previously publish study harbor axin wild type apc ctnnb however study axin harbor apc observe one analyze domingo among remain three axin present study two harbor either tp tcf suggests heterozygous axin alone sufficient activate wnt signal pathway heterozygous axin express one wild type allele might retain inhibitory effect axin axin homologue axin might substitute function mutate axin therefore component wnt signal pathway need alter order fully activate pathway neither two previous study axin analyze several component wnt signal pathway series cod region axin correspond domain binding site b consequence different axin relation apc tp tcf insertion one g g repeat axin predict stop amino acid germline pten found cowden syndrome juvenile polyposis syndrome syndrome associate increase risk crc somatic report colorectal carcinoma pten inhibits activity phosphatidylinositol kinase pi k thus pi k dependent signal pathway regulate survival growth recently pten pi k influence wnt signal pathway pten null prostate line activate pi k phosphorylated ilk subsequently inhibit gsk lead accumulation nuclear catenin increase expression cyclin reexpression pten increase phosphorylation degradation catenin pten thus work negative regulator wnt signal recently nassif pten present subgroup sporadic ms colorectal biallelic inactivation two loss heterozygosity occur half case lead absence pten expression epigenetic inactivation pten suggest contribute mechanism colorectal carcinogenesis overall finding indicate inactivation pten important development msi ms colorectal wherein activation wnt signal pathway seem one central mechanism frequency distribution pten present series line previous report interestingly homozygous pten none wnt component alter indicate change alone might sufficient activate pathway contrast ms msi apc wild type tp however majority change wnt component might partly substitute effect tp interestingly one msi apc outside mcr downstream mcr usually hot spot codon whereas subgroup ms harbor outside mcr majority occur upstream mcr msi downstream mcr wnt component frequently within tcf axin whereas msi apc upstream mcr change wnt component analyze might indicate downstream mcr kept catenin binding degradation site codon therefore require additional order activate wnt pathway hand except two msi ms upstream mcr lose catenin binding codon downregulation site codon suggest accumulation catenin nucleus transcription wnt target gene apc upstream codon although heterozygous might thus alone sufficient activate wnt cascade significance early far strengthen bad clinical outcome observe compare apc one wild type apc even distribution tp l domain associate shorter related survival present two apc group therefore influence result true msi occur approximately group apc suggest control proper chromosome segregation mouse embryonic stem apc lead karyotypic alteration term cin however thorough examination mouse polyploidization whole genome rather loss gain one chromosome observe furthermore well characterize human colon line harbor apc exhibit stable karyotype thousand division within material association apc cin observe support latter observation however association apc tetraploidy flow cytometry found hand association tp cin see line previous report well others presence apc equally distribute ms msi without hypermethylation apc however among hypermethylated skewed distribution apc within two group present one explanation allele inactivate hypermethylation msi therefore additional apc require fully inactivate protein whereas one allele inactivate epigenetic mechanism ms therefore additional necessary suggest lose reduce expression e cadherin alone sufficient activate wnt signal pathway increase level free cytosolic catenin rapidly remove intact degradation system however component degradation complex affected catenin accumulate wnt pathway activate study hypermethylation cdh associate alteration apc thus support latter view majority detect wnt gene monoallelic usually two component mutate within thereby affect wnt pathway different level jointly contribute induction activation instance frameshift tcf lead truncate protein reduce capability bind transcriptional repressor occur impaired catenin degradation system apc axin pten tp influence wnt signal pathway indirect manner may explain cluster together mutate wnt component two protein involve several different signal pathway within gene may lead cellular transformation without complete activation wnt signal pathway molecular study nearly colorectal contain activate wnt signal pathway agreement finding case series without change examine gene wnt component may alter one candidate axin report mutate subgroup msi colorectal another candidate pp r b gene encode isoform subunit holoenzyme pp report mutate colorectal xenopus pp present catenin degradation complex might dephosphorylate activate gsk lead degradation catenin inhibition wnt signal pathway wnt component upstream catenin degradation complex may harbor alteration far described however knowledge molecular mechanism lead activation wnt signal pathway increase well information activate pathway contributes initiation colorectal carcinogenesis others clearly demonstrate pathway turn nearly colorectal carcinoma thus pinpoint necessity wnt activation development colorectal medulloblastomas mb represent common malignant brain child mb develop sporadically cerebellum incidence highly elevate familial adenomatous polyposis coli carry germline apc suppressor gene apc part multiprotein complex involve wnt signal pathway control stability catenin central effector cascade previous genetic study mb identify gene cod catenin partner apc axin cause activation wnt signal pathway negatively control suppressor axin conductin scaffold protein signal complex investigate whether alteration axin may involve pathogenesis sporadic mb perform mutational screen axin gene mb biopsy sample mb line single strand conformation polymorphism sequence analysis one mb displayed somatic specific bp insertion exon lead carboxy terminal truncation axin protein biopsy nuclear accumulation catenin protein indicate activation wnt signal far mb biopsy identify exon glu lys exon ser phe axin gene due predict germline rare polymorphism mrna expression analysis mb reveal reduce expression axin mrna compare fetal cerebellar tissue promoter hypermethylation could rule major cause transcriptional silence bisulfite sequence study functional role axin mb wild type axin overexpressed mb line wnt signal pathway activate wnt assay axin inhibit wnt signal demonstrate luciferase reporter assay contrast overexpression mutate axin delete c terminal dix domain result activation wnt signal pathway finding indicate axin lead oncogenic activation wnt pathway mb wiley li inc medulloblastomas mb represent frequent malignant brain childhood incidence case million child mb thought arise neoplastic transformation external granule layer develop cerebellum although majority mb occur sporadic case familial syndrome include nevoid basal carcinoma syndrome gorlin syndrome turcot syndrome associate significantly elevate incidence mb wild type apc allele mb report lose turcot syndrome suggest apc function suppressor gene cerebellum loss apc function result transcriptional activation wnt signal pathway play major role tumorigenesis regulation proliferation differentiation development central nervous system activity wnt signal pathway dependent upon central effector catenin amount cytoplasmic catenin control wnt antagonist axin homologue axin conductin interact functionally apc glycogen synthase kinase gsk multiprotein complex promotes nh terminal phosphorylation catenin gsk result degradation proteasome system beside apc gene particularly frequent colon several carry oncogenic missense n terminal residue catenin gene mutant catenin resistant ubiquitination proteasome degradation lead increase formation nuclear catenin factor complex alter expression wnt target gene like cyclin c myc subset mb harbor somatic catenin result nuclear accumulation nuclear catenin note mb suggest activation wnt signal pathway addition missense wnt signal inhibitor apc axin identify mb since inactivate wnt inhibitor axin identify microsatellite unstable colorectal carcinoma hepatocellular carcinoma hepatoblastomas ovarian endometrioid adenocarcinoma germline axin cause familial tooth agenesis want investigate involvement axin pathogenesis sporadic mb first perform systematic mutational screen gene single strand conformation polymorphism sscp analysis direct sequence analyze panel human mb biopsy human fetal cerebellar sample axin mrna expression assay demonstrate axin axin mrna regulation occur subset mb furthermore examine functional effect wild type mutate axin human mb line found wild type axin inhibits wnt signal pathway mb whereas c terminal truncate axin mutant activates pathway material method line total mb biopsy mb line analyze mb include classic desmoplastic subtypes classify accord revise classification brain age diagnosis range month year include male female mb enrol multicenter treatment study pediatric malignant brain hit german society pediatric hematology oncology eight human fetal cerebellar sample week gestation analyze control tissue biopsy adult cerebellum collect surgery nontumoral lesion cerebellum e g tissue adjacent vascular malformation constitutional dna available case peripheral blood lymphocyte moreover control dna obtain blood sample healthy volunteer without history cns disease inform consent give parent investigation data analysis study approve ethic committee university bonn medical center mutational analysis functional assay follow mb line daoy med med med med mhh med mhh med mhh med meb med meb med w p mb line culture described earlier serum supplement condition dna extraction rna extraction cdna preparation tissue fragment select dna rna extraction preexamined frozen section histology document histopathological appearance specimen exclude contaminate normal necrotic tissue fragment content least include dna isolated peripheral blood tissue line standard proteinase k sd digestion follow phenol chloroform extraction total cellular rna extract lysis guanidinium isocyanate ultracentrifugation cesium chloride cushion trizol reagent accord protocol supplier invitrogen karlsruhe germany remove contaminate genomic dna rna digest u rnase free dnase promega mannheim germany u rnasin promega volume l prior reverse transcription rna reverse transcribed superscript ii preamplification system life technology karlsruhe germany random hexamers primer final volume l absence contaminate genomic dna confirm amplification pcr fragment cdk gene primer span intronic sequence mutational analysis axin conductin gene mb axin gene consists exon range bp exon bp exon begin mutational screen size sequence intron know intron range kb whereas intron bp dna peripheral blood leukocyte amplify intron identify cod region well splice variant pcr product purify sequence pcr condition primer intronic sequence available request design primer pair amplify cod region axin codon accord genbank accession af pcr carry final volume l ng genomic dna buffer contain mm mgcl life technology dntp pmol forward reverse primer u taq polymerase life technology thirty five cycle pcr perform primer denaturation step c sec extension step c sec anneal temperature varied c sec primer sequence see supplementary table pcr product load onto polyacrylamide gel different acrylamide bisacrylamide ratio without glycerol run room temperature v hr single double strand pcr product visualize silver stain described elsewhere band aberrant migration excise sscp gel elute dna reamplified result pcr product purify qiaquick pcr purification kit qiagen chatsworth ca cycle sequence reaction perform final volume l abi prism bigdye terminator cycle sequence ready reaction kit apply biosystems foster city ca geneamp pcr system perkin elmer foster city ca ng pcr product template sequence product analyze abi dna sequencer apply biosystems frameshift identify mononucleotide repeat within exon axin gene colorectal defective mismatch repair ovarian endometrioid adencarcinoma additionally directly sequence region codon pcrs perform volume l amplification product purify sequence described earlier mrna expression axin conductin mb semiquantitative rt pcr measure expression level axin first create exogenous rna standard internal deletion bp axin housekeep gene microglobulin vitro mutagenesis vitro transcription primer vitro mutagenesis promoter attachment described elsewhere result competitor rna digest dnase purify rneasy quickspin column qiagen concentration determine photometrically two hundred fifty nanogram total rna fetal adult cerebellar tissue reverse transcribed together define amount exogenous competitor range reverse transcription described earlier primer fragment size well pcr condition axin microglobulin described elsewhere pcrs time reverse primer gene fluorescence label position abi fam mwg biotech result pcr product load onto denaturating acrylamide gel dna sequencer abi apply biosystems analyze genescan software abi ratio target pcr product intensity standard intensity determine level gene expression rna expression level calculate follow algorithm axin sample axin competitor microglobulinsample microglobulincompetitor methylation analysis analyze methylation status axin genomic dna mb primary line nonneoplastic fetal cerebellar tissue extract treat sodium bisulfite described primer amplification bisulfite treat dna follow sequence forward attggt tttatttgtatatagtt reverse aaatactcatctaaaatatcaaa amplify region accord genbank accession number ac pcr carry final volume l l modify dna amplification u hot firepol dna polymerase solis biodyne tartu estonia buffer b contain mm mgcl dntp pmol forward reverse primer denaturation c min follow pcr cycle min denaturation c min anneal c min extension c final extension step c min purify pcr product clone topo ta clone kit invitrogen ca least individual clone subject sequence employ bigdye v cycle sequence chemistry apply biosystems separate genetic analyzer apply biosystems single clone sequence analyze biq analyzer software treatment mb line aza deoxycytidine induce demethylation line daoy med med w meb med grown presence absence aza deoxycytidine sigma st louis mo day medium renew daily day total rna extract axin expression analysis luciferase reporter assay mb line med med mb line grown well plate volume ml mb wash pb transfer serum free neurobasal medium invitrogen transfection initial confluence cotransfected plasmid lipofection accord protocol supplier fugene roche follow construct top flash reporter vector g contain tcf consensus binding site upstream firefly luciferase cdna upstate biotechnology pcdna f cond g wild type conductin expression construct pcdna cond dix expression plasmid g conductin c terminal dix domain delete renilla sv vector g internal control transfection efficiency overall amount dna transfection mixture kept constant addition pcdna g twenty four hour transfection individual assay costimulated wnt ng ml r system wiesbaden germany another hr assay triplicate luciferase renilla activity measure dual luciferase reporter assay system promega hr follow transient transfection western blot analysis mb sample analyze axin protein expression western blotting anti axin monoclonal antibody c g detects wild type band kd protein lysis perform ice min l ice cold lysis buffer contain mmol l tris hcl ph mmol l nacl nonidet p mmol l phenylmethyl sulfonyl fluoride sigma u ml aprotinin calbiochem mol l naf debris remove centrifugation min g c protein separate electrophoresis bi tris gel nu page invitrogen blot onto nitrocellulose binding primary antibody detect secondary antibody label horseradish peroxidase amersham pharmacia biotech filter developed ecl detection reagent amersham pharmacia biotech described previously immunohistochemistry determine catenin accumulation status case axin expression analysis whether mb biopsy identify axin gene accumulation catenin protein paraffin section stain monoclonal anti catenin antibody clone igg g ml pb bovine serum albumin transduction laboratory binding primary antibody detect avidin biotin complex method dako copenhagen denmark visualize diaminobenzidine tetrahydrochloride detailed protocol catenin immunostaining described previously statistical analysis quantification signal competitive rt pcr normalization value microglobulin expression relative mrna expression axin mb sample compare adult fetal cerebellar tissue mann whitney rank sum test determine significance difference result axin conductin missense mb entire cod sequence axin gene analyze sscp panel mb dna sample mb line ten dna sequence variant identify three variant represent silent single nucleotide polymorphism snp variant identify intronic polymorphism dna mb biopsy constitutional blood sample aberrant band detect amplicons exon sequence reveal presence silent snp codon ccg cca codon cct ccc codon ctg ttg allelic frequency know polymorphism compare healthy caucasian snp codon reveal polymorphic allele group comparison control group snp codon differ significantly control group three intronic polymorphism locate intron one snp g frequency detect bp downstream exon second identify bp downstream exon frequency finally found intronic polymorphism intron bp upstream exon g frequency additionally discover missense exon axin gene ii classic mb result amino acid exchange ser phe constitutional dna blood available case search dna normal individual alteration detectable case classic mb aberrant band detect absent dna correspond blood sample sequence reveal bp insertion codon exon lead premature termination translation codon val stop mb biopsy identify somatic point exon codon cag cgg lead amino acid substitution gln arg open viewerdownload powerpoint slide axin somatic frameshift classic mb identify sscp direct sequence demonstrate bp insertion codon exon lead termination translation codon gtg tga color view online issue available www interscience wiley com another classic mb constitutional blood aberrant band detect amplicon exon sequence reveal gag aag base exchange codon result amino acid substitution glu lys missense absent normal individual frameshift mb result c terminal truncation axin protein investigate frameshift mb biopsy lead premature termination translation codon result c terminal truncation axin protein perform western blot analysis anti axin monoclonal antibody c g sample antibody detects double band kd correspond wild type protein additional band kd represent truncate axin protein case immunostaining tissue antibody catenin nuclear accumulation catenin protein b open viewerdownload powerpoint slide western blot analysis axin representative mb antibody c g detect axin wild type band grey arrow mb additional band kd black arrow represent truncate axin protein due frameshift codon b immunohistochemical analysis antibody catenin protein medulloblastoma somatic axin infiltrate cerebellum nuclear accumulation catenin whereas granule cerebellum react antibody color view online issue available www interscience wiley com reduce expression axin mb compare fetal cerebellum mrna expression axin housekeep gene microglobulin analyze classic mb desmoplastic mb eight fetal adult cerebellum include control study data indicate expression axin developmental stage cerebellar tissue well classic desmoplastic mb compare axin mrna level subtypes fetal adult cerebellar tissue mb reduce expression axin mrna compare fetal cerebellum different developmental stage p significant difference subtypes mb adult cerebellar tissue identify expression axin mrna fetal cerebellum significantly high comparison adult cerebellar tissue p open viewerdownload powerpoint slide mrna expression axin expression axin high fetal cerebellum n week gestation adult cerebellum n well classic n desmoplastic n mb low level axin mrna nuclear catenin accumulation cytoplasmic catenin accumulation analyze reduce expression axin mrna result axin promoter methylation investigate possible epigenetic silence axin dna hypermethylation analyze putative promoter region posse cpg island therefore examine region described koinuma report epigenetic silence axin epigenetically silence colorectal carcinoma microsatellite instability bisulfite sequence fifteen mb reduce axin transcription mb line fetal cerebellum tissue analyze bisulfite sequence single clone two mb cpg island methylation pattern mb line exhibit complete methylation cpg site whereas fetal cerebellum lack methylation region open viewerdownload powerpoint slide axin bisulfite sequence analysis cpg site individual clone mb line meb med primary medulloblastoma fill circle correspond methylated cpg position unfilled circle correspond unmethylated cpg position b relative transcript level axin medulloblastoma line without aza deoxycytidine treatment investigate cpg island methylation directly affect expression axin mb line treat aza deoxycytidine induce demethylation rna extraction reverse transcription significant increase axin mrna level comparison untreated mb except line meb med found b wild type axin antagonizes wnt signal whereas overexpression c terminal delete dix axin activates wnt signal mb role axin wnt signal pathway human mb line test wnt ligand responsive top flash luciferase reporter assay mb line med med catenin gene encode component multiprotein complex stimulate wnt result significant increase top flash luciferase activity activation top flash reporter wnt completely inhibit coexpression wild type axin open viewerdownload powerpoint slide mb transfected top flash reporter vector contain tcf consensus binding site full length axin conductin expression vector twenty four hour transfection stimulate wnt activation top flash reporter wnt inhibit coexpression fl conductin b mb line med med transfected top flash reporter vector g ml cotransfection mutate axin dix domain delete pcdna cond dix result enhance top flash luciferase activity next cotransfected mb line med top flash axin expression vector c terminal dix domain delete cotransfection result marked increase top flash luciferase activity b dix domain necessary homo oligomerization axin seem crucial inhibition tcf transcription expression construct mimic truncate axin protein observe mb due frameshift codon assay suggest wild type axin able antagonize wnt signal pathway mb whereas mutate axin result activation wnt signal dominant manner discussion activation wnt signal common event pathogenesis many different variety lead high tcf transcriptional activity identify gene cod component multiprotein complex wnt signal pathway previous report demonstrate wnt component catenin apc axin involve subset mb lead increase level cytoplasmic nuclear catenin protein recently axin conductin identify human axin gene homologue antagonizes wnt signal pathway addition activation wnt signal colorectal liver associate elevate level axin implicate axin involve negative feedback loop control wnt signal study analyze axin gene human mb wnt ligand responsive luciferase reporter assay demonstrate activation top flash reporter wnt completely inhibit coexpression wild type axin suggest axin able antagonize wnt signal mb way line open viewerdownload powerpoint slide schematic diagram axin genomic structure potential interaction domain protein c terminal dix domain locate amino acid site axin somatic frameshift missense mb germline mb rare polymorphism mb ii indicate arrow direct target gene know antagonist wnt signal pathway axin report overexpressed lung colon well hepatoblastomas contrast data demonstrate reduce expression axin mrna mb compare fetal cerebellum suggest inactivation axin suppressor gene mb since know wnt antagonist suppressive function like frizzle related protein sfrp wnt inhibitory factor wif frequently regulate promoter hypermethylation since silence important mechanism activation wnt signal pathway nonsmall lung colorectal carcinoma ovarian consider reduce expression axin mb could due promoter hypermethylation although detect slightly increase methylation level axin mb complete methylation status analyze mb line except meb med expression analysis mb line treat aza deoxycytidine indicate identify aberrant cpg island methylation contribute axin inactivation human mb therefore possible cpg site target bisulfite sequence single clone important transcriptional regulation axin mb moreover yet unidentified regulatory mechanism could involve transcriptional repression axin mouse axin exhibit tissue stage specific expression pattern development addition transgenic mouse express dominant positive variant catenin catenin ex nestin promoter marked increase axin expression entire ventricular zone develop forebrain demonstrate situ hybridization since know wnt signal pathway crucial development cerebellum assume like engrailed expression axin fetal cerebellar tissue consequence activation wnt pathway cerebellar development axin mutate colorectal microsatellite instability well case hepatocellular carcinoma ovarian endometrioid adenocarcinoma hepatoblastoma moreover germline protein truncate axin gene described causal family exhibit dominant inheritance tooth agenesis colorectal present study identify silent axin polymorphism codon mb previously report polymorphism significantly represent mb compare normal individual missense axin found hereditary colorectal polymorphism affected codon axin gene mb discover missense codon exon result amino acid exchange ser phe control dna available case determine occurrence rate caucasian individual identify control series detect healthy korean control suggest missense rare polymorphism mb missense axin locate apc binding site conductin gene identify axin gene panel mb discover missense classic mb result amino acid exchange glu lys glu locate exon encodes binding site catenin detectable constitutional blood normal individual matter predict germline recently frameshift identify mononucleotide repeat within exon axin gene first found colorectal defective mismatch repair functional study derive mutant suggest dominant activate effect mutant axin liu cotransfected truncate axin variant observe activation tcf dependent transcription moreover peterlongo cotransfected mutant axin expression construct p asn ginfsx e x derive frameshift insg tooth agenesis mutant increase basal top flash activity kind frameshift g x observe ovarian endometrioid adencarcinoma sequence region encompass mononucleotide tract codon mb biopsy similar found panel mb found somatic codon exon lead premature termination translation codon western blot analysis antibody axin additional band kd represent truncate axin protein due frameshift codon functional relevance axin underlined find respective biopsy nuclear accumulation catenin protein b pathway component like apc axin catenin absent indicate activation wnt signal case identify frameshift give rise early termination different site within axin protein common lead elimination dix domain amino acid domain necessary homo oligomerization thus essential inhibitory effect axin wnt signal pathway study effect truncate axin protein mb transfected mb axin expression vector c terminal dix domain delete cotransfection result marked increase top flash luciferase activity indicate mutant axin activates tcf dependent transcription mb b dominant manner summary able demonstrate wild type axin antagonizes wnt signal mb whereas truncate axin increase tcf activity interestingly axin mrna found regulate majority mb compare fetal cerebellum regulation result axin promoter hypermethylation similar data study colorectal ovarian endometrioid adenocarcinoma small subset sporadic mb carry axin frameshift result nuclear accumulation catenin protein presence catenin apc axin axin mb analyze different group suggests disruption wnt signal pathway different mechanism involve molecular pathogenesis case data far underline finding thompson ellison activate within wnt pathway define subset mb</td>\n",
       "      <td>0</td>\n",
       "      <td>0</td>\n",
       "      <td>0</td>\n",
       "      <td>0</td>\n",
       "      <td>0</td>\n",
       "      <td>0</td>\n",
       "      <td>0</td>\n",
       "      <td>0</td>\n",
       "      <td>...</td>\n",
       "      <td>0</td>\n",
       "      <td>0</td>\n",
       "      <td>0</td>\n",
       "      <td>0</td>\n",
       "      <td>0</td>\n",
       "      <td>0</td>\n",
       "      <td>0</td>\n",
       "      <td>0</td>\n",
       "      <td>0</td>\n",
       "      <td>0</td>\n",
       "    </tr>\n",
       "  </tbody>\n",
       "</table>\n",
       "<p>2 rows × 4324 columns</p>\n",
       "</div>"
      ],
      "text/plain": [
       "   id  \\\n",
       "0   1   \n",
       "1   2   \n",
       "\n",
       "                                                                                                                                                                                                                                                                                                                                                                                                                                                                                                                                                                                                                                                                                                                                                                                                                                                                                                                                                                                                                                                                                                                                                                                                                                                                                                                                                                                                                                                                                                                                                                                                                                                                                                                                                                                                                                                                                                                                                                                                                                                                                                                                                                                                                                                                                                                                                                                                                                                                                                                                                                                                                                                                                                                                                                                                                                                                                                                                                                                                                                                                                                                                                                                                                                                                                                                                                                                                                                                                                                                                                                                                                                                                                                                                                                                                                                                                                                                                                                                                                                                                                                                                                                                                                                                                                                                                                                                                                                                                                                                                                                                                                                                                                                                                                                                                                                                                                                                                                                                                                                                                                                                                                                                                                                                                                                                                                                                                                                                                                                                                                                                                                                                                                                                                                                                                                                                                                                                                                                                                                                                                                                                                                                                                                                                                                                                                                                                                                                                                                                                                                                                                                                                                                                                                                                                                                                                                                                                                                                                                                                                                                                                                                                                                                                                                                                                                                                                                                                                                                                                                                                                                                                                                                                                                                                                                                                                                                                                                                                                                                                                                                                                                                                                                                                                                                                                                                                                                                                                                                                                                                                                                                                                                                                                                                                                                                                                                                                                                                                                                                                                                                                                                                                                                                                                                                                                                                                                                                                                                                                                                                                                                                                                                                                                                                                                                                                                                                                                                                                                                                                                                                                                                                                                                                                                                                                                                                                                                                                                                                                                                                                                                                                                                                                                                                                                                                                                                                                                                                                                                                                                                                                                                                                                                                                                                                                                                                                                                                                                                                                                                                                                                                                                                                                                                                                                                                                                                                                                                                                                                                                                                                                                                                                                                                                                                                                                                                                                                                                                                                                                                                                                                                                                                                                                                                                                                                                                                                                                                                                                                                                                                                                                                                                                                                                                                                                                                                                                                                                                                                                                                                                                                                                                                                                                                                                                                                                                                                                                                                                                                                                                                                                                                                                                                                                                                                                                                                                                                                                                                                                                                                                                                                                                                                                                                                                                                                                                                                                                                                                                                                                                                                                                                                                                                                                                                                                                                                                                                                                                                                                                                                                                                                                                                                                                                                                                                                                                                                                                                                                                                                                                                                                                                                                                                                                                                                                                                                                                                                                                                                                                                                                                                                                                                                                                                                                                                                                                                                                                                                                                                                                                                                                                                                                                                                                                                                                                                                                                                                                                                                                                                                                                                                                                                                                                                                                                                                                                                                                                                                                                                                                                                                                                                                                                                                                                                                                                                                                                                                                                                                                                                                                                                                                                                                                                                                                                                                                                                                                                                                                                                                                                                                                                                                                                                                                                                                                                                                                                                                                                                                                                                                                                                                                                                                                                                                                                                                                                                                                                                                                                                                                                                                                                                                                                                                                                                                                                                                                                                                                                                                                                                                                                                                                                                                                                                                                                                                                                                                                                                                                                                                                                                                                                                                                                                                                                                                                                                                                                                                                                                                                                                                                                                                                                                                                                                                                                                                                                                                                                                                                                                                                                                                                                                                                                                                                                                                                                                                                                                                                                                                                                                                                                                                                                                                                                                                                                                                                                                                                                                                                                                                                                                                                                                                                                                                                                                                                                                                                                                                                                                                                                                                                                                                                                                                                                                                                                                                                                                                                                                                                                                                                                                                                                                                                                                                                                                                                                                                                                                                                                                                                                                                                                                                                                                                                                                                                                                                                                                                                                                                                                                                                                                                                                                                                                                                                                                                                                                                                                                                                                                                                                                                                                                                                                                                                                                                                                                                                                                                                                                                                                                                                                                                                                                                                                                                                                                                                                                                                                                                                                                                                                                                                                                                                                                                                                                                                                                                                                                                                                                                                                                                                                                                                                                                                                                                                                                                                                                                                                                                                                                                                                                                                                                                                                                                                                                                                                                                                                                                                                                                                                                                                                                                                                                                                                                                                                                                                                                                                                                                                                                                                                                                                                                                                                                                                                                                                                                                                                                                                                                                                                                                                                                                                                                                                                                                                                                                                                                                                                                                                                                                                                                                                                                                                                                                                                                                                                                                                                                                                                                                                                                                                                                                                                                                                                                                                                                                                                                                                                                                                                                                                                                                                                                                                                                                                                                                                                                                                                                                                                                                                                                                                                                                                                                                                                                                                                                                                                                                                                                                                                                                                                                                                                                                                                                                                                                                                                                                                                                                                                                                                                                                                                                                                                                                                                                                                                                                                                                                                                                                                                                                                                                                                                                                                                                                                                                                                                                                                                                                                                                                                                                                                                                                                                                                                                                                                                                                                                                                                                                                                                                                                                                                                                                                                                                                                                                                                                                                                                                                                                                                                                                                                                                                                                                                                                                                                                                                                                                                                                                                                                                                                                                                                                                                                                                                                                                                                                                                                                                                                                                                                                                                                                                                                                                                                                                                                                                                                                                                                                                                                                                                                                                                                                                                                                                                                                                                                                                                                                                                                                                                                                                                                                                                                                                                                                                                                                                                                                                                                                                                                                                                                                                                                                                                                                                                                                                                                                                                                                                                                                                                                                                                                                                                                                                                                                                                                                                                                                                                                                                                                                                                                                                                                                                                                                                                                                                                                                                                                                                                                                                                                                                                                                                                                                                                                                                                                                                                                                                                                                                                                                                                                                                                                                                                                                                                                                                                                                                                                                                                                                                                                                                                                                                                                                                                                                                                                                                                                                                                                                                                                                                                                                                                                                                                                                                                                                                                                                                                                                                                                                                                                                                                                                                                                                                                                                                                                                                                                                                                                                                                                                                                                                                                                                                                                                                                                                                                                                                                                                                                                                                                                                                                                                                                                                                                                                                                                                                                                                                                                                                                                                                                                                                                                                                                                                                                                                                                                                                                                                                                                                                                                                                                                                                                                                                                                                                                                                                                                                                                                                                                                                                                                                                                                                                                                                                                                                                                                                                                                                                                                                                                                                                                                                                                                                                                                                                                                                                                            text  \\\n",
       "0                                                                                                                                                                                                                                                                                                                                                                                                                                                                                                                                                                                                                                                                                                                                                                                                                                                                                                                                                                                                                                                                                                                                                                                                                                                                                                                                                                                                                                                                                                                                                                                                                                                                                                                                                                                                                                                                                                                                                                                                                                                                                                                                                                                                                                                                                                                                                                                                                                                                                                                                                                                                                                                                                                                                                                                                                                                                                                                                                                                                                                                                                                                                                                                                                                                                                                                                                                                                                                                                                                                                                                                                                                                                                                                                                                                                                                                                                                                                                                                                                                                                                                                                                                                                                                                                                                                                                                                                                                                                                                                                                                                                                                                                                                                                                                                                                                                                                                                                                                                                                                                                                                                                                                                                                                                                                                                                                                                                                                                                                                                                                                                                                                                                                                                                                                                                                                                                                                                                                                                                                                                                                                                                                                                                                                                                                                                                                                                                                                                                                                                                                                                                                                                                                                                                                                                                                                                                                                                                                                                                                                                                                                                                                                                                                                                                                                                                                                                                                                                                                                                                                                                                                                                                                                                                                                                                                                                                                                                                                                                                                                                                                                                                                                                                                                                                                                                                                                                                                                                                                                                                                                                                                                                                                                                                                                                                                                                                                                                                                                                                                                                                                                                                                                                                                                                                                                                                                                                                                                                                                                                                                                                                                                                                                                                                                                                                                                                                                                                                                                                                                                                                                                                                                                                                                                                                                                                                                                                                                                                                                                                                                                                                                                                                                                                                                                                                                                                                                                                                                                                                                                                                                                                                                                                                                                                                                                                                                                                                                                                                                                                                                                                                                                                                                                                                                                                                                                                                                                                                                                                                                                                                                                                                                                                                                                                                                                                                                                                                                                                                                                                                                                                                                                                                                                                                                                                                                                                                                                                                                                                                                                                                                                                                                                                                                                                                                                                                                                                                                                                                                                                                                                                                                                                                                                                                                                                                                                                                                                                                                                                                                                                                                                                                                                                                                                                                                                                                                                                                                                                                                                                                                                                                                                                                                                                                                                                                                                                                                                                                                                                                                                                                                                                                                                                                                                                                                                                                                                                                                                                                                                                                                                                                                                                                                                                                                                                                                                                                                                                                                                                                                                                                                                                                                                                                                                                                                                                                                                                                                                                                                                                                                                                                                                                                                                                                                                                                                                                                                                                                                                                                                                                                                                                                                                                                                                                                                                                                                                                                                                                                                                                                                                                                                                                                                                                                                                                                                                                                                                                                                                                                                                                                                                                                                                                                                                                                                                                                                                                                                                                                                                                                                                                                                                                                                                                                                                                                                                                                                                                                                                                                                                                                                                                                                                                                                                                                                                                                                                                                                                                                                                                                                                                                                                                                                                                                                                                                                                                                                                                                                                                                                                                                                                                                                                                                                                                                                                                                                                                                                                                                                                                                                                                                                                                                                                                                                                                                                                                                                                                                                                                                                                                                                                                                                                                                                                                                                                                                                                                                                                                                                                                                                                                                                                                                                                                                                                                                                                                                                                                                                                                                                                                                                                                                                                                                                                                                                                                                                                                                                                                                                                                                                                                                                                                                                                                                                                                                                                                                                                                                                                                                                                                                                                                                                                                                                                                                                                                                                                                                                                                                                                                                                                                                                                                                                                                                                                                                                                                                                                                                                                                                                                                                                                                                                                                                                                                                                                                                                                                                                                                                                                                                                                                                                                                                                                                                                                                                                                                                                                                                                                                                                                                                                                                                                                                                                                                                                                                                                                                                                                                                                                                                                                                                                                                                                                                                                                                                                                                                                                                                                                                                                                                                                                                                                                                                                                                                                                                                                                                                                                                                                                                                                                                                                                                                                                                                                                                                                                                                                                                                                                                                                                                                                                                                                                                                                                                                                                                                                                                                        incidence breast increase china recent decade familial breast account total chinese woman germline breast susceptibility gene brca mim brca mim responsible approximately chinese breast family liede narod breast susceptibility gene related chinese breast family therefore remain identify chek cycle checkpoint kinase know chk mim nm locate chromosome q encodes multifunctional kinase play important role cycle regulation apoptosis dna repair bartek chek gene contains three distinct functional domain sq tq rich domain residue forkhead associate domain residue serine threonine kinase domain residue bartek chek activate ataxia telangiectasia mutate atm mim protein response dna damage phosphorylation sq tq rich domain chek likely initiate event prerequisite subsequent activation step follow autophosphorylation chek residue activation loop kinase domain bartek previous study demonstrate chek moderate breast susceptibility gene meijers heijboer recurrent c delc abolishes kinase function chek confers twofold increase breast risk european woman meijers heijboer weischer germline chek gene comprehensively investigate chinese woman study small sample size less case screen exon chek chinese woman familial early onset breast chek c delc found study chen song preliminary study suggest account apparent low frequency chek c delc chinese woman little genetic risk breast chinese woman likely attributable chek c delc present study first screen entire cod region exon intron boundary chek chinese woman familial breast carry brca brca northern china recurrent variant c c p h exon chek identify cohort functional analysis suggest p h pathogenic therefore far detect unselected breast case healthy woman aim investigate whether chek p h associate breast risk chinese woman breast breast center peking university hospital october january familial breast define least two breast first second degree relative diagnose prior age year one hundred eighteen familial breast case unrelated family unselected breast case select without consideration history one thousand two hundred twenty eight healthy woman serve control study case control chinese woman han nationality reside north china peripheral blood sample collect control write inform consent obtain study approve research ethical committee peking university hospital genomic dna extract leukocyte pellet proteinase k digestion follow phenol chloroform extraction germline entire cod region exon intron boundary chek familial breast without brca brca detect polymerase chain reaction pcr follow denature high performance liquid chromatography dhplc sequence chek gene amplify set primer described elsewhere baysal dufault exon chek present multiple homologous copy genome nest pcr procedure perform avoid amplification pseudogene sequence sodha p h mutant chek generate mutagenesis kit stratagene la jolla ca accord manufacturer instruction transfection immunoblotting analysis vitro kinase assay perform essentially described previously xu detailed method described supp method total detect six germline sequence alteration chek familial breast case supp table among c g p p p r c g p e e report previously likely neutral polymorphism elevate risk breast bell schutte one case carry novel synonymous c c p variant likely associate disease c c p r c variant exon found one case previous study p r c variant abundant breast case control caucasian population difference reach significance dufault c del aac exon result p n del novel found one case supp table addition recurrent variant c c p h exon found five index case cohort supp b supp table bioinformatic analysis suggest p h likely alter chek function whereas p n del unclassified supp c p h within activation loop kinase domain chek protein enrich chinese familial breast case without brca brca p h therefore highly interest may compromise chek kinase activity open viewer functional analysis chek p h schematic diagram protein predict functional domain site p h b phosphorylation chek p h weaker wild type chek kinase defective mutant p serf negative control c autophosphorylation transphosphorylation impaired p h phosphorylation p h compromise response dna damage u stably transfected ha chek ha chek p h control vector treat adm eto hr investigate whether chek p h influence efficacy chek response dna damage therefore first examine phosphorylation wild type chek p h mutant chek vitro kinase assay gst fusion protein previously described kinase defective mutant chek p serf negative control chek phosphorylation detect phospho specific antibody wild type chek kinase defective mutant chek p whereas p h mutant weak phosphorylation b examine chek autophosphorylation activation vitro kinase assay p atp kinase defective chek p autophosphorylation activity enzymatic activity substrate cdc c mim activity autophosphorylation transphosphorylation activity p h mutant chek decrease approximately compare wild type chek c finally determine phosphorylation status response adriamycin adm etoposide eto induced dna damage u stably transfected wild type chek p h mutant mock vector transfectants expose dna damage agent adm eto hr phosphorylation p h mutant response adm eto treatment obviously reduce compare wild type chek take together p h partially reduces phosphorylation chek site chek kinase activity functional analysis suggest p h likely pathogenic therefore screen exon chek unselected breast healthy control p h found unselected breast case control table frequency p h familial unselected breast control respectively table compare control familial breast case carry p h nearly sixfold relative risk development breast odds ratio confidence interval ci p table furthermore significantly increase risk breast unselected case carry p h observe ci p table table association p h p n del chek breast risk variant total n frequency n ci p odds ratio ci confidence interval p h control ref familial case unselected case p n del control familial case unselected case screen chek p n del unselected breast case healthy individual p n del found subject suggest chek p n del rare chinese woman table median age diagnosis familial breast case carry chek p h year compare year noncarriers cohort case p h carrier tend diagnose earlier age noncarriers difference reach significance p segregation analysis chek p h test two family sufficiently informative draw meaningful conclusion lack dna sample suitable family member supp b remain three family analysis restrict index individual initially displayed p h data test whether loss heterozygosity loh chek deletion wild type allele occur five familial breast case carry heterozygous p h genomic dna extract blood tissue four case analyze existence p h confirm whereas reproducible evidence loh ever observe demonstrate p h recurrent missense chek associate increase breast risk chinese woman p h amino acid change within activation loop chek kinase domain essential activation chek response dna damage cai vitro experimental study indicate p h result decrease kinase activity chek least compare wild type chek may therefore encodes protein attenuate rather complete loss function furthermore loh involve p h associate tumorigenesis present study result suggest chek p h associate tumorigenesis may chek haploinsufficiency support notion missense partial loss function may contribute tumorigenesis via haploinsufficiency sodha study chek p h found familial breast case negative brca compare frequency healthy control indicate confers increase risk breast addition low frequency chek p h unselected case suggest risk breast confer modest increase breast risk confer chek p h similar chek c delc population note unselected case screen p h possible involvement others potentially disease related chek case cannot rule p h never report population previously report chinese woman relatively small sample size chen song p h nearby previous deleterious chek c delc however c delc detect among breast case healthy individual total subject current study indicate chek c delc absent quite infrequent chinese woman surprising variant chek vary among population narod lynch approximately new breast case diagnose china annually cao give huge number new breast case china find chek p h confers moderate risk breast chinese woman interest could identify approximately chinese woman modestly increase risk breast population level may exist ethnic group would great interest study population background previous study suggest recurrent chek h novel pathogenic confers increase risk breast purpose study investigate whether breast chek h likely respond neoadjuvant chemotherapy method screen cohort chinese woman operable primary breast receive neoadjuvant chemotherapy regimen chek h germline pathologic complete response pcr define absence breast completion neoadjuvant chemotherapy result thirty nine chek h germline identify cohort chek h carrier significantly high pcr rate non carrier versus p entire study population chek h positive status remain independent favorable predictor pcr multivariate analysis odds ratio confidence interval ci p chek h carrier slightly bad distant recurrence free survival non carrier adjust hazard ratio hr ci conclusion chek h carrier likely respond neoadjuvant chemotherapy non carrier go background chek cycle checkpoint kinase know chk encodes multifunctional kinase activate mainly ataxia telangiectasia mutate atm protein response dna double strand break activate chek turn phosphorylates several critical cycle protein include p cdc brca trigger cycle arrest apoptosis activation dna repair numerous study demonstrate chek moderate breast susceptibility gene chek delc truncate abrogates kinase activity protein confers approximately fold increase breast risk however prevalence chek delc varies widely among ethnic group mostly found dutch population absent rare population previously screen chinese woman breast case healthy control chek delc fail find population however novel recurrent chek near chek delc chek c h found chinese woman chek h within activation loop chek protein kinase domain essential activation chek response dna damage functional analysis reveals chek h produce dramatic decline chek activity pathogenic chek h confers fold increase breast risk chinese woman disruption chek kinase activity may contribute breast development influence breast survival response adjuvant therapy two study suggest chek delc associate poor recurrence free survival breast indicate chek delc aggressive phenotype previous study investigate association chek germline response neoadjuvant chemotherapy breast therefore current study investigate whether chek h carrier likely respond neoadjuvant chemotherapy term pathologic complete response pcr large cohort breast receive neoadjuvant chemotherapy far explore association chek h status distant recurrence free survival drfs go method study population total operable primary breast stage iii treat neoadjuvant chemotherapy breast center peking university hospital october december mean age subject year range year stage classify accord node metastasis classification union internationale contre le size define maximum diameter measure mammogram ultrasonogram time diagnosis grade accord modify bloom richardson system write consent obtain subject study approve research ethical committee peking university hospital chek h germline peripheral blood sample collect genomic dna extract leukocyte pellet proteinase k digestion follow phenol chloroform extraction chek h detect polymerase chain reaction pcr follow denature high performance liquid chromatography dhplc sequence direct sequence described previously screen germline chek h chek h status readable found carry screen chek h carrier germline brca two carry brca germline exclude study therefore chek h carrier include final analysis current study estrogen receptor er progesterone receptor pr status er pr status determine core needle biopsy breast tissue obtain initiation neoadjuvant chemotherapy described previously neoadjuvant chemotherapy regimen among receive neoadjuvant chemotherapy receive cycle treatment categorize three subgroup follow receive anthracycline base regimen detail regimen described previously receive ctf regimen receive fec regimen receive caf regimen remain receive type anthracycline regimen receive anthracycline taxane contain regimen receive two cycle anthracycline follow cycle paclitaxel alone mg iv per week week paclitaxel plus carboplatin paclitaxel mg iv day paclitaxel mg iv day day day carboplatin auc iv day every three week receive cycle paclitaxel alone docetaxel plus cyclophosphamide docetaxel mg iv day cyclophosphamide mg iv day every three week follow cycle anthracyclines remain receive type anthracycline taxane contain regimen e te regimen docetaxel plus epirubicin tac regimen docetaxel doxorubicin cyclophosphamide receive taxane base regimen without anthracyclines receive cycle paclitaxel mg iv week week receive paclitaxel plus carboplatin paclitaxel mg iv day day day carboplatin auc iv day every three week remain receive docetaxel plus cyclophosphamide docetaxel mg iv day cyclophosphamide mg iv day every three week cohort receive intravenous trastuzumab combination neoadjuvant chemotherapy completion neoadjuvant chemotherapy treat mastectomy n breast conserve surgery n depend size presence multiple lesion preference pcr define absence invasive breast breast completion neoadjuvant chemotherapy sixty two percent receive adjuvant chemotherapy alternative regimen operation axially positive lymph node breast conserve therapy receive radiotherapy er pr positive disease receive endocrine therapy mg tamoxifen year mg anastrozole year statistical analysis difference clinicopathological characteristic chek h carrier non carrier determine pearson chi square test association chek h status clinicopathologic characteristic pathological response neoadjuvant chemotherapy determine pearson chi square test fisher exact test number small logistic regression model apply determine whether factor independent predictor pcr multivariate analysis distant recurrence free survival drfs define time date diagnosis first distant recurrence include second primary malignancy death breast without record relapse survival curve derive kaplan meier estimate compare log rank test statistical test two side p value consider statistically significant statistical analysis perform spss software chicago il usa go result characteristic cohort woman carry chek h since primer study cover chek delc none chek delc found current study clinicopathological characteristic chemotherapy regimen group present table significant difference found chek h carrier non carrier regard size lymph node status er pr status chemotherapy regimen surgery type grade pathological type table however chek carrier likely diagnose age compare non carrier p table chek carrier less likely positive non carrier p table table table association characteristic chek h status response neoadjuvant chemotherapy chek carrier non carrier overall achieve pcr neoadjuvant chemotherapy pcr rate chek h carrier non carrier table indicate chek carrier significantly high pcr rate non carrier p table univariate analysis factor associate improve pcr rate er negativity p   \n",
       "1  unselected series colorectal carcinoma stratify accord microsatellite instability msi dna ploidy examine promoter hypermethylation five component wnt signal cascade apc ctnnb encode catenin axin tcf wisp three gene indirectly affect pathway cdh encode e cadherin pten tp apc tp present often microsatellite stable ms msi p confirm aneuploid ms frequently contain tp p whereas apc promoter hypermethylation reveal association ploidy apc upstream codon encode catenin binding site found mutate seem poor clinical outcome p frameshift axin pten tcf wisp found msi respectively half heterozygote axin concurrently mutate apc present study sample alteration one gene investigate add far evidence vital importance activate wnt signal colorectal carcinogenesis keywords wnt signal colorectal genomic instability hypermethylation go introduction wingless type mmtv integration site family wnt signal cascade play vital role embryogenesis deregulation implicate carcinogenesis pathway mainly uncovered study drosophila melanogaster highly conserve among several organism include mammalian catenin key component canonical wnt pathway regulate multiprotein complex consist among protein adenomatous polyposis coli apc axin glycogen synthase kinase gsk absence wnt signal catenin initially prim follow far phosphorylation lead proteasomal degradation presence wnt stimulation proper assembly multiprotein complex inhibit cause accumulation free cytosolic catenin translocates nucleus lead transcription downstream target gene b additionally free cytosolic catenin might form complex e cadherin catenin participate calcium dependent adhesion absence wnt signal multiprotein complex consist catenin apc axin gsk diversin div ck form lead phosphorylation subsequent proteosomal degradation catenin b inactivation suppressor gene apc key regulator wnt signal pathway one early transform event observe colorectal tumorigenesis apc alter dna sequence change promoter hypermethylation colorectal carcinoma well part multiprotein complex target catenin proteolysis apc interacts nuclear catenin reduce transcriptional activity enhance nuclear export furthermore recently apc could bind microtubule associate protein eb suggest potential effect apc chromosome segregation subgroup colorectal wild type apc oncogenic ctnnb gene encode catenin mainly affect specific serine threonine residue within exon ctnnb phosphorylation site kinase casein kinase ck gsk thereby impede degradation mention catenin bind e cadherin thereby influence contact hypermethylation promoter region cdh gene encode e cadherin observe subgroup colorectal carcinoma give rise increase level free cytosolic catenin however change alone enough activate wnt signal pathway two axin gene family member identify human axin axin gene colorectal carcinoma wild type apc ctnnb recently observe activation wnt signal pathway elevate level axin implicate axin negative feedback loop control wnt signal accumulation catenin induces stabilization suppressor protein tp tp enhances degradation catenin negative feedback mechanism process recently require ck gsk indicate tp induces phosphorylation catenin prior degradation thus manner status tp important activity along wnt cascade similarly pten influence wnt pathway hinder activation integrin link kinase ilk inhibits gsk thereby cause accumulation catenin two type genomic instability observe colorectal carcinogenesis microsatellite instability msi know min chromosome instability cin msi see phenotypic trait hereditary nonpolyposis case subgroup sporadic carcinoma defect mismatch repair mmr however colorectal carcinoma loss gain whole part chromosome thus exhibit cin however whether underlie instability process drive development subject ongoing debate distinct pathologic feature characterize two group msi cin msi account colorectal carcinoma associate mucinous histology lymphocytic infiltration diploidy poor differentiation location proximal colon cin typically microsatellite stable ms aneuploid locate distal colon rectum furthermore epigenetic change observe subgroup msi cin colorectal carcinoma defect mmr preferentially accumulate change repetitive sequence wnt pathway gene tcf wisp pten harbor repetitive sequence within cod region report mutate msi colorectal several gene part indirectly affect wnt signal pathway previously analyze colorectal however series small component examine within sample set therefore address issue far methylation analysis eight relevant gene series norwegian colorectal crc individual gene status well combination evaluate msi ms related clinicopathologic data include long term survival data go material method material msi status consecutive series primary crc male female collect seven hospital oslo akershus region include median age diagnosis year range year one clinical data miss surgery give curative treatment except rectal receive postoperative radiation therapy survival time record date surgery death last update july die within day resection censor determination content series previously described range mean msi status determine analyze dinucleotide marker well two mononucleotide marker bat bat thirty eight characterize msi high h msi low l ms four two biopsy analyze discordant msi status present study previously publish study msi l ms comparable come genetic change well clinicopathologic parameter therefore throughout rest paper consider one group ms group majority msi diploid locate proximal colon cecum ascendens right flexure whereas ms aneuploid locate distal colon left flexure descendens sigmoideum rectum two msi one ms clinicopathologic data available screen apc tp ctnnb previously investigate apc exon protein truncation test ptt exon apc present study six additional biopsy analyze method shortly genomic dna amplify polymerase chain reaction pcr promoter sequence mammalian initiation sequence frame unique apc sequence introduce pcr product subject couple transcription translation vitro assay cause premature termination protein product alter mobility gel electrophoresis tp exon previously search constant denaturant gradient electrophoresis cdge protocol found sample present study additional case examine temporal temperature gradient electrophoresis ttge method similar cdge modification procedure primer described aberrant migration band detect ptt cdge ttge submit direct sequence apply biosystems dna sequencer perkin elmer foster city ca ref present study ctnnb exon previously analyze single strand conformation polymorphism sequence include study sequence alteration axin exon axin contain four mononucleotide repeat g c c sequence msi follow primer set forward aac cca gtt tct ttc ctt ct reverse atc cct gcc tca acc ta prof wanguo liu personal communication dna technology aarhus denmark standard pcr condition direct sequence purify pcr product microspin hr column amersham pharmacia biotech thermo sequenase cycle sequence kit amersham pharmacia biotech perform accord manufacturer protocol abi prism genetic analyzer perkin elmer frameshift analysis pten tcf wisp two repeat within cod region pten analyze msi follow primer set apply forward cct gtg aaa taa tac tgg tat g reverse gtt tct tct ccc aat gaa agt aaa gta ca exon forward gtg cag ata atg aca agg aat reverse gtt tct tac aca tca cat aca tac aag tc exon dna technology seven base tail gtt tct add reverse primer avoid plus artifact forward primer end label fluorochrome two repeat amplify multiplex pcr analyze abi prism genetic analyzer condition previously described abnormal pcr product confirm new pcr verify sequence tcf repeat exon wisp repeat exon formerly analyze however five novel case include present study methylation specific pcr msp apc cdh fifty three colorectal sample consist msi ms analyze promoter hypermethylation apc cdh msp shortly msp distinguishes unmethylated methylated allele give gene base sequence alteration produce bisulfite treatment dna convert unmethylated methylated cytosine uracil subsequent pcr primer specific either methylated unmethylated dna perform previously report primer set amplification apc fragment cdh fragment medprobe oslo norway dna treat bisulfite amplify previously described methylation positive sample score visually two author l g e l weakly methylated heavily methylated sample interpret methylated confirm additional pcr association study heavily methylation include positive sample statistical analysis pearson chi square analysis fisher exact test comparison among different group cause specific survival analysis death crc accomplish kaplan meier method long rank test apply determine difference survival p consider statistically significant spss software spss chicago il analysis hierarchical cluster analysis average linkage method pearson correlation similarity measure cluster analysis draw dendogram perform j express pro go result apc ctnnb tp ms msi frequency gene investigate present apc tp present often ms msi p table one msi apc wild type tp whereas ms harbor apc tp p interestingly majority apc msi occur outside cluster region mcr codon contrast ms group within mcr p sixteen msi ms apc two within gene frequency seven gene investigate colorectal carcinoma different msi status wisp axin pten analyze msi msi microsatellite instabile ms microsatellite stable table table apc tp status correlation msi status ctnnb alter one msi one ms msi simultaneously alter tcf wisp whereas ms additionally apc tp neither apc tp associate cin msi group table true methylated apc include p however correlation tp cin observe ms p table table apc tp relation msi status dna content apc reside end codon encode catenin binding site three amino acid repeat see include nine frameshift six nonsense two missense detect two contain frameshift locate downstream codon early truncation apc protein thus observe tendency shorter related survival one apc downstream codon encode catenin binding site n p see wild type n grouped together one downstream codon p contain apc upstream codon encode catenin binding site three amino acid repeat shorter related survival harbor downstream confirm affect l domain tp codon significantly shorter related survival versus wild type tp p upstream codon apc affect l domain tp tendency toward shorter related survival gene p synergistic effect early apc affect zinc binding domain l tp observe however four contain frameshift wnt gene msi axin pten tcf wisp contain mononucleotide repeat within cod region thus prone msi frameshift within axin pten tcf wisp found among msi respectively tcf exclusively change msi p exon axin observe seven msi heterozygous three contain insertion one g g repeat two deletion one g g repeat one harbor deletion one c c repeat finally one deletion one repeat one primary two biopsy analyze different axin status determine therefore exclude interestingly three insertion one g one deletion one g g repeat concurrently mutate apc three apc insertion one gaa gaaa codon whereas last apc could verify sequence axin apc within msi colorectal carcinoma sample direct sequence identify insertion one g g repeat axin ptt sequence recognize insertion one codon apc six msi mutate pten frameshift evenly distribute exon one primary exclude three biopsy analyze discordant pten status found biallelic see one whereas others monoallelic homozygous pten none analyze gene change hypermethylation apc cdh ms msi heavy methylation promoter region apc found msi two concurrently mutate apc contrary ms group hypermethylation apc five simultaneously mutate apc p promoter region cdh hypermethylated msi ms respectively within group alteration apc methylation observe case cluster analysis wnt component msi hierarchical cluster analysis perform msi informative least six nine locus investigate include analysis n apc occur frequently together tcf subset contain axin apc sole wnt component change one msi axin another hypermethylation apc additionally harbor epigenetic change cdh gene directly involve wnt signal pathway apc tcf axin ctnnb wisp cluster together whereas pten different component three primary two biopsy analyze deviate molecular result therefore cluster together observe one two primary include c hierarchical cluster analysis msi average linkage pearson correlation sample give right dendogram analyze gene depict top dendogram column represent alteration one observe difference related survival msi harbor alteration three seven wnt component analyze apc ctnnb axin tcf wisp pten tp n compare msi contain alteration less three component n p many include present study alteration one eight wnt gene investigate go discussion canonical wnt signal pathway activate vast majority colorectal apc one key component pathway dysfunction apc observe familial polyposis coli fap case sporadic colorectal inactivation apc lead accumulation catenin cytoplasm nucleus thereby activation wnt signal although several wnt component report alter crc well malignancy knowledge none study interaction multiple component within series frequency distribution axin comparable two previously publish study insertion one g g repeat predict stop amino acid whereas predict stop amino acid http u expasy org tool dna html although give rise stop different place axin protein lead elimination dix dishevel axin domain amino acid domain necessary homo oligomerization thus essential inhibitory effect axin wnt pathway previously publish study harbor axin wild type apc ctnnb however study axin harbor apc observe one analyze domingo among remain three axin present study two harbor either tp tcf suggests heterozygous axin alone sufficient activate wnt signal pathway heterozygous axin express one wild type allele might retain inhibitory effect axin axin homologue axin might substitute function mutate axin therefore component wnt signal pathway need alter order fully activate pathway neither two previous study axin analyze several component wnt signal pathway series cod region axin correspond domain binding site b consequence different axin relation apc tp tcf insertion one g g repeat axin predict stop amino acid germline pten found cowden syndrome juvenile polyposis syndrome syndrome associate increase risk crc somatic report colorectal carcinoma pten inhibits activity phosphatidylinositol kinase pi k thus pi k dependent signal pathway regulate survival growth recently pten pi k influence wnt signal pathway pten null prostate line activate pi k phosphorylated ilk subsequently inhibit gsk lead accumulation nuclear catenin increase expression cyclin reexpression pten increase phosphorylation degradation catenin pten thus work negative regulator wnt signal recently nassif pten present subgroup sporadic ms colorectal biallelic inactivation two loss heterozygosity occur half case lead absence pten expression epigenetic inactivation pten suggest contribute mechanism colorectal carcinogenesis overall finding indicate inactivation pten important development msi ms colorectal wherein activation wnt signal pathway seem one central mechanism frequency distribution pten present series line previous report interestingly homozygous pten none wnt component alter indicate change alone might sufficient activate pathway contrast ms msi apc wild type tp however majority change wnt component might partly substitute effect tp interestingly one msi apc outside mcr downstream mcr usually hot spot codon whereas subgroup ms harbor outside mcr majority occur upstream mcr msi downstream mcr wnt component frequently within tcf axin whereas msi apc upstream mcr change wnt component analyze might indicate downstream mcr kept catenin binding degradation site codon therefore require additional order activate wnt pathway hand except two msi ms upstream mcr lose catenin binding codon downregulation site codon suggest accumulation catenin nucleus transcription wnt target gene apc upstream codon although heterozygous might thus alone sufficient activate wnt cascade significance early far strengthen bad clinical outcome observe compare apc one wild type apc even distribution tp l domain associate shorter related survival present two apc group therefore influence result true msi occur approximately group apc suggest control proper chromosome segregation mouse embryonic stem apc lead karyotypic alteration term cin however thorough examination mouse polyploidization whole genome rather loss gain one chromosome observe furthermore well characterize human colon line harbor apc exhibit stable karyotype thousand division within material association apc cin observe support latter observation however association apc tetraploidy flow cytometry found hand association tp cin see line previous report well others presence apc equally distribute ms msi without hypermethylation apc however among hypermethylated skewed distribution apc within two group present one explanation allele inactivate hypermethylation msi therefore additional apc require fully inactivate protein whereas one allele inactivate epigenetic mechanism ms therefore additional necessary suggest lose reduce expression e cadherin alone sufficient activate wnt signal pathway increase level free cytosolic catenin rapidly remove intact degradation system however component degradation complex affected catenin accumulate wnt pathway activate study hypermethylation cdh associate alteration apc thus support latter view majority detect wnt gene monoallelic usually two component mutate within thereby affect wnt pathway different level jointly contribute induction activation instance frameshift tcf lead truncate protein reduce capability bind transcriptional repressor occur impaired catenin degradation system apc axin pten tp influence wnt signal pathway indirect manner may explain cluster together mutate wnt component two protein involve several different signal pathway within gene may lead cellular transformation without complete activation wnt signal pathway molecular study nearly colorectal contain activate wnt signal pathway agreement finding case series without change examine gene wnt component may alter one candidate axin report mutate subgroup msi colorectal another candidate pp r b gene encode isoform subunit holoenzyme pp report mutate colorectal xenopus pp present catenin degradation complex might dephosphorylate activate gsk lead degradation catenin inhibition wnt signal pathway wnt component upstream catenin degradation complex may harbor alteration far described however knowledge molecular mechanism lead activation wnt signal pathway increase well information activate pathway contributes initiation colorectal carcinogenesis others clearly demonstrate pathway turn nearly colorectal carcinoma thus pinpoint necessity wnt activation development colorectal medulloblastomas mb represent common malignant brain child mb develop sporadically cerebellum incidence highly elevate familial adenomatous polyposis coli carry germline apc suppressor gene apc part multiprotein complex involve wnt signal pathway control stability catenin central effector cascade previous genetic study mb identify gene cod catenin partner apc axin cause activation wnt signal pathway negatively control suppressor axin conductin scaffold protein signal complex investigate whether alteration axin may involve pathogenesis sporadic mb perform mutational screen axin gene mb biopsy sample mb line single strand conformation polymorphism sequence analysis one mb displayed somatic specific bp insertion exon lead carboxy terminal truncation axin protein biopsy nuclear accumulation catenin protein indicate activation wnt signal far mb biopsy identify exon glu lys exon ser phe axin gene due predict germline rare polymorphism mrna expression analysis mb reveal reduce expression axin mrna compare fetal cerebellar tissue promoter hypermethylation could rule major cause transcriptional silence bisulfite sequence study functional role axin mb wild type axin overexpressed mb line wnt signal pathway activate wnt assay axin inhibit wnt signal demonstrate luciferase reporter assay contrast overexpression mutate axin delete c terminal dix domain result activation wnt signal pathway finding indicate axin lead oncogenic activation wnt pathway mb wiley li inc medulloblastomas mb represent frequent malignant brain childhood incidence case million child mb thought arise neoplastic transformation external granule layer develop cerebellum although majority mb occur sporadic case familial syndrome include nevoid basal carcinoma syndrome gorlin syndrome turcot syndrome associate significantly elevate incidence mb wild type apc allele mb report lose turcot syndrome suggest apc function suppressor gene cerebellum loss apc function result transcriptional activation wnt signal pathway play major role tumorigenesis regulation proliferation differentiation development central nervous system activity wnt signal pathway dependent upon central effector catenin amount cytoplasmic catenin control wnt antagonist axin homologue axin conductin interact functionally apc glycogen synthase kinase gsk multiprotein complex promotes nh terminal phosphorylation catenin gsk result degradation proteasome system beside apc gene particularly frequent colon several carry oncogenic missense n terminal residue catenin gene mutant catenin resistant ubiquitination proteasome degradation lead increase formation nuclear catenin factor complex alter expression wnt target gene like cyclin c myc subset mb harbor somatic catenin result nuclear accumulation nuclear catenin note mb suggest activation wnt signal pathway addition missense wnt signal inhibitor apc axin identify mb since inactivate wnt inhibitor axin identify microsatellite unstable colorectal carcinoma hepatocellular carcinoma hepatoblastomas ovarian endometrioid adenocarcinoma germline axin cause familial tooth agenesis want investigate involvement axin pathogenesis sporadic mb first perform systematic mutational screen gene single strand conformation polymorphism sscp analysis direct sequence analyze panel human mb biopsy human fetal cerebellar sample axin mrna expression assay demonstrate axin axin mrna regulation occur subset mb furthermore examine functional effect wild type mutate axin human mb line found wild type axin inhibits wnt signal pathway mb whereas c terminal truncate axin mutant activates pathway material method line total mb biopsy mb line analyze mb include classic desmoplastic subtypes classify accord revise classification brain age diagnosis range month year include male female mb enrol multicenter treatment study pediatric malignant brain hit german society pediatric hematology oncology eight human fetal cerebellar sample week gestation analyze control tissue biopsy adult cerebellum collect surgery nontumoral lesion cerebellum e g tissue adjacent vascular malformation constitutional dna available case peripheral blood lymphocyte moreover control dna obtain blood sample healthy volunteer without history cns disease inform consent give parent investigation data analysis study approve ethic committee university bonn medical center mutational analysis functional assay follow mb line daoy med med med med mhh med mhh med mhh med meb med meb med w p mb line culture described earlier serum supplement condition dna extraction rna extraction cdna preparation tissue fragment select dna rna extraction preexamined frozen section histology document histopathological appearance specimen exclude contaminate normal necrotic tissue fragment content least include dna isolated peripheral blood tissue line standard proteinase k sd digestion follow phenol chloroform extraction total cellular rna extract lysis guanidinium isocyanate ultracentrifugation cesium chloride cushion trizol reagent accord protocol supplier invitrogen karlsruhe germany remove contaminate genomic dna rna digest u rnase free dnase promega mannheim germany u rnasin promega volume l prior reverse transcription rna reverse transcribed superscript ii preamplification system life technology karlsruhe germany random hexamers primer final volume l absence contaminate genomic dna confirm amplification pcr fragment cdk gene primer span intronic sequence mutational analysis axin conductin gene mb axin gene consists exon range bp exon bp exon begin mutational screen size sequence intron know intron range kb whereas intron bp dna peripheral blood leukocyte amplify intron identify cod region well splice variant pcr product purify sequence pcr condition primer intronic sequence available request design primer pair amplify cod region axin codon accord genbank accession af pcr carry final volume l ng genomic dna buffer contain mm mgcl life technology dntp pmol forward reverse primer u taq polymerase life technology thirty five cycle pcr perform primer denaturation step c sec extension step c sec anneal temperature varied c sec primer sequence see supplementary table pcr product load onto polyacrylamide gel different acrylamide bisacrylamide ratio without glycerol run room temperature v hr single double strand pcr product visualize silver stain described elsewhere band aberrant migration excise sscp gel elute dna reamplified result pcr product purify qiaquick pcr purification kit qiagen chatsworth ca cycle sequence reaction perform final volume l abi prism bigdye terminator cycle sequence ready reaction kit apply biosystems foster city ca geneamp pcr system perkin elmer foster city ca ng pcr product template sequence product analyze abi dna sequencer apply biosystems frameshift identify mononucleotide repeat within exon axin gene colorectal defective mismatch repair ovarian endometrioid adencarcinoma additionally directly sequence region codon pcrs perform volume l amplification product purify sequence described earlier mrna expression axin conductin mb semiquantitative rt pcr measure expression level axin first create exogenous rna standard internal deletion bp axin housekeep gene microglobulin vitro mutagenesis vitro transcription primer vitro mutagenesis promoter attachment described elsewhere result competitor rna digest dnase purify rneasy quickspin column qiagen concentration determine photometrically two hundred fifty nanogram total rna fetal adult cerebellar tissue reverse transcribed together define amount exogenous competitor range reverse transcription described earlier primer fragment size well pcr condition axin microglobulin described elsewhere pcrs time reverse primer gene fluorescence label position abi fam mwg biotech result pcr product load onto denaturating acrylamide gel dna sequencer abi apply biosystems analyze genescan software abi ratio target pcr product intensity standard intensity determine level gene expression rna expression level calculate follow algorithm axin sample axin competitor microglobulinsample microglobulincompetitor methylation analysis analyze methylation status axin genomic dna mb primary line nonneoplastic fetal cerebellar tissue extract treat sodium bisulfite described primer amplification bisulfite treat dna follow sequence forward attggt tttatttgtatatagtt reverse aaatactcatctaaaatatcaaa amplify region accord genbank accession number ac pcr carry final volume l l modify dna amplification u hot firepol dna polymerase solis biodyne tartu estonia buffer b contain mm mgcl dntp pmol forward reverse primer denaturation c min follow pcr cycle min denaturation c min anneal c min extension c final extension step c min purify pcr product clone topo ta clone kit invitrogen ca least individual clone subject sequence employ bigdye v cycle sequence chemistry apply biosystems separate genetic analyzer apply biosystems single clone sequence analyze biq analyzer software treatment mb line aza deoxycytidine induce demethylation line daoy med med w meb med grown presence absence aza deoxycytidine sigma st louis mo day medium renew daily day total rna extract axin expression analysis luciferase reporter assay mb line med med mb line grown well plate volume ml mb wash pb transfer serum free neurobasal medium invitrogen transfection initial confluence cotransfected plasmid lipofection accord protocol supplier fugene roche follow construct top flash reporter vector g contain tcf consensus binding site upstream firefly luciferase cdna upstate biotechnology pcdna f cond g wild type conductin expression construct pcdna cond dix expression plasmid g conductin c terminal dix domain delete renilla sv vector g internal control transfection efficiency overall amount dna transfection mixture kept constant addition pcdna g twenty four hour transfection individual assay costimulated wnt ng ml r system wiesbaden germany another hr assay triplicate luciferase renilla activity measure dual luciferase reporter assay system promega hr follow transient transfection western blot analysis mb sample analyze axin protein expression western blotting anti axin monoclonal antibody c g detects wild type band kd protein lysis perform ice min l ice cold lysis buffer contain mmol l tris hcl ph mmol l nacl nonidet p mmol l phenylmethyl sulfonyl fluoride sigma u ml aprotinin calbiochem mol l naf debris remove centrifugation min g c protein separate electrophoresis bi tris gel nu page invitrogen blot onto nitrocellulose binding primary antibody detect secondary antibody label horseradish peroxidase amersham pharmacia biotech filter developed ecl detection reagent amersham pharmacia biotech described previously immunohistochemistry determine catenin accumulation status case axin expression analysis whether mb biopsy identify axin gene accumulation catenin protein paraffin section stain monoclonal anti catenin antibody clone igg g ml pb bovine serum albumin transduction laboratory binding primary antibody detect avidin biotin complex method dako copenhagen denmark visualize diaminobenzidine tetrahydrochloride detailed protocol catenin immunostaining described previously statistical analysis quantification signal competitive rt pcr normalization value microglobulin expression relative mrna expression axin mb sample compare adult fetal cerebellar tissue mann whitney rank sum test determine significance difference result axin conductin missense mb entire cod sequence axin gene analyze sscp panel mb dna sample mb line ten dna sequence variant identify three variant represent silent single nucleotide polymorphism snp variant identify intronic polymorphism dna mb biopsy constitutional blood sample aberrant band detect amplicons exon sequence reveal presence silent snp codon ccg cca codon cct ccc codon ctg ttg allelic frequency know polymorphism compare healthy caucasian snp codon reveal polymorphic allele group comparison control group snp codon differ significantly control group three intronic polymorphism locate intron one snp g frequency detect bp downstream exon second identify bp downstream exon frequency finally found intronic polymorphism intron bp upstream exon g frequency additionally discover missense exon axin gene ii classic mb result amino acid exchange ser phe constitutional dna blood available case search dna normal individual alteration detectable case classic mb aberrant band detect absent dna correspond blood sample sequence reveal bp insertion codon exon lead premature termination translation codon val stop mb biopsy identify somatic point exon codon cag cgg lead amino acid substitution gln arg open viewerdownload powerpoint slide axin somatic frameshift classic mb identify sscp direct sequence demonstrate bp insertion codon exon lead termination translation codon gtg tga color view online issue available www interscience wiley com another classic mb constitutional blood aberrant band detect amplicon exon sequence reveal gag aag base exchange codon result amino acid substitution glu lys missense absent normal individual frameshift mb result c terminal truncation axin protein investigate frameshift mb biopsy lead premature termination translation codon result c terminal truncation axin protein perform western blot analysis anti axin monoclonal antibody c g sample antibody detects double band kd correspond wild type protein additional band kd represent truncate axin protein case immunostaining tissue antibody catenin nuclear accumulation catenin protein b open viewerdownload powerpoint slide western blot analysis axin representative mb antibody c g detect axin wild type band grey arrow mb additional band kd black arrow represent truncate axin protein due frameshift codon b immunohistochemical analysis antibody catenin protein medulloblastoma somatic axin infiltrate cerebellum nuclear accumulation catenin whereas granule cerebellum react antibody color view online issue available www interscience wiley com reduce expression axin mb compare fetal cerebellum mrna expression axin housekeep gene microglobulin analyze classic mb desmoplastic mb eight fetal adult cerebellum include control study data indicate expression axin developmental stage cerebellar tissue well classic desmoplastic mb compare axin mrna level subtypes fetal adult cerebellar tissue mb reduce expression axin mrna compare fetal cerebellum different developmental stage p significant difference subtypes mb adult cerebellar tissue identify expression axin mrna fetal cerebellum significantly high comparison adult cerebellar tissue p open viewerdownload powerpoint slide mrna expression axin expression axin high fetal cerebellum n week gestation adult cerebellum n well classic n desmoplastic n mb low level axin mrna nuclear catenin accumulation cytoplasmic catenin accumulation analyze reduce expression axin mrna result axin promoter methylation investigate possible epigenetic silence axin dna hypermethylation analyze putative promoter region posse cpg island therefore examine region described koinuma report epigenetic silence axin epigenetically silence colorectal carcinoma microsatellite instability bisulfite sequence fifteen mb reduce axin transcription mb line fetal cerebellum tissue analyze bisulfite sequence single clone two mb cpg island methylation pattern mb line exhibit complete methylation cpg site whereas fetal cerebellum lack methylation region open viewerdownload powerpoint slide axin bisulfite sequence analysis cpg site individual clone mb line meb med primary medulloblastoma fill circle correspond methylated cpg position unfilled circle correspond unmethylated cpg position b relative transcript level axin medulloblastoma line without aza deoxycytidine treatment investigate cpg island methylation directly affect expression axin mb line treat aza deoxycytidine induce demethylation rna extraction reverse transcription significant increase axin mrna level comparison untreated mb except line meb med found b wild type axin antagonizes wnt signal whereas overexpression c terminal delete dix axin activates wnt signal mb role axin wnt signal pathway human mb line test wnt ligand responsive top flash luciferase reporter assay mb line med med catenin gene encode component multiprotein complex stimulate wnt result significant increase top flash luciferase activity activation top flash reporter wnt completely inhibit coexpression wild type axin open viewerdownload powerpoint slide mb transfected top flash reporter vector contain tcf consensus binding site full length axin conductin expression vector twenty four hour transfection stimulate wnt activation top flash reporter wnt inhibit coexpression fl conductin b mb line med med transfected top flash reporter vector g ml cotransfection mutate axin dix domain delete pcdna cond dix result enhance top flash luciferase activity next cotransfected mb line med top flash axin expression vector c terminal dix domain delete cotransfection result marked increase top flash luciferase activity b dix domain necessary homo oligomerization axin seem crucial inhibition tcf transcription expression construct mimic truncate axin protein observe mb due frameshift codon assay suggest wild type axin able antagonize wnt signal pathway mb whereas mutate axin result activation wnt signal dominant manner discussion activation wnt signal common event pathogenesis many different variety lead high tcf transcriptional activity identify gene cod component multiprotein complex wnt signal pathway previous report demonstrate wnt component catenin apc axin involve subset mb lead increase level cytoplasmic nuclear catenin protein recently axin conductin identify human axin gene homologue antagonizes wnt signal pathway addition activation wnt signal colorectal liver associate elevate level axin implicate axin involve negative feedback loop control wnt signal study analyze axin gene human mb wnt ligand responsive luciferase reporter assay demonstrate activation top flash reporter wnt completely inhibit coexpression wild type axin suggest axin able antagonize wnt signal mb way line open viewerdownload powerpoint slide schematic diagram axin genomic structure potential interaction domain protein c terminal dix domain locate amino acid site axin somatic frameshift missense mb germline mb rare polymorphism mb ii indicate arrow direct target gene know antagonist wnt signal pathway axin report overexpressed lung colon well hepatoblastomas contrast data demonstrate reduce expression axin mrna mb compare fetal cerebellum suggest inactivation axin suppressor gene mb since know wnt antagonist suppressive function like frizzle related protein sfrp wnt inhibitory factor wif frequently regulate promoter hypermethylation since silence important mechanism activation wnt signal pathway nonsmall lung colorectal carcinoma ovarian consider reduce expression axin mb could due promoter hypermethylation although detect slightly increase methylation level axin mb complete methylation status analyze mb line except meb med expression analysis mb line treat aza deoxycytidine indicate identify aberrant cpg island methylation contribute axin inactivation human mb therefore possible cpg site target bisulfite sequence single clone important transcriptional regulation axin mb moreover yet unidentified regulatory mechanism could involve transcriptional repression axin mouse axin exhibit tissue stage specific expression pattern development addition transgenic mouse express dominant positive variant catenin catenin ex nestin promoter marked increase axin expression entire ventricular zone develop forebrain demonstrate situ hybridization since know wnt signal pathway crucial development cerebellum assume like engrailed expression axin fetal cerebellar tissue consequence activation wnt pathway cerebellar development axin mutate colorectal microsatellite instability well case hepatocellular carcinoma ovarian endometrioid adenocarcinoma hepatoblastoma moreover germline protein truncate axin gene described causal family exhibit dominant inheritance tooth agenesis colorectal present study identify silent axin polymorphism codon mb previously report polymorphism significantly represent mb compare normal individual missense axin found hereditary colorectal polymorphism affected codon axin gene mb discover missense codon exon result amino acid exchange ser phe control dna available case determine occurrence rate caucasian individual identify control series detect healthy korean control suggest missense rare polymorphism mb missense axin locate apc binding site conductin gene identify axin gene panel mb discover missense classic mb result amino acid exchange glu lys glu locate exon encodes binding site catenin detectable constitutional blood normal individual matter predict germline recently frameshift identify mononucleotide repeat within exon axin gene first found colorectal defective mismatch repair functional study derive mutant suggest dominant activate effect mutant axin liu cotransfected truncate axin variant observe activation tcf dependent transcription moreover peterlongo cotransfected mutant axin expression construct p asn ginfsx e x derive frameshift insg tooth agenesis mutant increase basal top flash activity kind frameshift g x observe ovarian endometrioid adencarcinoma sequence region encompass mononucleotide tract codon mb biopsy similar found panel mb found somatic codon exon lead premature termination translation codon western blot analysis antibody axin additional band kd represent truncate axin protein due frameshift codon functional relevance axin underlined find respective biopsy nuclear accumulation catenin protein b pathway component like apc axin catenin absent indicate activation wnt signal case identify frameshift give rise early termination different site within axin protein common lead elimination dix domain amino acid domain necessary homo oligomerization thus essential inhibitory effect axin wnt signal pathway study effect truncate axin protein mb transfected mb axin expression vector c terminal dix domain delete cotransfection result marked increase top flash luciferase activity indicate mutant axin activates tcf dependent transcription mb b dominant manner summary able demonstrate wild type axin antagonizes wnt signal mb whereas truncate axin increase tcf activity interestingly axin mrna found regulate majority mb compare fetal cerebellum regulation result axin promoter hypermethylation similar data study colorectal ovarian endometrioid adenocarcinoma small subset sporadic mb carry axin frameshift result nuclear accumulation catenin protein presence catenin apc axin axin mb analyze different group suggests disruption wnt signal pathway different mechanism involve molecular pathogenesis case data far underline finding thompson ellison activate within wnt pathway define subset mb   \n",
       "\n",
       "   gene_ABCB11  gene_ABCC6  gene_ABL1  gene_ACVR1  gene_ADAMTS13  gene_ADGRG1  \\\n",
       "0            0           0          0           0              0            0   \n",
       "1            0           0          0           0              0            0   \n",
       "\n",
       "   gene_AGO2  gene_AGXT  ...  variation_YAP1-TFE3 Fusion  \\\n",
       "0          0          0  ...                           0   \n",
       "1          0          0  ...                           0   \n",
       "\n",
       "   variation_YWHAE-ROS1 Fusion  variation_ZC3H7B-BCOR Fusion  \\\n",
       "0                            0                             0   \n",
       "1                            0                             0   \n",
       "\n",
       "   variation_ZNF198-FGFR1 Fusion  variation_null1313Y  variation_null189Y  \\\n",
       "0                              0                    0                   0   \n",
       "1                              0                    0                   0   \n",
       "\n",
       "   variation_null262Q  variation_null267R  variation_null399R  \\\n",
       "0                   0                   0                   0   \n",
       "1                   0                   0                   0   \n",
       "\n",
       "   variation_p61BRAF  \n",
       "0                  0  \n",
       "1                  0  \n",
       "\n",
       "[2 rows x 4324 columns]"
      ]
     },
     "execution_count": 48,
     "metadata": {},
     "output_type": "execute_result"
    }
   ],
   "source": [
    "test.head(2)"
   ]
  },
  {
   "cell_type": "markdown",
   "metadata": {},
   "source": [
    "## Splitting of data into Predictor (X) and Target (y) Dataframes"
   ]
  },
  {
   "cell_type": "code",
   "execution_count": 49,
   "metadata": {},
   "outputs": [],
   "source": [
    "X = train[[i for i in train.columns if i not in ['id', 'class']]]\n",
    "y = train['class']"
   ]
  },
  {
   "cell_type": "code",
   "execution_count": 50,
   "metadata": {
    "scrolled": false
   },
   "outputs": [
    {
     "data": {
      "text/plain": [
       "((3321, 4323), (3321,))"
      ]
     },
     "execution_count": 50,
     "metadata": {},
     "output_type": "execute_result"
    }
   ],
   "source": [
    "X.shape, y.shape"
   ]
  },
  {
   "cell_type": "code",
   "execution_count": 51,
   "metadata": {},
   "outputs": [],
   "source": [
    "X_test = test.drop(['id'], axis=1)"
   ]
  },
  {
   "cell_type": "code",
   "execution_count": 52,
   "metadata": {},
   "outputs": [
    {
     "data": {
      "text/plain": [
       "(986, 4323)"
      ]
     },
     "execution_count": 52,
     "metadata": {},
     "output_type": "execute_result"
    }
   ],
   "source": [
    "X_test.shape"
   ]
  },
  {
   "cell_type": "markdown",
   "metadata": {},
   "source": [
    "## Creation of (Inner) Training and Validation Datasets"
   ]
  },
  {
   "cell_type": "markdown",
   "metadata": {},
   "source": [
    "From our single training data set (X and y) we will create two separate datasets:\n",
    "- (Inner) Training Dataset: this will be used to train our models (this will take 75% of the original training dataset)\n",
    "- Validation Dataset: this will be used to validate our trained models (e.g. check for overfitting) (this will take 25% of our total 'posts' dataset\n",
    "\n",
    "To create our datasets, we use train_test_split with the stratify option to ensure a consistent mix of values for the target feature within the created datasets."
   ]
  },
  {
   "cell_type": "code",
   "execution_count": 53,
   "metadata": {},
   "outputs": [],
   "source": [
    "X_train, X_val, y_train, y_val = train_test_split(X, y, random_state=42, stratify=y)"
   ]
  },
  {
   "cell_type": "code",
   "execution_count": 54,
   "metadata": {},
   "outputs": [
    {
     "data": {
      "text/plain": [
       "((2490, 4323), (2490,), (831, 4323), (831,))"
      ]
     },
     "execution_count": 54,
     "metadata": {},
     "output_type": "execute_result"
    }
   ],
   "source": [
    "X_train.shape, y_train.shape, X_val.shape, y_val.shape"
   ]
  },
  {
   "cell_type": "code",
   "execution_count": 55,
   "metadata": {},
   "outputs": [],
   "source": [
    "# Reset the indices to prevent spurious rows from appearing later during merging\n",
    "X_train.reset_index(inplace=True, drop=True)\n",
    "X_val.reset_index(inplace=True, drop=True)"
   ]
  },
  {
   "cell_type": "markdown",
   "metadata": {},
   "source": [
    "## Generation of word embeddings using TfidfVectorizer"
   ]
  },
  {
   "cell_type": "markdown",
   "metadata": {},
   "source": [
    "For our baseline model, we use the TfidfVectorizer from sklearn, which creates weighted word embeddings (also knon as vectors), where each word embedding consists of the number of times each word is observed in each descriptive text string, weighted by their inverse document frequency (i.e. heavier weights are assigned to words that are less frequent)."
   ]
  },
  {
   "cell_type": "code",
   "execution_count": 56,
   "metadata": {},
   "outputs": [],
   "source": [
    "# Instantiate a CountVectorizer object\n",
    "tvec = TfidfVectorizer()"
   ]
  },
  {
   "cell_type": "code",
   "execution_count": 57,
   "metadata": {},
   "outputs": [
    {
     "name": "stdout",
     "output_type": "stream",
     "text": [
      "Wall time: 12.9 s\n"
     ]
    }
   ],
   "source": [
    "%%time\n",
    "X_train_tvec = tvec.fit_transform(X_train['text'])\n",
    "X_val_tvec = tvec.transform(X_val['text'])\n",
    "X_test_tvec = tvec.transform(X_test['text'])"
   ]
  },
  {
   "cell_type": "code",
   "execution_count": 58,
   "metadata": {},
   "outputs": [
    {
     "data": {
      "text/plain": [
       "((2490, 72190), (831, 72190), (986, 72190))"
      ]
     },
     "execution_count": 58,
     "metadata": {},
     "output_type": "execute_result"
    }
   ],
   "source": [
    "X_train_tvec.shape, X_val_tvec.shape, X_test_tvec.shape"
   ]
  },
  {
   "cell_type": "code",
   "execution_count": 59,
   "metadata": {},
   "outputs": [],
   "source": [
    "X_train_tvec_df = pd.DataFrame(X_train_tvec.toarray(), columns=tvec.get_feature_names())\n",
    "X_val_tvec_df = pd.DataFrame(X_val_tvec.toarray(), columns=tvec.get_feature_names())\n",
    "X_test_tvec_df = pd.DataFrame(X_test_tvec.toarray(), columns=tvec.get_feature_names())"
   ]
  },
  {
   "cell_type": "code",
   "execution_count": 60,
   "metadata": {},
   "outputs": [
    {
     "data": {
      "text/plain": [
       "((2490, 72190), (831, 72190), (986, 72190))"
      ]
     },
     "execution_count": 60,
     "metadata": {},
     "output_type": "execute_result"
    }
   ],
   "source": [
    "X_train_tvec_df.shape, X_val_tvec_df.shape, X_test_tvec_df.shape"
   ]
  },
  {
   "cell_type": "code",
   "execution_count": 61,
   "metadata": {},
   "outputs": [
    {
     "data": {
      "text/html": [
       "<div>\n",
       "<style scoped>\n",
       "    .dataframe tbody tr th:only-of-type {\n",
       "        vertical-align: middle;\n",
       "    }\n",
       "\n",
       "    .dataframe tbody tr th {\n",
       "        vertical-align: top;\n",
       "    }\n",
       "\n",
       "    .dataframe thead th {\n",
       "        text-align: right;\n",
       "    }\n",
       "</style>\n",
       "<table border=\"1\" class=\"dataframe\">\n",
       "  <thead>\n",
       "    <tr style=\"text-align: right;\">\n",
       "      <th></th>\n",
       "      <th>aa</th>\n",
       "      <th>aaa</th>\n",
       "      <th>aaaa</th>\n",
       "      <th>aaaaa</th>\n",
       "      <th>aaaaaagaaaattttagataaaaagag</th>\n",
       "      <th>aaaaaatcccaaccataacaaaattt</th>\n",
       "      <th>aaaaaatcctcttgtgttcag</th>\n",
       "      <th>aaaaaccggtatgaaaagcagcataccgaacaataaggagatccc</th>\n",
       "      <th>aaaaag</th>\n",
       "      <th>aaaaataactactgc</th>\n",
       "      <th>...</th>\n",
       "      <th>zytolight</th>\n",
       "      <th>zytomed</th>\n",
       "      <th>zytovision</th>\n",
       "      <th>zyx</th>\n",
       "      <th>zyxin</th>\n",
       "      <th>zz</th>\n",
       "      <th>zzo</th>\n",
       "      <th>zzq</th>\n",
       "      <th>zzsi</th>\n",
       "      <th>zzzq</th>\n",
       "    </tr>\n",
       "  </thead>\n",
       "  <tbody>\n",
       "    <tr>\n",
       "      <th>0</th>\n",
       "      <td>0.0</td>\n",
       "      <td>0.0</td>\n",
       "      <td>0.0</td>\n",
       "      <td>0.0</td>\n",
       "      <td>0.0</td>\n",
       "      <td>0.0</td>\n",
       "      <td>0.0</td>\n",
       "      <td>0.0</td>\n",
       "      <td>0.0</td>\n",
       "      <td>0.0</td>\n",
       "      <td>...</td>\n",
       "      <td>0.0</td>\n",
       "      <td>0.0</td>\n",
       "      <td>0.0</td>\n",
       "      <td>0.0</td>\n",
       "      <td>0.0</td>\n",
       "      <td>0.0</td>\n",
       "      <td>0.0</td>\n",
       "      <td>0.0</td>\n",
       "      <td>0.0</td>\n",
       "      <td>0.0</td>\n",
       "    </tr>\n",
       "    <tr>\n",
       "      <th>1</th>\n",
       "      <td>0.0</td>\n",
       "      <td>0.0</td>\n",
       "      <td>0.0</td>\n",
       "      <td>0.0</td>\n",
       "      <td>0.0</td>\n",
       "      <td>0.0</td>\n",
       "      <td>0.0</td>\n",
       "      <td>0.0</td>\n",
       "      <td>0.0</td>\n",
       "      <td>0.0</td>\n",
       "      <td>...</td>\n",
       "      <td>0.0</td>\n",
       "      <td>0.0</td>\n",
       "      <td>0.0</td>\n",
       "      <td>0.0</td>\n",
       "      <td>0.0</td>\n",
       "      <td>0.0</td>\n",
       "      <td>0.0</td>\n",
       "      <td>0.0</td>\n",
       "      <td>0.0</td>\n",
       "      <td>0.0</td>\n",
       "    </tr>\n",
       "    <tr>\n",
       "      <th>2</th>\n",
       "      <td>0.0</td>\n",
       "      <td>0.0</td>\n",
       "      <td>0.0</td>\n",
       "      <td>0.0</td>\n",
       "      <td>0.0</td>\n",
       "      <td>0.0</td>\n",
       "      <td>0.0</td>\n",
       "      <td>0.0</td>\n",
       "      <td>0.0</td>\n",
       "      <td>0.0</td>\n",
       "      <td>...</td>\n",
       "      <td>0.0</td>\n",
       "      <td>0.0</td>\n",
       "      <td>0.0</td>\n",
       "      <td>0.0</td>\n",
       "      <td>0.0</td>\n",
       "      <td>0.0</td>\n",
       "      <td>0.0</td>\n",
       "      <td>0.0</td>\n",
       "      <td>0.0</td>\n",
       "      <td>0.0</td>\n",
       "    </tr>\n",
       "    <tr>\n",
       "      <th>3</th>\n",
       "      <td>0.0</td>\n",
       "      <td>0.0</td>\n",
       "      <td>0.0</td>\n",
       "      <td>0.0</td>\n",
       "      <td>0.0</td>\n",
       "      <td>0.0</td>\n",
       "      <td>0.0</td>\n",
       "      <td>0.0</td>\n",
       "      <td>0.0</td>\n",
       "      <td>0.0</td>\n",
       "      <td>...</td>\n",
       "      <td>0.0</td>\n",
       "      <td>0.0</td>\n",
       "      <td>0.0</td>\n",
       "      <td>0.0</td>\n",
       "      <td>0.0</td>\n",
       "      <td>0.0</td>\n",
       "      <td>0.0</td>\n",
       "      <td>0.0</td>\n",
       "      <td>0.0</td>\n",
       "      <td>0.0</td>\n",
       "    </tr>\n",
       "    <tr>\n",
       "      <th>4</th>\n",
       "      <td>0.0</td>\n",
       "      <td>0.0</td>\n",
       "      <td>0.0</td>\n",
       "      <td>0.0</td>\n",
       "      <td>0.0</td>\n",
       "      <td>0.0</td>\n",
       "      <td>0.0</td>\n",
       "      <td>0.0</td>\n",
       "      <td>0.0</td>\n",
       "      <td>0.0</td>\n",
       "      <td>...</td>\n",
       "      <td>0.0</td>\n",
       "      <td>0.0</td>\n",
       "      <td>0.0</td>\n",
       "      <td>0.0</td>\n",
       "      <td>0.0</td>\n",
       "      <td>0.0</td>\n",
       "      <td>0.0</td>\n",
       "      <td>0.0</td>\n",
       "      <td>0.0</td>\n",
       "      <td>0.0</td>\n",
       "    </tr>\n",
       "  </tbody>\n",
       "</table>\n",
       "<p>5 rows × 72190 columns</p>\n",
       "</div>"
      ],
      "text/plain": [
       "    aa  aaa  aaaa  aaaaa  aaaaaagaaaattttagataaaaagag  \\\n",
       "0  0.0  0.0   0.0    0.0                          0.0   \n",
       "1  0.0  0.0   0.0    0.0                          0.0   \n",
       "2  0.0  0.0   0.0    0.0                          0.0   \n",
       "3  0.0  0.0   0.0    0.0                          0.0   \n",
       "4  0.0  0.0   0.0    0.0                          0.0   \n",
       "\n",
       "   aaaaaatcccaaccataacaaaattt  aaaaaatcctcttgtgttcag  \\\n",
       "0                         0.0                    0.0   \n",
       "1                         0.0                    0.0   \n",
       "2                         0.0                    0.0   \n",
       "3                         0.0                    0.0   \n",
       "4                         0.0                    0.0   \n",
       "\n",
       "   aaaaaccggtatgaaaagcagcataccgaacaataaggagatccc  aaaaag  aaaaataactactgc  \\\n",
       "0                                            0.0     0.0              0.0   \n",
       "1                                            0.0     0.0              0.0   \n",
       "2                                            0.0     0.0              0.0   \n",
       "3                                            0.0     0.0              0.0   \n",
       "4                                            0.0     0.0              0.0   \n",
       "\n",
       "   ...  zytolight  zytomed  zytovision  zyx  zyxin   zz  zzo  zzq  zzsi  zzzq  \n",
       "0  ...        0.0      0.0         0.0  0.0    0.0  0.0  0.0  0.0   0.0   0.0  \n",
       "1  ...        0.0      0.0         0.0  0.0    0.0  0.0  0.0  0.0   0.0   0.0  \n",
       "2  ...        0.0      0.0         0.0  0.0    0.0  0.0  0.0  0.0   0.0   0.0  \n",
       "3  ...        0.0      0.0         0.0  0.0    0.0  0.0  0.0  0.0   0.0   0.0  \n",
       "4  ...        0.0      0.0         0.0  0.0    0.0  0.0  0.0  0.0   0.0   0.0  \n",
       "\n",
       "[5 rows x 72190 columns]"
      ]
     },
     "execution_count": 61,
     "metadata": {},
     "output_type": "execute_result"
    }
   ],
   "source": [
    "X_train_tvec_df.head()"
   ]
  },
  {
   "cell_type": "markdown",
   "metadata": {},
   "source": [
    "## Combining word embeddings with dummy columns"
   ]
  },
  {
   "cell_type": "code",
   "execution_count": 62,
   "metadata": {},
   "outputs": [
    {
     "name": "stdout",
     "output_type": "stream",
     "text": [
      "Wall time: 2.75 s\n"
     ]
    }
   ],
   "source": [
    "%%time\n",
    "# Concatenate the components parts of the dataframe\n",
    "X_train = pd.concat([X_train, X_train_tvec_df], axis=1)\n",
    "X_val = pd.concat([X_val, X_val_tvec_df], axis=1)\n",
    "X_test = pd.concat([X_test, X_test_tvec_df], axis=1)"
   ]
  },
  {
   "cell_type": "code",
   "execution_count": 63,
   "metadata": {},
   "outputs": [],
   "source": [
    "X_train.drop(columns=['text'], inplace=True)\n",
    "X_val.drop(columns=['text'], inplace=True)\n",
    "X_test.drop(columns=['text'], inplace=True)"
   ]
  },
  {
   "cell_type": "code",
   "execution_count": 64,
   "metadata": {
    "scrolled": true
   },
   "outputs": [
    {
     "data": {
      "text/plain": [
       "((2490, 76511), (831, 76511), (986, 76511))"
      ]
     },
     "execution_count": 64,
     "metadata": {},
     "output_type": "execute_result"
    }
   ],
   "source": [
    "X_train.shape, X_val.shape, X_test.shape"
   ]
  },
  {
   "cell_type": "code",
   "execution_count": 65,
   "metadata": {
    "scrolled": true
   },
   "outputs": [
    {
     "data": {
      "text/html": [
       "<div>\n",
       "<style scoped>\n",
       "    .dataframe tbody tr th:only-of-type {\n",
       "        vertical-align: middle;\n",
       "    }\n",
       "\n",
       "    .dataframe tbody tr th {\n",
       "        vertical-align: top;\n",
       "    }\n",
       "\n",
       "    .dataframe thead th {\n",
       "        text-align: right;\n",
       "    }\n",
       "</style>\n",
       "<table border=\"1\" class=\"dataframe\">\n",
       "  <thead>\n",
       "    <tr style=\"text-align: right;\">\n",
       "      <th></th>\n",
       "      <th>gene_ABCB11</th>\n",
       "      <th>gene_ABCC6</th>\n",
       "      <th>gene_ABL1</th>\n",
       "      <th>gene_ACVR1</th>\n",
       "      <th>gene_ADAMTS13</th>\n",
       "      <th>gene_ADGRG1</th>\n",
       "      <th>gene_AGO2</th>\n",
       "      <th>gene_AGXT</th>\n",
       "      <th>gene_AKAP9</th>\n",
       "      <th>gene_AKT1</th>\n",
       "      <th>...</th>\n",
       "      <th>zytolight</th>\n",
       "      <th>zytomed</th>\n",
       "      <th>zytovision</th>\n",
       "      <th>zyx</th>\n",
       "      <th>zyxin</th>\n",
       "      <th>zz</th>\n",
       "      <th>zzo</th>\n",
       "      <th>zzq</th>\n",
       "      <th>zzsi</th>\n",
       "      <th>zzzq</th>\n",
       "    </tr>\n",
       "  </thead>\n",
       "  <tbody>\n",
       "    <tr>\n",
       "      <th>0</th>\n",
       "      <td>0</td>\n",
       "      <td>0</td>\n",
       "      <td>0</td>\n",
       "      <td>0</td>\n",
       "      <td>0</td>\n",
       "      <td>0</td>\n",
       "      <td>0</td>\n",
       "      <td>0</td>\n",
       "      <td>0</td>\n",
       "      <td>0</td>\n",
       "      <td>...</td>\n",
       "      <td>0.0</td>\n",
       "      <td>0.0</td>\n",
       "      <td>0.0</td>\n",
       "      <td>0.0</td>\n",
       "      <td>0.0</td>\n",
       "      <td>0.0</td>\n",
       "      <td>0.0</td>\n",
       "      <td>0.0</td>\n",
       "      <td>0.0</td>\n",
       "      <td>0.0</td>\n",
       "    </tr>\n",
       "    <tr>\n",
       "      <th>1</th>\n",
       "      <td>0</td>\n",
       "      <td>0</td>\n",
       "      <td>0</td>\n",
       "      <td>0</td>\n",
       "      <td>0</td>\n",
       "      <td>0</td>\n",
       "      <td>0</td>\n",
       "      <td>0</td>\n",
       "      <td>0</td>\n",
       "      <td>0</td>\n",
       "      <td>...</td>\n",
       "      <td>0.0</td>\n",
       "      <td>0.0</td>\n",
       "      <td>0.0</td>\n",
       "      <td>0.0</td>\n",
       "      <td>0.0</td>\n",
       "      <td>0.0</td>\n",
       "      <td>0.0</td>\n",
       "      <td>0.0</td>\n",
       "      <td>0.0</td>\n",
       "      <td>0.0</td>\n",
       "    </tr>\n",
       "    <tr>\n",
       "      <th>2</th>\n",
       "      <td>0</td>\n",
       "      <td>0</td>\n",
       "      <td>0</td>\n",
       "      <td>0</td>\n",
       "      <td>0</td>\n",
       "      <td>0</td>\n",
       "      <td>0</td>\n",
       "      <td>0</td>\n",
       "      <td>0</td>\n",
       "      <td>0</td>\n",
       "      <td>...</td>\n",
       "      <td>0.0</td>\n",
       "      <td>0.0</td>\n",
       "      <td>0.0</td>\n",
       "      <td>0.0</td>\n",
       "      <td>0.0</td>\n",
       "      <td>0.0</td>\n",
       "      <td>0.0</td>\n",
       "      <td>0.0</td>\n",
       "      <td>0.0</td>\n",
       "      <td>0.0</td>\n",
       "    </tr>\n",
       "    <tr>\n",
       "      <th>3</th>\n",
       "      <td>0</td>\n",
       "      <td>0</td>\n",
       "      <td>0</td>\n",
       "      <td>0</td>\n",
       "      <td>0</td>\n",
       "      <td>0</td>\n",
       "      <td>0</td>\n",
       "      <td>0</td>\n",
       "      <td>0</td>\n",
       "      <td>0</td>\n",
       "      <td>...</td>\n",
       "      <td>0.0</td>\n",
       "      <td>0.0</td>\n",
       "      <td>0.0</td>\n",
       "      <td>0.0</td>\n",
       "      <td>0.0</td>\n",
       "      <td>0.0</td>\n",
       "      <td>0.0</td>\n",
       "      <td>0.0</td>\n",
       "      <td>0.0</td>\n",
       "      <td>0.0</td>\n",
       "    </tr>\n",
       "    <tr>\n",
       "      <th>4</th>\n",
       "      <td>0</td>\n",
       "      <td>0</td>\n",
       "      <td>0</td>\n",
       "      <td>0</td>\n",
       "      <td>0</td>\n",
       "      <td>0</td>\n",
       "      <td>0</td>\n",
       "      <td>0</td>\n",
       "      <td>0</td>\n",
       "      <td>0</td>\n",
       "      <td>...</td>\n",
       "      <td>0.0</td>\n",
       "      <td>0.0</td>\n",
       "      <td>0.0</td>\n",
       "      <td>0.0</td>\n",
       "      <td>0.0</td>\n",
       "      <td>0.0</td>\n",
       "      <td>0.0</td>\n",
       "      <td>0.0</td>\n",
       "      <td>0.0</td>\n",
       "      <td>0.0</td>\n",
       "    </tr>\n",
       "  </tbody>\n",
       "</table>\n",
       "<p>5 rows × 76511 columns</p>\n",
       "</div>"
      ],
      "text/plain": [
       "   gene_ABCB11  gene_ABCC6  gene_ABL1  gene_ACVR1  gene_ADAMTS13  gene_ADGRG1  \\\n",
       "0            0           0          0           0              0            0   \n",
       "1            0           0          0           0              0            0   \n",
       "2            0           0          0           0              0            0   \n",
       "3            0           0          0           0              0            0   \n",
       "4            0           0          0           0              0            0   \n",
       "\n",
       "   gene_AGO2  gene_AGXT  gene_AKAP9  gene_AKT1  ...  zytolight  zytomed  \\\n",
       "0          0          0           0          0  ...        0.0      0.0   \n",
       "1          0          0           0          0  ...        0.0      0.0   \n",
       "2          0          0           0          0  ...        0.0      0.0   \n",
       "3          0          0           0          0  ...        0.0      0.0   \n",
       "4          0          0           0          0  ...        0.0      0.0   \n",
       "\n",
       "   zytovision  zyx  zyxin   zz  zzo  zzq  zzsi  zzzq  \n",
       "0         0.0  0.0    0.0  0.0  0.0  0.0   0.0   0.0  \n",
       "1         0.0  0.0    0.0  0.0  0.0  0.0   0.0   0.0  \n",
       "2         0.0  0.0    0.0  0.0  0.0  0.0   0.0   0.0  \n",
       "3         0.0  0.0    0.0  0.0  0.0  0.0   0.0   0.0  \n",
       "4         0.0  0.0    0.0  0.0  0.0  0.0   0.0   0.0  \n",
       "\n",
       "[5 rows x 76511 columns]"
      ]
     },
     "execution_count": 65,
     "metadata": {},
     "output_type": "execute_result"
    }
   ],
   "source": [
    "X_train.head()"
   ]
  },
  {
   "cell_type": "markdown",
   "metadata": {},
   "source": [
    "## Handling of imbalanced classes"
   ]
  },
  {
   "cell_type": "code",
   "execution_count": 66,
   "metadata": {
    "scrolled": true
   },
   "outputs": [
    {
     "data": {
      "text/plain": [
       "7    0.287149\n",
       "4    0.206426\n",
       "1    0.171084\n",
       "2    0.136145\n",
       "6    0.082731\n",
       "5    0.072691\n",
       "3    0.026908\n",
       "9    0.011245\n",
       "8    0.005622\n",
       "Name: class, dtype: float64"
      ]
     },
     "execution_count": 66,
     "metadata": {},
     "output_type": "execute_result"
    }
   ],
   "source": [
    "y_train.value_counts(normalize=True)"
   ]
  },
  {
   "cell_type": "code",
   "execution_count": 67,
   "metadata": {},
   "outputs": [
    {
     "data": {
      "text/plain": [
       "7    715\n",
       "4    514\n",
       "1    426\n",
       "2    339\n",
       "6    206\n",
       "5    181\n",
       "3     67\n",
       "9     28\n",
       "8     14\n",
       "Name: class, dtype: int64"
      ]
     },
     "execution_count": 67,
     "metadata": {},
     "output_type": "execute_result"
    }
   ],
   "source": [
    "y_train.value_counts()"
   ]
  },
  {
   "cell_type": "markdown",
   "metadata": {},
   "source": [
    "We note above that the **training set is highly imbalanced** -- i.e. classes 4 and 7 alone take up almost 50% of all classes found in the training set.\n",
    "\n",
    "To deal with this, we will need to oversample one or more of the minority classes rather than undersample the majority classes as the latter will remove valuable data for our modelling.\n",
    "\n",
    "We oversample by creating synthetic samples using imblearn’s SMOTE or Synthetic Minority Oversampling Technique. SMOTE uses a nearest neighbors algorithm to generate new and synthetic data we can use for training our model. We generate new samples **only in the training set** to ensure our model generalises well to unseen data. Instead of oversampling all minority classes, we instead oversample only the 3 most infrequent classes ('3', '9' and '8') such that we have 100 data points for each of these specific minority classes, which is an arbitarily small number we have chosen. Our previous attempts to oversample **all** minority classes led to an over-expansion of the y_train dataset which in turn led to unmanageable execution times when performing the subsequent modelling."
   ]
  },
  {
   "cell_type": "code",
   "execution_count": 68,
   "metadata": {},
   "outputs": [],
   "source": [
    "# Instantiate a SMOTE object to oversample minority classes\n",
    "sm = SMOTE(random_state=42, sampling_strategy={3:100, 9:100, 8:100})"
   ]
  },
  {
   "cell_type": "code",
   "execution_count": 69,
   "metadata": {},
   "outputs": [
    {
     "name": "stdout",
     "output_type": "stream",
     "text": [
      "Wall time: 30.5 s\n"
     ]
    }
   ],
   "source": [
    "%%time\n",
    "X_train, y_train = sm.fit_sample(X_train, y_train)"
   ]
  },
  {
   "cell_type": "code",
   "execution_count": 70,
   "metadata": {},
   "outputs": [
    {
     "data": {
      "text/plain": [
       "((2681, 76511), (2681,))"
      ]
     },
     "execution_count": 70,
     "metadata": {},
     "output_type": "execute_result"
    }
   ],
   "source": [
    "X_train.shape, y_train.shape"
   ]
  },
  {
   "cell_type": "code",
   "execution_count": 71,
   "metadata": {},
   "outputs": [
    {
     "data": {
      "text/plain": [
       "7    715\n",
       "4    514\n",
       "1    426\n",
       "2    339\n",
       "6    206\n",
       "5    181\n",
       "9    100\n",
       "3    100\n",
       "8    100\n",
       "Name: class, dtype: int64"
      ]
     },
     "execution_count": 71,
     "metadata": {},
     "output_type": "execute_result"
    }
   ],
   "source": [
    "y_train.value_counts()"
   ]
  },
  {
   "cell_type": "markdown",
   "metadata": {},
   "source": [
    "As shown above, we have oversampled the three most infrequent classes such that there are 100 samples for each of them."
   ]
  },
  {
   "cell_type": "markdown",
   "metadata": {},
   "source": [
    "## Scaling the data"
   ]
  },
  {
   "cell_type": "code",
   "execution_count": 72,
   "metadata": {},
   "outputs": [],
   "source": [
    "ms = MinMaxScaler()"
   ]
  },
  {
   "cell_type": "code",
   "execution_count": 73,
   "metadata": {
    "scrolled": true
   },
   "outputs": [],
   "source": [
    "ms.fit(pd.concat([X_train, X_val])) # we fit the StandardScaler based on all our training and validation data\n",
    "X_train = ms.transform(X_train)\n",
    "X_val = ms.transform(X_val)\n",
    "X_test = ms.transform(X_test)"
   ]
  },
  {
   "cell_type": "markdown",
   "metadata": {},
   "source": [
    "## Randomised Search for optimal classifier parameters"
   ]
  },
  {
   "cell_type": "markdown",
   "metadata": {},
   "source": [
    "To manage the total time and resources used to tune the classifier parameters, we use the RandomizedSearchCV to randomly select parameters from the specified ranges of parameters to give the best cross-validated accuracy score on the training dataset, with a maximum of 10 iterations. We specify the range of parameters for each classifer based on experience and past results of running the RandomizedSearchCV.\n",
    "\n",
    "We select the best classifier as the one with the highest accuracy score on the **validation dataset**."
   ]
  },
  {
   "cell_type": "code",
   "execution_count": 74,
   "metadata": {},
   "outputs": [],
   "source": [
    "# We have selected the models below for modelling purposes.\n",
    "estimators = {\n",
    "    'svm': SVC(random_state=42),\n",
    "    'lr': LogisticRegression(random_state=42),\n",
    "    'etree': ExtraTreesClassifier(random_state=42),\n",
    "    'ada': AdaBoostClassifier(random_state=42),\n",
    "    'knn': KNeighborsClassifier(),\n",
    "    'rf': RandomForestClassifier(random_state=42),\n",
    "    'dtree': DecisionTreeClassifier(random_state=42),\n",
    "    'mnb': MultinomialNB()\n",
    "}.items()"
   ]
  },
  {
   "cell_type": "code",
   "execution_count": 75,
   "metadata": {},
   "outputs": [],
   "source": [
    "params = {\n",
    "    'svm': {\n",
    "        'svm__C': [0.1, 1.0, 10],\n",
    "        'svm__kernel': ['linear','poly', 'rbf', 'sigmoid']\n",
    "    },\n",
    "    'lr': {\n",
    "        # 'liblinear' solver has been excluded as a potential solver as it cannot learn a true multinomial\n",
    "        # (multiclass) model; instead, the optimization problem is decomposed in a “one-vs-rest”\n",
    "        # fashion so separate binary classifiers are trained for all classes.\n",
    "        # 'lbfgs' solver has also been excluded as it fails to converge through past attempts\n",
    "        'lr__solver': ['sag','saga'], \n",
    "        'lr__penalty': ['l1', 'l2'],\n",
    "        'lr__C': [0.1, 1.0, 10],\n",
    "        'lr__max_iter': [50], # limit the max. no. of iterations to 50 to speed up processing\n",
    "        'lr__multi_class':['multinomial'] \n",
    "    },\n",
    "    'etree': {\n",
    "        'etree__max_features': ['auto', 'sqrt', 'log2', None],\n",
    "        'etree__min_samples_split': [4, 6, 8],\n",
    "        'etree__min_samples_leaf': [2, 3, 4]\n",
    "    },\n",
    "    'ada': {\n",
    "        'ada__n_estimators': [50, 100, 150],\n",
    "        'ada__learning_rate': [1, 1.5, 2]\n",
    "    },\n",
    "    'knn': {\n",
    "        'knn__n_neighbors': [3, 5, 7]\n",
    "    },\n",
    "    'rf': {\n",
    "        'rf__n_estimators': [100, 200, 300],\n",
    "        'rf__class_weight': ['balanced'], # 'balanced' will help to deal with our imbalanced classes\n",
    "        'rf__min_samples_split':[5, 10, 15],\n",
    "        'rf__min_samples_leaf':[2, 3, 4]    \n",
    "    },\n",
    "    'dtree': {\n",
    "        'dtree__max_features': ['auto', 'sqrt', 'log2', None],\n",
    "        'dtree__min_samples_split': [4, 6, 8],\n",
    "        'dtree__min_samples_leaf': [2, 3, 4]\n",
    "    },\n",
    "    'mnb': {\n",
    "        'mnb__alpha': np.linspace(0.5, 1.5, 3),\n",
    "        'mnb__fit_prior': [True, False]  \n",
    "    }\n",
    "}"
   ]
  },
  {
   "cell_type": "markdown",
   "metadata": {},
   "source": [
    "We now use RandomizedSearchCV to select the optimal parameters for each classifier that produces the best 3-fold cross-validated mean accuracy score based on the training dataset."
   ]
  },
  {
   "cell_type": "code",
   "execution_count": null,
   "metadata": {
    "scrolled": false
   },
   "outputs": [
    {
     "name": "stdout",
     "output_type": "stream",
     "text": [
      "Fitting 3 folds for each of 10 candidates, totalling 30 fits\n"
     ]
    },
    {
     "name": "stderr",
     "output_type": "stream",
     "text": [
      "[Parallel(n_jobs=4)]: Using backend LokyBackend with 4 concurrent workers.\n",
      "[Parallel(n_jobs=4)]: Done  30 out of  30 | elapsed: 178.2min finished\n"
     ]
    },
    {
     "name": "stdout",
     "output_type": "stream",
     "text": [
      "Model:  svm\n",
      "Fitting time (h:m:s): 3:27:14.037660\n",
      "Best parameters: {'svm__kernel': 'linear', 'svm__C': 1.0}\n",
      "Best accuracy cross validation score: 0.6844535299408023\n",
      "Training dataset accuracy: 0.9958970533383066\n",
      "Validation dataset accuracy: 0.6462093862815884\n",
      "\n",
      "Fitting 3 folds for each of 10 candidates, totalling 30 fits\n"
     ]
    },
    {
     "name": "stderr",
     "output_type": "stream",
     "text": [
      "[Parallel(n_jobs=4)]: Using backend LokyBackend with 4 concurrent workers.\n"
     ]
    }
   ],
   "source": [
    "%%time\n",
    "# initialise empty lists to store information later\n",
    "models = []\n",
    "parameters = []\n",
    "train_accuracy = []\n",
    "val_accuracy = []\n",
    "best_score = []\n",
    "train_roc_auc = []\n",
    "val_roc_auc = []\n",
    "sensitivity = []\n",
    "\n",
    "for k,v in estimators:\n",
    "    start = time.time()\n",
    "    pipe = Pipeline([(k,v)])\n",
    "    param = params[k]\n",
    "    randomsearch = RandomizedSearchCV(\n",
    "        n_iter=10, # we set a max. of 10 iterations\n",
    "        estimator=pipe,\n",
    "        random_state=42,\n",
    "        param_distributions=param,\n",
    "        verbose=1,\n",
    "        cv= 3,\n",
    "        # We limit the no. of jobs to ensure sufficient memory for successful execution\n",
    "        n_jobs=4,\n",
    "        return_train_score= True,\n",
    "        # RandomizedSearchCV will use best cross-validation accuracy score to determine best parameters\n",
    "        scoring = 'accuracy' \n",
    "    )\n",
    "\n",
    "    randomsearch.fit(X_train, y_train)\n",
    "    \n",
    "    model = randomsearch.best_estimator_\n",
    "    cv_score = randomsearch.cv_results_\n",
    "    best_params = randomsearch.best_params_\n",
    "\n",
    "    # predict y\n",
    "    y_pred_train = model.predict(X_train)\n",
    "    y_pred_val = model.predict(X_val)\n",
    "    \n",
    "    # print results\n",
    "    print (\"Model: \", k)\n",
    "    print (\"Fitting time (h:m:s): {}\".format(str(datetime.timedelta(seconds=time.time()-start))))\n",
    "    print (\"Best parameters:\", best_params)\n",
    "    print (\"Best accuracy cross validation score:\", randomsearch.best_score_)\n",
    "    print (\"Training dataset accuracy:\", accuracy_score(y_train,y_pred_train))\n",
    "    print (\"Validation dataset accuracy:\", accuracy_score(y_val,y_pred_val))\n",
    "    print (\"\")\n",
    "    \n",
    "    # append info to list\n",
    "    models.append(k)\n",
    "    best_score.append(randomsearch.best_score_)\n",
    "    parameters.append(best_params)\n",
    "    train_accuracy.append(accuracy_score(y_train,y_pred_train))\n",
    "    val_accuracy.append(accuracy_score(y_val,y_pred_val))"
   ]
  },
  {
   "cell_type": "markdown",
   "metadata": {},
   "source": [
    "## Confirmation of Baseline Model"
   ]
  },
  {
   "cell_type": "code",
   "execution_count": null,
   "metadata": {
    "scrolled": false
   },
   "outputs": [],
   "source": [
    "# Produce a summary table of the tuned classifiers\n",
    "summary = pd.DataFrame({\n",
    "    'model': models,\n",
    "    'parameters': parameters,\n",
    "    'Best accuracy cross-validation score': best_score,\n",
    "    'Training dataset accuracy': train_accuracy,\n",
    "    'Validation dataset accuracy': val_accuracy\n",
    "    })\n",
    "\n",
    "pd.set_option('display.max_colwidth', None)\n",
    "summary.sort_values('Validation dataset accuracy', ascending=False).reset_index(drop=True)"
   ]
  },
  {
   "cell_type": "markdown",
   "metadata": {},
   "source": [
    "<div class=\"alert alert-block alert-info\">\n",
    "The table above summarises the optimal parameters for each candidate classifier based on the best 3-fold cross-validation accuracy score (see \"Best accuracy cross-validation score\"). The \"Training dataset accuracy\" is also shown for reference. The candidate classifiers are sorted in descending order of the last column, which measures the \"Validation dataset accuracy\" for each classifier. We focus on validation dataset accuracy to ensure that we choose the classifier that gives us the least overfitting.<br>\n",
    "<br>    \n",
    "The best classifier is the Extra Trees Classifier based on the highest validation dataset accuracy amongst the other tuned classifiers.<br>\n",
    "<br>\n",
    "    Our <b>baseline model</b> therefore consists of:\n",
    "    <br>\n",
    "    <ul>\n",
    "        <li>Word embeddings created by <b>TfidfVectorizer</b></li>\n",
    "        <li><b>Extra Trees Classifier</b> based on the optimal parameters given in the table above.</li>\n",
    "    </ul>\n",
    "</div>"
   ]
  },
  {
   "cell_type": "markdown",
   "metadata": {},
   "source": [
    "## Further Exploration of Baseline Model"
   ]
  },
  {
   "cell_type": "code",
   "execution_count": null,
   "metadata": {},
   "outputs": [],
   "source": [
    "# We instantiate the baseline classifier based on the best parameters found above\n",
    "baseline_clf = ExtraTreesClassifier(verbose=1, n_jobs=-1, random_state=42, \\\n",
    "                                  min_samples_split=4, min_samples_leaf=3, max_features=None)"
   ]
  },
  {
   "cell_type": "code",
   "execution_count": null,
   "metadata": {
    "scrolled": false
   },
   "outputs": [],
   "source": [
    "%%time\n",
    "# Fit the best classifier on the training dataset\n",
    "baseline_clf.fit(X_train, y_train)"
   ]
  },
  {
   "cell_type": "markdown",
   "metadata": {},
   "source": [
    "### Visualisation of Extra Trees Classifier"
   ]
  },
  {
   "cell_type": "markdown",
   "metadata": {},
   "source": [
    "We now visualise one particular decision tree."
   ]
  },
  {
   "cell_type": "code",
   "execution_count": null,
   "metadata": {},
   "outputs": [],
   "source": [
    "estimator = baseline_clf.best_estimator_[50] # we choose one particular tree arbitrarily)\n",
    "\n",
    "from sklearn.tree import export_graphviz\n",
    "# Export as dot file\n",
    "export_graphviz(estimator, out_file='../assets/tree.dot', \n",
    "                feature_names = X_train.columns,\n",
    "                class_names = list(str(range(1,10))),\n",
    "                rounded = True, proportion = False, \n",
    "                precision = 2, filled = True)\n",
    "\n",
    "# Convert to png using Graphviz via system command\n",
    "from subprocess import call\n",
    "call(['dot', '-Tpng', '../assets/tree.dot', '-o', '../assets/tree.png', '-Gdpi=600'])\n",
    "\n",
    "# Display in jupyter notebook\n",
    "from IPython.display import Image\n",
    "Image(filename = '../assets/tree.png')"
   ]
  },
  {
   "cell_type": "code",
   "execution_count": null,
   "metadata": {},
   "outputs": [],
   "source": []
  },
  {
   "cell_type": "code",
   "execution_count": null,
   "metadata": {},
   "outputs": [],
   "source": []
  },
  {
   "cell_type": "code",
   "execution_count": null,
   "metadata": {},
   "outputs": [],
   "source": []
  },
  {
   "cell_type": "markdown",
   "metadata": {},
   "source": [
    "### ROC Curve & Metrics"
   ]
  },
  {
   "cell_type": "code",
   "execution_count": null,
   "metadata": {
    "scrolled": true
   },
   "outputs": [],
   "source": [
    "# Generate predictions for the validation data based on our baseline model\n",
    "y_val_pred = baseline_clf.predict(X_val)"
   ]
  },
  {
   "cell_type": "code",
   "execution_count": null,
   "metadata": {},
   "outputs": [],
   "source": [
    "# Binarize the output\n",
    "y_train_binarized = label_binarize(y_train, classes=list(np.unique(y)))\n",
    "y_val_pred_binarized = label_binarize(y_val_pred, classes=list(np.unique(y)))\n",
    "n_classes = len(np.unique(y))"
   ]
  },
  {
   "cell_type": "markdown",
   "metadata": {},
   "source": [
    "To come up with actual scores that can be used for ROC calculation, we use the OneVsRestClassifier coupled with a SVC (C-Support Vector) Classifier to fit the training dataset so that we can obtain the distances of each sample from the decision boundary for each class."
   ]
  },
  {
   "cell_type": "code",
   "execution_count": null,
   "metadata": {},
   "outputs": [],
   "source": [
    "%%time\n",
    "classifier = OneVsRestClassifier(svm.SVC(kernel='linear', probability=True,\n",
    "                                 random_state=42, verbose=1), n_jobs=4)\n",
    "y_score = classifier.fit(X_train, y_train_binarized).decision_function(X_val)"
   ]
  },
  {
   "cell_type": "code",
   "execution_count": null,
   "metadata": {},
   "outputs": [],
   "source": [
    "# Compute ROC curve and ROC area for each class\n",
    "fpr = dict()\n",
    "tpr = dict()\n",
    "roc_auc = dict()\n",
    "for i in range(n_classes):\n",
    "    # we compare our predicted labels for the validation dataset and the actual validation dataset labels\n",
    "    # first parameter of roc_curve is y_true, and second parameter is y_score\n",
    "    fpr[i], tpr[i], _ = roc_curve(y_val_pred_binarized[:, i], y_score[:, i])\n",
    "    roc_auc[i] = auc(fpr[i], tpr[i])\n",
    "\n",
    "# Compute micro-average ROC curve and ROC area\n",
    "fpr[\"micro\"], tpr[\"micro\"], _ = roc_curve(y_val_pred_binarized.ravel(), y_score.ravel())\n",
    "roc_auc[\"micro\"] = auc(fpr[\"micro\"], tpr[\"micro\"])"
   ]
  },
  {
   "cell_type": "markdown",
   "metadata": {},
   "source": [
    "We plot ROC curves for all the 9 classes."
   ]
  },
  {
   "cell_type": "code",
   "execution_count": null,
   "metadata": {},
   "outputs": [],
   "source": [
    "# First aggregate all false positive rates\n",
    "all_fpr = np.unique(np.concatenate([fpr[i] for i in range(n_classes)]))\n",
    "\n",
    "# Then interpolate all ROC curves at this points\n",
    "mean_tpr = np.zeros_like(all_fpr)\n",
    "for i in range(n_classes):\n",
    "    mean_tpr += np.interp(all_fpr, fpr[i], tpr[i])\n",
    "\n",
    "# Finally average it and compute AUC\n",
    "mean_tpr /= n_classes\n",
    "\n",
    "fpr[\"macro\"] = all_fpr\n",
    "tpr[\"macro\"] = mean_tpr\n",
    "roc_auc[\"macro\"] = auc(fpr[\"macro\"], tpr[\"macro\"])\n",
    "\n",
    "# Plot all ROC curves\n",
    "plt.figure(figsize=(12,8))\n",
    "plt.plot(fpr[\"micro\"], tpr[\"micro\"],\n",
    "         label='micro-average ROC curve (area = {0:0.2f})'\n",
    "               ''.format(roc_auc[\"micro\"]),\n",
    "         color='deeppink', linestyle=':', linewidth=4)\n",
    "\n",
    "plt.plot(fpr[\"macro\"], tpr[\"macro\"],\n",
    "         label='macro-average ROC curve (area = {0:0.2f})'\n",
    "               ''.format(roc_auc[\"macro\"]),\n",
    "         color='navy', linestyle=':', linewidth=4)\n",
    "\n",
    "lw=2\n",
    "colors = cycle(['rosybrown', 'firebrick', 'sienna', 'olivedrab', 'darkgreen',\\\n",
    "                'lightseagreen', 'darkturquoise', 'b', 'darkorange'])\n",
    "for i, color in zip(range(n_classes), colors):\n",
    "    plt.plot(fpr[i], tpr[i], color=color, lw=lw,\n",
    "             label='ROC curve of class {0} (area = {1:0.2f})'\n",
    "             ''.format(i+1, roc_auc[i]))\n",
    "\n",
    "plt.plot([0, 1], [0, 1], 'k--', lw=lw)\n",
    "plt.xlim([0.0, 1.0])\n",
    "plt.ylim([0.0, 1.05])\n",
    "plt.xlabel('False Positive Rate')\n",
    "plt.ylabel('True Positive Rate')\n",
    "plt.title('ROC Curve for Multiple Classes')\n",
    "plt.legend(loc=\"lower right\")\n",
    "plt.show()"
   ]
  },
  {
   "cell_type": "markdown",
   "metadata": {},
   "source": [
    "We note from the AUC scores ('area' metric) in the plot above that class 7 (the most predominant class in the training dataset) has a high AUC score relative to the other classes, which is not surprising. The AUC score for class 8, however, is very low. "
   ]
  },
  {
   "cell_type": "code",
   "execution_count": null,
   "metadata": {},
   "outputs": [],
   "source": [
    "%%time\n",
    "y_prob = classifier.predict_proba(X_val)"
   ]
  },
  {
   "cell_type": "code",
   "execution_count": null,
   "metadata": {
    "scrolled": true
   },
   "outputs": [],
   "source": [
    "# Calculate the average unweighted AUC of all pairwise combinations of classes (one-vs-one);\n",
    "# insensitive to class imbalance\n",
    "macro_roc_auc_ovo = roc_auc_score(y_val_pred_binarized, y_prob, multi_class=\"ovo\",\n",
    "                                  average=\"macro\")\n",
    "\n",
    "# Calculate the weighted average AUC of all pairwise combinations of classes (one-vs-one);\n",
    "# sensitive to class imbalance by considering the no. of true instances for each label\n",
    "weighted_roc_auc_ovo = roc_auc_score(y_val_pred_binarized, y_prob, multi_class=\"ovo\",\n",
    "                                     average=\"weighted\")\n",
    "\n",
    "# Caclulate the unweighted AUC of each class against the rest;\n",
    "# still sensitive to class imbalance because the imbalance affects the composition of each of the ‘rest’ groupings\n",
    "macro_roc_auc_ovr = roc_auc_score(y_val_pred_binarized, y_prob, multi_class=\"ovr\",\n",
    "                                  average=\"macro\")\n",
    "\n",
    "# Caclulate the weighted AUC of each class against the rest; sensitive to class imbalance\n",
    "weighted_roc_auc_ovr = roc_auc_score(y_val_pred_binarized, y_prob, multi_class=\"ovr\",\n",
    "                                     average=\"weighted\")\n",
    "\n",
    "print(\"One-vs-One ROC AUC scores for validation dataset:\\n{:.6f} (macro),\\n{:.6f} \"\n",
    "      \"(weighted by prevalence)\"\n",
    "      .format(macro_roc_auc_ovo, weighted_roc_auc_ovo))\n",
    "print(\"One-vs-Rest ROC AUC scores for validation dataset:\\n{:.6f} (macro),\\n{:.6f} \"\n",
    "      \"(weighted by prevalence)\"\n",
    "      .format(macro_roc_auc_ovr, weighted_roc_auc_ovr))"
   ]
  },
  {
   "cell_type": "markdown",
   "metadata": {},
   "source": [
    "## Evaluation of Baseline Model"
   ]
  },
  {
   "cell_type": "markdown",
   "metadata": {},
   "source": [
    "<div class=\"alert alert-block alert-info\">\n",
    "    \n",
    "(To be written)\n",
    "    \n",
    "</div>"
   ]
  },
  {
   "cell_type": "markdown",
   "metadata": {},
   "source": [
    "## Data Export (for Kaggle Submission)"
   ]
  },
  {
   "cell_type": "code",
   "execution_count": null,
   "metadata": {
    "scrolled": true
   },
   "outputs": [],
   "source": [
    "# Generate predictions\n",
    "y_test_pred = baseline_clf.predict(X_test)"
   ]
  },
  {
   "cell_type": "code",
   "execution_count": null,
   "metadata": {
    "scrolled": false
   },
   "outputs": [],
   "source": [
    "y_test_pred.shape"
   ]
  },
  {
   "cell_type": "code",
   "execution_count": null,
   "metadata": {},
   "outputs": [],
   "source": [
    "# Restore the 'id' column since we need this for the Kaggle submission\n",
    "test_pred = pd.concat([test['id'], pd.DataFrame(y_test_pred, columns=['class'])], axis=1)"
   ]
  },
  {
   "cell_type": "code",
   "execution_count": null,
   "metadata": {
    "scrolled": true
   },
   "outputs": [],
   "source": [
    "# Verify that we have a mix of predictions for variation classes\n",
    "test_pred['class'].value_counts()"
   ]
  },
  {
   "cell_type": "code",
   "execution_count": null,
   "metadata": {},
   "outputs": [],
   "source": [
    "test_pred.head()"
   ]
  },
  {
   "cell_type": "code",
   "execution_count": null,
   "metadata": {},
   "outputs": [],
   "source": [
    "test_pred.to_csv(\"../assets/test_pred.csv\", index=False)"
   ]
  },
  {
   "cell_type": "code",
   "execution_count": null,
   "metadata": {},
   "outputs": [],
   "source": []
  }
 ],
 "metadata": {
  "kernelspec": {
   "display_name": "Python 3",
   "language": "python",
   "name": "python3"
  },
  "language_info": {
   "codemirror_mode": {
    "name": "ipython",
    "version": 3
   },
   "file_extension": ".py",
   "mimetype": "text/x-python",
   "name": "python",
   "nbconvert_exporter": "python",
   "pygments_lexer": "ipython3",
   "version": "3.7.4"
  }
 },
 "nbformat": 4,
 "nbformat_minor": 2
}
