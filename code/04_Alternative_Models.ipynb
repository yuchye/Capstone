{
 "cells": [
  {
   "cell_type": "markdown",
   "metadata": {},
   "source": [
    "# Capstone Project: Classifying clinically actionable genetic mutations\n",
    "\n",
    "***"
   ]
  },
  {
   "cell_type": "markdown",
   "metadata": {},
   "source": [
    "## Notebook 4: Alternative Models"
   ]
  },
  {
   "cell_type": "markdown",
   "metadata": {},
   "source": [
    "This notebook contains code to explore alternative models to address the classification problem."
   ]
  },
  {
   "cell_type": "markdown",
   "metadata": {},
   "source": [
    "### Contents\n",
    "\n",
    "- [Importing of Libraries](#Importing-of-Libraries)\n",
    "- [Data Import](#Data-Import)"
   ]
  },
  {
   "cell_type": "markdown",
   "metadata": {},
   "source": [
    "## Importing of Libraries"
   ]
  },
  {
   "cell_type": "code",
   "execution_count": 20,
   "metadata": {},
   "outputs": [
    {
     "name": "stderr",
     "output_type": "stream",
     "text": [
      "Using TensorFlow backend.\n"
     ]
    }
   ],
   "source": [
    "import pandas as pd\n",
    "import numpy as np\n",
    "\n",
    "from tabulate import tabulate\n",
    "from gensim.models.word2vec import Word2Vec\n",
    "from collections import Counter, defaultdict\n",
    "\n",
    "TRAIN_SET_PATH = \"../assets/train_prep.csv\"\n",
    "\n",
    "GLOVE_6B_50D_PATH = \"../assets/glove.6B.50d.txt\"\n",
    "GLOVE_6B_300D_PATH = \"../assets/glove.6B.300d.txt\"\n",
    "encoding=\"utf-8\"\n",
    "\n",
    "BERT_INIT_CHKPNT = \"../assets/cased_L-12_H-768_A-12/bert.model.ckpt.index\"\n",
    "BERT_VOCAB = \"../assets/cased_L-12_H-768_A-12/vocab.txt\"\n",
    "BERT_CONFIG = \"../assets/cased_L-12_H-768_A-12/bert_config.json\"\n",
    "\n",
    "from sklearn import linear_model, metrics, svm\n",
    "from sklearn.pipeline import Pipeline\n",
    "from sklearn.model_selection import train_test_split, GridSearchCV,\\\n",
    "    cross_val_score, RandomizedSearchCV, StratifiedShuffleSplit\n",
    "from sklearn.linear_model import LogisticRegression\n",
    "from sklearn.feature_extraction.text import CountVectorizer, TfidfVectorizer, HashingVectorizer\n",
    "from sklearn.ensemble import RandomForestClassifier, ExtraTreesClassifier, AdaBoostClassifier\n",
    "from sklearn.neighbors import KNeighborsClassifier\n",
    "from sklearn.tree import DecisionTreeClassifier\n",
    "from sklearn.naive_bayes import BernoulliNB, MultinomialNB\n",
    "from sklearn.svm import SVC\n",
    "from sklearn.preprocessing import StandardScaler, label_binarize, MinMaxScaler\n",
    "from sklearn.utils import resample\n",
    "from sklearn.metrics import accuracy_score, roc_curve, auc, roc_auc_score\n",
    "from sklearn.multiclass import OneVsRestClassifier\n",
    "\n",
    "from imblearn.over_sampling import SMOTE\n",
    "\n",
    "import matplotlib\n",
    "import matplotlib.pyplot as plt\n",
    "import seaborn as sns\n",
    "from itertools import cycle\n",
    "plt.style.use('fivethirtyeight')\n",
    "\n",
    "import time\n",
    "import datetime\n",
    "import pickle\n",
    "import os\n",
    "\n",
    "import nltk\n",
    "from nltk.tokenize import RegexpTokenizer\n",
    "import regex as re\n",
    "from nltk.stem import WordNetLemmatizer\n",
    "from nltk.stem.porter import PorterStemmer\n",
    "from nltk.corpus import stopwords\n",
    "\n",
    "from keras.models import Sequential\n",
    "from keras.layers import Dense, Dropout, GRU, LSTM\n",
    "from keras.utils import to_categorical\n",
    "from keras.wrappers.scikit_learn import KerasClassifier\n",
    "from keras import optimizers\n",
    "from keras.callbacks import EarlyStopping\n",
    "\n",
    "import torch\n",
    "import transformers as ppb\n",
    "import warnings\n",
    "warnings.filterwarnings('ignore')\n",
    "# import tensorflow as tf\n",
    "import tensorflow.compat.v1 as tf\n",
    "#To make tf 2.0 compatible with tf1.0 code, we disable the tf2.0 functionalities\n",
    "tf.disable_eager_execution()\n",
    "import tensorflow_hub as hub\n",
    "\n",
    "from wordcloud import WordCloud\n",
    "\n",
    "import bert\n",
    "from bert import run_classifier\n",
    "from bert import optimization\n",
    "from bert import tokenization\n",
    "from bert import modeling\n",
    "\n",
    "%config InlineBackend.figure_format = 'retina'\n",
    "%matplotlib inline\n",
    "\n",
    "# Initialise random seeed for more consistent results\n",
    "from numpy.random import seed\n",
    "seed(42)"
   ]
  },
  {
   "cell_type": "markdown",
   "metadata": {},
   "source": [
    "## Data Import"
   ]
  },
  {
   "cell_type": "code",
   "execution_count": 21,
   "metadata": {},
   "outputs": [],
   "source": [
    "# Import 'train_prep' and 'test_prep' datasets\n",
    "# We use the 'keep_default_na' option to False to ensure that pandas does not re-introduce missing values\n",
    "train = pd.read_csv(\"../assets/train_prep.csv\", keep_default_na=False)\n",
    "test = pd.read_csv(\"../assets/test_prep.csv\", keep_default_na=False)"
   ]
  },
  {
   "cell_type": "code",
   "execution_count": 22,
   "metadata": {},
   "outputs": [
    {
     "data": {
      "text/plain": [
       "((3321, 4325), (986, 4324))"
      ]
     },
     "execution_count": 22,
     "metadata": {},
     "output_type": "execute_result"
    }
   ],
   "source": [
    "train.shape, test.shape"
   ]
  },
  {
   "cell_type": "code",
   "execution_count": 23,
   "metadata": {},
   "outputs": [
    {
     "data": {
      "text/html": [
       "<div>\n",
       "<style scoped>\n",
       "    .dataframe tbody tr th:only-of-type {\n",
       "        vertical-align: middle;\n",
       "    }\n",
       "\n",
       "    .dataframe tbody tr th {\n",
       "        vertical-align: top;\n",
       "    }\n",
       "\n",
       "    .dataframe thead th {\n",
       "        text-align: right;\n",
       "    }\n",
       "</style>\n",
       "<table border=\"1\" class=\"dataframe\">\n",
       "  <thead>\n",
       "    <tr style=\"text-align: right;\">\n",
       "      <th></th>\n",
       "      <th>id</th>\n",
       "      <th>class</th>\n",
       "      <th>text</th>\n",
       "      <th>gene_ABCB11</th>\n",
       "      <th>gene_ABCC6</th>\n",
       "      <th>gene_ABL1</th>\n",
       "      <th>gene_ACVR1</th>\n",
       "      <th>gene_ADAMTS13</th>\n",
       "      <th>gene_ADGRG1</th>\n",
       "      <th>gene_AGO2</th>\n",
       "      <th>...</th>\n",
       "      <th>variation_YAP1-TFE3 Fusion</th>\n",
       "      <th>variation_YWHAE-ROS1 Fusion</th>\n",
       "      <th>variation_ZC3H7B-BCOR Fusion</th>\n",
       "      <th>variation_ZNF198-FGFR1 Fusion</th>\n",
       "      <th>variation_null1313Y</th>\n",
       "      <th>variation_null189Y</th>\n",
       "      <th>variation_null262Q</th>\n",
       "      <th>variation_null267R</th>\n",
       "      <th>variation_null399R</th>\n",
       "      <th>variation_p61BRAF</th>\n",
       "    </tr>\n",
       "  </thead>\n",
       "  <tbody>\n",
       "    <tr>\n",
       "      <th>0</th>\n",
       "      <td>0</td>\n",
       "      <td>1</td>\n",
       "      <td>cyclin dependent kinase cdks regulate variety ...</td>\n",
       "      <td>0</td>\n",
       "      <td>0</td>\n",
       "      <td>0</td>\n",
       "      <td>0</td>\n",
       "      <td>0</td>\n",
       "      <td>0</td>\n",
       "      <td>0</td>\n",
       "      <td>...</td>\n",
       "      <td>0</td>\n",
       "      <td>0</td>\n",
       "      <td>0</td>\n",
       "      <td>0</td>\n",
       "      <td>0</td>\n",
       "      <td>0</td>\n",
       "      <td>0</td>\n",
       "      <td>0</td>\n",
       "      <td>0</td>\n",
       "      <td>0</td>\n",
       "    </tr>\n",
       "    <tr>\n",
       "      <th>1</th>\n",
       "      <td>1</td>\n",
       "      <td>2</td>\n",
       "      <td>abstract background non small lung nsclc heter...</td>\n",
       "      <td>0</td>\n",
       "      <td>0</td>\n",
       "      <td>0</td>\n",
       "      <td>0</td>\n",
       "      <td>0</td>\n",
       "      <td>0</td>\n",
       "      <td>0</td>\n",
       "      <td>...</td>\n",
       "      <td>0</td>\n",
       "      <td>0</td>\n",
       "      <td>0</td>\n",
       "      <td>0</td>\n",
       "      <td>0</td>\n",
       "      <td>0</td>\n",
       "      <td>0</td>\n",
       "      <td>0</td>\n",
       "      <td>0</td>\n",
       "      <td>0</td>\n",
       "    </tr>\n",
       "  </tbody>\n",
       "</table>\n",
       "<p>2 rows × 4325 columns</p>\n",
       "</div>"
      ],
      "text/plain": [
       "   id  class                                               text  gene_ABCB11  \\\n",
       "0   0      1  cyclin dependent kinase cdks regulate variety ...            0   \n",
       "1   1      2  abstract background non small lung nsclc heter...            0   \n",
       "\n",
       "   gene_ABCC6  gene_ABL1  gene_ACVR1  gene_ADAMTS13  gene_ADGRG1  gene_AGO2  \\\n",
       "0           0          0           0              0            0          0   \n",
       "1           0          0           0              0            0          0   \n",
       "\n",
       "   ...  variation_YAP1-TFE3 Fusion  variation_YWHAE-ROS1 Fusion  \\\n",
       "0  ...                           0                            0   \n",
       "1  ...                           0                            0   \n",
       "\n",
       "   variation_ZC3H7B-BCOR Fusion  variation_ZNF198-FGFR1 Fusion  \\\n",
       "0                             0                              0   \n",
       "1                             0                              0   \n",
       "\n",
       "   variation_null1313Y  variation_null189Y  variation_null262Q  \\\n",
       "0                    0                   0                   0   \n",
       "1                    0                   0                   0   \n",
       "\n",
       "   variation_null267R  variation_null399R  variation_p61BRAF  \n",
       "0                   0                   0                  0  \n",
       "1                   0                   0                  0  \n",
       "\n",
       "[2 rows x 4325 columns]"
      ]
     },
     "execution_count": 23,
     "metadata": {},
     "output_type": "execute_result"
    }
   ],
   "source": [
    "train.head(2)"
   ]
  },
  {
   "cell_type": "code",
   "execution_count": 24,
   "metadata": {},
   "outputs": [
    {
     "data": {
      "text/html": [
       "<div>\n",
       "<style scoped>\n",
       "    .dataframe tbody tr th:only-of-type {\n",
       "        vertical-align: middle;\n",
       "    }\n",
       "\n",
       "    .dataframe tbody tr th {\n",
       "        vertical-align: top;\n",
       "    }\n",
       "\n",
       "    .dataframe thead th {\n",
       "        text-align: right;\n",
       "    }\n",
       "</style>\n",
       "<table border=\"1\" class=\"dataframe\">\n",
       "  <thead>\n",
       "    <tr style=\"text-align: right;\">\n",
       "      <th></th>\n",
       "      <th>id</th>\n",
       "      <th>text</th>\n",
       "      <th>gene_ABCB11</th>\n",
       "      <th>gene_ABCC6</th>\n",
       "      <th>gene_ABL1</th>\n",
       "      <th>gene_ACVR1</th>\n",
       "      <th>gene_ADAMTS13</th>\n",
       "      <th>gene_ADGRG1</th>\n",
       "      <th>gene_AGO2</th>\n",
       "      <th>gene_AGXT</th>\n",
       "      <th>...</th>\n",
       "      <th>variation_YAP1-TFE3 Fusion</th>\n",
       "      <th>variation_YWHAE-ROS1 Fusion</th>\n",
       "      <th>variation_ZC3H7B-BCOR Fusion</th>\n",
       "      <th>variation_ZNF198-FGFR1 Fusion</th>\n",
       "      <th>variation_null1313Y</th>\n",
       "      <th>variation_null189Y</th>\n",
       "      <th>variation_null262Q</th>\n",
       "      <th>variation_null267R</th>\n",
       "      <th>variation_null399R</th>\n",
       "      <th>variation_p61BRAF</th>\n",
       "    </tr>\n",
       "  </thead>\n",
       "  <tbody>\n",
       "    <tr>\n",
       "      <th>0</th>\n",
       "      <td>1</td>\n",
       "      <td>incidence breast increase china recent decade ...</td>\n",
       "      <td>0</td>\n",
       "      <td>0</td>\n",
       "      <td>0</td>\n",
       "      <td>0</td>\n",
       "      <td>0</td>\n",
       "      <td>0</td>\n",
       "      <td>0</td>\n",
       "      <td>0</td>\n",
       "      <td>...</td>\n",
       "      <td>0</td>\n",
       "      <td>0</td>\n",
       "      <td>0</td>\n",
       "      <td>0</td>\n",
       "      <td>0</td>\n",
       "      <td>0</td>\n",
       "      <td>0</td>\n",
       "      <td>0</td>\n",
       "      <td>0</td>\n",
       "      <td>0</td>\n",
       "    </tr>\n",
       "    <tr>\n",
       "      <th>1</th>\n",
       "      <td>2</td>\n",
       "      <td>unselected series colorectal carcinoma stratif...</td>\n",
       "      <td>0</td>\n",
       "      <td>0</td>\n",
       "      <td>0</td>\n",
       "      <td>0</td>\n",
       "      <td>0</td>\n",
       "      <td>0</td>\n",
       "      <td>0</td>\n",
       "      <td>0</td>\n",
       "      <td>...</td>\n",
       "      <td>0</td>\n",
       "      <td>0</td>\n",
       "      <td>0</td>\n",
       "      <td>0</td>\n",
       "      <td>0</td>\n",
       "      <td>0</td>\n",
       "      <td>0</td>\n",
       "      <td>0</td>\n",
       "      <td>0</td>\n",
       "      <td>0</td>\n",
       "    </tr>\n",
       "  </tbody>\n",
       "</table>\n",
       "<p>2 rows × 4324 columns</p>\n",
       "</div>"
      ],
      "text/plain": [
       "   id                                               text  gene_ABCB11  \\\n",
       "0   1  incidence breast increase china recent decade ...            0   \n",
       "1   2  unselected series colorectal carcinoma stratif...            0   \n",
       "\n",
       "   gene_ABCC6  gene_ABL1  gene_ACVR1  gene_ADAMTS13  gene_ADGRG1  gene_AGO2  \\\n",
       "0           0          0           0              0            0          0   \n",
       "1           0          0           0              0            0          0   \n",
       "\n",
       "   gene_AGXT  ...  variation_YAP1-TFE3 Fusion  variation_YWHAE-ROS1 Fusion  \\\n",
       "0          0  ...                           0                            0   \n",
       "1          0  ...                           0                            0   \n",
       "\n",
       "   variation_ZC3H7B-BCOR Fusion  variation_ZNF198-FGFR1 Fusion  \\\n",
       "0                             0                              0   \n",
       "1                             0                              0   \n",
       "\n",
       "   variation_null1313Y  variation_null189Y  variation_null262Q  \\\n",
       "0                    0                   0                   0   \n",
       "1                    0                   0                   0   \n",
       "\n",
       "   variation_null267R  variation_null399R  variation_p61BRAF  \n",
       "0                   0                   0                  0  \n",
       "1                   0                   0                  0  \n",
       "\n",
       "[2 rows x 4324 columns]"
      ]
     },
     "execution_count": 24,
     "metadata": {},
     "output_type": "execute_result"
    }
   ],
   "source": [
    "test.head(2)"
   ]
  },
  {
   "cell_type": "markdown",
   "metadata": {},
   "source": [
    "## Preparation for Modelling"
   ]
  },
  {
   "cell_type": "code",
   "execution_count": 25,
   "metadata": {},
   "outputs": [],
   "source": [
    "# Splitting of data into Predictor (X) and Target (y) Dataframes\n",
    "X = train[[i for i in train.columns if i not in ['id', 'class']]]\n",
    "y = train['class']"
   ]
  },
  {
   "cell_type": "code",
   "execution_count": 26,
   "metadata": {
    "scrolled": false
   },
   "outputs": [
    {
     "data": {
      "text/plain": [
       "((3321, 4323), (3321,))"
      ]
     },
     "execution_count": 26,
     "metadata": {},
     "output_type": "execute_result"
    }
   ],
   "source": [
    "X.shape, y.shape"
   ]
  },
  {
   "cell_type": "code",
   "execution_count": 27,
   "metadata": {},
   "outputs": [],
   "source": [
    "# Save copies of the original X and y dataframes so that we can try different word embeddings as needed\n",
    "X_original = X.copy()\n",
    "y_original = y.copy()"
   ]
  },
  {
   "cell_type": "code",
   "execution_count": 28,
   "metadata": {},
   "outputs": [],
   "source": [
    "X_test = test.drop(['id'], axis=1)"
   ]
  },
  {
   "cell_type": "code",
   "execution_count": 29,
   "metadata": {},
   "outputs": [
    {
     "data": {
      "text/plain": [
       "(986, 4323)"
      ]
     },
     "execution_count": 29,
     "metadata": {},
     "output_type": "execute_result"
    }
   ],
   "source": [
    "X_test.shape"
   ]
  },
  {
   "cell_type": "code",
   "execution_count": 30,
   "metadata": {},
   "outputs": [
    {
     "name": "stdout",
     "output_type": "stream",
     "text": [
      "Wall time: 7.43 s\n"
     ]
    }
   ],
   "source": [
    "%%time\n",
    "# For convenience, we create an array called 'X_all_text that contains\n",
    "# all the text from our training set, across all data points\n",
    "X_all_text = []\n",
    "for text in X['text']:\n",
    "    X_all_text.append(text.split())\n",
    "X_all_text = np.array(X_all_text)"
   ]
  },
  {
   "cell_type": "code",
   "execution_count": 31,
   "metadata": {},
   "outputs": [
    {
     "data": {
      "text/plain": [
       "(3321,)"
      ]
     },
     "execution_count": 31,
     "metadata": {},
     "output_type": "execute_result"
    }
   ],
   "source": [
    "X_all_text.shape"
   ]
  },
  {
   "cell_type": "markdown",
   "metadata": {},
   "source": [
    "## Exploring alternative word embeddings"
   ]
  },
  {
   "cell_type": "markdown",
   "metadata": {},
   "source": [
    "In this notebook, we evaluate various word embeddings other than the ones created using the standard TfidfVectorizer as used in the baseline model."
   ]
  },
  {
   "cell_type": "markdown",
   "metadata": {},
   "source": [
    "### Evaluation Approach"
   ]
  },
  {
   "cell_type": "markdown",
   "metadata": {},
   "source": [
    "To manage the overall processing power needed to find the best alternative model, we seek to find the best alternative model based on the folowing steps:\n",
    "1. Find an alternative set of word embeddings but use a fixed classifier (Extra Trees Classifier) to measure their performance against our validation dataset\n",
    "2. Find the best classifier for our chosen word embeddings\n",
    "\n",
    "For **Step 1** above, we explore three static word embeddings to see if we can get better classification results:\n",
    "- Global Vectors for Word Representation (GloVe) pre-trained word embeddings created by the [Stanford Natural Language Processing Group](https://nlp.stanford.edu/) and available at https://nlp.stanford.edu/projects/glove/:\n",
    "    - A smaller set of GloVe embeddings (which we call **'glove_small'**) that are based on based on Wikipedia 2015 and Gigaword 5th Edition (https://catalog.ldc.upenn.edu/LDC2011T07)\n",
    "    - A larger set of GloVe embeddings (which we call **'glove_big'**) that are based on Common Crawl (https://commoncrawl.org/)\n",
    "- Our own word embeddings created by training Word2Vec (from nltk) on all the given text in the training dataset, which we call **'w2v'**.\n",
    "\n",
    "For **Step 2** above, we evaluate the performance of a Forward Neural Network (FNN) and an Extra Trees Classifier. For both classifiers, we use RandomisedSearchCV to find the set of optimal parameters to give the best cross-validated score based on the training dataset."
   ]
  },
  {
   "cell_type": "markdown",
   "metadata": {},
   "source": [
    "### Loading of pre-trained word embeddings based on GloVe"
   ]
  },
  {
   "cell_type": "markdown",
   "metadata": {},
   "source": [
    "We now load the two pre-trained word embeddings (based on GloVe) and store them as dictionary objects 'glove_small' and 'glove_big'."
   ]
  },
  {
   "cell_type": "code",
   "execution_count": 55,
   "metadata": {},
   "outputs": [
    {
     "name": "stdout",
     "output_type": "stream",
     "text": [
      "Wall time: 29.5 s\n"
     ]
    }
   ],
   "source": [
    "%%time\n",
    "import struct \n",
    "\n",
    "# glove_small keys are bounded by what is common to both the X_all_text and the glove file\n",
    "glove_small = {}\n",
    "all_words = set(w for words in X_all_text for w in words)\n",
    "with open(GLOVE_6B_50D_PATH, \"rb\") as infile:\n",
    "    for line in infile:\n",
    "        parts = line.split()\n",
    "        word = parts[0].decode(encoding)\n",
    "        if (word in all_words):\n",
    "            nums=np.array(parts[1:], dtype=np.float32)\n",
    "            glove_small[word] = nums\n",
    "\n",
    "# glove_big keys are bounded by what is common to both the X_all_text and the glove file\n",
    "glove_big = {}\n",
    "with open(GLOVE_6B_300D_PATH, \"rb\") as infile:\n",
    "    for line in infile:\n",
    "        parts = line.split()\n",
    "        word = parts[0].decode(encoding)\n",
    "        if word in all_words:\n",
    "            nums=np.array(parts[1:], dtype=np.float32)\n",
    "            glove_big[word] = nums"
   ]
  },
  {
   "cell_type": "markdown",
   "metadata": {},
   "source": [
    "### Loading of ELMo word embeddings based on training dataset vocabulary"
   ]
  },
  {
   "cell_type": "markdown",
   "metadata": {},
   "source": [
    "We load the ELMo module (version 3) from TensorFlow Hub. The ELMo module computes contextualized word representations using character-based word representations and bidirectional LSTMs. \n",
    "\n",
    "The module supports inputs both in the form of raw text strings or tokenized text strings. It outputs fixed embeddings at each LSTM layer, a learnable aggregation of the 3 layers, and a fixed mean-pooled vector representation of the input."
   ]
  },
  {
   "cell_type": "code",
   "execution_count": 32,
   "metadata": {},
   "outputs": [
    {
     "name": "stderr",
     "output_type": "stream",
     "text": [
      "INFO:absl:Using C:\\Users\\yuchy\\AppData\\Local\\Temp\\tfhub_modules to cache modules.\n"
     ]
    }
   ],
   "source": [
    "elmo = hub.Module(\"https://tfhub.dev/google/elmo/3\", trainable=True)"
   ]
  },
  {
   "cell_type": "markdown",
   "metadata": {},
   "source": [
    "We define a function that will extract the ELMo vectors of all the words in a single sample and take their mean."
   ]
  },
  {
   "cell_type": "code",
   "execution_count": 33,
   "metadata": {},
   "outputs": [],
   "source": [
    "def elmo_vectors(x):\n",
    "    embeddings = elmo(x, signature=\"default\", as_dict=True)[\"elmo\"]\n",
    "    with tf.Session() as sess:\n",
    "        sess.run(tf.global_variables_initializer())\n",
    "        sess.run(tf.tables_initializer())\n",
    "        # return average of ELMo features\n",
    "        return sess.run(tf.reduce_mean(embeddings,1))"
   ]
  },
  {
   "cell_type": "markdown",
   "metadata": {},
   "source": [
    "We now call the function for each sample text in the X_all_text list we have created earlier. Due to memory constraints, we cannot store the entire set of ELMo vectors in memory. Instead, we write them to disk using the Pickle serialisation library using the most efficient Pickle serialisation protocol available. "
   ]
  },
  {
   "cell_type": "code",
   "execution_count": null,
   "metadata": {
    "scrolled": true
   },
   "outputs": [
    {
     "name": "stdout",
     "output_type": "stream",
     "text": [
      "INFO:tensorflow:Saver not created because there are no variables in the graph to restore\n"
     ]
    },
    {
     "name": "stderr",
     "output_type": "stream",
     "text": [
      "INFO:tensorflow:Saver not created because there are no variables in the graph to restore\n"
     ]
    },
    {
     "name": "stdout",
     "output_type": "stream",
     "text": [
      "Row 1 of 3322 appended, duration (h:m:s): 0:00:25.530810, total elapsed time (h:m:s): 0:00:25.531809\n",
      "INFO:tensorflow:Saver not created because there are no variables in the graph to restore\n"
     ]
    },
    {
     "name": "stderr",
     "output_type": "stream",
     "text": [
      "INFO:tensorflow:Saver not created because there are no variables in the graph to restore\n"
     ]
    },
    {
     "name": "stdout",
     "output_type": "stream",
     "text": [
      "Row 2 of 3322 appended, duration (h:m:s): 0:00:20.376989, total elapsed time (h:m:s): 0:00:45.913782\n",
      "INFO:tensorflow:Saver not created because there are no variables in the graph to restore\n"
     ]
    },
    {
     "name": "stderr",
     "output_type": "stream",
     "text": [
      "INFO:tensorflow:Saver not created because there are no variables in the graph to restore\n"
     ]
    },
    {
     "name": "stdout",
     "output_type": "stream",
     "text": [
      "Row 3 of 3322 appended, duration (h:m:s): 0:00:20.064077, total elapsed time (h:m:s): 0:01:05.978859\n",
      "INFO:tensorflow:Saver not created because there are no variables in the graph to restore\n"
     ]
    },
    {
     "name": "stderr",
     "output_type": "stream",
     "text": [
      "INFO:tensorflow:Saver not created because there are no variables in the graph to restore\n"
     ]
    },
    {
     "name": "stdout",
     "output_type": "stream",
     "text": [
      "Row 4 of 3322 appended, duration (h:m:s): 0:00:23.705412, total elapsed time (h:m:s): 0:01:29.685272\n",
      "INFO:tensorflow:Saver not created because there are no variables in the graph to restore\n"
     ]
    },
    {
     "name": "stderr",
     "output_type": "stream",
     "text": [
      "INFO:tensorflow:Saver not created because there are no variables in the graph to restore\n"
     ]
    },
    {
     "name": "stdout",
     "output_type": "stream",
     "text": [
      "Row 5 of 3322 appended, duration (h:m:s): 0:00:39.550117, total elapsed time (h:m:s): 0:02:09.237384\n",
      "INFO:tensorflow:Saver not created because there are no variables in the graph to restore\n"
     ]
    },
    {
     "name": "stderr",
     "output_type": "stream",
     "text": [
      "INFO:tensorflow:Saver not created because there are no variables in the graph to restore\n"
     ]
    },
    {
     "name": "stdout",
     "output_type": "stream",
     "text": [
      "Row 6 of 3322 appended, duration (h:m:s): 0:00:25.455503, total elapsed time (h:m:s): 0:02:34.699868\n",
      "INFO:tensorflow:Saver not created because there are no variables in the graph to restore\n"
     ]
    },
    {
     "name": "stderr",
     "output_type": "stream",
     "text": [
      "INFO:tensorflow:Saver not created because there are no variables in the graph to restore\n"
     ]
    },
    {
     "name": "stdout",
     "output_type": "stream",
     "text": [
      "Row 7 of 3322 appended, duration (h:m:s): 0:00:24.422882, total elapsed time (h:m:s): 0:02:59.122751\n",
      "INFO:tensorflow:Saver not created because there are no variables in the graph to restore\n"
     ]
    },
    {
     "name": "stderr",
     "output_type": "stream",
     "text": [
      "INFO:tensorflow:Saver not created because there are no variables in the graph to restore\n"
     ]
    },
    {
     "name": "stdout",
     "output_type": "stream",
     "text": [
      "Row 8 of 3322 appended, duration (h:m:s): 0:00:54.837268, total elapsed time (h:m:s): 0:03:53.961015\n",
      "INFO:tensorflow:Saver not created because there are no variables in the graph to restore\n"
     ]
    },
    {
     "name": "stderr",
     "output_type": "stream",
     "text": [
      "INFO:tensorflow:Saver not created because there are no variables in the graph to restore\n"
     ]
    },
    {
     "name": "stdout",
     "output_type": "stream",
     "text": [
      "Row 9 of 3322 appended, duration (h:m:s): 0:00:43.936094, total elapsed time (h:m:s): 0:04:37.897109\n",
      "INFO:tensorflow:Saver not created because there are no variables in the graph to restore\n"
     ]
    },
    {
     "name": "stderr",
     "output_type": "stream",
     "text": [
      "INFO:tensorflow:Saver not created because there are no variables in the graph to restore\n"
     ]
    },
    {
     "name": "stdout",
     "output_type": "stream",
     "text": [
      "Row 10 of 3322 appended, duration (h:m:s): 0:00:27.447700, total elapsed time (h:m:s): 0:05:05.347327\n",
      "INFO:tensorflow:Saver not created because there are no variables in the graph to restore\n"
     ]
    },
    {
     "name": "stderr",
     "output_type": "stream",
     "text": [
      "INFO:tensorflow:Saver not created because there are no variables in the graph to restore\n"
     ]
    },
    {
     "name": "stdout",
     "output_type": "stream",
     "text": [
      "Row 11 of 3322 appended, duration (h:m:s): 0:00:22.646472, total elapsed time (h:m:s): 0:05:27.993798\n",
      "INFO:tensorflow:Saver not created because there are no variables in the graph to restore\n"
     ]
    },
    {
     "name": "stderr",
     "output_type": "stream",
     "text": [
      "INFO:tensorflow:Saver not created because there are no variables in the graph to restore\n"
     ]
    },
    {
     "name": "stdout",
     "output_type": "stream",
     "text": [
      "Row 12 of 3322 appended, duration (h:m:s): 0:00:53.082122, total elapsed time (h:m:s): 0:06:21.076918\n",
      "INFO:tensorflow:Saver not created because there are no variables in the graph to restore\n"
     ]
    },
    {
     "name": "stderr",
     "output_type": "stream",
     "text": [
      "INFO:tensorflow:Saver not created because there are no variables in the graph to restore\n"
     ]
    },
    {
     "name": "stdout",
     "output_type": "stream",
     "text": [
      "Row 13 of 3322 appended, duration (h:m:s): 0:01:52.791530, total elapsed time (h:m:s): 0:08:13.875429\n",
      "INFO:tensorflow:Saver not created because there are no variables in the graph to restore\n"
     ]
    },
    {
     "name": "stderr",
     "output_type": "stream",
     "text": [
      "INFO:tensorflow:Saver not created because there are no variables in the graph to restore\n"
     ]
    },
    {
     "name": "stdout",
     "output_type": "stream",
     "text": [
      "Row 14 of 3322 appended, duration (h:m:s): 0:00:46.528748, total elapsed time (h:m:s): 0:09:00.410164\n",
      "INFO:tensorflow:Saver not created because there are no variables in the graph to restore\n"
     ]
    },
    {
     "name": "stderr",
     "output_type": "stream",
     "text": [
      "INFO:tensorflow:Saver not created because there are no variables in the graph to restore\n"
     ]
    },
    {
     "name": "stdout",
     "output_type": "stream",
     "text": [
      "Row 15 of 3322 appended, duration (h:m:s): 0:00:25.993077, total elapsed time (h:m:s): 0:09:26.404241\n",
      "INFO:tensorflow:Saver not created because there are no variables in the graph to restore\n"
     ]
    },
    {
     "name": "stderr",
     "output_type": "stream",
     "text": [
      "INFO:tensorflow:Saver not created because there are no variables in the graph to restore\n"
     ]
    },
    {
     "name": "stdout",
     "output_type": "stream",
     "text": [
      "Row 16 of 3322 appended, duration (h:m:s): 0:00:26.633813, total elapsed time (h:m:s): 0:09:53.039049\n",
      "INFO:tensorflow:Saver not created because there are no variables in the graph to restore\n"
     ]
    },
    {
     "name": "stderr",
     "output_type": "stream",
     "text": [
      "INFO:tensorflow:Saver not created because there are no variables in the graph to restore\n"
     ]
    },
    {
     "name": "stdout",
     "output_type": "stream",
     "text": [
      "Row 17 of 3322 appended, duration (h:m:s): 0:00:32.455438, total elapsed time (h:m:s): 0:10:25.495485\n",
      "INFO:tensorflow:Saver not created because there are no variables in the graph to restore\n"
     ]
    },
    {
     "name": "stderr",
     "output_type": "stream",
     "text": [
      "INFO:tensorflow:Saver not created because there are no variables in the graph to restore\n"
     ]
    },
    {
     "name": "stdout",
     "output_type": "stream",
     "text": [
      "Row 18 of 3322 appended, duration (h:m:s): 0:00:17.586993, total elapsed time (h:m:s): 0:10:43.084474\n",
      "INFO:tensorflow:Saver not created because there are no variables in the graph to restore\n"
     ]
    },
    {
     "name": "stderr",
     "output_type": "stream",
     "text": [
      "INFO:tensorflow:Saver not created because there are no variables in the graph to restore\n"
     ]
    },
    {
     "name": "stdout",
     "output_type": "stream",
     "text": [
      "Row 19 of 3322 appended, duration (h:m:s): 0:00:26.362541, total elapsed time (h:m:s): 0:11:09.449009\n",
      "INFO:tensorflow:Saver not created because there are no variables in the graph to restore\n"
     ]
    },
    {
     "name": "stderr",
     "output_type": "stream",
     "text": [
      "INFO:tensorflow:Saver not created because there are no variables in the graph to restore\n"
     ]
    },
    {
     "name": "stdout",
     "output_type": "stream",
     "text": [
      "Row 20 of 3322 appended, duration (h:m:s): 0:00:18.863581, total elapsed time (h:m:s): 0:11:28.313584\n",
      "INFO:tensorflow:Saver not created because there are no variables in the graph to restore\n"
     ]
    },
    {
     "name": "stderr",
     "output_type": "stream",
     "text": [
      "INFO:tensorflow:Saver not created because there are no variables in the graph to restore\n"
     ]
    },
    {
     "name": "stdout",
     "output_type": "stream",
     "text": [
      "Row 21 of 3322 appended, duration (h:m:s): 0:00:50.216822, total elapsed time (h:m:s): 0:12:18.531405\n",
      "INFO:tensorflow:Saver not created because there are no variables in the graph to restore\n"
     ]
    },
    {
     "name": "stderr",
     "output_type": "stream",
     "text": [
      "INFO:tensorflow:Saver not created because there are no variables in the graph to restore\n"
     ]
    },
    {
     "name": "stdout",
     "output_type": "stream",
     "text": [
      "Row 22 of 3322 appended, duration (h:m:s): 0:00:27.001832, total elapsed time (h:m:s): 0:12:45.535232\n",
      "INFO:tensorflow:Saver not created because there are no variables in the graph to restore\n"
     ]
    },
    {
     "name": "stderr",
     "output_type": "stream",
     "text": [
      "INFO:tensorflow:Saver not created because there are no variables in the graph to restore\n"
     ]
    },
    {
     "name": "stdout",
     "output_type": "stream",
     "text": [
      "Row 23 of 3322 appended, duration (h:m:s): 0:00:26.145119, total elapsed time (h:m:s): 0:13:11.681345\n",
      "INFO:tensorflow:Saver not created because there are no variables in the graph to restore\n"
     ]
    },
    {
     "name": "stderr",
     "output_type": "stream",
     "text": [
      "INFO:tensorflow:Saver not created because there are no variables in the graph to restore\n"
     ]
    },
    {
     "name": "stdout",
     "output_type": "stream",
     "text": [
      "Row 24 of 3322 appended, duration (h:m:s): 0:00:25.424048, total elapsed time (h:m:s): 0:13:37.106391\n",
      "INFO:tensorflow:Saver not created because there are no variables in the graph to restore\n"
     ]
    },
    {
     "name": "stderr",
     "output_type": "stream",
     "text": [
      "INFO:tensorflow:Saver not created because there are no variables in the graph to restore\n"
     ]
    },
    {
     "name": "stdout",
     "output_type": "stream",
     "text": [
      "Row 25 of 3322 appended, duration (h:m:s): 0:00:26.333617, total elapsed time (h:m:s): 0:14:03.441003\n",
      "INFO:tensorflow:Saver not created because there are no variables in the graph to restore\n"
     ]
    },
    {
     "name": "stderr",
     "output_type": "stream",
     "text": [
      "INFO:tensorflow:Saver not created because there are no variables in the graph to restore\n"
     ]
    },
    {
     "name": "stdout",
     "output_type": "stream",
     "text": [
      "Row 26 of 3322 appended, duration (h:m:s): 0:00:26.353564, total elapsed time (h:m:s): 0:14:29.795563\n",
      "INFO:tensorflow:Saver not created because there are no variables in the graph to restore\n"
     ]
    },
    {
     "name": "stderr",
     "output_type": "stream",
     "text": [
      "INFO:tensorflow:Saver not created because there are no variables in the graph to restore\n"
     ]
    },
    {
     "name": "stdout",
     "output_type": "stream",
     "text": [
      "Row 27 of 3322 appended, duration (h:m:s): 0:00:30.251144, total elapsed time (h:m:s): 0:15:00.047702\n",
      "INFO:tensorflow:Saver not created because there are no variables in the graph to restore\n"
     ]
    },
    {
     "name": "stderr",
     "output_type": "stream",
     "text": [
      "INFO:tensorflow:Saver not created because there are no variables in the graph to restore\n"
     ]
    },
    {
     "name": "stdout",
     "output_type": "stream",
     "text": [
      "Row 28 of 3322 appended, duration (h:m:s): 0:00:15.050275, total elapsed time (h:m:s): 0:15:15.098976\n",
      "INFO:tensorflow:Saver not created because there are no variables in the graph to restore\n"
     ]
    },
    {
     "name": "stderr",
     "output_type": "stream",
     "text": [
      "INFO:tensorflow:Saver not created because there are no variables in the graph to restore\n"
     ]
    },
    {
     "name": "stdout",
     "output_type": "stream",
     "text": [
      "Row 29 of 3322 appended, duration (h:m:s): 0:00:49.322684, total elapsed time (h:m:s): 0:16:04.422658\n",
      "INFO:tensorflow:Saver not created because there are no variables in the graph to restore\n"
     ]
    },
    {
     "name": "stderr",
     "output_type": "stream",
     "text": [
      "INFO:tensorflow:Saver not created because there are no variables in the graph to restore\n"
     ]
    },
    {
     "name": "stdout",
     "output_type": "stream",
     "text": [
      "Row 30 of 3322 appended, duration (h:m:s): 0:00:15.479625, total elapsed time (h:m:s): 0:16:19.903280\n",
      "INFO:tensorflow:Saver not created because there are no variables in the graph to restore\n"
     ]
    },
    {
     "name": "stderr",
     "output_type": "stream",
     "text": [
      "INFO:tensorflow:Saver not created because there are no variables in the graph to restore\n"
     ]
    },
    {
     "name": "stdout",
     "output_type": "stream",
     "text": [
      "Row 31 of 3322 appended, duration (h:m:s): 0:00:14.926108, total elapsed time (h:m:s): 0:16:34.830385\n",
      "INFO:tensorflow:Saver not created because there are no variables in the graph to restore\n"
     ]
    },
    {
     "name": "stderr",
     "output_type": "stream",
     "text": [
      "INFO:tensorflow:Saver not created because there are no variables in the graph to restore\n"
     ]
    },
    {
     "name": "stdout",
     "output_type": "stream",
     "text": [
      "Row 32 of 3322 appended, duration (h:m:s): 0:00:55.571468, total elapsed time (h:m:s): 0:17:30.402850\n",
      "INFO:tensorflow:Saver not created because there are no variables in the graph to restore\n"
     ]
    },
    {
     "name": "stderr",
     "output_type": "stream",
     "text": [
      "INFO:tensorflow:Saver not created because there are no variables in the graph to restore\n"
     ]
    },
    {
     "name": "stdout",
     "output_type": "stream",
     "text": [
      "Row 33 of 3322 appended, duration (h:m:s): 0:00:09.346046, total elapsed time (h:m:s): 0:17:39.748896\n",
      "INFO:tensorflow:Saver not created because there are no variables in the graph to restore\n"
     ]
    },
    {
     "name": "stderr",
     "output_type": "stream",
     "text": [
      "INFO:tensorflow:Saver not created because there are no variables in the graph to restore\n"
     ]
    },
    {
     "name": "stdout",
     "output_type": "stream",
     "text": [
      "Row 34 of 3322 appended, duration (h:m:s): 0:00:27.220219, total elapsed time (h:m:s): 0:18:06.969115\n",
      "INFO:tensorflow:Saver not created because there are no variables in the graph to restore\n"
     ]
    },
    {
     "name": "stderr",
     "output_type": "stream",
     "text": [
      "INFO:tensorflow:Saver not created because there are no variables in the graph to restore\n"
     ]
    },
    {
     "name": "stdout",
     "output_type": "stream",
     "text": [
      "Row 35 of 3322 appended, duration (h:m:s): 0:00:44.399354, total elapsed time (h:m:s): 0:18:51.369467\n",
      "INFO:tensorflow:Saver not created because there are no variables in the graph to restore\n"
     ]
    },
    {
     "name": "stderr",
     "output_type": "stream",
     "text": [
      "INFO:tensorflow:Saver not created because there are no variables in the graph to restore\n"
     ]
    },
    {
     "name": "stdout",
     "output_type": "stream",
     "text": [
      "Row 36 of 3322 appended, duration (h:m:s): 0:00:18.337962, total elapsed time (h:m:s): 0:19:09.708426\n",
      "INFO:tensorflow:Saver not created because there are no variables in the graph to restore\n"
     ]
    },
    {
     "name": "stderr",
     "output_type": "stream",
     "text": [
      "INFO:tensorflow:Saver not created because there are no variables in the graph to restore\n"
     ]
    },
    {
     "name": "stdout",
     "output_type": "stream",
     "text": [
      "Row 37 of 3322 appended, duration (h:m:s): 0:00:25.563674, total elapsed time (h:m:s): 0:19:35.272099\n",
      "INFO:tensorflow:Saver not created because there are no variables in the graph to restore\n"
     ]
    },
    {
     "name": "stderr",
     "output_type": "stream",
     "text": [
      "INFO:tensorflow:Saver not created because there are no variables in the graph to restore\n"
     ]
    },
    {
     "name": "stdout",
     "output_type": "stream",
     "text": [
      "Row 38 of 3322 appended, duration (h:m:s): 0:00:13.263548, total elapsed time (h:m:s): 0:19:48.535647\n",
      "INFO:tensorflow:Saver not created because there are no variables in the graph to restore\n"
     ]
    },
    {
     "name": "stderr",
     "output_type": "stream",
     "text": [
      "INFO:tensorflow:Saver not created because there are no variables in the graph to restore\n"
     ]
    },
    {
     "name": "stdout",
     "output_type": "stream",
     "text": [
      "Row 39 of 3322 appended, duration (h:m:s): 0:00:13.233628, total elapsed time (h:m:s): 0:20:01.769275\n",
      "INFO:tensorflow:Saver not created because there are no variables in the graph to restore\n"
     ]
    },
    {
     "name": "stderr",
     "output_type": "stream",
     "text": [
      "INFO:tensorflow:Saver not created because there are no variables in the graph to restore\n"
     ]
    },
    {
     "name": "stdout",
     "output_type": "stream",
     "text": [
      "Row 40 of 3322 appended, duration (h:m:s): 0:00:22.261499, total elapsed time (h:m:s): 0:20:24.030774\n",
      "INFO:tensorflow:Saver not created because there are no variables in the graph to restore\n"
     ]
    },
    {
     "name": "stderr",
     "output_type": "stream",
     "text": [
      "INFO:tensorflow:Saver not created because there are no variables in the graph to restore\n"
     ]
    },
    {
     "name": "stdout",
     "output_type": "stream",
     "text": [
      "Row 41 of 3322 appended, duration (h:m:s): 0:00:22.230581, total elapsed time (h:m:s): 0:20:46.262354\n",
      "INFO:tensorflow:Saver not created because there are no variables in the graph to restore\n"
     ]
    },
    {
     "name": "stderr",
     "output_type": "stream",
     "text": [
      "INFO:tensorflow:Saver not created because there are no variables in the graph to restore\n"
     ]
    },
    {
     "name": "stdout",
     "output_type": "stream",
     "text": [
      "Row 42 of 3322 appended, duration (h:m:s): 0:00:48.850434, total elapsed time (h:m:s): 0:21:35.112787\n",
      "INFO:tensorflow:Saver not created because there are no variables in the graph to restore\n"
     ]
    },
    {
     "name": "stderr",
     "output_type": "stream",
     "text": [
      "INFO:tensorflow:Saver not created because there are no variables in the graph to restore\n"
     ]
    },
    {
     "name": "stdout",
     "output_type": "stream",
     "text": [
      "Row 43 of 3322 appended, duration (h:m:s): 0:00:14.262878, total elapsed time (h:m:s): 0:21:49.375666\n",
      "INFO:tensorflow:Saver not created because there are no variables in the graph to restore\n"
     ]
    },
    {
     "name": "stderr",
     "output_type": "stream",
     "text": [
      "INFO:tensorflow:Saver not created because there are no variables in the graph to restore\n"
     ]
    },
    {
     "name": "stdout",
     "output_type": "stream",
     "text": [
      "Row 44 of 3322 appended, duration (h:m:s): 0:00:53.737395, total elapsed time (h:m:s): 0:22:43.114058\n",
      "INFO:tensorflow:Saver not created because there are no variables in the graph to restore\n"
     ]
    },
    {
     "name": "stderr",
     "output_type": "stream",
     "text": [
      "INFO:tensorflow:Saver not created because there are no variables in the graph to restore\n"
     ]
    },
    {
     "name": "stdout",
     "output_type": "stream",
     "text": [
      "Row 45 of 3322 appended, duration (h:m:s): 0:00:13.469998, total elapsed time (h:m:s): 0:22:56.585028\n",
      "INFO:tensorflow:Saver not created because there are no variables in the graph to restore\n"
     ]
    },
    {
     "name": "stderr",
     "output_type": "stream",
     "text": [
      "INFO:tensorflow:Saver not created because there are no variables in the graph to restore\n"
     ]
    },
    {
     "name": "stdout",
     "output_type": "stream",
     "text": [
      "Row 46 of 3322 appended, duration (h:m:s): 0:00:18.435724, total elapsed time (h:m:s): 0:23:15.020752\n",
      "INFO:tensorflow:Saver not created because there are no variables in the graph to restore\n"
     ]
    },
    {
     "name": "stderr",
     "output_type": "stream",
     "text": [
      "INFO:tensorflow:Saver not created because there are no variables in the graph to restore\n"
     ]
    },
    {
     "name": "stdout",
     "output_type": "stream",
     "text": [
      "Row 47 of 3322 appended, duration (h:m:s): 0:00:12.872622, total elapsed time (h:m:s): 0:23:27.894373\n",
      "INFO:tensorflow:Saver not created because there are no variables in the graph to restore\n"
     ]
    },
    {
     "name": "stderr",
     "output_type": "stream",
     "text": [
      "INFO:tensorflow:Saver not created because there are no variables in the graph to restore\n"
     ]
    },
    {
     "name": "stdout",
     "output_type": "stream",
     "text": [
      "Row 48 of 3322 appended, duration (h:m:s): 0:00:17.359572, total elapsed time (h:m:s): 0:23:45.253945\n",
      "INFO:tensorflow:Saver not created because there are no variables in the graph to restore\n"
     ]
    },
    {
     "name": "stderr",
     "output_type": "stream",
     "text": [
      "INFO:tensorflow:Saver not created because there are no variables in the graph to restore\n"
     ]
    },
    {
     "name": "stdout",
     "output_type": "stream",
     "text": [
      "Row 49 of 3322 appended, duration (h:m:s): 0:00:26.741554, total elapsed time (h:m:s): 0:24:11.995499\n",
      "INFO:tensorflow:Saver not created because there are no variables in the graph to restore\n"
     ]
    },
    {
     "name": "stderr",
     "output_type": "stream",
     "text": [
      "INFO:tensorflow:Saver not created because there are no variables in the graph to restore\n"
     ]
    },
    {
     "name": "stdout",
     "output_type": "stream",
     "text": [
      "Row 50 of 3322 appended, duration (h:m:s): 0:00:15.113575, total elapsed time (h:m:s): 0:24:27.109074\n",
      "INFO:tensorflow:Saver not created because there are no variables in the graph to restore\n"
     ]
    },
    {
     "name": "stderr",
     "output_type": "stream",
     "text": [
      "INFO:tensorflow:Saver not created because there are no variables in the graph to restore\n"
     ]
    },
    {
     "name": "stdout",
     "output_type": "stream",
     "text": [
      "Row 51 of 3322 appended, duration (h:m:s): 0:00:16.036137, total elapsed time (h:m:s): 0:24:43.145211\n",
      "INFO:tensorflow:Saver not created because there are no variables in the graph to restore\n"
     ]
    },
    {
     "name": "stderr",
     "output_type": "stream",
     "text": [
      "INFO:tensorflow:Saver not created because there are no variables in the graph to restore\n"
     ]
    },
    {
     "name": "stdout",
     "output_type": "stream",
     "text": [
      "Row 52 of 3322 appended, duration (h:m:s): 0:00:16.241590, total elapsed time (h:m:s): 0:24:59.386802\n",
      "INFO:tensorflow:Saver not created because there are no variables in the graph to restore\n"
     ]
    },
    {
     "name": "stderr",
     "output_type": "stream",
     "text": [
      "INFO:tensorflow:Saver not created because there are no variables in the graph to restore\n"
     ]
    },
    {
     "name": "stdout",
     "output_type": "stream",
     "text": [
      "Row 53 of 3322 appended, duration (h:m:s): 0:00:21.749667, total elapsed time (h:m:s): 0:25:21.136468\n",
      "INFO:tensorflow:Saver not created because there are no variables in the graph to restore\n"
     ]
    },
    {
     "name": "stderr",
     "output_type": "stream",
     "text": [
      "INFO:tensorflow:Saver not created because there are no variables in the graph to restore\n"
     ]
    },
    {
     "name": "stdout",
     "output_type": "stream",
     "text": [
      "Row 54 of 3322 appended, duration (h:m:s): 0:00:19.491865, total elapsed time (h:m:s): 0:25:40.628333\n",
      "INFO:tensorflow:Saver not created because there are no variables in the graph to restore\n"
     ]
    },
    {
     "name": "stderr",
     "output_type": "stream",
     "text": [
      "INFO:tensorflow:Saver not created because there are no variables in the graph to restore\n"
     ]
    },
    {
     "name": "stdout",
     "output_type": "stream",
     "text": [
      "Row 55 of 3322 appended, duration (h:m:s): 0:00:17.483272, total elapsed time (h:m:s): 0:25:58.111605\n",
      "INFO:tensorflow:Saver not created because there are no variables in the graph to restore\n"
     ]
    },
    {
     "name": "stderr",
     "output_type": "stream",
     "text": [
      "INFO:tensorflow:Saver not created because there are no variables in the graph to restore\n"
     ]
    },
    {
     "name": "stdout",
     "output_type": "stream",
     "text": [
      "Row 56 of 3322 appended, duration (h:m:s): 0:00:20.351602, total elapsed time (h:m:s): 0:26:18.463208\n",
      "INFO:tensorflow:Saver not created because there are no variables in the graph to restore\n"
     ]
    },
    {
     "name": "stderr",
     "output_type": "stream",
     "text": [
      "INFO:tensorflow:Saver not created because there are no variables in the graph to restore\n"
     ]
    },
    {
     "name": "stdout",
     "output_type": "stream",
     "text": [
      "Row 57 of 3322 appended, duration (h:m:s): 0:00:25.610549, total elapsed time (h:m:s): 0:26:44.074754\n",
      "INFO:tensorflow:Saver not created because there are no variables in the graph to restore\n"
     ]
    },
    {
     "name": "stderr",
     "output_type": "stream",
     "text": [
      "INFO:tensorflow:Saver not created because there are no variables in the graph to restore\n"
     ]
    },
    {
     "name": "stdout",
     "output_type": "stream",
     "text": [
      "Row 58 of 3322 appended, duration (h:m:s): 0:00:21.866555, total elapsed time (h:m:s): 0:27:05.941309\n",
      "INFO:tensorflow:Saver not created because there are no variables in the graph to restore\n"
     ]
    },
    {
     "name": "stderr",
     "output_type": "stream",
     "text": [
      "INFO:tensorflow:Saver not created because there are no variables in the graph to restore\n"
     ]
    },
    {
     "name": "stdout",
     "output_type": "stream",
     "text": [
      "Row 59 of 3322 appended, duration (h:m:s): 0:00:23.803379, total elapsed time (h:m:s): 0:27:29.744688\n",
      "INFO:tensorflow:Saver not created because there are no variables in the graph to restore\n"
     ]
    },
    {
     "name": "stderr",
     "output_type": "stream",
     "text": [
      "INFO:tensorflow:Saver not created because there are no variables in the graph to restore\n"
     ]
    },
    {
     "name": "stdout",
     "output_type": "stream",
     "text": [
      "Row 60 of 3322 appended, duration (h:m:s): 0:00:23.324174, total elapsed time (h:m:s): 0:27:53.069859\n",
      "INFO:tensorflow:Saver not created because there are no variables in the graph to restore\n"
     ]
    },
    {
     "name": "stderr",
     "output_type": "stream",
     "text": [
      "INFO:tensorflow:Saver not created because there are no variables in the graph to restore\n"
     ]
    },
    {
     "name": "stdout",
     "output_type": "stream",
     "text": [
      "Row 61 of 3322 appended, duration (h:m:s): 0:00:20.686801, total elapsed time (h:m:s): 0:28:13.757658\n",
      "INFO:tensorflow:Saver not created because there are no variables in the graph to restore\n"
     ]
    },
    {
     "name": "stderr",
     "output_type": "stream",
     "text": [
      "INFO:tensorflow:Saver not created because there are no variables in the graph to restore\n"
     ]
    },
    {
     "name": "stdout",
     "output_type": "stream",
     "text": [
      "Row 62 of 3322 appended, duration (h:m:s): 0:00:19.011072, total elapsed time (h:m:s): 0:28:32.768730\n",
      "INFO:tensorflow:Saver not created because there are no variables in the graph to restore\n"
     ]
    },
    {
     "name": "stderr",
     "output_type": "stream",
     "text": [
      "INFO:tensorflow:Saver not created because there are no variables in the graph to restore\n"
     ]
    },
    {
     "name": "stdout",
     "output_type": "stream",
     "text": [
      "Row 63 of 3322 appended, duration (h:m:s): 0:00:24.180642, total elapsed time (h:m:s): 0:28:56.949372\n",
      "INFO:tensorflow:Saver not created because there are no variables in the graph to restore\n"
     ]
    },
    {
     "name": "stderr",
     "output_type": "stream",
     "text": [
      "INFO:tensorflow:Saver not created because there are no variables in the graph to restore\n"
     ]
    },
    {
     "name": "stdout",
     "output_type": "stream",
     "text": [
      "Row 64 of 3322 appended, duration (h:m:s): 0:00:30.587443, total elapsed time (h:m:s): 0:29:27.536815\n",
      "INFO:tensorflow:Saver not created because there are no variables in the graph to restore\n"
     ]
    },
    {
     "name": "stderr",
     "output_type": "stream",
     "text": [
      "INFO:tensorflow:Saver not created because there are no variables in the graph to restore\n"
     ]
    },
    {
     "name": "stdout",
     "output_type": "stream",
     "text": [
      "Row 65 of 3322 appended, duration (h:m:s): 0:00:26.240805, total elapsed time (h:m:s): 0:29:53.778617\n",
      "INFO:tensorflow:Saver not created because there are no variables in the graph to restore\n"
     ]
    },
    {
     "name": "stderr",
     "output_type": "stream",
     "text": [
      "INFO:tensorflow:Saver not created because there are no variables in the graph to restore\n"
     ]
    },
    {
     "name": "stdout",
     "output_type": "stream",
     "text": [
      "Row 66 of 3322 appended, duration (h:m:s): 0:00:29.330905, total elapsed time (h:m:s): 0:30:23.110505\n",
      "INFO:tensorflow:Saver not created because there are no variables in the graph to restore\n"
     ]
    },
    {
     "name": "stderr",
     "output_type": "stream",
     "text": [
      "INFO:tensorflow:Saver not created because there are no variables in the graph to restore\n"
     ]
    },
    {
     "name": "stdout",
     "output_type": "stream",
     "text": [
      "Row 67 of 3322 appended, duration (h:m:s): 0:00:37.258232, total elapsed time (h:m:s): 0:31:00.368737\n",
      "INFO:tensorflow:Saver not created because there are no variables in the graph to restore\n"
     ]
    },
    {
     "name": "stderr",
     "output_type": "stream",
     "text": [
      "INFO:tensorflow:Saver not created because there are no variables in the graph to restore\n"
     ]
    },
    {
     "name": "stdout",
     "output_type": "stream",
     "text": [
      "Row 68 of 3322 appended, duration (h:m:s): 0:00:48.261212, total elapsed time (h:m:s): 0:31:48.631915\n",
      "INFO:tensorflow:Saver not created because there are no variables in the graph to restore\n"
     ]
    },
    {
     "name": "stderr",
     "output_type": "stream",
     "text": [
      "INFO:tensorflow:Saver not created because there are no variables in the graph to restore\n"
     ]
    },
    {
     "name": "stdout",
     "output_type": "stream",
     "text": [
      "Row 69 of 3322 appended, duration (h:m:s): 0:01:29.786773, total elapsed time (h:m:s): 0:33:18.418688\n",
      "INFO:tensorflow:Saver not created because there are no variables in the graph to restore\n"
     ]
    },
    {
     "name": "stderr",
     "output_type": "stream",
     "text": [
      "INFO:tensorflow:Saver not created because there are no variables in the graph to restore\n"
     ]
    },
    {
     "name": "stdout",
     "output_type": "stream",
     "text": [
      "Row 70 of 3322 appended, duration (h:m:s): 0:00:53.822443, total elapsed time (h:m:s): 0:34:12.245112\n",
      "INFO:tensorflow:Saver not created because there are no variables in the graph to restore\n"
     ]
    },
    {
     "name": "stderr",
     "output_type": "stream",
     "text": [
      "INFO:tensorflow:Saver not created because there are no variables in the graph to restore\n"
     ]
    },
    {
     "name": "stdout",
     "output_type": "stream",
     "text": [
      "Row 71 of 3322 appended, duration (h:m:s): 0:01:12.845640, total elapsed time (h:m:s): 0:35:25.091750\n",
      "INFO:tensorflow:Saver not created because there are no variables in the graph to restore\n"
     ]
    },
    {
     "name": "stderr",
     "output_type": "stream",
     "text": [
      "INFO:tensorflow:Saver not created because there are no variables in the graph to restore\n"
     ]
    },
    {
     "name": "stdout",
     "output_type": "stream",
     "text": [
      "Row 72 of 3322 appended, duration (h:m:s): 0:00:50.827810, total elapsed time (h:m:s): 0:36:15.919559\n",
      "INFO:tensorflow:Saver not created because there are no variables in the graph to restore\n"
     ]
    },
    {
     "name": "stderr",
     "output_type": "stream",
     "text": [
      "INFO:tensorflow:Saver not created because there are no variables in the graph to restore\n"
     ]
    },
    {
     "name": "stdout",
     "output_type": "stream",
     "text": [
      "Row 73 of 3322 appended, duration (h:m:s): 0:00:55.471353, total elapsed time (h:m:s): 0:37:11.391910\n",
      "INFO:tensorflow:Saver not created because there are no variables in the graph to restore\n"
     ]
    },
    {
     "name": "stderr",
     "output_type": "stream",
     "text": [
      "INFO:tensorflow:Saver not created because there are no variables in the graph to restore\n"
     ]
    },
    {
     "name": "stdout",
     "output_type": "stream",
     "text": [
      "Row 74 of 3322 appended, duration (h:m:s): 0:00:38.084029, total elapsed time (h:m:s): 0:37:49.475939\n",
      "INFO:tensorflow:Saver not created because there are no variables in the graph to restore\n"
     ]
    },
    {
     "name": "stderr",
     "output_type": "stream",
     "text": [
      "INFO:tensorflow:Saver not created because there are no variables in the graph to restore\n"
     ]
    },
    {
     "name": "stdout",
     "output_type": "stream",
     "text": [
      "Row 75 of 3322 appended, duration (h:m:s): 0:01:26.864874, total elapsed time (h:m:s): 0:39:16.343048\n",
      "INFO:tensorflow:Saver not created because there are no variables in the graph to restore\n"
     ]
    },
    {
     "name": "stderr",
     "output_type": "stream",
     "text": [
      "INFO:tensorflow:Saver not created because there are no variables in the graph to restore\n"
     ]
    },
    {
     "name": "stdout",
     "output_type": "stream",
     "text": [
      "Row 76 of 3322 appended, duration (h:m:s): 0:00:42.366913, total elapsed time (h:m:s): 0:39:58.710958\n",
      "INFO:tensorflow:Saver not created because there are no variables in the graph to restore\n"
     ]
    },
    {
     "name": "stderr",
     "output_type": "stream",
     "text": [
      "INFO:tensorflow:Saver not created because there are no variables in the graph to restore\n"
     ]
    },
    {
     "name": "stdout",
     "output_type": "stream",
     "text": [
      "Row 77 of 3322 appended, duration (h:m:s): 0:00:57.106247, total elapsed time (h:m:s): 0:40:55.818202\n",
      "INFO:tensorflow:Saver not created because there are no variables in the graph to restore\n"
     ]
    },
    {
     "name": "stderr",
     "output_type": "stream",
     "text": [
      "INFO:tensorflow:Saver not created because there are no variables in the graph to restore\n"
     ]
    },
    {
     "name": "stdout",
     "output_type": "stream",
     "text": [
      "Row 78 of 3322 appended, duration (h:m:s): 0:01:05.687994, total elapsed time (h:m:s): 0:42:01.507193\n",
      "INFO:tensorflow:Saver not created because there are no variables in the graph to restore\n"
     ]
    },
    {
     "name": "stderr",
     "output_type": "stream",
     "text": [
      "INFO:tensorflow:Saver not created because there are no variables in the graph to restore\n"
     ]
    },
    {
     "name": "stdout",
     "output_type": "stream",
     "text": [
      "Row 79 of 3322 appended, duration (h:m:s): 0:00:50.047396, total elapsed time (h:m:s): 0:42:51.555587\n",
      "INFO:tensorflow:Saver not created because there are no variables in the graph to restore\n"
     ]
    },
    {
     "name": "stderr",
     "output_type": "stream",
     "text": [
      "INFO:tensorflow:Saver not created because there are no variables in the graph to restore\n"
     ]
    },
    {
     "name": "stdout",
     "output_type": "stream",
     "text": [
      "Row 80 of 3322 appended, duration (h:m:s): 0:00:59.002735, total elapsed time (h:m:s): 0:43:50.559319\n",
      "INFO:tensorflow:Saver not created because there are no variables in the graph to restore\n"
     ]
    },
    {
     "name": "stderr",
     "output_type": "stream",
     "text": [
      "INFO:tensorflow:Saver not created because there are no variables in the graph to restore\n"
     ]
    },
    {
     "name": "stdout",
     "output_type": "stream",
     "text": [
      "Row 81 of 3322 appended, duration (h:m:s): 0:00:47.761032, total elapsed time (h:m:s): 0:44:38.321333\n",
      "INFO:tensorflow:Saver not created because there are no variables in the graph to restore\n"
     ]
    },
    {
     "name": "stderr",
     "output_type": "stream",
     "text": [
      "INFO:tensorflow:Saver not created because there are no variables in the graph to restore\n"
     ]
    },
    {
     "name": "stdout",
     "output_type": "stream",
     "text": [
      "Row 82 of 3322 appended, duration (h:m:s): 0:00:59.042483, total elapsed time (h:m:s): 0:45:37.365811\n",
      "INFO:tensorflow:Saver not created because there are no variables in the graph to restore\n"
     ]
    },
    {
     "name": "stderr",
     "output_type": "stream",
     "text": [
      "INFO:tensorflow:Saver not created because there are no variables in the graph to restore\n"
     ]
    },
    {
     "name": "stdout",
     "output_type": "stream",
     "text": [
      "Row 83 of 3322 appended, duration (h:m:s): 0:00:38.310664, total elapsed time (h:m:s): 0:46:15.677472\n",
      "INFO:tensorflow:Saver not created because there are no variables in the graph to restore\n"
     ]
    },
    {
     "name": "stderr",
     "output_type": "stream",
     "text": [
      "INFO:tensorflow:Saver not created because there are no variables in the graph to restore\n"
     ]
    },
    {
     "name": "stdout",
     "output_type": "stream",
     "text": [
      "Row 84 of 3322 appended, duration (h:m:s): 0:00:37.293043, total elapsed time (h:m:s): 0:46:52.971512\n",
      "INFO:tensorflow:Saver not created because there are no variables in the graph to restore\n"
     ]
    },
    {
     "name": "stderr",
     "output_type": "stream",
     "text": [
      "INFO:tensorflow:Saver not created because there are no variables in the graph to restore\n"
     ]
    },
    {
     "name": "stdout",
     "output_type": "stream",
     "text": [
      "Row 85 of 3322 appended, duration (h:m:s): 0:00:46.002109, total elapsed time (h:m:s): 0:47:38.974617\n",
      "INFO:tensorflow:Saver not created because there are no variables in the graph to restore\n"
     ]
    },
    {
     "name": "stderr",
     "output_type": "stream",
     "text": [
      "INFO:tensorflow:Saver not created because there are no variables in the graph to restore\n"
     ]
    },
    {
     "name": "stdout",
     "output_type": "stream",
     "text": [
      "Row 86 of 3322 appended, duration (h:m:s): 0:00:42.596160, total elapsed time (h:m:s): 0:48:21.570778\n",
      "INFO:tensorflow:Saver not created because there are no variables in the graph to restore\n"
     ]
    },
    {
     "name": "stderr",
     "output_type": "stream",
     "text": [
      "INFO:tensorflow:Saver not created because there are no variables in the graph to restore\n"
     ]
    },
    {
     "name": "stdout",
     "output_type": "stream",
     "text": [
      "Row 87 of 3322 appended, duration (h:m:s): 0:01:34.882883, total elapsed time (h:m:s): 0:49:56.453661\n",
      "INFO:tensorflow:Saver not created because there are no variables in the graph to restore\n"
     ]
    },
    {
     "name": "stderr",
     "output_type": "stream",
     "text": [
      "INFO:tensorflow:Saver not created because there are no variables in the graph to restore\n"
     ]
    },
    {
     "name": "stdout",
     "output_type": "stream",
     "text": [
      "Row 88 of 3322 appended, duration (h:m:s): 0:01:32.250091, total elapsed time (h:m:s): 0:51:28.704749\n",
      "INFO:tensorflow:Saver not created because there are no variables in the graph to restore\n"
     ]
    },
    {
     "name": "stderr",
     "output_type": "stream",
     "text": [
      "INFO:tensorflow:Saver not created because there are no variables in the graph to restore\n"
     ]
    },
    {
     "name": "stdout",
     "output_type": "stream",
     "text": [
      "Row 89 of 3322 appended, duration (h:m:s): 0:00:44.020026, total elapsed time (h:m:s): 0:52:12.725772\n",
      "INFO:tensorflow:Saver not created because there are no variables in the graph to restore\n"
     ]
    },
    {
     "name": "stderr",
     "output_type": "stream",
     "text": [
      "INFO:tensorflow:Saver not created because there are no variables in the graph to restore\n"
     ]
    },
    {
     "name": "stdout",
     "output_type": "stream",
     "text": [
      "Row 90 of 3322 appended, duration (h:m:s): 0:00:54.618270, total elapsed time (h:m:s): 0:53:07.345039\n",
      "INFO:tensorflow:Saver not created because there are no variables in the graph to restore\n"
     ]
    },
    {
     "name": "stderr",
     "output_type": "stream",
     "text": [
      "INFO:tensorflow:Saver not created because there are no variables in the graph to restore\n"
     ]
    },
    {
     "name": "stdout",
     "output_type": "stream",
     "text": [
      "Row 91 of 3322 appended, duration (h:m:s): 0:01:21.566897, total elapsed time (h:m:s): 0:54:28.912933\n",
      "INFO:tensorflow:Saver not created because there are no variables in the graph to restore\n"
     ]
    },
    {
     "name": "stderr",
     "output_type": "stream",
     "text": [
      "INFO:tensorflow:Saver not created because there are no variables in the graph to restore\n"
     ]
    },
    {
     "name": "stdout",
     "output_type": "stream",
     "text": [
      "Row 92 of 3322 appended, duration (h:m:s): 0:00:50.148021, total elapsed time (h:m:s): 0:55:19.060955\n",
      "INFO:tensorflow:Saver not created because there are no variables in the graph to restore\n"
     ]
    },
    {
     "name": "stderr",
     "output_type": "stream",
     "text": [
      "INFO:tensorflow:Saver not created because there are no variables in the graph to restore\n"
     ]
    },
    {
     "name": "stdout",
     "output_type": "stream",
     "text": [
      "Row 93 of 3322 appended, duration (h:m:s): 0:00:47.755057, total elapsed time (h:m:s): 0:56:06.817009\n",
      "INFO:tensorflow:Saver not created because there are no variables in the graph to restore\n"
     ]
    },
    {
     "name": "stderr",
     "output_type": "stream",
     "text": [
      "INFO:tensorflow:Saver not created because there are no variables in the graph to restore\n"
     ]
    },
    {
     "name": "stdout",
     "output_type": "stream",
     "text": [
      "Row 94 of 3322 appended, duration (h:m:s): 0:00:45.898240, total elapsed time (h:m:s): 0:56:52.716246\n",
      "INFO:tensorflow:Saver not created because there are no variables in the graph to restore\n"
     ]
    },
    {
     "name": "stderr",
     "output_type": "stream",
     "text": [
      "INFO:tensorflow:Saver not created because there are no variables in the graph to restore\n"
     ]
    },
    {
     "name": "stdout",
     "output_type": "stream",
     "text": [
      "Row 95 of 3322 appended, duration (h:m:s): 0:00:56.321867, total elapsed time (h:m:s): 0:57:49.038113\n",
      "INFO:tensorflow:Saver not created because there are no variables in the graph to restore\n"
     ]
    },
    {
     "name": "stderr",
     "output_type": "stream",
     "text": [
      "INFO:tensorflow:Saver not created because there are no variables in the graph to restore\n"
     ]
    },
    {
     "name": "stdout",
     "output_type": "stream",
     "text": [
      "Row 96 of 3322 appended, duration (h:m:s): 0:00:41.713039, total elapsed time (h:m:s): 0:58:30.754176\n",
      "INFO:tensorflow:Saver not created because there are no variables in the graph to restore\n"
     ]
    },
    {
     "name": "stderr",
     "output_type": "stream",
     "text": [
      "INFO:tensorflow:Saver not created because there are no variables in the graph to restore\n"
     ]
    },
    {
     "name": "stdout",
     "output_type": "stream",
     "text": [
      "Row 97 of 3322 appended, duration (h:m:s): 0:01:15.583064, total elapsed time (h:m:s): 0:59:46.338238\n",
      "INFO:tensorflow:Saver not created because there are no variables in the graph to restore\n"
     ]
    },
    {
     "name": "stderr",
     "output_type": "stream",
     "text": [
      "INFO:tensorflow:Saver not created because there are no variables in the graph to restore\n"
     ]
    },
    {
     "name": "stdout",
     "output_type": "stream",
     "text": [
      "Row 98 of 3322 appended, duration (h:m:s): 0:00:54.139068, total elapsed time (h:m:s): 1:00:40.478302\n",
      "INFO:tensorflow:Saver not created because there are no variables in the graph to restore\n"
     ]
    },
    {
     "name": "stderr",
     "output_type": "stream",
     "text": [
      "INFO:tensorflow:Saver not created because there are no variables in the graph to restore\n"
     ]
    },
    {
     "name": "stdout",
     "output_type": "stream",
     "text": [
      "Row 99 of 3322 appended, duration (h:m:s): 0:00:57.305932, total elapsed time (h:m:s): 1:01:37.785751\n",
      "INFO:tensorflow:Saver not created because there are no variables in the graph to restore\n"
     ]
    },
    {
     "name": "stderr",
     "output_type": "stream",
     "text": [
      "INFO:tensorflow:Saver not created because there are no variables in the graph to restore\n"
     ]
    },
    {
     "name": "stdout",
     "output_type": "stream",
     "text": [
      "Row 100 of 3322 appended, duration (h:m:s): 0:00:59.847685, total elapsed time (h:m:s): 1:02:37.634433\n",
      "INFO:tensorflow:Saver not created because there are no variables in the graph to restore\n"
     ]
    },
    {
     "name": "stderr",
     "output_type": "stream",
     "text": [
      "INFO:tensorflow:Saver not created because there are no variables in the graph to restore\n"
     ]
    },
    {
     "name": "stdout",
     "output_type": "stream",
     "text": [
      "Row 101 of 3322 appended, duration (h:m:s): 0:02:16.388093, total elapsed time (h:m:s): 1:04:54.023523\n",
      "INFO:tensorflow:Saver not created because there are no variables in the graph to restore\n"
     ]
    },
    {
     "name": "stderr",
     "output_type": "stream",
     "text": [
      "INFO:tensorflow:Saver not created because there are no variables in the graph to restore\n"
     ]
    },
    {
     "name": "stdout",
     "output_type": "stream",
     "text": [
      "Row 102 of 3322 appended, duration (h:m:s): 0:01:08.910192, total elapsed time (h:m:s): 1:06:02.950670\n",
      "INFO:tensorflow:Saver not created because there are no variables in the graph to restore\n"
     ]
    },
    {
     "name": "stderr",
     "output_type": "stream",
     "text": [
      "INFO:tensorflow:Saver not created because there are no variables in the graph to restore\n"
     ]
    },
    {
     "name": "stdout",
     "output_type": "stream",
     "text": [
      "Row 103 of 3322 appended, duration (h:m:s): 0:01:18.716238, total elapsed time (h:m:s): 1:07:21.666909\n",
      "INFO:tensorflow:Saver not created because there are no variables in the graph to restore\n"
     ]
    },
    {
     "name": "stderr",
     "output_type": "stream",
     "text": [
      "INFO:tensorflow:Saver not created because there are no variables in the graph to restore\n"
     ]
    },
    {
     "name": "stdout",
     "output_type": "stream",
     "text": [
      "Row 104 of 3322 appended, duration (h:m:s): 0:01:36.068686, total elapsed time (h:m:s): 1:08:57.736592\n",
      "INFO:tensorflow:Saver not created because there are no variables in the graph to restore\n"
     ]
    },
    {
     "name": "stderr",
     "output_type": "stream",
     "text": [
      "INFO:tensorflow:Saver not created because there are no variables in the graph to restore\n"
     ]
    },
    {
     "name": "stdout",
     "output_type": "stream",
     "text": [
      "Row 105 of 3322 appended, duration (h:m:s): 0:01:31.021339, total elapsed time (h:m:s): 1:10:28.758929\n",
      "INFO:tensorflow:Saver not created because there are no variables in the graph to restore\n"
     ]
    },
    {
     "name": "stderr",
     "output_type": "stream",
     "text": [
      "INFO:tensorflow:Saver not created because there are no variables in the graph to restore\n"
     ]
    },
    {
     "name": "stdout",
     "output_type": "stream",
     "text": [
      "Row 106 of 3322 appended, duration (h:m:s): 0:01:42.105076, total elapsed time (h:m:s): 1:12:10.865035\n",
      "INFO:tensorflow:Saver not created because there are no variables in the graph to restore\n"
     ]
    },
    {
     "name": "stderr",
     "output_type": "stream",
     "text": [
      "INFO:tensorflow:Saver not created because there are no variables in the graph to restore\n"
     ]
    },
    {
     "name": "stdout",
     "output_type": "stream",
     "text": [
      "Row 107 of 3322 appended, duration (h:m:s): 0:01:01.062023, total elapsed time (h:m:s): 1:13:11.928058\n",
      "INFO:tensorflow:Saver not created because there are no variables in the graph to restore\n"
     ]
    },
    {
     "name": "stderr",
     "output_type": "stream",
     "text": [
      "INFO:tensorflow:Saver not created because there are no variables in the graph to restore\n"
     ]
    },
    {
     "name": "stdout",
     "output_type": "stream",
     "text": [
      "Row 108 of 3322 appended, duration (h:m:s): 0:01:19.503237, total elapsed time (h:m:s): 1:14:31.431295\n",
      "INFO:tensorflow:Saver not created because there are no variables in the graph to restore\n"
     ]
    },
    {
     "name": "stderr",
     "output_type": "stream",
     "text": [
      "INFO:tensorflow:Saver not created because there are no variables in the graph to restore\n"
     ]
    },
    {
     "name": "stdout",
     "output_type": "stream",
     "text": [
      "Row 109 of 3322 appended, duration (h:m:s): 0:01:05.230901, total elapsed time (h:m:s): 1:15:36.663193\n",
      "INFO:tensorflow:Saver not created because there are no variables in the graph to restore\n"
     ]
    },
    {
     "name": "stderr",
     "output_type": "stream",
     "text": [
      "INFO:tensorflow:Saver not created because there are no variables in the graph to restore\n"
     ]
    },
    {
     "name": "stdout",
     "output_type": "stream",
     "text": [
      "Row 110 of 3322 appended, duration (h:m:s): 0:01:45.932394, total elapsed time (h:m:s): 1:17:22.597582\n",
      "INFO:tensorflow:Saver not created because there are no variables in the graph to restore\n"
     ]
    },
    {
     "name": "stderr",
     "output_type": "stream",
     "text": [
      "INFO:tensorflow:Saver not created because there are no variables in the graph to restore\n"
     ]
    },
    {
     "name": "stdout",
     "output_type": "stream",
     "text": [
      "Row 111 of 3322 appended, duration (h:m:s): 0:02:27.119269, total elapsed time (h:m:s): 1:19:49.723832\n",
      "INFO:tensorflow:Saver not created because there are no variables in the graph to restore\n"
     ]
    },
    {
     "name": "stderr",
     "output_type": "stream",
     "text": [
      "INFO:tensorflow:Saver not created because there are no variables in the graph to restore\n"
     ]
    },
    {
     "name": "stdout",
     "output_type": "stream",
     "text": [
      "Row 112 of 3322 appended, duration (h:m:s): 0:01:10.269674, total elapsed time (h:m:s): 1:21:00.003479\n",
      "INFO:tensorflow:Saver not created because there are no variables in the graph to restore\n"
     ]
    },
    {
     "name": "stderr",
     "output_type": "stream",
     "text": [
      "INFO:tensorflow:Saver not created because there are no variables in the graph to restore\n"
     ]
    },
    {
     "name": "stdout",
     "output_type": "stream",
     "text": [
      "Row 113 of 3322 appended, duration (h:m:s): 0:01:45.149690, total elapsed time (h:m:s): 1:22:45.154167\n",
      "INFO:tensorflow:Saver not created because there are no variables in the graph to restore\n"
     ]
    },
    {
     "name": "stderr",
     "output_type": "stream",
     "text": [
      "INFO:tensorflow:Saver not created because there are no variables in the graph to restore\n"
     ]
    },
    {
     "name": "stdout",
     "output_type": "stream",
     "text": [
      "Row 114 of 3322 appended, duration (h:m:s): 0:01:51.428143, total elapsed time (h:m:s): 1:24:36.586301\n",
      "INFO:tensorflow:Saver not created because there are no variables in the graph to restore\n"
     ]
    },
    {
     "name": "stderr",
     "output_type": "stream",
     "text": [
      "INFO:tensorflow:Saver not created because there are no variables in the graph to restore\n"
     ]
    },
    {
     "name": "stdout",
     "output_type": "stream",
     "text": [
      "Row 115 of 3322 appended, duration (h:m:s): 0:01:47.405560, total elapsed time (h:m:s): 1:26:23.992857\n",
      "INFO:tensorflow:Saver not created because there are no variables in the graph to restore\n"
     ]
    },
    {
     "name": "stderr",
     "output_type": "stream",
     "text": [
      "INFO:tensorflow:Saver not created because there are no variables in the graph to restore\n"
     ]
    },
    {
     "name": "stdout",
     "output_type": "stream",
     "text": [
      "Row 116 of 3322 appended, duration (h:m:s): 0:01:55.616266, total elapsed time (h:m:s): 1:28:19.610117\n",
      "INFO:tensorflow:Saver not created because there are no variables in the graph to restore\n"
     ]
    },
    {
     "name": "stderr",
     "output_type": "stream",
     "text": [
      "INFO:tensorflow:Saver not created because there are no variables in the graph to restore\n"
     ]
    },
    {
     "name": "stdout",
     "output_type": "stream",
     "text": [
      "Row 117 of 3322 appended, duration (h:m:s): 0:02:02.614373, total elapsed time (h:m:s): 1:30:22.225487\n",
      "INFO:tensorflow:Saver not created because there are no variables in the graph to restore\n"
     ]
    },
    {
     "name": "stderr",
     "output_type": "stream",
     "text": [
      "INFO:tensorflow:Saver not created because there are no variables in the graph to restore\n"
     ]
    },
    {
     "name": "stdout",
     "output_type": "stream",
     "text": [
      "Row 118 of 3322 appended, duration (h:m:s): 0:01:43.054712, total elapsed time (h:m:s): 1:32:05.297155\n",
      "INFO:tensorflow:Saver not created because there are no variables in the graph to restore\n"
     ]
    },
    {
     "name": "stderr",
     "output_type": "stream",
     "text": [
      "INFO:tensorflow:Saver not created because there are no variables in the graph to restore\n"
     ]
    },
    {
     "name": "stdout",
     "output_type": "stream",
     "text": [
      "Row 119 of 3322 appended, duration (h:m:s): 0:01:55.570361, total elapsed time (h:m:s): 1:34:00.867516\n",
      "INFO:tensorflow:Saver not created because there are no variables in the graph to restore\n"
     ]
    },
    {
     "name": "stderr",
     "output_type": "stream",
     "text": [
      "INFO:tensorflow:Saver not created because there are no variables in the graph to restore\n"
     ]
    }
   ],
   "source": [
    "%%time\n",
    "num_rows = len(X_all_text)\n",
    "block_size = 500\n",
    "first_start = time.time()\n",
    "for row in range(num_rows):\n",
    "    row_start = time.time()\n",
    "    df = pd.DataFrame(elmo_vectors(X_all_text[row]))\n",
    "    output_file_name = \"../assets/elmo_vectors_\" + str((row//block_size)*block_size) + \".csv\"\n",
    "    df.to_csv(output_file_name, mode='a')\n",
    "    print (\"Row {} of {} appended, duration (h:m:s): {}, total elapsed time (h:m:s): {}\".format(row+1, num_rows+1,\n",
    "               str(datetime.timedelta(seconds=time.time()-row_start)),\n",
    "               str(datetime.timedelta(seconds=time.time()-first_start))))"
   ]
  },
  {
   "cell_type": "code",
   "execution_count": null,
   "metadata": {},
   "outputs": [],
   "source": []
  },
  {
   "cell_type": "code",
   "execution_count": null,
   "metadata": {},
   "outputs": [],
   "source": []
  },
  {
   "cell_type": "code",
   "execution_count": null,
   "metadata": {},
   "outputs": [],
   "source": []
  },
  {
   "cell_type": "code",
   "execution_count": null,
   "metadata": {},
   "outputs": [],
   "source": []
  },
  {
   "cell_type": "code",
   "execution_count": null,
   "metadata": {},
   "outputs": [],
   "source": []
  },
  {
   "cell_type": "code",
   "execution_count": null,
   "metadata": {},
   "outputs": [],
   "source": []
  },
  {
   "cell_type": "markdown",
   "metadata": {},
   "source": [
    "### Creation of Word2Vec word embeddings based on training dataset vocabulary"
   ]
  },
  {
   "cell_type": "markdown",
   "metadata": {},
   "source": [
    "We now create our own word embeddings using Word2Vec from nltk, trained using all the text in the training dataset."
   ]
  },
  {
   "cell_type": "code",
   "execution_count": 56,
   "metadata": {},
   "outputs": [
    {
     "name": "stdout",
     "output_type": "stream",
     "text": [
      "Wall time: 1min 51s\n"
     ]
    }
   ],
   "source": [
    "%%time\n",
    "model = Word2Vec(X_all_text, size=100, window=5, min_count=5, workers=8)\n",
    "w2v = {w: vec for w, vec in zip(model.wv.index2word, model.wv.syn0)}"
   ]
  },
  {
   "cell_type": "code",
   "execution_count": 57,
   "metadata": {
    "scrolled": true
   },
   "outputs": [
    {
     "name": "stdout",
     "output_type": "stream",
     "text": [
      "Number of unique words used for training Word2Vec: 81312\n"
     ]
    }
   ],
   "source": [
    "print(\"Number of unique words used for training Word2Vec: {}\".format(len(all_words)))"
   ]
  },
  {
   "cell_type": "markdown",
   "metadata": {},
   "source": [
    "### Defining new Vectorizers"
   ]
  },
  {
   "cell_type": "markdown",
   "metadata": {
    "collapsed": true
   },
   "source": [
    "We define two word embedding vectorizers - as variations of the CountVectorizer and TfidfVectorizer - that take a word-to-vector mapping and vectorises the text by taking the **mean** of all the 'glove_small' vectors corresponding to individual words."
   ]
  },
  {
   "cell_type": "code",
   "execution_count": 58,
   "metadata": {},
   "outputs": [],
   "source": [
    "class MeanEmbeddingVectorizer(object):\n",
    "    \n",
    "    # Creating a new MeanEmbeddingVectorizer object with input parameter of 'word2vec'\n",
    "    # will create a new array of size equal to the number of words contained in word2vec\n",
    "    # that are also present in the glove_small dictionary\n",
    "    def __init__(self, word2vec):\n",
    "        self.word2vec = word2vec\n",
    "        if len(word2vec)>0:\n",
    "            self.dim=len(word2vec[next(iter(glove_small))])\n",
    "        else:\n",
    "            self.dim=0\n",
    "            \n",
    "    # The 'fit' method simply returns the input parameter 'word2vec' itself\n",
    "    def fit(self, X, y):\n",
    "        return self \n",
    "\n",
    "    # The 'transform' method returns an array consisting of the mean of all\n",
    "    # 'glove_small\" vectors that correspond to individual words in the input parameter 'X'\n",
    "    def transform(self, X):\n",
    "        return np.array([\n",
    "            np.mean([self.word2vec[w] for w in words if w in self.word2vec] \n",
    "                    or [np.zeros(self.dim)], axis=0)\n",
    "            for words in X\n",
    "        ])\n",
    "\n",
    "# TfidfVectorizer is a variation of the Term Frequency - Inverse Document Frequency (Tfidf) Vectorizer\n",
    "class TfidfEmbeddingVectorizer(object):\n",
    "    \n",
    "    # Creating a new TfidfEmbeddingVectorizer object with input parameter of 'word2vec'\n",
    "    # will create an array of size eequal to the number of words contained in word2vec\n",
    "    # that are also present in the glove_small dictionary\n",
    "    def __init__(self, word2vec):\n",
    "        self.word2vec = word2vec\n",
    "        self.word2weight = None\n",
    "        if len(word2vec)>0:\n",
    "            self.dim=len(word2vec[next(iter(glove_small))])\n",
    "        else:\n",
    "            self.dim=0\n",
    "        \n",
    "    # The 'fit' method updates the word weights attribute based on the\n",
    "    # output of the standard TfidfVectorizer\n",
    "    def fit(self, X, y):\n",
    "        tfidf = TfidfVectorizer(analyzer=lambda x: x)\n",
    "        tfidf.fit(X)\n",
    "        # if a word was never seen - it must be at least as infrequent\n",
    "        # as any of the known words - so the default idf is the max of \n",
    "        # known idf's\n",
    "        max_idf = max(tfidf.idf_)\n",
    "        self.word2weight = defaultdict(\n",
    "            lambda: max_idf, \n",
    "            [(w, tfidf.idf_[i]) for w, i in tfidf.vocabulary_.items()])\n",
    "    \n",
    "        return self\n",
    "    \n",
    "    # The 'transform' method returns an array consisting of the mean of all 'glove_small'\n",
    "    # vectors (adjusted by the Tfidf weights) that correspond to individual words\n",
    "    # in the input parameter 'X'\n",
    "    def transform(self, X):\n",
    "        return np.array([\n",
    "                np.mean([self.word2vec[w] * self.word2weight[w]\n",
    "                         for w in words if w in self.word2vec] or\n",
    "                        [np.zeros(self.dim)], axis=0)\n",
    "                for words in X\n",
    "            ])"
   ]
  },
  {
   "cell_type": "markdown",
   "metadata": {},
   "source": [
    "## Finding the best combination of word embeddings and vectorizer"
   ]
  },
  {
   "cell_type": "markdown",
   "metadata": {},
   "source": [
    "We create multiple pipelines that consist of different combinations of the vectorizers (defined above) and the word embeddings, coupled with the Extra Trees classifier. The Extra Trees Classifier is chosen based on its generally good performance; it produces less variance but may cause an increase in bias, compared to a Random Forest classifier.\n",
    "\n",
    "The different pipelines are as follows:\n",
    "- mev_w2v: MeanEmbeddingVectorizer based on our own 'w2v' word vectors created using Word2Vec on the words in the training dataset\n",
    "- tev_w2v: TfidfEmbeddingVectorizer based on our own 'w2v word vectors\n",
    "- mev_glove_small: MeanEmbeddingVectorizer based on the 'glove_small' word vectors\n",
    "- tev_glove_small: TfidfEmbeddingVectorizer based on the 'glove_small' word vectors\n",
    "- mev_glove_big: MeanEmbeddingVectorizer based on the 'glove_big' word vectors\n",
    "- tev_glove_big: TfidfEmbeddingVectorizer based on the 'glove_big' word vectors"
   ]
  },
  {
   "cell_type": "code",
   "execution_count": 59,
   "metadata": {},
   "outputs": [],
   "source": [
    "# Create the various pipelines for evaluation\n",
    "mev_w2v = Pipeline([(\"word2vec vectorizer\", MeanEmbeddingVectorizer(w2v)), \n",
    "                        (\"extra trees\", ExtraTreesClassifier(n_estimators=200, verbose=1, random_state=42, n_jobs=-1))])\n",
    "tev_w2v = Pipeline([(\"word2vec vectorizer\", TfidfEmbeddingVectorizer(w2v)), \n",
    "                        (\"extra trees\", ExtraTreesClassifier(n_estimators=200, verbose=1, random_state=42, n_jobs=-1))])\n",
    "mev_glove_small = Pipeline([(\"glove vectorizer\", MeanEmbeddingVectorizer(glove_small)), \n",
    "                        (\"extra trees\", ExtraTreesClassifier(n_estimators=200, verbose=1, random_state=42, n_jobs=-1))])\n",
    "tev_glove_small = Pipeline([(\"glove vectorizer\", TfidfEmbeddingVectorizer(glove_small)), \n",
    "                        (\"extra trees\", ExtraTreesClassifier(n_estimators=200, verbose=1, random_state=42, n_jobs=-1))])\n",
    "mev_glove_big = Pipeline([(\"glove vectorizer\", MeanEmbeddingVectorizer(glove_big)), \n",
    "                        (\"extra trees\", ExtraTreesClassifier(n_estimators=200, verbose=1, random_state=42, n_jobs=-1))])\n",
    "tev_glove_big = Pipeline([(\"glove vectorizer\", TfidfEmbeddingVectorizer(glove_big)), \n",
    "                        (\"extra trees\", ExtraTreesClassifier(n_estimators=200, verbose=1, random_state=42, n_jobs=-1))])"
   ]
  },
  {
   "cell_type": "markdown",
   "metadata": {},
   "source": [
    "We now obtain the 3-fold cross-validation accuracy scores for each pipeline based on the labels 'y' (i.e. variation classes), and sort them in descending order of cross-validation accuracy score."
   ]
  },
  {
   "cell_type": "code",
   "execution_count": 60,
   "metadata": {},
   "outputs": [
    {
     "name": "stderr",
     "output_type": "stream",
     "text": [
      "[Parallel(n_jobs=4)]: Using backend LokyBackend with 4 concurrent workers.\n",
      "[Parallel(n_jobs=4)]: Done   3 out of   3 | elapsed:  1.9min finished\n",
      "[Parallel(n_jobs=4)]: Using backend LokyBackend with 4 concurrent workers.\n",
      "[Parallel(n_jobs=4)]: Done   3 out of   3 | elapsed:  4.7min finished\n",
      "[Parallel(n_jobs=4)]: Using backend LokyBackend with 4 concurrent workers.\n",
      "[Parallel(n_jobs=4)]: Done   3 out of   3 | elapsed:  1.4min finished\n",
      "[Parallel(n_jobs=4)]: Using backend LokyBackend with 4 concurrent workers.\n",
      "[Parallel(n_jobs=4)]: Done   3 out of   3 | elapsed:  4.0min finished\n",
      "[Parallel(n_jobs=4)]: Using backend LokyBackend with 4 concurrent workers.\n",
      "[Parallel(n_jobs=4)]: Done   3 out of   3 | elapsed:  1.7min finished\n",
      "[Parallel(n_jobs=4)]: Using backend LokyBackend with 4 concurrent workers.\n"
     ]
    },
    {
     "name": "stdout",
     "output_type": "stream",
     "text": [
      "Model              Cross-Validation Accuracy Score\n",
      "---------------  ---------------------------------\n",
      "mev_w2v                                     0.4282\n",
      "tev_w2v                                     0.4122\n",
      "mev_glove_small                             0.3957\n",
      "mev_glove_big                               0.3773\n",
      "tev_glove_small                             0.3433\n",
      "tev_glove_big                               0.3327\n",
      "Wall time: 18min 21s\n"
     ]
    },
    {
     "name": "stderr",
     "output_type": "stream",
     "text": [
      "[Parallel(n_jobs=4)]: Done   3 out of   3 | elapsed:  4.5min finished\n"
     ]
    }
   ],
   "source": [
    "%%time\n",
    "all_models = [\n",
    "    (\"mev_w2v\", mev_w2v),\n",
    "    (\"tev_w2v\", tev_w2v),\n",
    "    (\"mev_glove_small\", mev_glove_small),\n",
    "    (\"tev_glove_small\", tev_glove_small),\n",
    "    (\"mev_glove_big\", mev_glove_big),\n",
    "    (\"tev_glove_big\", tev_glove_big)\n",
    "]\n",
    "\n",
    "unsorted_scores = [(name, cross_val_score(model, X_all_text, y, cv=3, verbose=1, n_jobs=4).mean())\n",
    "                   for name, model in all_models]\n",
    "scores = sorted(unsorted_scores, key=lambda x: -x[1])\n",
    "print (tabulate(scores, floatfmt=\".4f\", headers=(\"Model\", 'Cross-Validation Accuracy Score')))"
   ]
  },
  {
   "cell_type": "code",
   "execution_count": 61,
   "metadata": {},
   "outputs": [
    {
     "data": {
      "image/png": "[encoded data removed]",
      "text/plain": [
       "<Figure size 720x432 with 1 Axes>"
      ]
     },
     "metadata": {
      "image/png": {
       "height": 387,
       "width": 666
      },
      "needs_background": "light"
     },
     "output_type": "display_data"
    }
   ],
   "source": [
    "plt.figure(figsize=(10, 6))\n",
    "sns.barplot(x=[name for name, _ in scores], y=[score for _, score in scores]);\n",
    "plt.title(\"Cross-validated Accuracy Score on Training Dataset\")\n",
    "plt.xlabel(\"Pipeline\");"
   ]
  },
  {
   "cell_type": "markdown",
   "metadata": {},
   "source": [
    "<div class=\"alert alert-block alert-info\">\n",
    "As shown above, the <b>Mean Embedding Vectorizer</b> (mev) performs best together with the <b>Word2Vec</b> (w2v) word embedding based on the training dataset vocabulary, as it scores the highest in terms of the cross-validated accuracy score.<br>\n",
    "\n",
    "We now evaluate two options for identifying the right classifier - a Forward Neural Network (FNN) and an Extra Trees Classifier.\n",
    "</div>"
   ]
  },
  {
   "cell_type": "markdown",
   "metadata": {},
   "source": [
    "## Finding the best classifier"
   ]
  },
  {
   "cell_type": "markdown",
   "metadata": {},
   "source": [
    "### Creation of (Inner) Training and Validation Datasets"
   ]
  },
  {
   "cell_type": "markdown",
   "metadata": {},
   "source": [
    "From our single training data set (X and y) we will create two separate datasets:\n",
    "- (Inner) Training Dataset: this will be used to train our models (this will take 75% of the original training dataset)\n",
    "- Validation Dataset: this will be used to validate our trained models (e.g. check for overfitting) (this will take 25% of our total 'posts' dataset\n",
    "\n",
    "To create our datasets, we use train_test_split with the stratify option to ensure a consistent mix of values for the target feature within the created datasets."
   ]
  },
  {
   "cell_type": "code",
   "execution_count": 62,
   "metadata": {},
   "outputs": [],
   "source": [
    "# Restore the original predictor and target dataframes\n",
    "X = X_original.copy()\n",
    "y = y_original.copy()"
   ]
  },
  {
   "cell_type": "code",
   "execution_count": 63,
   "metadata": {},
   "outputs": [],
   "source": [
    "X_train, X_val, y_train, y_val = train_test_split(X, y, random_state=42, stratify=y)"
   ]
  },
  {
   "cell_type": "code",
   "execution_count": 64,
   "metadata": {},
   "outputs": [
    {
     "data": {
      "text/plain": [
       "((2490, 4323), (2490,), (831, 4323), (831,))"
      ]
     },
     "execution_count": 64,
     "metadata": {},
     "output_type": "execute_result"
    }
   ],
   "source": [
    "X_train.shape, y_train.shape, X_val.shape, y_val.shape"
   ]
  },
  {
   "cell_type": "code",
   "execution_count": 65,
   "metadata": {},
   "outputs": [],
   "source": [
    "# Reset the indices to prevent spurious rows from appearing later during merging\n",
    "X_train.reset_index(inplace=True, drop=True)\n",
    "X_val.reset_index(inplace=True, drop=True)"
   ]
  },
  {
   "cell_type": "markdown",
   "metadata": {},
   "source": [
    "### Generation of word embeddings"
   ]
  },
  {
   "cell_type": "code",
   "execution_count": 66,
   "metadata": {},
   "outputs": [],
   "source": [
    "# Instantiate a Mean Embedding Vectorizer object using the Word2Vec word embeddings\n",
    "mev = MeanEmbeddingVectorizer(w2v)"
   ]
  },
  {
   "cell_type": "code",
   "execution_count": 67,
   "metadata": {},
   "outputs": [
    {
     "name": "stdout",
     "output_type": "stream",
     "text": [
      "Wall time: 1min 41s\n"
     ]
    }
   ],
   "source": [
    "%%time\n",
    "X_train_mev = mev.fit(X_train['text'], y_train)\n",
    "X_train_mev = mev.transform(X_train['text'])\n",
    "X_val_mev = mev.transform(X_val['text'])\n",
    "X_test_mev = mev.transform(X_test['text'])"
   ]
  },
  {
   "cell_type": "code",
   "execution_count": 68,
   "metadata": {},
   "outputs": [
    {
     "data": {
      "text/plain": [
       "((2490, 100), (831, 100), (986, 100))"
      ]
     },
     "execution_count": 68,
     "metadata": {},
     "output_type": "execute_result"
    }
   ],
   "source": [
    "X_train_mev.shape, X_val_mev.shape, X_test_mev.shape"
   ]
  },
  {
   "cell_type": "code",
   "execution_count": 69,
   "metadata": {},
   "outputs": [],
   "source": [
    "X_train_mev_df = pd.DataFrame(X_train_mev)\n",
    "X_val_mev_df = pd.DataFrame(X_val_mev)\n",
    "X_test_mev_df = pd.DataFrame(X_test_mev)"
   ]
  },
  {
   "cell_type": "code",
   "execution_count": 70,
   "metadata": {},
   "outputs": [
    {
     "data": {
      "text/plain": [
       "((2490, 100), (831, 100), (986, 100))"
      ]
     },
     "execution_count": 70,
     "metadata": {},
     "output_type": "execute_result"
    }
   ],
   "source": [
    "X_train_mev_df.shape, X_val_mev_df.shape, X_test_mev_df.shape"
   ]
  },
  {
   "cell_type": "code",
   "execution_count": 71,
   "metadata": {},
   "outputs": [
    {
     "data": {
      "text/html": [
       "<div>\n",
       "<style scoped>\n",
       "    .dataframe tbody tr th:only-of-type {\n",
       "        vertical-align: middle;\n",
       "    }\n",
       "\n",
       "    .dataframe tbody tr th {\n",
       "        vertical-align: top;\n",
       "    }\n",
       "\n",
       "    .dataframe thead th {\n",
       "        text-align: right;\n",
       "    }\n",
       "</style>\n",
       "<table border=\"1\" class=\"dataframe\">\n",
       "  <thead>\n",
       "    <tr style=\"text-align: right;\">\n",
       "      <th></th>\n",
       "      <th>0</th>\n",
       "      <th>1</th>\n",
       "      <th>2</th>\n",
       "      <th>3</th>\n",
       "      <th>4</th>\n",
       "      <th>5</th>\n",
       "      <th>6</th>\n",
       "      <th>7</th>\n",
       "      <th>8</th>\n",
       "      <th>9</th>\n",
       "      <th>...</th>\n",
       "      <th>90</th>\n",
       "      <th>91</th>\n",
       "      <th>92</th>\n",
       "      <th>93</th>\n",
       "      <th>94</th>\n",
       "      <th>95</th>\n",
       "      <th>96</th>\n",
       "      <th>97</th>\n",
       "      <th>98</th>\n",
       "      <th>99</th>\n",
       "    </tr>\n",
       "  </thead>\n",
       "  <tbody>\n",
       "    <tr>\n",
       "      <th>0</th>\n",
       "      <td>0.483729</td>\n",
       "      <td>3.268931</td>\n",
       "      <td>2.078251</td>\n",
       "      <td>0.719844</td>\n",
       "      <td>-0.385190</td>\n",
       "      <td>-1.036269</td>\n",
       "      <td>-1.665783</td>\n",
       "      <td>0.090469</td>\n",
       "      <td>-0.023512</td>\n",
       "      <td>-3.078861</td>\n",
       "      <td>...</td>\n",
       "      <td>-0.100046</td>\n",
       "      <td>1.867129</td>\n",
       "      <td>-2.865718</td>\n",
       "      <td>1.441543</td>\n",
       "      <td>0.228271</td>\n",
       "      <td>0.746553</td>\n",
       "      <td>-0.983653</td>\n",
       "      <td>0.116889</td>\n",
       "      <td>-1.885517</td>\n",
       "      <td>-0.265237</td>\n",
       "    </tr>\n",
       "    <tr>\n",
       "      <th>1</th>\n",
       "      <td>0.543011</td>\n",
       "      <td>3.189311</td>\n",
       "      <td>2.022562</td>\n",
       "      <td>0.870707</td>\n",
       "      <td>-0.496439</td>\n",
       "      <td>-1.034872</td>\n",
       "      <td>-1.684013</td>\n",
       "      <td>0.240043</td>\n",
       "      <td>-0.095090</td>\n",
       "      <td>-3.076701</td>\n",
       "      <td>...</td>\n",
       "      <td>-0.029236</td>\n",
       "      <td>1.959472</td>\n",
       "      <td>-2.897267</td>\n",
       "      <td>1.411695</td>\n",
       "      <td>0.138038</td>\n",
       "      <td>0.676008</td>\n",
       "      <td>-1.088393</td>\n",
       "      <td>0.151569</td>\n",
       "      <td>-1.834073</td>\n",
       "      <td>-0.284669</td>\n",
       "    </tr>\n",
       "    <tr>\n",
       "      <th>2</th>\n",
       "      <td>0.547784</td>\n",
       "      <td>3.272885</td>\n",
       "      <td>2.091795</td>\n",
       "      <td>0.739956</td>\n",
       "      <td>-0.416335</td>\n",
       "      <td>-1.011150</td>\n",
       "      <td>-1.617769</td>\n",
       "      <td>0.188106</td>\n",
       "      <td>-0.061902</td>\n",
       "      <td>-3.129001</td>\n",
       "      <td>...</td>\n",
       "      <td>0.025966</td>\n",
       "      <td>1.797266</td>\n",
       "      <td>-2.800409</td>\n",
       "      <td>1.382666</td>\n",
       "      <td>0.119152</td>\n",
       "      <td>0.745136</td>\n",
       "      <td>-1.083226</td>\n",
       "      <td>0.117105</td>\n",
       "      <td>-1.874101</td>\n",
       "      <td>-0.304862</td>\n",
       "    </tr>\n",
       "    <tr>\n",
       "      <th>3</th>\n",
       "      <td>0.580788</td>\n",
       "      <td>3.158261</td>\n",
       "      <td>2.008553</td>\n",
       "      <td>0.787353</td>\n",
       "      <td>-0.437384</td>\n",
       "      <td>-1.058442</td>\n",
       "      <td>-1.654321</td>\n",
       "      <td>0.181593</td>\n",
       "      <td>-0.083203</td>\n",
       "      <td>-3.082946</td>\n",
       "      <td>...</td>\n",
       "      <td>-0.104886</td>\n",
       "      <td>1.890223</td>\n",
       "      <td>-2.848279</td>\n",
       "      <td>1.332550</td>\n",
       "      <td>0.109059</td>\n",
       "      <td>0.704046</td>\n",
       "      <td>-1.102476</td>\n",
       "      <td>0.167827</td>\n",
       "      <td>-1.851366</td>\n",
       "      <td>-0.255056</td>\n",
       "    </tr>\n",
       "    <tr>\n",
       "      <th>4</th>\n",
       "      <td>0.503236</td>\n",
       "      <td>3.211217</td>\n",
       "      <td>2.039699</td>\n",
       "      <td>0.805750</td>\n",
       "      <td>-0.421433</td>\n",
       "      <td>-1.044608</td>\n",
       "      <td>-1.653592</td>\n",
       "      <td>0.165170</td>\n",
       "      <td>-0.125859</td>\n",
       "      <td>-3.112303</td>\n",
       "      <td>...</td>\n",
       "      <td>-0.024607</td>\n",
       "      <td>1.922491</td>\n",
       "      <td>-2.878433</td>\n",
       "      <td>1.405382</td>\n",
       "      <td>0.150336</td>\n",
       "      <td>0.697804</td>\n",
       "      <td>-1.060906</td>\n",
       "      <td>0.159652</td>\n",
       "      <td>-1.867776</td>\n",
       "      <td>-0.309575</td>\n",
       "    </tr>\n",
       "  </tbody>\n",
       "</table>\n",
       "<p>5 rows × 100 columns</p>\n",
       "</div>"
      ],
      "text/plain": [
       "         0         1         2         3         4         5         6   \\\n",
       "0  0.483729  3.268931  2.078251  0.719844 -0.385190 -1.036269 -1.665783   \n",
       "1  0.543011  3.189311  2.022562  0.870707 -0.496439 -1.034872 -1.684013   \n",
       "2  0.547784  3.272885  2.091795  0.739956 -0.416335 -1.011150 -1.617769   \n",
       "3  0.580788  3.158261  2.008553  0.787353 -0.437384 -1.058442 -1.654321   \n",
       "4  0.503236  3.211217  2.039699  0.805750 -0.421433 -1.044608 -1.653592   \n",
       "\n",
       "         7         8         9   ...        90        91        92        93  \\\n",
       "0  0.090469 -0.023512 -3.078861  ... -0.100046  1.867129 -2.865718  1.441543   \n",
       "1  0.240043 -0.095090 -3.076701  ... -0.029236  1.959472 -2.897267  1.411695   \n",
       "2  0.188106 -0.061902 -3.129001  ...  0.025966  1.797266 -2.800409  1.382666   \n",
       "3  0.181593 -0.083203 -3.082946  ... -0.104886  1.890223 -2.848279  1.332550   \n",
       "4  0.165170 -0.125859 -3.112303  ... -0.024607  1.922491 -2.878433  1.405382   \n",
       "\n",
       "         94        95        96        97        98        99  \n",
       "0  0.228271  0.746553 -0.983653  0.116889 -1.885517 -0.265237  \n",
       "1  0.138038  0.676008 -1.088393  0.151569 -1.834073 -0.284669  \n",
       "2  0.119152  0.745136 -1.083226  0.117105 -1.874101 -0.304862  \n",
       "3  0.109059  0.704046 -1.102476  0.167827 -1.851366 -0.255056  \n",
       "4  0.150336  0.697804 -1.060906  0.159652 -1.867776 -0.309575  \n",
       "\n",
       "[5 rows x 100 columns]"
      ]
     },
     "execution_count": 71,
     "metadata": {},
     "output_type": "execute_result"
    }
   ],
   "source": [
    "X_train_mev_df.head()"
   ]
  },
  {
   "cell_type": "markdown",
   "metadata": {},
   "source": [
    "### Combining word vectors with dummy columns"
   ]
  },
  {
   "cell_type": "code",
   "execution_count": 72,
   "metadata": {},
   "outputs": [],
   "source": [
    "# Concatenate the components parts of the dataframe\n",
    "X_train = pd.concat([X_train, X_train_mev_df], axis=1)\n",
    "X_val = pd.concat([X_val, X_val_mev_df], axis=1)\n",
    "X_test = pd.concat([X_test, X_test_mev_df], axis=1)"
   ]
  },
  {
   "cell_type": "code",
   "execution_count": 73,
   "metadata": {},
   "outputs": [],
   "source": [
    "X_train.drop(columns=['text'], inplace=True)\n",
    "X_val.drop(columns=['text'], inplace=True)\n",
    "X_test.drop(columns=['text'], inplace=True)"
   ]
  },
  {
   "cell_type": "code",
   "execution_count": 74,
   "metadata": {},
   "outputs": [
    {
     "data": {
      "text/plain": [
       "((2490, 4422), (831, 4422), (986, 4422))"
      ]
     },
     "execution_count": 74,
     "metadata": {},
     "output_type": "execute_result"
    }
   ],
   "source": [
    "X_train.shape, X_val.shape, X_test.shape"
   ]
  },
  {
   "cell_type": "code",
   "execution_count": 75,
   "metadata": {
    "scrolled": true
   },
   "outputs": [
    {
     "data": {
      "text/html": [
       "<div>\n",
       "<style scoped>\n",
       "    .dataframe tbody tr th:only-of-type {\n",
       "        vertical-align: middle;\n",
       "    }\n",
       "\n",
       "    .dataframe tbody tr th {\n",
       "        vertical-align: top;\n",
       "    }\n",
       "\n",
       "    .dataframe thead th {\n",
       "        text-align: right;\n",
       "    }\n",
       "</style>\n",
       "<table border=\"1\" class=\"dataframe\">\n",
       "  <thead>\n",
       "    <tr style=\"text-align: right;\">\n",
       "      <th></th>\n",
       "      <th>gene_ABCB11</th>\n",
       "      <th>gene_ABCC6</th>\n",
       "      <th>gene_ABL1</th>\n",
       "      <th>gene_ACVR1</th>\n",
       "      <th>gene_ADAMTS13</th>\n",
       "      <th>gene_ADGRG1</th>\n",
       "      <th>gene_AGO2</th>\n",
       "      <th>gene_AGXT</th>\n",
       "      <th>gene_AKAP9</th>\n",
       "      <th>gene_AKT1</th>\n",
       "      <th>...</th>\n",
       "      <th>90</th>\n",
       "      <th>91</th>\n",
       "      <th>92</th>\n",
       "      <th>93</th>\n",
       "      <th>94</th>\n",
       "      <th>95</th>\n",
       "      <th>96</th>\n",
       "      <th>97</th>\n",
       "      <th>98</th>\n",
       "      <th>99</th>\n",
       "    </tr>\n",
       "  </thead>\n",
       "  <tbody>\n",
       "    <tr>\n",
       "      <th>0</th>\n",
       "      <td>0</td>\n",
       "      <td>0</td>\n",
       "      <td>0</td>\n",
       "      <td>0</td>\n",
       "      <td>0</td>\n",
       "      <td>0</td>\n",
       "      <td>0</td>\n",
       "      <td>0</td>\n",
       "      <td>0</td>\n",
       "      <td>0</td>\n",
       "      <td>...</td>\n",
       "      <td>-0.100046</td>\n",
       "      <td>1.867129</td>\n",
       "      <td>-2.865718</td>\n",
       "      <td>1.441543</td>\n",
       "      <td>0.228271</td>\n",
       "      <td>0.746553</td>\n",
       "      <td>-0.983653</td>\n",
       "      <td>0.116889</td>\n",
       "      <td>-1.885517</td>\n",
       "      <td>-0.265237</td>\n",
       "    </tr>\n",
       "    <tr>\n",
       "      <th>1</th>\n",
       "      <td>0</td>\n",
       "      <td>0</td>\n",
       "      <td>0</td>\n",
       "      <td>0</td>\n",
       "      <td>0</td>\n",
       "      <td>0</td>\n",
       "      <td>0</td>\n",
       "      <td>0</td>\n",
       "      <td>0</td>\n",
       "      <td>0</td>\n",
       "      <td>...</td>\n",
       "      <td>-0.029236</td>\n",
       "      <td>1.959472</td>\n",
       "      <td>-2.897267</td>\n",
       "      <td>1.411695</td>\n",
       "      <td>0.138038</td>\n",
       "      <td>0.676008</td>\n",
       "      <td>-1.088393</td>\n",
       "      <td>0.151569</td>\n",
       "      <td>-1.834073</td>\n",
       "      <td>-0.284669</td>\n",
       "    </tr>\n",
       "    <tr>\n",
       "      <th>2</th>\n",
       "      <td>0</td>\n",
       "      <td>0</td>\n",
       "      <td>0</td>\n",
       "      <td>0</td>\n",
       "      <td>0</td>\n",
       "      <td>0</td>\n",
       "      <td>0</td>\n",
       "      <td>0</td>\n",
       "      <td>0</td>\n",
       "      <td>0</td>\n",
       "      <td>...</td>\n",
       "      <td>0.025966</td>\n",
       "      <td>1.797266</td>\n",
       "      <td>-2.800409</td>\n",
       "      <td>1.382666</td>\n",
       "      <td>0.119152</td>\n",
       "      <td>0.745136</td>\n",
       "      <td>-1.083226</td>\n",
       "      <td>0.117105</td>\n",
       "      <td>-1.874101</td>\n",
       "      <td>-0.304862</td>\n",
       "    </tr>\n",
       "    <tr>\n",
       "      <th>3</th>\n",
       "      <td>0</td>\n",
       "      <td>0</td>\n",
       "      <td>0</td>\n",
       "      <td>0</td>\n",
       "      <td>0</td>\n",
       "      <td>0</td>\n",
       "      <td>0</td>\n",
       "      <td>0</td>\n",
       "      <td>0</td>\n",
       "      <td>0</td>\n",
       "      <td>...</td>\n",
       "      <td>-0.104886</td>\n",
       "      <td>1.890223</td>\n",
       "      <td>-2.848279</td>\n",
       "      <td>1.332550</td>\n",
       "      <td>0.109059</td>\n",
       "      <td>0.704046</td>\n",
       "      <td>-1.102476</td>\n",
       "      <td>0.167827</td>\n",
       "      <td>-1.851366</td>\n",
       "      <td>-0.255056</td>\n",
       "    </tr>\n",
       "    <tr>\n",
       "      <th>4</th>\n",
       "      <td>0</td>\n",
       "      <td>0</td>\n",
       "      <td>0</td>\n",
       "      <td>0</td>\n",
       "      <td>0</td>\n",
       "      <td>0</td>\n",
       "      <td>0</td>\n",
       "      <td>0</td>\n",
       "      <td>0</td>\n",
       "      <td>0</td>\n",
       "      <td>...</td>\n",
       "      <td>-0.024607</td>\n",
       "      <td>1.922491</td>\n",
       "      <td>-2.878433</td>\n",
       "      <td>1.405382</td>\n",
       "      <td>0.150336</td>\n",
       "      <td>0.697804</td>\n",
       "      <td>-1.060906</td>\n",
       "      <td>0.159652</td>\n",
       "      <td>-1.867776</td>\n",
       "      <td>-0.309575</td>\n",
       "    </tr>\n",
       "  </tbody>\n",
       "</table>\n",
       "<p>5 rows × 4422 columns</p>\n",
       "</div>"
      ],
      "text/plain": [
       "   gene_ABCB11  gene_ABCC6  gene_ABL1  gene_ACVR1  gene_ADAMTS13  gene_ADGRG1  \\\n",
       "0            0           0          0           0              0            0   \n",
       "1            0           0          0           0              0            0   \n",
       "2            0           0          0           0              0            0   \n",
       "3            0           0          0           0              0            0   \n",
       "4            0           0          0           0              0            0   \n",
       "\n",
       "   gene_AGO2  gene_AGXT  gene_AKAP9  gene_AKT1  ...        90        91  \\\n",
       "0          0          0           0          0  ... -0.100046  1.867129   \n",
       "1          0          0           0          0  ... -0.029236  1.959472   \n",
       "2          0          0           0          0  ...  0.025966  1.797266   \n",
       "3          0          0           0          0  ... -0.104886  1.890223   \n",
       "4          0          0           0          0  ... -0.024607  1.922491   \n",
       "\n",
       "         92        93        94        95        96        97        98  \\\n",
       "0 -2.865718  1.441543  0.228271  0.746553 -0.983653  0.116889 -1.885517   \n",
       "1 -2.897267  1.411695  0.138038  0.676008 -1.088393  0.151569 -1.834073   \n",
       "2 -2.800409  1.382666  0.119152  0.745136 -1.083226  0.117105 -1.874101   \n",
       "3 -2.848279  1.332550  0.109059  0.704046 -1.102476  0.167827 -1.851366   \n",
       "4 -2.878433  1.405382  0.150336  0.697804 -1.060906  0.159652 -1.867776   \n",
       "\n",
       "         99  \n",
       "0 -0.265237  \n",
       "1 -0.284669  \n",
       "2 -0.304862  \n",
       "3 -0.255056  \n",
       "4 -0.309575  \n",
       "\n",
       "[5 rows x 4422 columns]"
      ]
     },
     "execution_count": 75,
     "metadata": {},
     "output_type": "execute_result"
    }
   ],
   "source": [
    "X_train.head()"
   ]
  },
  {
   "cell_type": "markdown",
   "metadata": {},
   "source": [
    "### Handling of imbalanced classes"
   ]
  },
  {
   "cell_type": "code",
   "execution_count": 76,
   "metadata": {
    "scrolled": true
   },
   "outputs": [
    {
     "data": {
      "text/plain": [
       "7    0.287149\n",
       "4    0.206426\n",
       "1    0.171084\n",
       "2    0.136145\n",
       "6    0.082731\n",
       "5    0.072691\n",
       "3    0.026908\n",
       "9    0.011245\n",
       "8    0.005622\n",
       "Name: class, dtype: float64"
      ]
     },
     "execution_count": 76,
     "metadata": {},
     "output_type": "execute_result"
    }
   ],
   "source": [
    "y_train.value_counts(normalize=True)"
   ]
  },
  {
   "cell_type": "code",
   "execution_count": 77,
   "metadata": {},
   "outputs": [
    {
     "data": {
      "text/plain": [
       "7    715\n",
       "4    514\n",
       "1    426\n",
       "2    339\n",
       "6    206\n",
       "5    181\n",
       "3     67\n",
       "9     28\n",
       "8     14\n",
       "Name: class, dtype: int64"
      ]
     },
     "execution_count": 77,
     "metadata": {},
     "output_type": "execute_result"
    }
   ],
   "source": [
    "y_train.value_counts()"
   ]
  },
  {
   "cell_type": "markdown",
   "metadata": {},
   "source": [
    "We follow the same oversampling strategy as per the baseline model -- i.e. to use SMOTE to oversample the 3 most infrequent classes to be 100 samples each."
   ]
  },
  {
   "cell_type": "code",
   "execution_count": 78,
   "metadata": {},
   "outputs": [],
   "source": [
    "# Instantiate a SMOTE object to oversample minority classes\n",
    "sm = SMOTE(random_state=42, sampling_strategy={3:100, 9:100, 8:100})"
   ]
  },
  {
   "cell_type": "code",
   "execution_count": 79,
   "metadata": {},
   "outputs": [
    {
     "name": "stdout",
     "output_type": "stream",
     "text": [
      "Wall time: 5.88 s\n"
     ]
    }
   ],
   "source": [
    "%%time\n",
    "X_train, y_train = sm.fit_sample(X_train, y_train)"
   ]
  },
  {
   "cell_type": "code",
   "execution_count": 80,
   "metadata": {},
   "outputs": [
    {
     "data": {
      "text/plain": [
       "((2681, 4422), (2681,))"
      ]
     },
     "execution_count": 80,
     "metadata": {},
     "output_type": "execute_result"
    }
   ],
   "source": [
    "X_train.shape, y_train.shape"
   ]
  },
  {
   "cell_type": "code",
   "execution_count": 81,
   "metadata": {
    "scrolled": true
   },
   "outputs": [
    {
     "data": {
      "text/plain": [
       "7    715\n",
       "4    514\n",
       "1    426\n",
       "2    339\n",
       "6    206\n",
       "5    181\n",
       "9    100\n",
       "3    100\n",
       "8    100\n",
       "Name: class, dtype: int64"
      ]
     },
     "execution_count": 81,
     "metadata": {},
     "output_type": "execute_result"
    }
   ],
   "source": [
    "# Verify that we now have 181 samples for classes '5', '3' and '8'.\n",
    "y_train.value_counts()"
   ]
  },
  {
   "cell_type": "markdown",
   "metadata": {},
   "source": [
    "### Scaling the data"
   ]
  },
  {
   "cell_type": "code",
   "execution_count": 82,
   "metadata": {},
   "outputs": [],
   "source": [
    "ms = MinMaxScaler()"
   ]
  },
  {
   "cell_type": "code",
   "execution_count": 83,
   "metadata": {},
   "outputs": [],
   "source": [
    "ms.fit(pd.concat([X_train, X_val])) # we fit the StandardScaler based on all our training and validation data\n",
    "X_train = ms.transform(X_train)\n",
    "X_val = ms.transform(X_val)\n",
    "X_test = ms.transform(X_test)"
   ]
  },
  {
   "cell_type": "markdown",
   "metadata": {},
   "source": [
    "## Exploring Classifier Option #1: Forward Neural Network (FNN)"
   ]
  },
  {
   "cell_type": "code",
   "execution_count": 84,
   "metadata": {},
   "outputs": [],
   "source": [
    "# replace y with categorical features\n",
    "y_train_cat = to_categorical(y_train)\n",
    "y_val_cat = to_categorical(y_val)"
   ]
  },
  {
   "cell_type": "code",
   "execution_count": 85,
   "metadata": {},
   "outputs": [],
   "source": [
    "# remove the first column because it is redundant\n",
    "y_train_cat = np.delete(y_train_cat, 0, axis=1) \n",
    "y_val_cat = np.delete(y_val_cat, 0, axis=1) "
   ]
  },
  {
   "cell_type": "code",
   "execution_count": 86,
   "metadata": {},
   "outputs": [
    {
     "data": {
      "text/plain": [
       "((2681, 9), (831, 9))"
      ]
     },
     "execution_count": 86,
     "metadata": {},
     "output_type": "execute_result"
    }
   ],
   "source": [
    "y_train_cat.shape, y_val_cat.shape"
   ]
  },
  {
   "cell_type": "markdown",
   "metadata": {},
   "source": [
    "To achieve reasonable execution times, we adopt a two stage approach to finding the optimal parameters for the FNN:\n",
    "- **Stage 1**: We use RandomisedSearchCV to find the optimal parameters for a FNN with two hidden layers, except for the number of epochs. The RandomizedSearch CV chooses the optimal parameters to get the best 5-fold cross-validation score on the training set. We assume that the actual best parameters can be found within 5 epochs.\n",
    "- **Stage 2**: We redefine our FNN with the optimal parameters identified in Stage 1, but use an Early Stopping callback to terminate the training based on the lowest validation loss found."
   ]
  },
  {
   "cell_type": "markdown",
   "metadata": {},
   "source": [
    "### Stage 1: Use Randomised Search to find optimal parameters (excl. number of epochs)"
   ]
  },
  {
   "cell_type": "code",
   "execution_count": 99,
   "metadata": {},
   "outputs": [],
   "source": [
    "def model_func(layer_one_neurons=1000, layer_one_dropout=0.2,\n",
    "               layer_two_neurons=250, layer_two_dropout=0.2, opt_learning_rate=0.001):\n",
    "\n",
    "    model = Sequential()\n",
    "\n",
    "    model.add(Dense(layer_one_neurons,activation='relu',input_dim=X_train.shape[1]))\n",
    "    model.add(Dropout(layer_one_dropout))\n",
    "\n",
    "    model.add(Dense(layer_two_neurons,activation='relu'))\n",
    "    model.add(Dropout(layer_two_dropout))\n",
    "\n",
    "    model.add(Dense(9,activation='softmax'))\n",
    "\n",
    "    Ad = optimizers.Adam(learning_rate=opt_learning_rate,\n",
    "                         beta_1=0.9, beta_2=0.999, amsgrad=False)\n",
    "    model.compile(loss='categorical_crossentropy',optimizer=Ad,metrics=['accuracy'])\n",
    "    return model"
   ]
  },
  {
   "cell_type": "code",
   "execution_count": 100,
   "metadata": {},
   "outputs": [],
   "source": [
    "nn = KerasClassifier(build_fn=model_func, epochs=5, verbose=1)"
   ]
  },
  {
   "cell_type": "code",
   "execution_count": 101,
   "metadata": {},
   "outputs": [],
   "source": [
    "pipe= Pipeline([\n",
    "    ('nn',nn)\n",
    "])"
   ]
  },
  {
   "cell_type": "code",
   "execution_count": 102,
   "metadata": {},
   "outputs": [],
   "source": [
    "params={\n",
    "    'nn__layer_one_neurons' : [500, 1000, 1500],\n",
    "    'nn__layer_one_dropout': [0.1, 0.2, 0.3],\n",
    "    'nn__layer_two_neurons' : [100, 250, 500],\n",
    "    'nn__layer_two_dropout': [0.1, 0.2, 0.3],\n",
    "    'nn__opt_learning_rate' : [0.001, 0.0001]\n",
    "}\n",
    "rs = RandomizedSearchCV(pipe, param_distributions = params,\n",
    "                        verbose=1, cv=3, random_state=42)"
   ]
  },
  {
   "cell_type": "code",
   "execution_count": 103,
   "metadata": {
    "scrolled": true
   },
   "outputs": [
    {
     "name": "stdout",
     "output_type": "stream",
     "text": [
      "Fitting 3 folds for each of 10 candidates, totalling 30 fits\n"
     ]
    },
    {
     "name": "stderr",
     "output_type": "stream",
     "text": [
      "[Parallel(n_jobs=1)]: Using backend SequentialBackend with 1 concurrent workers.\n"
     ]
    },
    {
     "name": "stdout",
     "output_type": "stream",
     "text": [
      "Epoch 1/5\n",
      "1787/1787 [==============================] - 6s 3ms/step - loss: 2.0336 - accuracy: 0.2524\n",
      "Epoch 2/5\n",
      "1787/1787 [==============================] - 6s 3ms/step - loss: 1.8924 - accuracy: 0.3352\n",
      "Epoch 3/5\n",
      "1787/1787 [==============================] - 6s 3ms/step - loss: 1.5851 - accuracy: 0.4813\n",
      "Epoch 4/5\n",
      "1787/1787 [==============================] - 6s 3ms/step - loss: 1.2944 - accuracy: 0.5630\n",
      "Epoch 5/5\n",
      "1787/1787 [==============================] - 6s 3ms/step - loss: 1.0342 - accuracy: 0.6726\n",
      "894/894 [==============================] - 0s 405us/step\n",
      "Epoch 1/5\n",
      "1787/1787 [==============================] - 6s 3ms/step - loss: 2.0390 - accuracy: 0.2401\n",
      "Epoch 2/5\n",
      "1787/1787 [==============================] - 6s 3ms/step - loss: 1.8305 - accuracy: 0.3710\n",
      "Epoch 3/5\n",
      "1787/1787 [==============================] - 6s 3ms/step - loss: 1.4891 - accuracy: 0.4841\n",
      "Epoch 4/5\n",
      "1787/1787 [==============================] - 6s 3ms/step - loss: 1.2336 - accuracy: 0.5730\n",
      "Epoch 5/5\n",
      "1787/1787 [==============================] - 6s 3ms/step - loss: 1.0249 - accuracy: 0.6486\n",
      "894/894 [==============================] - 0s 406us/step\n",
      "Epoch 1/5\n",
      "1788/1788 [==============================] - 6s 3ms/step - loss: 1.8882 - accuracy: 0.2757\n",
      "Epoch 2/5\n",
      "1788/1788 [==============================] - 6s 3ms/step - loss: 1.6268 - accuracy: 0.4251\n",
      "Epoch 3/5\n",
      "1788/1788 [==============================] - 6s 3ms/step - loss: 1.2635 - accuracy: 0.5582\n",
      "Epoch 4/5\n",
      "1788/1788 [==============================] - 6s 3ms/step - loss: 1.0213 - accuracy: 0.6488\n",
      "Epoch 5/5\n",
      "1788/1788 [==============================] - 6s 3ms/step - loss: 0.8250 - accuracy: 0.7327\n",
      "893/893 [==============================] - 0s 445us/step\n",
      "Epoch 1/5\n",
      "1787/1787 [==============================] - 2s 1ms/step - loss: 2.1064 - accuracy: 0.2283\n",
      "Epoch 2/5\n",
      "1787/1787 [==============================] - 2s 1ms/step - loss: 2.0076 - accuracy: 0.2641\n",
      "Epoch 3/5\n",
      "1787/1787 [==============================] - 2s 1ms/step - loss: 1.9824 - accuracy: 0.2680\n",
      "Epoch 4/5\n",
      "1787/1787 [==============================] - 2s 1ms/step - loss: 1.9660 - accuracy: 0.2720\n",
      "Epoch 5/5\n",
      "1787/1787 [==============================] - 2s 1ms/step - loss: 1.9287 - accuracy: 0.3067\n",
      "894/894 [==============================] - ETA:  - 0s 290us/step\n",
      "Epoch 1/5\n",
      "1787/1787 [==============================] - 2s 1ms/step - loss: 2.0949 - accuracy: 0.2059\n",
      "Epoch 2/5\n",
      "1787/1787 [==============================] - 2s 1ms/step - loss: 2.0193 - accuracy: 0.2552\n",
      "Epoch 3/5\n",
      "1787/1787 [==============================] - 2s 1ms/step - loss: 1.9906 - accuracy: 0.2608\n",
      "Epoch 4/5\n",
      "1787/1787 [==============================] - 2s 1ms/step - loss: 1.9650 - accuracy: 0.2720\n",
      "Epoch 5/5\n",
      "1787/1787 [==============================] - 2s 1ms/step - loss: 1.9338 - accuracy: 0.3184\n",
      "894/894 [==============================] - 0s 310us/step\n",
      "Epoch 1/5\n",
      "1788/1788 [==============================] - 2s 1ms/step - loss: 1.9458 - accuracy: 0.2791\n",
      "Epoch 2/5\n",
      "1788/1788 [==============================] - 2s 1ms/step - loss: 1.8320 - accuracy: 0.2919\n",
      "Epoch 3/5\n",
      "1788/1788 [==============================] - ETA: 0s - loss: 1.8102 - accuracy: 0.30 - 2s 1ms/step - loss: 1.8104 - accuracy: 0.3031\n",
      "Epoch 4/5\n",
      "1788/1788 [==============================] - 2s 1ms/step - loss: 1.7770 - accuracy: 0.3356\n",
      "Epoch 5/5\n",
      "1788/1788 [==============================] - 2s 1ms/step - loss: 1.7455 - accuracy: 0.3490\n",
      "893/893 [==============================] - 0s 310us/step\n",
      "Epoch 1/5\n",
      "1787/1787 [==============================] - 4s 2ms/step - loss: 2.0332 - accuracy: 0.2608\n",
      "Epoch 2/5\n",
      "1787/1787 [==============================] - 4s 2ms/step - loss: 1.9642 - accuracy: 0.2832\n",
      "Epoch 3/5\n",
      "1787/1787 [==============================] - 4s 2ms/step - loss: 1.9155 - accuracy: 0.3290\n",
      "Epoch 4/5\n",
      "1787/1787 [==============================] - 4s 2ms/step - loss: 1.8266 - accuracy: 0.3710\n",
      "Epoch 5/5\n",
      "1787/1787 [==============================] - 4s 2ms/step - loss: 1.7243 - accuracy: 0.4550\n",
      "894/894 [==============================] - 0s 406us/step\n",
      "Epoch 1/5\n",
      "1787/1787 [==============================] - 4s 2ms/step - loss: 2.0499 - accuracy: 0.2412\n",
      "Epoch 2/5\n",
      "1787/1787 [==============================] - 5s 3ms/step - loss: 1.9808 - accuracy: 0.2759\n",
      "Epoch 3/5\n",
      "1787/1787 [==============================] - 4s 2ms/step - loss: 1.9346 - accuracy: 0.3156\n",
      "Epoch 4/5\n",
      "1787/1787 [==============================] - 4s 2ms/step - loss: 1.8643 - accuracy: 0.3705\n",
      "Epoch 5/5\n",
      "1787/1787 [==============================] - 4s 2ms/step - loss: 1.7609 - accuracy: 0.4119\n",
      "894/894 [==============================] - 0s 415us/step\n",
      "Epoch 1/5\n",
      "1788/1788 [==============================] - 4s 2ms/step - loss: 1.9036 - accuracy: 0.2673\n",
      "Epoch 2/5\n",
      "1788/1788 [==============================] - 4s 2ms/step - loss: 1.7991 - accuracy: 0.3283\n",
      "Epoch 3/5\n",
      "1788/1788 [==============================] - 4s 2ms/step - loss: 1.7399 - accuracy: 0.3613\n",
      "Epoch 4/5\n",
      "1788/1788 [==============================] - 4s 2ms/step - loss: 1.6611 - accuracy: 0.4172\n",
      "Epoch 5/5\n",
      "1788/1788 [==============================] - 4s 2ms/step - loss: 1.5526 - accuracy: 0.5028\n",
      "893/893 [==============================] - 0s 431us/step\n",
      "Epoch 1/5\n",
      "1787/1787 [==============================] - 2s 1ms/step - loss: 2.0610 - accuracy: 0.2613\n",
      "Epoch 2/5\n",
      "1787/1787 [==============================] - 2s 1ms/step - loss: 1.9942 - accuracy: 0.2708\n",
      "Epoch 3/5\n",
      "1787/1787 [==============================] - 2s 1ms/step - loss: 1.9650 - accuracy: 0.2804\n",
      "Epoch 4/5\n",
      "1787/1787 [==============================] - 2s 1ms/step - loss: 1.9276 - accuracy: 0.2899\n",
      "Epoch 5/5\n",
      "1787/1787 [==============================] - 2s 1ms/step - loss: 1.8952 - accuracy: 0.3374\n",
      "894/894 [==============================] - 0s 404us/step\n",
      "Epoch 1/5\n",
      "1787/1787 [==============================] - 2s 1ms/step - loss: 2.0676 - accuracy: 0.2261\n",
      "Epoch 2/5\n",
      "1787/1787 [==============================] - 2s 1ms/step - loss: 2.0046 - accuracy: 0.2608\n",
      "Epoch 3/5\n",
      "1787/1787 [==============================] - 2s 1ms/step - loss: 1.9800 - accuracy: 0.2697\n",
      "Epoch 4/5\n",
      "1787/1787 [==============================] - 2s 1ms/step - loss: 1.9432 - accuracy: 0.3100\n",
      "Epoch 5/5\n",
      "1787/1787 [==============================] - 2s 1ms/step - loss: 1.9085 - accuracy: 0.3251\n",
      "894/894 [==============================] - 0s 405us/step\n",
      "Epoch 1/5\n",
      "1788/1788 [==============================] - 2s 1ms/step - loss: 2.0075 - accuracy: 0.2617\n",
      "Epoch 2/5\n",
      "1788/1788 [==============================] - 2s 1ms/step - loss: 1.8658 - accuracy: 0.2768\n",
      "Epoch 3/5\n",
      "1788/1788 [==============================] - 2s 1ms/step - loss: 1.8265 - accuracy: 0.2947\n",
      "Epoch 4/5\n",
      "1788/1788 [==============================] - 2s 1ms/step - loss: 1.7808 - accuracy: 0.3333\n",
      "Epoch 5/5\n",
      "1788/1788 [==============================] - 2s 1ms/step - loss: 1.7338 - accuracy: 0.3831\n",
      "893/893 [==============================] - 0s 448us/step\n",
      "Epoch 1/5\n",
      "1787/1787 [==============================] - 6s 4ms/step - loss: 1.9972 - accuracy: 0.2938\n",
      "Epoch 2/5\n",
      "1787/1787 [==============================] - 6s 4ms/step - loss: 1.6073 - accuracy: 0.4538\n",
      "Epoch 3/5\n",
      "1787/1787 [==============================] - 6s 4ms/step - loss: 1.2452 - accuracy: 0.5534\n",
      "Epoch 4/5\n",
      "1787/1787 [==============================] - 6s 4ms/step - loss: 0.9452 - accuracy: 0.6788\n",
      "Epoch 5/5\n",
      "1787/1787 [==============================] - 7s 4ms/step - loss: 0.6673 - accuracy: 0.7980\n",
      "894/894 [==============================] - 1s 677us/step\n",
      "Epoch 1/5\n",
      "1787/1787 [==============================] - 6s 3ms/step - loss: 1.9835 - accuracy: 0.2871\n",
      "Epoch 2/5\n",
      "1787/1787 [==============================] - 6s 4ms/step - loss: 1.6461 - accuracy: 0.4275\n",
      "Epoch 3/5\n",
      "1787/1787 [==============================] - 6s 3ms/step - loss: 1.2179 - accuracy: 0.5764\n",
      "Epoch 4/5\n",
      "1787/1787 [==============================] - 6s 3ms/step - loss: 0.9564 - accuracy: 0.6771\n",
      "Epoch 5/5\n",
      "1787/1787 [==============================] - 6s 3ms/step - loss: 0.6618 - accuracy: 0.7834\n",
      "894/894 [==============================] - 1s 711us/step\n",
      "Epoch 1/5\n",
      "1788/1788 [==============================] - 8s 4ms/step - loss: 1.7896 - accuracy: 0.3300\n",
      "Epoch 2/5\n",
      "1788/1788 [==============================] - 6s 4ms/step - loss: 1.3356 - accuracy: 0.5408\n",
      "Epoch 3/5\n"
     ]
    },
    {
     "name": "stdout",
     "output_type": "stream",
     "text": [
      "1788/1788 [==============================] - 7s 4ms/step - loss: 1.0047 - accuracy: 0.6549\n",
      "Epoch 4/5\n",
      "1788/1788 [==============================] - 6s 4ms/step - loss: 0.7500 - accuracy: 0.7601\n",
      "Epoch 5/5\n",
      "1788/1788 [==============================] - 6s 4ms/step - loss: 0.4638 - accuracy: 0.8602\n",
      "893/893 [==============================] - 1s 737us/step\n",
      "Epoch 1/5\n",
      "1787/1787 [==============================] - 5s 3ms/step - loss: 2.0274 - accuracy: 0.2507\n",
      "Epoch 2/5\n",
      "1787/1787 [==============================] - 4s 2ms/step - loss: 1.9602 - accuracy: 0.2876\n",
      "Epoch 3/5\n",
      "1787/1787 [==============================] - 4s 2ms/step - loss: 1.8963 - accuracy: 0.3341\n",
      "Epoch 4/5\n",
      "1787/1787 [==============================] - 4s 2ms/step - loss: 1.8027 - accuracy: 0.4208\n",
      "Epoch 5/5\n",
      "1787/1787 [==============================] - 5s 3ms/step - loss: 1.6823 - accuracy: 0.4695\n",
      "894/894 [==============================] - 1s 684us/step\n",
      "Epoch 1/5\n",
      "1787/1787 [==============================] - 5s 3ms/step - loss: 2.0462 - accuracy: 0.2417\n",
      "Epoch 2/5\n",
      "1787/1787 [==============================] - 4s 2ms/step - loss: 1.9621 - accuracy: 0.2820\n",
      "Epoch 3/5\n",
      "1787/1787 [==============================] - 4s 3ms/step - loss: 1.9070 - accuracy: 0.3643\n",
      "Epoch 4/5\n",
      "1787/1787 [==============================] - 5s 3ms/step - loss: 1.8020 - accuracy: 0.4214\n",
      "Epoch 5/5\n",
      "1787/1787 [==============================] - 4s 3ms/step - loss: 1.6803 - accuracy: 0.4572\n",
      "894/894 [==============================] - 1s 675us/step\n",
      "Epoch 1/5\n",
      "1788/1788 [==============================] - 5s 3ms/step - loss: 1.9082 - accuracy: 0.2864\n",
      "Epoch 2/5\n",
      "1788/1788 [==============================] - 4s 2ms/step - loss: 1.8001 - accuracy: 0.3177\n",
      "Epoch 3/5\n",
      "1788/1788 [==============================] - 4s 2ms/step - loss: 1.7287 - accuracy: 0.3736\n",
      "Epoch 4/5\n",
      "1788/1788 [==============================] - 4s 2ms/step - loss: 1.6312 - accuracy: 0.4463\n",
      "Epoch 5/5\n",
      "1788/1788 [==============================] - 4s 2ms/step - loss: 1.5090 - accuracy: 0.5095\n",
      "893/893 [==============================] - 1s 642us/step\n",
      "Epoch 1/5\n",
      "1787/1787 [==============================] - 6s 4ms/step - loss: 2.0388 - accuracy: 0.2535\n",
      "Epoch 2/5\n",
      "1787/1787 [==============================] - 6s 3ms/step - loss: 1.9619 - accuracy: 0.2748\n",
      "Epoch 3/5\n",
      "1787/1787 [==============================] - 6s 3ms/step - loss: 1.8905 - accuracy: 0.3274\n",
      "Epoch 4/5\n",
      "1787/1787 [==============================] - 6s 3ms/step - loss: 1.7834 - accuracy: 0.4163\n",
      "Epoch 5/5\n",
      "1787/1787 [==============================] - 6s 3ms/step - loss: 1.6557 - accuracy: 0.4841\n",
      "894/894 [==============================] - 1s 684us/step\n",
      "Epoch 1/5\n",
      "1787/1787 [==============================] - 6s 3ms/step - loss: 2.0302 - accuracy: 0.2479\n",
      "Epoch 2/5\n",
      "1787/1787 [==============================] - 6s 3ms/step - loss: 1.9588 - accuracy: 0.2871\n",
      "Epoch 3/5\n",
      "1787/1787 [==============================] - 6s 3ms/step - loss: 1.8773 - accuracy: 0.3710\n",
      "Epoch 4/5\n",
      "1787/1787 [==============================] - 7s 4ms/step - loss: 1.7674 - accuracy: 0.4225\n",
      "Epoch 5/5\n",
      "1787/1787 [==============================] - 6s 3ms/step - loss: 1.6279 - accuracy: 0.4762\n",
      "894/894 [==============================] - 1s 712us/step\n",
      "Epoch 1/5\n",
      "1788/1788 [==============================] - 6s 4ms/step - loss: 1.8924 - accuracy: 0.2780\n",
      "Epoch 2/5\n",
      "1788/1788 [==============================] - 6s 3ms/step - loss: 1.7943 - accuracy: 0.3249\n",
      "Epoch 3/5\n",
      "1788/1788 [==============================] - 6s 3ms/step - loss: 1.7203 - accuracy: 0.3977\n",
      "Epoch 4/5\n",
      "1788/1788 [==============================] - 6s 3ms/step - loss: 1.6154 - accuracy: 0.4614\n",
      "Epoch 5/5\n",
      "1788/1788 [==============================] - 6s 3ms/step - loss: 1.4726 - accuracy: 0.5425\n",
      "893/893 [==============================] - 1s 765us/step\n",
      "Epoch 1/5\n",
      "1787/1787 [==============================] - 6s 4ms/step - loss: 2.0366 - accuracy: 0.2619\n",
      "Epoch 2/5\n",
      "1787/1787 [==============================] - 6s 4ms/step - loss: 1.9619 - accuracy: 0.2826\n",
      "Epoch 3/5\n",
      "1787/1787 [==============================] - 6s 3ms/step - loss: 1.8981 - accuracy: 0.3408\n",
      "Epoch 4/5\n",
      "1787/1787 [==============================] - 6s 3ms/step - loss: 1.8088 - accuracy: 0.4012\n",
      "Epoch 5/5\n",
      "1787/1787 [==============================] - 6s 3ms/step - loss: 1.6993 - accuracy: 0.4605\n",
      "894/894 [==============================] - 1s 760us/step\n",
      "Epoch 1/5\n",
      "1787/1787 [==============================] - 6s 4ms/step - loss: 2.0369 - accuracy: 0.2451\n",
      "Epoch 2/5\n",
      "1787/1787 [==============================] - 6s 3ms/step - loss: 1.9756 - accuracy: 0.2787\n",
      "Epoch 3/5\n",
      "1787/1787 [==============================] - 6s 3ms/step - loss: 1.9094 - accuracy: 0.3402\n",
      "Epoch 4/5\n",
      "1787/1787 [==============================] - 6s 3ms/step - loss: 1.8290 - accuracy: 0.4024\n",
      "Epoch 5/5\n",
      "1787/1787 [==============================] - 7s 4ms/step - loss: 1.7414 - accuracy: 0.4538\n",
      "894/894 [==============================] - 1s 770us/step\n",
      "Epoch 1/5\n",
      "1788/1788 [==============================] - 6s 4ms/step - loss: 1.9230 - accuracy: 0.2617\n",
      "Epoch 2/5\n",
      "1788/1788 [==============================] - 6s 3ms/step - loss: 1.8034 - accuracy: 0.3328\n",
      "Epoch 3/5\n",
      "1788/1788 [==============================] - 6s 3ms/step - loss: 1.7408 - accuracy: 0.3742\n",
      "Epoch 4/5\n",
      "1788/1788 [==============================] - 6s 3ms/step - loss: 1.6490 - accuracy: 0.4575\n",
      "Epoch 5/5\n",
      "1788/1788 [==============================] - 6s 3ms/step - loss: 1.5408 - accuracy: 0.5179\n",
      "893/893 [==============================] - 1s 753us/step\n",
      "Epoch 1/5\n",
      "1787/1787 [==============================] - 7s 4ms/step - loss: 2.0092 - accuracy: 0.2692\n",
      "Epoch 2/5\n",
      "1787/1787 [==============================] - 7s 4ms/step - loss: 1.6946 - accuracy: 0.4354\n",
      "Epoch 3/5\n",
      "1787/1787 [==============================] - 6s 4ms/step - loss: 1.3145 - accuracy: 0.5400\n",
      "Epoch 4/5\n",
      "1787/1787 [==============================] - 6s 4ms/step - loss: 1.0188 - accuracy: 0.6598\n",
      "Epoch 5/5\n",
      "1787/1787 [==============================] - 6s 3ms/step - loss: 0.8017 - accuracy: 0.7258\n",
      "894/894 [==============================] - 1s 793us/step\n",
      "Epoch 1/5\n",
      "1787/1787 [==============================] - 6s 3ms/step - loss: 2.0074 - accuracy: 0.2714\n",
      "Epoch 2/5\n",
      "1787/1787 [==============================] - 6s 3ms/step - loss: 1.6980 - accuracy: 0.4242\n",
      "Epoch 3/5\n",
      "1787/1787 [==============================] - 7s 4ms/step - loss: 1.3022 - accuracy: 0.5344\n",
      "Epoch 4/5\n",
      "1787/1787 [==============================] - 6s 3ms/step - loss: 1.0240 - accuracy: 0.6626\n",
      "Epoch 5/5\n",
      "1787/1787 [==============================] - 6s 3ms/step - loss: 0.7261 - accuracy: 0.7818\n",
      "894/894 [==============================] - 1s 1ms/step\n",
      "Epoch 1/5\n",
      "1788/1788 [==============================] - 6s 3ms/step - loss: 1.8410 - accuracy: 0.2886\n",
      "Epoch 2/5\n",
      "1788/1788 [==============================] - 6s 3ms/step - loss: 1.4516 - accuracy: 0.4950\n",
      "Epoch 3/5\n",
      "1788/1788 [==============================] - 6s 3ms/step - loss: 1.1193 - accuracy: 0.6275\n",
      "Epoch 4/5\n",
      "1788/1788 [==============================] - 6s 3ms/step - loss: 0.8471 - accuracy: 0.7176\n",
      "Epoch 5/5\n",
      "1788/1788 [==============================] - 6s 3ms/step - loss: 0.6125 - accuracy: 0.8082\n",
      "893/893 [==============================] - 1s 711us/step\n",
      "Epoch 1/5\n",
      "1787/1787 [==============================] - 6s 3ms/step - loss: 2.0036 - accuracy: 0.2669\n",
      "Epoch 2/5\n",
      "1787/1787 [==============================] - 5s 3ms/step - loss: 1.8088 - accuracy: 0.3576\n",
      "Epoch 3/5\n",
      "1787/1787 [==============================] - 5s 3ms/step - loss: 1.4890 - accuracy: 0.5053\n",
      "Epoch 4/5\n",
      "1787/1787 [==============================] - 6s 3ms/step - loss: 1.2413 - accuracy: 0.5713\n",
      "Epoch 5/5\n",
      "1787/1787 [==============================] - 5s 3ms/step - loss: 1.0061 - accuracy: 0.6777\n",
      "894/894 [==============================] - 1s 751us/step\n",
      "Epoch 1/5\n",
      "1787/1787 [==============================] - 6s 3ms/step - loss: 2.0246 - accuracy: 0.2507\n",
      "Epoch 2/5\n",
      "1787/1787 [==============================] - 6s 3ms/step - loss: 1.8099 - accuracy: 0.3783\n",
      "Epoch 3/5\n",
      "1787/1787 [==============================] - 6s 3ms/step - loss: 1.4836 - accuracy: 0.5120\n",
      "Epoch 4/5\n",
      "1787/1787 [==============================] - 6s 3ms/step - loss: 1.1941 - accuracy: 0.6004\n",
      "Epoch 5/5\n",
      "1787/1787 [==============================] - 6s 3ms/step - loss: 0.9570 - accuracy: 0.6760\n"
     ]
    },
    {
     "name": "stdout",
     "output_type": "stream",
     "text": [
      "894/894 [==============================] - 1s 762us/step\n",
      "Epoch 1/5\n",
      "1788/1788 [==============================] - 9s 5ms/step - loss: 1.8631 - accuracy: 0.2841\n",
      "Epoch 2/5\n",
      "1788/1788 [==============================] - 7s 4ms/step - loss: 1.6106 - accuracy: 0.4379\n",
      "Epoch 3/5\n",
      "1788/1788 [==============================] - 8s 4ms/step - loss: 1.2813 - accuracy: 0.5515\n",
      "Epoch 4/5\n",
      "1788/1788 [==============================] - 6s 4ms/step - loss: 1.0326 - accuracy: 0.6633\n",
      "Epoch 5/5\n",
      "1788/1788 [==============================] - 6s 3ms/step - loss: 0.8458 - accuracy: 0.7282\n",
      "893/893 [==============================] - 1s 1ms/step\n"
     ]
    },
    {
     "name": "stderr",
     "output_type": "stream",
     "text": [
      "[Parallel(n_jobs=1)]: Done  30 out of  30 | elapsed: 15.3min finished\n"
     ]
    },
    {
     "name": "stdout",
     "output_type": "stream",
     "text": [
      "Epoch 1/5\n",
      "2681/2681 [==============================] - 10s 4ms/step - loss: 1.8523 - accuracy: 0.3368\n",
      "Epoch 2/5\n",
      "2681/2681 [==============================] - 11s 4ms/step - loss: 1.3535 - accuracy: 0.5166\n",
      "Epoch 3/5\n",
      "2681/2681 [==============================] - 11s 4ms/step - loss: 1.0278 - accuracy: 0.6345\n",
      "Epoch 4/5\n",
      "2681/2681 [==============================] - 10s 4ms/step - loss: 0.7347 - accuracy: 0.7520\n",
      "Epoch 5/5\n",
      "2681/2681 [==============================] - 10s 4ms/step - loss: 0.4524 - accuracy: 0.8653\n",
      "Wall time: 16min 15s\n"
     ]
    },
    {
     "data": {
      "text/plain": [
       "RandomizedSearchCV(cv=3, error_score=nan,\n",
       "                   estimator=Pipeline(memory=None,\n",
       "                                      steps=[('nn',\n",
       "                                              <keras.wrappers.scikit_learn.KerasClassifier object at 0x000002DD66D60B48>)],\n",
       "                                      verbose=False),\n",
       "                   iid='deprecated', n_iter=10, n_jobs=None,\n",
       "                   param_distributions={'nn__layer_one_dropout': [0.1, 0.2,\n",
       "                                                                  0.3],\n",
       "                                        'nn__layer_one_neurons': [500, 1000,\n",
       "                                                                  1500],\n",
       "                                        'nn__layer_two_dropout': [0.1, 0.2,\n",
       "                                                                  0.3],\n",
       "                                        'nn__layer_two_neurons': [100, 250,\n",
       "                                                                  500],\n",
       "                                        'nn__opt_learning_rate': [0.001,\n",
       "                                                                  0.0001]},\n",
       "                   pre_dispatch='2*n_jobs', random_state=42, refit=True,\n",
       "                   return_train_score=False, scoring=None, verbose=1)"
      ]
     },
     "execution_count": 103,
     "metadata": {},
     "output_type": "execute_result"
    }
   ],
   "source": [
    "%%time\n",
    "rs.fit(X_train, y_train_cat)"
   ]
  },
  {
   "cell_type": "code",
   "execution_count": 104,
   "metadata": {},
   "outputs": [
    {
     "name": "stdout",
     "output_type": "stream",
     "text": [
      "0.5367169181505839\n",
      "{'nn__opt_learning_rate': 0.001, 'nn__layer_two_neurons': 500, 'nn__layer_two_dropout': 0.1, 'nn__layer_one_neurons': 1500, 'nn__layer_one_dropout': 0.2}\n"
     ]
    }
   ],
   "source": [
    "print(rs.best_score_)\n",
    "print(rs.best_params_)"
   ]
  },
  {
   "cell_type": "markdown",
   "metadata": {},
   "source": [
    "### Stage 2: Use Early Stopping callback to find optimal number of epochs"
   ]
  },
  {
   "cell_type": "markdown",
   "metadata": {},
   "source": [
    "We now instantiate an updated version of our FNN above based on the optimal parameters, but adjust our model fitting to include an Early Stopping callback so that we can stop the training to minimise overfitting."
   ]
  },
  {
   "cell_type": "code",
   "execution_count": 105,
   "metadata": {},
   "outputs": [],
   "source": [
    "# We redefine the FNN based on the optimal parameters obtained via RandomisedSearchCV above\n",
    "seq_model = Sequential()\n",
    "seq_model.add(Dense(1500, activation='relu', input_dim=X_train.shape[1]))\n",
    "seq_model.add(Dropout(0.2))\n",
    "seq_model.add(Dense(500, activation='relu'))\n",
    "seq_model.add(Dropout(0.1))\n",
    "seq_model.add(Dense(9, activation='softmax'))"
   ]
  },
  {
   "cell_type": "code",
   "execution_count": 107,
   "metadata": {},
   "outputs": [],
   "source": [
    "# Establish early stopping callback to stop training based on validation loss\n",
    "early_stop = EarlyStopping(monitor='val_loss', min_delta=0, patience=2)"
   ]
  },
  {
   "cell_type": "code",
   "execution_count": 108,
   "metadata": {},
   "outputs": [
    {
     "name": "stdout",
     "output_type": "stream",
     "text": [
      "Train on 2681 samples, validate on 831 samples\n",
      "Epoch 1/50\n",
      "2681/2681 [==============================] - 3s 1ms/step - loss: 1.9941 - accuracy: 0.2566 - val_loss: 1.8070 - val_accuracy: 0.2864\n",
      "Epoch 2/50\n",
      "2681/2681 [==============================] - 2s 822us/step - loss: 1.8388 - accuracy: 0.3745 - val_loss: 1.6736 - val_accuracy: 0.5078\n",
      "Epoch 3/50\n",
      "2681/2681 [==============================] - 3s 961us/step - loss: 1.5876 - accuracy: 0.5080 - val_loss: 1.4703 - val_accuracy: 0.5138\n",
      "Epoch 4/50\n",
      "2681/2681 [==============================] - 2s 815us/step - loss: 1.2989 - accuracy: 0.5703 - val_loss: 1.3009 - val_accuracy: 0.5596\n",
      "Epoch 5/50\n",
      "2681/2681 [==============================] - 2s 823us/step - loss: 1.0550 - accuracy: 0.6367 - val_loss: 1.2745 - val_accuracy: 0.5548\n",
      "Epoch 6/50\n",
      "2681/2681 [==============================] - 2s 855us/step - loss: 0.8783 - accuracy: 0.7135 - val_loss: 1.3053 - val_accuracy: 0.5367\n",
      "Epoch 7/50\n",
      "2681/2681 [==============================] - 2s 873us/step - loss: 0.6997 - accuracy: 0.7937 - val_loss: 1.3110 - val_accuracy: 0.5668\n"
     ]
    }
   ],
   "source": [
    "seq_model.compile(loss='categorical_crossentropy',\n",
    "                  optimizer=optimizers.Adam(learning_rate=0.001, beta_2=0.999, amsgrad=False),\n",
    "                  metrics=['accuracy'])\n",
    "seq_history = seq_model.fit(X_train, y_train_cat, validation_data=(X_val, y_val_cat),\n",
    "                            epochs=50, callbacks=[early_stop], batch_size=256, verbose=1)"
   ]
  },
  {
   "cell_type": "code",
   "execution_count": 109,
   "metadata": {},
   "outputs": [
    {
     "data": {
      "image/png": "[encoded data removed]",
      "text/plain": [
       "<Figure size 648x432 with 1 Axes>"
      ]
     },
     "metadata": {
      "image/png": {
       "height": 386,
       "width": 619
      },
      "needs_background": "light"
     },
     "output_type": "display_data"
    }
   ],
   "source": [
    "# Plot training vs validation loss\n",
    "plt.figure(figsize=(9,6))\n",
    "plt.title(\"Training vs Validation Loss\")\n",
    "plt.plot(seq_history.history['loss'], label=\"Training Loss\")\n",
    "plt.plot(seq_history.history['val_loss'], label='Validation Loss')\n",
    "plt.xlabel(\"Epochs\")\n",
    "plt.ylabel(\"Loss (Categorical Crossentropy)\")\n",
    "plt.xticks(np.arange(0, 12, step=1))\n",
    "plt.legend();"
   ]
  },
  {
   "cell_type": "code",
   "execution_count": 110,
   "metadata": {},
   "outputs": [
    {
     "name": "stdout",
     "output_type": "stream",
     "text": [
      "831/831 [==============================] - 0s 550us/step\n",
      "Validation loss: 1.3110019542393414\n",
      "Validation accuracy: 0.5667870044708252\n"
     ]
    }
   ],
   "source": [
    "# Display validation loss and accuracy\n",
    "seq_score = seq_model.evaluate(X_val, y_val_cat, verbose=1)\n",
    "seq_labels = seq_model.metrics_names\n",
    "print (\"Validation {}: {}\".format(seq_labels[0], seq_score[0]))\n",
    "print (\"Validation {}: {}\".format(seq_labels[1], seq_score[1]))"
   ]
  },
  {
   "cell_type": "markdown",
   "metadata": {},
   "source": [
    "## Exploring Classifier Option #2: Extra Trees Classifier"
   ]
  },
  {
   "cell_type": "markdown",
   "metadata": {},
   "source": [
    "To manage the total time and resources used to tune the classifier parameters, we use the RandomizedSearchCV to find the optimum parameters for the Extra Trees classifier to give the best 3-way cross-validated accuracy score on the training set, within a maximum of 10 iterations. We did not consider other classifiers due to the limitations of processing power and memory. Additional classifiers could be evaluated as a next step to this Capstone project, akin to the range of classifiers that were evaluated to find the baseline classifier."
   ]
  },
  {
   "cell_type": "code",
   "execution_count": 115,
   "metadata": {},
   "outputs": [],
   "source": [
    "# We have selected the models below for modelling purposes.\n",
    "estimators = {\n",
    "    'etree': ExtraTreesClassifier(random_state=42),\n",
    "}.items()"
   ]
  },
  {
   "cell_type": "code",
   "execution_count": 116,
   "metadata": {},
   "outputs": [],
   "source": [
    "params = {\n",
    "    'etree': {\n",
    "        'etree__n_estimators': [150, 200, 250],\n",
    "        'etree__max_features': ['auto', 'sqrt', 'log2', None],\n",
    "        'etree__min_samples_split': [4, 6, 8],\n",
    "        'etree__min_samples_leaf': [2, 3, 4]\n",
    "    }\n",
    "}"
   ]
  },
  {
   "cell_type": "markdown",
   "metadata": {},
   "source": [
    "We now use RandomizedSearchCV to select the optimal parameters for each classifier that produces the best mean cross-validated accuracy score based on the training dataset."
   ]
  },
  {
   "cell_type": "code",
   "execution_count": 117,
   "metadata": {
    "scrolled": true
   },
   "outputs": [
    {
     "name": "stdout",
     "output_type": "stream",
     "text": [
      "Fitting 5 folds for each of 10 candidates, totalling 50 fits\n"
     ]
    },
    {
     "name": "stderr",
     "output_type": "stream",
     "text": [
      "[Parallel(n_jobs=4)]: Using backend LokyBackend with 4 concurrent workers.\n",
      "[Parallel(n_jobs=4)]: Done  42 tasks      | elapsed: 61.4min\n",
      "[Parallel(n_jobs=4)]: Done  50 out of  50 | elapsed: 70.3min finished\n"
     ]
    },
    {
     "name": "stdout",
     "output_type": "stream",
     "text": [
      "Model:  etree\n",
      "Fitting time (h:m:s): 1:14:50.765381\n",
      "Best parameters: {'etree__n_estimators': 250, 'etree__min_samples_split': 4, 'etree__min_samples_leaf': 2, 'etree__max_features': None}\n",
      "Best accuracy cross validation score: 0.681098696461825\n",
      "Training dataset accuracy: 0.9127191346512495\n",
      "Validation dataset accuracy: 0.6486161251504212\n",
      "\n",
      "Wall time: 1h 14min 50s\n"
     ]
    }
   ],
   "source": [
    "%%time\n",
    "# initialise empty lists to store information later\n",
    "models = []\n",
    "parameters = []\n",
    "train_accuracy = []\n",
    "val_accuracy = []\n",
    "best_score = []\n",
    "train_roc_auc = []\n",
    "val_roc_auc = []\n",
    "sensitivity = []\n",
    "\n",
    "for k,v in estimators:\n",
    "    start = time.time()\n",
    "    pipe = Pipeline([(k,v)])\n",
    "    param = params[k]\n",
    "    randomsearch = RandomizedSearchCV(\n",
    "        n_iter=10, # we set a max. of 10 iterations\n",
    "        estimator=pipe,\n",
    "        random_state=42,\n",
    "        param_distributions=param,\n",
    "        verbose=1,\n",
    "        cv= 5,\n",
    "        # We limit the no. of jobs to ensure sufficient memory for successful execution\n",
    "        n_jobs=4,\n",
    "        return_train_score= True,\n",
    "        # RandomizedSearchCV will use best cross-validation accuracy score to determine best parameters\n",
    "        scoring = 'accuracy' \n",
    "    )\n",
    "\n",
    "    randomsearch.fit(X_train, y_train)\n",
    "    \n",
    "    model = randomsearch.best_estimator_\n",
    "    cv_score = randomsearch.cv_results_\n",
    "    best_params = randomsearch.best_params_\n",
    "\n",
    "    # predict y\n",
    "    y_pred_train = model.predict(X_train)\n",
    "    y_pred_val = model.predict(X_val)\n",
    "    \n",
    "    # print results\n",
    "    print (\"Model: \", k)\n",
    "    print (\"Fitting time (h:m:s): {}\".format(str(datetime.timedelta(seconds=time.time()-start))))\n",
    "    print (\"Best parameters:\", best_params)\n",
    "    print (\"Best accuracy cross validation score:\", randomsearch.best_score_)\n",
    "    print (\"Training dataset accuracy:\", accuracy_score(y_train,y_pred_train))\n",
    "    print (\"Validation dataset accuracy:\", accuracy_score(y_val,y_pred_val))\n",
    "    print (\"\")\n",
    "    \n",
    "    # append info to list\n",
    "    models.append(k)\n",
    "    best_score.append(randomsearch.best_score_)\n",
    "    parameters.append(best_params)\n",
    "    train_accuracy.append(accuracy_score(y_train,y_pred_train))\n",
    "    val_accuracy.append(accuracy_score(y_val,y_pred_val))"
   ]
  },
  {
   "cell_type": "code",
   "execution_count": null,
   "metadata": {
    "scrolled": false
   },
   "outputs": [],
   "source": [
    "# Produce a summary table of the tuned classifier(s)\n",
    "summary = pd.DataFrame({\n",
    "    'model': models,\n",
    "    'parameters': parameters,\n",
    "    'Best accuracy cross validation score': best_score,\n",
    "    'Training dataset accuracy': train_accuracy,\n",
    "    'Validation dataset accuracy': val_accuracy\n",
    "    })\n",
    "\n",
    "pd.set_option('display.max_colwidth', None)\n",
    "summary.sort_values('Validation dataset accuracy', ascending=False).reset_index(drop=True)"
   ]
  },
  {
   "cell_type": "markdown",
   "metadata": {},
   "source": [
    "## Confirmation of Alternative Model"
   ]
  },
  {
   "cell_type": "markdown",
   "metadata": {},
   "source": [
    "<div class=\"alert alert-block alert-info\">\n",
    "    \n",
    "Comparing the validation dataset accuracy, we have:\n",
    "    <ul>\n",
    "        <li> `0.56679` for FNN Classifier</li>\n",
    "        <li> `0.64862` for the Extra Trees Classifier</li>\n",
    "    </ul>\n",
    "<br>\n",
    "    Based on the highest score above, our best alternative model is therefore the <b>Extra Trees classifier</b> trained on <b>Word2Vec word embeddings</b> using the <b>Mean Embedding Vectorizer</b>.\n",
    "\n",
    "We note that the validation (dataset) accuracy of this model (`0.64862`) <b>has yielded a better result</b> than the baseline model (`0.66787`), which suggests that the alternative model is <b>less overfitted</b> than the baseline model. We now generate predictions based on the chosen alternative model so that we can obtain the Kaggle score in notebook 5.\n",
    "</div>"
   ]
  },
  {
   "cell_type": "markdown",
   "metadata": {},
   "source": [
    "## Further Exploration of Alternative Model"
   ]
  },
  {
   "cell_type": "code",
   "execution_count": 118,
   "metadata": {},
   "outputs": [],
   "source": [
    "# We instantiate the best classifier based on the best parameters found above\n",
    "alternative_clf = ExtraTreesClassifier(verbose=1, n_jobs=4, random_state=42, n_estimators=250,\n",
    "                                       min_samples_split=4, min_samples_leaf=2, max_features=None)"
   ]
  },
  {
   "cell_type": "code",
   "execution_count": 119,
   "metadata": {
    "scrolled": false
   },
   "outputs": [
    {
     "name": "stderr",
     "output_type": "stream",
     "text": [
      "[Parallel(n_jobs=4)]: Using backend ThreadingBackend with 4 concurrent workers.\n",
      "[Parallel(n_jobs=4)]: Done  42 tasks      | elapsed:   11.4s\n",
      "[Parallel(n_jobs=4)]: Done 192 tasks      | elapsed:   51.8s\n"
     ]
    },
    {
     "name": "stdout",
     "output_type": "stream",
     "text": [
      "Wall time: 1min 7s\n"
     ]
    },
    {
     "name": "stderr",
     "output_type": "stream",
     "text": [
      "[Parallel(n_jobs=4)]: Done 250 out of 250 | elapsed:  1.1min finished\n"
     ]
    },
    {
     "data": {
      "text/plain": [
       "ExtraTreesClassifier(bootstrap=False, ccp_alpha=0.0, class_weight=None,\n",
       "                     criterion='gini', max_depth=None, max_features=None,\n",
       "                     max_leaf_nodes=None, max_samples=None,\n",
       "                     min_impurity_decrease=0.0, min_impurity_split=None,\n",
       "                     min_samples_leaf=2, min_samples_split=4,\n",
       "                     min_weight_fraction_leaf=0.0, n_estimators=250, n_jobs=4,\n",
       "                     oob_score=False, random_state=42, verbose=1,\n",
       "                     warm_start=False)"
      ]
     },
     "execution_count": 119,
     "metadata": {},
     "output_type": "execute_result"
    }
   ],
   "source": [
    "%%time\n",
    "# Fit the best classifier on the training dataset\n",
    "alternative_clf.fit(X_train, y_train)"
   ]
  },
  {
   "cell_type": "markdown",
   "metadata": {},
   "source": [
    "### ROC Curve & Metrics"
   ]
  },
  {
   "cell_type": "code",
   "execution_count": 120,
   "metadata": {
    "scrolled": true
   },
   "outputs": [
    {
     "name": "stderr",
     "output_type": "stream",
     "text": [
      "[Parallel(n_jobs=4)]: Using backend ThreadingBackend with 4 concurrent workers.\n",
      "[Parallel(n_jobs=4)]: Done  42 tasks      | elapsed:    0.0s\n",
      "[Parallel(n_jobs=4)]: Done 192 tasks      | elapsed:    0.1s\n",
      "[Parallel(n_jobs=4)]: Done 250 out of 250 | elapsed:    0.1s finished\n"
     ]
    }
   ],
   "source": [
    "# Generate predictions for the validation data based on our baseline model\n",
    "y_val_pred = alternative_clf.predict(X_val)"
   ]
  },
  {
   "cell_type": "code",
   "execution_count": 121,
   "metadata": {},
   "outputs": [],
   "source": [
    "# Binarize the output\n",
    "y_train_binarized = label_binarize(y_train, classes=list(np.unique(y)))\n",
    "y_val_pred_binarized = label_binarize(y_val_pred, classes=list(np.unique(y)))\n",
    "n_classes = len(np.unique(y))"
   ]
  },
  {
   "cell_type": "code",
   "execution_count": 122,
   "metadata": {},
   "outputs": [
    {
     "name": "stdout",
     "output_type": "stream",
     "text": [
      "Wall time: 13min 14s\n"
     ]
    }
   ],
   "source": [
    "%%time\n",
    "# We obtain the distances of each sample from the decision boundary for each class\n",
    "classifier = OneVsRestClassifier(svm.SVC(kernel='linear', probability=True,\n",
    "                                 random_state=42, verbose=1), n_jobs=4)\n",
    "y_score = classifier.fit(X_train, y_train_binarized).decision_function(X_val)"
   ]
  },
  {
   "cell_type": "code",
   "execution_count": 123,
   "metadata": {},
   "outputs": [],
   "source": [
    "# Compute ROC curve and ROC area for each class\n",
    "fpr = dict()\n",
    "tpr = dict()\n",
    "roc_auc = dict()\n",
    "for i in range(n_classes):\n",
    "    # we compare our predicted labels for the validation dataset and the actual validation dataset labels\n",
    "    fpr[i], tpr[i], _ = roc_curve(y_val_pred_binarized[:, i], y_score[:, i])\n",
    "    roc_auc[i] = auc(fpr[i], tpr[i])\n",
    "\n",
    "# Compute micro-average ROC curve and ROC area\n",
    "fpr[\"micro\"], tpr[\"micro\"], _ = roc_curve(y_val_pred_binarized.ravel(), y_score.ravel())\n",
    "roc_auc[\"micro\"] = auc(fpr[\"micro\"], tpr[\"micro\"])"
   ]
  },
  {
   "cell_type": "markdown",
   "metadata": {},
   "source": [
    "We plot ROC curves for all the 9 classes."
   ]
  },
  {
   "cell_type": "code",
   "execution_count": 124,
   "metadata": {},
   "outputs": [
    {
     "data": {
      "image/png": "[encoded data removed]",
      "text/plain": [
       "<Figure size 864x576 with 1 Axes>"
      ]
     },
     "metadata": {
      "image/png": {
       "height": 495,
       "width": 809
      },
      "needs_background": "light"
     },
     "output_type": "display_data"
    }
   ],
   "source": [
    "# First aggregate all false positive rates\n",
    "all_fpr = np.unique(np.concatenate([fpr[i] for i in range(n_classes)]))\n",
    "\n",
    "# Then interpolate all ROC curves at this points\n",
    "mean_tpr = np.zeros_like(all_fpr)\n",
    "for i in range(n_classes):\n",
    "    mean_tpr += np.interp(all_fpr, fpr[i], tpr[i])\n",
    "\n",
    "# Finally average it and compute AUC\n",
    "mean_tpr /= n_classes\n",
    "\n",
    "fpr[\"macro\"] = all_fpr\n",
    "tpr[\"macro\"] = mean_tpr\n",
    "roc_auc[\"macro\"] = auc(fpr[\"macro\"], tpr[\"macro\"])\n",
    "\n",
    "# Plot all ROC curves\n",
    "plt.figure(figsize=(12,8))\n",
    "plt.plot(fpr[\"micro\"], tpr[\"micro\"],\n",
    "         label='micro-average ROC curve (area = {0:0.2f})'\n",
    "               ''.format(roc_auc[\"micro\"]),\n",
    "         color='deeppink', linestyle=':', linewidth=4)\n",
    "\n",
    "plt.plot(fpr[\"macro\"], tpr[\"macro\"],\n",
    "         label='macro-average ROC curve (area = {0:0.2f})'\n",
    "               ''.format(roc_auc[\"macro\"]),\n",
    "         color='navy', linestyle=':', linewidth=4)\n",
    "\n",
    "lw=2\n",
    "colors = cycle(['rosybrown', 'firebrick', 'sienna', 'olivedrab', 'darkgreen',\\\n",
    "                'lightseagreen', 'darkturquoise', 'b', 'darkorange'])\n",
    "for i, color in zip(range(n_classes), colors):\n",
    "    plt.plot(fpr[i], tpr[i], color=color, lw=lw,\n",
    "             label='ROC curve of class {0} (area = {1:0.2f})'\n",
    "             ''.format(i+1, roc_auc[i]))\n",
    "\n",
    "plt.plot([0, 1], [0, 1], 'k--', lw=lw)\n",
    "plt.xlim([0.0, 1.0])\n",
    "plt.ylim([0.0, 1.05])\n",
    "plt.xlabel('False Positive Rate')\n",
    "plt.ylabel('True Positive Rate')\n",
    "plt.title('ROC Curve for Multiple Classes')\n",
    "plt.legend(loc=\"lower right\")\n",
    "plt.show()"
   ]
  },
  {
   "cell_type": "markdown",
   "metadata": {},
   "source": [
    "We observe above that the AUC scores for all the 9 classes are very high, even though the classes in the original training dataset were highly imbalanced."
   ]
  },
  {
   "cell_type": "code",
   "execution_count": 125,
   "metadata": {},
   "outputs": [
    {
     "name": "stdout",
     "output_type": "stream",
     "text": [
      "Wall time: 1min 10s\n"
     ]
    }
   ],
   "source": [
    "%%time\n",
    "y_prob = classifier.predict_proba(X_val)"
   ]
  },
  {
   "cell_type": "code",
   "execution_count": 126,
   "metadata": {
    "scrolled": false
   },
   "outputs": [
    {
     "name": "stdout",
     "output_type": "stream",
     "text": [
      "One-vs-One ROC AUC scores for validation dataset:\n",
      "0.926532 (macro),\n",
      "0.915380 (weighted by prevalence)\n",
      "One-vs-Rest ROC AUC scores for validation dataset:\n",
      "0.926532 (macro),\n",
      "0.915380 (weighted by prevalence)\n"
     ]
    }
   ],
   "source": [
    "# Calculate the average unweighted AUC of all pairwise combinations of classes (one-vs-one);\n",
    "# insensitive to class imbalance\n",
    "macro_roc_auc_ovo = roc_auc_score(y_val_pred_binarized, y_prob, multi_class=\"ovo\",\n",
    "                                  average=\"macro\")\n",
    "\n",
    "# Calculate the weighted average AUC of all pairwise combinations of classes (one-vs-one);\n",
    "# sensitive to class imbalance by considering the no. of true instances for each label\n",
    "weighted_roc_auc_ovo = roc_auc_score(y_val_pred_binarized, y_prob, multi_class=\"ovo\",\n",
    "                                     average=\"weighted\")\n",
    "\n",
    "# Caclulate the unweighted AUC of each class against the rest;\n",
    "# still sensitive to class imbalance because the imbalance affects the composition of each of the ‘rest’ groupings\n",
    "macro_roc_auc_ovr = roc_auc_score(y_val_pred_binarized, y_prob, multi_class=\"ovr\",\n",
    "                                  average=\"macro\")\n",
    "\n",
    "# Caclulate the weighted AUC of each class against the rest; sensitive to class imbalance\n",
    "weighted_roc_auc_ovr = roc_auc_score(y_val_pred_binarized, y_prob, multi_class=\"ovr\",\n",
    "                                     average=\"weighted\")\n",
    "\n",
    "print(\"One-vs-One ROC AUC scores for validation dataset:\\n{:.6f} (macro),\\n{:.6f} \"\n",
    "      \"(weighted by prevalence)\"\n",
    "      .format(macro_roc_auc_ovo, weighted_roc_auc_ovo))\n",
    "print(\"One-vs-Rest ROC AUC scores for validation dataset:\\n{:.6f} (macro),\\n{:.6f} \"\n",
    "      \"(weighted by prevalence)\"\n",
    "      .format(macro_roc_auc_ovr, weighted_roc_auc_ovr))"
   ]
  },
  {
   "cell_type": "markdown",
   "metadata": {},
   "source": [
    "## Evaluation of Alternative Model vs Baseline Model"
   ]
  },
  {
   "cell_type": "markdown",
   "metadata": {},
   "source": [
    "<div class=\"alert alert-block alert-info\">\n",
    "    \n",
    "(To be written)\n",
    "    \n",
    "</div>"
   ]
  },
  {
   "cell_type": "markdown",
   "metadata": {},
   "source": [
    "## Data Export (for Kaggle Submission)"
   ]
  },
  {
   "cell_type": "code",
   "execution_count": null,
   "metadata": {
    "scrolled": true
   },
   "outputs": [],
   "source": [
    "y_test_pred = alternative_clf.predict(X_test)"
   ]
  },
  {
   "cell_type": "code",
   "execution_count": null,
   "metadata": {},
   "outputs": [],
   "source": [
    "y_test_pred.shape"
   ]
  },
  {
   "cell_type": "code",
   "execution_count": null,
   "metadata": {},
   "outputs": [],
   "source": [
    "# Restore the 'id' column since we need this for the Kaggle submission\n",
    "test_pred = pd.concat([test['id'], pd.DataFrame(y_test_pred, columns=['class'])], axis=1)"
   ]
  },
  {
   "cell_type": "code",
   "execution_count": null,
   "metadata": {},
   "outputs": [],
   "source": [
    "# Verify that we have a mix of predictions for variation classes\n",
    "test_pred['class'].value_counts()"
   ]
  },
  {
   "cell_type": "code",
   "execution_count": null,
   "metadata": {
    "scrolled": true
   },
   "outputs": [],
   "source": [
    "test_pred.head()"
   ]
  },
  {
   "cell_type": "code",
   "execution_count": null,
   "metadata": {},
   "outputs": [],
   "source": [
    "# We export the predictions\n",
    "test_pred.to_csv(\"../assets/test_pred.csv\", index=False)"
   ]
  },
  {
   "cell_type": "code",
   "execution_count": null,
   "metadata": {},
   "outputs": [],
   "source": []
  }
 ],
 "metadata": {
  "kernelspec": {
   "display_name": "Python 3",
   "language": "python",
   "name": "python3"
  },
  "language_info": {
   "codemirror_mode": {
    "name": "ipython",
    "version": 3
   },
   "file_extension": ".py",
   "mimetype": "text/x-python",
   "name": "python",
   "nbconvert_exporter": "python",
   "pygments_lexer": "ipython3",
   "version": "3.7.4"
  }
 },
 "nbformat": 4,
 "nbformat_minor": 2
}
