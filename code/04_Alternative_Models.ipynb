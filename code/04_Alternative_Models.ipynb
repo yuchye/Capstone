{
 "cells": [
  {
   "cell_type": "markdown",
   "metadata": {},
   "source": [
    "# Capstone Project: Classifying clinically actionable genetic mutations\n",
    "\n",
    "***"
   ]
  },
  {
   "cell_type": "markdown",
   "metadata": {},
   "source": [
    "## Notebook 4: Alternative Models"
   ]
  },
  {
   "cell_type": "markdown",
   "metadata": {},
   "source": [
    "This notebook contains code to explore alternative models to address the classification problem."
   ]
  },
  {
   "cell_type": "markdown",
   "metadata": {},
   "source": [
    "### Contents\n",
    "\n",
    "- [Importing of Libraries](#Importing-of-Libraries)\n",
    "- [Data Import](#Data-Import)"
   ]
  },
  {
   "cell_type": "markdown",
   "metadata": {},
   "source": [
    "## Importing of Libraries"
   ]
  },
  {
   "cell_type": "code",
   "execution_count": 79,
   "metadata": {},
   "outputs": [],
   "source": [
    "import pandas as pd\n",
    "import numpy as np\n",
    "\n",
    "from tabulate import tabulate\n",
    "from gensim.models.word2vec import Word2Vec\n",
    "from collections import Counter, defaultdict\n",
    "\n",
    "TRAIN_SET_PATH = \"../assets/train_prep.csv\"\n",
    "\n",
    "GLOVE_6B_50D_PATH = \"../assets/glove.6B.50d.txt\"\n",
    "GLOVE_6B_300D_PATH = \"../assets/glove.6B.300d.txt\"\n",
    "encoding=\"utf-8\"\n",
    "\n",
    "BERT_INIT_CHKPNT = \"../assets/cased_L-12_H-768_A-12/bert.model.ckpt.index\"\n",
    "BERT_VOCAB = \"../assets/cased_L-12_H-768_A-12/vocab.txt\"\n",
    "BERT_CONFIG = \"../assets/cased_L-12_H-768_A-12/bert_config.json\"\n",
    "\n",
    "from sklearn import linear_model, metrics, svm\n",
    "from sklearn.pipeline import Pipeline\n",
    "from sklearn.model_selection import train_test_split, GridSearchCV,\\\n",
    "    cross_val_score, RandomizedSearchCV, StratifiedShuffleSplit\n",
    "from sklearn.linear_model import LogisticRegression\n",
    "from sklearn.feature_extraction.text import CountVectorizer, TfidfVectorizer, HashingVectorizer\n",
    "from sklearn.ensemble import RandomForestClassifier, ExtraTreesClassifier, AdaBoostClassifier\n",
    "from sklearn.neighbors import KNeighborsClassifier\n",
    "from sklearn.tree import DecisionTreeClassifier\n",
    "from sklearn.naive_bayes import BernoulliNB, MultinomialNB\n",
    "from sklearn.svm import SVC\n",
    "from sklearn.preprocessing import StandardScaler, label_binarize, MinMaxScaler\n",
    "from sklearn.utils import resample\n",
    "from sklearn.metrics import accuracy_score, roc_curve, auc, roc_auc_score, classification_report\n",
    "from sklearn.multiclass import OneVsRestClassifier\n",
    "\n",
    "from imblearn.over_sampling import SMOTE\n",
    "\n",
    "import matplotlib\n",
    "import matplotlib.pyplot as plt\n",
    "import seaborn as sns\n",
    "from itertools import cycle\n",
    "plt.style.use('fivethirtyeight')\n",
    "\n",
    "import time\n",
    "import datetime\n",
    "import pickle\n",
    "import os\n",
    "\n",
    "import nltk\n",
    "from nltk.tokenize import RegexpTokenizer\n",
    "import regex as re\n",
    "from nltk.stem import WordNetLemmatizer\n",
    "from nltk.stem.porter import PorterStemmer\n",
    "from nltk.corpus import stopwords\n",
    "\n",
    "from keras.models import Sequential\n",
    "from keras.layers import Dense, Dropout, GRU, LSTM, Embedding, SpatialDropout1D, Flatten\n",
    "from keras.utils import to_categorical\n",
    "from keras.wrappers.scikit_learn import KerasClassifier\n",
    "from keras import optimizers\n",
    "from keras.callbacks import EarlyStopping\n",
    "from keras.preprocessing.sequence import pad_sequences\n",
    "\n",
    "import torch\n",
    "import transformers as ppb\n",
    "import warnings\n",
    "warnings.filterwarnings('ignore')\n",
    "# import tensorflow as tf\n",
    "import tensorflow.compat.v1 as tf\n",
    "#To make tf 2.0 compatible with tf1.0 code, we disable the tf2.0 functionalities\n",
    "tf.disable_eager_execution()\n",
    "import tensorflow_hub as hub\n",
    "\n",
    "from wordcloud import WordCloud\n",
    "\n",
    "import bert\n",
    "from bert import run_classifier\n",
    "from bert import optimization\n",
    "from bert import tokenization\n",
    "from bert import modeling\n",
    "\n",
    "%config InlineBackend.figure_format = 'retina'\n",
    "%matplotlib inline\n",
    "\n",
    "# Initialise random seeed for more consistent results\n",
    "from numpy.random import seed\n",
    "seed(42)"
   ]
  },
  {
   "cell_type": "markdown",
   "metadata": {},
   "source": [
    "## Data Import"
   ]
  },
  {
   "cell_type": "code",
   "execution_count": 2,
   "metadata": {},
   "outputs": [],
   "source": [
    "# Import 'train_prep' and 'test_prep' datasets\n",
    "# We use the 'keep_default_na' option to False to ensure that pandas does not re-introduce missing values\n",
    "train = pd.read_csv(\"../assets/train_prep.csv\", keep_default_na=False)\n",
    "test = pd.read_csv(\"../assets/test_prep.csv\", keep_default_na=False)"
   ]
  },
  {
   "cell_type": "code",
   "execution_count": 3,
   "metadata": {},
   "outputs": [
    {
     "data": {
      "text/plain": [
       "((3321, 4325), (986, 4324))"
      ]
     },
     "execution_count": 3,
     "metadata": {},
     "output_type": "execute_result"
    }
   ],
   "source": [
    "train.shape, test.shape"
   ]
  },
  {
   "cell_type": "code",
   "execution_count": 4,
   "metadata": {},
   "outputs": [
    {
     "data": {
      "text/html": [
       "<div>\n",
       "<style scoped>\n",
       "    .dataframe tbody tr th:only-of-type {\n",
       "        vertical-align: middle;\n",
       "    }\n",
       "\n",
       "    .dataframe tbody tr th {\n",
       "        vertical-align: top;\n",
       "    }\n",
       "\n",
       "    .dataframe thead th {\n",
       "        text-align: right;\n",
       "    }\n",
       "</style>\n",
       "<table border=\"1\" class=\"dataframe\">\n",
       "  <thead>\n",
       "    <tr style=\"text-align: right;\">\n",
       "      <th></th>\n",
       "      <th>id</th>\n",
       "      <th>class</th>\n",
       "      <th>text</th>\n",
       "      <th>gene_ABCB11</th>\n",
       "      <th>gene_ABCC6</th>\n",
       "      <th>gene_ABL1</th>\n",
       "      <th>gene_ACVR1</th>\n",
       "      <th>gene_ADAMTS13</th>\n",
       "      <th>gene_ADGRG1</th>\n",
       "      <th>gene_AGO2</th>\n",
       "      <th>...</th>\n",
       "      <th>variation_YAP1-TFE3 Fusion</th>\n",
       "      <th>variation_YWHAE-ROS1 Fusion</th>\n",
       "      <th>variation_ZC3H7B-BCOR Fusion</th>\n",
       "      <th>variation_ZNF198-FGFR1 Fusion</th>\n",
       "      <th>variation_null1313Y</th>\n",
       "      <th>variation_null189Y</th>\n",
       "      <th>variation_null262Q</th>\n",
       "      <th>variation_null267R</th>\n",
       "      <th>variation_null399R</th>\n",
       "      <th>variation_p61BRAF</th>\n",
       "    </tr>\n",
       "  </thead>\n",
       "  <tbody>\n",
       "    <tr>\n",
       "      <th>0</th>\n",
       "      <td>0</td>\n",
       "      <td>1</td>\n",
       "      <td>cyclin dependent kinase cdks regulate variety ...</td>\n",
       "      <td>0</td>\n",
       "      <td>0</td>\n",
       "      <td>0</td>\n",
       "      <td>0</td>\n",
       "      <td>0</td>\n",
       "      <td>0</td>\n",
       "      <td>0</td>\n",
       "      <td>...</td>\n",
       "      <td>0</td>\n",
       "      <td>0</td>\n",
       "      <td>0</td>\n",
       "      <td>0</td>\n",
       "      <td>0</td>\n",
       "      <td>0</td>\n",
       "      <td>0</td>\n",
       "      <td>0</td>\n",
       "      <td>0</td>\n",
       "      <td>0</td>\n",
       "    </tr>\n",
       "    <tr>\n",
       "      <th>1</th>\n",
       "      <td>1</td>\n",
       "      <td>2</td>\n",
       "      <td>abstract background non small lung nsclc heter...</td>\n",
       "      <td>0</td>\n",
       "      <td>0</td>\n",
       "      <td>0</td>\n",
       "      <td>0</td>\n",
       "      <td>0</td>\n",
       "      <td>0</td>\n",
       "      <td>0</td>\n",
       "      <td>...</td>\n",
       "      <td>0</td>\n",
       "      <td>0</td>\n",
       "      <td>0</td>\n",
       "      <td>0</td>\n",
       "      <td>0</td>\n",
       "      <td>0</td>\n",
       "      <td>0</td>\n",
       "      <td>0</td>\n",
       "      <td>0</td>\n",
       "      <td>0</td>\n",
       "    </tr>\n",
       "  </tbody>\n",
       "</table>\n",
       "<p>2 rows × 4325 columns</p>\n",
       "</div>"
      ],
      "text/plain": [
       "   id  class                                               text  gene_ABCB11  \\\n",
       "0   0      1  cyclin dependent kinase cdks regulate variety ...            0   \n",
       "1   1      2  abstract background non small lung nsclc heter...            0   \n",
       "\n",
       "   gene_ABCC6  gene_ABL1  gene_ACVR1  gene_ADAMTS13  gene_ADGRG1  gene_AGO2  \\\n",
       "0           0          0           0              0            0          0   \n",
       "1           0          0           0              0            0          0   \n",
       "\n",
       "   ...  variation_YAP1-TFE3 Fusion  variation_YWHAE-ROS1 Fusion  \\\n",
       "0  ...                           0                            0   \n",
       "1  ...                           0                            0   \n",
       "\n",
       "   variation_ZC3H7B-BCOR Fusion  variation_ZNF198-FGFR1 Fusion  \\\n",
       "0                             0                              0   \n",
       "1                             0                              0   \n",
       "\n",
       "   variation_null1313Y  variation_null189Y  variation_null262Q  \\\n",
       "0                    0                   0                   0   \n",
       "1                    0                   0                   0   \n",
       "\n",
       "   variation_null267R  variation_null399R  variation_p61BRAF  \n",
       "0                   0                   0                  0  \n",
       "1                   0                   0                  0  \n",
       "\n",
       "[2 rows x 4325 columns]"
      ]
     },
     "execution_count": 4,
     "metadata": {},
     "output_type": "execute_result"
    }
   ],
   "source": [
    "train.head(2)"
   ]
  },
  {
   "cell_type": "code",
   "execution_count": 5,
   "metadata": {},
   "outputs": [
    {
     "data": {
      "text/html": [
       "<div>\n",
       "<style scoped>\n",
       "    .dataframe tbody tr th:only-of-type {\n",
       "        vertical-align: middle;\n",
       "    }\n",
       "\n",
       "    .dataframe tbody tr th {\n",
       "        vertical-align: top;\n",
       "    }\n",
       "\n",
       "    .dataframe thead th {\n",
       "        text-align: right;\n",
       "    }\n",
       "</style>\n",
       "<table border=\"1\" class=\"dataframe\">\n",
       "  <thead>\n",
       "    <tr style=\"text-align: right;\">\n",
       "      <th></th>\n",
       "      <th>id</th>\n",
       "      <th>text</th>\n",
       "      <th>gene_ABCB11</th>\n",
       "      <th>gene_ABCC6</th>\n",
       "      <th>gene_ABL1</th>\n",
       "      <th>gene_ACVR1</th>\n",
       "      <th>gene_ADAMTS13</th>\n",
       "      <th>gene_ADGRG1</th>\n",
       "      <th>gene_AGO2</th>\n",
       "      <th>gene_AGXT</th>\n",
       "      <th>...</th>\n",
       "      <th>variation_YAP1-TFE3 Fusion</th>\n",
       "      <th>variation_YWHAE-ROS1 Fusion</th>\n",
       "      <th>variation_ZC3H7B-BCOR Fusion</th>\n",
       "      <th>variation_ZNF198-FGFR1 Fusion</th>\n",
       "      <th>variation_null1313Y</th>\n",
       "      <th>variation_null189Y</th>\n",
       "      <th>variation_null262Q</th>\n",
       "      <th>variation_null267R</th>\n",
       "      <th>variation_null399R</th>\n",
       "      <th>variation_p61BRAF</th>\n",
       "    </tr>\n",
       "  </thead>\n",
       "  <tbody>\n",
       "    <tr>\n",
       "      <th>0</th>\n",
       "      <td>1</td>\n",
       "      <td>incidence breast increase china recent decade ...</td>\n",
       "      <td>0</td>\n",
       "      <td>0</td>\n",
       "      <td>0</td>\n",
       "      <td>0</td>\n",
       "      <td>0</td>\n",
       "      <td>0</td>\n",
       "      <td>0</td>\n",
       "      <td>0</td>\n",
       "      <td>...</td>\n",
       "      <td>0</td>\n",
       "      <td>0</td>\n",
       "      <td>0</td>\n",
       "      <td>0</td>\n",
       "      <td>0</td>\n",
       "      <td>0</td>\n",
       "      <td>0</td>\n",
       "      <td>0</td>\n",
       "      <td>0</td>\n",
       "      <td>0</td>\n",
       "    </tr>\n",
       "    <tr>\n",
       "      <th>1</th>\n",
       "      <td>2</td>\n",
       "      <td>unselected series colorectal carcinoma stratif...</td>\n",
       "      <td>0</td>\n",
       "      <td>0</td>\n",
       "      <td>0</td>\n",
       "      <td>0</td>\n",
       "      <td>0</td>\n",
       "      <td>0</td>\n",
       "      <td>0</td>\n",
       "      <td>0</td>\n",
       "      <td>...</td>\n",
       "      <td>0</td>\n",
       "      <td>0</td>\n",
       "      <td>0</td>\n",
       "      <td>0</td>\n",
       "      <td>0</td>\n",
       "      <td>0</td>\n",
       "      <td>0</td>\n",
       "      <td>0</td>\n",
       "      <td>0</td>\n",
       "      <td>0</td>\n",
       "    </tr>\n",
       "  </tbody>\n",
       "</table>\n",
       "<p>2 rows × 4324 columns</p>\n",
       "</div>"
      ],
      "text/plain": [
       "   id                                               text  gene_ABCB11  \\\n",
       "0   1  incidence breast increase china recent decade ...            0   \n",
       "1   2  unselected series colorectal carcinoma stratif...            0   \n",
       "\n",
       "   gene_ABCC6  gene_ABL1  gene_ACVR1  gene_ADAMTS13  gene_ADGRG1  gene_AGO2  \\\n",
       "0           0          0           0              0            0          0   \n",
       "1           0          0           0              0            0          0   \n",
       "\n",
       "   gene_AGXT  ...  variation_YAP1-TFE3 Fusion  variation_YWHAE-ROS1 Fusion  \\\n",
       "0          0  ...                           0                            0   \n",
       "1          0  ...                           0                            0   \n",
       "\n",
       "   variation_ZC3H7B-BCOR Fusion  variation_ZNF198-FGFR1 Fusion  \\\n",
       "0                             0                              0   \n",
       "1                             0                              0   \n",
       "\n",
       "   variation_null1313Y  variation_null189Y  variation_null262Q  \\\n",
       "0                    0                   0                   0   \n",
       "1                    0                   0                   0   \n",
       "\n",
       "   variation_null267R  variation_null399R  variation_p61BRAF  \n",
       "0                   0                   0                  0  \n",
       "1                   0                   0                  0  \n",
       "\n",
       "[2 rows x 4324 columns]"
      ]
     },
     "execution_count": 5,
     "metadata": {},
     "output_type": "execute_result"
    }
   ],
   "source": [
    "test.head(2)"
   ]
  },
  {
   "cell_type": "markdown",
   "metadata": {},
   "source": [
    "## Preparation for Modelling"
   ]
  },
  {
   "cell_type": "code",
   "execution_count": 6,
   "metadata": {},
   "outputs": [],
   "source": [
    "# Splitting of data into Predictor (X) and Target (y) Dataframes\n",
    "X = train[[i for i in train.columns if i not in ['id', 'class']]]\n",
    "y = train['class']"
   ]
  },
  {
   "cell_type": "code",
   "execution_count": 7,
   "metadata": {
    "scrolled": false
   },
   "outputs": [
    {
     "data": {
      "text/plain": [
       "((3321, 4323), (3321,))"
      ]
     },
     "execution_count": 7,
     "metadata": {},
     "output_type": "execute_result"
    }
   ],
   "source": [
    "X.shape, y.shape"
   ]
  },
  {
   "cell_type": "code",
   "execution_count": 8,
   "metadata": {},
   "outputs": [],
   "source": [
    "# Save copies of the original X and y dataframes so that we can try different word embeddings as needed\n",
    "X_original = X.copy()\n",
    "y_original = y.copy()"
   ]
  },
  {
   "cell_type": "code",
   "execution_count": 9,
   "metadata": {},
   "outputs": [],
   "source": [
    "X_test = test.drop(['id'], axis=1)"
   ]
  },
  {
   "cell_type": "code",
   "execution_count": 10,
   "metadata": {},
   "outputs": [
    {
     "data": {
      "text/plain": [
       "(986, 4323)"
      ]
     },
     "execution_count": 10,
     "metadata": {},
     "output_type": "execute_result"
    }
   ],
   "source": [
    "X_test.shape"
   ]
  },
  {
   "cell_type": "code",
   "execution_count": 11,
   "metadata": {},
   "outputs": [
    {
     "name": "stdout",
     "output_type": "stream",
     "text": [
      "Wall time: 6.17 s\n"
     ]
    }
   ],
   "source": [
    "%%time\n",
    "# For convenience, we create an array called 'X_all_text that contains\n",
    "# all the text from our training set, across all samples\n",
    "X_all_text = []\n",
    "for text in X['text']:\n",
    "    X_all_text.append(text.split())\n",
    "X_all_text = np.array(X_all_text)"
   ]
  },
  {
   "cell_type": "code",
   "execution_count": 12,
   "metadata": {},
   "outputs": [
    {
     "data": {
      "text/plain": [
       "(3321,)"
      ]
     },
     "execution_count": 12,
     "metadata": {},
     "output_type": "execute_result"
    }
   ],
   "source": [
    "X_all_text.shape"
   ]
  },
  {
   "cell_type": "code",
   "execution_count": 13,
   "metadata": {},
   "outputs": [],
   "source": [
    "# Create a set of all the unique words from our taining set, across all samples\n",
    "X_unique_words = set()\n",
    "for row in range(len(X_all_text)):\n",
    "    X_unique_words.update(X_all_text[row])"
   ]
  },
  {
   "cell_type": "code",
   "execution_count": 14,
   "metadata": {},
   "outputs": [
    {
     "data": {
      "text/plain": [
       "81312"
      ]
     },
     "execution_count": 14,
     "metadata": {},
     "output_type": "execute_result"
    }
   ],
   "source": [
    "len(X_unique_words)"
   ]
  },
  {
   "cell_type": "code",
   "execution_count": 15,
   "metadata": {},
   "outputs": [],
   "source": [
    "max_phrase_len = 0\n",
    "for row in range(len(X_all_text)):\n",
    "    if len(X_all_text[row]) > max_phrase_len:\n",
    "        max_phrase_len = len(X_all_text[row])"
   ]
  },
  {
   "cell_type": "code",
   "execution_count": 16,
   "metadata": {},
   "outputs": [
    {
     "data": {
      "text/plain": [
       "44019"
      ]
     },
     "execution_count": 16,
     "metadata": {},
     "output_type": "execute_result"
    }
   ],
   "source": [
    "max_phrase_len"
   ]
  },
  {
   "cell_type": "markdown",
   "metadata": {},
   "source": [
    "## Exploring alternative word embeddings"
   ]
  },
  {
   "cell_type": "markdown",
   "metadata": {},
   "source": [
    "In this notebook, we evaluate various word embeddings other than the ones created using the standard TfidfVectorizer as used in the baseline model."
   ]
  },
  {
   "cell_type": "markdown",
   "metadata": {},
   "source": [
    "### Evaluation Approach"
   ]
  },
  {
   "cell_type": "markdown",
   "metadata": {},
   "source": [
    "To manage the overall processing power needed to find the best alternative model, we seek to find the best alternative model based on the folowing steps:\n",
    "1. Find an alternative set of word embeddings but use a fixed classifier (Extra Trees Classifier) to measure their performance against our validation dataset\n",
    "2. Find the best classifier for our chosen word embeddings\n",
    "\n",
    "For **Step 1** above, we explore three static word embeddings to see if we can get better classification results:\n",
    "- Global Vectors for Word Representation (GloVe) pre-trained word embeddings created by the [Stanford Natural Language Processing Group](https://nlp.stanford.edu/) and available at https://nlp.stanford.edu/projects/glove/:\n",
    "    - A smaller set of GloVe embeddings (which we call **'glove_small'**) that are based on based on Wikipedia 2015 and Gigaword 5th Edition (https://catalog.ldc.upenn.edu/LDC2011T07)\n",
    "    - A larger set of GloVe embeddings (which we call **'glove_big'**) that are based on Common Crawl (https://commoncrawl.org/)\n",
    "- Our own word embeddings created by training Word2Vec (from nltk) on all the given text in the training dataset, which we call **'w2v'**.\n",
    "\n",
    "For **Step 2** above, we evaluate the performance of a Forward Neural Network (FNN) and an Extra Trees Classifier. For both classifiers, we use RandomisedSearchCV to find the set of optimal parameters to give the best cross-validated score based on the training dataset."
   ]
  },
  {
   "cell_type": "markdown",
   "metadata": {},
   "source": [
    "### Loading of pre-trained word embeddings based on GloVe"
   ]
  },
  {
   "cell_type": "markdown",
   "metadata": {},
   "source": [
    "We now load the two pre-trained word embeddings (based on GloVe) and store them as dictionary objects 'glove_small' and 'glove_big'."
   ]
  },
  {
   "cell_type": "code",
   "execution_count": 17,
   "metadata": {},
   "outputs": [
    {
     "name": "stdout",
     "output_type": "stream",
     "text": [
      "Wall time: 36.5 s\n"
     ]
    }
   ],
   "source": [
    "%%time\n",
    "import struct \n",
    "\n",
    "# glove_small keys are bounded by what is common to both the X_all_text and the glove file\n",
    "glove_small = {}\n",
    "all_words = set(w for words in X_all_text for w in words)\n",
    "with open(GLOVE_6B_50D_PATH, \"rb\") as infile:\n",
    "    for line in infile:\n",
    "        parts = line.split()\n",
    "        word = parts[0].decode(encoding)\n",
    "        if (word in all_words):\n",
    "            nums=np.array(parts[1:], dtype=np.float32)\n",
    "            glove_small[word] = nums\n",
    "\n",
    "# glove_big keys are bounded by what is common to both the X_all_text and the glove file\n",
    "glove_big = {}\n",
    "with open(GLOVE_6B_300D_PATH, \"rb\") as infile:\n",
    "    for line in infile:\n",
    "        parts = line.split()\n",
    "        word = parts[0].decode(encoding)\n",
    "        if word in all_words:\n",
    "            nums=np.array(parts[1:], dtype=np.float32)\n",
    "            glove_big[word] = nums"
   ]
  },
  {
   "cell_type": "markdown",
   "metadata": {},
   "source": [
    "### Loading of ELMo word embeddings based on training dataset vocabulary"
   ]
  },
  {
   "cell_type": "markdown",
   "metadata": {},
   "source": [
    "We load the ELMo module (version 3) from TensorFlow Hub. The ELMo module computes contextualized word representations using character-based word representations and bidirectional LSTMs. \n",
    "\n",
    "The module supports inputs both in the form of raw text strings or tokenized text strings. It outputs fixed embeddings at each LSTM layer, a learnable aggregation of the 3 layers, and a fixed mean-pooled vector representation of the input."
   ]
  },
  {
   "cell_type": "code",
   "execution_count": 32,
   "metadata": {},
   "outputs": [
    {
     "name": "stderr",
     "output_type": "stream",
     "text": [
      "INFO:absl:Using C:\\Users\\yuchy\\AppData\\Local\\Temp\\tfhub_modules to cache modules.\n"
     ]
    }
   ],
   "source": [
    "elmo = hub.Module(\"https://tfhub.dev/google/elmo/3\", trainable=True)"
   ]
  },
  {
   "cell_type": "markdown",
   "metadata": {},
   "source": [
    "We define a function that will extract the ELMo vectors of all the words in a single sample and take their mean."
   ]
  },
  {
   "cell_type": "code",
   "execution_count": 33,
   "metadata": {},
   "outputs": [],
   "source": [
    "def elmo_vectors(x):\n",
    "    embeddings = elmo(x, signature=\"default\", as_dict=True)[\"elmo\"]\n",
    "    with tf.Session() as sess:\n",
    "        sess.run(tf.global_variables_initializer())\n",
    "        sess.run(tf.tables_initializer())\n",
    "        # return average of ELMo features\n",
    "        return sess.run(tf.reduce_mean(embeddings,1))"
   ]
  },
  {
   "cell_type": "markdown",
   "metadata": {},
   "source": [
    "We now call the function for each sample text in the X_all_text list we have created earlier. Due to memory constraints, we cannot store the entire set of ELMo vectors in memory. Instead, we write them to disk using the Pickle serialisation library using the most efficient Pickle serialisation protocol available. "
   ]
  },
  {
   "cell_type": "code",
   "execution_count": 34,
   "metadata": {
    "scrolled": true
   },
   "outputs": [
    {
     "name": "stdout",
     "output_type": "stream",
     "text": [
      "INFO:tensorflow:Saver not created because there are no variables in the graph to restore\n"
     ]
    },
    {
     "name": "stderr",
     "output_type": "stream",
     "text": [
      "INFO:tensorflow:Saver not created because there are no variables in the graph to restore\n"
     ]
    },
    {
     "name": "stdout",
     "output_type": "stream",
     "text": [
      "Row 1 of 3322 appended, duration (h:m:s): 0:00:25.530810, total elapsed time (h:m:s): 0:00:25.531809\n",
      "INFO:tensorflow:Saver not created because there are no variables in the graph to restore\n"
     ]
    },
    {
     "name": "stderr",
     "output_type": "stream",
     "text": [
      "INFO:tensorflow:Saver not created because there are no variables in the graph to restore\n"
     ]
    },
    {
     "name": "stdout",
     "output_type": "stream",
     "text": [
      "Row 2 of 3322 appended, duration (h:m:s): 0:00:20.376989, total elapsed time (h:m:s): 0:00:45.913782\n",
      "INFO:tensorflow:Saver not created because there are no variables in the graph to restore\n"
     ]
    },
    {
     "name": "stderr",
     "output_type": "stream",
     "text": [
      "INFO:tensorflow:Saver not created because there are no variables in the graph to restore\n"
     ]
    },
    {
     "name": "stdout",
     "output_type": "stream",
     "text": [
      "Row 3 of 3322 appended, duration (h:m:s): 0:00:20.064077, total elapsed time (h:m:s): 0:01:05.978859\n",
      "INFO:tensorflow:Saver not created because there are no variables in the graph to restore\n"
     ]
    },
    {
     "name": "stderr",
     "output_type": "stream",
     "text": [
      "INFO:tensorflow:Saver not created because there are no variables in the graph to restore\n"
     ]
    },
    {
     "name": "stdout",
     "output_type": "stream",
     "text": [
      "Row 4 of 3322 appended, duration (h:m:s): 0:00:23.705412, total elapsed time (h:m:s): 0:01:29.685272\n",
      "INFO:tensorflow:Saver not created because there are no variables in the graph to restore\n"
     ]
    },
    {
     "name": "stderr",
     "output_type": "stream",
     "text": [
      "INFO:tensorflow:Saver not created because there are no variables in the graph to restore\n"
     ]
    },
    {
     "name": "stdout",
     "output_type": "stream",
     "text": [
      "Row 5 of 3322 appended, duration (h:m:s): 0:00:39.550117, total elapsed time (h:m:s): 0:02:09.237384\n",
      "INFO:tensorflow:Saver not created because there are no variables in the graph to restore\n"
     ]
    },
    {
     "name": "stderr",
     "output_type": "stream",
     "text": [
      "INFO:tensorflow:Saver not created because there are no variables in the graph to restore\n"
     ]
    },
    {
     "name": "stdout",
     "output_type": "stream",
     "text": [
      "Row 6 of 3322 appended, duration (h:m:s): 0:00:25.455503, total elapsed time (h:m:s): 0:02:34.699868\n",
      "INFO:tensorflow:Saver not created because there are no variables in the graph to restore\n"
     ]
    },
    {
     "name": "stderr",
     "output_type": "stream",
     "text": [
      "INFO:tensorflow:Saver not created because there are no variables in the graph to restore\n"
     ]
    },
    {
     "name": "stdout",
     "output_type": "stream",
     "text": [
      "Row 7 of 3322 appended, duration (h:m:s): 0:00:24.422882, total elapsed time (h:m:s): 0:02:59.122751\n",
      "INFO:tensorflow:Saver not created because there are no variables in the graph to restore\n"
     ]
    },
    {
     "name": "stderr",
     "output_type": "stream",
     "text": [
      "INFO:tensorflow:Saver not created because there are no variables in the graph to restore\n"
     ]
    },
    {
     "name": "stdout",
     "output_type": "stream",
     "text": [
      "Row 8 of 3322 appended, duration (h:m:s): 0:00:54.837268, total elapsed time (h:m:s): 0:03:53.961015\n",
      "INFO:tensorflow:Saver not created because there are no variables in the graph to restore\n"
     ]
    },
    {
     "name": "stderr",
     "output_type": "stream",
     "text": [
      "INFO:tensorflow:Saver not created because there are no variables in the graph to restore\n"
     ]
    },
    {
     "name": "stdout",
     "output_type": "stream",
     "text": [
      "Row 9 of 3322 appended, duration (h:m:s): 0:00:43.936094, total elapsed time (h:m:s): 0:04:37.897109\n",
      "INFO:tensorflow:Saver not created because there are no variables in the graph to restore\n"
     ]
    },
    {
     "name": "stderr",
     "output_type": "stream",
     "text": [
      "INFO:tensorflow:Saver not created because there are no variables in the graph to restore\n"
     ]
    },
    {
     "name": "stdout",
     "output_type": "stream",
     "text": [
      "Row 10 of 3322 appended, duration (h:m:s): 0:00:27.447700, total elapsed time (h:m:s): 0:05:05.347327\n",
      "INFO:tensorflow:Saver not created because there are no variables in the graph to restore\n"
     ]
    },
    {
     "name": "stderr",
     "output_type": "stream",
     "text": [
      "INFO:tensorflow:Saver not created because there are no variables in the graph to restore\n"
     ]
    },
    {
     "name": "stdout",
     "output_type": "stream",
     "text": [
      "Row 11 of 3322 appended, duration (h:m:s): 0:00:22.646472, total elapsed time (h:m:s): 0:05:27.993798\n",
      "INFO:tensorflow:Saver not created because there are no variables in the graph to restore\n"
     ]
    },
    {
     "name": "stderr",
     "output_type": "stream",
     "text": [
      "INFO:tensorflow:Saver not created because there are no variables in the graph to restore\n"
     ]
    },
    {
     "name": "stdout",
     "output_type": "stream",
     "text": [
      "Row 12 of 3322 appended, duration (h:m:s): 0:00:53.082122, total elapsed time (h:m:s): 0:06:21.076918\n",
      "INFO:tensorflow:Saver not created because there are no variables in the graph to restore\n"
     ]
    },
    {
     "name": "stderr",
     "output_type": "stream",
     "text": [
      "INFO:tensorflow:Saver not created because there are no variables in the graph to restore\n"
     ]
    },
    {
     "name": "stdout",
     "output_type": "stream",
     "text": [
      "Row 13 of 3322 appended, duration (h:m:s): 0:01:52.791530, total elapsed time (h:m:s): 0:08:13.875429\n",
      "INFO:tensorflow:Saver not created because there are no variables in the graph to restore\n"
     ]
    },
    {
     "name": "stderr",
     "output_type": "stream",
     "text": [
      "INFO:tensorflow:Saver not created because there are no variables in the graph to restore\n"
     ]
    },
    {
     "name": "stdout",
     "output_type": "stream",
     "text": [
      "Row 14 of 3322 appended, duration (h:m:s): 0:00:46.528748, total elapsed time (h:m:s): 0:09:00.410164\n",
      "INFO:tensorflow:Saver not created because there are no variables in the graph to restore\n"
     ]
    },
    {
     "name": "stderr",
     "output_type": "stream",
     "text": [
      "INFO:tensorflow:Saver not created because there are no variables in the graph to restore\n"
     ]
    },
    {
     "name": "stdout",
     "output_type": "stream",
     "text": [
      "Row 15 of 3322 appended, duration (h:m:s): 0:00:25.993077, total elapsed time (h:m:s): 0:09:26.404241\n",
      "INFO:tensorflow:Saver not created because there are no variables in the graph to restore\n"
     ]
    },
    {
     "name": "stderr",
     "output_type": "stream",
     "text": [
      "INFO:tensorflow:Saver not created because there are no variables in the graph to restore\n"
     ]
    },
    {
     "name": "stdout",
     "output_type": "stream",
     "text": [
      "Row 16 of 3322 appended, duration (h:m:s): 0:00:26.633813, total elapsed time (h:m:s): 0:09:53.039049\n",
      "INFO:tensorflow:Saver not created because there are no variables in the graph to restore\n"
     ]
    },
    {
     "name": "stderr",
     "output_type": "stream",
     "text": [
      "INFO:tensorflow:Saver not created because there are no variables in the graph to restore\n"
     ]
    },
    {
     "name": "stdout",
     "output_type": "stream",
     "text": [
      "Row 17 of 3322 appended, duration (h:m:s): 0:00:32.455438, total elapsed time (h:m:s): 0:10:25.495485\n",
      "INFO:tensorflow:Saver not created because there are no variables in the graph to restore\n"
     ]
    },
    {
     "name": "stderr",
     "output_type": "stream",
     "text": [
      "INFO:tensorflow:Saver not created because there are no variables in the graph to restore\n"
     ]
    },
    {
     "name": "stdout",
     "output_type": "stream",
     "text": [
      "Row 18 of 3322 appended, duration (h:m:s): 0:00:17.586993, total elapsed time (h:m:s): 0:10:43.084474\n",
      "INFO:tensorflow:Saver not created because there are no variables in the graph to restore\n"
     ]
    },
    {
     "name": "stderr",
     "output_type": "stream",
     "text": [
      "INFO:tensorflow:Saver not created because there are no variables in the graph to restore\n"
     ]
    },
    {
     "name": "stdout",
     "output_type": "stream",
     "text": [
      "Row 19 of 3322 appended, duration (h:m:s): 0:00:26.362541, total elapsed time (h:m:s): 0:11:09.449009\n",
      "INFO:tensorflow:Saver not created because there are no variables in the graph to restore\n"
     ]
    },
    {
     "name": "stderr",
     "output_type": "stream",
     "text": [
      "INFO:tensorflow:Saver not created because there are no variables in the graph to restore\n"
     ]
    },
    {
     "name": "stdout",
     "output_type": "stream",
     "text": [
      "Row 20 of 3322 appended, duration (h:m:s): 0:00:18.863581, total elapsed time (h:m:s): 0:11:28.313584\n",
      "INFO:tensorflow:Saver not created because there are no variables in the graph to restore\n"
     ]
    },
    {
     "name": "stderr",
     "output_type": "stream",
     "text": [
      "INFO:tensorflow:Saver not created because there are no variables in the graph to restore\n"
     ]
    },
    {
     "name": "stdout",
     "output_type": "stream",
     "text": [
      "Row 21 of 3322 appended, duration (h:m:s): 0:00:50.216822, total elapsed time (h:m:s): 0:12:18.531405\n",
      "INFO:tensorflow:Saver not created because there are no variables in the graph to restore\n"
     ]
    },
    {
     "name": "stderr",
     "output_type": "stream",
     "text": [
      "INFO:tensorflow:Saver not created because there are no variables in the graph to restore\n"
     ]
    },
    {
     "name": "stdout",
     "output_type": "stream",
     "text": [
      "Row 22 of 3322 appended, duration (h:m:s): 0:00:27.001832, total elapsed time (h:m:s): 0:12:45.535232\n",
      "INFO:tensorflow:Saver not created because there are no variables in the graph to restore\n"
     ]
    },
    {
     "name": "stderr",
     "output_type": "stream",
     "text": [
      "INFO:tensorflow:Saver not created because there are no variables in the graph to restore\n"
     ]
    },
    {
     "name": "stdout",
     "output_type": "stream",
     "text": [
      "Row 23 of 3322 appended, duration (h:m:s): 0:00:26.145119, total elapsed time (h:m:s): 0:13:11.681345\n",
      "INFO:tensorflow:Saver not created because there are no variables in the graph to restore\n"
     ]
    },
    {
     "name": "stderr",
     "output_type": "stream",
     "text": [
      "INFO:tensorflow:Saver not created because there are no variables in the graph to restore\n"
     ]
    },
    {
     "name": "stdout",
     "output_type": "stream",
     "text": [
      "Row 24 of 3322 appended, duration (h:m:s): 0:00:25.424048, total elapsed time (h:m:s): 0:13:37.106391\n",
      "INFO:tensorflow:Saver not created because there are no variables in the graph to restore\n"
     ]
    },
    {
     "name": "stderr",
     "output_type": "stream",
     "text": [
      "INFO:tensorflow:Saver not created because there are no variables in the graph to restore\n"
     ]
    },
    {
     "name": "stdout",
     "output_type": "stream",
     "text": [
      "Row 25 of 3322 appended, duration (h:m:s): 0:00:26.333617, total elapsed time (h:m:s): 0:14:03.441003\n",
      "INFO:tensorflow:Saver not created because there are no variables in the graph to restore\n"
     ]
    },
    {
     "name": "stderr",
     "output_type": "stream",
     "text": [
      "INFO:tensorflow:Saver not created because there are no variables in the graph to restore\n"
     ]
    },
    {
     "name": "stdout",
     "output_type": "stream",
     "text": [
      "Row 26 of 3322 appended, duration (h:m:s): 0:00:26.353564, total elapsed time (h:m:s): 0:14:29.795563\n",
      "INFO:tensorflow:Saver not created because there are no variables in the graph to restore\n"
     ]
    },
    {
     "name": "stderr",
     "output_type": "stream",
     "text": [
      "INFO:tensorflow:Saver not created because there are no variables in the graph to restore\n"
     ]
    },
    {
     "name": "stdout",
     "output_type": "stream",
     "text": [
      "Row 27 of 3322 appended, duration (h:m:s): 0:00:30.251144, total elapsed time (h:m:s): 0:15:00.047702\n",
      "INFO:tensorflow:Saver not created because there are no variables in the graph to restore\n"
     ]
    },
    {
     "name": "stderr",
     "output_type": "stream",
     "text": [
      "INFO:tensorflow:Saver not created because there are no variables in the graph to restore\n"
     ]
    },
    {
     "name": "stdout",
     "output_type": "stream",
     "text": [
      "Row 28 of 3322 appended, duration (h:m:s): 0:00:15.050275, total elapsed time (h:m:s): 0:15:15.098976\n",
      "INFO:tensorflow:Saver not created because there are no variables in the graph to restore\n"
     ]
    },
    {
     "name": "stderr",
     "output_type": "stream",
     "text": [
      "INFO:tensorflow:Saver not created because there are no variables in the graph to restore\n"
     ]
    },
    {
     "name": "stdout",
     "output_type": "stream",
     "text": [
      "Row 29 of 3322 appended, duration (h:m:s): 0:00:49.322684, total elapsed time (h:m:s): 0:16:04.422658\n",
      "INFO:tensorflow:Saver not created because there are no variables in the graph to restore\n"
     ]
    },
    {
     "name": "stderr",
     "output_type": "stream",
     "text": [
      "INFO:tensorflow:Saver not created because there are no variables in the graph to restore\n"
     ]
    },
    {
     "name": "stdout",
     "output_type": "stream",
     "text": [
      "Row 30 of 3322 appended, duration (h:m:s): 0:00:15.479625, total elapsed time (h:m:s): 0:16:19.903280\n",
      "INFO:tensorflow:Saver not created because there are no variables in the graph to restore\n"
     ]
    },
    {
     "name": "stderr",
     "output_type": "stream",
     "text": [
      "INFO:tensorflow:Saver not created because there are no variables in the graph to restore\n"
     ]
    },
    {
     "name": "stdout",
     "output_type": "stream",
     "text": [
      "Row 31 of 3322 appended, duration (h:m:s): 0:00:14.926108, total elapsed time (h:m:s): 0:16:34.830385\n",
      "INFO:tensorflow:Saver not created because there are no variables in the graph to restore\n"
     ]
    },
    {
     "name": "stderr",
     "output_type": "stream",
     "text": [
      "INFO:tensorflow:Saver not created because there are no variables in the graph to restore\n"
     ]
    },
    {
     "name": "stdout",
     "output_type": "stream",
     "text": [
      "Row 32 of 3322 appended, duration (h:m:s): 0:00:55.571468, total elapsed time (h:m:s): 0:17:30.402850\n",
      "INFO:tensorflow:Saver not created because there are no variables in the graph to restore\n"
     ]
    },
    {
     "name": "stderr",
     "output_type": "stream",
     "text": [
      "INFO:tensorflow:Saver not created because there are no variables in the graph to restore\n"
     ]
    },
    {
     "name": "stdout",
     "output_type": "stream",
     "text": [
      "Row 33 of 3322 appended, duration (h:m:s): 0:00:09.346046, total elapsed time (h:m:s): 0:17:39.748896\n",
      "INFO:tensorflow:Saver not created because there are no variables in the graph to restore\n"
     ]
    },
    {
     "name": "stderr",
     "output_type": "stream",
     "text": [
      "INFO:tensorflow:Saver not created because there are no variables in the graph to restore\n"
     ]
    },
    {
     "name": "stdout",
     "output_type": "stream",
     "text": [
      "Row 34 of 3322 appended, duration (h:m:s): 0:00:27.220219, total elapsed time (h:m:s): 0:18:06.969115\n",
      "INFO:tensorflow:Saver not created because there are no variables in the graph to restore\n"
     ]
    },
    {
     "name": "stderr",
     "output_type": "stream",
     "text": [
      "INFO:tensorflow:Saver not created because there are no variables in the graph to restore\n"
     ]
    },
    {
     "name": "stdout",
     "output_type": "stream",
     "text": [
      "Row 35 of 3322 appended, duration (h:m:s): 0:00:44.399354, total elapsed time (h:m:s): 0:18:51.369467\n",
      "INFO:tensorflow:Saver not created because there are no variables in the graph to restore\n"
     ]
    },
    {
     "name": "stderr",
     "output_type": "stream",
     "text": [
      "INFO:tensorflow:Saver not created because there are no variables in the graph to restore\n"
     ]
    },
    {
     "name": "stdout",
     "output_type": "stream",
     "text": [
      "Row 36 of 3322 appended, duration (h:m:s): 0:00:18.337962, total elapsed time (h:m:s): 0:19:09.708426\n",
      "INFO:tensorflow:Saver not created because there are no variables in the graph to restore\n"
     ]
    },
    {
     "name": "stderr",
     "output_type": "stream",
     "text": [
      "INFO:tensorflow:Saver not created because there are no variables in the graph to restore\n"
     ]
    },
    {
     "name": "stdout",
     "output_type": "stream",
     "text": [
      "Row 37 of 3322 appended, duration (h:m:s): 0:00:25.563674, total elapsed time (h:m:s): 0:19:35.272099\n",
      "INFO:tensorflow:Saver not created because there are no variables in the graph to restore\n"
     ]
    },
    {
     "name": "stderr",
     "output_type": "stream",
     "text": [
      "INFO:tensorflow:Saver not created because there are no variables in the graph to restore\n"
     ]
    },
    {
     "name": "stdout",
     "output_type": "stream",
     "text": [
      "Row 38 of 3322 appended, duration (h:m:s): 0:00:13.263548, total elapsed time (h:m:s): 0:19:48.535647\n",
      "INFO:tensorflow:Saver not created because there are no variables in the graph to restore\n"
     ]
    },
    {
     "name": "stderr",
     "output_type": "stream",
     "text": [
      "INFO:tensorflow:Saver not created because there are no variables in the graph to restore\n"
     ]
    },
    {
     "name": "stdout",
     "output_type": "stream",
     "text": [
      "Row 39 of 3322 appended, duration (h:m:s): 0:00:13.233628, total elapsed time (h:m:s): 0:20:01.769275\n",
      "INFO:tensorflow:Saver not created because there are no variables in the graph to restore\n"
     ]
    },
    {
     "name": "stderr",
     "output_type": "stream",
     "text": [
      "INFO:tensorflow:Saver not created because there are no variables in the graph to restore\n"
     ]
    },
    {
     "name": "stdout",
     "output_type": "stream",
     "text": [
      "Row 40 of 3322 appended, duration (h:m:s): 0:00:22.261499, total elapsed time (h:m:s): 0:20:24.030774\n",
      "INFO:tensorflow:Saver not created because there are no variables in the graph to restore\n"
     ]
    },
    {
     "name": "stderr",
     "output_type": "stream",
     "text": [
      "INFO:tensorflow:Saver not created because there are no variables in the graph to restore\n"
     ]
    },
    {
     "name": "stdout",
     "output_type": "stream",
     "text": [
      "Row 41 of 3322 appended, duration (h:m:s): 0:00:22.230581, total elapsed time (h:m:s): 0:20:46.262354\n",
      "INFO:tensorflow:Saver not created because there are no variables in the graph to restore\n"
     ]
    },
    {
     "name": "stderr",
     "output_type": "stream",
     "text": [
      "INFO:tensorflow:Saver not created because there are no variables in the graph to restore\n"
     ]
    },
    {
     "name": "stdout",
     "output_type": "stream",
     "text": [
      "Row 42 of 3322 appended, duration (h:m:s): 0:00:48.850434, total elapsed time (h:m:s): 0:21:35.112787\n",
      "INFO:tensorflow:Saver not created because there are no variables in the graph to restore\n"
     ]
    },
    {
     "name": "stderr",
     "output_type": "stream",
     "text": [
      "INFO:tensorflow:Saver not created because there are no variables in the graph to restore\n"
     ]
    },
    {
     "name": "stdout",
     "output_type": "stream",
     "text": [
      "Row 43 of 3322 appended, duration (h:m:s): 0:00:14.262878, total elapsed time (h:m:s): 0:21:49.375666\n",
      "INFO:tensorflow:Saver not created because there are no variables in the graph to restore\n"
     ]
    },
    {
     "name": "stderr",
     "output_type": "stream",
     "text": [
      "INFO:tensorflow:Saver not created because there are no variables in the graph to restore\n"
     ]
    },
    {
     "name": "stdout",
     "output_type": "stream",
     "text": [
      "Row 44 of 3322 appended, duration (h:m:s): 0:00:53.737395, total elapsed time (h:m:s): 0:22:43.114058\n",
      "INFO:tensorflow:Saver not created because there are no variables in the graph to restore\n"
     ]
    },
    {
     "name": "stderr",
     "output_type": "stream",
     "text": [
      "INFO:tensorflow:Saver not created because there are no variables in the graph to restore\n"
     ]
    },
    {
     "name": "stdout",
     "output_type": "stream",
     "text": [
      "Row 45 of 3322 appended, duration (h:m:s): 0:00:13.469998, total elapsed time (h:m:s): 0:22:56.585028\n",
      "INFO:tensorflow:Saver not created because there are no variables in the graph to restore\n"
     ]
    },
    {
     "name": "stderr",
     "output_type": "stream",
     "text": [
      "INFO:tensorflow:Saver not created because there are no variables in the graph to restore\n"
     ]
    },
    {
     "name": "stdout",
     "output_type": "stream",
     "text": [
      "Row 46 of 3322 appended, duration (h:m:s): 0:00:18.435724, total elapsed time (h:m:s): 0:23:15.020752\n",
      "INFO:tensorflow:Saver not created because there are no variables in the graph to restore\n"
     ]
    },
    {
     "name": "stderr",
     "output_type": "stream",
     "text": [
      "INFO:tensorflow:Saver not created because there are no variables in the graph to restore\n"
     ]
    },
    {
     "name": "stdout",
     "output_type": "stream",
     "text": [
      "Row 47 of 3322 appended, duration (h:m:s): 0:00:12.872622, total elapsed time (h:m:s): 0:23:27.894373\n",
      "INFO:tensorflow:Saver not created because there are no variables in the graph to restore\n"
     ]
    },
    {
     "name": "stderr",
     "output_type": "stream",
     "text": [
      "INFO:tensorflow:Saver not created because there are no variables in the graph to restore\n"
     ]
    },
    {
     "name": "stdout",
     "output_type": "stream",
     "text": [
      "Row 48 of 3322 appended, duration (h:m:s): 0:00:17.359572, total elapsed time (h:m:s): 0:23:45.253945\n",
      "INFO:tensorflow:Saver not created because there are no variables in the graph to restore\n"
     ]
    },
    {
     "name": "stderr",
     "output_type": "stream",
     "text": [
      "INFO:tensorflow:Saver not created because there are no variables in the graph to restore\n"
     ]
    },
    {
     "name": "stdout",
     "output_type": "stream",
     "text": [
      "Row 49 of 3322 appended, duration (h:m:s): 0:00:26.741554, total elapsed time (h:m:s): 0:24:11.995499\n",
      "INFO:tensorflow:Saver not created because there are no variables in the graph to restore\n"
     ]
    },
    {
     "name": "stderr",
     "output_type": "stream",
     "text": [
      "INFO:tensorflow:Saver not created because there are no variables in the graph to restore\n"
     ]
    },
    {
     "name": "stdout",
     "output_type": "stream",
     "text": [
      "Row 50 of 3322 appended, duration (h:m:s): 0:00:15.113575, total elapsed time (h:m:s): 0:24:27.109074\n",
      "INFO:tensorflow:Saver not created because there are no variables in the graph to restore\n"
     ]
    },
    {
     "name": "stderr",
     "output_type": "stream",
     "text": [
      "INFO:tensorflow:Saver not created because there are no variables in the graph to restore\n"
     ]
    },
    {
     "name": "stdout",
     "output_type": "stream",
     "text": [
      "Row 51 of 3322 appended, duration (h:m:s): 0:00:16.036137, total elapsed time (h:m:s): 0:24:43.145211\n",
      "INFO:tensorflow:Saver not created because there are no variables in the graph to restore\n"
     ]
    },
    {
     "name": "stderr",
     "output_type": "stream",
     "text": [
      "INFO:tensorflow:Saver not created because there are no variables in the graph to restore\n"
     ]
    },
    {
     "name": "stdout",
     "output_type": "stream",
     "text": [
      "Row 52 of 3322 appended, duration (h:m:s): 0:00:16.241590, total elapsed time (h:m:s): 0:24:59.386802\n",
      "INFO:tensorflow:Saver not created because there are no variables in the graph to restore\n"
     ]
    },
    {
     "name": "stderr",
     "output_type": "stream",
     "text": [
      "INFO:tensorflow:Saver not created because there are no variables in the graph to restore\n"
     ]
    },
    {
     "name": "stdout",
     "output_type": "stream",
     "text": [
      "Row 53 of 3322 appended, duration (h:m:s): 0:00:21.749667, total elapsed time (h:m:s): 0:25:21.136468\n",
      "INFO:tensorflow:Saver not created because there are no variables in the graph to restore\n"
     ]
    },
    {
     "name": "stderr",
     "output_type": "stream",
     "text": [
      "INFO:tensorflow:Saver not created because there are no variables in the graph to restore\n"
     ]
    },
    {
     "name": "stdout",
     "output_type": "stream",
     "text": [
      "Row 54 of 3322 appended, duration (h:m:s): 0:00:19.491865, total elapsed time (h:m:s): 0:25:40.628333\n",
      "INFO:tensorflow:Saver not created because there are no variables in the graph to restore\n"
     ]
    },
    {
     "name": "stderr",
     "output_type": "stream",
     "text": [
      "INFO:tensorflow:Saver not created because there are no variables in the graph to restore\n"
     ]
    },
    {
     "name": "stdout",
     "output_type": "stream",
     "text": [
      "Row 55 of 3322 appended, duration (h:m:s): 0:00:17.483272, total elapsed time (h:m:s): 0:25:58.111605\n",
      "INFO:tensorflow:Saver not created because there are no variables in the graph to restore\n"
     ]
    },
    {
     "name": "stderr",
     "output_type": "stream",
     "text": [
      "INFO:tensorflow:Saver not created because there are no variables in the graph to restore\n"
     ]
    },
    {
     "name": "stdout",
     "output_type": "stream",
     "text": [
      "Row 56 of 3322 appended, duration (h:m:s): 0:00:20.351602, total elapsed time (h:m:s): 0:26:18.463208\n",
      "INFO:tensorflow:Saver not created because there are no variables in the graph to restore\n"
     ]
    },
    {
     "name": "stderr",
     "output_type": "stream",
     "text": [
      "INFO:tensorflow:Saver not created because there are no variables in the graph to restore\n"
     ]
    },
    {
     "name": "stdout",
     "output_type": "stream",
     "text": [
      "Row 57 of 3322 appended, duration (h:m:s): 0:00:25.610549, total elapsed time (h:m:s): 0:26:44.074754\n",
      "INFO:tensorflow:Saver not created because there are no variables in the graph to restore\n"
     ]
    },
    {
     "name": "stderr",
     "output_type": "stream",
     "text": [
      "INFO:tensorflow:Saver not created because there are no variables in the graph to restore\n"
     ]
    },
    {
     "name": "stdout",
     "output_type": "stream",
     "text": [
      "Row 58 of 3322 appended, duration (h:m:s): 0:00:21.866555, total elapsed time (h:m:s): 0:27:05.941309\n",
      "INFO:tensorflow:Saver not created because there are no variables in the graph to restore\n"
     ]
    },
    {
     "name": "stderr",
     "output_type": "stream",
     "text": [
      "INFO:tensorflow:Saver not created because there are no variables in the graph to restore\n"
     ]
    },
    {
     "name": "stdout",
     "output_type": "stream",
     "text": [
      "Row 59 of 3322 appended, duration (h:m:s): 0:00:23.803379, total elapsed time (h:m:s): 0:27:29.744688\n",
      "INFO:tensorflow:Saver not created because there are no variables in the graph to restore\n"
     ]
    },
    {
     "name": "stderr",
     "output_type": "stream",
     "text": [
      "INFO:tensorflow:Saver not created because there are no variables in the graph to restore\n"
     ]
    },
    {
     "name": "stdout",
     "output_type": "stream",
     "text": [
      "Row 60 of 3322 appended, duration (h:m:s): 0:00:23.324174, total elapsed time (h:m:s): 0:27:53.069859\n",
      "INFO:tensorflow:Saver not created because there are no variables in the graph to restore\n"
     ]
    },
    {
     "name": "stderr",
     "output_type": "stream",
     "text": [
      "INFO:tensorflow:Saver not created because there are no variables in the graph to restore\n"
     ]
    },
    {
     "name": "stdout",
     "output_type": "stream",
     "text": [
      "Row 61 of 3322 appended, duration (h:m:s): 0:00:20.686801, total elapsed time (h:m:s): 0:28:13.757658\n",
      "INFO:tensorflow:Saver not created because there are no variables in the graph to restore\n"
     ]
    },
    {
     "name": "stderr",
     "output_type": "stream",
     "text": [
      "INFO:tensorflow:Saver not created because there are no variables in the graph to restore\n"
     ]
    },
    {
     "name": "stdout",
     "output_type": "stream",
     "text": [
      "Row 62 of 3322 appended, duration (h:m:s): 0:00:19.011072, total elapsed time (h:m:s): 0:28:32.768730\n",
      "INFO:tensorflow:Saver not created because there are no variables in the graph to restore\n"
     ]
    },
    {
     "name": "stderr",
     "output_type": "stream",
     "text": [
      "INFO:tensorflow:Saver not created because there are no variables in the graph to restore\n"
     ]
    },
    {
     "name": "stdout",
     "output_type": "stream",
     "text": [
      "Row 63 of 3322 appended, duration (h:m:s): 0:00:24.180642, total elapsed time (h:m:s): 0:28:56.949372\n",
      "INFO:tensorflow:Saver not created because there are no variables in the graph to restore\n"
     ]
    },
    {
     "name": "stderr",
     "output_type": "stream",
     "text": [
      "INFO:tensorflow:Saver not created because there are no variables in the graph to restore\n"
     ]
    },
    {
     "name": "stdout",
     "output_type": "stream",
     "text": [
      "Row 64 of 3322 appended, duration (h:m:s): 0:00:30.587443, total elapsed time (h:m:s): 0:29:27.536815\n",
      "INFO:tensorflow:Saver not created because there are no variables in the graph to restore\n"
     ]
    },
    {
     "name": "stderr",
     "output_type": "stream",
     "text": [
      "INFO:tensorflow:Saver not created because there are no variables in the graph to restore\n"
     ]
    },
    {
     "name": "stdout",
     "output_type": "stream",
     "text": [
      "Row 65 of 3322 appended, duration (h:m:s): 0:00:26.240805, total elapsed time (h:m:s): 0:29:53.778617\n",
      "INFO:tensorflow:Saver not created because there are no variables in the graph to restore\n"
     ]
    },
    {
     "name": "stderr",
     "output_type": "stream",
     "text": [
      "INFO:tensorflow:Saver not created because there are no variables in the graph to restore\n"
     ]
    },
    {
     "name": "stdout",
     "output_type": "stream",
     "text": [
      "Row 66 of 3322 appended, duration (h:m:s): 0:00:29.330905, total elapsed time (h:m:s): 0:30:23.110505\n",
      "INFO:tensorflow:Saver not created because there are no variables in the graph to restore\n"
     ]
    },
    {
     "name": "stderr",
     "output_type": "stream",
     "text": [
      "INFO:tensorflow:Saver not created because there are no variables in the graph to restore\n"
     ]
    },
    {
     "name": "stdout",
     "output_type": "stream",
     "text": [
      "Row 67 of 3322 appended, duration (h:m:s): 0:00:37.258232, total elapsed time (h:m:s): 0:31:00.368737\n",
      "INFO:tensorflow:Saver not created because there are no variables in the graph to restore\n"
     ]
    },
    {
     "name": "stderr",
     "output_type": "stream",
     "text": [
      "INFO:tensorflow:Saver not created because there are no variables in the graph to restore\n"
     ]
    },
    {
     "name": "stdout",
     "output_type": "stream",
     "text": [
      "Row 68 of 3322 appended, duration (h:m:s): 0:00:48.261212, total elapsed time (h:m:s): 0:31:48.631915\n",
      "INFO:tensorflow:Saver not created because there are no variables in the graph to restore\n"
     ]
    },
    {
     "name": "stderr",
     "output_type": "stream",
     "text": [
      "INFO:tensorflow:Saver not created because there are no variables in the graph to restore\n"
     ]
    },
    {
     "name": "stdout",
     "output_type": "stream",
     "text": [
      "Row 69 of 3322 appended, duration (h:m:s): 0:01:29.786773, total elapsed time (h:m:s): 0:33:18.418688\n",
      "INFO:tensorflow:Saver not created because there are no variables in the graph to restore\n"
     ]
    },
    {
     "name": "stderr",
     "output_type": "stream",
     "text": [
      "INFO:tensorflow:Saver not created because there are no variables in the graph to restore\n"
     ]
    },
    {
     "name": "stdout",
     "output_type": "stream",
     "text": [
      "Row 70 of 3322 appended, duration (h:m:s): 0:00:53.822443, total elapsed time (h:m:s): 0:34:12.245112\n",
      "INFO:tensorflow:Saver not created because there are no variables in the graph to restore\n"
     ]
    },
    {
     "name": "stderr",
     "output_type": "stream",
     "text": [
      "INFO:tensorflow:Saver not created because there are no variables in the graph to restore\n"
     ]
    },
    {
     "name": "stdout",
     "output_type": "stream",
     "text": [
      "Row 71 of 3322 appended, duration (h:m:s): 0:01:12.845640, total elapsed time (h:m:s): 0:35:25.091750\n",
      "INFO:tensorflow:Saver not created because there are no variables in the graph to restore\n"
     ]
    },
    {
     "name": "stderr",
     "output_type": "stream",
     "text": [
      "INFO:tensorflow:Saver not created because there are no variables in the graph to restore\n"
     ]
    },
    {
     "name": "stdout",
     "output_type": "stream",
     "text": [
      "Row 72 of 3322 appended, duration (h:m:s): 0:00:50.827810, total elapsed time (h:m:s): 0:36:15.919559\n",
      "INFO:tensorflow:Saver not created because there are no variables in the graph to restore\n"
     ]
    },
    {
     "name": "stderr",
     "output_type": "stream",
     "text": [
      "INFO:tensorflow:Saver not created because there are no variables in the graph to restore\n"
     ]
    },
    {
     "name": "stdout",
     "output_type": "stream",
     "text": [
      "Row 73 of 3322 appended, duration (h:m:s): 0:00:55.471353, total elapsed time (h:m:s): 0:37:11.391910\n",
      "INFO:tensorflow:Saver not created because there are no variables in the graph to restore\n"
     ]
    },
    {
     "name": "stderr",
     "output_type": "stream",
     "text": [
      "INFO:tensorflow:Saver not created because there are no variables in the graph to restore\n"
     ]
    },
    {
     "name": "stdout",
     "output_type": "stream",
     "text": [
      "Row 74 of 3322 appended, duration (h:m:s): 0:00:38.084029, total elapsed time (h:m:s): 0:37:49.475939\n",
      "INFO:tensorflow:Saver not created because there are no variables in the graph to restore\n"
     ]
    },
    {
     "name": "stderr",
     "output_type": "stream",
     "text": [
      "INFO:tensorflow:Saver not created because there are no variables in the graph to restore\n"
     ]
    },
    {
     "name": "stdout",
     "output_type": "stream",
     "text": [
      "Row 75 of 3322 appended, duration (h:m:s): 0:01:26.864874, total elapsed time (h:m:s): 0:39:16.343048\n",
      "INFO:tensorflow:Saver not created because there are no variables in the graph to restore\n"
     ]
    },
    {
     "name": "stderr",
     "output_type": "stream",
     "text": [
      "INFO:tensorflow:Saver not created because there are no variables in the graph to restore\n"
     ]
    },
    {
     "name": "stdout",
     "output_type": "stream",
     "text": [
      "Row 76 of 3322 appended, duration (h:m:s): 0:00:42.366913, total elapsed time (h:m:s): 0:39:58.710958\n",
      "INFO:tensorflow:Saver not created because there are no variables in the graph to restore\n"
     ]
    },
    {
     "name": "stderr",
     "output_type": "stream",
     "text": [
      "INFO:tensorflow:Saver not created because there are no variables in the graph to restore\n"
     ]
    },
    {
     "name": "stdout",
     "output_type": "stream",
     "text": [
      "Row 77 of 3322 appended, duration (h:m:s): 0:00:57.106247, total elapsed time (h:m:s): 0:40:55.818202\n",
      "INFO:tensorflow:Saver not created because there are no variables in the graph to restore\n"
     ]
    },
    {
     "name": "stderr",
     "output_type": "stream",
     "text": [
      "INFO:tensorflow:Saver not created because there are no variables in the graph to restore\n"
     ]
    },
    {
     "name": "stdout",
     "output_type": "stream",
     "text": [
      "Row 78 of 3322 appended, duration (h:m:s): 0:01:05.687994, total elapsed time (h:m:s): 0:42:01.507193\n",
      "INFO:tensorflow:Saver not created because there are no variables in the graph to restore\n"
     ]
    },
    {
     "name": "stderr",
     "output_type": "stream",
     "text": [
      "INFO:tensorflow:Saver not created because there are no variables in the graph to restore\n"
     ]
    },
    {
     "name": "stdout",
     "output_type": "stream",
     "text": [
      "Row 79 of 3322 appended, duration (h:m:s): 0:00:50.047396, total elapsed time (h:m:s): 0:42:51.555587\n",
      "INFO:tensorflow:Saver not created because there are no variables in the graph to restore\n"
     ]
    },
    {
     "name": "stderr",
     "output_type": "stream",
     "text": [
      "INFO:tensorflow:Saver not created because there are no variables in the graph to restore\n"
     ]
    },
    {
     "name": "stdout",
     "output_type": "stream",
     "text": [
      "Row 80 of 3322 appended, duration (h:m:s): 0:00:59.002735, total elapsed time (h:m:s): 0:43:50.559319\n",
      "INFO:tensorflow:Saver not created because there are no variables in the graph to restore\n"
     ]
    },
    {
     "name": "stderr",
     "output_type": "stream",
     "text": [
      "INFO:tensorflow:Saver not created because there are no variables in the graph to restore\n"
     ]
    },
    {
     "name": "stdout",
     "output_type": "stream",
     "text": [
      "Row 81 of 3322 appended, duration (h:m:s): 0:00:47.761032, total elapsed time (h:m:s): 0:44:38.321333\n",
      "INFO:tensorflow:Saver not created because there are no variables in the graph to restore\n"
     ]
    },
    {
     "name": "stderr",
     "output_type": "stream",
     "text": [
      "INFO:tensorflow:Saver not created because there are no variables in the graph to restore\n"
     ]
    },
    {
     "name": "stdout",
     "output_type": "stream",
     "text": [
      "Row 82 of 3322 appended, duration (h:m:s): 0:00:59.042483, total elapsed time (h:m:s): 0:45:37.365811\n",
      "INFO:tensorflow:Saver not created because there are no variables in the graph to restore\n"
     ]
    },
    {
     "name": "stderr",
     "output_type": "stream",
     "text": [
      "INFO:tensorflow:Saver not created because there are no variables in the graph to restore\n"
     ]
    },
    {
     "name": "stdout",
     "output_type": "stream",
     "text": [
      "Row 83 of 3322 appended, duration (h:m:s): 0:00:38.310664, total elapsed time (h:m:s): 0:46:15.677472\n",
      "INFO:tensorflow:Saver not created because there are no variables in the graph to restore\n"
     ]
    },
    {
     "name": "stderr",
     "output_type": "stream",
     "text": [
      "INFO:tensorflow:Saver not created because there are no variables in the graph to restore\n"
     ]
    },
    {
     "name": "stdout",
     "output_type": "stream",
     "text": [
      "Row 84 of 3322 appended, duration (h:m:s): 0:00:37.293043, total elapsed time (h:m:s): 0:46:52.971512\n",
      "INFO:tensorflow:Saver not created because there are no variables in the graph to restore\n"
     ]
    },
    {
     "name": "stderr",
     "output_type": "stream",
     "text": [
      "INFO:tensorflow:Saver not created because there are no variables in the graph to restore\n"
     ]
    },
    {
     "name": "stdout",
     "output_type": "stream",
     "text": [
      "Row 85 of 3322 appended, duration (h:m:s): 0:00:46.002109, total elapsed time (h:m:s): 0:47:38.974617\n",
      "INFO:tensorflow:Saver not created because there are no variables in the graph to restore\n"
     ]
    },
    {
     "name": "stderr",
     "output_type": "stream",
     "text": [
      "INFO:tensorflow:Saver not created because there are no variables in the graph to restore\n"
     ]
    },
    {
     "name": "stdout",
     "output_type": "stream",
     "text": [
      "Row 86 of 3322 appended, duration (h:m:s): 0:00:42.596160, total elapsed time (h:m:s): 0:48:21.570778\n",
      "INFO:tensorflow:Saver not created because there are no variables in the graph to restore\n"
     ]
    },
    {
     "name": "stderr",
     "output_type": "stream",
     "text": [
      "INFO:tensorflow:Saver not created because there are no variables in the graph to restore\n"
     ]
    },
    {
     "name": "stdout",
     "output_type": "stream",
     "text": [
      "Row 87 of 3322 appended, duration (h:m:s): 0:01:34.882883, total elapsed time (h:m:s): 0:49:56.453661\n",
      "INFO:tensorflow:Saver not created because there are no variables in the graph to restore\n"
     ]
    },
    {
     "name": "stderr",
     "output_type": "stream",
     "text": [
      "INFO:tensorflow:Saver not created because there are no variables in the graph to restore\n"
     ]
    },
    {
     "name": "stdout",
     "output_type": "stream",
     "text": [
      "Row 88 of 3322 appended, duration (h:m:s): 0:01:32.250091, total elapsed time (h:m:s): 0:51:28.704749\n",
      "INFO:tensorflow:Saver not created because there are no variables in the graph to restore\n"
     ]
    },
    {
     "name": "stderr",
     "output_type": "stream",
     "text": [
      "INFO:tensorflow:Saver not created because there are no variables in the graph to restore\n"
     ]
    },
    {
     "name": "stdout",
     "output_type": "stream",
     "text": [
      "Row 89 of 3322 appended, duration (h:m:s): 0:00:44.020026, total elapsed time (h:m:s): 0:52:12.725772\n",
      "INFO:tensorflow:Saver not created because there are no variables in the graph to restore\n"
     ]
    },
    {
     "name": "stderr",
     "output_type": "stream",
     "text": [
      "INFO:tensorflow:Saver not created because there are no variables in the graph to restore\n"
     ]
    },
    {
     "name": "stdout",
     "output_type": "stream",
     "text": [
      "Row 90 of 3322 appended, duration (h:m:s): 0:00:54.618270, total elapsed time (h:m:s): 0:53:07.345039\n",
      "INFO:tensorflow:Saver not created because there are no variables in the graph to restore\n"
     ]
    },
    {
     "name": "stderr",
     "output_type": "stream",
     "text": [
      "INFO:tensorflow:Saver not created because there are no variables in the graph to restore\n"
     ]
    },
    {
     "name": "stdout",
     "output_type": "stream",
     "text": [
      "Row 91 of 3322 appended, duration (h:m:s): 0:01:21.566897, total elapsed time (h:m:s): 0:54:28.912933\n",
      "INFO:tensorflow:Saver not created because there are no variables in the graph to restore\n"
     ]
    },
    {
     "name": "stderr",
     "output_type": "stream",
     "text": [
      "INFO:tensorflow:Saver not created because there are no variables in the graph to restore\n"
     ]
    },
    {
     "name": "stdout",
     "output_type": "stream",
     "text": [
      "Row 92 of 3322 appended, duration (h:m:s): 0:00:50.148021, total elapsed time (h:m:s): 0:55:19.060955\n",
      "INFO:tensorflow:Saver not created because there are no variables in the graph to restore\n"
     ]
    },
    {
     "name": "stderr",
     "output_type": "stream",
     "text": [
      "INFO:tensorflow:Saver not created because there are no variables in the graph to restore\n"
     ]
    },
    {
     "name": "stdout",
     "output_type": "stream",
     "text": [
      "Row 93 of 3322 appended, duration (h:m:s): 0:00:47.755057, total elapsed time (h:m:s): 0:56:06.817009\n",
      "INFO:tensorflow:Saver not created because there are no variables in the graph to restore\n"
     ]
    },
    {
     "name": "stderr",
     "output_type": "stream",
     "text": [
      "INFO:tensorflow:Saver not created because there are no variables in the graph to restore\n"
     ]
    },
    {
     "name": "stdout",
     "output_type": "stream",
     "text": [
      "Row 94 of 3322 appended, duration (h:m:s): 0:00:45.898240, total elapsed time (h:m:s): 0:56:52.716246\n",
      "INFO:tensorflow:Saver not created because there are no variables in the graph to restore\n"
     ]
    },
    {
     "name": "stderr",
     "output_type": "stream",
     "text": [
      "INFO:tensorflow:Saver not created because there are no variables in the graph to restore\n"
     ]
    },
    {
     "name": "stdout",
     "output_type": "stream",
     "text": [
      "Row 95 of 3322 appended, duration (h:m:s): 0:00:56.321867, total elapsed time (h:m:s): 0:57:49.038113\n",
      "INFO:tensorflow:Saver not created because there are no variables in the graph to restore\n"
     ]
    },
    {
     "name": "stderr",
     "output_type": "stream",
     "text": [
      "INFO:tensorflow:Saver not created because there are no variables in the graph to restore\n"
     ]
    },
    {
     "name": "stdout",
     "output_type": "stream",
     "text": [
      "Row 96 of 3322 appended, duration (h:m:s): 0:00:41.713039, total elapsed time (h:m:s): 0:58:30.754176\n",
      "INFO:tensorflow:Saver not created because there are no variables in the graph to restore\n"
     ]
    },
    {
     "name": "stderr",
     "output_type": "stream",
     "text": [
      "INFO:tensorflow:Saver not created because there are no variables in the graph to restore\n"
     ]
    },
    {
     "name": "stdout",
     "output_type": "stream",
     "text": [
      "Row 97 of 3322 appended, duration (h:m:s): 0:01:15.583064, total elapsed time (h:m:s): 0:59:46.338238\n",
      "INFO:tensorflow:Saver not created because there are no variables in the graph to restore\n"
     ]
    },
    {
     "name": "stderr",
     "output_type": "stream",
     "text": [
      "INFO:tensorflow:Saver not created because there are no variables in the graph to restore\n"
     ]
    },
    {
     "name": "stdout",
     "output_type": "stream",
     "text": [
      "Row 98 of 3322 appended, duration (h:m:s): 0:00:54.139068, total elapsed time (h:m:s): 1:00:40.478302\n",
      "INFO:tensorflow:Saver not created because there are no variables in the graph to restore\n"
     ]
    },
    {
     "name": "stderr",
     "output_type": "stream",
     "text": [
      "INFO:tensorflow:Saver not created because there are no variables in the graph to restore\n"
     ]
    },
    {
     "name": "stdout",
     "output_type": "stream",
     "text": [
      "Row 99 of 3322 appended, duration (h:m:s): 0:00:57.305932, total elapsed time (h:m:s): 1:01:37.785751\n",
      "INFO:tensorflow:Saver not created because there are no variables in the graph to restore\n"
     ]
    },
    {
     "name": "stderr",
     "output_type": "stream",
     "text": [
      "INFO:tensorflow:Saver not created because there are no variables in the graph to restore\n"
     ]
    },
    {
     "name": "stdout",
     "output_type": "stream",
     "text": [
      "Row 100 of 3322 appended, duration (h:m:s): 0:00:59.847685, total elapsed time (h:m:s): 1:02:37.634433\n",
      "INFO:tensorflow:Saver not created because there are no variables in the graph to restore\n"
     ]
    },
    {
     "name": "stderr",
     "output_type": "stream",
     "text": [
      "INFO:tensorflow:Saver not created because there are no variables in the graph to restore\n"
     ]
    },
    {
     "name": "stdout",
     "output_type": "stream",
     "text": [
      "Row 101 of 3322 appended, duration (h:m:s): 0:02:16.388093, total elapsed time (h:m:s): 1:04:54.023523\n",
      "INFO:tensorflow:Saver not created because there are no variables in the graph to restore\n"
     ]
    },
    {
     "name": "stderr",
     "output_type": "stream",
     "text": [
      "INFO:tensorflow:Saver not created because there are no variables in the graph to restore\n"
     ]
    },
    {
     "name": "stdout",
     "output_type": "stream",
     "text": [
      "Row 102 of 3322 appended, duration (h:m:s): 0:01:08.910192, total elapsed time (h:m:s): 1:06:02.950670\n",
      "INFO:tensorflow:Saver not created because there are no variables in the graph to restore\n"
     ]
    },
    {
     "name": "stderr",
     "output_type": "stream",
     "text": [
      "INFO:tensorflow:Saver not created because there are no variables in the graph to restore\n"
     ]
    },
    {
     "name": "stdout",
     "output_type": "stream",
     "text": [
      "Row 103 of 3322 appended, duration (h:m:s): 0:01:18.716238, total elapsed time (h:m:s): 1:07:21.666909\n",
      "INFO:tensorflow:Saver not created because there are no variables in the graph to restore\n"
     ]
    },
    {
     "name": "stderr",
     "output_type": "stream",
     "text": [
      "INFO:tensorflow:Saver not created because there are no variables in the graph to restore\n"
     ]
    },
    {
     "name": "stdout",
     "output_type": "stream",
     "text": [
      "Row 104 of 3322 appended, duration (h:m:s): 0:01:36.068686, total elapsed time (h:m:s): 1:08:57.736592\n",
      "INFO:tensorflow:Saver not created because there are no variables in the graph to restore\n"
     ]
    },
    {
     "name": "stderr",
     "output_type": "stream",
     "text": [
      "INFO:tensorflow:Saver not created because there are no variables in the graph to restore\n"
     ]
    },
    {
     "name": "stdout",
     "output_type": "stream",
     "text": [
      "Row 105 of 3322 appended, duration (h:m:s): 0:01:31.021339, total elapsed time (h:m:s): 1:10:28.758929\n",
      "INFO:tensorflow:Saver not created because there are no variables in the graph to restore\n"
     ]
    },
    {
     "name": "stderr",
     "output_type": "stream",
     "text": [
      "INFO:tensorflow:Saver not created because there are no variables in the graph to restore\n"
     ]
    },
    {
     "name": "stdout",
     "output_type": "stream",
     "text": [
      "Row 106 of 3322 appended, duration (h:m:s): 0:01:42.105076, total elapsed time (h:m:s): 1:12:10.865035\n",
      "INFO:tensorflow:Saver not created because there are no variables in the graph to restore\n"
     ]
    },
    {
     "name": "stderr",
     "output_type": "stream",
     "text": [
      "INFO:tensorflow:Saver not created because there are no variables in the graph to restore\n"
     ]
    },
    {
     "name": "stdout",
     "output_type": "stream",
     "text": [
      "Row 107 of 3322 appended, duration (h:m:s): 0:01:01.062023, total elapsed time (h:m:s): 1:13:11.928058\n",
      "INFO:tensorflow:Saver not created because there are no variables in the graph to restore\n"
     ]
    },
    {
     "name": "stderr",
     "output_type": "stream",
     "text": [
      "INFO:tensorflow:Saver not created because there are no variables in the graph to restore\n"
     ]
    },
    {
     "name": "stdout",
     "output_type": "stream",
     "text": [
      "Row 108 of 3322 appended, duration (h:m:s): 0:01:19.503237, total elapsed time (h:m:s): 1:14:31.431295\n",
      "INFO:tensorflow:Saver not created because there are no variables in the graph to restore\n"
     ]
    },
    {
     "name": "stderr",
     "output_type": "stream",
     "text": [
      "INFO:tensorflow:Saver not created because there are no variables in the graph to restore\n"
     ]
    },
    {
     "name": "stdout",
     "output_type": "stream",
     "text": [
      "Row 109 of 3322 appended, duration (h:m:s): 0:01:05.230901, total elapsed time (h:m:s): 1:15:36.663193\n",
      "INFO:tensorflow:Saver not created because there are no variables in the graph to restore\n"
     ]
    },
    {
     "name": "stderr",
     "output_type": "stream",
     "text": [
      "INFO:tensorflow:Saver not created because there are no variables in the graph to restore\n"
     ]
    },
    {
     "name": "stdout",
     "output_type": "stream",
     "text": [
      "Row 110 of 3322 appended, duration (h:m:s): 0:01:45.932394, total elapsed time (h:m:s): 1:17:22.597582\n",
      "INFO:tensorflow:Saver not created because there are no variables in the graph to restore\n"
     ]
    },
    {
     "name": "stderr",
     "output_type": "stream",
     "text": [
      "INFO:tensorflow:Saver not created because there are no variables in the graph to restore\n"
     ]
    },
    {
     "name": "stdout",
     "output_type": "stream",
     "text": [
      "Row 111 of 3322 appended, duration (h:m:s): 0:02:27.119269, total elapsed time (h:m:s): 1:19:49.723832\n",
      "INFO:tensorflow:Saver not created because there are no variables in the graph to restore\n"
     ]
    },
    {
     "name": "stderr",
     "output_type": "stream",
     "text": [
      "INFO:tensorflow:Saver not created because there are no variables in the graph to restore\n"
     ]
    },
    {
     "name": "stdout",
     "output_type": "stream",
     "text": [
      "Row 112 of 3322 appended, duration (h:m:s): 0:01:10.269674, total elapsed time (h:m:s): 1:21:00.003479\n",
      "INFO:tensorflow:Saver not created because there are no variables in the graph to restore\n"
     ]
    },
    {
     "name": "stderr",
     "output_type": "stream",
     "text": [
      "INFO:tensorflow:Saver not created because there are no variables in the graph to restore\n"
     ]
    },
    {
     "name": "stdout",
     "output_type": "stream",
     "text": [
      "Row 113 of 3322 appended, duration (h:m:s): 0:01:45.149690, total elapsed time (h:m:s): 1:22:45.154167\n",
      "INFO:tensorflow:Saver not created because there are no variables in the graph to restore\n"
     ]
    },
    {
     "name": "stderr",
     "output_type": "stream",
     "text": [
      "INFO:tensorflow:Saver not created because there are no variables in the graph to restore\n"
     ]
    },
    {
     "name": "stdout",
     "output_type": "stream",
     "text": [
      "Row 114 of 3322 appended, duration (h:m:s): 0:01:51.428143, total elapsed time (h:m:s): 1:24:36.586301\n",
      "INFO:tensorflow:Saver not created because there are no variables in the graph to restore\n"
     ]
    },
    {
     "name": "stderr",
     "output_type": "stream",
     "text": [
      "INFO:tensorflow:Saver not created because there are no variables in the graph to restore\n"
     ]
    },
    {
     "name": "stdout",
     "output_type": "stream",
     "text": [
      "Row 115 of 3322 appended, duration (h:m:s): 0:01:47.405560, total elapsed time (h:m:s): 1:26:23.992857\n",
      "INFO:tensorflow:Saver not created because there are no variables in the graph to restore\n"
     ]
    },
    {
     "name": "stderr",
     "output_type": "stream",
     "text": [
      "INFO:tensorflow:Saver not created because there are no variables in the graph to restore\n"
     ]
    },
    {
     "name": "stdout",
     "output_type": "stream",
     "text": [
      "Row 116 of 3322 appended, duration (h:m:s): 0:01:55.616266, total elapsed time (h:m:s): 1:28:19.610117\n",
      "INFO:tensorflow:Saver not created because there are no variables in the graph to restore\n"
     ]
    },
    {
     "name": "stderr",
     "output_type": "stream",
     "text": [
      "INFO:tensorflow:Saver not created because there are no variables in the graph to restore\n"
     ]
    },
    {
     "name": "stdout",
     "output_type": "stream",
     "text": [
      "Row 117 of 3322 appended, duration (h:m:s): 0:02:02.614373, total elapsed time (h:m:s): 1:30:22.225487\n",
      "INFO:tensorflow:Saver not created because there are no variables in the graph to restore\n"
     ]
    },
    {
     "name": "stderr",
     "output_type": "stream",
     "text": [
      "INFO:tensorflow:Saver not created because there are no variables in the graph to restore\n"
     ]
    },
    {
     "name": "stdout",
     "output_type": "stream",
     "text": [
      "Row 118 of 3322 appended, duration (h:m:s): 0:01:43.054712, total elapsed time (h:m:s): 1:32:05.297155\n",
      "INFO:tensorflow:Saver not created because there are no variables in the graph to restore\n"
     ]
    },
    {
     "name": "stderr",
     "output_type": "stream",
     "text": [
      "INFO:tensorflow:Saver not created because there are no variables in the graph to restore\n"
     ]
    },
    {
     "name": "stdout",
     "output_type": "stream",
     "text": [
      "Row 119 of 3322 appended, duration (h:m:s): 0:01:55.570361, total elapsed time (h:m:s): 1:34:00.867516\n",
      "INFO:tensorflow:Saver not created because there are no variables in the graph to restore\n"
     ]
    },
    {
     "name": "stderr",
     "output_type": "stream",
     "text": [
      "INFO:tensorflow:Saver not created because there are no variables in the graph to restore\n"
     ]
    },
    {
     "name": "stdout",
     "output_type": "stream",
     "text": [
      "Row 120 of 3322 appended, duration (h:m:s): 0:01:43.142654, total elapsed time (h:m:s): 1:35:44.010170\n",
      "INFO:tensorflow:Saver not created because there are no variables in the graph to restore\n"
     ]
    },
    {
     "name": "stderr",
     "output_type": "stream",
     "text": [
      "INFO:tensorflow:Saver not created because there are no variables in the graph to restore\n"
     ]
    },
    {
     "name": "stdout",
     "output_type": "stream",
     "text": [
      "Row 121 of 3322 appended, duration (h:m:s): 0:01:32.888176, total elapsed time (h:m:s): 1:37:16.899343\n",
      "INFO:tensorflow:Saver not created because there are no variables in the graph to restore\n"
     ]
    },
    {
     "name": "stderr",
     "output_type": "stream",
     "text": [
      "INFO:tensorflow:Saver not created because there are no variables in the graph to restore\n"
     ]
    },
    {
     "name": "stdout",
     "output_type": "stream",
     "text": [
      "Row 122 of 3322 appended, duration (h:m:s): 0:02:26.899793, total elapsed time (h:m:s): 1:39:43.814095\n",
      "INFO:tensorflow:Saver not created because there are no variables in the graph to restore\n"
     ]
    },
    {
     "name": "stderr",
     "output_type": "stream",
     "text": [
      "INFO:tensorflow:Saver not created because there are no variables in the graph to restore\n"
     ]
    },
    {
     "name": "stdout",
     "output_type": "stream",
     "text": [
      "Row 123 of 3322 appended, duration (h:m:s): 0:01:31.933280, total elapsed time (h:m:s): 1:41:15.758345\n",
      "INFO:tensorflow:Saver not created because there are no variables in the graph to restore\n"
     ]
    },
    {
     "name": "stderr",
     "output_type": "stream",
     "text": [
      "INFO:tensorflow:Saver not created because there are no variables in the graph to restore\n"
     ]
    },
    {
     "name": "stdout",
     "output_type": "stream",
     "text": [
      "Row 124 of 3322 appended, duration (h:m:s): 0:01:27.734503, total elapsed time (h:m:s): 1:42:43.492848\n",
      "INFO:tensorflow:Saver not created because there are no variables in the graph to restore\n"
     ]
    },
    {
     "name": "stderr",
     "output_type": "stream",
     "text": [
      "INFO:tensorflow:Saver not created because there are no variables in the graph to restore\n"
     ]
    },
    {
     "name": "stdout",
     "output_type": "stream",
     "text": [
      "Row 125 of 3322 appended, duration (h:m:s): 0:01:29.794994, total elapsed time (h:m:s): 1:44:13.288842\n",
      "INFO:tensorflow:Saver not created because there are no variables in the graph to restore\n"
     ]
    },
    {
     "name": "stderr",
     "output_type": "stream",
     "text": [
      "INFO:tensorflow:Saver not created because there are no variables in the graph to restore\n"
     ]
    },
    {
     "name": "stdout",
     "output_type": "stream",
     "text": [
      "Row 126 of 3322 appended, duration (h:m:s): 0:00:59.194473, total elapsed time (h:m:s): 1:45:12.483315\n",
      "INFO:tensorflow:Saver not created because there are no variables in the graph to restore\n"
     ]
    },
    {
     "name": "stderr",
     "output_type": "stream",
     "text": [
      "INFO:tensorflow:Saver not created because there are no variables in the graph to restore\n"
     ]
    },
    {
     "name": "stdout",
     "output_type": "stream",
     "text": [
      "Row 127 of 3322 appended, duration (h:m:s): 0:00:59.947054, total elapsed time (h:m:s): 1:46:12.430369\n",
      "INFO:tensorflow:Saver not created because there are no variables in the graph to restore\n"
     ]
    },
    {
     "name": "stderr",
     "output_type": "stream",
     "text": [
      "INFO:tensorflow:Saver not created because there are no variables in the graph to restore\n"
     ]
    },
    {
     "name": "stdout",
     "output_type": "stream",
     "text": [
      "Row 128 of 3322 appended, duration (h:m:s): 0:01:32.992240, total elapsed time (h:m:s): 1:47:45.423606\n",
      "INFO:tensorflow:Saver not created because there are no variables in the graph to restore\n"
     ]
    },
    {
     "name": "stderr",
     "output_type": "stream",
     "text": [
      "INFO:tensorflow:Saver not created because there are no variables in the graph to restore\n"
     ]
    },
    {
     "name": "stdout",
     "output_type": "stream",
     "text": [
      "Row 129 of 3322 appended, duration (h:m:s): 0:01:39.405311, total elapsed time (h:m:s): 1:49:24.829915\n",
      "INFO:tensorflow:Saver not created because there are no variables in the graph to restore\n"
     ]
    },
    {
     "name": "stderr",
     "output_type": "stream",
     "text": [
      "INFO:tensorflow:Saver not created because there are no variables in the graph to restore\n"
     ]
    },
    {
     "name": "stdout",
     "output_type": "stream",
     "text": [
      "Row 130 of 3322 appended, duration (h:m:s): 0:01:30.519059, total elapsed time (h:m:s): 1:50:55.350967\n",
      "INFO:tensorflow:Saver not created because there are no variables in the graph to restore\n"
     ]
    },
    {
     "name": "stderr",
     "output_type": "stream",
     "text": [
      "INFO:tensorflow:Saver not created because there are no variables in the graph to restore\n"
     ]
    },
    {
     "name": "stdout",
     "output_type": "stream",
     "text": [
      "Row 131 of 3322 appended, duration (h:m:s): 0:01:54.579785, total elapsed time (h:m:s): 1:52:49.931749\n",
      "INFO:tensorflow:Saver not created because there are no variables in the graph to restore\n"
     ]
    },
    {
     "name": "stderr",
     "output_type": "stream",
     "text": [
      "INFO:tensorflow:Saver not created because there are no variables in the graph to restore\n"
     ]
    },
    {
     "name": "stdout",
     "output_type": "stream",
     "text": [
      "Row 132 of 3322 appended, duration (h:m:s): 0:02:14.874506, total elapsed time (h:m:s): 1:55:04.807252\n",
      "INFO:tensorflow:Saver not created because there are no variables in the graph to restore\n"
     ]
    },
    {
     "name": "stderr",
     "output_type": "stream",
     "text": [
      "INFO:tensorflow:Saver not created because there are no variables in the graph to restore\n"
     ]
    },
    {
     "name": "stdout",
     "output_type": "stream",
     "text": [
      "Row 133 of 3322 appended, duration (h:m:s): 0:02:01.519514, total elapsed time (h:m:s): 1:57:06.327763\n",
      "INFO:tensorflow:Saver not created because there are no variables in the graph to restore\n"
     ]
    },
    {
     "name": "stderr",
     "output_type": "stream",
     "text": [
      "INFO:tensorflow:Saver not created because there are no variables in the graph to restore\n"
     ]
    },
    {
     "name": "stdout",
     "output_type": "stream",
     "text": [
      "Row 134 of 3322 appended, duration (h:m:s): 0:01:39.692644, total elapsed time (h:m:s): 1:58:46.021405\n",
      "INFO:tensorflow:Saver not created because there are no variables in the graph to restore\n"
     ]
    },
    {
     "name": "stderr",
     "output_type": "stream",
     "text": [
      "INFO:tensorflow:Saver not created because there are no variables in the graph to restore\n"
     ]
    },
    {
     "name": "stdout",
     "output_type": "stream",
     "text": [
      "Row 135 of 3322 appended, duration (h:m:s): 0:01:44.263672, total elapsed time (h:m:s): 2:00:30.285076\n",
      "INFO:tensorflow:Saver not created because there are no variables in the graph to restore\n"
     ]
    },
    {
     "name": "stderr",
     "output_type": "stream",
     "text": [
      "INFO:tensorflow:Saver not created because there are no variables in the graph to restore\n"
     ]
    },
    {
     "name": "stdout",
     "output_type": "stream",
     "text": [
      "Row 136 of 3322 appended, duration (h:m:s): 0:04:01.981972, total elapsed time (h:m:s): 2:04:32.270041\n",
      "INFO:tensorflow:Saver not created because there are no variables in the graph to restore\n"
     ]
    },
    {
     "name": "stderr",
     "output_type": "stream",
     "text": [
      "INFO:tensorflow:Saver not created because there are no variables in the graph to restore\n"
     ]
    },
    {
     "name": "stdout",
     "output_type": "stream",
     "text": [
      "Row 137 of 3322 appended, duration (h:m:s): 0:01:38.058889, total elapsed time (h:m:s): 2:06:10.334915\n",
      "INFO:tensorflow:Saver not created because there are no variables in the graph to restore\n"
     ]
    },
    {
     "name": "stderr",
     "output_type": "stream",
     "text": [
      "INFO:tensorflow:Saver not created because there are no variables in the graph to restore\n"
     ]
    },
    {
     "name": "stdout",
     "output_type": "stream",
     "text": [
      "Row 138 of 3322 appended, duration (h:m:s): 0:01:28.119458, total elapsed time (h:m:s): 2:07:38.456367\n",
      "INFO:tensorflow:Saver not created because there are no variables in the graph to restore\n"
     ]
    },
    {
     "name": "stderr",
     "output_type": "stream",
     "text": [
      "INFO:tensorflow:Saver not created because there are no variables in the graph to restore\n"
     ]
    },
    {
     "name": "stdout",
     "output_type": "stream",
     "text": [
      "Row 139 of 3322 appended, duration (h:m:s): 0:01:52.300915, total elapsed time (h:m:s): 2:09:30.757283\n",
      "INFO:tensorflow:Saver not created because there are no variables in the graph to restore\n"
     ]
    },
    {
     "name": "stderr",
     "output_type": "stream",
     "text": [
      "INFO:tensorflow:Saver not created because there are no variables in the graph to restore\n"
     ]
    },
    {
     "name": "stdout",
     "output_type": "stream",
     "text": [
      "Row 140 of 3322 appended, duration (h:m:s): 0:02:47.722517, total elapsed time (h:m:s): 2:12:18.481797\n",
      "INFO:tensorflow:Saver not created because there are no variables in the graph to restore\n"
     ]
    },
    {
     "name": "stderr",
     "output_type": "stream",
     "text": [
      "INFO:tensorflow:Saver not created because there are no variables in the graph to restore\n"
     ]
    },
    {
     "name": "stdout",
     "output_type": "stream",
     "text": [
      "Row 141 of 3322 appended, duration (h:m:s): 0:01:23.798410, total elapsed time (h:m:s): 2:13:42.286192\n",
      "INFO:tensorflow:Saver not created because there are no variables in the graph to restore\n"
     ]
    },
    {
     "name": "stderr",
     "output_type": "stream",
     "text": [
      "INFO:tensorflow:Saver not created because there are no variables in the graph to restore\n"
     ]
    },
    {
     "name": "stdout",
     "output_type": "stream",
     "text": [
      "Row 142 of 3322 appended, duration (h:m:s): 0:02:37.658610, total elapsed time (h:m:s): 2:16:19.944802\n",
      "INFO:tensorflow:Saver not created because there are no variables in the graph to restore\n"
     ]
    },
    {
     "name": "stderr",
     "output_type": "stream",
     "text": [
      "INFO:tensorflow:Saver not created because there are no variables in the graph to restore\n"
     ]
    },
    {
     "name": "stdout",
     "output_type": "stream",
     "text": [
      "Row 143 of 3322 appended, duration (h:m:s): 0:01:36.498080, total elapsed time (h:m:s): 2:17:56.443879\n",
      "INFO:tensorflow:Saver not created because there are no variables in the graph to restore\n"
     ]
    },
    {
     "name": "stderr",
     "output_type": "stream",
     "text": [
      "INFO:tensorflow:Saver not created because there are no variables in the graph to restore\n"
     ]
    },
    {
     "name": "stdout",
     "output_type": "stream",
     "text": [
      "Row 144 of 3322 appended, duration (h:m:s): 0:01:47.189356, total elapsed time (h:m:s): 2:19:43.634233\n",
      "INFO:tensorflow:Saver not created because there are no variables in the graph to restore\n"
     ]
    },
    {
     "name": "stderr",
     "output_type": "stream",
     "text": [
      "INFO:tensorflow:Saver not created because there are no variables in the graph to restore\n"
     ]
    },
    {
     "name": "stdout",
     "output_type": "stream",
     "text": [
      "Row 145 of 3322 appended, duration (h:m:s): 0:02:42.518717, total elapsed time (h:m:s): 2:22:26.152951\n",
      "INFO:tensorflow:Saver not created because there are no variables in the graph to restore\n"
     ]
    },
    {
     "name": "stderr",
     "output_type": "stream",
     "text": [
      "INFO:tensorflow:Saver not created because there are no variables in the graph to restore\n"
     ]
    },
    {
     "name": "stdout",
     "output_type": "stream",
     "text": [
      "Row 146 of 3322 appended, duration (h:m:s): 0:01:31.926549, total elapsed time (h:m:s): 2:23:58.080497\n",
      "INFO:tensorflow:Saver not created because there are no variables in the graph to restore\n"
     ]
    },
    {
     "name": "stderr",
     "output_type": "stream",
     "text": [
      "INFO:tensorflow:Saver not created because there are no variables in the graph to restore\n"
     ]
    },
    {
     "name": "stdout",
     "output_type": "stream",
     "text": [
      "Row 147 of 3322 appended, duration (h:m:s): 0:01:42.062362, total elapsed time (h:m:s): 2:25:40.143857\n",
      "INFO:tensorflow:Saver not created because there are no variables in the graph to restore\n"
     ]
    },
    {
     "name": "stderr",
     "output_type": "stream",
     "text": [
      "INFO:tensorflow:Saver not created because there are no variables in the graph to restore\n"
     ]
    },
    {
     "name": "stdout",
     "output_type": "stream",
     "text": [
      "Row 148 of 3322 appended, duration (h:m:s): 2:19:25.669097, total elapsed time (h:m:s): 4:45:05.817940\n",
      "INFO:tensorflow:Saver not created because there are no variables in the graph to restore\n"
     ]
    },
    {
     "name": "stderr",
     "output_type": "stream",
     "text": [
      "INFO:tensorflow:Saver not created because there are no variables in the graph to restore\n"
     ]
    },
    {
     "name": "stdout",
     "output_type": "stream",
     "text": [
      "Row 149 of 3322 appended, duration (h:m:s): 0:01:54.709059, total elapsed time (h:m:s): 4:47:00.548940\n",
      "INFO:tensorflow:Saver not created because there are no variables in the graph to restore\n"
     ]
    },
    {
     "name": "stderr",
     "output_type": "stream",
     "text": [
      "INFO:tensorflow:Saver not created because there are no variables in the graph to restore\n"
     ]
    },
    {
     "name": "stdout",
     "output_type": "stream",
     "text": [
      "Row 150 of 3322 appended, duration (h:m:s): 0:02:24.889124, total elapsed time (h:m:s): 4:49:25.439062\n",
      "INFO:tensorflow:Saver not created because there are no variables in the graph to restore\n"
     ]
    },
    {
     "name": "stderr",
     "output_type": "stream",
     "text": [
      "INFO:tensorflow:Saver not created because there are no variables in the graph to restore\n"
     ]
    },
    {
     "name": "stdout",
     "output_type": "stream",
     "text": [
      "Row 151 of 3322 appended, duration (h:m:s): 0:03:14.352939, total elapsed time (h:m:s): 4:52:39.792999\n",
      "INFO:tensorflow:Saver not created because there are no variables in the graph to restore\n"
     ]
    },
    {
     "name": "stderr",
     "output_type": "stream",
     "text": [
      "INFO:tensorflow:Saver not created because there are no variables in the graph to restore\n"
     ]
    },
    {
     "name": "stdout",
     "output_type": "stream",
     "text": [
      "Row 152 of 3322 appended, duration (h:m:s): 0:01:49.408837, total elapsed time (h:m:s): 4:54:29.240731\n",
      "INFO:tensorflow:Saver not created because there are no variables in the graph to restore\n"
     ]
    },
    {
     "name": "stderr",
     "output_type": "stream",
     "text": [
      "INFO:tensorflow:Saver not created because there are no variables in the graph to restore\n"
     ]
    },
    {
     "name": "stdout",
     "output_type": "stream",
     "text": [
      "Row 153 of 3322 appended, duration (h:m:s): 0:02:08.274931, total elapsed time (h:m:s): 4:56:37.516659\n",
      "INFO:tensorflow:Saver not created because there are no variables in the graph to restore\n"
     ]
    },
    {
     "name": "stderr",
     "output_type": "stream",
     "text": [
      "INFO:tensorflow:Saver not created because there are no variables in the graph to restore\n"
     ]
    },
    {
     "name": "stdout",
     "output_type": "stream",
     "text": [
      "Row 154 of 3322 appended, duration (h:m:s): 0:02:08.899774, total elapsed time (h:m:s): 4:58:46.417432\n",
      "INFO:tensorflow:Saver not created because there are no variables in the graph to restore\n"
     ]
    },
    {
     "name": "stderr",
     "output_type": "stream",
     "text": [
      "INFO:tensorflow:Saver not created because there are no variables in the graph to restore\n"
     ]
    },
    {
     "name": "stdout",
     "output_type": "stream",
     "text": [
      "Row 155 of 3322 appended, duration (h:m:s): 0:02:13.083630, total elapsed time (h:m:s): 5:00:59.501062\n",
      "INFO:tensorflow:Saver not created because there are no variables in the graph to restore\n"
     ]
    },
    {
     "name": "stderr",
     "output_type": "stream",
     "text": [
      "INFO:tensorflow:Saver not created because there are no variables in the graph to restore\n"
     ]
    },
    {
     "name": "stdout",
     "output_type": "stream",
     "text": [
      "Row 156 of 3322 appended, duration (h:m:s): 0:01:55.076244, total elapsed time (h:m:s): 5:02:54.578305\n",
      "INFO:tensorflow:Saver not created because there are no variables in the graph to restore\n"
     ]
    },
    {
     "name": "stderr",
     "output_type": "stream",
     "text": [
      "INFO:tensorflow:Saver not created because there are no variables in the graph to restore\n"
     ]
    },
    {
     "name": "stdout",
     "output_type": "stream",
     "text": [
      "Row 157 of 3322 appended, duration (h:m:s): 0:02:00.433573, total elapsed time (h:m:s): 5:04:55.011878\n",
      "INFO:tensorflow:Saver not created because there are no variables in the graph to restore\n"
     ]
    },
    {
     "name": "stderr",
     "output_type": "stream",
     "text": [
      "INFO:tensorflow:Saver not created because there are no variables in the graph to restore\n"
     ]
    },
    {
     "name": "stdout",
     "output_type": "stream",
     "text": [
      "Row 158 of 3322 appended, duration (h:m:s): 0:01:51.130707, total elapsed time (h:m:s): 5:06:46.143583\n",
      "INFO:tensorflow:Saver not created because there are no variables in the graph to restore\n"
     ]
    },
    {
     "name": "stderr",
     "output_type": "stream",
     "text": [
      "INFO:tensorflow:Saver not created because there are no variables in the graph to restore\n"
     ]
    },
    {
     "name": "stdout",
     "output_type": "stream",
     "text": [
      "Row 159 of 3322 appended, duration (h:m:s): 0:02:30.847017, total elapsed time (h:m:s): 5:09:16.993597\n",
      "INFO:tensorflow:Saver not created because there are no variables in the graph to restore\n"
     ]
    },
    {
     "name": "stderr",
     "output_type": "stream",
     "text": [
      "INFO:tensorflow:Saver not created because there are no variables in the graph to restore\n"
     ]
    },
    {
     "name": "stdout",
     "output_type": "stream",
     "text": [
      "Row 160 of 3322 appended, duration (h:m:s): 0:02:30.316760, total elapsed time (h:m:s): 5:11:47.310357\n",
      "INFO:tensorflow:Saver not created because there are no variables in the graph to restore\n"
     ]
    },
    {
     "name": "stderr",
     "output_type": "stream",
     "text": [
      "INFO:tensorflow:Saver not created because there are no variables in the graph to restore\n"
     ]
    },
    {
     "name": "stdout",
     "output_type": "stream",
     "text": [
      "Row 161 of 3322 appended, duration (h:m:s): 0:03:22.522222, total elapsed time (h:m:s): 5:15:09.834568\n",
      "INFO:tensorflow:Saver not created because there are no variables in the graph to restore\n"
     ]
    },
    {
     "name": "stderr",
     "output_type": "stream",
     "text": [
      "INFO:tensorflow:Saver not created because there are no variables in the graph to restore\n"
     ]
    },
    {
     "name": "stdout",
     "output_type": "stream",
     "text": [
      "Row 162 of 3322 appended, duration (h:m:s): 0:02:53.607903, total elapsed time (h:m:s): 5:18:03.451446\n",
      "INFO:tensorflow:Saver not created because there are no variables in the graph to restore\n"
     ]
    },
    {
     "name": "stderr",
     "output_type": "stream",
     "text": [
      "INFO:tensorflow:Saver not created because there are no variables in the graph to restore\n"
     ]
    },
    {
     "name": "stdout",
     "output_type": "stream",
     "text": [
      "Row 163 of 3322 appended, duration (h:m:s): 0:02:58.694113, total elapsed time (h:m:s): 5:21:02.147554\n",
      "INFO:tensorflow:Saver not created because there are no variables in the graph to restore\n"
     ]
    },
    {
     "name": "stderr",
     "output_type": "stream",
     "text": [
      "INFO:tensorflow:Saver not created because there are no variables in the graph to restore\n"
     ]
    },
    {
     "name": "stdout",
     "output_type": "stream",
     "text": [
      "Row 164 of 3322 appended, duration (h:m:s): 0:02:14.651772, total elapsed time (h:m:s): 5:23:16.800322\n",
      "INFO:tensorflow:Saver not created because there are no variables in the graph to restore\n"
     ]
    },
    {
     "name": "stderr",
     "output_type": "stream",
     "text": [
      "INFO:tensorflow:Saver not created because there are no variables in the graph to restore\n"
     ]
    },
    {
     "name": "stdout",
     "output_type": "stream",
     "text": [
      "Row 165 of 3322 appended, duration (h:m:s): 0:02:06.692670, total elapsed time (h:m:s): 5:25:23.492992\n",
      "INFO:tensorflow:Saver not created because there are no variables in the graph to restore\n"
     ]
    },
    {
     "name": "stderr",
     "output_type": "stream",
     "text": [
      "INFO:tensorflow:Saver not created because there are no variables in the graph to restore\n"
     ]
    },
    {
     "name": "stdout",
     "output_type": "stream",
     "text": [
      "Row 166 of 3322 appended, duration (h:m:s): 0:03:15.377803, total elapsed time (h:m:s): 5:28:38.872791\n",
      "INFO:tensorflow:Saver not created because there are no variables in the graph to restore\n"
     ]
    },
    {
     "name": "stderr",
     "output_type": "stream",
     "text": [
      "INFO:tensorflow:Saver not created because there are no variables in the graph to restore\n"
     ]
    },
    {
     "name": "stdout",
     "output_type": "stream",
     "text": [
      "Row 167 of 3322 appended, duration (h:m:s): 0:05:25.157138, total elapsed time (h:m:s): 5:34:04.046884\n",
      "INFO:tensorflow:Saver not created because there are no variables in the graph to restore\n"
     ]
    },
    {
     "name": "stderr",
     "output_type": "stream",
     "text": [
      "INFO:tensorflow:Saver not created because there are no variables in the graph to restore\n"
     ]
    },
    {
     "name": "stdout",
     "output_type": "stream",
     "text": [
      "Row 168 of 3322 appended, duration (h:m:s): 0:02:59.761386, total elapsed time (h:m:s): 5:37:03.817245\n",
      "INFO:tensorflow:Saver not created because there are no variables in the graph to restore\n"
     ]
    },
    {
     "name": "stderr",
     "output_type": "stream",
     "text": [
      "INFO:tensorflow:Saver not created because there are no variables in the graph to restore\n"
     ]
    },
    {
     "name": "stdout",
     "output_type": "stream",
     "text": [
      "Row 169 of 3322 appended, duration (h:m:s): 0:02:14.626312, total elapsed time (h:m:s): 5:39:18.444555\n",
      "INFO:tensorflow:Saver not created because there are no variables in the graph to restore\n"
     ]
    },
    {
     "name": "stderr",
     "output_type": "stream",
     "text": [
      "INFO:tensorflow:Saver not created because there are no variables in the graph to restore\n"
     ]
    },
    {
     "name": "stdout",
     "output_type": "stream",
     "text": [
      "Row 170 of 3322 appended, duration (h:m:s): 0:06:16.563755, total elapsed time (h:m:s): 5:45:35.009309\n",
      "INFO:tensorflow:Saver not created because there are no variables in the graph to restore\n"
     ]
    },
    {
     "name": "stderr",
     "output_type": "stream",
     "text": [
      "INFO:tensorflow:Saver not created because there are no variables in the graph to restore\n"
     ]
    },
    {
     "name": "stdout",
     "output_type": "stream",
     "text": [
      "Row 171 of 3322 appended, duration (h:m:s): 0:02:48.974473, total elapsed time (h:m:s): 5:48:23.998741\n",
      "INFO:tensorflow:Saver not created because there are no variables in the graph to restore\n"
     ]
    },
    {
     "name": "stderr",
     "output_type": "stream",
     "text": [
      "INFO:tensorflow:Saver not created because there are no variables in the graph to restore\n"
     ]
    },
    {
     "name": "stdout",
     "output_type": "stream",
     "text": [
      "Row 172 of 3322 appended, duration (h:m:s): 0:02:01.916018, total elapsed time (h:m:s): 5:50:25.914758\n",
      "INFO:tensorflow:Saver not created because there are no variables in the graph to restore\n"
     ]
    },
    {
     "name": "stderr",
     "output_type": "stream",
     "text": [
      "INFO:tensorflow:Saver not created because there are no variables in the graph to restore\n"
     ]
    },
    {
     "name": "stdout",
     "output_type": "stream",
     "text": [
      "Row 173 of 3322 appended, duration (h:m:s): 0:02:09.643362, total elapsed time (h:m:s): 5:52:35.558120\n",
      "INFO:tensorflow:Saver not created because there are no variables in the graph to restore\n"
     ]
    },
    {
     "name": "stderr",
     "output_type": "stream",
     "text": [
      "INFO:tensorflow:Saver not created because there are no variables in the graph to restore\n"
     ]
    },
    {
     "name": "stdout",
     "output_type": "stream",
     "text": [
      "Row 174 of 3322 appended, duration (h:m:s): 0:01:56.764054, total elapsed time (h:m:s): 5:54:32.323172\n",
      "INFO:tensorflow:Saver not created because there are no variables in the graph to restore\n"
     ]
    },
    {
     "name": "stderr",
     "output_type": "stream",
     "text": [
      "INFO:tensorflow:Saver not created because there are no variables in the graph to restore\n"
     ]
    },
    {
     "ename": "KeyboardInterrupt",
     "evalue": "",
     "output_type": "error",
     "traceback": [
      "\u001b[1;31m---------------------------------------------------------------------------\u001b[0m",
      "\u001b[1;31mKeyboardInterrupt\u001b[0m                         Traceback (most recent call last)",
      "\u001b[1;32m<timed exec>\u001b[0m in \u001b[0;36m<module>\u001b[1;34m\u001b[0m\n",
      "\u001b[1;32m<ipython-input-33-ddd41fc5bd18>\u001b[0m in \u001b[0;36melmo_vectors\u001b[1;34m(x)\u001b[0m\n\u001b[0;32m      2\u001b[0m     \u001b[0membeddings\u001b[0m \u001b[1;33m=\u001b[0m \u001b[0melmo\u001b[0m\u001b[1;33m(\u001b[0m\u001b[0mx\u001b[0m\u001b[1;33m,\u001b[0m \u001b[0msignature\u001b[0m\u001b[1;33m=\u001b[0m\u001b[1;34m\"default\"\u001b[0m\u001b[1;33m,\u001b[0m \u001b[0mas_dict\u001b[0m\u001b[1;33m=\u001b[0m\u001b[1;32mTrue\u001b[0m\u001b[1;33m)\u001b[0m\u001b[1;33m[\u001b[0m\u001b[1;34m\"elmo\"\u001b[0m\u001b[1;33m]\u001b[0m\u001b[1;33m\u001b[0m\u001b[1;33m\u001b[0m\u001b[0m\n\u001b[0;32m      3\u001b[0m     \u001b[1;32mwith\u001b[0m \u001b[0mtf\u001b[0m\u001b[1;33m.\u001b[0m\u001b[0mSession\u001b[0m\u001b[1;33m(\u001b[0m\u001b[1;33m)\u001b[0m \u001b[1;32mas\u001b[0m \u001b[0msess\u001b[0m\u001b[1;33m:\u001b[0m\u001b[1;33m\u001b[0m\u001b[1;33m\u001b[0m\u001b[0m\n\u001b[1;32m----> 4\u001b[1;33m         \u001b[0msess\u001b[0m\u001b[1;33m.\u001b[0m\u001b[0mrun\u001b[0m\u001b[1;33m(\u001b[0m\u001b[0mtf\u001b[0m\u001b[1;33m.\u001b[0m\u001b[0mglobal_variables_initializer\u001b[0m\u001b[1;33m(\u001b[0m\u001b[1;33m)\u001b[0m\u001b[1;33m)\u001b[0m\u001b[1;33m\u001b[0m\u001b[1;33m\u001b[0m\u001b[0m\n\u001b[0m\u001b[0;32m      5\u001b[0m         \u001b[0msess\u001b[0m\u001b[1;33m.\u001b[0m\u001b[0mrun\u001b[0m\u001b[1;33m(\u001b[0m\u001b[0mtf\u001b[0m\u001b[1;33m.\u001b[0m\u001b[0mtables_initializer\u001b[0m\u001b[1;33m(\u001b[0m\u001b[1;33m)\u001b[0m\u001b[1;33m)\u001b[0m\u001b[1;33m\u001b[0m\u001b[1;33m\u001b[0m\u001b[0m\n\u001b[0;32m      6\u001b[0m         \u001b[1;31m# return average of ELMo features\u001b[0m\u001b[1;33m\u001b[0m\u001b[1;33m\u001b[0m\u001b[1;33m\u001b[0m\u001b[0m\n",
      "\u001b[1;32m~\\Anaconda3\\lib\\site-packages\\tensorflow_core\\python\\client\\session.py\u001b[0m in \u001b[0;36mrun\u001b[1;34m(self, fetches, feed_dict, options, run_metadata)\u001b[0m\n\u001b[0;32m    958\u001b[0m     \u001b[1;32mtry\u001b[0m\u001b[1;33m:\u001b[0m\u001b[1;33m\u001b[0m\u001b[1;33m\u001b[0m\u001b[0m\n\u001b[0;32m    959\u001b[0m       result = self._run(None, fetches, feed_dict, options_ptr,\n\u001b[1;32m--> 960\u001b[1;33m                          run_metadata_ptr)\n\u001b[0m\u001b[0;32m    961\u001b[0m       \u001b[1;32mif\u001b[0m \u001b[0mrun_metadata\u001b[0m\u001b[1;33m:\u001b[0m\u001b[1;33m\u001b[0m\u001b[1;33m\u001b[0m\u001b[0m\n\u001b[0;32m    962\u001b[0m         \u001b[0mproto_data\u001b[0m \u001b[1;33m=\u001b[0m \u001b[0mtf_session\u001b[0m\u001b[1;33m.\u001b[0m\u001b[0mTF_GetBuffer\u001b[0m\u001b[1;33m(\u001b[0m\u001b[0mrun_metadata_ptr\u001b[0m\u001b[1;33m)\u001b[0m\u001b[1;33m\u001b[0m\u001b[1;33m\u001b[0m\u001b[0m\n",
      "\u001b[1;32m~\\Anaconda3\\lib\\site-packages\\tensorflow_core\\python\\client\\session.py\u001b[0m in \u001b[0;36m_run\u001b[1;34m(self, handle, fetches, feed_dict, options, run_metadata)\u001b[0m\n\u001b[0;32m   1181\u001b[0m     \u001b[1;32mif\u001b[0m \u001b[0mfinal_fetches\u001b[0m \u001b[1;32mor\u001b[0m \u001b[0mfinal_targets\u001b[0m \u001b[1;32mor\u001b[0m \u001b[1;33m(\u001b[0m\u001b[0mhandle\u001b[0m \u001b[1;32mand\u001b[0m \u001b[0mfeed_dict_tensor\u001b[0m\u001b[1;33m)\u001b[0m\u001b[1;33m:\u001b[0m\u001b[1;33m\u001b[0m\u001b[1;33m\u001b[0m\u001b[0m\n\u001b[0;32m   1182\u001b[0m       results = self._do_run(handle, final_targets, final_fetches,\n\u001b[1;32m-> 1183\u001b[1;33m                              feed_dict_tensor, options, run_metadata)\n\u001b[0m\u001b[0;32m   1184\u001b[0m     \u001b[1;32melse\u001b[0m\u001b[1;33m:\u001b[0m\u001b[1;33m\u001b[0m\u001b[1;33m\u001b[0m\u001b[0m\n\u001b[0;32m   1185\u001b[0m       \u001b[0mresults\u001b[0m \u001b[1;33m=\u001b[0m \u001b[1;33m[\u001b[0m\u001b[1;33m]\u001b[0m\u001b[1;33m\u001b[0m\u001b[1;33m\u001b[0m\u001b[0m\n",
      "\u001b[1;32m~\\Anaconda3\\lib\\site-packages\\tensorflow_core\\python\\client\\session.py\u001b[0m in \u001b[0;36m_do_run\u001b[1;34m(self, handle, target_list, fetch_list, feed_dict, options, run_metadata)\u001b[0m\n\u001b[0;32m   1359\u001b[0m     \u001b[1;32mif\u001b[0m \u001b[0mhandle\u001b[0m \u001b[1;32mis\u001b[0m \u001b[1;32mNone\u001b[0m\u001b[1;33m:\u001b[0m\u001b[1;33m\u001b[0m\u001b[1;33m\u001b[0m\u001b[0m\n\u001b[0;32m   1360\u001b[0m       return self._do_call(_run_fn, feeds, fetches, targets, options,\n\u001b[1;32m-> 1361\u001b[1;33m                            run_metadata)\n\u001b[0m\u001b[0;32m   1362\u001b[0m     \u001b[1;32melse\u001b[0m\u001b[1;33m:\u001b[0m\u001b[1;33m\u001b[0m\u001b[1;33m\u001b[0m\u001b[0m\n\u001b[0;32m   1363\u001b[0m       \u001b[1;32mreturn\u001b[0m \u001b[0mself\u001b[0m\u001b[1;33m.\u001b[0m\u001b[0m_do_call\u001b[0m\u001b[1;33m(\u001b[0m\u001b[0m_prun_fn\u001b[0m\u001b[1;33m,\u001b[0m \u001b[0mhandle\u001b[0m\u001b[1;33m,\u001b[0m \u001b[0mfeeds\u001b[0m\u001b[1;33m,\u001b[0m \u001b[0mfetches\u001b[0m\u001b[1;33m)\u001b[0m\u001b[1;33m\u001b[0m\u001b[1;33m\u001b[0m\u001b[0m\n",
      "\u001b[1;32m~\\Anaconda3\\lib\\site-packages\\tensorflow_core\\python\\client\\session.py\u001b[0m in \u001b[0;36m_do_call\u001b[1;34m(self, fn, *args)\u001b[0m\n\u001b[0;32m   1365\u001b[0m   \u001b[1;32mdef\u001b[0m \u001b[0m_do_call\u001b[0m\u001b[1;33m(\u001b[0m\u001b[0mself\u001b[0m\u001b[1;33m,\u001b[0m \u001b[0mfn\u001b[0m\u001b[1;33m,\u001b[0m \u001b[1;33m*\u001b[0m\u001b[0margs\u001b[0m\u001b[1;33m)\u001b[0m\u001b[1;33m:\u001b[0m\u001b[1;33m\u001b[0m\u001b[1;33m\u001b[0m\u001b[0m\n\u001b[0;32m   1366\u001b[0m     \u001b[1;32mtry\u001b[0m\u001b[1;33m:\u001b[0m\u001b[1;33m\u001b[0m\u001b[1;33m\u001b[0m\u001b[0m\n\u001b[1;32m-> 1367\u001b[1;33m       \u001b[1;32mreturn\u001b[0m \u001b[0mfn\u001b[0m\u001b[1;33m(\u001b[0m\u001b[1;33m*\u001b[0m\u001b[0margs\u001b[0m\u001b[1;33m)\u001b[0m\u001b[1;33m\u001b[0m\u001b[1;33m\u001b[0m\u001b[0m\n\u001b[0m\u001b[0;32m   1368\u001b[0m     \u001b[1;32mexcept\u001b[0m \u001b[0merrors\u001b[0m\u001b[1;33m.\u001b[0m\u001b[0mOpError\u001b[0m \u001b[1;32mas\u001b[0m \u001b[0me\u001b[0m\u001b[1;33m:\u001b[0m\u001b[1;33m\u001b[0m\u001b[1;33m\u001b[0m\u001b[0m\n\u001b[0;32m   1369\u001b[0m       \u001b[0mmessage\u001b[0m \u001b[1;33m=\u001b[0m \u001b[0mcompat\u001b[0m\u001b[1;33m.\u001b[0m\u001b[0mas_text\u001b[0m\u001b[1;33m(\u001b[0m\u001b[0me\u001b[0m\u001b[1;33m.\u001b[0m\u001b[0mmessage\u001b[0m\u001b[1;33m)\u001b[0m\u001b[1;33m\u001b[0m\u001b[1;33m\u001b[0m\u001b[0m\n",
      "\u001b[1;32m~\\Anaconda3\\lib\\site-packages\\tensorflow_core\\python\\client\\session.py\u001b[0m in \u001b[0;36m_run_fn\u001b[1;34m(feed_dict, fetch_list, target_list, options, run_metadata)\u001b[0m\n\u001b[0;32m   1350\u001b[0m       \u001b[0mself\u001b[0m\u001b[1;33m.\u001b[0m\u001b[0m_extend_graph\u001b[0m\u001b[1;33m(\u001b[0m\u001b[1;33m)\u001b[0m\u001b[1;33m\u001b[0m\u001b[1;33m\u001b[0m\u001b[0m\n\u001b[0;32m   1351\u001b[0m       return self._call_tf_sessionrun(options, feed_dict, fetch_list,\n\u001b[1;32m-> 1352\u001b[1;33m                                       target_list, run_metadata)\n\u001b[0m\u001b[0;32m   1353\u001b[0m \u001b[1;33m\u001b[0m\u001b[0m\n\u001b[0;32m   1354\u001b[0m     \u001b[1;32mdef\u001b[0m \u001b[0m_prun_fn\u001b[0m\u001b[1;33m(\u001b[0m\u001b[0mhandle\u001b[0m\u001b[1;33m,\u001b[0m \u001b[0mfeed_dict\u001b[0m\u001b[1;33m,\u001b[0m \u001b[0mfetch_list\u001b[0m\u001b[1;33m)\u001b[0m\u001b[1;33m:\u001b[0m\u001b[1;33m\u001b[0m\u001b[1;33m\u001b[0m\u001b[0m\n",
      "\u001b[1;32m~\\Anaconda3\\lib\\site-packages\\tensorflow_core\\python\\client\\session.py\u001b[0m in \u001b[0;36m_call_tf_sessionrun\u001b[1;34m(self, options, feed_dict, fetch_list, target_list, run_metadata)\u001b[0m\n\u001b[0;32m   1443\u001b[0m     return tf_session.TF_SessionRun_wrapper(self._session, options, feed_dict,\n\u001b[0;32m   1444\u001b[0m                                             \u001b[0mfetch_list\u001b[0m\u001b[1;33m,\u001b[0m \u001b[0mtarget_list\u001b[0m\u001b[1;33m,\u001b[0m\u001b[1;33m\u001b[0m\u001b[1;33m\u001b[0m\u001b[0m\n\u001b[1;32m-> 1445\u001b[1;33m                                             run_metadata)\n\u001b[0m\u001b[0;32m   1446\u001b[0m \u001b[1;33m\u001b[0m\u001b[0m\n\u001b[0;32m   1447\u001b[0m   \u001b[1;32mdef\u001b[0m \u001b[0m_call_tf_sessionprun\u001b[0m\u001b[1;33m(\u001b[0m\u001b[0mself\u001b[0m\u001b[1;33m,\u001b[0m \u001b[0mhandle\u001b[0m\u001b[1;33m,\u001b[0m \u001b[0mfeed_dict\u001b[0m\u001b[1;33m,\u001b[0m \u001b[0mfetch_list\u001b[0m\u001b[1;33m)\u001b[0m\u001b[1;33m:\u001b[0m\u001b[1;33m\u001b[0m\u001b[1;33m\u001b[0m\u001b[0m\n",
      "\u001b[1;31mKeyboardInterrupt\u001b[0m: "
     ]
    }
   ],
   "source": [
    "%%time\n",
    "num_rows = len(X_all_text)\n",
    "block_size = 500\n",
    "first_start = time.time()\n",
    "for row in range(num_rows):\n",
    "    row_start = time.time()\n",
    "    df = pd.DataFrame(elmo_vectors(X_all_text[row]))\n",
    "    output_file_name = \"../assets/elmo_vectors_\" + str((row//block_size)*block_size) + \".csv\"\n",
    "    df.to_csv(output_file_name, mode='a')\n",
    "    print (\"Row {} of {} appended, duration (h:m:s): {}, total elapsed time (h:m:s): {}\".format(row+1, num_rows+1,\n",
    "               str(datetime.timedelta(seconds=time.time()-row_start)),\n",
    "               str(datetime.timedelta(seconds=time.time()-first_start))))"
   ]
  },
  {
   "cell_type": "code",
   "execution_count": null,
   "metadata": {},
   "outputs": [],
   "source": []
  },
  {
   "cell_type": "code",
   "execution_count": null,
   "metadata": {},
   "outputs": [],
   "source": []
  },
  {
   "cell_type": "code",
   "execution_count": null,
   "metadata": {},
   "outputs": [],
   "source": []
  },
  {
   "cell_type": "code",
   "execution_count": null,
   "metadata": {},
   "outputs": [],
   "source": []
  },
  {
   "cell_type": "code",
   "execution_count": null,
   "metadata": {},
   "outputs": [],
   "source": []
  },
  {
   "cell_type": "code",
   "execution_count": null,
   "metadata": {},
   "outputs": [],
   "source": []
  },
  {
   "cell_type": "markdown",
   "metadata": {},
   "source": [
    "### Creation of Word2Vec word embeddings based on training dataset vocabulary"
   ]
  },
  {
   "cell_type": "markdown",
   "metadata": {},
   "source": [
    "We now create our own word embeddings using Word2Vec from nltk, trained using all the text in the training dataset."
   ]
  },
  {
   "cell_type": "code",
   "execution_count": 18,
   "metadata": {},
   "outputs": [
    {
     "name": "stdout",
     "output_type": "stream",
     "text": [
      "Wall time: 2min 38s\n"
     ]
    }
   ],
   "source": [
    "%%time\n",
    "model = Word2Vec(X_all_text, size=100, window=5, min_count=5, workers=8)\n",
    "w2v = {w: vec for w, vec in zip(model.wv.index2word, model.wv.syn0)}"
   ]
  },
  {
   "cell_type": "markdown",
   "metadata": {},
   "source": [
    "### Defining new Vectorizers"
   ]
  },
  {
   "cell_type": "markdown",
   "metadata": {
    "collapsed": true
   },
   "source": [
    "We define two word embedding vectorizers - as variations of the CountVectorizer and TfidfVectorizer - that take a word-to-vector mapping and vectorises the text by taking the **mean** of all the 'glove_small' vectors corresponding to individual words."
   ]
  },
  {
   "cell_type": "code",
   "execution_count": 19,
   "metadata": {},
   "outputs": [],
   "source": [
    "class MeanEmbeddingVectorizer(object):\n",
    "    \n",
    "    # Creating a new MeanEmbeddingVectorizer object with input parameter of 'word2vec'\n",
    "    # will create a new array of size equal to the number of words contained in word2vec\n",
    "    # that are also present in the glove_small dictionary\n",
    "    def __init__(self, word2vec):\n",
    "        self.word2vec = word2vec\n",
    "        if len(word2vec)>0:\n",
    "            self.dim=len(word2vec[next(iter(glove_small))])\n",
    "        else:\n",
    "            self.dim=0\n",
    "            \n",
    "    # The 'fit' method simply returns the input parameter 'word2vec' itself\n",
    "    def fit(self, X, y):\n",
    "        return self \n",
    "\n",
    "    # The 'transform' method returns an array consisting of the mean of all\n",
    "    # 'glove_small\" vectors that correspond to individual words in the input parameter 'X'\n",
    "    def transform(self, X):\n",
    "        return np.array([\n",
    "            np.mean([self.word2vec[w] for w in words if w in self.word2vec] \n",
    "                    or [np.zeros(self.dim)], axis=0)\n",
    "            for words in X\n",
    "        ])\n",
    "\n",
    "# TfidfVectorizer is a variation of the Term Frequency - Inverse Document Frequency (Tfidf) Vectorizer\n",
    "class TfidfEmbeddingVectorizer(object):\n",
    "    \n",
    "    # Creating a new TfidfEmbeddingVectorizer object with input parameter of 'word2vec'\n",
    "    # will create an array of size eequal to the number of words contained in word2vec\n",
    "    # that are also present in the glove_small dictionary\n",
    "    def __init__(self, word2vec):\n",
    "        self.word2vec = word2vec\n",
    "        self.word2weight = None\n",
    "        if len(word2vec)>0:\n",
    "            self.dim=len(word2vec[next(iter(glove_small))])\n",
    "        else:\n",
    "            self.dim=0\n",
    "        \n",
    "    # The 'fit' method updates the word weights attribute based on the\n",
    "    # output of the standard TfidfVectorizer\n",
    "    def fit(self, X, y):\n",
    "        tfidf = TfidfVectorizer(analyzer=lambda x: x)\n",
    "        tfidf.fit(X)\n",
    "        # if a word was never seen - it must be at least as infrequent\n",
    "        # as any of the known words - so the default idf is the max of \n",
    "        # known idf's\n",
    "        max_idf = max(tfidf.idf_)\n",
    "        self.word2weight = defaultdict(\n",
    "            lambda: max_idf, \n",
    "            [(w, tfidf.idf_[i]) for w, i in tfidf.vocabulary_.items()])\n",
    "    \n",
    "        return self\n",
    "    \n",
    "    # The 'transform' method returns an array consisting of the mean of all 'glove_small'\n",
    "    # vectors (adjusted by the Tfidf weights) that correspond to individual words\n",
    "    # in the input parameter 'X'\n",
    "    def transform(self, X):\n",
    "        return np.array([\n",
    "                np.mean([self.word2vec[w] * self.word2weight[w]\n",
    "                         for w in words if w in self.word2vec] or\n",
    "                        [np.zeros(self.dim)], axis=0)\n",
    "                for words in X\n",
    "            ])"
   ]
  },
  {
   "cell_type": "markdown",
   "metadata": {},
   "source": [
    "## Finding the best combination of word embeddings and vectorizer"
   ]
  },
  {
   "cell_type": "markdown",
   "metadata": {},
   "source": [
    "We create multiple pipelines that consist of different combinations of the vectorizers (defined above) and the word embeddings, coupled with the Extra Trees classifier. The Extra Trees Classifier is chosen based on its generally good performance; it produces less variance but may cause an increase in bias, compared to a Random Forest classifier.\n",
    "\n",
    "The different pipelines are as follows:\n",
    "- mev_w2v: MeanEmbeddingVectorizer based on our own 'w2v' word vectors created using Word2Vec on the words in the training dataset\n",
    "- tev_w2v: TfidfEmbeddingVectorizer based on our own 'w2v word vectors\n",
    "- mev_glove_small: MeanEmbeddingVectorizer based on the 'glove_small' word vectors\n",
    "- tev_glove_small: TfidfEmbeddingVectorizer based on the 'glove_small' word vectors\n",
    "- mev_glove_big: MeanEmbeddingVectorizer based on the 'glove_big' word vectors\n",
    "- tev_glove_big: TfidfEmbeddingVectorizer based on the 'glove_big' word vectors"
   ]
  },
  {
   "cell_type": "code",
   "execution_count": 59,
   "metadata": {},
   "outputs": [],
   "source": [
    "# Create the various pipelines for evaluation\n",
    "mev_w2v = Pipeline([(\"word2vec vectorizer\", MeanEmbeddingVectorizer(w2v)), \n",
    "                        (\"extra trees\", ExtraTreesClassifier(n_estimators=200, verbose=1, random_state=42, n_jobs=-1))])\n",
    "tev_w2v = Pipeline([(\"word2vec vectorizer\", TfidfEmbeddingVectorizer(w2v)), \n",
    "                        (\"extra trees\", ExtraTreesClassifier(n_estimators=200, verbose=1, random_state=42, n_jobs=-1))])\n",
    "mev_glove_small = Pipeline([(\"glove vectorizer\", MeanEmbeddingVectorizer(glove_small)), \n",
    "                        (\"extra trees\", ExtraTreesClassifier(n_estimators=200, verbose=1, random_state=42, n_jobs=-1))])\n",
    "tev_glove_small = Pipeline([(\"glove vectorizer\", TfidfEmbeddingVectorizer(glove_small)), \n",
    "                        (\"extra trees\", ExtraTreesClassifier(n_estimators=200, verbose=1, random_state=42, n_jobs=-1))])\n",
    "mev_glove_big = Pipeline([(\"glove vectorizer\", MeanEmbeddingVectorizer(glove_big)), \n",
    "                        (\"extra trees\", ExtraTreesClassifier(n_estimators=200, verbose=1, random_state=42, n_jobs=-1))])\n",
    "tev_glove_big = Pipeline([(\"glove vectorizer\", TfidfEmbeddingVectorizer(glove_big)), \n",
    "                        (\"extra trees\", ExtraTreesClassifier(n_estimators=200, verbose=1, random_state=42, n_jobs=-1))])"
   ]
  },
  {
   "cell_type": "markdown",
   "metadata": {},
   "source": [
    "We now obtain the 3-fold cross-validation accuracy scores for each pipeline based on the labels 'y' (i.e. variation classes), and sort them in descending order of cross-validation accuracy score."
   ]
  },
  {
   "cell_type": "code",
   "execution_count": 60,
   "metadata": {},
   "outputs": [
    {
     "name": "stderr",
     "output_type": "stream",
     "text": [
      "[Parallel(n_jobs=4)]: Using backend LokyBackend with 4 concurrent workers.\n",
      "[Parallel(n_jobs=4)]: Done   3 out of   3 | elapsed:  1.9min finished\n",
      "[Parallel(n_jobs=4)]: Using backend LokyBackend with 4 concurrent workers.\n",
      "[Parallel(n_jobs=4)]: Done   3 out of   3 | elapsed:  4.7min finished\n",
      "[Parallel(n_jobs=4)]: Using backend LokyBackend with 4 concurrent workers.\n",
      "[Parallel(n_jobs=4)]: Done   3 out of   3 | elapsed:  1.4min finished\n",
      "[Parallel(n_jobs=4)]: Using backend LokyBackend with 4 concurrent workers.\n",
      "[Parallel(n_jobs=4)]: Done   3 out of   3 | elapsed:  4.0min finished\n",
      "[Parallel(n_jobs=4)]: Using backend LokyBackend with 4 concurrent workers.\n",
      "[Parallel(n_jobs=4)]: Done   3 out of   3 | elapsed:  1.7min finished\n",
      "[Parallel(n_jobs=4)]: Using backend LokyBackend with 4 concurrent workers.\n"
     ]
    },
    {
     "name": "stdout",
     "output_type": "stream",
     "text": [
      "Model              Cross-Validation Accuracy Score\n",
      "---------------  ---------------------------------\n",
      "mev_w2v                                     0.4282\n",
      "tev_w2v                                     0.4122\n",
      "mev_glove_small                             0.3957\n",
      "mev_glove_big                               0.3773\n",
      "tev_glove_small                             0.3433\n",
      "tev_glove_big                               0.3327\n",
      "Wall time: 18min 21s\n"
     ]
    },
    {
     "name": "stderr",
     "output_type": "stream",
     "text": [
      "[Parallel(n_jobs=4)]: Done   3 out of   3 | elapsed:  4.5min finished\n"
     ]
    }
   ],
   "source": [
    "%%time\n",
    "all_models = [\n",
    "    (\"mev_w2v\", mev_w2v),\n",
    "    (\"tev_w2v\", tev_w2v),\n",
    "    (\"mev_glove_small\", mev_glove_small),\n",
    "    (\"tev_glove_small\", tev_glove_small),\n",
    "    (\"mev_glove_big\", mev_glove_big),\n",
    "    (\"tev_glove_big\", tev_glove_big)\n",
    "]\n",
    "\n",
    "unsorted_scores = [(name, cross_val_score(model, X_all_text, y, cv=3, verbose=1, n_jobs=4).mean())\n",
    "                   for name, model in all_models]\n",
    "scores = sorted(unsorted_scores, key=lambda x: -x[1])\n",
    "print (tabulate(scores, floatfmt=\".4f\", headers=(\"Model\", 'Cross-Validation Accuracy Score')))"
   ]
  },
  {
   "cell_type": "code",
   "execution_count": 61,
   "metadata": {},
   "outputs": [
    {
     "data": {
      "image/png": "[encoded data removed]",
      "text/plain": [
       "<Figure size 720x432 with 1 Axes>"
      ]
     },
     "metadata": {
      "image/png": {
       "height": 387,
       "width": 666
      },
      "needs_background": "light"
     },
     "output_type": "display_data"
    }
   ],
   "source": [
    "plt.figure(figsize=(10, 6))\n",
    "sns.barplot(x=[name for name, _ in scores], y=[score for _, score in scores]);\n",
    "plt.title(\"Cross-validated Accuracy Score on Training Dataset\")\n",
    "plt.xlabel(\"Pipeline\");"
   ]
  },
  {
   "cell_type": "markdown",
   "metadata": {},
   "source": [
    "<div class=\"alert alert-block alert-info\">\n",
    "As shown above, the <b>Mean Embedding Vectorizer</b> (mev) performs best together with the <b>Word2Vec</b> (w2v) word embedding based on the training dataset vocabulary, as it scores the highest in terms of the cross-validated accuracy score.<br>\n",
    "\n",
    "We now evaluate two options for identifying the right classifier - a Forward Neural Network (FNN) and an Extra Trees Classifier.\n",
    "</div>"
   ]
  },
  {
   "cell_type": "markdown",
   "metadata": {},
   "source": [
    "## Finding the best classifier"
   ]
  },
  {
   "cell_type": "markdown",
   "metadata": {},
   "source": [
    "### Creation of (Inner) Training and Validation Datasets"
   ]
  },
  {
   "cell_type": "markdown",
   "metadata": {},
   "source": [
    "From our single training data set (X and y) we will create two separate datasets:\n",
    "- (Inner) Training Dataset: this will be used to train our models (this will take 75% of the original training dataset)\n",
    "- Validation Dataset: this will be used to validate our trained models (e.g. check for overfitting) (this will take 25% of our total 'posts' dataset\n",
    "\n",
    "To create our datasets, we use train_test_split with the stratify option to ensure a consistent mix of values for the target feature within the created datasets."
   ]
  },
  {
   "cell_type": "code",
   "execution_count": 20,
   "metadata": {},
   "outputs": [],
   "source": [
    "# Restore the original predictor and target dataframes\n",
    "X = X_original.copy()\n",
    "y = y_original.copy()"
   ]
  },
  {
   "cell_type": "code",
   "execution_count": 21,
   "metadata": {},
   "outputs": [],
   "source": [
    "X_train, X_val, y_train, y_val = train_test_split(X, y, random_state=42, stratify=y)"
   ]
  },
  {
   "cell_type": "code",
   "execution_count": 22,
   "metadata": {},
   "outputs": [
    {
     "data": {
      "text/plain": [
       "((2490, 4323), (2490,), (831, 4323), (831,))"
      ]
     },
     "execution_count": 22,
     "metadata": {},
     "output_type": "execute_result"
    }
   ],
   "source": [
    "X_train.shape, y_train.shape, X_val.shape, y_val.shape"
   ]
  },
  {
   "cell_type": "code",
   "execution_count": 23,
   "metadata": {},
   "outputs": [],
   "source": [
    "# Reset the indices to prevent spurious rows from appearing later during merging\n",
    "X_train.reset_index(inplace=True, drop=True)\n",
    "X_val.reset_index(inplace=True, drop=True)"
   ]
  },
  {
   "cell_type": "markdown",
   "metadata": {},
   "source": [
    "### Generation of word embeddings"
   ]
  },
  {
   "cell_type": "code",
   "execution_count": 24,
   "metadata": {},
   "outputs": [],
   "source": [
    "# Instantiate a Mean Embedding Vectorizer object using the Word2Vec word embeddings\n",
    "mev = MeanEmbeddingVectorizer(w2v)"
   ]
  },
  {
   "cell_type": "code",
   "execution_count": 25,
   "metadata": {},
   "outputs": [
    {
     "name": "stdout",
     "output_type": "stream",
     "text": [
      "Wall time: 2min 38s\n"
     ]
    }
   ],
   "source": [
    "%%time\n",
    "X_train_mev = mev.fit(X_train['text'], y_train)\n",
    "X_train_mev = mev.transform(X_train['text'])\n",
    "X_val_mev = mev.transform(X_val['text'])\n",
    "X_test_mev = mev.transform(X_test['text'])"
   ]
  },
  {
   "cell_type": "code",
   "execution_count": 26,
   "metadata": {},
   "outputs": [
    {
     "data": {
      "text/plain": [
       "((2490, 100), (831, 100), (986, 100))"
      ]
     },
     "execution_count": 26,
     "metadata": {},
     "output_type": "execute_result"
    }
   ],
   "source": [
    "X_train_mev.shape, X_val_mev.shape, X_test_mev.shape"
   ]
  },
  {
   "cell_type": "code",
   "execution_count": 27,
   "metadata": {},
   "outputs": [],
   "source": [
    "X_train_mev_df = pd.DataFrame(X_train_mev)\n",
    "X_val_mev_df = pd.DataFrame(X_val_mev)\n",
    "X_test_mev_df = pd.DataFrame(X_test_mev)"
   ]
  },
  {
   "cell_type": "code",
   "execution_count": 28,
   "metadata": {},
   "outputs": [
    {
     "data": {
      "text/plain": [
       "((2490, 100), (831, 100), (986, 100))"
      ]
     },
     "execution_count": 28,
     "metadata": {},
     "output_type": "execute_result"
    }
   ],
   "source": [
    "X_train_mev_df.shape, X_val_mev_df.shape, X_test_mev_df.shape"
   ]
  },
  {
   "cell_type": "code",
   "execution_count": 29,
   "metadata": {},
   "outputs": [
    {
     "data": {
      "text/html": [
       "<div>\n",
       "<style scoped>\n",
       "    .dataframe tbody tr th:only-of-type {\n",
       "        vertical-align: middle;\n",
       "    }\n",
       "\n",
       "    .dataframe tbody tr th {\n",
       "        vertical-align: top;\n",
       "    }\n",
       "\n",
       "    .dataframe thead th {\n",
       "        text-align: right;\n",
       "    }\n",
       "</style>\n",
       "<table border=\"1\" class=\"dataframe\">\n",
       "  <thead>\n",
       "    <tr style=\"text-align: right;\">\n",
       "      <th></th>\n",
       "      <th>0</th>\n",
       "      <th>1</th>\n",
       "      <th>2</th>\n",
       "      <th>3</th>\n",
       "      <th>4</th>\n",
       "      <th>5</th>\n",
       "      <th>6</th>\n",
       "      <th>7</th>\n",
       "      <th>8</th>\n",
       "      <th>9</th>\n",
       "      <th>...</th>\n",
       "      <th>90</th>\n",
       "      <th>91</th>\n",
       "      <th>92</th>\n",
       "      <th>93</th>\n",
       "      <th>94</th>\n",
       "      <th>95</th>\n",
       "      <th>96</th>\n",
       "      <th>97</th>\n",
       "      <th>98</th>\n",
       "      <th>99</th>\n",
       "    </tr>\n",
       "  </thead>\n",
       "  <tbody>\n",
       "    <tr>\n",
       "      <th>0</th>\n",
       "      <td>-0.322890</td>\n",
       "      <td>1.858118</td>\n",
       "      <td>0.690987</td>\n",
       "      <td>1.380139</td>\n",
       "      <td>-2.073414</td>\n",
       "      <td>1.476854</td>\n",
       "      <td>0.341173</td>\n",
       "      <td>-0.844618</td>\n",
       "      <td>2.367725</td>\n",
       "      <td>-1.459497</td>\n",
       "      <td>...</td>\n",
       "      <td>-0.612501</td>\n",
       "      <td>0.337902</td>\n",
       "      <td>0.986099</td>\n",
       "      <td>-0.219501</td>\n",
       "      <td>-2.611684</td>\n",
       "      <td>-1.484770</td>\n",
       "      <td>-0.886926</td>\n",
       "      <td>-3.076670</td>\n",
       "      <td>-0.148434</td>\n",
       "      <td>0.287207</td>\n",
       "    </tr>\n",
       "    <tr>\n",
       "      <th>1</th>\n",
       "      <td>-0.422883</td>\n",
       "      <td>1.882263</td>\n",
       "      <td>0.559715</td>\n",
       "      <td>1.491729</td>\n",
       "      <td>-2.131850</td>\n",
       "      <td>1.493168</td>\n",
       "      <td>0.387113</td>\n",
       "      <td>-0.911156</td>\n",
       "      <td>2.340408</td>\n",
       "      <td>-1.613197</td>\n",
       "      <td>...</td>\n",
       "      <td>-0.709358</td>\n",
       "      <td>0.325872</td>\n",
       "      <td>1.095482</td>\n",
       "      <td>-0.183094</td>\n",
       "      <td>-2.564134</td>\n",
       "      <td>-1.414235</td>\n",
       "      <td>-0.919028</td>\n",
       "      <td>-3.195979</td>\n",
       "      <td>-0.048870</td>\n",
       "      <td>0.302353</td>\n",
       "    </tr>\n",
       "    <tr>\n",
       "      <th>2</th>\n",
       "      <td>-0.327176</td>\n",
       "      <td>1.904668</td>\n",
       "      <td>0.601967</td>\n",
       "      <td>1.461163</td>\n",
       "      <td>-2.089042</td>\n",
       "      <td>1.499087</td>\n",
       "      <td>0.404055</td>\n",
       "      <td>-0.825882</td>\n",
       "      <td>2.356344</td>\n",
       "      <td>-1.544889</td>\n",
       "      <td>...</td>\n",
       "      <td>-0.637951</td>\n",
       "      <td>0.307982</td>\n",
       "      <td>1.058155</td>\n",
       "      <td>-0.203846</td>\n",
       "      <td>-2.526697</td>\n",
       "      <td>-1.388882</td>\n",
       "      <td>-0.822508</td>\n",
       "      <td>-3.215563</td>\n",
       "      <td>-0.066309</td>\n",
       "      <td>0.206721</td>\n",
       "    </tr>\n",
       "    <tr>\n",
       "      <th>3</th>\n",
       "      <td>-0.370126</td>\n",
       "      <td>1.819429</td>\n",
       "      <td>0.601597</td>\n",
       "      <td>1.433822</td>\n",
       "      <td>-2.104804</td>\n",
       "      <td>1.484627</td>\n",
       "      <td>0.357159</td>\n",
       "      <td>-0.906271</td>\n",
       "      <td>2.284128</td>\n",
       "      <td>-1.584188</td>\n",
       "      <td>...</td>\n",
       "      <td>-0.701243</td>\n",
       "      <td>0.317997</td>\n",
       "      <td>1.056278</td>\n",
       "      <td>-0.169478</td>\n",
       "      <td>-2.514942</td>\n",
       "      <td>-1.389338</td>\n",
       "      <td>-0.821980</td>\n",
       "      <td>-3.131690</td>\n",
       "      <td>-0.067767</td>\n",
       "      <td>0.260677</td>\n",
       "    </tr>\n",
       "    <tr>\n",
       "      <th>4</th>\n",
       "      <td>-0.362326</td>\n",
       "      <td>1.832180</td>\n",
       "      <td>0.604159</td>\n",
       "      <td>1.383792</td>\n",
       "      <td>-2.083553</td>\n",
       "      <td>1.473238</td>\n",
       "      <td>0.370844</td>\n",
       "      <td>-0.882687</td>\n",
       "      <td>2.343976</td>\n",
       "      <td>-1.543756</td>\n",
       "      <td>...</td>\n",
       "      <td>-0.690165</td>\n",
       "      <td>0.325602</td>\n",
       "      <td>1.037598</td>\n",
       "      <td>-0.202474</td>\n",
       "      <td>-2.580307</td>\n",
       "      <td>-1.421439</td>\n",
       "      <td>-0.836938</td>\n",
       "      <td>-3.130956</td>\n",
       "      <td>-0.103290</td>\n",
       "      <td>0.243496</td>\n",
       "    </tr>\n",
       "  </tbody>\n",
       "</table>\n",
       "<p>5 rows × 100 columns</p>\n",
       "</div>"
      ],
      "text/plain": [
       "         0         1         2         3         4         5         6   \\\n",
       "0 -0.322890  1.858118  0.690987  1.380139 -2.073414  1.476854  0.341173   \n",
       "1 -0.422883  1.882263  0.559715  1.491729 -2.131850  1.493168  0.387113   \n",
       "2 -0.327176  1.904668  0.601967  1.461163 -2.089042  1.499087  0.404055   \n",
       "3 -0.370126  1.819429  0.601597  1.433822 -2.104804  1.484627  0.357159   \n",
       "4 -0.362326  1.832180  0.604159  1.383792 -2.083553  1.473238  0.370844   \n",
       "\n",
       "         7         8         9   ...        90        91        92        93  \\\n",
       "0 -0.844618  2.367725 -1.459497  ... -0.612501  0.337902  0.986099 -0.219501   \n",
       "1 -0.911156  2.340408 -1.613197  ... -0.709358  0.325872  1.095482 -0.183094   \n",
       "2 -0.825882  2.356344 -1.544889  ... -0.637951  0.307982  1.058155 -0.203846   \n",
       "3 -0.906271  2.284128 -1.584188  ... -0.701243  0.317997  1.056278 -0.169478   \n",
       "4 -0.882687  2.343976 -1.543756  ... -0.690165  0.325602  1.037598 -0.202474   \n",
       "\n",
       "         94        95        96        97        98        99  \n",
       "0 -2.611684 -1.484770 -0.886926 -3.076670 -0.148434  0.287207  \n",
       "1 -2.564134 -1.414235 -0.919028 -3.195979 -0.048870  0.302353  \n",
       "2 -2.526697 -1.388882 -0.822508 -3.215563 -0.066309  0.206721  \n",
       "3 -2.514942 -1.389338 -0.821980 -3.131690 -0.067767  0.260677  \n",
       "4 -2.580307 -1.421439 -0.836938 -3.130956 -0.103290  0.243496  \n",
       "\n",
       "[5 rows x 100 columns]"
      ]
     },
     "execution_count": 29,
     "metadata": {},
     "output_type": "execute_result"
    }
   ],
   "source": [
    "X_train_mev_df.head()"
   ]
  },
  {
   "cell_type": "markdown",
   "metadata": {},
   "source": [
    "### Combining word vectors with dummy columns"
   ]
  },
  {
   "cell_type": "code",
   "execution_count": 30,
   "metadata": {},
   "outputs": [],
   "source": [
    "# Concatenate the components parts of the dataframe\n",
    "X_train = pd.concat([X_train, X_train_mev_df], axis=1)\n",
    "X_val = pd.concat([X_val, X_val_mev_df], axis=1)\n",
    "X_test = pd.concat([X_test, X_test_mev_df], axis=1)"
   ]
  },
  {
   "cell_type": "code",
   "execution_count": 31,
   "metadata": {},
   "outputs": [],
   "source": [
    "X_train.drop(columns=['text'], inplace=True)\n",
    "X_val.drop(columns=['text'], inplace=True)\n",
    "X_test.drop(columns=['text'], inplace=True)"
   ]
  },
  {
   "cell_type": "code",
   "execution_count": 32,
   "metadata": {},
   "outputs": [
    {
     "data": {
      "text/plain": [
       "((2490, 4422), (831, 4422), (986, 4422))"
      ]
     },
     "execution_count": 32,
     "metadata": {},
     "output_type": "execute_result"
    }
   ],
   "source": [
    "X_train.shape, X_val.shape, X_test.shape"
   ]
  },
  {
   "cell_type": "code",
   "execution_count": 33,
   "metadata": {
    "scrolled": true
   },
   "outputs": [
    {
     "data": {
      "text/html": [
       "<div>\n",
       "<style scoped>\n",
       "    .dataframe tbody tr th:only-of-type {\n",
       "        vertical-align: middle;\n",
       "    }\n",
       "\n",
       "    .dataframe tbody tr th {\n",
       "        vertical-align: top;\n",
       "    }\n",
       "\n",
       "    .dataframe thead th {\n",
       "        text-align: right;\n",
       "    }\n",
       "</style>\n",
       "<table border=\"1\" class=\"dataframe\">\n",
       "  <thead>\n",
       "    <tr style=\"text-align: right;\">\n",
       "      <th></th>\n",
       "      <th>gene_ABCB11</th>\n",
       "      <th>gene_ABCC6</th>\n",
       "      <th>gene_ABL1</th>\n",
       "      <th>gene_ACVR1</th>\n",
       "      <th>gene_ADAMTS13</th>\n",
       "      <th>gene_ADGRG1</th>\n",
       "      <th>gene_AGO2</th>\n",
       "      <th>gene_AGXT</th>\n",
       "      <th>gene_AKAP9</th>\n",
       "      <th>gene_AKT1</th>\n",
       "      <th>...</th>\n",
       "      <th>90</th>\n",
       "      <th>91</th>\n",
       "      <th>92</th>\n",
       "      <th>93</th>\n",
       "      <th>94</th>\n",
       "      <th>95</th>\n",
       "      <th>96</th>\n",
       "      <th>97</th>\n",
       "      <th>98</th>\n",
       "      <th>99</th>\n",
       "    </tr>\n",
       "  </thead>\n",
       "  <tbody>\n",
       "    <tr>\n",
       "      <th>0</th>\n",
       "      <td>0</td>\n",
       "      <td>0</td>\n",
       "      <td>0</td>\n",
       "      <td>0</td>\n",
       "      <td>0</td>\n",
       "      <td>0</td>\n",
       "      <td>0</td>\n",
       "      <td>0</td>\n",
       "      <td>0</td>\n",
       "      <td>0</td>\n",
       "      <td>...</td>\n",
       "      <td>-0.612501</td>\n",
       "      <td>0.337902</td>\n",
       "      <td>0.986099</td>\n",
       "      <td>-0.219501</td>\n",
       "      <td>-2.611684</td>\n",
       "      <td>-1.484770</td>\n",
       "      <td>-0.886926</td>\n",
       "      <td>-3.076670</td>\n",
       "      <td>-0.148434</td>\n",
       "      <td>0.287207</td>\n",
       "    </tr>\n",
       "    <tr>\n",
       "      <th>1</th>\n",
       "      <td>0</td>\n",
       "      <td>0</td>\n",
       "      <td>0</td>\n",
       "      <td>0</td>\n",
       "      <td>0</td>\n",
       "      <td>0</td>\n",
       "      <td>0</td>\n",
       "      <td>0</td>\n",
       "      <td>0</td>\n",
       "      <td>0</td>\n",
       "      <td>...</td>\n",
       "      <td>-0.709358</td>\n",
       "      <td>0.325872</td>\n",
       "      <td>1.095482</td>\n",
       "      <td>-0.183094</td>\n",
       "      <td>-2.564134</td>\n",
       "      <td>-1.414235</td>\n",
       "      <td>-0.919028</td>\n",
       "      <td>-3.195979</td>\n",
       "      <td>-0.048870</td>\n",
       "      <td>0.302353</td>\n",
       "    </tr>\n",
       "    <tr>\n",
       "      <th>2</th>\n",
       "      <td>0</td>\n",
       "      <td>0</td>\n",
       "      <td>0</td>\n",
       "      <td>0</td>\n",
       "      <td>0</td>\n",
       "      <td>0</td>\n",
       "      <td>0</td>\n",
       "      <td>0</td>\n",
       "      <td>0</td>\n",
       "      <td>0</td>\n",
       "      <td>...</td>\n",
       "      <td>-0.637951</td>\n",
       "      <td>0.307982</td>\n",
       "      <td>1.058155</td>\n",
       "      <td>-0.203846</td>\n",
       "      <td>-2.526697</td>\n",
       "      <td>-1.388882</td>\n",
       "      <td>-0.822508</td>\n",
       "      <td>-3.215563</td>\n",
       "      <td>-0.066309</td>\n",
       "      <td>0.206721</td>\n",
       "    </tr>\n",
       "    <tr>\n",
       "      <th>3</th>\n",
       "      <td>0</td>\n",
       "      <td>0</td>\n",
       "      <td>0</td>\n",
       "      <td>0</td>\n",
       "      <td>0</td>\n",
       "      <td>0</td>\n",
       "      <td>0</td>\n",
       "      <td>0</td>\n",
       "      <td>0</td>\n",
       "      <td>0</td>\n",
       "      <td>...</td>\n",
       "      <td>-0.701243</td>\n",
       "      <td>0.317997</td>\n",
       "      <td>1.056278</td>\n",
       "      <td>-0.169478</td>\n",
       "      <td>-2.514942</td>\n",
       "      <td>-1.389338</td>\n",
       "      <td>-0.821980</td>\n",
       "      <td>-3.131690</td>\n",
       "      <td>-0.067767</td>\n",
       "      <td>0.260677</td>\n",
       "    </tr>\n",
       "    <tr>\n",
       "      <th>4</th>\n",
       "      <td>0</td>\n",
       "      <td>0</td>\n",
       "      <td>0</td>\n",
       "      <td>0</td>\n",
       "      <td>0</td>\n",
       "      <td>0</td>\n",
       "      <td>0</td>\n",
       "      <td>0</td>\n",
       "      <td>0</td>\n",
       "      <td>0</td>\n",
       "      <td>...</td>\n",
       "      <td>-0.690165</td>\n",
       "      <td>0.325602</td>\n",
       "      <td>1.037598</td>\n",
       "      <td>-0.202474</td>\n",
       "      <td>-2.580307</td>\n",
       "      <td>-1.421439</td>\n",
       "      <td>-0.836938</td>\n",
       "      <td>-3.130956</td>\n",
       "      <td>-0.103290</td>\n",
       "      <td>0.243496</td>\n",
       "    </tr>\n",
       "  </tbody>\n",
       "</table>\n",
       "<p>5 rows × 4422 columns</p>\n",
       "</div>"
      ],
      "text/plain": [
       "   gene_ABCB11  gene_ABCC6  gene_ABL1  gene_ACVR1  gene_ADAMTS13  gene_ADGRG1  \\\n",
       "0            0           0          0           0              0            0   \n",
       "1            0           0          0           0              0            0   \n",
       "2            0           0          0           0              0            0   \n",
       "3            0           0          0           0              0            0   \n",
       "4            0           0          0           0              0            0   \n",
       "\n",
       "   gene_AGO2  gene_AGXT  gene_AKAP9  gene_AKT1  ...        90        91  \\\n",
       "0          0          0           0          0  ... -0.612501  0.337902   \n",
       "1          0          0           0          0  ... -0.709358  0.325872   \n",
       "2          0          0           0          0  ... -0.637951  0.307982   \n",
       "3          0          0           0          0  ... -0.701243  0.317997   \n",
       "4          0          0           0          0  ... -0.690165  0.325602   \n",
       "\n",
       "         92        93        94        95        96        97        98  \\\n",
       "0  0.986099 -0.219501 -2.611684 -1.484770 -0.886926 -3.076670 -0.148434   \n",
       "1  1.095482 -0.183094 -2.564134 -1.414235 -0.919028 -3.195979 -0.048870   \n",
       "2  1.058155 -0.203846 -2.526697 -1.388882 -0.822508 -3.215563 -0.066309   \n",
       "3  1.056278 -0.169478 -2.514942 -1.389338 -0.821980 -3.131690 -0.067767   \n",
       "4  1.037598 -0.202474 -2.580307 -1.421439 -0.836938 -3.130956 -0.103290   \n",
       "\n",
       "         99  \n",
       "0  0.287207  \n",
       "1  0.302353  \n",
       "2  0.206721  \n",
       "3  0.260677  \n",
       "4  0.243496  \n",
       "\n",
       "[5 rows x 4422 columns]"
      ]
     },
     "execution_count": 33,
     "metadata": {},
     "output_type": "execute_result"
    }
   ],
   "source": [
    "X_train.head()"
   ]
  },
  {
   "cell_type": "markdown",
   "metadata": {},
   "source": [
    "### Handling of imbalanced classes"
   ]
  },
  {
   "cell_type": "code",
   "execution_count": 34,
   "metadata": {
    "scrolled": true
   },
   "outputs": [
    {
     "data": {
      "text/plain": [
       "7    0.287149\n",
       "4    0.206426\n",
       "1    0.171084\n",
       "2    0.136145\n",
       "6    0.082731\n",
       "5    0.072691\n",
       "3    0.026908\n",
       "9    0.011245\n",
       "8    0.005622\n",
       "Name: class, dtype: float64"
      ]
     },
     "execution_count": 34,
     "metadata": {},
     "output_type": "execute_result"
    }
   ],
   "source": [
    "y_train.value_counts(normalize=True)"
   ]
  },
  {
   "cell_type": "code",
   "execution_count": 35,
   "metadata": {},
   "outputs": [
    {
     "data": {
      "text/plain": [
       "7    715\n",
       "4    514\n",
       "1    426\n",
       "2    339\n",
       "6    206\n",
       "5    181\n",
       "3     67\n",
       "9     28\n",
       "8     14\n",
       "Name: class, dtype: int64"
      ]
     },
     "execution_count": 35,
     "metadata": {},
     "output_type": "execute_result"
    }
   ],
   "source": [
    "y_train.value_counts()"
   ]
  },
  {
   "cell_type": "markdown",
   "metadata": {},
   "source": [
    "We follow the same oversampling strategy as per the baseline model -- i.e. to use SMOTE to oversample the 3 most infrequent classes to be 100 samples each."
   ]
  },
  {
   "cell_type": "code",
   "execution_count": 36,
   "metadata": {},
   "outputs": [],
   "source": [
    "# Instantiate a SMOTE object to oversample minority classes\n",
    "sm = SMOTE(random_state=42, sampling_strategy={3:100, 9:100, 8:100})"
   ]
  },
  {
   "cell_type": "code",
   "execution_count": 37,
   "metadata": {},
   "outputs": [
    {
     "name": "stdout",
     "output_type": "stream",
     "text": [
      "Wall time: 7.87 s\n"
     ]
    }
   ],
   "source": [
    "%%time\n",
    "X_train, y_train = sm.fit_sample(X_train, y_train)"
   ]
  },
  {
   "cell_type": "code",
   "execution_count": 38,
   "metadata": {},
   "outputs": [
    {
     "data": {
      "text/plain": [
       "((2681, 4422), (2681,))"
      ]
     },
     "execution_count": 38,
     "metadata": {},
     "output_type": "execute_result"
    }
   ],
   "source": [
    "X_train.shape, y_train.shape"
   ]
  },
  {
   "cell_type": "code",
   "execution_count": 39,
   "metadata": {
    "scrolled": true
   },
   "outputs": [
    {
     "data": {
      "text/plain": [
       "7    715\n",
       "4    514\n",
       "1    426\n",
       "2    339\n",
       "6    206\n",
       "5    181\n",
       "9    100\n",
       "3    100\n",
       "8    100\n",
       "Name: class, dtype: int64"
      ]
     },
     "execution_count": 39,
     "metadata": {},
     "output_type": "execute_result"
    }
   ],
   "source": [
    "# Verify that we now have 181 samples for classes '5', '3' and '8'.\n",
    "y_train.value_counts()"
   ]
  },
  {
   "cell_type": "markdown",
   "metadata": {},
   "source": [
    "### Scaling the data"
   ]
  },
  {
   "cell_type": "code",
   "execution_count": 40,
   "metadata": {},
   "outputs": [],
   "source": [
    "ms = MinMaxScaler()"
   ]
  },
  {
   "cell_type": "code",
   "execution_count": 41,
   "metadata": {},
   "outputs": [],
   "source": [
    "ms.fit(pd.concat([X_train, X_val])) # we fit the StandardScaler based on all our training and validation data\n",
    "X_train = ms.transform(X_train)\n",
    "X_val = ms.transform(X_val)\n",
    "X_test = ms.transform(X_test)"
   ]
  },
  {
   "cell_type": "markdown",
   "metadata": {},
   "source": [
    "## Exploring Classifier Option #1: Forward Neural Network (FNN)"
   ]
  },
  {
   "cell_type": "code",
   "execution_count": 42,
   "metadata": {},
   "outputs": [],
   "source": [
    "# replace y with categorical features\n",
    "y_train_cat = to_categorical(y_train)\n",
    "y_val_cat = to_categorical(y_val)"
   ]
  },
  {
   "cell_type": "code",
   "execution_count": 43,
   "metadata": {},
   "outputs": [],
   "source": [
    "# remove the first column because it is redundant\n",
    "y_train_cat = np.delete(y_train_cat, 0, axis=1) \n",
    "y_val_cat = np.delete(y_val_cat, 0, axis=1) "
   ]
  },
  {
   "cell_type": "code",
   "execution_count": 44,
   "metadata": {
    "scrolled": true
   },
   "outputs": [
    {
     "data": {
      "text/plain": [
       "((2681, 9), (831, 9))"
      ]
     },
     "execution_count": 44,
     "metadata": {},
     "output_type": "execute_result"
    }
   ],
   "source": [
    "y_train_cat.shape, y_val_cat.shape"
   ]
  },
  {
   "cell_type": "markdown",
   "metadata": {},
   "source": [
    "To achieve reasonable execution times, we adopt a two stage approach to finding the optimal parameters for the FNN:\n",
    "- **Stage 1**: We use RandomisedSearchCV to find the optimal parameters for a FNN with two hidden layers, except for the number of epochs. The RandomizedSearch CV chooses the optimal parameters to get the best 5-fold cross-validation score on the training set. We assume that the actual best parameters can be found within 5 epochs.\n",
    "- **Stage 2**: We redefine our FNN with the optimal parameters identified in Stage 1, but use an Early Stopping callback to terminate the training based on the lowest validation loss found."
   ]
  },
  {
   "cell_type": "markdown",
   "metadata": {},
   "source": [
    "### Stage 1: Use Randomised Search to find optimal parameters (excl. number of epochs)"
   ]
  },
  {
   "cell_type": "markdown",
   "metadata": {},
   "source": [
    "model_lstm = Sequential()\n",
    "model_lstm.add(Embedding(input_dim = X_unique_words, output_dim = 1000, input_length = max_phrase_len))\n",
    "model_lstm.add(SpatialDropout1D(0.3))\n",
    "model_lstm.add(LSTM(max_phrase_len, dropout = 0.3, recurrent_dropout = 0.3))\n",
    "model_lstm.add(Dense(max_phrase_len, activation = 'relu'))\n",
    "model_lstm.add(Dropout(0.3))\n",
    "model_lstm.add(Dense(5, activation = 'softmax'))"
   ]
  },
  {
   "cell_type": "code",
   "execution_count": 45,
   "metadata": {},
   "outputs": [],
   "source": [
    "# X_train_padded = pad_sequences(X_train, padding='post', maxlen=max_phrase_len)"
   ]
  },
  {
   "cell_type": "markdown",
   "metadata": {},
   "source": [
    "```\n",
    "def model_func(embedding_vec_size=500, spatial_dropout=0.2,\n",
    "               lstm_dropout=0.2, lstm_rec_dropout=0.2, layer_one_dropout=0.2,\n",
    "               layer_two_neurons=250, layer_two_dropout=0.2, opt_learning_rate=0.001):\n",
    "    \n",
    "    model = Sequential()\n",
    "\n",
    "    # model.add(Embedding(input_dim = len(X_unique_words), output_dim = embedding_vec_size, input_length = max_phrase_len))\n",
    "    # model.add(SpatialDropout1D(spatial_dropout))\n",
    "    model.add(LSTM(max_phrase_len,\n",
    "                   dropout = lstm_dropout,\n",
    "                   recurrent_dropout = lstm_rec_dropout,\n",
    "                   return_sequences = True))\n",
    "   \n",
    "    model.add(Dense(max_phrase_len,activation='relu'))\n",
    "    model.add(Dropout(layer_one_dropout))\n",
    "\n",
    "    model.add(Dense(layer_two_neurons,activation='relu'))\n",
    "    model.add(Dropout(layer_two_dropout))\n",
    "\n",
    "    model.add(Dense(9,activation='softmax'))\n",
    "\n",
    "    Ad = optimizers.Adam(learning_rate=opt_learning_rate,\n",
    "                         beta_1=0.9, beta_2=0.999, amsgrad=False)\n",
    "    model.compile(loss='categorical_crossentropy',optimizer=Ad,metrics=['accuracy'])\n",
    "    return model\n",
    "```"
   ]
  },
  {
   "cell_type": "code",
   "execution_count": 53,
   "metadata": {},
   "outputs": [],
   "source": [
    "def model_func(layer_one_neurons=3000, layer_one_dropout=0.2,\n",
    "               layer_two_neurons=2000, layer_two_dropout=0.2, opt_learning_rate=0.001):\n",
    "\n",
    "    model = Sequential()\n",
    "\n",
    "    model.add(Dense(layer_one_neurons, activation='relu', input_dim=X_train.shape[1]))\n",
    "    model.add(Dropout(layer_one_dropout))\n",
    "\n",
    "    model.add(Dense(layer_two_neurons, activation='relu'))\n",
    "    model.add(Dropout(layer_two_dropout))\n",
    "\n",
    "    model.add(Dense(9,activation='softmax'))\n",
    "\n",
    "    Ad = optimizers.Adam(learning_rate=opt_learning_rate,\n",
    "                         beta_1=0.9, beta_2=0.999, amsgrad=False)\n",
    "    model.compile(loss='categorical_crossentropy',optimizer=Ad,metrics=['accuracy'])\n",
    "    return model"
   ]
  },
  {
   "cell_type": "code",
   "execution_count": 54,
   "metadata": {},
   "outputs": [],
   "source": [
    "nn = KerasClassifier(build_fn=model_func, epochs=10, verbose=2)"
   ]
  },
  {
   "cell_type": "code",
   "execution_count": 55,
   "metadata": {},
   "outputs": [],
   "source": [
    "pipe= Pipeline([\n",
    "    ('nn',nn)\n",
    "])"
   ]
  },
  {
   "cell_type": "code",
   "execution_count": 56,
   "metadata": {},
   "outputs": [],
   "source": [
    "params={\n",
    "    # 'nn__embedding_vec_size': [400, 500, 600],\n",
    "    # 'nn__spatial_dropout': [0.1, 0.2, 0.3],\n",
    "    # 'nn__lstm_dropout': [0.1, 0.2, 0.3],\n",
    "    # 'nn__lstm_rec_dropout': [0.1, 0.2, 0.3],\n",
    "    'nn__layer_one_neurons': [2000, 3000, 4000],\n",
    "    'nn__layer_one_dropout': [0.1, 0.2, 0.3],\n",
    "    'nn__layer_two_neurons' : [1000, 2000, 3000],\n",
    "    'nn__layer_two_dropout': [0.1, 0.2, 0.3],\n",
    "    'nn__opt_learning_rate' : [0.001, 0.0001]\n",
    "}"
   ]
  },
  {
   "cell_type": "code",
   "execution_count": 57,
   "metadata": {},
   "outputs": [],
   "source": [
    "rs = RandomizedSearchCV(pipe, param_distributions = params, verbose=1, cv=3, random_state=42)"
   ]
  },
  {
   "cell_type": "code",
   "execution_count": 58,
   "metadata": {
    "scrolled": true
   },
   "outputs": [
    {
     "name": "stdout",
     "output_type": "stream",
     "text": [
      "Started fitting at: 2020-04-06 00:14:34\n",
      "Fitting 3 folds for each of 10 candidates, totalling 30 fits\n"
     ]
    },
    {
     "name": "stderr",
     "output_type": "stream",
     "text": [
      "[Parallel(n_jobs=1)]: Using backend SequentialBackend with 1 concurrent workers.\n"
     ]
    },
    {
     "name": "stdout",
     "output_type": "stream",
     "text": [
      "Epoch 1/10\n",
      " - 16s - loss: 1.9775 - accuracy: 0.3039\n",
      "Epoch 2/10\n",
      " - 17s - loss: 1.5896 - accuracy: 0.4477\n",
      "Epoch 3/10\n",
      " - 16s - loss: 1.2342 - accuracy: 0.5691\n",
      "Epoch 4/10\n",
      " - 16s - loss: 0.9734 - accuracy: 0.6766\n",
      "Epoch 5/10\n",
      " - 16s - loss: 0.7557 - accuracy: 0.7448\n",
      "Epoch 6/10\n",
      " - 17s - loss: 0.4892 - accuracy: 0.8556\n",
      "Epoch 7/10\n",
      " - 16s - loss: 0.3153 - accuracy: 0.8982\n",
      "Epoch 8/10\n",
      " - 16s - loss: 0.2370 - accuracy: 0.9273\n",
      "Epoch 9/10\n",
      " - 16s - loss: 0.1645 - accuracy: 0.9496\n",
      "Epoch 10/10\n",
      " - 16s - loss: 0.1618 - accuracy: 0.9480\n",
      "Epoch 1/10\n",
      " - 16s - loss: 1.9911 - accuracy: 0.2910\n",
      "Epoch 2/10\n",
      " - 16s - loss: 1.6267 - accuracy: 0.4163\n",
      "Epoch 3/10\n",
      " - 17s - loss: 1.2711 - accuracy: 0.5473\n",
      "Epoch 4/10\n",
      " - 17s - loss: 1.0386 - accuracy: 0.6217\n",
      "Epoch 5/10\n",
      " - 17s - loss: 0.7879 - accuracy: 0.7247\n",
      "Epoch 6/10\n",
      " - 18s - loss: 0.5557 - accuracy: 0.8304\n",
      "Epoch 7/10\n",
      " - 18s - loss: 0.3712 - accuracy: 0.8875\n",
      "Epoch 8/10\n",
      " - 18s - loss: 0.2516 - accuracy: 0.9172\n",
      "Epoch 9/10\n",
      " - 18s - loss: 0.1839 - accuracy: 0.9440\n",
      "Epoch 10/10\n",
      " - 18s - loss: 0.1526 - accuracy: 0.9569\n",
      "Epoch 1/10\n",
      " - 18s - loss: 1.8362 - accuracy: 0.3238\n",
      "Epoch 2/10\n",
      " - 18s - loss: 1.3885 - accuracy: 0.5095\n",
      "Epoch 3/10\n",
      " - 18s - loss: 1.1106 - accuracy: 0.6096\n",
      "Epoch 4/10\n",
      " - 17s - loss: 0.8791 - accuracy: 0.7036\n",
      "Epoch 5/10\n",
      " - 17s - loss: 0.7120 - accuracy: 0.7534\n",
      "Epoch 6/10\n",
      " - 18s - loss: 0.4243 - accuracy: 0.8781\n",
      "Epoch 7/10\n",
      " - 17s - loss: 0.2842 - accuracy: 0.9155\n",
      "Epoch 8/10\n",
      " - 17s - loss: 0.1925 - accuracy: 0.9502\n",
      "Epoch 9/10\n",
      " - 18s - loss: 0.1269 - accuracy: 0.9687\n",
      "Epoch 10/10\n",
      " - 17s - loss: 0.0767 - accuracy: 0.9815\n",
      "Epoch 1/10\n",
      " - 8s - loss: 2.0088 - accuracy: 0.2675\n",
      "Epoch 2/10\n",
      " - 7s - loss: 1.9265 - accuracy: 0.2999\n",
      "Epoch 3/10\n",
      " - 8s - loss: 1.8053 - accuracy: 0.4107\n",
      "Epoch 4/10\n",
      " - 8s - loss: 1.6253 - accuracy: 0.4880\n",
      "Epoch 5/10\n",
      " - 8s - loss: 1.4564 - accuracy: 0.5322\n",
      "Epoch 6/10\n",
      " - 8s - loss: 1.3145 - accuracy: 0.5747\n",
      "Epoch 7/10\n",
      " - 8s - loss: 1.1761 - accuracy: 0.6262\n",
      "Epoch 8/10\n",
      " - 8s - loss: 1.0587 - accuracy: 0.6654\n",
      "Epoch 9/10\n",
      " - 8s - loss: 0.9409 - accuracy: 0.7112\n",
      "Epoch 10/10\n",
      " - 8s - loss: 0.8554 - accuracy: 0.7471\n",
      "Epoch 1/10\n",
      " - 8s - loss: 2.0299 - accuracy: 0.2591\n",
      "Epoch 2/10\n",
      " - 8s - loss: 1.9444 - accuracy: 0.2994\n",
      "Epoch 3/10\n",
      " - 8s - loss: 1.8335 - accuracy: 0.3811\n",
      "Epoch 4/10\n",
      " - 8s - loss: 1.6788 - accuracy: 0.4527\n",
      "Epoch 5/10\n",
      " - 8s - loss: 1.5027 - accuracy: 0.5176\n",
      "Epoch 6/10\n",
      " - 8s - loss: 1.3390 - accuracy: 0.5747\n",
      "Epoch 7/10\n",
      " - 8s - loss: 1.2171 - accuracy: 0.6044\n",
      "Epoch 8/10\n",
      " - 8s - loss: 1.0847 - accuracy: 0.6648\n",
      "Epoch 9/10\n",
      " - 8s - loss: 0.9825 - accuracy: 0.6973\n",
      "Epoch 10/10\n",
      " - 8s - loss: 0.8830 - accuracy: 0.7409\n",
      "Epoch 1/10\n",
      " - 8s - loss: 1.8916 - accuracy: 0.2735\n",
      "Epoch 2/10\n",
      " - 8s - loss: 1.7675 - accuracy: 0.3602\n",
      "Epoch 3/10\n",
      " - 8s - loss: 1.6436 - accuracy: 0.4474\n",
      "Epoch 4/10\n",
      " - 8s - loss: 1.4788 - accuracy: 0.5218\n",
      "Epoch 5/10\n",
      " - 8s - loss: 1.3111 - accuracy: 0.5800\n",
      "Epoch 6/10\n",
      " - 8s - loss: 1.1826 - accuracy: 0.6264\n",
      "Epoch 7/10\n",
      " - 8s - loss: 1.0568 - accuracy: 0.6711\n",
      "Epoch 8/10\n",
      " - 8s - loss: 0.9528 - accuracy: 0.6969\n",
      "Epoch 9/10\n",
      " - 8s - loss: 0.8596 - accuracy: 0.7315\n",
      "Epoch 10/10\n",
      " - 8s - loss: 0.7593 - accuracy: 0.7740\n",
      "Epoch 1/10\n",
      " - 14s - loss: 1.9945 - accuracy: 0.2686\n",
      "Epoch 2/10\n",
      " - 15s - loss: 1.8608 - accuracy: 0.3386\n",
      "Epoch 3/10\n",
      " - 14s - loss: 1.6438 - accuracy: 0.4639\n",
      "Epoch 4/10\n",
      " - 15s - loss: 1.4094 - accuracy: 0.5450\n",
      "Epoch 5/10\n",
      " - 15s - loss: 1.2135 - accuracy: 0.6184\n",
      "Epoch 6/10\n",
      " - 15s - loss: 1.0502 - accuracy: 0.6766\n",
      "Epoch 7/10\n",
      " - 15s - loss: 0.8988 - accuracy: 0.7180\n",
      "Epoch 8/10\n",
      " - 15s - loss: 0.7908 - accuracy: 0.7739\n",
      "Epoch 9/10\n",
      " - 14s - loss: 0.6630 - accuracy: 0.8243\n",
      "Epoch 10/10\n",
      " - 15s - loss: 0.5472 - accuracy: 0.8651\n",
      "Epoch 1/10\n",
      " - 15s - loss: 2.0109 - accuracy: 0.2518\n",
      "Epoch 2/10\n",
      " - 15s - loss: 1.8587 - accuracy: 0.3671\n",
      "Epoch 3/10\n",
      " - 14s - loss: 1.6521 - accuracy: 0.4393\n",
      "Epoch 4/10\n",
      " - 15s - loss: 1.4152 - accuracy: 0.5221\n",
      "Epoch 5/10\n",
      " - 14s - loss: 1.2120 - accuracy: 0.6206\n",
      "Epoch 6/10\n",
      " - 15s - loss: 1.0538 - accuracy: 0.6631\n",
      "Epoch 7/10\n",
      " - 15s - loss: 0.9293 - accuracy: 0.6961\n",
      "Epoch 8/10\n",
      " - 15s - loss: 0.8062 - accuracy: 0.7694\n",
      "Epoch 9/10\n",
      " - 15s - loss: 0.6685 - accuracy: 0.8053\n",
      "Epoch 10/10\n",
      " - 15s - loss: 0.5790 - accuracy: 0.8400\n",
      "Epoch 1/10\n",
      " - 15s - loss: 1.8424 - accuracy: 0.3009\n",
      "Epoch 2/10\n",
      " - 15s - loss: 1.6794 - accuracy: 0.4077\n",
      "Epoch 3/10\n",
      " - 15s - loss: 1.4584 - accuracy: 0.5224\n",
      "Epoch 4/10\n",
      " - 15s - loss: 1.2472 - accuracy: 0.5872\n",
      "Epoch 5/10\n",
      " - 15s - loss: 1.0728 - accuracy: 0.6611\n",
      "Epoch 6/10\n",
      " - 15s - loss: 0.9391 - accuracy: 0.6980\n",
      "Epoch 7/10\n",
      " - 15s - loss: 0.8351 - accuracy: 0.7371\n",
      "Epoch 8/10\n",
      " - 15s - loss: 0.7002 - accuracy: 0.7886\n",
      "Epoch 9/10\n",
      " - 15s - loss: 0.6094 - accuracy: 0.8132\n",
      "Epoch 10/10\n",
      " - 15s - loss: 0.4984 - accuracy: 0.8669\n",
      "Epoch 1/10\n",
      " - 8s - loss: 2.0139 - accuracy: 0.2569\n",
      "Epoch 2/10\n",
      " - 8s - loss: 1.9219 - accuracy: 0.2999\n",
      "Epoch 3/10\n",
      " - 8s - loss: 1.7937 - accuracy: 0.4135\n",
      "Epoch 4/10\n",
      " - 8s - loss: 1.6185 - accuracy: 0.4773\n",
      "Epoch 5/10\n",
      " - 8s - loss: 1.4359 - accuracy: 0.5350\n",
      "Epoch 6/10\n",
      " - 8s - loss: 1.2803 - accuracy: 0.5831\n",
      "Epoch 7/10\n",
      " - 8s - loss: 1.1392 - accuracy: 0.6542\n",
      "Epoch 8/10\n",
      " - 8s - loss: 1.0314 - accuracy: 0.6782\n",
      "Epoch 9/10\n",
      " - 8s - loss: 0.9181 - accuracy: 0.7348\n",
      "Epoch 10/10\n",
      " - 8s - loss: 0.7998 - accuracy: 0.7790\n",
      "Epoch 1/10\n",
      " - 8s - loss: 2.0198 - accuracy: 0.2574\n",
      "Epoch 2/10\n",
      " - 8s - loss: 1.9302 - accuracy: 0.3240\n",
      "Epoch 3/10\n",
      " - 8s - loss: 1.8046 - accuracy: 0.3940\n",
      "Epoch 4/10\n",
      " - 8s - loss: 1.6265 - accuracy: 0.4578\n",
      "Epoch 5/10\n",
      " - 8s - loss: 1.4338 - accuracy: 0.5277\n",
      "Epoch 6/10\n",
      " - 8s - loss: 1.2729 - accuracy: 0.5926\n",
      "Epoch 7/10\n",
      " - 8s - loss: 1.1274 - accuracy: 0.6396\n",
      "Epoch 8/10\n",
      " - 8s - loss: 1.0111 - accuracy: 0.6833\n",
      "Epoch 9/10\n",
      " - 8s - loss: 0.8960 - accuracy: 0.7331\n",
      "Epoch 10/10\n",
      " - 8s - loss: 0.7913 - accuracy: 0.7834\n",
      "Epoch 1/10\n",
      " - 8s - loss: 1.8736 - accuracy: 0.2785\n",
      "Epoch 2/10\n",
      " - 8s - loss: 1.7501 - accuracy: 0.3781\n",
      "Epoch 3/10\n",
      " - 8s - loss: 1.6230 - accuracy: 0.4407\n",
      "Epoch 4/10\n",
      " - 8s - loss: 1.4456 - accuracy: 0.5431\n",
      "Epoch 5/10\n",
      " - 8s - loss: 1.2595 - accuracy: 0.6113\n",
      "Epoch 6/10\n",
      " - 8s - loss: 1.1254 - accuracy: 0.6482\n",
      "Epoch 7/10\n",
      " - 8s - loss: 1.0034 - accuracy: 0.6829\n",
      "Epoch 8/10\n",
      " - 8s - loss: 0.9022 - accuracy: 0.7192\n",
      "Epoch 9/10\n",
      " - 8s - loss: 0.8063 - accuracy: 0.7640\n",
      "Epoch 10/10\n",
      " - 8s - loss: 0.7169 - accuracy: 0.7841\n",
      "Epoch 1/10\n",
      " - 20s - loss: 2.0246 - accuracy: 0.2692\n",
      "Epoch 2/10\n",
      " - 20s - loss: 1.5849 - accuracy: 0.4550\n",
      "Epoch 3/10\n",
      " - 20s - loss: 1.2128 - accuracy: 0.5602\n",
      "Epoch 4/10\n",
      " - 20s - loss: 0.9373 - accuracy: 0.6575\n",
      "Epoch 5/10\n",
      " - 20s - loss: 0.6559 - accuracy: 0.7750\n",
      "Epoch 6/10\n",
      " - 19s - loss: 0.4266 - accuracy: 0.8679\n",
      "Epoch 7/10\n",
      " - 20s - loss: 0.2400 - accuracy: 0.9356\n",
      "Epoch 8/10\n",
      " - 20s - loss: 0.1753 - accuracy: 0.9496\n",
      "Epoch 9/10\n",
      " - 20s - loss: 0.1224 - accuracy: 0.9614\n",
      "Epoch 10/10\n",
      " - 20s - loss: 0.1037 - accuracy: 0.9647\n",
      "Epoch 1/10\n",
      " - 20s - loss: 1.9675 - accuracy: 0.2927\n",
      "Epoch 2/10\n",
      " - 19s - loss: 1.4325 - accuracy: 0.4908\n",
      "Epoch 3/10\n",
      " - 19s - loss: 1.0826 - accuracy: 0.6228\n",
      "Epoch 4/10\n",
      " - 19s - loss: 0.8482 - accuracy: 0.7001\n",
      "Epoch 5/10\n",
      " - 19s - loss: 0.5663 - accuracy: 0.8159\n",
      "Epoch 6/10\n",
      " - 19s - loss: 0.3444 - accuracy: 0.9037\n",
      "Epoch 7/10\n",
      " - 19s - loss: 0.2176 - accuracy: 0.9317\n",
      "Epoch 8/10\n",
      " - 19s - loss: 0.1597 - accuracy: 0.9463\n",
      "Epoch 9/10\n",
      " - 20s - loss: 0.1060 - accuracy: 0.9647\n",
      "Epoch 10/10\n",
      " - 20s - loss: 0.1339 - accuracy: 0.9586\n",
      "Epoch 1/10\n",
      " - 20s - loss: 1.7935 - accuracy: 0.3311\n",
      "Epoch 2/10\n",
      " - 20s - loss: 1.3257 - accuracy: 0.5319\n",
      "Epoch 3/10\n",
      " - 20s - loss: 0.9982 - accuracy: 0.6387\n",
      "Epoch 4/10\n",
      " - 20s - loss: 0.7371 - accuracy: 0.7461\n",
      "Epoch 5/10\n",
      " - 20s - loss: 0.5309 - accuracy: 0.8227\n",
      "Epoch 6/10\n",
      " - 19s - loss: 0.2741 - accuracy: 0.9251\n",
      "Epoch 7/10\n",
      " - 20s - loss: 0.1244 - accuracy: 0.9692\n",
      "Epoch 8/10\n",
      " - 20s - loss: 0.0803 - accuracy: 0.9799\n",
      "Epoch 9/10\n",
      " - 20s - loss: 0.0643 - accuracy: 0.9838\n",
      "Epoch 10/10\n",
      " - 19s - loss: 0.0513 - accuracy: 0.9849\n",
      "Epoch 1/10\n",
      " - 15s - loss: 1.9904 - accuracy: 0.2792\n",
      "Epoch 2/10\n",
      " - 15s - loss: 1.8157 - accuracy: 0.3900\n",
      "Epoch 3/10\n",
      " - 15s - loss: 1.5695 - accuracy: 0.5048\n",
      "Epoch 4/10\n",
      " - 15s - loss: 1.3415 - accuracy: 0.5512\n",
      "Epoch 5/10\n",
      " - 15s - loss: 1.1407 - accuracy: 0.6290\n",
      "Epoch 6/10\n",
      " - 15s - loss: 0.9737 - accuracy: 0.6933\n",
      "Epoch 7/10\n",
      " - 15s - loss: 0.8307 - accuracy: 0.7499\n",
      "Epoch 8/10\n",
      " - 15s - loss: 0.7340 - accuracy: 0.7885\n",
      "Epoch 9/10\n",
      " - 15s - loss: 0.5851 - accuracy: 0.8534\n"
     ]
    },
    {
     "name": "stdout",
     "output_type": "stream",
     "text": [
      "Epoch 10/10\n",
      " - 15s - loss: 0.4789 - accuracy: 0.8948\n",
      "Epoch 1/10\n",
      " - 15s - loss: 2.0016 - accuracy: 0.2742\n",
      "Epoch 2/10\n",
      " - 14s - loss: 1.8332 - accuracy: 0.3721\n",
      "Epoch 3/10\n",
      " - 15s - loss: 1.6194 - accuracy: 0.4773\n",
      "Epoch 4/10\n",
      " - 15s - loss: 1.3698 - accuracy: 0.5568\n",
      "Epoch 5/10\n",
      " - 15s - loss: 1.1604 - accuracy: 0.6161\n",
      "Epoch 6/10\n",
      " - 15s - loss: 0.9976 - accuracy: 0.6844\n",
      "Epoch 7/10\n",
      " - 15s - loss: 0.8520 - accuracy: 0.7465\n",
      "Epoch 8/10\n",
      " - 15s - loss: 0.7256 - accuracy: 0.8019\n",
      "Epoch 9/10\n",
      " - 15s - loss: 0.5933 - accuracy: 0.8422\n",
      "Epoch 10/10\n",
      " - 14s - loss: 0.5031 - accuracy: 0.8691\n",
      "Epoch 1/10\n",
      " - 15s - loss: 1.8465 - accuracy: 0.2975\n",
      "Epoch 2/10\n",
      " - 14s - loss: 1.6650 - accuracy: 0.4251\n",
      "Epoch 3/10\n",
      " - 15s - loss: 1.4222 - accuracy: 0.5375\n",
      "Epoch 4/10\n",
      " - 15s - loss: 1.2026 - accuracy: 0.6023\n",
      "Epoch 5/10\n",
      " - 15s - loss: 1.0268 - accuracy: 0.6812\n",
      "Epoch 6/10\n",
      " - 15s - loss: 0.9053 - accuracy: 0.7097\n",
      "Epoch 7/10\n",
      " - 15s - loss: 0.7631 - accuracy: 0.7796\n",
      "Epoch 8/10\n",
      " - 15s - loss: 0.6292 - accuracy: 0.8261\n",
      "Epoch 9/10\n",
      " - 15s - loss: 0.5347 - accuracy: 0.8479\n",
      "Epoch 10/10\n",
      " - 15s - loss: 0.4281 - accuracy: 0.8876\n",
      "Epoch 1/10\n",
      " - 19s - loss: 1.9900 - accuracy: 0.2770\n",
      "Epoch 2/10\n",
      " - 20s - loss: 1.8136 - accuracy: 0.4018\n",
      "Epoch 3/10\n",
      " - 19s - loss: 1.5640 - accuracy: 0.4813\n",
      "Epoch 4/10\n",
      " - 19s - loss: 1.3241 - accuracy: 0.5691\n",
      "Epoch 5/10\n",
      " - 20s - loss: 1.1328 - accuracy: 0.6435\n",
      "Epoch 6/10\n",
      " - 20s - loss: 0.9723 - accuracy: 0.6995\n",
      "Epoch 7/10\n",
      " - 20s - loss: 0.8483 - accuracy: 0.7420\n",
      "Epoch 8/10\n",
      " - 20s - loss: 0.6820 - accuracy: 0.8176\n",
      "Epoch 9/10\n",
      " - 20s - loss: 0.5615 - accuracy: 0.8702\n",
      "Epoch 10/10\n",
      " - 20s - loss: 0.4676 - accuracy: 0.8858\n",
      "Epoch 1/10\n",
      " - 19s - loss: 1.9929 - accuracy: 0.2949\n",
      "Epoch 2/10\n",
      " - 19s - loss: 1.8152 - accuracy: 0.3649\n",
      "Epoch 3/10\n",
      " - 20s - loss: 1.5670 - accuracy: 0.4835\n",
      "Epoch 4/10\n",
      " - 20s - loss: 1.3108 - accuracy: 0.5769\n",
      "Epoch 5/10\n",
      " - 20s - loss: 1.1093 - accuracy: 0.6402\n",
      "Epoch 6/10\n",
      " - 20s - loss: 0.9562 - accuracy: 0.6973\n",
      "Epoch 7/10\n",
      " - 20s - loss: 0.7834 - accuracy: 0.7734\n",
      "Epoch 8/10\n",
      " - 19s - loss: 0.6691 - accuracy: 0.8092\n",
      "Epoch 9/10\n",
      " - 19s - loss: 0.5649 - accuracy: 0.8495\n",
      "Epoch 10/10\n",
      " - 20s - loss: 0.4538 - accuracy: 0.8881\n",
      "Epoch 1/10\n",
      " - 21s - loss: 1.8433 - accuracy: 0.3009\n",
      "Epoch 2/10\n",
      " - 20s - loss: 1.6431 - accuracy: 0.4407\n",
      "Epoch 3/10\n",
      " - 20s - loss: 1.3797 - accuracy: 0.5431\n",
      "Epoch 4/10\n",
      " - 20s - loss: 1.1657 - accuracy: 0.6174\n",
      "Epoch 5/10\n",
      " - 20s - loss: 1.0054 - accuracy: 0.6773\n",
      "Epoch 6/10\n",
      " - 20s - loss: 0.8752 - accuracy: 0.7232\n",
      "Epoch 7/10\n",
      " - 20s - loss: 0.7570 - accuracy: 0.7718\n",
      "Epoch 8/10\n",
      " - 20s - loss: 0.6091 - accuracy: 0.8283\n",
      "Epoch 9/10\n",
      " - 20s - loss: 0.5181 - accuracy: 0.8596\n",
      "Epoch 10/10\n",
      " - 20s - loss: 0.4162 - accuracy: 0.9044\n",
      "Epoch 1/10\n",
      " - 18s - loss: 1.9906 - accuracy: 0.2748\n",
      "Epoch 2/10\n",
      " - 17s - loss: 1.8415 - accuracy: 0.3705\n",
      "Epoch 3/10\n",
      " - 17s - loss: 1.6265 - accuracy: 0.4712\n",
      "Epoch 4/10\n",
      " - 18s - loss: 1.4039 - accuracy: 0.5238\n",
      "Epoch 5/10\n",
      " - 17s - loss: 1.1991 - accuracy: 0.6122\n",
      "Epoch 6/10\n",
      " - 17s - loss: 1.0453 - accuracy: 0.6659\n",
      "Epoch 7/10\n",
      " - 17s - loss: 0.8847 - accuracy: 0.7420\n",
      "Epoch 8/10\n",
      " - 18s - loss: 0.7577 - accuracy: 0.7918\n",
      "Epoch 9/10\n",
      " - 17s - loss: 0.6280 - accuracy: 0.8372\n",
      "Epoch 10/10\n",
      " - 17s - loss: 0.5296 - accuracy: 0.8819\n",
      "Epoch 1/10\n",
      " - 18s - loss: 2.0068 - accuracy: 0.2664\n",
      "Epoch 2/10\n",
      " - 17s - loss: 1.8564 - accuracy: 0.3755\n",
      "Epoch 3/10\n",
      " - 17s - loss: 1.6330 - accuracy: 0.4734\n",
      "Epoch 4/10\n",
      " - 17s - loss: 1.4259 - accuracy: 0.5215\n",
      "Epoch 5/10\n",
      " - 17s - loss: 1.2167 - accuracy: 0.6038\n",
      "Epoch 6/10\n",
      " - 17s - loss: 1.0542 - accuracy: 0.6575\n",
      "Epoch 7/10\n",
      " - 17s - loss: 0.9210 - accuracy: 0.7258\n",
      "Epoch 8/10\n",
      " - 18s - loss: 0.7845 - accuracy: 0.7717\n",
      "Epoch 9/10\n",
      " - 17s - loss: 0.6593 - accuracy: 0.8349\n",
      "Epoch 10/10\n",
      " - 17s - loss: 0.5481 - accuracy: 0.8685\n",
      "Epoch 1/10\n",
      " - 17s - loss: 1.8491 - accuracy: 0.3076\n",
      "Epoch 2/10\n",
      " - 17s - loss: 1.6840 - accuracy: 0.4340\n",
      "Epoch 3/10\n",
      " - 17s - loss: 1.4581 - accuracy: 0.5313\n",
      "Epoch 4/10\n",
      " - 17s - loss: 1.2423 - accuracy: 0.5979\n",
      "Epoch 5/10\n",
      " - 17s - loss: 1.0715 - accuracy: 0.6594\n",
      "Epoch 6/10\n",
      " - 17s - loss: 0.9352 - accuracy: 0.6985\n",
      "Epoch 7/10\n",
      " - 17s - loss: 0.7944 - accuracy: 0.7601\n",
      "Epoch 8/10\n",
      " - 18s - loss: 0.6881 - accuracy: 0.7936\n",
      "Epoch 9/10\n",
      " - 17s - loss: 0.5812 - accuracy: 0.8395\n",
      "Epoch 10/10\n",
      " - 17s - loss: 0.4697 - accuracy: 0.8848\n",
      "Epoch 1/10\n",
      " - 20s - loss: 2.0210 - accuracy: 0.2692\n",
      "Epoch 2/10\n",
      " - 20s - loss: 1.5478 - accuracy: 0.4650\n",
      "Epoch 3/10\n",
      " - 19s - loss: 1.1643 - accuracy: 0.5837\n",
      "Epoch 4/10\n",
      " - 20s - loss: 0.8930 - accuracy: 0.6883\n",
      "Epoch 5/10\n",
      " - 19s - loss: 0.6746 - accuracy: 0.7756\n",
      "Epoch 6/10\n",
      " - 20s - loss: 0.3733 - accuracy: 0.8830\n",
      "Epoch 7/10\n",
      " - 20s - loss: 0.2240 - accuracy: 0.9356\n",
      "Epoch 8/10\n",
      " - 20s - loss: 0.1676 - accuracy: 0.9536\n",
      "Epoch 9/10\n",
      " - 20s - loss: 0.1952 - accuracy: 0.9328\n",
      "Epoch 10/10\n",
      " - 20s - loss: 0.1534 - accuracy: 0.9513\n",
      "Epoch 1/10\n",
      " - 20s - loss: 2.0185 - accuracy: 0.2798\n",
      "Epoch 2/10\n",
      " - 20s - loss: 1.5557 - accuracy: 0.4578\n",
      "Epoch 3/10\n",
      " - 20s - loss: 1.1968 - accuracy: 0.5708\n",
      "Epoch 4/10\n",
      " - 19s - loss: 0.9199 - accuracy: 0.6827\n",
      "Epoch 5/10\n",
      " - 19s - loss: 0.6317 - accuracy: 0.7991\n",
      "Epoch 6/10\n",
      " - 19s - loss: 0.3991 - accuracy: 0.8752\n",
      "Epoch 7/10\n",
      " - 18s - loss: 0.2505 - accuracy: 0.9306\n",
      "Epoch 8/10\n",
      " - 19s - loss: 0.2079 - accuracy: 0.9334\n",
      "Epoch 9/10\n",
      " - 19s - loss: 0.1592 - accuracy: 0.9502\n",
      "Epoch 10/10\n",
      " - 20s - loss: 0.1333 - accuracy: 0.9513\n",
      "Epoch 1/10\n",
      " - 20s - loss: 1.7926 - accuracy: 0.3361\n",
      "Epoch 2/10\n",
      " - 20s - loss: 1.3244 - accuracy: 0.5185\n",
      "Epoch 3/10\n",
      " - 20s - loss: 1.0187 - accuracy: 0.6477\n",
      "Epoch 4/10\n",
      " - 20s - loss: 0.7167 - accuracy: 0.7522\n",
      "Epoch 5/10\n",
      " - 21s - loss: 0.4780 - accuracy: 0.8417\n",
      "Epoch 6/10\n",
      " - 20s - loss: 0.3330 - accuracy: 0.8898\n",
      "Epoch 7/10\n",
      " - 19s - loss: 0.1331 - accuracy: 0.9692\n",
      "Epoch 8/10\n",
      " - 20s - loss: 0.0827 - accuracy: 0.9804\n",
      "Epoch 9/10\n",
      " - 20s - loss: 0.0627 - accuracy: 0.9838\n",
      "Epoch 10/10\n",
      " - 20s - loss: 0.0497 - accuracy: 0.9871\n",
      "Epoch 1/10\n",
      " - 15s - loss: 2.0227 - accuracy: 0.2720\n",
      "Epoch 2/10\n",
      " - 15s - loss: 1.6539 - accuracy: 0.4298\n",
      "Epoch 3/10\n",
      " - 15s - loss: 1.2802 - accuracy: 0.5568\n",
      "Epoch 4/10\n",
      " - 15s - loss: 1.0493 - accuracy: 0.6312\n",
      "Epoch 5/10\n",
      " - 15s - loss: 0.7713 - accuracy: 0.7415\n",
      "Epoch 6/10\n",
      " - 15s - loss: 0.5608 - accuracy: 0.8293\n",
      "Epoch 7/10\n",
      " - 15s - loss: 0.3497 - accuracy: 0.9015\n",
      "Epoch 8/10\n",
      " - 15s - loss: 0.2433 - accuracy: 0.9306\n",
      "Epoch 9/10\n",
      " - 15s - loss: 0.1832 - accuracy: 0.9429\n",
      "Epoch 10/10\n",
      " - 14s - loss: 0.1291 - accuracy: 0.9603\n",
      "Epoch 1/10\n",
      " - 14s - loss: 2.0015 - accuracy: 0.2736\n",
      "Epoch 2/10\n",
      " - 15s - loss: 1.5777 - accuracy: 0.4667\n",
      "Epoch 3/10\n",
      " - 14s - loss: 1.1971 - accuracy: 0.5949\n",
      "Epoch 4/10\n",
      " - 14s - loss: 0.9094 - accuracy: 0.6810\n",
      "Epoch 5/10\n",
      " - 14s - loss: 0.6708 - accuracy: 0.7868\n",
      "Epoch 6/10\n",
      " - 14s - loss: 0.4954 - accuracy: 0.8394\n",
      "Epoch 7/10\n",
      " - 14s - loss: 0.2981 - accuracy: 0.9183\n",
      "Epoch 8/10\n",
      " - 14s - loss: 0.2342 - accuracy: 0.9340\n",
      "Epoch 9/10\n",
      " - 14s - loss: 0.1515 - accuracy: 0.9564\n",
      "Epoch 10/10\n",
      " - 14s - loss: 0.1353 - accuracy: 0.9569\n",
      "Epoch 1/10\n",
      " - 17s - loss: 1.8038 - accuracy: 0.3345\n",
      "Epoch 2/10\n",
      " - 16s - loss: 1.3036 - accuracy: 0.5559\n",
      "Epoch 3/10\n",
      " - 15s - loss: 1.0570 - accuracy: 0.6342\n",
      "Epoch 4/10\n",
      " - 15s - loss: 0.7726 - accuracy: 0.7427\n",
      "Epoch 5/10\n",
      " - 15s - loss: 0.5801 - accuracy: 0.8110\n",
      "Epoch 6/10\n",
      " - 15s - loss: 0.3555 - accuracy: 0.8915\n",
      "Epoch 7/10\n",
      " - 15s - loss: 0.1884 - accuracy: 0.9508\n",
      "Epoch 8/10\n",
      " - 15s - loss: 0.1114 - accuracy: 0.9709\n",
      "Epoch 9/10\n",
      " - 15s - loss: 0.0764 - accuracy: 0.9855\n",
      "Epoch 10/10\n",
      " - 15s - loss: 0.0695 - accuracy: 0.9871\n"
     ]
    },
    {
     "name": "stderr",
     "output_type": "stream",
     "text": [
      "[Parallel(n_jobs=1)]: Done  30 out of  30 | elapsed: 80.5min finished\n"
     ]
    },
    {
     "name": "stdout",
     "output_type": "stream",
     "text": [
      "Epoch 1/10\n",
      " - 30s - loss: 1.9205 - accuracy: 0.3073\n",
      "Epoch 2/10\n",
      " - 30s - loss: 1.6308 - accuracy: 0.4636\n",
      "Epoch 3/10\n",
      " - 30s - loss: 1.3334 - accuracy: 0.5558\n",
      "Epoch 4/10\n",
      " - 30s - loss: 1.1204 - accuracy: 0.6322\n",
      "Epoch 5/10\n",
      " - 29s - loss: 0.9367 - accuracy: 0.7057\n",
      "Epoch 6/10\n",
      " - 30s - loss: 0.7880 - accuracy: 0.7542\n",
      "Epoch 7/10\n",
      " - 30s - loss: 0.6353 - accuracy: 0.8139\n",
      "Epoch 8/10\n",
      " - 30s - loss: 0.5001 - accuracy: 0.8717\n",
      "Epoch 9/10\n",
      " - 29s - loss: 0.3911 - accuracy: 0.9075\n",
      "Epoch 10/10\n",
      " - 30s - loss: 0.3022 - accuracy: 0.9340\n",
      "Wall time: 1h 25min 36s\n"
     ]
    },
    {
     "data": {
      "text/plain": [
       "RandomizedSearchCV(cv=3, error_score=nan,\n",
       "                   estimator=Pipeline(memory=None,\n",
       "                                      steps=[('nn',\n",
       "                                              <keras.wrappers.scikit_learn.KerasClassifier object at 0x000001DC57CE4D88>)],\n",
       "                                      verbose=False),\n",
       "                   iid='deprecated', n_iter=10, n_jobs=None,\n",
       "                   param_distributions={'nn__layer_one_dropout': [0.1, 0.2,\n",
       "                                                                  0.3],\n",
       "                                        'nn__layer_one_neurons': [2000, 3000,\n",
       "                                                                  4000],\n",
       "                                        'nn__layer_two_dropout': [0.1, 0.2,\n",
       "                                                                  0.3],\n",
       "                                        'nn__layer_two_neurons': [1000, 2000,\n",
       "                                                                  3000],\n",
       "                                        'nn__opt_learning_rate': [0.001,\n",
       "                                                                  0.0001]},\n",
       "                   pre_dispatch='2*n_jobs', random_state=42, refit=True,\n",
       "                   return_train_score=False, scoring=None, verbose=1)"
      ]
     },
     "execution_count": 58,
     "metadata": {},
     "output_type": "execute_result"
    }
   ],
   "source": [
    "%%time\n",
    "now = datetime.datetime.now()\n",
    "print (\"Started fitting at: {}\".format(now.strftime(\"%Y-%m-%d %H:%M:%S\")))\n",
    "rs.fit(X_train, y_train_cat)"
   ]
  },
  {
   "cell_type": "code",
   "execution_count": 59,
   "metadata": {},
   "outputs": [
    {
     "name": "stdout",
     "output_type": "stream",
     "text": [
      "0.5587250391642252\n",
      "{'nn__opt_learning_rate': 0.0001, 'nn__layer_two_neurons': 3000, 'nn__layer_two_dropout': 0.2, 'nn__layer_one_neurons': 4000, 'nn__layer_one_dropout': 0.2}\n"
     ]
    }
   ],
   "source": [
    "print(rs.best_score_)\n",
    "print(rs.best_params_)"
   ]
  },
  {
   "cell_type": "markdown",
   "metadata": {},
   "source": [
    "### Stage 2: Use Early Stopping callback to find optimal number of epochs"
   ]
  },
  {
   "cell_type": "markdown",
   "metadata": {},
   "source": [
    "We now instantiate an updated version of our FNN above based on the optimal parameters, but adjust our model fitting to include an Early Stopping callback so that we can stop the training to minimise overfitting."
   ]
  },
  {
   "cell_type": "code",
   "execution_count": 60,
   "metadata": {},
   "outputs": [],
   "source": [
    "# We redefine the FNN based on the optimal parameters obtained via RandomisedSearchCV above\n",
    "seq_model = Sequential()\n",
    "seq_model.add(Dense(4000, activation='relu', input_dim=X_train.shape[1]))\n",
    "seq_model.add(Dropout(0.2))\n",
    "seq_model.add(Dense(3000, activation='relu'))\n",
    "seq_model.add(Dropout(0.2))\n",
    "seq_model.add(Dense(9, activation='softmax'))"
   ]
  },
  {
   "cell_type": "code",
   "execution_count": 61,
   "metadata": {},
   "outputs": [],
   "source": [
    "# Establish early stopping callback to stop training based on validation loss\n",
    "early_stop = EarlyStopping(monitor='val_loss', min_delta=0, patience=2)"
   ]
  },
  {
   "cell_type": "code",
   "execution_count": 62,
   "metadata": {},
   "outputs": [
    {
     "name": "stdout",
     "output_type": "stream",
     "text": [
      "Train on 2681 samples, validate on 831 samples\n",
      "Epoch 1/50\n",
      "2681/2681 [==============================] - 5s 2ms/step - loss: 2.0173 - accuracy: 0.2566 - val_loss: 1.8272 - val_accuracy: 0.3562\n",
      "Epoch 2/50\n",
      "2681/2681 [==============================] - 5s 2ms/step - loss: 1.9228 - accuracy: 0.2850 - val_loss: 1.8012 - val_accuracy: 0.4152\n",
      "Epoch 3/50\n",
      "2681/2681 [==============================] - 5s 2ms/step - loss: 1.8485 - accuracy: 0.3797 - val_loss: 1.7144 - val_accuracy: 0.4128\n",
      "Epoch 4/50\n",
      "2681/2681 [==============================] - 5s 2ms/step - loss: 1.7532 - accuracy: 0.4207 - val_loss: 1.6143 - val_accuracy: 0.4862\n",
      "Epoch 5/50\n",
      "2681/2681 [==============================] - 5s 2ms/step - loss: 1.6322 - accuracy: 0.5017 - val_loss: 1.5337 - val_accuracy: 0.5162\n",
      "Epoch 6/50\n",
      "2681/2681 [==============================] - 5s 2ms/step - loss: 1.5067 - accuracy: 0.5360 - val_loss: 1.4550 - val_accuracy: 0.5150\n",
      "Epoch 7/50\n",
      "2681/2681 [==============================] - 5s 2ms/step - loss: 1.3805 - accuracy: 0.5722 - val_loss: 1.3899 - val_accuracy: 0.5415\n",
      "Epoch 8/50\n",
      "2681/2681 [==============================] - 5s 2ms/step - loss: 1.2772 - accuracy: 0.5953 - val_loss: 1.3298 - val_accuracy: 0.5740\n",
      "Epoch 9/50\n",
      "2681/2681 [==============================] - 5s 2ms/step - loss: 1.1778 - accuracy: 0.6274 - val_loss: 1.2892 - val_accuracy: 0.5812\n",
      "Epoch 10/50\n",
      "2681/2681 [==============================] - 5s 2ms/step - loss: 1.0743 - accuracy: 0.6669 - val_loss: 1.2644 - val_accuracy: 0.5981\n",
      "Epoch 11/50\n",
      "2681/2681 [==============================] - 5s 2ms/step - loss: 0.9949 - accuracy: 0.6979 - val_loss: 1.2470 - val_accuracy: 0.5812\n",
      "Epoch 12/50\n",
      "2681/2681 [==============================] - 6s 2ms/step - loss: 0.9188 - accuracy: 0.7277 - val_loss: 1.2123 - val_accuracy: 0.5897\n",
      "Epoch 13/50\n",
      "2681/2681 [==============================] - 5s 2ms/step - loss: 0.8334 - accuracy: 0.7617 - val_loss: 1.2210 - val_accuracy: 0.5860\n",
      "Epoch 14/50\n",
      "2681/2681 [==============================] - 5s 2ms/step - loss: 0.7679 - accuracy: 0.7721 - val_loss: 1.2222 - val_accuracy: 0.5884\n"
     ]
    }
   ],
   "source": [
    "seq_model.compile(loss='categorical_crossentropy',\n",
    "                  optimizer=optimizers.Adam(learning_rate=0.0001, beta_2=0.999, amsgrad=False),\n",
    "                  metrics=['accuracy'])\n",
    "seq_history = seq_model.fit(X_train, y_train_cat, validation_data=(X_val, y_val_cat),\n",
    "                            epochs=50, callbacks=[early_stop], batch_size=256, verbose=1)"
   ]
  },
  {
   "cell_type": "code",
   "execution_count": 66,
   "metadata": {},
   "outputs": [
    {
     "data": {
      "image/png": "[encoded data removed]",
      "text/plain": [
       "<Figure size 648x432 with 1 Axes>"
      ]
     },
     "metadata": {
      "image/png": {
       "height": 386,
       "width": 619
      },
      "needs_background": "light"
     },
     "output_type": "display_data"
    }
   ],
   "source": [
    "# Plot training vs validation loss\n",
    "plt.figure(figsize=(9,6))\n",
    "plt.title(\"Training vs Validation Loss\")\n",
    "plt.plot(seq_history.history['loss'], label=\"Training Loss\")\n",
    "plt.plot(seq_history.history['val_loss'], label='Validation Loss')\n",
    "plt.xlabel(\"Epochs\")\n",
    "plt.ylabel(\"Loss (Categorical Crossentropy)\")\n",
    "plt.xticks(np.arange(0, 18, step=1))\n",
    "plt.legend();"
   ]
  },
  {
   "cell_type": "code",
   "execution_count": 67,
   "metadata": {},
   "outputs": [
    {
     "name": "stdout",
     "output_type": "stream",
     "text": [
      "831/831 [==============================] - 0s 552us/step\n",
      "Validation loss: 1.2222408904065294\n",
      "Validation accuracy: 0.588447630405426\n"
     ]
    }
   ],
   "source": [
    "# Display validation loss and accuracy\n",
    "seq_score = seq_model.evaluate(X_val, y_val_cat, verbose=1)\n",
    "seq_labels = seq_model.metrics_names\n",
    "print (\"Validation {}: {}\".format(seq_labels[0], seq_score[0]))\n",
    "print (\"Validation {}: {}\".format(seq_labels[1], seq_score[1]))"
   ]
  },
  {
   "cell_type": "markdown",
   "metadata": {},
   "source": [
    "## Exploring Classifier Option #2: Extra Trees Classifier"
   ]
  },
  {
   "cell_type": "markdown",
   "metadata": {},
   "source": [
    "To manage the total time and resources used to tune the classifier parameters, we use the RandomizedSearchCV to find the optimum parameters for the Extra Trees classifier to give the best 3-way cross-validated accuracy score on the training set, within a maximum of 10 iterations. We did not consider other classifiers due to the limitations of processing power and memory. Additional classifiers could be evaluated as a next step to this Capstone project, akin to the range of classifiers that were evaluated to find the baseline classifier."
   ]
  },
  {
   "cell_type": "code",
   "execution_count": 115,
   "metadata": {},
   "outputs": [],
   "source": [
    "# We have selected the models below for modelling purposes.\n",
    "estimators = {\n",
    "    'etree': ExtraTreesClassifier(random_state=42),\n",
    "}.items()"
   ]
  },
  {
   "cell_type": "code",
   "execution_count": 116,
   "metadata": {},
   "outputs": [],
   "source": [
    "params = {\n",
    "    'etree': {\n",
    "        'etree__n_estimators': [150, 200, 250],\n",
    "        'etree__max_features': ['auto', 'sqrt', 'log2', None],\n",
    "        'etree__min_samples_split': [4, 6, 8],\n",
    "        'etree__min_samples_leaf': [2, 3, 4]\n",
    "    }\n",
    "}"
   ]
  },
  {
   "cell_type": "markdown",
   "metadata": {},
   "source": [
    "We now use RandomizedSearchCV to select the optimal parameters for each classifier that produces the best mean cross-validated accuracy score based on the training dataset."
   ]
  },
  {
   "cell_type": "code",
   "execution_count": 117,
   "metadata": {
    "scrolled": true
   },
   "outputs": [
    {
     "name": "stdout",
     "output_type": "stream",
     "text": [
      "Fitting 5 folds for each of 10 candidates, totalling 50 fits\n"
     ]
    },
    {
     "name": "stderr",
     "output_type": "stream",
     "text": [
      "[Parallel(n_jobs=4)]: Using backend LokyBackend with 4 concurrent workers.\n",
      "[Parallel(n_jobs=4)]: Done  42 tasks      | elapsed: 61.4min\n",
      "[Parallel(n_jobs=4)]: Done  50 out of  50 | elapsed: 70.3min finished\n"
     ]
    },
    {
     "name": "stdout",
     "output_type": "stream",
     "text": [
      "Model:  etree\n",
      "Fitting time (h:m:s): 1:14:50.765381\n",
      "Best parameters: {'etree__n_estimators': 250, 'etree__min_samples_split': 4, 'etree__min_samples_leaf': 2, 'etree__max_features': None}\n",
      "Best accuracy cross validation score: 0.681098696461825\n",
      "Training dataset accuracy: 0.9127191346512495\n",
      "Validation dataset accuracy: 0.6486161251504212\n",
      "\n",
      "Wall time: 1h 14min 50s\n"
     ]
    }
   ],
   "source": [
    "%%time\n",
    "# initialise empty lists to store information later\n",
    "models = []\n",
    "parameters = []\n",
    "train_accuracy = []\n",
    "val_accuracy = []\n",
    "best_score = []\n",
    "train_roc_auc = []\n",
    "val_roc_auc = []\n",
    "sensitivity = []\n",
    "\n",
    "for k,v in estimators:\n",
    "    start = time.time()\n",
    "    pipe = Pipeline([(k,v)])\n",
    "    param = params[k]\n",
    "    randomsearch = RandomizedSearchCV(\n",
    "        n_iter=10, # we set a max. of 10 iterations\n",
    "        estimator=pipe,\n",
    "        random_state=42,\n",
    "        param_distributions=param,\n",
    "        verbose=1,\n",
    "        cv= 5,\n",
    "        # We limit the no. of jobs to ensure sufficient memory for successful execution\n",
    "        n_jobs=4,\n",
    "        return_train_score= True,\n",
    "        # RandomizedSearchCV will use best cross-validation accuracy score to determine best parameters\n",
    "        scoring = 'accuracy' \n",
    "    )\n",
    "\n",
    "    randomsearch.fit(X_train, y_train)\n",
    "    \n",
    "    model = randomsearch.best_estimator_\n",
    "    cv_score = randomsearch.cv_results_\n",
    "    best_params = randomsearch.best_params_\n",
    "\n",
    "    # predict y\n",
    "    y_pred_train = model.predict(X_train)\n",
    "    y_pred_val = model.predict(X_val)\n",
    "    \n",
    "    # print results\n",
    "    print (\"Model: \", k)\n",
    "    print (\"Fitting time (h:m:s): {}\".format(str(datetime.timedelta(seconds=time.time()-start))))\n",
    "    print (\"Best parameters:\", best_params)\n",
    "    print (\"Best accuracy cross validation score:\", randomsearch.best_score_)\n",
    "    print (\"Training dataset accuracy:\", accuracy_score(y_train,y_pred_train))\n",
    "    print (\"Validation dataset accuracy:\", accuracy_score(y_val,y_pred_val))\n",
    "    print (\"\")\n",
    "    \n",
    "    # append info to list\n",
    "    models.append(k)\n",
    "    best_score.append(randomsearch.best_score_)\n",
    "    parameters.append(best_params)\n",
    "    train_accuracy.append(accuracy_score(y_train,y_pred_train))\n",
    "    val_accuracy.append(accuracy_score(y_val,y_pred_val))"
   ]
  },
  {
   "cell_type": "code",
   "execution_count": 87,
   "metadata": {
    "scrolled": false
   },
   "outputs": [
    {
     "ename": "NameError",
     "evalue": "name 'models' is not defined",
     "output_type": "error",
     "traceback": [
      "\u001b[1;31m---------------------------------------------------------------------------\u001b[0m",
      "\u001b[1;31mNameError\u001b[0m                                 Traceback (most recent call last)",
      "\u001b[1;32m<ipython-input-87-61b156716ca0>\u001b[0m in \u001b[0;36m<module>\u001b[1;34m\u001b[0m\n\u001b[0;32m      1\u001b[0m \u001b[1;31m# Produce a summary table of the tuned classifier(s)\u001b[0m\u001b[1;33m\u001b[0m\u001b[1;33m\u001b[0m\u001b[1;33m\u001b[0m\u001b[0m\n\u001b[0;32m      2\u001b[0m summary = pd.DataFrame({\n\u001b[1;32m----> 3\u001b[1;33m     \u001b[1;34m'model'\u001b[0m\u001b[1;33m:\u001b[0m \u001b[0mmodels\u001b[0m\u001b[1;33m,\u001b[0m\u001b[1;33m\u001b[0m\u001b[1;33m\u001b[0m\u001b[0m\n\u001b[0m\u001b[0;32m      4\u001b[0m     \u001b[1;34m'parameters'\u001b[0m\u001b[1;33m:\u001b[0m \u001b[0mparameters\u001b[0m\u001b[1;33m,\u001b[0m\u001b[1;33m\u001b[0m\u001b[1;33m\u001b[0m\u001b[0m\n\u001b[0;32m      5\u001b[0m     \u001b[1;34m'Best accuracy cross validation score'\u001b[0m\u001b[1;33m:\u001b[0m \u001b[0mbest_score\u001b[0m\u001b[1;33m,\u001b[0m\u001b[1;33m\u001b[0m\u001b[1;33m\u001b[0m\u001b[0m\n",
      "\u001b[1;31mNameError\u001b[0m: name 'models' is not defined"
     ]
    }
   ],
   "source": [
    "# Produce a summary table of the tuned classifier(s)\n",
    "summary = pd.DataFrame({\n",
    "    'model': models,\n",
    "    'parameters': parameters,\n",
    "    'Best accuracy cross validation score': best_score,\n",
    "    'Training dataset accuracy': train_accuracy,\n",
    "    'Validation dataset accuracy': val_accuracy\n",
    "    })\n",
    "\n",
    "pd.set_option('display.max_colwidth', None)\n",
    "summary.sort_values('Validation dataset accuracy', ascending=False).reset_index(drop=True)"
   ]
  },
  {
   "cell_type": "markdown",
   "metadata": {},
   "source": [
    "## Confirmation of Alternative Model"
   ]
  },
  {
   "cell_type": "markdown",
   "metadata": {},
   "source": [
    "<div class=\"alert alert-block alert-info\">\n",
    "    \n",
    "Comparing the validation dataset accuracy, we have:\n",
    "    <ul>\n",
    "        <li> `0.58845` for FNN Classifier</li>\n",
    "        <li> `0.64862` for the Extra Trees Classifier</li>\n",
    "    </ul>\n",
    "<br>\n",
    "    Based on the highest score above, our best alternative model is therefore the <b>Extra Trees classifier</b> trained on <b>Word2Vec word embeddings</b> using the <b>Mean Embedding Vectorizer</b>.\n",
    "\n",
    "We note that the validation (dataset) accuracy of this model (`0.64862`) is <b>lower</b> than the baseline model (`0.66787`), which suggests that the alternative model is <b>more overfitted</b> than the baseline model. We now generate predictions based on the chosen alternative model so that we can obtain the Kaggle score in notebook 5.\n",
    "</div>"
   ]
  },
  {
   "cell_type": "markdown",
   "metadata": {},
   "source": [
    "## Further Exploration of Alternative Model"
   ]
  },
  {
   "cell_type": "code",
   "execution_count": 71,
   "metadata": {},
   "outputs": [],
   "source": [
    "# We instantiate the best classifier based on the best parameters found above\n",
    "alternative_clf = ExtraTreesClassifier(verbose=1, n_jobs=4, random_state=42, n_estimators=250,\n",
    "                                       min_samples_split=4, min_samples_leaf=2, max_features=None)"
   ]
  },
  {
   "cell_type": "code",
   "execution_count": 72,
   "metadata": {
    "scrolled": false
   },
   "outputs": [
    {
     "name": "stderr",
     "output_type": "stream",
     "text": [
      "[Parallel(n_jobs=4)]: Using backend ThreadingBackend with 4 concurrent workers.\n",
      "[Parallel(n_jobs=4)]: Done  42 tasks      | elapsed:    4.1s\n",
      "[Parallel(n_jobs=4)]: Done 192 tasks      | elapsed:   19.3s\n"
     ]
    },
    {
     "name": "stdout",
     "output_type": "stream",
     "text": [
      "Wall time: 25.6 s\n"
     ]
    },
    {
     "name": "stderr",
     "output_type": "stream",
     "text": [
      "[Parallel(n_jobs=4)]: Done 250 out of 250 | elapsed:   25.3s finished\n"
     ]
    },
    {
     "data": {
      "text/plain": [
       "ExtraTreesClassifier(bootstrap=False, ccp_alpha=0.0, class_weight=None,\n",
       "                     criterion='gini', max_depth=None, max_features=None,\n",
       "                     max_leaf_nodes=None, max_samples=None,\n",
       "                     min_impurity_decrease=0.0, min_impurity_split=None,\n",
       "                     min_samples_leaf=2, min_samples_split=4,\n",
       "                     min_weight_fraction_leaf=0.0, n_estimators=250, n_jobs=4,\n",
       "                     oob_score=False, random_state=42, verbose=1,\n",
       "                     warm_start=False)"
      ]
     },
     "execution_count": 72,
     "metadata": {},
     "output_type": "execute_result"
    }
   ],
   "source": [
    "%%time\n",
    "# Fit the best classifier on the training dataset\n",
    "alternative_clf.fit(X_train, y_train)"
   ]
  },
  {
   "cell_type": "markdown",
   "metadata": {},
   "source": [
    "### ROC Curve & Metrics"
   ]
  },
  {
   "cell_type": "code",
   "execution_count": 73,
   "metadata": {
    "scrolled": true
   },
   "outputs": [
    {
     "name": "stderr",
     "output_type": "stream",
     "text": [
      "[Parallel(n_jobs=4)]: Using backend ThreadingBackend with 4 concurrent workers.\n",
      "[Parallel(n_jobs=4)]: Done  42 tasks      | elapsed:    0.0s\n",
      "[Parallel(n_jobs=4)]: Done 192 tasks      | elapsed:    0.0s\n",
      "[Parallel(n_jobs=4)]: Done 250 out of 250 | elapsed:    0.0s finished\n"
     ]
    }
   ],
   "source": [
    "# Generate predictions for the validation data based on our baseline model\n",
    "y_val_pred = alternative_clf.predict(X_val)"
   ]
  },
  {
   "cell_type": "code",
   "execution_count": 121,
   "metadata": {},
   "outputs": [],
   "source": [
    "# Binarize the output\n",
    "y_train_binarized = label_binarize(y_train, classes=list(np.unique(y)))\n",
    "y_val_pred_binarized = label_binarize(y_val_pred, classes=list(np.unique(y)))\n",
    "n_classes = len(np.unique(y))"
   ]
  },
  {
   "cell_type": "code",
   "execution_count": 122,
   "metadata": {},
   "outputs": [
    {
     "name": "stdout",
     "output_type": "stream",
     "text": [
      "Wall time: 13min 14s\n"
     ]
    }
   ],
   "source": [
    "%%time\n",
    "now = datetime.datetime.now()\n",
    "print (\"Started fitting at: {}\".format(now.strftime(\"%Y-%m-%d %H:%M:%S\")))\n",
    "# We obtain the distances of each sample from the decision boundary for each class\n",
    "classifier = OneVsRestClassifier(svm.SVC(kernel='linear', probability=True,\n",
    "                                 random_state=42, verbose=1), n_jobs=2)\n",
    "y_score = classifier.fit(X_train, y_train_binarized).decision_function(X_val)"
   ]
  },
  {
   "cell_type": "code",
   "execution_count": 123,
   "metadata": {},
   "outputs": [],
   "source": [
    "# Compute ROC curve and ROC area for each class\n",
    "fpr = dict()\n",
    "tpr = dict()\n",
    "roc_auc = dict()\n",
    "for i in range(n_classes):\n",
    "    # we compare our predicted labels for the validation dataset and the actual validation dataset labels\n",
    "    fpr[i], tpr[i], _ = roc_curve(y_val_pred_binarized[:, i], y_score[:, i])\n",
    "    roc_auc[i] = auc(fpr[i], tpr[i])\n",
    "\n",
    "# Compute micro-average ROC curve and ROC area\n",
    "fpr[\"micro\"], tpr[\"micro\"], _ = roc_curve(y_val_pred_binarized.ravel(), y_score.ravel())\n",
    "roc_auc[\"micro\"] = auc(fpr[\"micro\"], tpr[\"micro\"])"
   ]
  },
  {
   "cell_type": "markdown",
   "metadata": {},
   "source": [
    "We plot ROC curves for all the 9 classes."
   ]
  },
  {
   "cell_type": "code",
   "execution_count": 124,
   "metadata": {},
   "outputs": [
    {
     "data": {
      "image/png": "[encoded data removed]",
      "text/plain": [
       "<Figure size 864x576 with 1 Axes>"
      ]
     },
     "metadata": {
      "image/png": {
       "height": 495,
       "width": 809
      },
      "needs_background": "light"
     },
     "output_type": "display_data"
    }
   ],
   "source": [
    "# First aggregate all false positive rates\n",
    "all_fpr = np.unique(np.concatenate([fpr[i] for i in range(n_classes)]))\n",
    "\n",
    "# Then interpolate all ROC curves at this points\n",
    "mean_tpr = np.zeros_like(all_fpr)\n",
    "for i in range(n_classes):\n",
    "    mean_tpr += np.interp(all_fpr, fpr[i], tpr[i])\n",
    "\n",
    "# Finally average it and compute AUC\n",
    "mean_tpr /= n_classes\n",
    "\n",
    "fpr[\"macro\"] = all_fpr\n",
    "tpr[\"macro\"] = mean_tpr\n",
    "roc_auc[\"macro\"] = auc(fpr[\"macro\"], tpr[\"macro\"])\n",
    "\n",
    "# Plot all ROC curves\n",
    "plt.figure(figsize=(12,8))\n",
    "plt.plot(fpr[\"micro\"], tpr[\"micro\"],\n",
    "         label='micro-average ROC curve (area = {0:0.2f})'\n",
    "               ''.format(roc_auc[\"micro\"]),\n",
    "         color='deeppink', linestyle=':', linewidth=4)\n",
    "\n",
    "plt.plot(fpr[\"macro\"], tpr[\"macro\"],\n",
    "         label='macro-average ROC curve (area = {0:0.2f})'\n",
    "               ''.format(roc_auc[\"macro\"]),\n",
    "         color='navy', linestyle=':', linewidth=4)\n",
    "\n",
    "lw=2\n",
    "colors = cycle(['rosybrown', 'firebrick', 'sienna', 'olivedrab', 'darkgreen',\\\n",
    "                'lightseagreen', 'darkturquoise', 'b', 'darkorange'])\n",
    "for i, color in zip(range(n_classes), colors):\n",
    "    plt.plot(fpr[i], tpr[i], color=color, lw=lw,\n",
    "             label='ROC curve of class {0} (area = {1:0.2f})'\n",
    "             ''.format(i+1, roc_auc[i]))\n",
    "\n",
    "plt.plot([0, 1], [0, 1], 'k--', lw=lw)\n",
    "plt.xlim([0.0, 1.0])\n",
    "plt.ylim([0.0, 1.05])\n",
    "plt.xlabel('False Positive Rate')\n",
    "plt.ylabel('True Positive Rate')\n",
    "plt.title('ROC Curve for Multiple Classes')\n",
    "plt.legend(loc=\"lower right\")\n",
    "plt.show()"
   ]
  },
  {
   "cell_type": "markdown",
   "metadata": {},
   "source": [
    "We observe above that the AUC scores for all the 9 classes are very high, even though the classes in the original training dataset were highly imbalanced."
   ]
  },
  {
   "cell_type": "code",
   "execution_count": 77,
   "metadata": {},
   "outputs": [
    {
     "name": "stdout",
     "output_type": "stream",
     "text": [
      "Counter({7: 307, 4: 173, 1: 132, 2: 83, 6: 52, 5: 52, 3: 19, 9: 11, 8: 2})\n"
     ]
    }
   ],
   "source": [
    "# summarize class distribution\n",
    "print (Counter(y_val_pred))"
   ]
  },
  {
   "cell_type": "code",
   "execution_count": 75,
   "metadata": {
    "scrolled": true
   },
   "outputs": [
    {
     "data": {
      "image/png": "[encoded data removed]",
      "text/plain": [
       "<Figure size 432x288 with 1 Axes>"
      ]
     },
     "metadata": {
      "image/png": {
       "height": 277,
       "width": 489
      },
      "needs_background": "light"
     },
     "output_type": "display_data"
    }
   ],
   "source": [
    "plt.figure()\n",
    "plt.title(\"Frequency Distribution of Predicted Classes for Validation Dataset\")\n",
    "sns.countplot(y_val_pred)\n",
    "plt.xlabel(\"Predicted Class\");"
   ]
  },
  {
   "cell_type": "code",
   "execution_count": 80,
   "metadata": {
    "scrolled": false
   },
   "outputs": [
    {
     "name": "stdout",
     "output_type": "stream",
     "text": [
      "              precision    recall  f1-score   support\n",
      "\n",
      "     class 1       0.68      0.63      0.66       142\n",
      "     class 2       0.61      0.45      0.52       113\n",
      "     class 3       0.37      0.32      0.34        22\n",
      "     class 4       0.70      0.70      0.70       172\n",
      "     class 5       0.37      0.31      0.34        61\n",
      "     class 6       0.79      0.59      0.68        69\n",
      "     class 7       0.65      0.84      0.73       238\n",
      "     class 8       0.00      0.00      0.00         5\n",
      "     class 9       0.64      0.78      0.70         9\n",
      "\n",
      "    accuracy                           0.64       831\n",
      "   macro avg       0.53      0.51      0.52       831\n",
      "weighted avg       0.64      0.64      0.63       831\n",
      "\n"
     ]
    }
   ],
   "source": [
    "# Print classification report\n",
    "target_names = ['class 1', 'class 2', 'class 3', 'class 4', 'class 5',\n",
    "                'class 6', 'class 7', 'class 8', 'class 9']\n",
    "print(classification_report(y_val, y_val_pred, target_names=target_names))"
   ]
  },
  {
   "cell_type": "markdown",
   "metadata": {},
   "source": [
    "We now display the balanced accuracy based on the validation dataset, which can cater to imbalanced datasets. It is defined as the weighted average of recall obtained on each class."
   ]
  },
  {
   "cell_type": "code",
   "execution_count": 88,
   "metadata": {
    "scrolled": true
   },
   "outputs": [
    {
     "name": "stdout",
     "output_type": "stream",
     "text": [
      "Balanced accuracy score: 0.5140434423056277\n"
     ]
    }
   ],
   "source": [
    "print (\"Balanced accuracy score: {}\".format(metrics.balanced_accuracy_score(y_val, y_val_pred)))"
   ]
  },
  {
   "cell_type": "markdown",
   "metadata": {},
   "source": [
    "## Evaluation of Alternative Model vs Baseline Model"
   ]
  },
  {
   "cell_type": "markdown",
   "metadata": {},
   "source": [
    "<div class=\"alert alert-block alert-info\">\n",
    "    \n",
    "(To be written)\n",
    "    \n",
    "</div>"
   ]
  },
  {
   "cell_type": "markdown",
   "metadata": {},
   "source": [
    "## Data Export (for Kaggle Submission)"
   ]
  },
  {
   "cell_type": "code",
   "execution_count": 81,
   "metadata": {
    "scrolled": true
   },
   "outputs": [
    {
     "name": "stderr",
     "output_type": "stream",
     "text": [
      "[Parallel(n_jobs=4)]: Using backend ThreadingBackend with 4 concurrent workers.\n",
      "[Parallel(n_jobs=4)]: Done  42 tasks      | elapsed:    0.0s\n",
      "[Parallel(n_jobs=4)]: Done 192 tasks      | elapsed:    0.0s\n",
      "[Parallel(n_jobs=4)]: Done 250 out of 250 | elapsed:    0.0s finished\n"
     ]
    }
   ],
   "source": [
    "y_test_pred = alternative_clf.predict(X_test)"
   ]
  },
  {
   "cell_type": "code",
   "execution_count": 82,
   "metadata": {},
   "outputs": [
    {
     "data": {
      "text/plain": [
       "(986,)"
      ]
     },
     "execution_count": 82,
     "metadata": {},
     "output_type": "execute_result"
    }
   ],
   "source": [
    "y_test_pred.shape"
   ]
  },
  {
   "cell_type": "code",
   "execution_count": 83,
   "metadata": {},
   "outputs": [],
   "source": [
    "# Restore the 'id' column since we need this for the Kaggle submission\n",
    "test_pred = pd.concat([test['id'], pd.DataFrame(y_test_pred, columns=['class'])], axis=1)"
   ]
  },
  {
   "cell_type": "code",
   "execution_count": 84,
   "metadata": {},
   "outputs": [
    {
     "data": {
      "text/plain": [
       "7    584\n",
       "4    158\n",
       "1    118\n",
       "2     58\n",
       "5     25\n",
       "6     19\n",
       "3     10\n",
       "8      9\n",
       "9      5\n",
       "Name: class, dtype: int64"
      ]
     },
     "execution_count": 84,
     "metadata": {},
     "output_type": "execute_result"
    }
   ],
   "source": [
    "# Verify that we have a mix of predictions for variation classes\n",
    "test_pred['class'].value_counts()"
   ]
  },
  {
   "cell_type": "code",
   "execution_count": 85,
   "metadata": {
    "scrolled": true
   },
   "outputs": [
    {
     "data": {
      "text/html": [
       "<div>\n",
       "<style scoped>\n",
       "    .dataframe tbody tr th:only-of-type {\n",
       "        vertical-align: middle;\n",
       "    }\n",
       "\n",
       "    .dataframe tbody tr th {\n",
       "        vertical-align: top;\n",
       "    }\n",
       "\n",
       "    .dataframe thead th {\n",
       "        text-align: right;\n",
       "    }\n",
       "</style>\n",
       "<table border=\"1\" class=\"dataframe\">\n",
       "  <thead>\n",
       "    <tr style=\"text-align: right;\">\n",
       "      <th></th>\n",
       "      <th>id</th>\n",
       "      <th>class</th>\n",
       "    </tr>\n",
       "  </thead>\n",
       "  <tbody>\n",
       "    <tr>\n",
       "      <th>0</th>\n",
       "      <td>1</td>\n",
       "      <td>4</td>\n",
       "    </tr>\n",
       "    <tr>\n",
       "      <th>1</th>\n",
       "      <td>2</td>\n",
       "      <td>1</td>\n",
       "    </tr>\n",
       "    <tr>\n",
       "      <th>2</th>\n",
       "      <td>3</td>\n",
       "      <td>7</td>\n",
       "    </tr>\n",
       "    <tr>\n",
       "      <th>3</th>\n",
       "      <td>4</td>\n",
       "      <td>1</td>\n",
       "    </tr>\n",
       "    <tr>\n",
       "      <th>4</th>\n",
       "      <td>5</td>\n",
       "      <td>7</td>\n",
       "    </tr>\n",
       "  </tbody>\n",
       "</table>\n",
       "</div>"
      ],
      "text/plain": [
       "   id  class\n",
       "0   1      4\n",
       "1   2      1\n",
       "2   3      7\n",
       "3   4      1\n",
       "4   5      7"
      ]
     },
     "execution_count": 85,
     "metadata": {},
     "output_type": "execute_result"
    }
   ],
   "source": [
    "test_pred.head()"
   ]
  },
  {
   "cell_type": "code",
   "execution_count": 86,
   "metadata": {},
   "outputs": [],
   "source": [
    "# We export the predictions\n",
    "test_pred.to_csv(\"../assets/test_pred.csv\", index=False)"
   ]
  },
  {
   "cell_type": "code",
   "execution_count": null,
   "metadata": {},
   "outputs": [],
   "source": []
  }
 ],
 "metadata": {
  "kernelspec": {
   "display_name": "Python 3",
   "language": "python",
   "name": "python3"
  },
  "language_info": {
   "codemirror_mode": {
    "name": "ipython",
    "version": 3
   },
   "file_extension": ".py",
   "mimetype": "text/x-python",
   "name": "python",
   "nbconvert_exporter": "python",
   "pygments_lexer": "ipython3",
   "version": "3.7.4"
  }
 },
 "nbformat": 4,
 "nbformat_minor": 2
}
